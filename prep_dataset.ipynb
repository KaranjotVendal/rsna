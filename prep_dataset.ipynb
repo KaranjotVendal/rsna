{
 "cells": [
  {
   "cell_type": "code",
   "execution_count": 1,
   "id": "8392f214-d40d-4520-9335-44d361ca3e8c",
   "metadata": {},
   "outputs": [],
   "source": [
    "import time\n",
    "from os import listdir, path\n",
    "\n",
    "import numpy as np\n",
    "import pandas as pd\n",
    "from sklearn.model_selection import StratifiedKFold\n",
    "from sklearn.model_selection import train_test_split"
   ]
  },
  {
   "cell_type": "code",
   "execution_count": 2,
   "id": "dd826d88-d1a5-4c0c-8d93-5045c26ff1ce",
   "metadata": {},
   "outputs": [],
   "source": [
    "p = r'output_8bit_new_Filter_Reduced/reduced_dataset'"
   ]
  },
  {
   "cell_type": "code",
   "execution_count": 3,
   "id": "9846646c-2488-43b3-99dd-992396c860b5",
   "metadata": {},
   "outputs": [],
   "source": [
    "data = []\n",
    "for id in listdir(p):\n",
    "    list = []\n",
    "    list.append(id)\n",
    "    f_path = path.join(p,id)\n",
    "    \n",
    "    for modality in listdir(f_path):\n",
    "        m_path = path.join(f_path,modality)\n",
    "        count = len(listdir(m_path))\n",
    "        list.append(int(count))\n",
    "    data.append(list)    "
   ]
  },
  {
   "cell_type": "code",
   "execution_count": 4,
   "id": "a3e26243-db31-4426-8bdb-5812b0166c2d",
   "metadata": {},
   "outputs": [],
   "source": [
    "df = pd.DataFrame(data, columns=['patient_id', 'flair', 't1w', 't1wCE', 't2w'])"
   ]
  },
  {
   "cell_type": "code",
   "execution_count": 5,
   "id": "247b39f8-7fb5-4522-bed5-e36bc471420c",
   "metadata": {},
   "outputs": [
    {
     "data": {
      "text/html": [
       "<div>\n",
       "<style scoped>\n",
       "    .dataframe tbody tr th:only-of-type {\n",
       "        vertical-align: middle;\n",
       "    }\n",
       "\n",
       "    .dataframe tbody tr th {\n",
       "        vertical-align: top;\n",
       "    }\n",
       "\n",
       "    .dataframe thead th {\n",
       "        text-align: right;\n",
       "    }\n",
       "</style>\n",
       "<table border=\"1\" class=\"dataframe\">\n",
       "  <thead>\n",
       "    <tr style=\"text-align: right;\">\n",
       "      <th></th>\n",
       "      <th>flair</th>\n",
       "      <th>t1w</th>\n",
       "      <th>t1wCE</th>\n",
       "      <th>t2w</th>\n",
       "    </tr>\n",
       "  </thead>\n",
       "  <tbody>\n",
       "    <tr>\n",
       "      <th>count</th>\n",
       "      <td>585.000000</td>\n",
       "      <td>585.000000</td>\n",
       "      <td>585.000000</td>\n",
       "      <td>585.000000</td>\n",
       "    </tr>\n",
       "    <tr>\n",
       "      <th>mean</th>\n",
       "      <td>84.692308</td>\n",
       "      <td>69.998291</td>\n",
       "      <td>84.962393</td>\n",
       "      <td>64.261538</td>\n",
       "    </tr>\n",
       "    <tr>\n",
       "      <th>std</th>\n",
       "      <td>74.736416</td>\n",
       "      <td>45.096301</td>\n",
       "      <td>40.890791</td>\n",
       "      <td>48.902702</td>\n",
       "    </tr>\n",
       "    <tr>\n",
       "      <th>min</th>\n",
       "      <td>0.000000</td>\n",
       "      <td>0.000000</td>\n",
       "      <td>10.000000</td>\n",
       "      <td>0.000000</td>\n",
       "    </tr>\n",
       "    <tr>\n",
       "      <th>25%</th>\n",
       "      <td>32.000000</td>\n",
       "      <td>20.000000</td>\n",
       "      <td>59.000000</td>\n",
       "      <td>32.000000</td>\n",
       "    </tr>\n",
       "    <tr>\n",
       "      <th>50%</th>\n",
       "      <td>35.000000</td>\n",
       "      <td>96.000000</td>\n",
       "      <td>98.000000</td>\n",
       "      <td>35.000000</td>\n",
       "    </tr>\n",
       "    <tr>\n",
       "      <th>75%</th>\n",
       "      <td>188.000000</td>\n",
       "      <td>101.000000</td>\n",
       "      <td>103.000000</td>\n",
       "      <td>101.000000</td>\n",
       "    </tr>\n",
       "    <tr>\n",
       "      <th>max</th>\n",
       "      <td>254.000000</td>\n",
       "      <td>203.000000</td>\n",
       "      <td>203.000000</td>\n",
       "      <td>250.000000</td>\n",
       "    </tr>\n",
       "  </tbody>\n",
       "</table>\n",
       "</div>"
      ],
      "text/plain": [
       "            flair         t1w       t1wCE         t2w\n",
       "count  585.000000  585.000000  585.000000  585.000000\n",
       "mean    84.692308   69.998291   84.962393   64.261538\n",
       "std     74.736416   45.096301   40.890791   48.902702\n",
       "min      0.000000    0.000000   10.000000    0.000000\n",
       "25%     32.000000   20.000000   59.000000   32.000000\n",
       "50%     35.000000   96.000000   98.000000   35.000000\n",
       "75%    188.000000  101.000000  103.000000  101.000000\n",
       "max    254.000000  203.000000  203.000000  250.000000"
      ]
     },
     "execution_count": 5,
     "metadata": {},
     "output_type": "execute_result"
    }
   ],
   "source": [
    "df.describe()"
   ]
  },
  {
   "cell_type": "code",
   "execution_count": 6,
   "id": "04001f6e-08f5-4c67-aa63-9764155b9e6a",
   "metadata": {},
   "outputs": [],
   "source": [
    "df.to_csv('metadata.csv',index=False)"
   ]
  },
  {
   "cell_type": "code",
   "execution_count": null,
   "id": "43f03bf6-97a7-402e-bf37-92f1e5a84764",
   "metadata": {},
   "outputs": [],
   "source": []
  },
  {
   "cell_type": "code",
   "execution_count": 2,
   "id": "bab54494-ecab-4d4c-863e-605f8179739e",
   "metadata": {},
   "outputs": [
    {
     "data": {
      "text/html": [
       "<div>\n",
       "<style scoped>\n",
       "    .dataframe tbody tr th:only-of-type {\n",
       "        vertical-align: middle;\n",
       "    }\n",
       "\n",
       "    .dataframe tbody tr th {\n",
       "        vertical-align: top;\n",
       "    }\n",
       "\n",
       "    .dataframe thead th {\n",
       "        text-align: right;\n",
       "    }\n",
       "</style>\n",
       "<table border=\"1\" class=\"dataframe\">\n",
       "  <thead>\n",
       "    <tr style=\"text-align: right;\">\n",
       "      <th></th>\n",
       "      <th>patient_id</th>\n",
       "      <th>flair</th>\n",
       "      <th>t1w</th>\n",
       "      <th>t1wCE</th>\n",
       "      <th>t2w</th>\n",
       "    </tr>\n",
       "  </thead>\n",
       "  <tbody>\n",
       "    <tr>\n",
       "      <th>0</th>\n",
       "      <td>123</td>\n",
       "      <td>0</td>\n",
       "      <td>0</td>\n",
       "      <td>15</td>\n",
       "      <td>14</td>\n",
       "    </tr>\n",
       "    <tr>\n",
       "      <th>1</th>\n",
       "      <td>516</td>\n",
       "      <td>193</td>\n",
       "      <td>20</td>\n",
       "      <td>96</td>\n",
       "      <td>100</td>\n",
       "    </tr>\n",
       "    <tr>\n",
       "      <th>2</th>\n",
       "      <td>110</td>\n",
       "      <td>14</td>\n",
       "      <td>45</td>\n",
       "      <td>45</td>\n",
       "      <td>14</td>\n",
       "    </tr>\n",
       "    <tr>\n",
       "      <th>3</th>\n",
       "      <td>454</td>\n",
       "      <td>16</td>\n",
       "      <td>96</td>\n",
       "      <td>96</td>\n",
       "      <td>16</td>\n",
       "    </tr>\n",
       "    <tr>\n",
       "      <th>4</th>\n",
       "      <td>784</td>\n",
       "      <td>18</td>\n",
       "      <td>50</td>\n",
       "      <td>18</td>\n",
       "      <td>17</td>\n",
       "    </tr>\n",
       "    <tr>\n",
       "      <th>...</th>\n",
       "      <td>...</td>\n",
       "      <td>...</td>\n",
       "      <td>...</td>\n",
       "      <td>...</td>\n",
       "      <td>...</td>\n",
       "    </tr>\n",
       "    <tr>\n",
       "      <th>580</th>\n",
       "      <td>513</td>\n",
       "      <td>91</td>\n",
       "      <td>167</td>\n",
       "      <td>169</td>\n",
       "      <td>110</td>\n",
       "    </tr>\n",
       "    <tr>\n",
       "      <th>581</th>\n",
       "      <td>797</td>\n",
       "      <td>16</td>\n",
       "      <td>17</td>\n",
       "      <td>17</td>\n",
       "      <td>17</td>\n",
       "    </tr>\n",
       "    <tr>\n",
       "      <th>582</th>\n",
       "      <td>613</td>\n",
       "      <td>184</td>\n",
       "      <td>96</td>\n",
       "      <td>95</td>\n",
       "      <td>100</td>\n",
       "    </tr>\n",
       "    <tr>\n",
       "      <th>583</th>\n",
       "      <td>132</td>\n",
       "      <td>65</td>\n",
       "      <td>32</td>\n",
       "      <td>32</td>\n",
       "      <td>32</td>\n",
       "    </tr>\n",
       "    <tr>\n",
       "      <th>584</th>\n",
       "      <td>751</td>\n",
       "      <td>200</td>\n",
       "      <td>101</td>\n",
       "      <td>97</td>\n",
       "      <td>128</td>\n",
       "    </tr>\n",
       "  </tbody>\n",
       "</table>\n",
       "<p>585 rows × 5 columns</p>\n",
       "</div>"
      ],
      "text/plain": [
       "     patient_id  flair  t1w  t1wCE  t2w\n",
       "0           123      0    0     15   14\n",
       "1           516    193   20     96  100\n",
       "2           110     14   45     45   14\n",
       "3           454     16   96     96   16\n",
       "4           784     18   50     18   17\n",
       "..          ...    ...  ...    ...  ...\n",
       "580         513     91  167    169  110\n",
       "581         797     16   17     17   17\n",
       "582         613    184   96     95  100\n",
       "583         132     65   32     32   32\n",
       "584         751    200  101     97  128\n",
       "\n",
       "[585 rows x 5 columns]"
      ]
     },
     "execution_count": 2,
     "metadata": {},
     "output_type": "execute_result"
    }
   ],
   "source": [
    "df = pd.read_csv('metadata.csv')\n",
    "df"
   ]
  },
  {
   "cell_type": "code",
   "execution_count": 3,
   "id": "b7813e3f-1c5a-43e7-93f7-2e929f8bd7c6",
   "metadata": {},
   "outputs": [
    {
     "name": "stdout",
     "output_type": "stream",
     "text": [
      "[123]\n",
      "[123]\n",
      "[]\n",
      "[109, 709]\n"
     ]
    }
   ],
   "source": [
    "flair = []\n",
    "t1w = []\n",
    "t1wce = []\n",
    "t2w = []\n",
    "for idx, row in df.iterrows():\n",
    "    if row['flair'] == 0:\n",
    "        flair.append(row['patient_id'])\n",
    "    if row['t1w'] == 0:\n",
    "        t1w.append(row['patient_id'])\n",
    "    if row['t1wCE'] == 0:\n",
    "        t1wce.append(row['patient_id'])\n",
    "    if row['t2w'] == 0:\n",
    "        t2w.append(row['patient_id'])\n",
    "\n",
    "print(flair)\n",
    "print(t1w)\n",
    "print(t1wce)\n",
    "print(t2w)"
   ]
  },
  {
   "cell_type": "code",
   "execution_count": 4,
   "id": "0e981bf5-065e-4f80-a2bc-753b62138406",
   "metadata": {},
   "outputs": [
    {
     "name": "stdout",
     "output_type": "stream",
     "text": [
      "254\n",
      "203\n",
      "203\n",
      "250\n"
     ]
    }
   ],
   "source": [
    "print(df['flair'].max())\n",
    "print(df['t1w'].max())\n",
    "print(df['t1wCE'].max())\n",
    "print(df['t2w'].max())"
   ]
  },
  {
   "cell_type": "code",
   "execution_count": 5,
   "id": "138e7a0c-af9f-4111-ab99-7728e21e6fc9",
   "metadata": {},
   "outputs": [
    {
     "name": "stdout",
     "output_type": "stream",
     "text": [
      "0\n",
      "0\n",
      "10\n",
      "0\n"
     ]
    }
   ],
   "source": [
    "print(df['flair'].min())\n",
    "print(df['t1w'].min())\n",
    "print(df['t1wCE'].min())\n",
    "print(df['t2w'].min())"
   ]
  },
  {
   "cell_type": "markdown",
   "id": "43597c31-a8e3-4570-920f-fd3a10ac44a7",
   "metadata": {},
   "source": [
    "# prepare the dataset"
   ]
  },
  {
   "cell_type": "code",
   "execution_count": 2,
   "id": "850ae2fd-22b1-489c-9e91-49733f1e451b",
   "metadata": {},
   "outputs": [],
   "source": [
    "data = pd.read_csv('train_labels.csv')\n",
    "X = data['BraTS21ID'].values\n",
    "Y = data['MGMT_value'].values"
   ]
  },
  {
   "cell_type": "code",
   "execution_count": 3,
   "id": "5559f20e-ba1c-4cef-bc24-6f3f8171f307",
   "metadata": {},
   "outputs": [],
   "source": [
    "kfold = []\n",
    "x_train = []\n",
    "x_test = []\n",
    "y_train =[]\n",
    "y_test = []\n",
    "for _ in range(10):\n",
    "    xtrain, xtest, ytrain, ytest = train_test_split(X, Y, test_size=0.2, shuffle=True, stratify=Y)\n",
    "    kfold.append([_+1, xtrain, xtest, ytrain, ytest])\n",
    "    x_train.append(xtrain)\n",
    "    x_test.append(xtest)\n",
    "    y_train.append(ytrain)\n",
    "    y_test.append(ytest)\n",
    "np.save('folds/xtrain.npy', x_train)\n",
    "np.save('folds/xtest.npy', x_test)\n",
    "np.save('folds/ytrain.npy', y_train)\n",
    "np.save('folds/ytest.npy', y_test)"
   ]
  },
  {
   "cell_type": "code",
   "execution_count": 41,
   "id": "b7ce12f1-c188-4afd-94b4-9e43dac2d401",
   "metadata": {},
   "outputs": [],
   "source": []
  },
  {
   "cell_type": "code",
   "execution_count": 42,
   "id": "54ff5b31-a287-4dc4-8113-ed68cbd39909",
   "metadata": {},
   "outputs": [
    {
     "data": {
      "text/plain": [
       "array([[758,  61, 746, ..., 690, 759, 628],\n",
       "       [222, 687, 656, ..., 246, 481, 739],\n",
       "       [376, 112, 615, ..., 819, 113, 140],\n",
       "       ...,\n",
       "       [329, 622, 830, ..., 478, 839, 321],\n",
       "       [714, 383,  19, ..., 169, 301, 740],\n",
       "       [233,   8, 154, ..., 805, 367, 654]])"
      ]
     },
     "execution_count": 42,
     "metadata": {},
     "output_type": "execute_result"
    }
   ],
   "source": [
    "train = np.load('folds/xtrain.npy', allow_pickle=True)\n",
    "train"
   ]
  },
  {
   "cell_type": "code",
   "execution_count": 45,
   "id": "059049de-9190-49ac-9085-3a9155f5e5b8",
   "metadata": {},
   "outputs": [],
   "source": [
    "test = np.load('folds/ytrain.npy', allow_pickle=True)\n",
    "test"
   ]
  },
  {
   "cell_type": "markdown",
   "id": "de632905-dfa3-40fc-8237-839859c51124",
   "metadata": {},
   "source": [
    "# Deleting the patient ids of empty folders"
   ]
  },
  {
   "cell_type": "code",
   "execution_count": 2,
   "id": "78f4abc4-f118-4933-a1ae-1ae4aafac6d8",
   "metadata": {},
   "outputs": [],
   "source": [
    "data = pd.read_csv('train_labels.csv')\n",
    "X = data['BraTS21ID'].values\n",
    "Y = data['MGMT_value'].values"
   ]
  },
  {
   "cell_type": "code",
   "execution_count": 3,
   "id": "2397f48c-b57b-4525-9ba8-624d5daf2c66",
   "metadata": {},
   "outputs": [
    {
     "data": {
      "text/plain": [
       "(585,)"
      ]
     },
     "execution_count": 3,
     "metadata": {},
     "output_type": "execute_result"
    }
   ],
   "source": [
    "X.shape\n"
   ]
  },
  {
   "cell_type": "code",
   "execution_count": 4,
   "id": "f1870707-be24-4b42-b24c-70e5f6f0c9b1",
   "metadata": {},
   "outputs": [
    {
     "data": {
      "text/plain": [
       "(585,)"
      ]
     },
     "execution_count": 4,
     "metadata": {},
     "output_type": "execute_result"
    }
   ],
   "source": [
    "Y.shape"
   ]
  },
  {
   "cell_type": "code",
   "execution_count": 5,
   "id": "edc98cbd-b66c-4c82-a774-28dcb2b8872c",
   "metadata": {},
   "outputs": [
    {
     "data": {
      "text/plain": [
       "(array([71]),)"
      ]
     },
     "execution_count": 5,
     "metadata": {},
     "output_type": "execute_result"
    }
   ],
   "source": [
    "np.where(X==109)"
   ]
  },
  {
   "cell_type": "code",
   "execution_count": 6,
   "id": "4ff08c52-2998-4fed-94c9-1b2af3d728b9",
   "metadata": {},
   "outputs": [
    {
     "data": {
      "text/plain": [
       "(array([81]),)"
      ]
     },
     "execution_count": 6,
     "metadata": {},
     "output_type": "execute_result"
    }
   ],
   "source": [
    "np.where(X==123)"
   ]
  },
  {
   "cell_type": "code",
   "execution_count": 7,
   "id": "a63b6c86-8a4e-4670-bc82-3cabeb5b261b",
   "metadata": {},
   "outputs": [
    {
     "data": {
      "text/plain": [
       "(array([488]),)"
      ]
     },
     "execution_count": 7,
     "metadata": {},
     "output_type": "execute_result"
    }
   ],
   "source": [
    "np.where(X==709)"
   ]
  },
  {
   "cell_type": "code",
   "execution_count": 8,
   "id": "e88a574c-8fbc-4dc2-b2b4-71fc1ecaa636",
   "metadata": {},
   "outputs": [],
   "source": [
    "X = np.delete(X, np.where(X == 109))\n",
    "X = np.delete(X, np.where(X == 123))\n",
    "X = np.delete(X, np.where(X == 709))\n",
    "\n",
    "Y = np.delete(Y, [71, 81, 488])"
   ]
  },
  {
   "cell_type": "code",
   "execution_count": 9,
   "id": "a9e3888f-0b95-4b24-aeeb-afd953a40a88",
   "metadata": {},
   "outputs": [
    {
     "data": {
      "text/plain": [
       "(582,)"
      ]
     },
     "execution_count": 9,
     "metadata": {},
     "output_type": "execute_result"
    }
   ],
   "source": [
    "X.shape"
   ]
  },
  {
   "cell_type": "code",
   "execution_count": 10,
   "id": "bc118e5a-fa39-41c2-982a-5e2b988b4ad5",
   "metadata": {},
   "outputs": [
    {
     "data": {
      "text/plain": [
       "(582,)"
      ]
     },
     "execution_count": 10,
     "metadata": {},
     "output_type": "execute_result"
    }
   ],
   "source": [
    "Y.shape"
   ]
  },
  {
   "cell_type": "markdown",
   "id": "0fc6124f-72d1-43f0-9215-4c14bfc7e3c1",
   "metadata": {},
   "source": [
    "# split the dataset into kfolds"
   ]
  },
  {
   "cell_type": "code",
   "execution_count": 11,
   "id": "0de71a55-fdb3-4059-8a33-68d8285c7fb7",
   "metadata": {},
   "outputs": [],
   "source": [
    "kfold = []\n",
    "x_train = []\n",
    "x_test = []\n",
    "y_train =[]\n",
    "y_test = []\n",
    "for _ in range(10):\n",
    "    xtrain, xtest, ytrain, ytest = train_test_split(X, Y, test_size=0.2, shuffle=True, stratify=Y)\n",
    "    kfold.append([_+1, xtrain, xtest, ytrain, ytest])\n",
    "    x_train.append(xtrain)\n",
    "    x_test.append(xtest)\n",
    "    y_train.append(ytrain)\n",
    "    y_test.append(ytest)\n",
    "np.save('folds/new_folds/xtrain.npy', x_train)\n",
    "np.save('folds/new_folds/xtest.npy', x_test)\n",
    "np.save('folds/new_folds/ytrain.npy', y_train)\n",
    "np.save('folds/new_folds/ytest.npy', y_test)"
   ]
  },
  {
   "cell_type": "code",
   "execution_count": 12,
   "id": "041b0da3-5006-4d81-a419-b2de0d5440f2",
   "metadata": {},
   "outputs": [
    {
     "data": {
      "text/plain": [
       "array([[  88,  390,  140, ...,  266,  456,   78],\n",
       "       [  31,  273,  395, ...,  707,  656,  150],\n",
       "       [  43,  777,  445, ...,  547,  318,  285],\n",
       "       ...,\n",
       "       [ 661,  791,  587, ...,  250,  690,  144],\n",
       "       [ 400,  250,  667, ...,  739,  328,  389],\n",
       "       [1010,  124,  794, ...,  373,  383,  397]])"
      ]
     },
     "execution_count": 12,
     "metadata": {},
     "output_type": "execute_result"
    }
   ],
   "source": [
    "train = np.load('folds/new_folds/xtrain.npy', allow_pickle=True)\n",
    "train"
   ]
  },
  {
   "cell_type": "code",
   "execution_count": 17,
   "id": "7ea84950-1b63-4f5a-b718-e6c0f535ec05",
   "metadata": {},
   "outputs": [
    {
     "data": {
      "text/plain": [
       "(array([2, 3, 4, 5, 6, 7, 8]), array([399, 268, 464, 216,  96, 150, 378]))"
      ]
     },
     "execution_count": 17,
     "metadata": {},
     "output_type": "execute_result"
    }
   ],
   "source": []
  },
  {
   "cell_type": "code",
   "execution_count": null,
   "id": "5de9994c-a851-497b-94eb-7cbe40cdd404",
   "metadata": {},
   "outputs": [],
   "source": []
  }
 ],
 "metadata": {
  "kernelspec": {
   "display_name": "Python 3 (ipykernel)",
   "language": "python",
   "name": "python3"
  },
  "language_info": {
   "codemirror_mode": {
    "name": "ipython",
    "version": 3
   },
   "file_extension": ".py",
   "mimetype": "text/x-python",
   "name": "python",
   "nbconvert_exporter": "python",
   "pygments_lexer": "ipython3",
   "version": "3.11.4"
  }
 },
 "nbformat": 4,
 "nbformat_minor": 5
}

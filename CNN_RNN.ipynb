{
 "cells": [
  {
   "cell_type": "code",
   "execution_count": 1,
   "metadata": {
    "editable": true,
    "slideshow": {
     "slide_type": ""
    },
    "tags": []
   },
   "outputs": [
    {
     "name": "stderr",
     "output_type": "stream",
     "text": [
      "C:\\Users\\KaranjotVendal\\mambaforge\\envs\\thesis\\Lib\\site-packages\\tqdm\\auto.py:21: TqdmWarning: IProgress not found. Please update jupyter and ipywidgets. See https://ipywidgets.readthedocs.io/en/stable/user_install.html\n",
      "  from .autonotebook import tqdm as notebook_tqdm\n",
      "C:\\Users\\KaranjotVendal\\mambaforge\\envs\\thesis\\Lib\\site-packages\\torchaudio\\backend\\utils.py:74: UserWarning: No audio backend is available.\n",
      "  warnings.warn(\"No audio backend is available.\")\n"
     ]
    }
   ],
   "source": [
    "from config import config, key\n",
    "from train import train\n",
    "import wandb"
   ]
  },
  {
   "cell_type": "code",
   "execution_count": 2,
   "metadata": {},
   "outputs": [
    {
     "name": "stderr",
     "output_type": "stream",
     "text": [
      "\u001b[34m\u001b[1mwandb\u001b[0m: Currently logged in as: \u001b[33mkaranjot\u001b[0m. Use \u001b[1m`wandb login --relogin`\u001b[0m to force relogin\n",
      "\u001b[34m\u001b[1mwandb\u001b[0m: \u001b[33mWARNING\u001b[0m If you're specifying your api key in code, ensure this code is not shared publicly.\n",
      "\u001b[34m\u001b[1mwandb\u001b[0m: \u001b[33mWARNING\u001b[0m Consider setting the WANDB_API_KEY environment variable, or running `wandb login` from the command line.\n",
      "\u001b[34m\u001b[1mwandb\u001b[0m: Appending key for api.wandb.ai to your netrc file: C:\\Users\\KaranjotVendal/.netrc\n"
     ]
    },
    {
     "data": {
      "text/plain": [
       "True"
      ]
     },
     "execution_count": 2,
     "metadata": {},
     "output_type": "execute_result"
    }
   ],
   "source": [
    "import wandb\n",
    "wandb.login(key=key.wandb_key)"
   ]
  },
  {
   "cell_type": "code",
   "execution_count": 3,
   "metadata": {
    "scrolled": true
   },
   "outputs": [
    {
     "data": {
      "text/html": [
       "Tracking run with wandb version 0.15.8"
      ],
      "text/plain": [
       "<IPython.core.display.HTML object>"
      ]
     },
     "metadata": {},
     "output_type": "display_data"
    },
    {
     "data": {
      "text/html": [
       "Run data is saved locally in <code>D:\\extra\\New folder\\rsna\\wandb\\run-20230823_155443-pnem31r0</code>"
      ],
      "text/plain": [
       "<IPython.core.display.HTML object>"
      ]
     },
     "metadata": {},
     "output_type": "display_data"
    },
    {
     "data": {
      "text/html": [
       "Syncing run <strong><a href='https://wandb.ai/karanjot/Res50GRU/runs/pnem31r0' target=\"_blank\">experiment_FLAIR</a></strong> to <a href='https://wandb.ai/karanjot/Res50GRU' target=\"_blank\">Weights & Biases</a> (<a href='https://wandb.me/run' target=\"_blank\">docs</a>)<br/>"
      ],
      "text/plain": [
       "<IPython.core.display.HTML object>"
      ]
     },
     "metadata": {},
     "output_type": "display_data"
    },
    {
     "data": {
      "text/html": [
       " View project at <a href='https://wandb.ai/karanjot/Res50GRU' target=\"_blank\">https://wandb.ai/karanjot/Res50GRU</a>"
      ],
      "text/plain": [
       "<IPython.core.display.HTML object>"
      ]
     },
     "metadata": {},
     "output_type": "display_data"
    },
    {
     "data": {
      "text/html": [
       " View run at <a href='https://wandb.ai/karanjot/Res50GRU/runs/pnem31r0' target=\"_blank\">https://wandb.ai/karanjot/Res50GRU/runs/pnem31r0</a>"
      ],
      "text/plain": [
       "<IPython.core.display.HTML object>"
      ]
     },
     "metadata": {},
     "output_type": "display_data"
    },
    {
     "data": {
      "text/html": [
       "<button onClick=\"this.nextSibling.style.display='block';this.style.display='none';\">Display W&B run</button><iframe src='https://wandb.ai/karanjot/Res50GRU/runs/pnem31r0?jupyter=true' style='border:none;width:100%;height:420px;display:none;'></iframe>"
      ],
      "text/plain": [
       "<wandb.sdk.wandb_run.Run at 0x20382aeeb90>"
      ]
     },
     "execution_count": 3,
     "metadata": {},
     "output_type": "execute_result"
    }
   ],
   "source": [
    "wandb.init(\n",
    "project=f\"{config.MODEL}\", \n",
    "name=f\"experiment_{config.MOD}\",\n",
    "notes=f'establishing baseline for {config.MODEL}_{config.MOD}.(Convx:LSTM:FC:classifier)',\n",
    "config={\n",
    "\"learning_rate\": config.LEARNING_RATE,\n",
    "\"architecture\": \"CNN-GRU-MASK-FC-Classifier\",\n",
    "\"dataset\": \"MICAA MRI\",\n",
    "\"epochs\": config.NUM_EPOCHS,\n",
    "\"BATCH_SIZE\": config.BATCH_SIZE,\n",
    "\"Image Size\": config.IMG_SIZE,\n",
    "})"
   ]
  },
  {
   "cell_type": "code",
   "execution_count": 4,
   "metadata": {
    "editable": true,
    "slideshow": {
     "slide_type": ""
    },
    "tags": []
   },
   "outputs": [
    {
     "name": "stdout",
     "output_type": "stream",
     "text": [
      "--------------FOLD:1-----------------------\n",
      " Train Epoch: 1/25 | Loss: 0.68918 | Accuracy: 0.5226% | F1 Score: 0.5210 | AUROC: 0.5336 | Time: 75.798166513443\n",
      "Checkpoint saved at ./checkpoints/Res50GRU_model_FLAIR_1.pth | Test acc: 0.58% | Test F1: 0.571% | Best AUROC: 0.627\n",
      "Validation Epoch: 0m 19s | Accuracy: 0.58% | F1 Score: 0.5710 | AUROC: 0.6268\n",
      " Train Epoch: 2/25 | Loss: 0.67383 | Accuracy: 0.5828% | F1 Score: 0.5822 | AUROC: 0.6146 | Time: 75.26824235916138\n",
      "Validation Epoch: 0m 19s | Accuracy: 0.56% | F1 Score: 0.5595 | AUROC: 0.5647\n",
      " Train Epoch: 3/25 | Loss: 0.66498 | Accuracy: 0.5699% | F1 Score: 0.5686 | AUROC: 0.6313 | Time: 75.31661701202393\n",
      "Validation Epoch: 0m 19s | Accuracy: 0.57% | F1 Score: 0.5634 | AUROC: 0.5852\n",
      " Train Epoch: 4/25 | Loss: 0.64484 | Accuracy: 0.6086% | F1 Score: 0.6086 | AUROC: 0.6953 | Time: 75.42324566841125\n",
      "Validation Epoch: 0m 19s | Accuracy: 0.56% | F1 Score: 0.5621 | AUROC: 0.5790\n",
      " Train Epoch: 5/25 | Loss: 0.62626 | Accuracy: 0.6366% | F1 Score: 0.6364 | AUROC: 0.7009 | Time: 75.37015008926392\n",
      "Validation Epoch: 0m 19s | Accuracy: 0.53% | F1 Score: 0.4919 | AUROC: 0.5758\n",
      " Train Epoch: 6/25 | Loss: 0.60655 | Accuracy: 0.7032% | F1 Score: 0.7032 | AUROC: 0.7854 | Time: 75.33656597137451\n",
      "Validation Epoch: 0m 19s | Accuracy: 0.55% | F1 Score: 0.5384 | AUROC: 0.5706\n",
      " Train Epoch: 7/25 | Loss: 0.57470 | Accuracy: 0.7828% | F1 Score: 0.7827 | AUROC: 0.8627 | Time: 75.31245541572571\n",
      "Validation Epoch: 0m 19s | Accuracy: 0.58% | F1 Score: 0.5781 | AUROC: 0.6001\n",
      " Train Epoch: 8/25 | Loss: 0.55155 | Accuracy: 0.7892% | F1 Score: 0.7884 | AUROC: 0.8777 | Time: 75.31251621246338\n",
      "Validation Epoch: 0m 19s | Accuracy: 0.56% | F1 Score: 0.5435 | AUROC: 0.5992\n",
      " Train Epoch: 9/25 | Loss: 0.53857 | Accuracy: 0.7634% | F1 Score: 0.7634 | AUROC: 0.8575 | Time: 75.31482601165771\n",
      "Validation Epoch: 0m 19s | Accuracy: 0.53% | F1 Score: 0.4677 | AUROC: 0.6107\n",
      " Train Epoch: 10/25 | Loss: 0.50383 | Accuracy: 0.8258% | F1 Score: 0.8258 | AUROC: 0.9243 | Time: 75.44883441925049\n",
      "Validation Epoch: 0m 19s | Accuracy: 0.60% | F1 Score: 0.5982 | AUROC: 0.6042\n",
      " Train Epoch: 11/25 | Loss: 0.46422 | Accuracy: 0.8688% | F1 Score: 0.8688 | AUROC: 0.9557 | Time: 75.4576964378357\n",
      "Validation Epoch: 0m 19s | Accuracy: 0.56% | F1 Score: 0.5540 | AUROC: 0.5989\n",
      " Train Epoch: 12/25 | Loss: 0.44724 | Accuracy: 0.8645% | F1 Score: 0.8645 | AUROC: 0.9460 | Time: 75.33953189849854\n",
      "Validation Epoch: 0m 19s | Accuracy: 0.56% | F1 Score: 0.5578 | AUROC: 0.6200\n",
      " Train Epoch: 13/25 | Loss: 0.42987 | Accuracy: 0.8817% | F1 Score: 0.8815 | AUROC: 0.9481 | Time: 75.40495181083679\n",
      "Validation Epoch: 0m 19s | Accuracy: 0.58% | F1 Score: 0.5812 | AUROC: 0.6039\n",
      " Train Epoch: 14/25 | Loss: 0.39218 | Accuracy: 0.8774% | F1 Score: 0.8774 | AUROC: 0.9582 | Time: 75.46536540985107\n",
      "Validation Epoch: 0m 19s | Accuracy: 0.63% | F1 Score: 0.6236 | AUROC: 0.6098\n",
      " Train Epoch: 15/25 | Loss: 0.37164 | Accuracy: 0.9118% | F1 Score: 0.9116 | AUROC: 0.9762 | Time: 75.47818803787231\n",
      "Checkpoint saved at ./checkpoints/Res50GRU_model_FLAIR_1.pth | Test acc: 0.59% | Test F1: 0.559% | Best AUROC: 0.628\n",
      "Validation Epoch: 0m 19s | Accuracy: 0.59% | F1 Score: 0.5588 | AUROC: 0.6279\n",
      " Train Epoch: 16/25 | Loss: 0.36464 | Accuracy: 0.9183% | F1 Score: 0.9182 | AUROC: 0.9738 | Time: 75.46733522415161\n",
      "Validation Epoch: 0m 19s | Accuracy: 0.54% | F1 Score: 0.5164 | AUROC: 0.6013\n",
      " Train Epoch: 17/25 | Loss: 0.31979 | Accuracy: 0.9355% | F1 Score: 0.9353 | AUROC: 0.9872 | Time: 75.37590765953064\n",
      "Checkpoint saved at ./checkpoints/Res50GRU_model_FLAIR_1.pth | Test acc: 0.61% | Test F1: 0.598% | Best AUROC: 0.635\n",
      "Validation Epoch: 0m 19s | Accuracy: 0.61% | F1 Score: 0.5984 | AUROC: 0.6350\n",
      " Train Epoch: 18/25 | Loss: 0.30622 | Accuracy: 0.9462% | F1 Score: 0.9462 | AUROC: 0.9907 | Time: 75.47118473052979\n",
      "Validation Epoch: 0m 19s | Accuracy: 0.62% | F1 Score: 0.5954 | AUROC: 0.6197\n",
      " Train Epoch: 19/25 | Loss: 0.30431 | Accuracy: 0.9312% | F1 Score: 0.9310 | AUROC: 0.9872 | Time: 75.45546245574951\n",
      "Validation Epoch: 0m 19s | Accuracy: 0.56% | F1 Score: 0.5415 | AUROC: 0.6066\n",
      " Train Epoch: 20/25 | Loss: 0.26035 | Accuracy: 0.9591% | F1 Score: 0.9590 | AUROC: 0.9958 | Time: 75.51856017112732\n",
      "Validation Epoch: 0m 19s | Accuracy: 0.56% | F1 Score: 0.5609 | AUROC: 0.5975\n",
      " Train Epoch: 21/25 | Loss: 0.26497 | Accuracy: 0.9484% | F1 Score: 0.9484 | AUROC: 0.9921 | Time: 75.43928790092468\n",
      "Validation Epoch: 0m 19s | Accuracy: 0.62% | F1 Score: 0.5985 | AUROC: 0.6191\n",
      " Train Epoch: 22/25 | Loss: 0.24894 | Accuracy: 0.9398% | F1 Score: 0.9397 | AUROC: 0.9884 | Time: 75.45184993743896\n",
      "Validation Epoch: 0m 19s | Accuracy: 0.56% | F1 Score: 0.5306 | AUROC: 0.6028\n",
      " Train Epoch: 23/25 | Loss: 0.22953 | Accuracy: 0.9613% | F1 Score: 0.9612 | AUROC: 0.9941 | Time: 75.49245810508728\n",
      "Validation Epoch: 0m 19s | Accuracy: 0.58% | F1 Score: 0.5658 | AUROC: 0.5995\n",
      " Train Epoch: 24/25 | Loss: 0.21579 | Accuracy: 0.9505% | F1 Score: 0.9505 | AUROC: 0.9904 | Time: 75.48027300834656\n",
      "Validation Epoch: 0m 19s | Accuracy: 0.56% | F1 Score: 0.5535 | AUROC: 0.5969\n",
      " Train Epoch: 25/25 | Loss: 0.21099 | Accuracy: 0.9656% | F1 Score: 0.9655 | AUROC: 0.9957 | Time: 75.4790210723877\n",
      "Validation Epoch: 0m 19s | Accuracy: 0.56% | F1 Score: 0.5558 | AUROC: 0.6016\n",
      "Training Time: 39m 18s | Avg Loss: 0.43620 | Avg Accuracy: 0.826% | Avg F1 Score: 0.8256 | Avg AUROC:0.8865\n",
      "\n",
      "Inference complete for FLAIR in 0m 19s | Accuracy: 0.607% | F1 Score: 0.5984 | AUROC: 0.6350\n",
      "--------------FOLD:2-----------------------\n",
      " Train Epoch: 1/25 | Loss: 0.69282 | Accuracy: 0.5290% | F1 Score: 0.4247 | AUROC: 0.5233 | Time: 78.6121621131897\n",
      "Checkpoint saved at ./checkpoints/Res50GRU_model_FLAIR_2.pth | Test acc: 0.47% | Test F1: 0.368% | Best AUROC: 0.540\n",
      "Validation Epoch: 0m 16s | Accuracy: 0.47% | F1 Score: 0.3681 | AUROC: 0.5395\n",
      " Train Epoch: 2/25 | Loss: 0.68245 | Accuracy: 0.5656% | F1 Score: 0.5585 | AUROC: 0.6116 | Time: 78.33601403236389\n",
      "Checkpoint saved at ./checkpoints/Res50GRU_model_FLAIR_2.pth | Test acc: 0.49% | Test F1: 0.342% | Best AUROC: 0.551\n",
      "Validation Epoch: 0m 16s | Accuracy: 0.49% | F1 Score: 0.3417 | AUROC: 0.5506\n",
      " Train Epoch: 3/25 | Loss: 0.66133 | Accuracy: 0.6000% | F1 Score: 0.5930 | AUROC: 0.6594 | Time: 78.355144739151\n",
      "Validation Epoch: 0m 16s | Accuracy: 0.48% | F1 Score: 0.3237 | AUROC: 0.5468\n",
      " Train Epoch: 4/25 | Loss: 0.64303 | Accuracy: 0.6194% | F1 Score: 0.6186 | AUROC: 0.6916 | Time: 78.44429802894592\n",
      "Validation Epoch: 0m 16s | Accuracy: 0.47% | F1 Score: 0.3198 | AUROC: 0.4936\n",
      " Train Epoch: 5/25 | Loss: 0.61113 | Accuracy: 0.6516% | F1 Score: 0.6513 | AUROC: 0.7478 | Time: 78.53541779518127\n",
      "Validation Epoch: 0m 16s | Accuracy: 0.47% | F1 Score: 0.3198 | AUROC: 0.4227\n",
      " Train Epoch: 6/25 | Loss: 0.59076 | Accuracy: 0.7183% | F1 Score: 0.7183 | AUROC: 0.7886 | Time: 85.01666116714478\n",
      "Validation Epoch: 0m 17s | Accuracy: 0.50% | F1 Score: 0.3988 | AUROC: 0.3630\n",
      " Train Epoch: 7/25 | Loss: 0.55859 | Accuracy: 0.7398% | F1 Score: 0.7395 | AUROC: 0.8258 | Time: 79.58450746536255\n",
      "Validation Epoch: 0m 16s | Accuracy: 0.50% | F1 Score: 0.3831 | AUROC: 0.3820\n",
      " Train Epoch: 8/25 | Loss: 0.52545 | Accuracy: 0.7892% | F1 Score: 0.7884 | AUROC: 0.8847 | Time: 78.50480055809021\n",
      "Validation Epoch: 0m 16s | Accuracy: 0.49% | F1 Score: 0.3548 | AUROC: 0.3975\n",
      " Train Epoch: 9/25 | Loss: 0.49633 | Accuracy: 0.8022% | F1 Score: 0.8020 | AUROC: 0.9032 | Time: 78.45971655845642\n",
      "Validation Epoch: 0m 16s | Accuracy: 0.50% | F1 Score: 0.3988 | AUROC: 0.3929\n",
      " Train Epoch: 10/25 | Loss: 0.46694 | Accuracy: 0.8409% | F1 Score: 0.8391 | AUROC: 0.9273 | Time: 78.46612453460693\n",
      "Validation Epoch: 0m 16s | Accuracy: 0.48% | F1 Score: 0.3503 | AUROC: 0.3885\n",
      " Train Epoch: 11/25 | Loss: 0.44086 | Accuracy: 0.8280% | F1 Score: 0.8279 | AUROC: 0.9306 | Time: 78.49272632598877\n",
      "Validation Epoch: 0m 16s | Accuracy: 0.41% | F1 Score: 0.3559 | AUROC: 0.3255\n",
      " Train Epoch: 12/25 | Loss: 0.40294 | Accuracy: 0.9011% | F1 Score: 0.9007 | AUROC: 0.9673 | Time: 78.48023509979248\n",
      "Validation Epoch: 0m 16s | Accuracy: 0.44% | F1 Score: 0.3569 | AUROC: 0.3528\n",
      " Train Epoch: 13/25 | Loss: 0.38247 | Accuracy: 0.8796% | F1 Score: 0.8790 | AUROC: 0.9642 | Time: 78.49034976959229\n",
      "Validation Epoch: 0m 16s | Accuracy: 0.48% | F1 Score: 0.3731 | AUROC: 0.3384\n",
      " Train Epoch: 14/25 | Loss: 0.34951 | Accuracy: 0.9097% | F1 Score: 0.9097 | AUROC: 0.9722 | Time: 78.58522295951843\n",
      "Validation Epoch: 0m 16s | Accuracy: 0.46% | F1 Score: 0.3631 | AUROC: 0.3609\n",
      " Train Epoch: 15/25 | Loss: 0.31359 | Accuracy: 0.9204% | F1 Score: 0.9204 | AUROC: 0.9814 | Time: 78.79360008239746\n",
      "Validation Epoch: 0m 16s | Accuracy: 0.46% | F1 Score: 0.3819 | AUROC: 0.3730\n",
      " Train Epoch: 16/25 | Loss: 0.29850 | Accuracy: 0.9247% | F1 Score: 0.9247 | AUROC: 0.9831 | Time: 78.57015442848206\n",
      "Validation Epoch: 0m 16s | Accuracy: 0.44% | F1 Score: 0.3932 | AUROC: 0.3539\n",
      " Train Epoch: 17/25 | Loss: 0.27954 | Accuracy: 0.9312% | F1 Score: 0.9311 | AUROC: 0.9855 | Time: 78.48141646385193\n",
      "Validation Epoch: 0m 16s | Accuracy: 0.49% | F1 Score: 0.3669 | AUROC: 0.3246\n",
      " Train Epoch: 18/25 | Loss: 0.26542 | Accuracy: 0.9355% | F1 Score: 0.9355 | AUROC: 0.9863 | Time: 78.49143958091736\n",
      "Validation Epoch: 0m 16s | Accuracy: 0.45% | F1 Score: 0.3922 | AUROC: 0.3203\n",
      " Train Epoch: 19/25 | Loss: 0.25310 | Accuracy: 0.9441% | F1 Score: 0.9441 | AUROC: 0.9916 | Time: 78.46518325805664\n",
      "Validation Epoch: 0m 16s | Accuracy: 0.44% | F1 Score: 0.4053 | AUROC: 0.3674\n",
      " Train Epoch: 20/25 | Loss: 0.25102 | Accuracy: 0.9419% | F1 Score: 0.9418 | AUROC: 0.9875 | Time: 78.44638752937317\n",
      "Validation Epoch: 0m 16s | Accuracy: 0.42% | F1 Score: 0.3542 | AUROC: 0.3372\n",
      " Train Epoch: 21/25 | Loss: 0.21797 | Accuracy: 0.9570% | F1 Score: 0.9569 | AUROC: 0.9953 | Time: 78.47811603546143\n",
      "Validation Epoch: 0m 16s | Accuracy: 0.46% | F1 Score: 0.3728 | AUROC: 0.3334\n",
      " Train Epoch: 22/25 | Loss: 0.20943 | Accuracy: 0.9527% | F1 Score: 0.9527 | AUROC: 0.9931 | Time: 78.48043060302734\n",
      "Validation Epoch: 0m 16s | Accuracy: 0.42% | F1 Score: 0.3686 | AUROC: 0.3487\n",
      " Train Epoch: 23/25 | Loss: 0.19801 | Accuracy: 0.9742% | F1 Score: 0.9742 | AUROC: 0.9978 | Time: 78.50203514099121\n",
      "Validation Epoch: 0m 16s | Accuracy: 0.45% | F1 Score: 0.3922 | AUROC: 0.3653\n",
      " Train Epoch: 24/25 | Loss: 0.17717 | Accuracy: 0.9656% | F1 Score: 0.9656 | AUROC: 0.9961 | Time: 78.47194504737854\n",
      "Validation Epoch: 0m 16s | Accuracy: 0.39% | F1 Score: 0.3665 | AUROC: 0.3331\n",
      " Train Epoch: 25/25 | Loss: 0.19460 | Accuracy: 0.9699% | F1 Score: 0.9698 | AUROC: 0.9960 | Time: 78.32152938842773\n",
      "Validation Epoch: 0m 16s | Accuracy: 0.45% | F1 Score: 0.3846 | AUROC: 0.3311\n",
      "Training Time: 39m 30s | Avg Loss: 0.40652 | Avg Accuracy: 0.832% | Avg F1 Score: 0.8267 | Avg AUROC:0.8916\n",
      "\n",
      "Inference complete for FLAIR in 0m 16s | Accuracy: 0.487% | F1 Score: 0.3417 | AUROC: 0.5506\n",
      "--------------FOLD:3-----------------------\n",
      " Train Epoch: 1/25 | Loss: 0.70024 | Accuracy: 0.4936% | F1 Score: 0.4872 | AUROC: 0.4924 | Time: 76.83486294746399\n",
      "Checkpoint saved at ./checkpoints/Res50GRU_model_FLAIR_3.pth | Test acc: 0.72% | Test F1: 0.713% | Best AUROC: 0.691\n",
      "Validation Epoch: 0m 18s | Accuracy: 0.72% | F1 Score: 0.7129 | AUROC: 0.6906\n",
      " Train Epoch: 2/25 | Loss: 0.67355 | Accuracy: 0.5773% | F1 Score: 0.5729 | AUROC: 0.6291 | Time: 76.9043493270874\n",
      "Validation Epoch: 0m 17s | Accuracy: 0.43% | F1 Score: 0.4295 | AUROC: 0.4730\n",
      " Train Epoch: 3/25 | Loss: 0.66064 | Accuracy: 0.6202% | F1 Score: 0.6197 | AUROC: 0.6798 | Time: 76.89818167686462\n",
      "Validation Epoch: 0m 17s | Accuracy: 0.48% | F1 Score: 0.4206 | AUROC: 0.4909\n",
      " Train Epoch: 4/25 | Loss: 0.64352 | Accuracy: 0.6652% | F1 Score: 0.6630 | AUROC: 0.7328 | Time: 76.93612885475159\n",
      "Validation Epoch: 0m 18s | Accuracy: 0.53% | F1 Score: 0.5171 | AUROC: 0.5627\n",
      " Train Epoch: 5/25 | Loss: 0.62022 | Accuracy: 0.7017% | F1 Score: 0.7007 | AUROC: 0.7933 | Time: 76.85619401931763\n",
      "Validation Epoch: 0m 17s | Accuracy: 0.37% | F1 Score: 0.3695 | AUROC: 0.3723\n",
      " Train Epoch: 6/25 | Loss: 0.59872 | Accuracy: 0.7253% | F1 Score: 0.7210 | AUROC: 0.8186 | Time: 76.87330865859985\n",
      "Validation Epoch: 0m 17s | Accuracy: 0.41% | F1 Score: 0.4051 | AUROC: 0.4775\n",
      " Train Epoch: 7/25 | Loss: 0.56675 | Accuracy: 0.7747% | F1 Score: 0.7745 | AUROC: 0.8653 | Time: 76.83529853820801\n",
      "Validation Epoch: 0m 17s | Accuracy: 0.41% | F1 Score: 0.4030 | AUROC: 0.3869\n",
      " Train Epoch: 8/25 | Loss: 0.54902 | Accuracy: 0.8004% | F1 Score: 0.8003 | AUROC: 0.8997 | Time: 76.94015860557556\n",
      "Validation Epoch: 0m 17s | Accuracy: 0.47% | F1 Score: 0.4694 | AUROC: 0.5070\n",
      " Train Epoch: 9/25 | Loss: 0.50210 | Accuracy: 0.8305% | F1 Score: 0.8290 | AUROC: 0.9209 | Time: 76.93358302116394\n",
      "Validation Epoch: 0m 17s | Accuracy: 0.50% | F1 Score: 0.4776 | AUROC: 0.4510\n",
      " Train Epoch: 10/25 | Loss: 0.49316 | Accuracy: 0.8476% | F1 Score: 0.8476 | AUROC: 0.9406 | Time: 76.90332388877869\n",
      "Validation Epoch: 0m 17s | Accuracy: 0.46% | F1 Score: 0.4347 | AUROC: 0.4545\n",
      " Train Epoch: 11/25 | Loss: 0.47030 | Accuracy: 0.8648% | F1 Score: 0.8640 | AUROC: 0.9437 | Time: 77.01406574249268\n",
      "Validation Epoch: 0m 17s | Accuracy: 0.45% | F1 Score: 0.4476 | AUROC: 0.4754\n",
      " Train Epoch: 12/25 | Loss: 0.44231 | Accuracy: 0.8884% | F1 Score: 0.8883 | AUROC: 0.9581 | Time: 77.02536129951477\n",
      "Validation Epoch: 0m 17s | Accuracy: 0.49% | F1 Score: 0.4913 | AUROC: 0.4545\n",
      " Train Epoch: 13/25 | Loss: 0.40009 | Accuracy: 0.9013% | F1 Score: 0.9011 | AUROC: 0.9695 | Time: 77.04243040084839\n",
      "Validation Epoch: 0m 17s | Accuracy: 0.48% | F1 Score: 0.4772 | AUROC: 0.5007\n",
      " Train Epoch: 14/25 | Loss: 0.38594 | Accuracy: 0.9142% | F1 Score: 0.9141 | AUROC: 0.9716 | Time: 77.00657200813293\n",
      "Validation Epoch: 0m 17s | Accuracy: 0.51% | F1 Score: 0.4951 | AUROC: 0.5300\n",
      " Train Epoch: 15/25 | Loss: 0.36228 | Accuracy: 0.9356% | F1 Score: 0.9355 | AUROC: 0.9774 | Time: 77.0141966342926\n",
      "Validation Epoch: 0m 17s | Accuracy: 0.51% | F1 Score: 0.5024 | AUROC: 0.5481\n",
      " Train Epoch: 16/25 | Loss: 0.33114 | Accuracy: 0.9163% | F1 Score: 0.9162 | AUROC: 0.9814 | Time: 77.03503966331482\n",
      "Validation Epoch: 0m 17s | Accuracy: 0.37% | F1 Score: 0.3600 | AUROC: 0.3759\n",
      " Train Epoch: 17/25 | Loss: 0.30964 | Accuracy: 0.9356% | F1 Score: 0.9355 | AUROC: 0.9889 | Time: 77.01736807823181\n",
      "Validation Epoch: 0m 17s | Accuracy: 0.43% | F1 Score: 0.4226 | AUROC: 0.4560\n",
      " Train Epoch: 18/25 | Loss: 0.28595 | Accuracy: 0.9506% | F1 Score: 0.9505 | AUROC: 0.9915 | Time: 77.04616212844849\n",
      "Validation Epoch: 0m 17s | Accuracy: 0.48% | F1 Score: 0.4727 | AUROC: 0.5040\n",
      " Train Epoch: 19/25 | Loss: 0.25934 | Accuracy: 0.9635% | F1 Score: 0.9634 | AUROC: 0.9931 | Time: 77.15120244026184\n",
      "Validation Epoch: 0m 17s | Accuracy: 0.50% | F1 Score: 0.4946 | AUROC: 0.5088\n",
      " Train Epoch: 20/25 | Loss: 0.24510 | Accuracy: 0.9464% | F1 Score: 0.9463 | AUROC: 0.9919 | Time: 77.15617656707764\n",
      "Validation Epoch: 0m 17s | Accuracy: 0.50% | F1 Score: 0.4994 | AUROC: 0.5204\n",
      " Train Epoch: 21/25 | Loss: 0.23311 | Accuracy: 0.9528% | F1 Score: 0.9527 | AUROC: 0.9929 | Time: 77.13534379005432\n",
      "Validation Epoch: 0m 17s | Accuracy: 0.45% | F1 Score: 0.4423 | AUROC: 0.4757\n",
      " Train Epoch: 22/25 | Loss: 0.21855 | Accuracy: 0.9635% | F1 Score: 0.9635 | AUROC: 0.9958 | Time: 77.171062707901\n",
      "Validation Epoch: 0m 17s | Accuracy: 0.51% | F1 Score: 0.4951 | AUROC: 0.5198\n",
      " Train Epoch: 23/25 | Loss: 0.21193 | Accuracy: 0.9657% | F1 Score: 0.9656 | AUROC: 0.9954 | Time: 77.12166428565979\n",
      "Validation Epoch: 0m 17s | Accuracy: 0.47% | F1 Score: 0.4654 | AUROC: 0.4608\n",
      " Train Epoch: 24/25 | Loss: 0.18919 | Accuracy: 0.9700% | F1 Score: 0.9699 | AUROC: 0.9971 | Time: 77.08649468421936\n",
      "Validation Epoch: 0m 17s | Accuracy: 0.53% | F1 Score: 0.5098 | AUROC: 0.5389\n",
      " Train Epoch: 25/25 | Loss: 0.19454 | Accuracy: 0.9657% | F1 Score: 0.9656 | AUROC: 0.9958 | Time: 77.15144658088684\n",
      "Validation Epoch: 0m 17s | Accuracy: 0.46% | F1 Score: 0.4565 | AUROC: 0.4659\n",
      "Training Time: 39m 22s | Avg Loss: 0.42189 | Avg Accuracy: 0.843% | Avg F1 Score: 0.8419 | Avg AUROC:0.9007\n",
      "\n",
      "Inference complete for FLAIR in 0m 17s | Accuracy: 0.716% | F1 Score: 0.7129 | AUROC: 0.6906\n",
      "--------------FOLD:4-----------------------\n",
      " Train Epoch: 1/25 | Loss: 0.68416 | Accuracy: 0.5343% | F1 Score: 0.5141 | AUROC: 0.5721 | Time: 74.69276094436646\n",
      "Checkpoint saved at ./checkpoints/Res50GRU_model_FLAIR_4.pth | Test acc: 0.50% | Test F1: 0.386% | Best AUROC: 0.527\n",
      "Validation Epoch: 0m 20s | Accuracy: 0.50% | F1 Score: 0.3859 | AUROC: 0.5267\n",
      " Train Epoch: 2/25 | Loss: 0.66460 | Accuracy: 0.5944% | F1 Score: 0.5909 | AUROC: 0.6417 | Time: 74.78389859199524\n",
      "Validation Epoch: 0m 20s | Accuracy: 0.50% | F1 Score: 0.4588 | AUROC: 0.5064\n",
      " Train Epoch: 3/25 | Loss: 0.65104 | Accuracy: 0.6137% | F1 Score: 0.6119 | AUROC: 0.6516 | Time: 74.8426034450531\n",
      "Validation Epoch: 0m 20s | Accuracy: 0.53% | F1 Score: 0.3446 | AUROC: 0.5001\n",
      " Train Epoch: 4/25 | Loss: 0.64484 | Accuracy: 0.6309% | F1 Score: 0.6247 | AUROC: 0.6904 | Time: 74.82375502586365\n",
      "Validation Epoch: 0m 20s | Accuracy: 0.51% | F1 Score: 0.4759 | AUROC: 0.4879\n",
      " Train Epoch: 5/25 | Loss: 0.61786 | Accuracy: 0.6438% | F1 Score: 0.6435 | AUROC: 0.7393 | Time: 74.79924702644348\n",
      "Validation Epoch: 0m 20s | Accuracy: 0.52% | F1 Score: 0.3837 | AUROC: 0.4876\n",
      " Train Epoch: 6/25 | Loss: 0.60786 | Accuracy: 0.6910% | F1 Score: 0.6900 | AUROC: 0.7670 | Time: 74.73925232887268\n",
      "Validation Epoch: 0m 20s | Accuracy: 0.52% | F1 Score: 0.4521 | AUROC: 0.4823\n",
      " Train Epoch: 7/25 | Loss: 0.57716 | Accuracy: 0.7275% | F1 Score: 0.7274 | AUROC: 0.8196 | Time: 74.77619767189026\n",
      "Validation Epoch: 0m 20s | Accuracy: 0.51% | F1 Score: 0.4759 | AUROC: 0.4835\n",
      " Train Epoch: 8/25 | Loss: 0.55762 | Accuracy: 0.7768% | F1 Score: 0.7767 | AUROC: 0.8681 | Time: 74.70322608947754\n",
      "Validation Epoch: 0m 20s | Accuracy: 0.53% | F1 Score: 0.4841 | AUROC: 0.4686\n",
      " Train Epoch: 9/25 | Loss: 0.52255 | Accuracy: 0.7704% | F1 Score: 0.7684 | AUROC: 0.8912 | Time: 74.65014815330505\n",
      "Validation Epoch: 0m 20s | Accuracy: 0.54% | F1 Score: 0.4849 | AUROC: 0.4471\n",
      " Train Epoch: 10/25 | Loss: 0.49180 | Accuracy: 0.8047% | F1 Score: 0.8044 | AUROC: 0.9093 | Time: 74.82172012329102\n",
      "Validation Epoch: 0m 20s | Accuracy: 0.47% | F1 Score: 0.4416 | AUROC: 0.4358\n",
      " Train Epoch: 11/25 | Loss: 0.46637 | Accuracy: 0.8519% | F1 Score: 0.8519 | AUROC: 0.9314 | Time: 74.87486433982849\n",
      "Validation Epoch: 0m 20s | Accuracy: 0.52% | F1 Score: 0.4775 | AUROC: 0.4790\n",
      " Train Epoch: 12/25 | Loss: 0.44334 | Accuracy: 0.8627% | F1 Score: 0.8626 | AUROC: 0.9514 | Time: 74.83537650108337\n",
      "Validation Epoch: 0m 20s | Accuracy: 0.52% | F1 Score: 0.4957 | AUROC: 0.4849\n",
      " Train Epoch: 13/25 | Loss: 0.42202 | Accuracy: 0.8605% | F1 Score: 0.8602 | AUROC: 0.9522 | Time: 74.86191749572754\n",
      "Validation Epoch: 0m 20s | Accuracy: 0.53% | F1 Score: 0.4717 | AUROC: 0.4438\n",
      " Train Epoch: 14/25 | Loss: 0.38864 | Accuracy: 0.8798% | F1 Score: 0.8795 | AUROC: 0.9603 | Time: 74.94059324264526\n",
      "Validation Epoch: 0m 20s | Accuracy: 0.51% | F1 Score: 0.4978 | AUROC: 0.4844\n",
      " Train Epoch: 15/25 | Loss: 0.38893 | Accuracy: 0.8798% | F1 Score: 0.8798 | AUROC: 0.9627 | Time: 74.71965098381042\n",
      "Validation Epoch: 0m 20s | Accuracy: 0.50% | F1 Score: 0.4926 | AUROC: 0.4638\n",
      " Train Epoch: 16/25 | Loss: 0.35605 | Accuracy: 0.9077% | F1 Score: 0.9076 | AUROC: 0.9739 | Time: 74.7201030254364\n",
      "Validation Epoch: 0m 20s | Accuracy: 0.53% | F1 Score: 0.4849 | AUROC: 0.4760\n",
      " Train Epoch: 17/25 | Loss: 0.32778 | Accuracy: 0.9249% | F1 Score: 0.9249 | AUROC: 0.9837 | Time: 74.68778657913208\n",
      "Validation Epoch: 0m 20s | Accuracy: 0.53% | F1 Score: 0.4961 | AUROC: 0.4727\n",
      " Train Epoch: 18/25 | Loss: 0.30922 | Accuracy: 0.9270% | F1 Score: 0.9270 | AUROC: 0.9830 | Time: 74.70809626579285\n",
      "Validation Epoch: 0m 20s | Accuracy: 0.53% | F1 Score: 0.4849 | AUROC: 0.4721\n",
      " Train Epoch: 19/25 | Loss: 0.30954 | Accuracy: 0.9120% | F1 Score: 0.9119 | AUROC: 0.9786 | Time: 74.75765323638916\n",
      "Validation Epoch: 0m 20s | Accuracy: 0.47% | F1 Score: 0.4552 | AUROC: 0.4578\n",
      " Train Epoch: 20/25 | Loss: 0.27649 | Accuracy: 0.9227% | F1 Score: 0.9227 | AUROC: 0.9872 | Time: 74.73053431510925\n",
      "Validation Epoch: 0m 20s | Accuracy: 0.51% | F1 Score: 0.4885 | AUROC: 0.4706\n",
      " Train Epoch: 21/25 | Loss: 0.26996 | Accuracy: 0.9335% | F1 Score: 0.9333 | AUROC: 0.9880 | Time: 74.77914714813232\n",
      "Validation Epoch: 0m 20s | Accuracy: 0.50% | F1 Score: 0.4776 | AUROC: 0.4686\n",
      " Train Epoch: 22/25 | Loss: 0.25172 | Accuracy: 0.9485% | F1 Score: 0.9485 | AUROC: 0.9914 | Time: 74.72410655021667\n",
      "Validation Epoch: 0m 20s | Accuracy: 0.52% | F1 Score: 0.4874 | AUROC: 0.4522\n",
      " Train Epoch: 23/25 | Loss: 0.23281 | Accuracy: 0.9549% | F1 Score: 0.9549 | AUROC: 0.9913 | Time: 74.74758100509644\n",
      "Validation Epoch: 0m 20s | Accuracy: 0.54% | F1 Score: 0.5029 | AUROC: 0.4844\n",
      " Train Epoch: 24/25 | Loss: 0.22004 | Accuracy: 0.9528% | F1 Score: 0.9527 | AUROC: 0.9931 | Time: 74.73403120040894\n",
      "Validation Epoch: 0m 20s | Accuracy: 0.51% | F1 Score: 0.4385 | AUROC: 0.4814\n",
      " Train Epoch: 25/25 | Loss: 0.19836 | Accuracy: 0.9764% | F1 Score: 0.9763 | AUROC: 0.9965 | Time: 74.6776340007782\n",
      "Validation Epoch: 0m 20s | Accuracy: 0.47% | F1 Score: 0.4596 | AUROC: 0.4390\n",
      "Training Time: 39m 20s | Avg Loss: 0.43523 | Avg Accuracy: 0.819% | Avg F1 Score: 0.8178 | Avg AUROC:0.8870\n",
      "\n",
      "Inference complete for FLAIR in 0m 20s | Accuracy: 0.500% | F1 Score: 0.3859 | AUROC: 0.5267\n",
      "--------------FOLD:5-----------------------\n",
      " Train Epoch: 1/25 | Loss: 0.68563 | Accuracy: 0.5536% | F1 Score: 0.5445 | AUROC: 0.5691 | Time: 75.71164202690125\n",
      "Checkpoint saved at ./checkpoints/Res50GRU_model_FLAIR_5.pth | Test acc: 0.50% | Test F1: 0.500% | Best AUROC: 0.484\n",
      "Validation Epoch: 0m 19s | Accuracy: 0.50% | F1 Score: 0.4999 | AUROC: 0.4838\n",
      " Train Epoch: 2/25 | Loss: 0.65912 | Accuracy: 0.5987% | F1 Score: 0.5930 | AUROC: 0.6448 | Time: 75.69913291931152\n",
      "Checkpoint saved at ./checkpoints/Res50GRU_model_FLAIR_5.pth | Test acc: 0.48% | Test F1: 0.477% | Best AUROC: 0.487\n",
      "Validation Epoch: 0m 19s | Accuracy: 0.48% | F1 Score: 0.4772 | AUROC: 0.4873\n",
      " Train Epoch: 3/25 | Loss: 0.64489 | Accuracy: 0.6266% | F1 Score: 0.6236 | AUROC: 0.6866 | Time: 75.60057377815247\n",
      "Checkpoint saved at ./checkpoints/Res50GRU_model_FLAIR_5.pth | Test acc: 0.49% | Test F1: 0.485% | Best AUROC: 0.498\n",
      "Validation Epoch: 0m 19s | Accuracy: 0.49% | F1 Score: 0.4849 | AUROC: 0.4984\n",
      " Train Epoch: 4/25 | Loss: 0.62068 | Accuracy: 0.6352% | F1 Score: 0.6330 | AUROC: 0.7253 | Time: 75.92203974723816\n",
      "Validation Epoch: 0m 19s | Accuracy: 0.53% | F1 Score: 0.5258 | AUROC: 0.4802\n",
      " Train Epoch: 5/25 | Loss: 0.59588 | Accuracy: 0.6717% | F1 Score: 0.6712 | AUROC: 0.7594 | Time: 75.668710231781\n",
      "Validation Epoch: 0m 19s | Accuracy: 0.53% | F1 Score: 0.5178 | AUROC: 0.4787\n",
      " Train Epoch: 6/25 | Loss: 0.57424 | Accuracy: 0.7189% | F1 Score: 0.7189 | AUROC: 0.7879 | Time: 75.77132940292358\n",
      "Checkpoint saved at ./checkpoints/Res50GRU_model_FLAIR_5.pth | Test acc: 0.54% | Test F1: 0.533% | Best AUROC: 0.501\n",
      "Validation Epoch: 0m 19s | Accuracy: 0.54% | F1 Score: 0.5331 | AUROC: 0.5007\n",
      " Train Epoch: 7/25 | Loss: 0.54799 | Accuracy: 0.7747% | F1 Score: 0.7746 | AUROC: 0.8603 | Time: 75.8491621017456\n",
      "Validation Epoch: 0m 19s | Accuracy: 0.51% | F1 Score: 0.4978 | AUROC: 0.4855\n",
      " Train Epoch: 8/25 | Loss: 0.52256 | Accuracy: 0.7854% | F1 Score: 0.7851 | AUROC: 0.8791 | Time: 75.72524333000183\n",
      "Validation Epoch: 0m 19s | Accuracy: 0.53% | F1 Score: 0.5178 | AUROC: 0.4846\n",
      " Train Epoch: 9/25 | Loss: 0.49978 | Accuracy: 0.8176% | F1 Score: 0.8175 | AUROC: 0.9073 | Time: 75.76220440864563\n",
      "Checkpoint saved at ./checkpoints/Res50GRU_model_FLAIR_5.pth | Test acc: 0.53% | Test F1: 0.534% | Best AUROC: 0.502\n",
      "Validation Epoch: 0m 19s | Accuracy: 0.53% | F1 Score: 0.5339 | AUROC: 0.5019\n",
      " Train Epoch: 10/25 | Loss: 0.46948 | Accuracy: 0.8369% | F1 Score: 0.8359 | AUROC: 0.9419 | Time: 75.71072220802307\n",
      "Validation Epoch: 0m 19s | Accuracy: 0.53% | F1 Score: 0.5323 | AUROC: 0.4930\n",
      " Train Epoch: 11/25 | Loss: 0.43608 | Accuracy: 0.8541% | F1 Score: 0.8535 | AUROC: 0.9554 | Time: 75.72872638702393\n",
      "Validation Epoch: 0m 19s | Accuracy: 0.53% | F1 Score: 0.5230 | AUROC: 0.4712\n",
      " Train Epoch: 12/25 | Loss: 0.42088 | Accuracy: 0.8605% | F1 Score: 0.8605 | AUROC: 0.9404 | Time: 75.7351484298706\n",
      "Validation Epoch: 0m 19s | Accuracy: 0.51% | F1 Score: 0.5056 | AUROC: 0.4781\n",
      " Train Epoch: 13/25 | Loss: 0.38231 | Accuracy: 0.9056% | F1 Score: 0.9056 | AUROC: 0.9715 | Time: 75.79346060752869\n",
      "Validation Epoch: 0m 19s | Accuracy: 0.53% | F1 Score: 0.5258 | AUROC: 0.4721\n",
      " Train Epoch: 14/25 | Loss: 0.38265 | Accuracy: 0.8798% | F1 Score: 0.8798 | AUROC: 0.9579 | Time: 75.75799489021301\n",
      "Validation Epoch: 0m 19s | Accuracy: 0.54% | F1 Score: 0.5373 | AUROC: 0.4867\n",
      " Train Epoch: 15/25 | Loss: 0.34031 | Accuracy: 0.8991% | F1 Score: 0.8991 | AUROC: 0.9781 | Time: 75.73144197463989\n",
      "Validation Epoch: 0m 19s | Accuracy: 0.52% | F1 Score: 0.5136 | AUROC: 0.4692\n",
      " Train Epoch: 16/25 | Loss: 0.32756 | Accuracy: 0.9206% | F1 Score: 0.9205 | AUROC: 0.9791 | Time: 75.76974248886108\n",
      "Validation Epoch: 0m 19s | Accuracy: 0.54% | F1 Score: 0.5431 | AUROC: 0.4748\n",
      " Train Epoch: 17/25 | Loss: 0.30417 | Accuracy: 0.9335% | F1 Score: 0.9335 | AUROC: 0.9867 | Time: 76.06805109977722\n",
      "Validation Epoch: 0m 19s | Accuracy: 0.48% | F1 Score: 0.4814 | AUROC: 0.4626\n",
      " Train Epoch: 18/25 | Loss: 0.28375 | Accuracy: 0.9227% | F1 Score: 0.9226 | AUROC: 0.9807 | Time: 75.74641942977905\n",
      "Validation Epoch: 0m 19s | Accuracy: 0.53% | F1 Score: 0.5255 | AUROC: 0.4858\n",
      " Train Epoch: 19/25 | Loss: 0.26708 | Accuracy: 0.9313% | F1 Score: 0.9313 | AUROC: 0.9904 | Time: 75.70569109916687\n",
      "Validation Epoch: 0m 19s | Accuracy: 0.51% | F1 Score: 0.5024 | AUROC: 0.4823\n",
      " Train Epoch: 20/25 | Loss: 0.24244 | Accuracy: 0.9571% | F1 Score: 0.9570 | AUROC: 0.9947 | Time: 75.74507474899292\n",
      "Validation Epoch: 0m 19s | Accuracy: 0.50% | F1 Score: 0.4946 | AUROC: 0.4718\n",
      " Train Epoch: 21/25 | Loss: 0.23869 | Accuracy: 0.9442% | F1 Score: 0.9442 | AUROC: 0.9882 | Time: 75.67497611045837\n",
      "Validation Epoch: 0m 19s | Accuracy: 0.48% | F1 Score: 0.4826 | AUROC: 0.4733\n",
      " Train Epoch: 22/25 | Loss: 0.21488 | Accuracy: 0.9678% | F1 Score: 0.9678 | AUROC: 0.9958 | Time: 75.70735931396484\n",
      "Validation Epoch: 0m 19s | Accuracy: 0.49% | F1 Score: 0.4883 | AUROC: 0.4534\n",
      " Train Epoch: 23/25 | Loss: 0.20924 | Accuracy: 0.9614% | F1 Score: 0.9613 | AUROC: 0.9956 | Time: 75.72528576850891\n",
      "Validation Epoch: 0m 19s | Accuracy: 0.51% | F1 Score: 0.5077 | AUROC: 0.4754\n",
      " Train Epoch: 24/25 | Loss: 0.20400 | Accuracy: 0.9571% | F1 Score: 0.9570 | AUROC: 0.9940 | Time: 75.75050282478333\n",
      "Validation Epoch: 0m 19s | Accuracy: 0.54% | F1 Score: 0.5428 | AUROC: 0.4781\n",
      " Train Epoch: 25/25 | Loss: 0.18160 | Accuracy: 0.9549% | F1 Score: 0.9549 | AUROC: 0.9967 | Time: 75.7344400882721\n",
      "Validation Epoch: 0m 19s | Accuracy: 0.53% | F1 Score: 0.5294 | AUROC: 0.4918\n",
      "Training Time: 39m 21s | Avg Loss: 0.41023 | Avg Accuracy: 0.835% | Avg F1 Score: 0.8338 | Avg AUROC:0.8987\n",
      "\n",
      "Inference complete for FLAIR in 0m 19s | Accuracy: 0.534% | F1 Score: 0.5339 | AUROC: 0.5019\n",
      "Saving metrics_Res50GRU.json\n",
      "\n",
      "Cross validation loop complete for FLAIR in 198m 28s\n",
      "\n",
      "fold accuracy: [0.6068376302719116, 0.4871794879436493, 0.7155172228813171, 0.5, 0.5344827771186829]\n",
      "\n",
      "fold f1_score: [0.5983582139015198, 0.3417104482650757, 0.7129359245300293, 0.38590726256370544, 0.5339285731315613]\n",
      "\n",
      "fold auroc: [0.6349531412124634, 0.550644040107727, 0.6906110048294067, 0.526676595211029, 0.5019373893737793]\n",
      "\n",
      "Std F1 score: 0.13651284464796992\n",
      "\n",
      "AVG performance of model: 0.5145680844783783\n"
     ]
    },
    {
     "data": {
      "text/html": [
       "Waiting for W&B process to finish... <strong style=\"color:green\">(success).</strong>"
      ],
      "text/plain": [
       "<IPython.core.display.HTML object>"
      ]
     },
     "metadata": {},
     "output_type": "display_data"
    },
    {
     "data": {
      "text/html": [
       "<style>\n",
       "    table.wandb td:nth-child(1) { padding: 0 10px; text-align: left ; width: auto;} td:nth-child(2) {text-align: left ; width: 100%}\n",
       "    .wandb-row { display: flex; flex-direction: row; flex-wrap: wrap; justify-content: flex-start; width: 100% }\n",
       "    .wandb-col { display: flex; flex-direction: column; flex-basis: 100%; flex: 1; padding: 10px; }\n",
       "    </style>\n",
       "<div class=\"wandb-row\"><div class=\"wandb-col\"><h3>Run history:</h3><br/><table class=\"wandb\"><tr><td>Avg performance</td><td>▁</td></tr><tr><td>Std f1 score</td><td>▁</td></tr><tr><td>test AUROC</td><td>▆▃█▂▁</td></tr><tr><td>test acc</td><td>▅▁█▁▂</td></tr><tr><td>test f1</td><td>▆▁█▂▅</td></tr><tr><td>train AUROC</td><td>▂▄▆▇▇███▁▄▆▇████▁▅▇▇████▃▄▆▇████▃▅▇▇████</td></tr><tr><td>train acc</td><td>▁▃▅▆▇▇██▂▃▅▆▇▇██▁▄▅▆▇▇██▂▃▅▆▇▇▇█▃▄▆▆▇▇██</td></tr><tr><td>train f1_score</td><td>▂▃▆▆▇▇██▁▃▅▆▇▇██▂▅▆▇▇███▃▄▅▆▇▇▇█▃▄▆▇▇▇██</td></tr><tr><td>train loss</td><td>█▇▆▅▄▃▂▂█▇▆▅▃▂▂▁█▇▆▅▄▃▂▁█▇▆▅▄▃▂▁▇▇▅▄▃▂▂▁</td></tr><tr><td>val AUROC</td><td>▇▆▆▆▆▆▆▆▅▄▂▂▂▁▁▂█▂▄▄▅▄▅▅▄▄▄▄▄▄▄▄▄▄▄▄▄▄▄▄</td></tr><tr><td>val acc</td><td>▅▅▅▆▅▄▅▅▃▃▄▃▃▃▂▃█▁▃▃▄▂▄▄▄▄▄▄▄▄▄▄▃▄▄▄▄▄▃▅</td></tr><tr><td>val f1_score</td><td>▅▅▆▆▆▅▅▅▂▁▂▂▂▂▂▂█▂▄▃▄▃▄▄▃▂▄▄▄▄▄▃▄▅▅▄▄▅▄▅</td></tr><tr><td>val loss</td><td>▁▁▁▁▂▂▃▃▁▂▂▃▃▅▄▅▁▂▁▂▂▂▂▂▂▂▃▃▄▅▅█▂▂▂▃▄▄▅▆</td></tr></table><br/></div><div class=\"wandb-col\"><h3>Run summary:</h3><br/><table class=\"wandb\"><tr><td>Avg performance</td><td>0.51457</td></tr><tr><td>Std f1 score</td><td>0.13651</td></tr><tr><td>test AUROC</td><td>0.50194</td></tr><tr><td>test acc</td><td>0.53448</td></tr><tr><td>test f1</td><td>0.53393</td></tr><tr><td>train AUROC</td><td>0.99668</td></tr><tr><td>train acc</td><td>0.95494</td></tr><tr><td>train f1_score</td><td>0.9549</td></tr><tr><td>train loss</td><td>0.1816</td></tr><tr><td>val AUROC</td><td>0.4918</td></tr><tr><td>val acc</td><td>0.53448</td></tr><tr><td>val f1_score</td><td>0.52945</td></tr><tr><td>val loss</td><td>1.09675</td></tr></table><br/></div></div>"
      ],
      "text/plain": [
       "<IPython.core.display.HTML object>"
      ]
     },
     "metadata": {},
     "output_type": "display_data"
    },
    {
     "data": {
      "text/html": [
       " View run <strong style=\"color:#cdcd00\">experiment_FLAIR</strong> at: <a href='https://wandb.ai/karanjot/Res50GRU/runs/pnem31r0' target=\"_blank\">https://wandb.ai/karanjot/Res50GRU/runs/pnem31r0</a><br/> View job at <a href='https://wandb.ai/karanjot/Res50GRU/jobs/QXJ0aWZhY3RDb2xsZWN0aW9uOjkxMjg4NzE4/version_details/v0' target=\"_blank\">https://wandb.ai/karanjot/Res50GRU/jobs/QXJ0aWZhY3RDb2xsZWN0aW9uOjkxMjg4NzE4/version_details/v0</a><br/>Synced 5 W&B file(s), 0 media file(s), 0 artifact file(s) and 0 other file(s)"
      ],
      "text/plain": [
       "<IPython.core.display.HTML object>"
      ]
     },
     "metadata": {},
     "output_type": "display_data"
    },
    {
     "data": {
      "text/html": [
       "Find logs at: <code>.\\wandb\\run-20230823_155443-pnem31r0\\logs</code>"
      ],
      "text/plain": [
       "<IPython.core.display.HTML object>"
      ]
     },
     "metadata": {},
     "output_type": "display_data"
    }
   ],
   "source": [
    "#mod = ['FLAIR', 'T1w', 'T1wCE', 'T2w']\n",
    "#for m in mod:\n",
    "train()"
   ]
  },
  {
   "cell_type": "code",
   "execution_count": null,
   "metadata": {},
   "outputs": [],
   "source": []
  },
  {
   "cell_type": "code",
   "execution_count": null,
   "metadata": {},
   "outputs": [],
   "source": []
  },
  {
   "cell_type": "code",
   "execution_count": null,
   "metadata": {},
   "outputs": [],
   "source": []
  },
  {
   "cell_type": "code",
   "execution_count": null,
   "metadata": {},
   "outputs": [],
   "source": []
  }
 ],
 "metadata": {
  "kernelspec": {
   "display_name": "Python 3 (ipykernel)",
   "language": "python",
   "name": "python3"
  },
  "language_info": {
   "codemirror_mode": {
    "name": "ipython",
    "version": 3
   },
   "file_extension": ".py",
   "mimetype": "text/x-python",
   "name": "python",
   "nbconvert_exporter": "python",
   "pygments_lexer": "ipython3",
   "version": "3.11.4"
  }
 },
 "nbformat": 4,
 "nbformat_minor": 4
}

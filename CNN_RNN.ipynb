{
 "cells": [
  {
   "cell_type": "code",
   "execution_count": 1,
   "metadata": {},
   "outputs": [
    {
     "data": {
      "text/plain": [
       "'! pip install lightning\\n! pip install torchmetrics\\n! pip install watermark\\n! pip install mlxtend\\n! pip install tensorboard\\n! pip install pandas'"
      ]
     },
     "execution_count": 1,
     "metadata": {},
     "output_type": "execute_result"
    }
   ],
   "source": [
    "'''\n",
    "! pip install torchmetrics\n",
    "! pip install watermark\n",
    "! pip install mlxtend\n",
    "! pip install pandas'''"
   ]
  },
  {
   "cell_type": "code",
   "execution_count": 1,
   "metadata": {},
   "outputs": [
    {
     "name": "stdout",
     "output_type": "stream",
     "text": [
      "Author: Karanjot Vendal\n",
      "\n",
      "Python implementation: CPython\n",
      "Python version       : 3.11.4\n",
      "IPython version      : 8.14.0\n",
      "\n",
      "torch: 2.0.1\n",
      "\n"
     ]
    }
   ],
   "source": [
    "%reload_ext watermark\n",
    "%watermark -a 'Karanjot Vendal' -v -p torch --iversion"
   ]
  },
  {
   "cell_type": "code",
   "execution_count": 1,
   "metadata": {
    "editable": true,
    "slideshow": {
     "slide_type": ""
    },
    "tags": []
   },
   "outputs": [
    {
     "name": "stderr",
     "output_type": "stream",
     "text": [
      "/home/karanjotvendal/miniforge3/envs/thesis/lib/python3.11/site-packages/tqdm/auto.py:21: TqdmWarning: IProgress not found. Please update jupyter and ipywidgets. See https://ipywidgets.readthedocs.io/en/stable/user_install.html\n",
      "  from .autonotebook import tqdm as notebook_tqdm\n"
     ]
    }
   ],
   "source": [
    "import torch\n",
    "\n",
    "import matplotlib.pyplot as plt\n",
    "import numpy as np\n",
    "import pandas as pd\n",
    "\n",
    "from config import config\n",
    "from train import train\n",
    "from models import RACNet\n",
    "from plotting import show_failures, plot_loss_and_acc"
   ]
  },
  {
   "cell_type": "code",
   "execution_count": 13,
   "metadata": {},
   "outputs": [
    {
     "name": "stderr",
     "output_type": "stream",
     "text": [
      "\u001b[34m\u001b[1mwandb\u001b[0m: W&B API key is configured. Use \u001b[1m`wandb login --relogin`\u001b[0m to force relogin\n",
      "\u001b[34m\u001b[1mwandb\u001b[0m: \u001b[33mWARNING\u001b[0m If you're specifying your api key in code, ensure this code is not shared publicly.\n",
      "\u001b[34m\u001b[1mwandb\u001b[0m: \u001b[33mWARNING\u001b[0m Consider setting the WANDB_API_KEY environment variable, or running `wandb login` from the command line.\n",
      "\u001b[34m\u001b[1mwandb\u001b[0m: Appending key for api.wandb.ai to your netrc file: /home/karanjotvendal/.netrc\n"
     ]
    },
    {
     "data": {
      "text/plain": [
       "True"
      ]
     },
     "execution_count": 13,
     "metadata": {},
     "output_type": "execute_result"
    }
   ],
   "source": [
    "import wandb\n",
    "wandb.login(key=config.wandb_key)"
   ]
  },
  {
   "cell_type": "markdown",
   "metadata": {},
   "source": [
    "# Hyperparameters"
   ]
  },
  {
   "cell_type": "code",
   "execution_count": 2,
   "metadata": {},
   "outputs": [],
   "source": [
    "PATH = 'data/reduced_dataset/'\n",
    "MODEL = 'resnet18'\n",
    "BATCH_SIZE = 3\n",
    "NUM_EPOCHS = 5\n",
    "LEARNING_RATE = 0.0001\n",
    "\n",
    "NUM_WORKERS = 2\n",
    "NUM_CLASSES = 2\n",
    "\n",
    "KFOLD= 10 \n",
    "# Device\n",
    "DEVICE = torch.device(\"cuda\" if torch.cuda.is_available() else \"cpu\")"
   ]
  },
  {
   "cell_type": "code",
   "execution_count": null,
   "metadata": {
    "editable": true,
    "slideshow": {
     "slide_type": ""
    },
    "tags": []
   },
   "outputs": [],
   "source": [
    "run = wandb.init(\n",
    "\n",
    "      project=\"RACNet\", \n",
    "      name=f\"experiment_{'sanity_check'}\", \n",
    "      config={\n",
    "      \"learning_rate\": LEARNING_RATE,\n",
    "      \"architecture\": \"CNN-GRU-MASK-FC-Classifier\",\n",
    "      \"dataset\": \"MICAA MRI\",\n",
    "      \"epochs\": NUM_EPOCHS,\n",
    "      \"BATCH_SIZE\": BATCH_SIZE\n",
    "      })"
   ]
  },
  {
   "cell_type": "markdown",
   "metadata": {},
   "source": [
    "# Model"
   ]
  },
  {
   "cell_type": "code",
   "execution_count": 3,
   "metadata": {},
   "outputs": [
    {
     "data": {
      "text/plain": [
       "RACNet(\n",
       "  (cnn): ResNet(\n",
       "    (conv1): Conv2d(1, 64, kernel_size=(7, 7), stride=(2, 2), padding=(3, 3), bias=False)\n",
       "    (bn1): BatchNorm2d(64, eps=1e-05, momentum=0.1, affine=True, track_running_stats=True)\n",
       "    (act1): ReLU(inplace=True)\n",
       "    (maxpool): MaxPool2d(kernel_size=3, stride=2, padding=1, dilation=1, ceil_mode=False)\n",
       "    (layer1): Sequential(\n",
       "      (0): BasicBlock(\n",
       "        (conv1): Conv2d(64, 64, kernel_size=(3, 3), stride=(1, 1), padding=(1, 1), bias=False)\n",
       "        (bn1): BatchNorm2d(64, eps=1e-05, momentum=0.1, affine=True, track_running_stats=True)\n",
       "        (drop_block): Identity()\n",
       "        (act1): ReLU(inplace=True)\n",
       "        (aa): Identity()\n",
       "        (conv2): Conv2d(64, 64, kernel_size=(3, 3), stride=(1, 1), padding=(1, 1), bias=False)\n",
       "        (bn2): BatchNorm2d(64, eps=1e-05, momentum=0.1, affine=True, track_running_stats=True)\n",
       "        (act2): ReLU(inplace=True)\n",
       "      )\n",
       "      (1): BasicBlock(\n",
       "        (conv1): Conv2d(64, 64, kernel_size=(3, 3), stride=(1, 1), padding=(1, 1), bias=False)\n",
       "        (bn1): BatchNorm2d(64, eps=1e-05, momentum=0.1, affine=True, track_running_stats=True)\n",
       "        (drop_block): Identity()\n",
       "        (act1): ReLU(inplace=True)\n",
       "        (aa): Identity()\n",
       "        (conv2): Conv2d(64, 64, kernel_size=(3, 3), stride=(1, 1), padding=(1, 1), bias=False)\n",
       "        (bn2): BatchNorm2d(64, eps=1e-05, momentum=0.1, affine=True, track_running_stats=True)\n",
       "        (act2): ReLU(inplace=True)\n",
       "      )\n",
       "    )\n",
       "    (layer2): Sequential(\n",
       "      (0): BasicBlock(\n",
       "        (conv1): Conv2d(64, 128, kernel_size=(3, 3), stride=(2, 2), padding=(1, 1), bias=False)\n",
       "        (bn1): BatchNorm2d(128, eps=1e-05, momentum=0.1, affine=True, track_running_stats=True)\n",
       "        (drop_block): Identity()\n",
       "        (act1): ReLU(inplace=True)\n",
       "        (aa): Identity()\n",
       "        (conv2): Conv2d(128, 128, kernel_size=(3, 3), stride=(1, 1), padding=(1, 1), bias=False)\n",
       "        (bn2): BatchNorm2d(128, eps=1e-05, momentum=0.1, affine=True, track_running_stats=True)\n",
       "        (act2): ReLU(inplace=True)\n",
       "        (downsample): Sequential(\n",
       "          (0): Conv2d(64, 128, kernel_size=(1, 1), stride=(2, 2), bias=False)\n",
       "          (1): BatchNorm2d(128, eps=1e-05, momentum=0.1, affine=True, track_running_stats=True)\n",
       "        )\n",
       "      )\n",
       "      (1): BasicBlock(\n",
       "        (conv1): Conv2d(128, 128, kernel_size=(3, 3), stride=(1, 1), padding=(1, 1), bias=False)\n",
       "        (bn1): BatchNorm2d(128, eps=1e-05, momentum=0.1, affine=True, track_running_stats=True)\n",
       "        (drop_block): Identity()\n",
       "        (act1): ReLU(inplace=True)\n",
       "        (aa): Identity()\n",
       "        (conv2): Conv2d(128, 128, kernel_size=(3, 3), stride=(1, 1), padding=(1, 1), bias=False)\n",
       "        (bn2): BatchNorm2d(128, eps=1e-05, momentum=0.1, affine=True, track_running_stats=True)\n",
       "        (act2): ReLU(inplace=True)\n",
       "      )\n",
       "    )\n",
       "    (layer3): Sequential(\n",
       "      (0): BasicBlock(\n",
       "        (conv1): Conv2d(128, 256, kernel_size=(3, 3), stride=(2, 2), padding=(1, 1), bias=False)\n",
       "        (bn1): BatchNorm2d(256, eps=1e-05, momentum=0.1, affine=True, track_running_stats=True)\n",
       "        (drop_block): Identity()\n",
       "        (act1): ReLU(inplace=True)\n",
       "        (aa): Identity()\n",
       "        (conv2): Conv2d(256, 256, kernel_size=(3, 3), stride=(1, 1), padding=(1, 1), bias=False)\n",
       "        (bn2): BatchNorm2d(256, eps=1e-05, momentum=0.1, affine=True, track_running_stats=True)\n",
       "        (act2): ReLU(inplace=True)\n",
       "        (downsample): Sequential(\n",
       "          (0): Conv2d(128, 256, kernel_size=(1, 1), stride=(2, 2), bias=False)\n",
       "          (1): BatchNorm2d(256, eps=1e-05, momentum=0.1, affine=True, track_running_stats=True)\n",
       "        )\n",
       "      )\n",
       "      (1): BasicBlock(\n",
       "        (conv1): Conv2d(256, 256, kernel_size=(3, 3), stride=(1, 1), padding=(1, 1), bias=False)\n",
       "        (bn1): BatchNorm2d(256, eps=1e-05, momentum=0.1, affine=True, track_running_stats=True)\n",
       "        (drop_block): Identity()\n",
       "        (act1): ReLU(inplace=True)\n",
       "        (aa): Identity()\n",
       "        (conv2): Conv2d(256, 256, kernel_size=(3, 3), stride=(1, 1), padding=(1, 1), bias=False)\n",
       "        (bn2): BatchNorm2d(256, eps=1e-05, momentum=0.1, affine=True, track_running_stats=True)\n",
       "        (act2): ReLU(inplace=True)\n",
       "      )\n",
       "    )\n",
       "    (layer4): Sequential(\n",
       "      (0): BasicBlock(\n",
       "        (conv1): Conv2d(256, 512, kernel_size=(3, 3), stride=(2, 2), padding=(1, 1), bias=False)\n",
       "        (bn1): BatchNorm2d(512, eps=1e-05, momentum=0.1, affine=True, track_running_stats=True)\n",
       "        (drop_block): Identity()\n",
       "        (act1): ReLU(inplace=True)\n",
       "        (aa): Identity()\n",
       "        (conv2): Conv2d(512, 512, kernel_size=(3, 3), stride=(1, 1), padding=(1, 1), bias=False)\n",
       "        (bn2): BatchNorm2d(512, eps=1e-05, momentum=0.1, affine=True, track_running_stats=True)\n",
       "        (act2): ReLU(inplace=True)\n",
       "        (downsample): Sequential(\n",
       "          (0): Conv2d(256, 512, kernel_size=(1, 1), stride=(2, 2), bias=False)\n",
       "          (1): BatchNorm2d(512, eps=1e-05, momentum=0.1, affine=True, track_running_stats=True)\n",
       "        )\n",
       "      )\n",
       "      (1): BasicBlock(\n",
       "        (conv1): Conv2d(512, 512, kernel_size=(3, 3), stride=(1, 1), padding=(1, 1), bias=False)\n",
       "        (bn1): BatchNorm2d(512, eps=1e-05, momentum=0.1, affine=True, track_running_stats=True)\n",
       "        (drop_block): Identity()\n",
       "        (act1): ReLU(inplace=True)\n",
       "        (aa): Identity()\n",
       "        (conv2): Conv2d(512, 512, kernel_size=(3, 3), stride=(1, 1), padding=(1, 1), bias=False)\n",
       "        (bn2): BatchNorm2d(512, eps=1e-05, momentum=0.1, affine=True, track_running_stats=True)\n",
       "        (act2): ReLU(inplace=True)\n",
       "      )\n",
       "    )\n",
       "    (global_pool): SelectAdaptivePool2d (pool_type=avg, flatten=Flatten(start_dim=1, end_dim=-1))\n",
       "    (fc): Identity()\n",
       "  )\n",
       "  (rnn): GRU(512, 64, batch_first=True)\n",
       "  (fc): Linear(in_features=16256, out_features=32, bias=True)\n",
       "  (classifier): Linear(in_features=32, out_features=2, bias=True)\n",
       ")"
      ]
     },
     "execution_count": 3,
     "metadata": {},
     "output_type": "execute_result"
    }
   ],
   "source": [
    "model = RACNet(MODEL, NUM_CLASSES)\n",
    "model"
   ]
  },
  {
   "cell_type": "markdown",
   "metadata": {
    "editable": true,
    "slideshow": {
     "slide_type": ""
    },
    "tags": []
   },
   "source": [
    "# Training"
   ]
  },
  {
   "cell_type": "code",
   "execution_count": 4,
   "metadata": {
    "editable": true,
    "slideshow": {
     "slide_type": ""
    },
    "tags": []
   },
   "outputs": [
    {
     "name": "stdout",
     "output_type": "stream",
     "text": [
      "------------------------------\n",
      "Fold 1\n"
     ]
    },
    {
     "name": "stderr",
     "output_type": "stream",
     "text": [
      "  0%|                                                                                           | 0/155 [00:00<?, ?it/s]"
     ]
    },
    {
     "name": "stdout",
     "output_type": "stream",
     "text": [
      "--------------------------------------------------\n",
      "[tensor([ 14, 100, 109])]\n",
      "feature shape torch.Size([3, 254, 1, 112, 112])\n",
      "reshape input torch.Size([762, 1, 112, 112])\n",
      "CNN ouput torch.Size([762, 512])\n",
      "reshaped rnn_in torch.Size([3, 254, 512])\n",
      "RNN ouput torch.Size([3, 254, 64])\n",
      "mask ouput torch.Size([3, 254, 64])\n",
      "reshaped masked output torch.Size([3, 16256])\n",
      "fc ouput torch.Size([3, 32])\n",
      "logits torch.Size([3, 2])\n",
      "classifier ouput torch.Size([3, 2])\n"
     ]
    },
    {
     "name": "stderr",
     "output_type": "stream",
     "text": [
      "  1%|▌                                                                                  | 1/155 [00:15<40:14, 15.68s/it]"
     ]
    },
    {
     "name": "stdout",
     "output_type": "stream",
     "text": [
      "-----------------Loss: 0.6683046221733093-----------------------\n",
      "------BATCH ENDING-------\n",
      "--------------------------------------------------\n",
      "[tensor([169, 202,  34])]\n",
      "feature shape torch.Size([3, 254, 1, 112, 112])\n",
      "reshape input torch.Size([762, 1, 112, 112])\n",
      "CNN ouput torch.Size([762, 512])\n",
      "reshaped rnn_in torch.Size([3, 254, 512])\n",
      "RNN ouput torch.Size([3, 254, 64])\n"
     ]
    },
    {
     "name": "stderr",
     "output_type": "stream",
     "text": [
      "  2%|█▌                                                                                 | 3/155 [00:16<09:20,  3.69s/it]"
     ]
    },
    {
     "name": "stdout",
     "output_type": "stream",
     "text": [
      "mask ouput torch.Size([3, 254, 64])\n",
      "reshaped masked output torch.Size([3, 16256])\n",
      "fc ouput torch.Size([3, 32])\n",
      "logits torch.Size([3, 2])\n",
      "classifier ouput torch.Size([3, 2])\n",
      "-----------------Loss: 0.6607080101966858-----------------------\n",
      "------BATCH ENDING-------\n",
      "--------------------------------------------------\n",
      "[tensor([33, 19, 34])]\n",
      "feature shape torch.Size([3, 254, 1, 112, 112])\n",
      "reshape input torch.Size([762, 1, 112, 112])\n",
      "CNN ouput torch.Size([762, 512])\n",
      "reshaped rnn_in torch.Size([3, 254, 512])\n",
      "RNN ouput torch.Size([3, 254, 64])\n",
      "mask ouput torch.Size([3, 254, 64])\n",
      "reshaped masked output torch.Size([3, 16256])\n",
      "fc ouput torch.Size([3, 32])\n",
      "logits torch.Size([3, 2])\n",
      "classifier ouput torch.Size([3, 2])\n",
      "-----------------Loss: 0.7454079985618591-----------------------\n",
      "------BATCH ENDING-------\n",
      "--------------------------------------------------\n",
      "[tensor([113,  35,  34])]\n",
      "feature shape torch.Size([3, 254, 1, 112, 112])\n",
      "reshape input torch.Size([762, 1, 112, 112])\n",
      "CNN ouput torch.Size([762, 512])\n",
      "reshaped rnn_in torch.Size([3, 254, 512])\n",
      "RNN ouput torch.Size([3, 254, 64])\n"
     ]
    },
    {
     "name": "stderr",
     "output_type": "stream",
     "text": [
      "  3%|██▋                                                                                | 5/155 [00:16<03:47,  1.52s/it]"
     ]
    },
    {
     "name": "stdout",
     "output_type": "stream",
     "text": [
      "mask ouput torch.Size([3, 254, 64])\n",
      "reshaped masked output torch.Size([3, 16256])\n",
      "fc ouput torch.Size([3, 32])\n",
      "logits torch.Size([3, 2])\n",
      "classifier ouput torch.Size([3, 2])\n",
      "-----------------Loss: 0.6245744824409485-----------------------\n",
      "------BATCH ENDING-------\n",
      "--------------------------------------------------\n",
      "[tensor([ 97, 101, 106])]\n",
      "feature shape torch.Size([3, 254, 1, 112, 112])\n",
      "reshape input torch.Size([762, 1, 112, 112])\n",
      "CNN ouput torch.Size([762, 512])\n",
      "reshaped rnn_in torch.Size([3, 254, 512])\n",
      "RNN ouput torch.Size([3, 254, 64])\n",
      "mask ouput torch.Size([3, 254, 64])\n",
      "reshaped masked output torch.Size([3, 16256])\n",
      "fc ouput torch.Size([3, 32])\n",
      "logits torch.Size([3, 2])\n",
      "classifier ouput torch.Size([3, 2])\n",
      "-----------------Loss: 0.793255627155304-----------------------\n",
      "------BATCH ENDING-------\n",
      "--------------------------------------------------\n",
      "[tensor([95, 32, 47])]\n",
      "feature shape torch.Size([3, 254, 1, 112, 112])\n",
      "reshape input torch.Size([762, 1, 112, 112])\n",
      "CNN ouput torch.Size([762, 512])\n",
      "reshaped rnn_in torch.Size([3, 254, 512])\n",
      "RNN ouput torch.Size([3, 254, 64])\n"
     ]
    },
    {
     "name": "stderr",
     "output_type": "stream",
     "text": [
      "  5%|███▋                                                                               | 7/155 [00:16<01:51,  1.33it/s]"
     ]
    },
    {
     "name": "stdout",
     "output_type": "stream",
     "text": [
      "mask ouput torch.Size([3, 254, 64])\n",
      "reshaped masked output torch.Size([3, 16256])\n",
      "fc ouput torch.Size([3, 32])\n",
      "logits torch.Size([3, 2])\n",
      "classifier ouput torch.Size([3, 2])\n",
      "-----------------Loss: 0.6840499043464661-----------------------\n",
      "------BATCH ENDING-------\n",
      "--------------------------------------------------\n",
      "[tensor([ 51, 112, 189])]\n",
      "feature shape torch.Size([3, 254, 1, 112, 112])\n",
      "reshape input torch.Size([762, 1, 112, 112])\n",
      "CNN ouput torch.Size([762, 512])\n",
      "reshaped rnn_in torch.Size([3, 254, 512])\n",
      "RNN ouput torch.Size([3, 254, 64])\n",
      "mask ouput torch.Size([3, 254, 64])\n",
      "reshaped masked output torch.Size([3, 16256])\n",
      "fc ouput torch.Size([3, 32])\n",
      "logits torch.Size([3, 2])\n",
      "classifier ouput torch.Size([3, 2])\n",
      "-----------------Loss: 0.9070818424224854-----------------------\n",
      "------BATCH ENDING-------\n",
      "--------------------------------------------------\n",
      "[tensor([ 34, 101, 106])]\n",
      "feature shape torch.Size([3, 254, 1, 112, 112])\n",
      "reshape input torch.Size([762, 1, 112, 112])\n",
      "CNN ouput torch.Size([762, 512])\n",
      "reshaped rnn_in torch.Size([3, 254, 512])\n",
      "RNN ouput torch.Size([3, 254, 64])\n"
     ]
    },
    {
     "name": "stderr",
     "output_type": "stream",
     "text": [
      "  6%|████▊                                                                              | 9/155 [00:17<01:02,  2.34it/s]"
     ]
    },
    {
     "name": "stdout",
     "output_type": "stream",
     "text": [
      "mask ouput torch.Size([3, 254, 64])\n",
      "reshaped masked output torch.Size([3, 16256])\n",
      "fc ouput torch.Size([3, 32])\n",
      "logits torch.Size([3, 2])\n",
      "classifier ouput torch.Size([3, 2])\n",
      "-----------------Loss: 0.7558457851409912-----------------------\n",
      "------BATCH ENDING-------\n",
      "--------------------------------------------------\n",
      "[tensor([ 50, 106, 107])]\n",
      "feature shape torch.Size([3, 254, 1, 112, 112])\n",
      "reshape input torch.Size([762, 1, 112, 112])\n",
      "CNN ouput torch.Size([762, 512])\n",
      "reshaped rnn_in torch.Size([3, 254, 512])\n",
      "RNN ouput torch.Size([3, 254, 64])\n",
      "mask ouput torch.Size([3, 254, 64])\n",
      "reshaped masked output torch.Size([3, 16256])\n",
      "fc ouput torch.Size([3, 32])\n",
      "logits torch.Size([3, 2])\n",
      "classifier ouput torch.Size([3, 2])\n",
      "-----------------Loss: 0.605546772480011-----------------------\n",
      "------BATCH ENDING-------\n",
      "--------------------------------------------------\n",
      "[tensor([ 35, 106,  97])]\n",
      "feature shape torch.Size([3, 254, 1, 112, 112])\n",
      "reshape input torch.Size([762, 1, 112, 112])\n",
      "CNN ouput torch.Size([762, 512])\n",
      "reshaped rnn_in torch.Size([3, 254, 512])\n",
      "RNN ouput torch.Size([3, 254, 64])\n"
     ]
    },
    {
     "name": "stderr",
     "output_type": "stream",
     "text": [
      "  7%|█████▊                                                                            | 11/155 [00:17<00:40,  3.58it/s]"
     ]
    },
    {
     "name": "stdout",
     "output_type": "stream",
     "text": [
      "mask ouput torch.Size([3, 254, 64])\n",
      "reshaped masked output torch.Size([3, 16256])\n",
      "fc ouput torch.Size([3, 32])\n",
      "logits torch.Size([3, 2])\n",
      "classifier ouput torch.Size([3, 2])\n",
      "-----------------Loss: 0.6730613112449646-----------------------\n",
      "------BATCH ENDING-------\n",
      "--------------------------------------------------\n",
      "[tensor([13, 32, 33])]\n",
      "feature shape torch.Size([3, 254, 1, 112, 112])\n",
      "reshape input torch.Size([762, 1, 112, 112])\n",
      "CNN ouput torch.Size([762, 512])\n",
      "reshaped rnn_in torch.Size([3, 254, 512])\n",
      "RNN ouput torch.Size([3, 254, 64])\n",
      "mask ouput torch.Size([3, 254, 64])\n",
      "reshaped masked output torch.Size([3, 16256])\n",
      "fc ouput torch.Size([3, 32])\n",
      "logits torch.Size([3, 2])\n",
      "classifier ouput torch.Size([3, 2])\n",
      "-----------------Loss: 0.7423713803291321-----------------------\n",
      "------BATCH ENDING-------\n",
      "--------------------------------------------------\n",
      "[tensor([ 32,  31, 101])]\n",
      "feature shape torch.Size([3, 254, 1, 112, 112])\n",
      "reshape input torch.Size([762, 1, 112, 112])\n",
      "CNN ouput torch.Size([762, 512])\n",
      "reshaped rnn_in torch.Size([3, 254, 512])\n",
      "RNN ouput torch.Size([3, 254, 64])\n"
     ]
    },
    {
     "name": "stderr",
     "output_type": "stream",
     "text": [
      "  8%|██████▉                                                                           | 13/155 [00:17<00:29,  4.78it/s]"
     ]
    },
    {
     "name": "stdout",
     "output_type": "stream",
     "text": [
      "mask ouput torch.Size([3, 254, 64])\n",
      "reshaped masked output torch.Size([3, 16256])\n",
      "fc ouput torch.Size([3, 32])\n",
      "logits torch.Size([3, 2])\n",
      "classifier ouput torch.Size([3, 2])\n",
      "-----------------Loss: 0.729485809803009-----------------------\n",
      "------BATCH ENDING-------\n",
      "--------------------------------------------------\n",
      "[tensor([105,  17,  35])]\n",
      "feature shape torch.Size([3, 254, 1, 112, 112])\n",
      "reshape input torch.Size([762, 1, 112, 112])\n",
      "CNN ouput torch.Size([762, 512])\n",
      "reshaped rnn_in torch.Size([3, 254, 512])\n",
      "RNN ouput torch.Size([3, 254, 64])\n",
      "mask ouput torch.Size([3, 254, 64])\n",
      "reshaped masked output torch.Size([3, 16256])\n",
      "fc ouput torch.Size([3, 32])\n",
      "logits torch.Size([3, 2])\n",
      "classifier ouput torch.Size([3, 2])\n",
      "-----------------Loss: 0.5592085719108582-----------------------\n",
      "------BATCH ENDING-------\n",
      "--------------------------------------------------\n",
      "[tensor([107,  33, 210])]\n",
      "feature shape torch.Size([3, 254, 1, 112, 112])\n",
      "reshape input torch.Size([762, 1, 112, 112])\n",
      "CNN ouput torch.Size([762, 512])\n",
      "reshaped rnn_in torch.Size([3, 254, 512])\n",
      "RNN ouput torch.Size([3, 254, 64])\n"
     ]
    },
    {
     "name": "stderr",
     "output_type": "stream",
     "text": [
      " 10%|███████▉                                                                          | 15/155 [00:17<00:24,  5.68it/s]"
     ]
    },
    {
     "name": "stdout",
     "output_type": "stream",
     "text": [
      "mask ouput torch.Size([3, 254, 64])\n",
      "reshaped masked output torch.Size([3, 16256])\n",
      "fc ouput torch.Size([3, 32])\n",
      "logits torch.Size([3, 2])\n",
      "classifier ouput torch.Size([3, 2])\n",
      "-----------------Loss: 0.526726484298706-----------------------\n",
      "------BATCH ENDING-------\n",
      "--------------------------------------------------\n",
      "[tensor([106, 226, 201])]\n",
      "feature shape torch.Size([3, 254, 1, 112, 112])\n",
      "reshape input torch.Size([762, 1, 112, 112])\n",
      "CNN ouput torch.Size([762, 512])\n",
      "reshaped rnn_in torch.Size([3, 254, 512])\n",
      "RNN ouput torch.Size([3, 254, 64])\n",
      "mask ouput torch.Size([3, 254, 64])\n",
      "reshaped masked output torch.Size([3, 16256])\n",
      "fc ouput torch.Size([3, 32])\n",
      "logits torch.Size([3, 2])\n",
      "classifier ouput torch.Size([3, 2])\n",
      "-----------------Loss: 0.7772260308265686-----------------------\n",
      "------BATCH ENDING-------\n",
      "--------------------------------------------------\n",
      "[tensor([ 34,  34, 112])]\n",
      "feature shape torch.Size([3, 254, 1, 112, 112])\n",
      "reshape input torch.Size([762, 1, 112, 112])\n",
      "CNN ouput torch.Size([762, 512])\n",
      "reshaped rnn_in torch.Size([3, 254, 512])\n",
      "RNN ouput torch.Size([3, 254, 64])\n"
     ]
    },
    {
     "name": "stderr",
     "output_type": "stream",
     "text": [
      " 11%|████████▉                                                                         | 17/155 [00:18<00:21,  6.27it/s]"
     ]
    },
    {
     "name": "stdout",
     "output_type": "stream",
     "text": [
      "mask ouput torch.Size([3, 254, 64])\n",
      "reshaped masked output torch.Size([3, 16256])\n",
      "fc ouput torch.Size([3, 32])\n",
      "logits torch.Size([3, 2])\n",
      "classifier ouput torch.Size([3, 2])\n",
      "-----------------Loss: 0.6334834098815918-----------------------\n",
      "------BATCH ENDING-------\n",
      "--------------------------------------------------\n",
      "[tensor([34, 35, 49])]\n",
      "feature shape torch.Size([3, 254, 1, 112, 112])\n",
      "reshape input torch.Size([762, 1, 112, 112])\n",
      "CNN ouput torch.Size([762, 512])\n",
      "reshaped rnn_in torch.Size([3, 254, 512])\n",
      "RNN ouput torch.Size([3, 254, 64])\n",
      "mask ouput torch.Size([3, 254, 64])\n",
      "reshaped masked output torch.Size([3, 16256])\n",
      "fc ouput torch.Size([3, 32])\n",
      "logits torch.Size([3, 2])\n",
      "classifier ouput torch.Size([3, 2])\n",
      "-----------------Loss: 0.6673552393913269-----------------------\n",
      "------BATCH ENDING-------\n",
      "--------------------------------------------------\n",
      "[tensor([ 14,  95, 100])]\n",
      "feature shape torch.Size([3, 254, 1, 112, 112])\n",
      "reshape input torch.Size([762, 1, 112, 112])\n",
      "CNN ouput torch.Size([762, 512])\n",
      "reshaped rnn_in torch.Size([3, 254, 512])\n",
      "RNN ouput torch.Size([3, 254, 64])\n"
     ]
    },
    {
     "name": "stderr",
     "output_type": "stream",
     "text": [
      " 12%|██████████                                                                        | 19/155 [00:18<00:20,  6.63it/s]"
     ]
    },
    {
     "name": "stdout",
     "output_type": "stream",
     "text": [
      "mask ouput torch.Size([3, 254, 64])\n",
      "reshaped masked output torch.Size([3, 16256])\n",
      "fc ouput torch.Size([3, 32])\n",
      "logits torch.Size([3, 2])\n",
      "classifier ouput torch.Size([3, 2])\n",
      "-----------------Loss: 0.5559942722320557-----------------------\n",
      "------BATCH ENDING-------\n",
      "--------------------------------------------------\n",
      "[tensor([ 17, 102,  18])]\n",
      "feature shape torch.Size([3, 254, 1, 112, 112])\n",
      "reshape input torch.Size([762, 1, 112, 112])\n",
      "CNN ouput torch.Size([762, 512])\n",
      "reshaped rnn_in torch.Size([3, 254, 512])\n",
      "RNN ouput torch.Size([3, 254, 64])\n",
      "mask ouput torch.Size([3, 254, 64])\n",
      "reshaped masked output torch.Size([3, 16256])\n",
      "fc ouput torch.Size([3, 32])\n",
      "logits torch.Size([3, 2])\n",
      "classifier ouput torch.Size([3, 2])\n",
      "-----------------Loss: 0.6469166874885559-----------------------\n",
      "------BATCH ENDING-------\n",
      "--------------------------------------------------\n",
      "[tensor([100, 212,  34])]\n",
      "feature shape torch.Size([3, 254, 1, 112, 112])\n",
      "reshape input torch.Size([762, 1, 112, 112])\n",
      "CNN ouput torch.Size([762, 512])\n",
      "reshaped rnn_in torch.Size([3, 254, 512])\n",
      "RNN ouput torch.Size([3, 254, 64])\n"
     ]
    },
    {
     "name": "stderr",
     "output_type": "stream",
     "text": [
      " 14%|███████████                                                                       | 21/155 [00:18<00:19,  6.83it/s]"
     ]
    },
    {
     "name": "stdout",
     "output_type": "stream",
     "text": [
      "mask ouput torch.Size([3, 254, 64])\n",
      "reshaped masked output torch.Size([3, 16256])\n",
      "fc ouput torch.Size([3, 32])\n",
      "logits torch.Size([3, 2])\n",
      "classifier ouput torch.Size([3, 2])\n",
      "-----------------Loss: 0.7886865735054016-----------------------\n",
      "------BATCH ENDING-------\n",
      "--------------------------------------------------\n",
      "[tensor([34, 34, 17])]\n",
      "feature shape torch.Size([3, 254, 1, 112, 112])\n",
      "reshape input torch.Size([762, 1, 112, 112])\n",
      "CNN ouput torch.Size([762, 512])\n",
      "reshaped rnn_in torch.Size([3, 254, 512])\n",
      "RNN ouput torch.Size([3, 254, 64])\n",
      "mask ouput torch.Size([3, 254, 64])\n",
      "reshaped masked output torch.Size([3, 16256])\n",
      "fc ouput torch.Size([3, 32])\n",
      "logits torch.Size([3, 2])\n",
      "classifier ouput torch.Size([3, 2])\n",
      "-----------------Loss: 0.6655862331390381-----------------------\n",
      "------BATCH ENDING-------\n",
      "--------------------------------------------------\n",
      "[tensor([34, 91, 35])]\n",
      "feature shape torch.Size([3, 254, 1, 112, 112])\n",
      "reshape input torch.Size([762, 1, 112, 112])\n",
      "CNN ouput torch.Size([762, 512])\n",
      "reshaped rnn_in torch.Size([3, 254, 512])\n",
      "RNN ouput torch.Size([3, 254, 64])\n"
     ]
    },
    {
     "name": "stderr",
     "output_type": "stream",
     "text": [
      " 15%|████████████▏                                                                     | 23/155 [00:19<00:19,  6.89it/s]"
     ]
    },
    {
     "name": "stdout",
     "output_type": "stream",
     "text": [
      "mask ouput torch.Size([3, 254, 64])\n",
      "reshaped masked output torch.Size([3, 16256])\n",
      "fc ouput torch.Size([3, 32])\n",
      "logits torch.Size([3, 2])\n",
      "classifier ouput torch.Size([3, 2])\n",
      "-----------------Loss: 0.6394243240356445-----------------------\n",
      "------BATCH ENDING-------\n",
      "--------------------------------------------------\n",
      "[tensor([104, 101,  93])]\n",
      "feature shape torch.Size([3, 254, 1, 112, 112])\n",
      "reshape input torch.Size([762, 1, 112, 112])\n",
      "CNN ouput torch.Size([762, 512])\n",
      "reshaped rnn_in torch.Size([3, 254, 512])\n",
      "RNN ouput torch.Size([3, 254, 64])\n",
      "mask ouput torch.Size([3, 254, 64])\n",
      "reshaped masked output torch.Size([3, 16256])\n",
      "fc ouput torch.Size([3, 32])\n",
      "logits torch.Size([3, 2])\n",
      "classifier ouput torch.Size([3, 2])\n",
      "-----------------Loss: 0.7678987383842468-----------------------\n",
      "------BATCH ENDING-------\n",
      "--------------------------------------------------\n",
      "[tensor([ 34, 107,  31])]\n",
      "feature shape torch.Size([3, 254, 1, 112, 112])\n",
      "reshape input torch.Size([762, 1, 112, 112])\n",
      "CNN ouput torch.Size([762, 512])\n",
      "reshaped rnn_in torch.Size([3, 254, 512])\n",
      "RNN ouput torch.Size([3, 254, 64])\n"
     ]
    },
    {
     "name": "stderr",
     "output_type": "stream",
     "text": [
      " 15%|████████████▋                                                                     | 24/155 [00:19<00:18,  6.91it/s]"
     ]
    },
    {
     "name": "stdout",
     "output_type": "stream",
     "text": [
      "mask ouput torch.Size([3, 254, 64])\n",
      "reshaped masked output torch.Size([3, 16256])\n",
      "fc ouput torch.Size([3, 32])\n",
      "logits torch.Size([3, 2])\n",
      "classifier ouput torch.Size([3, 2])\n",
      "-----------------Loss: 0.5616862177848816-----------------------\n",
      "------BATCH ENDING-------\n"
     ]
    },
    {
     "name": "stderr",
     "output_type": "stream",
     "text": [
      " 16%|█████████████▏                                                                    | 25/155 [00:19<00:33,  3.92it/s]"
     ]
    },
    {
     "name": "stdout",
     "output_type": "stream",
     "text": [
      "--------------------------------------------------\n",
      "[tensor([101, 104, 219])]\n",
      "feature shape torch.Size([3, 254, 1, 112, 112])\n",
      "reshape input torch.Size([762, 1, 112, 112])\n",
      "CNN ouput torch.Size([762, 512])\n",
      "reshaped rnn_in torch.Size([3, 254, 512])\n",
      "RNN ouput torch.Size([3, 254, 64])\n",
      "mask ouput torch.Size([3, 254, 64])\n",
      "reshaped masked output torch.Size([3, 16256])\n",
      "fc ouput torch.Size([3, 32])\n",
      "logits torch.Size([3, 2])\n",
      "classifier ouput torch.Size([3, 2])\n",
      "-----------------Loss: 0.6713714003562927-----------------------\n",
      "------BATCH ENDING-------\n",
      "--------------------------------------------------\n",
      "[tensor([34, 11, 33])]\n",
      "feature shape torch.Size([3, 254, 1, 112, 112])\n",
      "reshape input torch.Size([762, 1, 112, 112])\n",
      "CNN ouput torch.Size([762, 512])\n",
      "reshaped rnn_in torch.Size([3, 254, 512])\n",
      "RNN ouput torch.Size([3, 254, 64])\n"
     ]
    },
    {
     "name": "stderr",
     "output_type": "stream",
     "text": [
      " 17%|██████████████▎                                                                   | 27/155 [00:19<00:25,  5.02it/s]"
     ]
    },
    {
     "name": "stdout",
     "output_type": "stream",
     "text": [
      "mask ouput torch.Size([3, 254, 64])\n",
      "reshaped masked output torch.Size([3, 16256])\n",
      "fc ouput torch.Size([3, 32])\n",
      "logits torch.Size([3, 2])\n",
      "classifier ouput torch.Size([3, 2])\n",
      "-----------------Loss: 0.6586945056915283-----------------------\n",
      "------BATCH ENDING-------\n",
      "--------------------------------------------------\n",
      "[tensor([33, 33, 17])]\n",
      "feature shape torch.Size([3, 254, 1, 112, 112])\n",
      "reshape input torch.Size([762, 1, 112, 112])\n",
      "CNN ouput torch.Size([762, 512])\n",
      "reshaped rnn_in torch.Size([3, 254, 512])\n",
      "RNN ouput torch.Size([3, 254, 64])\n",
      "mask ouput torch.Size([3, 254, 64])\n",
      "reshaped masked output torch.Size([3, 16256])\n",
      "fc ouput torch.Size([3, 32])\n",
      "logits torch.Size([3, 2])\n",
      "classifier ouput torch.Size([3, 2])\n",
      "-----------------Loss: 0.6501265168190002-----------------------\n",
      "------BATCH ENDING-------\n",
      "--------------------------------------------------\n",
      "[tensor([ 33, 105,  34])]\n",
      "feature shape torch.Size([3, 254, 1, 112, 112])\n",
      "reshape input torch.Size([762, 1, 112, 112])\n",
      "CNN ouput torch.Size([762, 512])\n",
      "reshaped rnn_in torch.Size([3, 254, 512])\n",
      "RNN ouput torch.Size([3, 254, 64])\n"
     ]
    },
    {
     "name": "stderr",
     "output_type": "stream",
     "text": [
      " 19%|███████████████▎                                                                  | 29/155 [00:20<00:21,  5.87it/s]"
     ]
    },
    {
     "name": "stdout",
     "output_type": "stream",
     "text": [
      "mask ouput torch.Size([3, 254, 64])\n",
      "reshaped masked output torch.Size([3, 16256])\n",
      "fc ouput torch.Size([3, 32])\n",
      "logits torch.Size([3, 2])\n",
      "classifier ouput torch.Size([3, 2])\n",
      "-----------------Loss: 0.6970526576042175-----------------------\n",
      "------BATCH ENDING-------\n",
      "--------------------------------------------------\n",
      "[tensor([29, 35, 20])]\n",
      "feature shape torch.Size([3, 254, 1, 112, 112])\n",
      "reshape input torch.Size([762, 1, 112, 112])\n",
      "CNN ouput torch.Size([762, 512])\n",
      "reshaped rnn_in torch.Size([3, 254, 512])\n",
      "RNN ouput torch.Size([3, 254, 64])\n",
      "mask ouput torch.Size([3, 254, 64])\n",
      "reshaped masked output torch.Size([3, 16256])\n",
      "fc ouput torch.Size([3, 32])\n",
      "logits torch.Size([3, 2])\n",
      "classifier ouput torch.Size([3, 2])\n",
      "-----------------Loss: 0.7578718066215515-----------------------\n",
      "------BATCH ENDING-------\n",
      "--------------------------------------------------\n",
      "[tensor([17, 50, 52])]\n",
      "feature shape torch.Size([3, 254, 1, 112, 112])\n",
      "reshape input torch.Size([762, 1, 112, 112])\n",
      "CNN ouput torch.Size([762, 512])\n",
      "reshaped rnn_in torch.Size([3, 254, 512])\n",
      "RNN ouput torch.Size([3, 254, 64])\n"
     ]
    },
    {
     "name": "stderr",
     "output_type": "stream",
     "text": [
      " 20%|████████████████▍                                                                 | 31/155 [00:20<00:19,  6.31it/s]"
     ]
    },
    {
     "name": "stdout",
     "output_type": "stream",
     "text": [
      "mask ouput torch.Size([3, 254, 64])\n",
      "reshaped masked output torch.Size([3, 16256])\n",
      "fc ouput torch.Size([3, 32])\n",
      "logits torch.Size([3, 2])\n",
      "classifier ouput torch.Size([3, 2])\n",
      "-----------------Loss: 0.6294799447059631-----------------------\n",
      "------BATCH ENDING-------\n",
      "--------------------------------------------------\n",
      "[tensor([102, 105,  11])]\n",
      "feature shape torch.Size([3, 254, 1, 112, 112])\n",
      "reshape input torch.Size([762, 1, 112, 112])\n",
      "CNN ouput torch.Size([762, 512])\n",
      "reshaped rnn_in torch.Size([3, 254, 512])\n",
      "RNN ouput torch.Size([3, 254, 64])\n",
      "mask ouput torch.Size([3, 254, 64])\n",
      "reshaped masked output torch.Size([3, 16256])\n",
      "fc ouput torch.Size([3, 32])\n",
      "logits torch.Size([3, 2])\n",
      "classifier ouput torch.Size([3, 2])\n",
      "-----------------Loss: 0.6113869547843933-----------------------\n",
      "------BATCH ENDING-------\n",
      "--------------------------------------------------\n",
      "[tensor([19, 17, 16])]\n",
      "feature shape torch.Size([3, 254, 1, 112, 112])\n",
      "reshape input torch.Size([762, 1, 112, 112])\n",
      "CNN ouput torch.Size([762, 512])\n",
      "reshaped rnn_in torch.Size([3, 254, 512])\n",
      "RNN ouput torch.Size([3, 254, 64])\n"
     ]
    },
    {
     "name": "stderr",
     "output_type": "stream",
     "text": [
      " 21%|█████████████████▍                                                                | 33/155 [00:20<00:18,  6.58it/s]"
     ]
    },
    {
     "name": "stdout",
     "output_type": "stream",
     "text": [
      "mask ouput torch.Size([3, 254, 64])\n",
      "reshaped masked output torch.Size([3, 16256])\n",
      "fc ouput torch.Size([3, 32])\n",
      "logits torch.Size([3, 2])\n",
      "classifier ouput torch.Size([3, 2])\n",
      "-----------------Loss: 0.6623106598854065-----------------------\n",
      "------BATCH ENDING-------\n",
      "--------------------------------------------------\n",
      "[tensor([19, 35, 35])]\n",
      "feature shape torch.Size([3, 254, 1, 112, 112])\n",
      "reshape input torch.Size([762, 1, 112, 112])\n",
      "CNN ouput torch.Size([762, 512])\n",
      "reshaped rnn_in torch.Size([3, 254, 512])\n",
      "RNN ouput torch.Size([3, 254, 64])\n",
      "mask ouput torch.Size([3, 254, 64])\n",
      "reshaped masked output torch.Size([3, 16256])\n",
      "fc ouput torch.Size([3, 32])\n",
      "logits torch.Size([3, 2])\n",
      "classifier ouput torch.Size([3, 2])\n",
      "-----------------Loss: 0.5724554657936096-----------------------\n",
      "------BATCH ENDING-------\n",
      "--------------------------------------------------\n",
      "[tensor([ 35, 106,  99])]\n",
      "feature shape torch.Size([3, 254, 1, 112, 112])\n",
      "reshape input torch.Size([762, 1, 112, 112])\n",
      "CNN ouput torch.Size([762, 512])\n",
      "reshaped rnn_in torch.Size([3, 254, 512])\n",
      "RNN ouput torch.Size([3, 254, 64])\n"
     ]
    },
    {
     "name": "stderr",
     "output_type": "stream",
     "text": [
      " 23%|██████████████████▌                                                               | 35/155 [00:21<00:17,  6.67it/s]"
     ]
    },
    {
     "name": "stdout",
     "output_type": "stream",
     "text": [
      "mask ouput torch.Size([3, 254, 64])\n",
      "reshaped masked output torch.Size([3, 16256])\n",
      "fc ouput torch.Size([3, 32])\n",
      "logits torch.Size([3, 2])\n",
      "classifier ouput torch.Size([3, 2])\n",
      "-----------------Loss: 0.9448445439338684-----------------------\n",
      "------BATCH ENDING-------\n",
      "--------------------------------------------------\n",
      "[tensor([17, 98, 34])]\n",
      "feature shape torch.Size([3, 254, 1, 112, 112])\n",
      "reshape input torch.Size([762, 1, 112, 112])\n",
      "CNN ouput torch.Size([762, 512])\n",
      "reshaped rnn_in torch.Size([3, 254, 512])\n",
      "RNN ouput torch.Size([3, 254, 64])\n",
      "mask ouput torch.Size([3, 254, 64])\n",
      "reshaped masked output torch.Size([3, 16256])\n",
      "fc ouput torch.Size([3, 32])\n",
      "logits torch.Size([3, 2])\n",
      "classifier ouput torch.Size([3, 2])\n",
      "-----------------Loss: 0.8616423010826111-----------------------\n",
      "------BATCH ENDING-------\n",
      "--------------------------------------------------\n",
      "[tensor([199, 101,  17])]\n",
      "feature shape torch.Size([3, 254, 1, 112, 112])\n",
      "reshape input torch.Size([762, 1, 112, 112])\n",
      "CNN ouput torch.Size([762, 512])\n",
      "reshaped rnn_in torch.Size([3, 254, 512])\n",
      "RNN ouput torch.Size([3, 254, 64])\n"
     ]
    },
    {
     "name": "stderr",
     "output_type": "stream",
     "text": [
      " 24%|███████████████████▌                                                              | 37/155 [00:21<00:17,  6.76it/s]"
     ]
    },
    {
     "name": "stdout",
     "output_type": "stream",
     "text": [
      "mask ouput torch.Size([3, 254, 64])\n",
      "reshaped masked output torch.Size([3, 16256])\n",
      "fc ouput torch.Size([3, 32])\n",
      "logits torch.Size([3, 2])\n",
      "classifier ouput torch.Size([3, 2])\n",
      "-----------------Loss: 0.7128427624702454-----------------------\n",
      "------BATCH ENDING-------\n",
      "--------------------------------------------------\n",
      "[tensor([33, 33, 32])]\n",
      "feature shape torch.Size([3, 254, 1, 112, 112])\n",
      "reshape input torch.Size([762, 1, 112, 112])\n",
      "CNN ouput torch.Size([762, 512])\n",
      "reshaped rnn_in torch.Size([3, 254, 512])\n",
      "RNN ouput torch.Size([3, 254, 64])\n",
      "mask ouput torch.Size([3, 254, 64])\n",
      "reshaped masked output torch.Size([3, 16256])\n",
      "fc ouput torch.Size([3, 32])\n",
      "logits torch.Size([3, 2])\n",
      "classifier ouput torch.Size([3, 2])\n",
      "-----------------Loss: 0.822037398815155-----------------------\n",
      "------BATCH ENDING-------\n",
      "--------------------------------------------------\n",
      "[tensor([104,  33,  98])]\n",
      "feature shape torch.Size([3, 254, 1, 112, 112])\n",
      "reshape input torch.Size([762, 1, 112, 112])\n",
      "CNN ouput torch.Size([762, 512])\n",
      "reshaped rnn_in torch.Size([3, 254, 512])\n",
      "RNN ouput torch.Size([3, 254, 64])\n"
     ]
    },
    {
     "name": "stderr",
     "output_type": "stream",
     "text": [
      " 25%|████████████████████▋                                                             | 39/155 [00:21<00:17,  6.76it/s]"
     ]
    },
    {
     "name": "stdout",
     "output_type": "stream",
     "text": [
      "mask ouput torch.Size([3, 254, 64])\n",
      "reshaped masked output torch.Size([3, 16256])\n",
      "fc ouput torch.Size([3, 32])\n",
      "logits torch.Size([3, 2])\n",
      "classifier ouput torch.Size([3, 2])\n",
      "-----------------Loss: 0.5249608159065247-----------------------\n",
      "------BATCH ENDING-------\n",
      "--------------------------------------------------\n",
      "[tensor([34, 31, 33])]\n",
      "feature shape torch.Size([3, 254, 1, 112, 112])\n",
      "reshape input torch.Size([762, 1, 112, 112])\n",
      "CNN ouput torch.Size([762, 512])\n",
      "reshaped rnn_in torch.Size([3, 254, 512])\n",
      "RNN ouput torch.Size([3, 254, 64])\n",
      "mask ouput torch.Size([3, 254, 64])\n",
      "reshaped masked output torch.Size([3, 16256])\n",
      "fc ouput torch.Size([3, 32])\n",
      "logits torch.Size([3, 2])\n",
      "classifier ouput torch.Size([3, 2])\n",
      "-----------------Loss: 0.7313001751899719-----------------------\n",
      "------BATCH ENDING-------\n",
      "--------------------------------------------------\n",
      "[tensor([ 35, 105, 250])]\n",
      "feature shape torch.Size([3, 254, 1, 112, 112])\n",
      "reshape input torch.Size([762, 1, 112, 112])\n",
      "CNN ouput torch.Size([762, 512])\n",
      "reshaped rnn_in torch.Size([3, 254, 512])\n",
      "RNN ouput torch.Size([3, 254, 64])\n"
     ]
    },
    {
     "name": "stderr",
     "output_type": "stream",
     "text": [
      " 26%|█████████████████████▋                                                            | 41/155 [00:22<00:16,  6.82it/s]"
     ]
    },
    {
     "name": "stdout",
     "output_type": "stream",
     "text": [
      "mask ouput torch.Size([3, 254, 64])\n",
      "reshaped masked output torch.Size([3, 16256])\n",
      "fc ouput torch.Size([3, 32])\n",
      "logits torch.Size([3, 2])\n",
      "classifier ouput torch.Size([3, 2])\n",
      "-----------------Loss: 0.7060093879699707-----------------------\n",
      "------BATCH ENDING-------\n",
      "--------------------------------------------------\n",
      "[tensor([189, 102, 114])]\n",
      "feature shape torch.Size([3, 254, 1, 112, 112])\n",
      "reshape input torch.Size([762, 1, 112, 112])\n",
      "CNN ouput torch.Size([762, 512])\n",
      "reshaped rnn_in torch.Size([3, 254, 512])\n",
      "RNN ouput torch.Size([3, 254, 64])\n",
      "mask ouput torch.Size([3, 254, 64])\n",
      "reshaped masked output torch.Size([3, 16256])\n",
      "fc ouput torch.Size([3, 32])\n",
      "logits torch.Size([3, 2])\n",
      "classifier ouput torch.Size([3, 2])\n",
      "-----------------Loss: 0.5359690189361572-----------------------\n",
      "------BATCH ENDING-------\n",
      "--------------------------------------------------\n",
      "[tensor([102, 105,  34])]\n",
      "feature shape torch.Size([3, 254, 1, 112, 112])\n",
      "reshape input torch.Size([762, 1, 112, 112])\n",
      "CNN ouput torch.Size([762, 512])\n",
      "reshaped rnn_in torch.Size([3, 254, 512])\n",
      "RNN ouput torch.Size([3, 254, 64])\n"
     ]
    },
    {
     "name": "stderr",
     "output_type": "stream",
     "text": [
      " 28%|██████████████████████▋                                                           | 43/155 [00:22<00:16,  6.87it/s]"
     ]
    },
    {
     "name": "stdout",
     "output_type": "stream",
     "text": [
      "mask ouput torch.Size([3, 254, 64])\n",
      "reshaped masked output torch.Size([3, 16256])\n",
      "fc ouput torch.Size([3, 32])\n",
      "logits torch.Size([3, 2])\n",
      "classifier ouput torch.Size([3, 2])\n",
      "-----------------Loss: 0.5472437143325806-----------------------\n",
      "------BATCH ENDING-------\n",
      "--------------------------------------------------\n",
      "[tensor([ 20,  34, 195])]\n",
      "feature shape torch.Size([3, 254, 1, 112, 112])\n",
      "reshape input torch.Size([762, 1, 112, 112])\n",
      "CNN ouput torch.Size([762, 512])\n",
      "reshaped rnn_in torch.Size([3, 254, 512])\n",
      "RNN ouput torch.Size([3, 254, 64])\n",
      "mask ouput torch.Size([3, 254, 64])\n",
      "reshaped masked output torch.Size([3, 16256])\n",
      "fc ouput torch.Size([3, 32])\n",
      "logits torch.Size([3, 2])\n",
      "classifier ouput torch.Size([3, 2])\n",
      "-----------------Loss: 0.6292722821235657-----------------------\n",
      "------BATCH ENDING-------\n",
      "--------------------------------------------------\n",
      "[tensor([ 34,  99, 107])]\n",
      "feature shape torch.Size([3, 254, 1, 112, 112])\n",
      "reshape input torch.Size([762, 1, 112, 112])\n",
      "CNN ouput torch.Size([762, 512])\n",
      "reshaped rnn_in torch.Size([3, 254, 512])\n",
      "RNN ouput torch.Size([3, 254, 64])\n"
     ]
    },
    {
     "name": "stderr",
     "output_type": "stream",
     "text": [
      " 29%|███████████████████████▊                                                          | 45/155 [00:22<00:15,  6.89it/s]"
     ]
    },
    {
     "name": "stdout",
     "output_type": "stream",
     "text": [
      "mask ouput torch.Size([3, 254, 64])\n",
      "reshaped masked output torch.Size([3, 16256])\n",
      "fc ouput torch.Size([3, 32])\n",
      "logits torch.Size([3, 2])\n",
      "classifier ouput torch.Size([3, 2])\n",
      "-----------------Loss: 0.58659428358078-----------------------\n",
      "------BATCH ENDING-------\n",
      "--------------------------------------------------\n",
      "[tensor([ 33,  17, 102])]\n",
      "feature shape torch.Size([3, 254, 1, 112, 112])\n",
      "reshape input torch.Size([762, 1, 112, 112])\n",
      "CNN ouput torch.Size([762, 512])\n",
      "reshaped rnn_in torch.Size([3, 254, 512])\n",
      "RNN ouput torch.Size([3, 254, 64])\n",
      "mask ouput torch.Size([3, 254, 64])\n",
      "reshaped masked output torch.Size([3, 16256])\n",
      "fc ouput torch.Size([3, 32])\n",
      "logits torch.Size([3, 2])\n",
      "classifier ouput torch.Size([3, 2])\n",
      "-----------------Loss: 0.6720314025878906-----------------------\n",
      "------BATCH ENDING-------\n",
      "--------------------------------------------------\n",
      "[tensor([100, 101,  35])]\n",
      "feature shape torch.Size([3, 254, 1, 112, 112])\n",
      "reshape input torch.Size([762, 1, 112, 112])\n",
      "CNN ouput torch.Size([762, 512])\n",
      "reshaped rnn_in torch.Size([3, 254, 512])\n",
      "RNN ouput torch.Size([3, 254, 64])\n"
     ]
    },
    {
     "name": "stderr",
     "output_type": "stream",
     "text": [
      " 30%|████████████████████████▊                                                         | 47/155 [00:22<00:15,  6.92it/s]"
     ]
    },
    {
     "name": "stdout",
     "output_type": "stream",
     "text": [
      "mask ouput torch.Size([3, 254, 64])\n",
      "reshaped masked output torch.Size([3, 16256])\n",
      "fc ouput torch.Size([3, 32])\n",
      "logits torch.Size([3, 2])\n",
      "classifier ouput torch.Size([3, 2])\n",
      "-----------------Loss: 0.7167587876319885-----------------------\n",
      "------BATCH ENDING-------\n",
      "--------------------------------------------------\n",
      "[tensor([35, 24, 52])]\n",
      "feature shape torch.Size([3, 254, 1, 112, 112])\n",
      "reshape input torch.Size([762, 1, 112, 112])\n",
      "CNN ouput torch.Size([762, 512])\n",
      "reshaped rnn_in torch.Size([3, 254, 512])\n",
      "RNN ouput torch.Size([3, 254, 64])\n",
      "mask ouput torch.Size([3, 254, 64])\n",
      "reshaped masked output torch.Size([3, 16256])\n",
      "fc ouput torch.Size([3, 32])\n",
      "logits torch.Size([3, 2])\n",
      "classifier ouput torch.Size([3, 2])\n",
      "-----------------Loss: 0.7142025828361511-----------------------\n",
      "------BATCH ENDING-------\n",
      "--------------------------------------------------\n",
      "[tensor([102,  34,  33])]\n",
      "feature shape torch.Size([3, 254, 1, 112, 112])\n",
      "reshape input torch.Size([762, 1, 112, 112])\n",
      "CNN ouput torch.Size([762, 512])\n",
      "reshaped rnn_in torch.Size([3, 254, 512])\n",
      "RNN ouput torch.Size([3, 254, 64])\n"
     ]
    },
    {
     "name": "stderr",
     "output_type": "stream",
     "text": [
      " 32%|█████████████████████████▉                                                        | 49/155 [00:23<00:15,  7.04it/s]"
     ]
    },
    {
     "name": "stdout",
     "output_type": "stream",
     "text": [
      "mask ouput torch.Size([3, 254, 64])\n",
      "reshaped masked output torch.Size([3, 16256])\n",
      "fc ouput torch.Size([3, 32])\n",
      "logits torch.Size([3, 2])\n",
      "classifier ouput torch.Size([3, 2])\n",
      "-----------------Loss: 0.8034577369689941-----------------------\n",
      "------BATCH ENDING-------\n",
      "--------------------------------------------------\n",
      "[tensor([19, 34, 99])]\n",
      "feature shape torch.Size([3, 254, 1, 112, 112])\n",
      "reshape input torch.Size([762, 1, 112, 112])\n",
      "CNN ouput torch.Size([762, 512])\n",
      "reshaped rnn_in torch.Size([3, 254, 512])\n",
      "RNN ouput torch.Size([3, 254, 64])\n",
      "mask ouput torch.Size([3, 254, 64])\n",
      "reshaped masked output torch.Size([3, 16256])\n",
      "fc ouput torch.Size([3, 32])\n",
      "logits torch.Size([3, 2])\n",
      "classifier ouput torch.Size([3, 2])\n",
      "-----------------Loss: 0.7858161926269531-----------------------\n",
      "------BATCH ENDING-------\n",
      "--------------------------------------------------\n",
      "[tensor([40, 17, 16])]\n",
      "feature shape torch.Size([3, 254, 1, 112, 112])\n",
      "reshape input torch.Size([762, 1, 112, 112])\n",
      "CNN ouput torch.Size([762, 512])\n",
      "reshaped rnn_in torch.Size([3, 254, 512])\n",
      "RNN ouput torch.Size([3, 254, 64])\n"
     ]
    },
    {
     "name": "stderr",
     "output_type": "stream",
     "text": [
      " 33%|██████████████████████████▉                                                       | 51/155 [00:23<00:15,  6.91it/s]"
     ]
    },
    {
     "name": "stdout",
     "output_type": "stream",
     "text": [
      "mask ouput torch.Size([3, 254, 64])\n",
      "reshaped masked output torch.Size([3, 16256])\n",
      "fc ouput torch.Size([3, 32])\n",
      "logits torch.Size([3, 2])\n",
      "classifier ouput torch.Size([3, 2])\n",
      "-----------------Loss: 0.8069720268249512-----------------------\n",
      "------BATCH ENDING-------\n",
      "--------------------------------------------------\n",
      "[tensor([105,  34, 109])]\n",
      "feature shape torch.Size([3, 254, 1, 112, 112])\n",
      "reshape input torch.Size([762, 1, 112, 112])\n",
      "CNN ouput torch.Size([762, 512])\n",
      "reshaped rnn_in torch.Size([3, 254, 512])\n",
      "RNN ouput torch.Size([3, 254, 64])\n",
      "mask ouput torch.Size([3, 254, 64])\n",
      "reshaped masked output torch.Size([3, 16256])\n",
      "fc ouput torch.Size([3, 32])\n",
      "logits torch.Size([3, 2])\n",
      "classifier ouput torch.Size([3, 2])\n",
      "-----------------Loss: 0.5413541197776794-----------------------\n",
      "------BATCH ENDING-------\n",
      "--------------------------------------------------\n",
      "[tensor([109,  12, 102])]\n",
      "feature shape torch.Size([3, 254, 1, 112, 112])\n",
      "reshape input torch.Size([762, 1, 112, 112])\n",
      "CNN ouput torch.Size([762, 512])\n",
      "reshaped rnn_in torch.Size([3, 254, 512])\n",
      "RNN ouput torch.Size([3, 254, 64])\n"
     ]
    },
    {
     "name": "stderr",
     "output_type": "stream",
     "text": [
      " 34%|████████████████████████████                                                      | 53/155 [00:23<00:14,  7.00it/s]"
     ]
    },
    {
     "name": "stdout",
     "output_type": "stream",
     "text": [
      "mask ouput torch.Size([3, 254, 64])\n",
      "reshaped masked output torch.Size([3, 16256])\n",
      "fc ouput torch.Size([3, 32])\n",
      "logits torch.Size([3, 2])\n",
      "classifier ouput torch.Size([3, 2])\n",
      "-----------------Loss: 0.6664252877235413-----------------------\n",
      "------BATCH ENDING-------\n",
      "--------------------------------------------------\n",
      "[tensor([101,  95, 116])]\n",
      "feature shape torch.Size([3, 254, 1, 112, 112])\n",
      "reshape input torch.Size([762, 1, 112, 112])\n",
      "CNN ouput torch.Size([762, 512])\n",
      "reshaped rnn_in torch.Size([3, 254, 512])\n",
      "RNN ouput torch.Size([3, 254, 64])\n",
      "mask ouput torch.Size([3, 254, 64])\n",
      "reshaped masked output torch.Size([3, 16256])\n",
      "fc ouput torch.Size([3, 32])\n",
      "logits torch.Size([3, 2])\n",
      "classifier ouput torch.Size([3, 2])\n",
      "-----------------Loss: 0.4623698890209198-----------------------\n",
      "------BATCH ENDING-------\n",
      "--------------------------------------------------\n",
      "[tensor([34, 99, 49])]\n",
      "feature shape torch.Size([3, 254, 1, 112, 112])\n",
      "reshape input torch.Size([762, 1, 112, 112])\n",
      "CNN ouput torch.Size([762, 512])\n",
      "reshaped rnn_in torch.Size([3, 254, 512])\n",
      "RNN ouput torch.Size([3, 254, 64])\n"
     ]
    },
    {
     "name": "stderr",
     "output_type": "stream",
     "text": [
      " 35%|█████████████████████████████                                                     | 55/155 [00:24<00:14,  6.95it/s]"
     ]
    },
    {
     "name": "stdout",
     "output_type": "stream",
     "text": [
      "mask ouput torch.Size([3, 254, 64])\n",
      "reshaped masked output torch.Size([3, 16256])\n",
      "fc ouput torch.Size([3, 32])\n",
      "logits torch.Size([3, 2])\n",
      "classifier ouput torch.Size([3, 2])\n",
      "-----------------Loss: 0.7177040576934814-----------------------\n",
      "------BATCH ENDING-------\n",
      "--------------------------------------------------\n",
      "[tensor([ 14,  22, 104])]\n",
      "feature shape torch.Size([3, 254, 1, 112, 112])\n",
      "reshape input torch.Size([762, 1, 112, 112])\n",
      "CNN ouput torch.Size([762, 512])\n",
      "reshaped rnn_in torch.Size([3, 254, 512])\n",
      "RNN ouput torch.Size([3, 254, 64])\n",
      "mask ouput torch.Size([3, 254, 64])\n",
      "reshaped masked output torch.Size([3, 16256])\n",
      "fc ouput torch.Size([3, 32])\n",
      "logits torch.Size([3, 2])\n",
      "classifier ouput torch.Size([3, 2])\n",
      "-----------------Loss: 0.8940346837043762-----------------------\n",
      "------BATCH ENDING-------\n",
      "--------------------------------------------------\n",
      "[tensor([ 98,  94, 103])]\n",
      "feature shape torch.Size([3, 254, 1, 112, 112])\n",
      "reshape input torch.Size([762, 1, 112, 112])\n",
      "CNN ouput torch.Size([762, 512])\n",
      "reshaped rnn_in torch.Size([3, 254, 512])\n",
      "RNN ouput torch.Size([3, 254, 64])\n"
     ]
    },
    {
     "name": "stderr",
     "output_type": "stream",
     "text": [
      " 37%|██████████████████████████████▏                                                   | 57/155 [00:24<00:14,  6.95it/s]"
     ]
    },
    {
     "name": "stdout",
     "output_type": "stream",
     "text": [
      "mask ouput torch.Size([3, 254, 64])\n",
      "reshaped masked output torch.Size([3, 16256])\n",
      "fc ouput torch.Size([3, 32])\n",
      "logits torch.Size([3, 2])\n",
      "classifier ouput torch.Size([3, 2])\n",
      "-----------------Loss: 0.7991809844970703-----------------------\n",
      "------BATCH ENDING-------\n",
      "--------------------------------------------------\n",
      "[tensor([204, 100,  32])]\n",
      "feature shape torch.Size([3, 254, 1, 112, 112])\n",
      "reshape input torch.Size([762, 1, 112, 112])\n",
      "CNN ouput torch.Size([762, 512])\n",
      "reshaped rnn_in torch.Size([3, 254, 512])\n",
      "RNN ouput torch.Size([3, 254, 64])\n",
      "mask ouput torch.Size([3, 254, 64])\n",
      "reshaped masked output torch.Size([3, 16256])\n",
      "fc ouput torch.Size([3, 32])\n",
      "logits torch.Size([3, 2])\n",
      "classifier ouput torch.Size([3, 2])\n",
      "-----------------Loss: 0.5380192399024963-----------------------\n",
      "------BATCH ENDING-------\n",
      "--------------------------------------------------\n",
      "[tensor([32, 18, 17])]\n",
      "feature shape torch.Size([3, 254, 1, 112, 112])\n",
      "reshape input torch.Size([762, 1, 112, 112])\n",
      "CNN ouput torch.Size([762, 512])\n",
      "reshaped rnn_in torch.Size([3, 254, 512])\n",
      "RNN ouput torch.Size([3, 254, 64])\n"
     ]
    },
    {
     "name": "stderr",
     "output_type": "stream",
     "text": [
      " 38%|███████████████████████████████▏                                                  | 59/155 [00:24<00:13,  6.87it/s]"
     ]
    },
    {
     "name": "stdout",
     "output_type": "stream",
     "text": [
      "mask ouput torch.Size([3, 254, 64])\n",
      "reshaped masked output torch.Size([3, 16256])\n",
      "fc ouput torch.Size([3, 32])\n",
      "logits torch.Size([3, 2])\n",
      "classifier ouput torch.Size([3, 2])\n",
      "-----------------Loss: 0.6138486862182617-----------------------\n",
      "------BATCH ENDING-------\n",
      "--------------------------------------------------\n",
      "[tensor([ 90, 177,  35])]\n",
      "feature shape torch.Size([3, 254, 1, 112, 112])\n",
      "reshape input torch.Size([762, 1, 112, 112])\n",
      "CNN ouput torch.Size([762, 512])\n",
      "reshaped rnn_in torch.Size([3, 254, 512])\n",
      "RNN ouput torch.Size([3, 254, 64])\n",
      "mask ouput torch.Size([3, 254, 64])\n",
      "reshaped masked output torch.Size([3, 16256])\n",
      "fc ouput torch.Size([3, 32])\n",
      "logits torch.Size([3, 2])\n",
      "classifier ouput torch.Size([3, 2])\n",
      "-----------------Loss: 0.5154358148574829-----------------------\n",
      "------BATCH ENDING-------\n",
      "--------------------------------------------------\n",
      "[tensor([84, 94, 23])]\n",
      "feature shape torch.Size([3, 254, 1, 112, 112])\n",
      "reshape input torch.Size([762, 1, 112, 112])\n",
      "CNN ouput torch.Size([762, 512])\n",
      "reshaped rnn_in torch.Size([3, 254, 512])\n",
      "RNN ouput torch.Size([3, 254, 64])\n"
     ]
    },
    {
     "name": "stderr",
     "output_type": "stream",
     "text": [
      " 39%|████████████████████████████████▎                                                 | 61/155 [00:24<00:13,  6.93it/s]"
     ]
    },
    {
     "name": "stdout",
     "output_type": "stream",
     "text": [
      "mask ouput torch.Size([3, 254, 64])\n",
      "reshaped masked output torch.Size([3, 16256])\n",
      "fc ouput torch.Size([3, 32])\n",
      "logits torch.Size([3, 2])\n",
      "classifier ouput torch.Size([3, 2])\n",
      "-----------------Loss: 0.7203435897827148-----------------------\n",
      "------BATCH ENDING-------\n",
      "--------------------------------------------------\n",
      "[tensor([ 17,  16, 106])]\n",
      "feature shape torch.Size([3, 254, 1, 112, 112])\n",
      "reshape input torch.Size([762, 1, 112, 112])\n",
      "CNN ouput torch.Size([762, 512])\n",
      "reshaped rnn_in torch.Size([3, 254, 512])\n",
      "RNN ouput torch.Size([3, 254, 64])\n",
      "mask ouput torch.Size([3, 254, 64])\n",
      "reshaped masked output torch.Size([3, 16256])\n",
      "fc ouput torch.Size([3, 32])\n",
      "logits torch.Size([3, 2])\n",
      "classifier ouput torch.Size([3, 2])\n",
      "-----------------Loss: 0.5422396063804626-----------------------\n",
      "------BATCH ENDING-------\n",
      "--------------------------------------------------\n",
      "[tensor([109,  33,  14])]\n",
      "feature shape torch.Size([3, 254, 1, 112, 112])\n",
      "reshape input torch.Size([762, 1, 112, 112])\n",
      "CNN ouput torch.Size([762, 512])\n",
      "reshaped rnn_in torch.Size([3, 254, 512])\n",
      "RNN ouput torch.Size([3, 254, 64])\n"
     ]
    },
    {
     "name": "stderr",
     "output_type": "stream",
     "text": [
      " 41%|█████████████████████████████████▎                                                | 63/155 [00:25<00:13,  6.94it/s]"
     ]
    },
    {
     "name": "stdout",
     "output_type": "stream",
     "text": [
      "mask ouput torch.Size([3, 254, 64])\n",
      "reshaped masked output torch.Size([3, 16256])\n",
      "fc ouput torch.Size([3, 32])\n",
      "logits torch.Size([3, 2])\n",
      "classifier ouput torch.Size([3, 2])\n",
      "-----------------Loss: 0.656343400478363-----------------------\n",
      "------BATCH ENDING-------\n",
      "--------------------------------------------------\n",
      "[tensor([137,  34, 107])]\n",
      "feature shape torch.Size([3, 254, 1, 112, 112])\n",
      "reshape input torch.Size([762, 1, 112, 112])\n",
      "CNN ouput torch.Size([762, 512])\n",
      "reshaped rnn_in torch.Size([3, 254, 512])\n",
      "RNN ouput torch.Size([3, 254, 64])\n",
      "mask ouput torch.Size([3, 254, 64])\n",
      "reshaped masked output torch.Size([3, 16256])\n",
      "fc ouput torch.Size([3, 32])\n",
      "logits torch.Size([3, 2])\n",
      "classifier ouput torch.Size([3, 2])\n",
      "-----------------Loss: 0.6961740851402283-----------------------\n",
      "------BATCH ENDING-------\n",
      "--------------------------------------------------\n",
      "[tensor([32, 34, 35])]\n",
      "feature shape torch.Size([3, 254, 1, 112, 112])\n",
      "reshape input torch.Size([762, 1, 112, 112])\n",
      "CNN ouput torch.Size([762, 512])\n",
      "reshaped rnn_in torch.Size([3, 254, 512])\n",
      "RNN ouput torch.Size([3, 254, 64])\n"
     ]
    },
    {
     "name": "stderr",
     "output_type": "stream",
     "text": [
      " 42%|██████████████████████████████████▍                                               | 65/155 [00:25<00:13,  6.91it/s]"
     ]
    },
    {
     "name": "stdout",
     "output_type": "stream",
     "text": [
      "mask ouput torch.Size([3, 254, 64])\n",
      "reshaped masked output torch.Size([3, 16256])\n",
      "fc ouput torch.Size([3, 32])\n",
      "logits torch.Size([3, 2])\n",
      "classifier ouput torch.Size([3, 2])\n",
      "-----------------Loss: 0.6927374005317688-----------------------\n",
      "------BATCH ENDING-------\n",
      "--------------------------------------------------\n",
      "[tensor([100,  42,  34])]\n",
      "feature shape torch.Size([3, 254, 1, 112, 112])\n",
      "reshape input torch.Size([762, 1, 112, 112])\n",
      "CNN ouput torch.Size([762, 512])\n",
      "reshaped rnn_in torch.Size([3, 254, 512])\n",
      "RNN ouput torch.Size([3, 254, 64])\n",
      "mask ouput torch.Size([3, 254, 64])\n",
      "reshaped masked output torch.Size([3, 16256])\n",
      "fc ouput torch.Size([3, 32])\n",
      "logits torch.Size([3, 2])\n",
      "classifier ouput torch.Size([3, 2])\n",
      "-----------------Loss: 0.8819072842597961-----------------------\n",
      "------BATCH ENDING-------\n",
      "--------------------------------------------------\n",
      "[tensor([ 20, 109,  15])]\n",
      "feature shape torch.Size([3, 254, 1, 112, 112])\n",
      "reshape input torch.Size([762, 1, 112, 112])\n",
      "CNN ouput torch.Size([762, 512])\n",
      "reshaped rnn_in torch.Size([3, 254, 512])\n",
      "RNN ouput torch.Size([3, 254, 64])\n"
     ]
    },
    {
     "name": "stderr",
     "output_type": "stream",
     "text": [
      " 43%|███████████████████████████████████▍                                              | 67/155 [00:25<00:12,  7.02it/s]"
     ]
    },
    {
     "name": "stdout",
     "output_type": "stream",
     "text": [
      "mask ouput torch.Size([3, 254, 64])\n",
      "reshaped masked output torch.Size([3, 16256])\n",
      "fc ouput torch.Size([3, 32])\n",
      "logits torch.Size([3, 2])\n",
      "classifier ouput torch.Size([3, 2])\n",
      "-----------------Loss: 0.5779351592063904-----------------------\n",
      "------BATCH ENDING-------\n",
      "--------------------------------------------------\n",
      "[tensor([ 35, 105,  34])]\n",
      "feature shape torch.Size([3, 254, 1, 112, 112])\n",
      "reshape input torch.Size([762, 1, 112, 112])\n",
      "CNN ouput torch.Size([762, 512])\n",
      "reshaped rnn_in torch.Size([3, 254, 512])\n",
      "RNN ouput torch.Size([3, 254, 64])\n",
      "mask ouput torch.Size([3, 254, 64])\n",
      "reshaped masked output torch.Size([3, 16256])\n",
      "fc ouput torch.Size([3, 32])\n",
      "logits torch.Size([3, 2])\n",
      "classifier ouput torch.Size([3, 2])\n",
      "-----------------Loss: 0.5808393359184265-----------------------\n",
      "------BATCH ENDING-------\n",
      "--------------------------------------------------\n",
      "[tensor([50, 35, 32])]\n",
      "feature shape torch.Size([3, 254, 1, 112, 112])\n",
      "reshape input torch.Size([762, 1, 112, 112])\n",
      "CNN ouput torch.Size([762, 512])\n",
      "reshaped rnn_in torch.Size([3, 254, 512])\n",
      "RNN ouput torch.Size([3, 254, 64])\n"
     ]
    },
    {
     "name": "stderr",
     "output_type": "stream",
     "text": [
      " 45%|████████████████████████████████████▌                                             | 69/155 [00:26<00:12,  7.06it/s]"
     ]
    },
    {
     "name": "stdout",
     "output_type": "stream",
     "text": [
      "mask ouput torch.Size([3, 254, 64])\n",
      "reshaped masked output torch.Size([3, 16256])\n",
      "fc ouput torch.Size([3, 32])\n",
      "logits torch.Size([3, 2])\n",
      "classifier ouput torch.Size([3, 2])\n",
      "-----------------Loss: 0.6448459029197693-----------------------\n",
      "------BATCH ENDING-------\n",
      "--------------------------------------------------\n",
      "[tensor([32, 32, 35])]\n",
      "feature shape torch.Size([3, 254, 1, 112, 112])\n",
      "reshape input torch.Size([762, 1, 112, 112])\n",
      "CNN ouput torch.Size([762, 512])\n",
      "reshaped rnn_in torch.Size([3, 254, 512])\n",
      "RNN ouput torch.Size([3, 254, 64])\n",
      "mask ouput torch.Size([3, 254, 64])\n",
      "reshaped masked output torch.Size([3, 16256])\n",
      "fc ouput torch.Size([3, 32])\n",
      "logits torch.Size([3, 2])\n",
      "classifier ouput torch.Size([3, 2])\n",
      "-----------------Loss: 0.7184658050537109-----------------------\n",
      "------BATCH ENDING-------\n",
      "--------------------------------------------------\n",
      "[tensor([ 34,  49, 106])]\n",
      "feature shape torch.Size([3, 254, 1, 112, 112])\n",
      "reshape input torch.Size([762, 1, 112, 112])\n",
      "CNN ouput torch.Size([762, 512])\n",
      "reshaped rnn_in torch.Size([3, 254, 512])\n",
      "RNN ouput torch.Size([3, 254, 64])\n"
     ]
    },
    {
     "name": "stderr",
     "output_type": "stream",
     "text": [
      " 46%|█████████████████████████████████████▌                                            | 71/155 [00:26<00:12,  6.95it/s]"
     ]
    },
    {
     "name": "stdout",
     "output_type": "stream",
     "text": [
      "mask ouput torch.Size([3, 254, 64])\n",
      "reshaped masked output torch.Size([3, 16256])\n",
      "fc ouput torch.Size([3, 32])\n",
      "logits torch.Size([3, 2])\n",
      "classifier ouput torch.Size([3, 2])\n",
      "-----------------Loss: 0.5596189498901367-----------------------\n",
      "------BATCH ENDING-------\n",
      "--------------------------------------------------\n",
      "[tensor([ 35, 101,  33])]\n",
      "feature shape torch.Size([3, 254, 1, 112, 112])\n",
      "reshape input torch.Size([762, 1, 112, 112])\n",
      "CNN ouput torch.Size([762, 512])\n",
      "reshaped rnn_in torch.Size([3, 254, 512])\n",
      "RNN ouput torch.Size([3, 254, 64])\n",
      "mask ouput torch.Size([3, 254, 64])\n",
      "reshaped masked output torch.Size([3, 16256])\n",
      "fc ouput torch.Size([3, 32])\n",
      "logits torch.Size([3, 2])\n",
      "classifier ouput torch.Size([3, 2])\n",
      "-----------------Loss: 0.8357545733451843-----------------------\n",
      "------BATCH ENDING-------\n",
      "--------------------------------------------------\n",
      "[tensor([35, 32, 33])]\n",
      "feature shape torch.Size([3, 254, 1, 112, 112])\n",
      "reshape input torch.Size([762, 1, 112, 112])\n",
      "CNN ouput torch.Size([762, 512])\n",
      "reshaped rnn_in torch.Size([3, 254, 512])\n",
      "RNN ouput torch.Size([3, 254, 64])\n"
     ]
    },
    {
     "name": "stderr",
     "output_type": "stream",
     "text": [
      " 47%|██████████████████████████████████████▌                                           | 73/155 [00:26<00:11,  6.91it/s]"
     ]
    },
    {
     "name": "stdout",
     "output_type": "stream",
     "text": [
      "mask ouput torch.Size([3, 254, 64])\n",
      "reshaped masked output torch.Size([3, 16256])\n",
      "fc ouput torch.Size([3, 32])\n",
      "logits torch.Size([3, 2])\n",
      "classifier ouput torch.Size([3, 2])\n",
      "-----------------Loss: 0.6789394021034241-----------------------\n",
      "------BATCH ENDING-------\n",
      "--------------------------------------------------\n",
      "[tensor([172,  35,  37])]\n",
      "feature shape torch.Size([3, 254, 1, 112, 112])\n",
      "reshape input torch.Size([762, 1, 112, 112])\n",
      "CNN ouput torch.Size([762, 512])\n",
      "reshaped rnn_in torch.Size([3, 254, 512])\n",
      "RNN ouput torch.Size([3, 254, 64])\n",
      "mask ouput torch.Size([3, 254, 64])\n",
      "reshaped masked output torch.Size([3, 16256])\n",
      "fc ouput torch.Size([3, 32])\n",
      "logits torch.Size([3, 2])\n",
      "classifier ouput torch.Size([3, 2])\n",
      "-----------------Loss: 0.5572968125343323-----------------------\n",
      "------BATCH ENDING-------\n",
      "--------------------------------------------------\n",
      "[tensor([54, 95, 30])]\n",
      "feature shape torch.Size([3, 254, 1, 112, 112])\n",
      "reshape input torch.Size([762, 1, 112, 112])\n",
      "CNN ouput torch.Size([762, 512])\n",
      "reshaped rnn_in torch.Size([3, 254, 512])\n",
      "RNN ouput torch.Size([3, 254, 64])\n"
     ]
    },
    {
     "name": "stderr",
     "output_type": "stream",
     "text": [
      " 48%|███████████████████████████████████████▋                                          | 75/155 [00:26<00:12,  6.37it/s]"
     ]
    },
    {
     "name": "stdout",
     "output_type": "stream",
     "text": [
      "mask ouput torch.Size([3, 254, 64])\n",
      "reshaped masked output torch.Size([3, 16256])\n",
      "fc ouput torch.Size([3, 32])\n",
      "logits torch.Size([3, 2])\n",
      "classifier ouput torch.Size([3, 2])\n",
      "-----------------Loss: 0.7795391082763672-----------------------\n",
      "------BATCH ENDING-------\n",
      "--------------------------------------------------\n",
      "[tensor([15, 33, 48])]\n",
      "feature shape torch.Size([3, 254, 1, 112, 112])\n",
      "reshape input torch.Size([762, 1, 112, 112])\n",
      "CNN ouput torch.Size([762, 512])\n",
      "reshaped rnn_in torch.Size([3, 254, 512])\n",
      "RNN ouput torch.Size([3, 254, 64])\n",
      "mask ouput torch.Size([3, 254, 64])\n",
      "reshaped masked output torch.Size([3, 16256])\n",
      "fc ouput torch.Size([3, 32])\n",
      "logits torch.Size([3, 2])\n",
      "classifier ouput torch.Size([3, 2])\n",
      "-----------------Loss: 0.7165583968162537-----------------------\n",
      "------BATCH ENDING-------\n",
      "--------------------------------------------------\n"
     ]
    },
    {
     "name": "stderr",
     "output_type": "stream",
     "text": [
      " 49%|████████████████████████████████████████▏                                         | 76/155 [00:27<00:12,  6.39it/s]"
     ]
    },
    {
     "name": "stdout",
     "output_type": "stream",
     "text": [
      "[tensor([33, 12, 93])]\n",
      "feature shape torch.Size([3, 254, 1, 112, 112])\n",
      "reshape input torch.Size([762, 1, 112, 112])\n",
      "CNN ouput torch.Size([762, 512])\n",
      "reshaped rnn_in torch.Size([3, 254, 512])\n",
      "RNN ouput torch.Size([3, 254, 64])\n",
      "mask ouput torch.Size([3, 254, 64])\n",
      "reshaped masked output torch.Size([3, 16256])\n",
      "fc ouput torch.Size([3, 32])\n",
      "logits torch.Size([3, 2])\n",
      "classifier ouput torch.Size([3, 2])\n",
      "-----------------Loss: 0.6665529608726501-----------------------\n",
      "------BATCH ENDING-------\n",
      "--------------------------------------------------\n",
      "[tensor([ 20,  32, 128])]\n",
      "feature shape torch.Size([3, 254, 1, 112, 112])\n",
      "reshape input torch.Size([762, 1, 112, 112])\n",
      "CNN ouput torch.Size([762, 512])\n",
      "reshaped rnn_in torch.Size([3, 254, 512])\n",
      "RNN ouput torch.Size([3, 254, 64])\n"
     ]
    },
    {
     "name": "stderr",
     "output_type": "stream",
     "text": [
      " 50%|█████████████████████████████████████████▎                                        | 78/155 [00:27<00:11,  6.66it/s]"
     ]
    },
    {
     "name": "stdout",
     "output_type": "stream",
     "text": [
      "mask ouput torch.Size([3, 254, 64])\n",
      "reshaped masked output torch.Size([3, 16256])\n",
      "fc ouput torch.Size([3, 32])\n",
      "logits torch.Size([3, 2])\n",
      "classifier ouput torch.Size([3, 2])\n",
      "-----------------Loss: 0.8295908570289612-----------------------\n",
      "------BATCH ENDING-------\n",
      "--------------------------------------------------\n",
      "[tensor([ 31,  34, 101])]\n",
      "feature shape torch.Size([3, 254, 1, 112, 112])\n",
      "reshape input torch.Size([762, 1, 112, 112])\n",
      "CNN ouput torch.Size([762, 512])\n",
      "reshaped rnn_in torch.Size([3, 254, 512])\n",
      "RNN ouput torch.Size([3, 254, 64])\n",
      "mask ouput torch.Size([3, 254, 64])\n",
      "reshaped masked output torch.Size([3, 16256])\n",
      "fc ouput torch.Size([3, 32])\n",
      "logits torch.Size([3, 2])\n",
      "classifier ouput torch.Size([3, 2])\n",
      "-----------------Loss: 0.5674785375595093-----------------------\n",
      "------BATCH ENDING-------\n",
      "--------------------------------------------------\n",
      "[tensor([49, 32, 30])]\n",
      "feature shape torch.Size([3, 254, 1, 112, 112])\n",
      "reshape input torch.Size([762, 1, 112, 112])\n",
      "CNN ouput torch.Size([762, 512])\n",
      "reshaped rnn_in torch.Size([3, 254, 512])\n",
      "RNN ouput torch.Size([3, 254, 64])\n"
     ]
    },
    {
     "name": "stderr",
     "output_type": "stream",
     "text": [
      " 52%|██████████████████████████████████████████▎                                       | 80/155 [00:27<00:10,  6.82it/s]"
     ]
    },
    {
     "name": "stdout",
     "output_type": "stream",
     "text": [
      "mask ouput torch.Size([3, 254, 64])\n",
      "reshaped masked output torch.Size([3, 16256])\n",
      "fc ouput torch.Size([3, 32])\n",
      "logits torch.Size([3, 2])\n",
      "classifier ouput torch.Size([3, 2])\n",
      "-----------------Loss: 0.6971273422241211-----------------------\n",
      "------BATCH ENDING-------\n",
      "--------------------------------------------------\n",
      "[tensor([124,  33,  32])]\n",
      "feature shape torch.Size([3, 254, 1, 112, 112])\n",
      "reshape input torch.Size([762, 1, 112, 112])\n",
      "CNN ouput torch.Size([762, 512])\n",
      "reshaped rnn_in torch.Size([3, 254, 512])\n",
      "RNN ouput torch.Size([3, 254, 64])\n",
      "mask ouput torch.Size([3, 254, 64])\n",
      "reshaped masked output torch.Size([3, 16256])\n",
      "fc ouput torch.Size([3, 32])\n",
      "logits torch.Size([3, 2])\n",
      "classifier ouput torch.Size([3, 2])\n",
      "-----------------Loss: 0.8254947662353516-----------------------\n",
      "------BATCH ENDING-------\n",
      "--------------------------------------------------\n",
      "[tensor([ 33, 105,  78])]\n",
      "feature shape torch.Size([3, 254, 1, 112, 112])\n",
      "reshape input torch.Size([762, 1, 112, 112])\n",
      "CNN ouput torch.Size([762, 512])\n",
      "reshaped rnn_in torch.Size([3, 254, 512])\n",
      "RNN ouput torch.Size([3, 254, 64])\n"
     ]
    },
    {
     "name": "stderr",
     "output_type": "stream",
     "text": [
      " 53%|███████████████████████████████████████████▍                                      | 82/155 [00:27<00:10,  6.97it/s]"
     ]
    },
    {
     "name": "stdout",
     "output_type": "stream",
     "text": [
      "mask ouput torch.Size([3, 254, 64])\n",
      "reshaped masked output torch.Size([3, 16256])\n",
      "fc ouput torch.Size([3, 32])\n",
      "logits torch.Size([3, 2])\n",
      "classifier ouput torch.Size([3, 2])\n",
      "-----------------Loss: 0.5555868148803711-----------------------\n",
      "------BATCH ENDING-------\n",
      "--------------------------------------------------\n",
      "[tensor([106,  15,  34])]\n",
      "feature shape torch.Size([3, 254, 1, 112, 112])\n",
      "reshape input torch.Size([762, 1, 112, 112])\n",
      "CNN ouput torch.Size([762, 512])\n",
      "reshaped rnn_in torch.Size([3, 254, 512])\n",
      "RNN ouput torch.Size([3, 254, 64])\n",
      "mask ouput torch.Size([3, 254, 64])\n",
      "reshaped masked output torch.Size([3, 16256])\n",
      "fc ouput torch.Size([3, 32])\n",
      "logits torch.Size([3, 2])\n",
      "classifier ouput torch.Size([3, 2])\n",
      "-----------------Loss: 0.578585684299469-----------------------\n",
      "------BATCH ENDING-------\n",
      "--------------------------------------------------\n",
      "[tensor([ 35, 102,  15])]\n",
      "feature shape torch.Size([3, 254, 1, 112, 112])\n",
      "reshape input torch.Size([762, 1, 112, 112])\n",
      "CNN ouput torch.Size([762, 512])\n",
      "reshaped rnn_in torch.Size([3, 254, 512])\n",
      "RNN ouput torch.Size([3, 254, 64])\n"
     ]
    },
    {
     "name": "stderr",
     "output_type": "stream",
     "text": [
      " 54%|████████████████████████████████████████████▍                                     | 84/155 [00:28<00:10,  6.97it/s]"
     ]
    },
    {
     "name": "stdout",
     "output_type": "stream",
     "text": [
      "mask ouput torch.Size([3, 254, 64])\n",
      "reshaped masked output torch.Size([3, 16256])\n",
      "fc ouput torch.Size([3, 32])\n",
      "logits torch.Size([3, 2])\n",
      "classifier ouput torch.Size([3, 2])\n",
      "-----------------Loss: 0.8429794311523438-----------------------\n",
      "------BATCH ENDING-------\n",
      "--------------------------------------------------\n",
      "[tensor([33, 19, 15])]\n",
      "feature shape torch.Size([3, 254, 1, 112, 112])\n",
      "reshape input torch.Size([762, 1, 112, 112])\n",
      "CNN ouput torch.Size([762, 512])\n",
      "reshaped rnn_in torch.Size([3, 254, 512])\n",
      "RNN ouput torch.Size([3, 254, 64])\n",
      "mask ouput torch.Size([3, 254, 64])\n",
      "reshaped masked output torch.Size([3, 16256])\n",
      "fc ouput torch.Size([3, 32])\n",
      "logits torch.Size([3, 2])\n",
      "classifier ouput torch.Size([3, 2])\n",
      "-----------------Loss: 0.6690146327018738-----------------------\n",
      "------BATCH ENDING-------\n",
      "--------------------------------------------------\n",
      "[tensor([33, 34, 53])]\n",
      "feature shape torch.Size([3, 254, 1, 112, 112])\n",
      "reshape input torch.Size([762, 1, 112, 112])\n",
      "CNN ouput torch.Size([762, 512])\n",
      "reshaped rnn_in torch.Size([3, 254, 512])\n",
      "RNN ouput torch.Size([3, 254, 64])\n"
     ]
    },
    {
     "name": "stderr",
     "output_type": "stream",
     "text": [
      " 55%|█████████████████████████████████████████████▍                                    | 86/155 [00:28<00:09,  7.01it/s]"
     ]
    },
    {
     "name": "stdout",
     "output_type": "stream",
     "text": [
      "mask ouput torch.Size([3, 254, 64])\n",
      "reshaped masked output torch.Size([3, 16256])\n",
      "fc ouput torch.Size([3, 32])\n",
      "logits torch.Size([3, 2])\n",
      "classifier ouput torch.Size([3, 2])\n",
      "-----------------Loss: 0.765601634979248-----------------------\n",
      "------BATCH ENDING-------\n",
      "--------------------------------------------------\n",
      "[tensor([ 17, 123,  11])]\n",
      "feature shape torch.Size([3, 254, 1, 112, 112])\n",
      "reshape input torch.Size([762, 1, 112, 112])\n",
      "CNN ouput torch.Size([762, 512])\n",
      "reshaped rnn_in torch.Size([3, 254, 512])\n",
      "RNN ouput torch.Size([3, 254, 64])\n",
      "mask ouput torch.Size([3, 254, 64])\n",
      "reshaped masked output torch.Size([3, 16256])\n",
      "fc ouput torch.Size([3, 32])\n",
      "logits torch.Size([3, 2])\n",
      "classifier ouput torch.Size([3, 2])\n",
      "-----------------Loss: 0.5486365556716919-----------------------\n",
      "------BATCH ENDING-------\n",
      "--------------------------------------------------\n",
      "[tensor([105, 201, 199])]\n",
      "feature shape torch.Size([3, 254, 1, 112, 112])\n",
      "reshape input torch.Size([762, 1, 112, 112])\n",
      "CNN ouput torch.Size([762, 512])\n",
      "reshaped rnn_in torch.Size([3, 254, 512])\n",
      "RNN ouput torch.Size([3, 254, 64])\n"
     ]
    },
    {
     "name": "stderr",
     "output_type": "stream",
     "text": [
      " 57%|██████████████████████████████████████████████▌                                   | 88/155 [00:28<00:09,  7.04it/s]"
     ]
    },
    {
     "name": "stdout",
     "output_type": "stream",
     "text": [
      "mask ouput torch.Size([3, 254, 64])\n",
      "reshaped masked output torch.Size([3, 16256])\n",
      "fc ouput torch.Size([3, 32])\n",
      "logits torch.Size([3, 2])\n",
      "classifier ouput torch.Size([3, 2])\n",
      "-----------------Loss: 0.8836368918418884-----------------------\n",
      "------BATCH ENDING-------\n",
      "--------------------------------------------------\n",
      "[tensor([52, 20, 33])]\n",
      "feature shape torch.Size([3, 254, 1, 112, 112])\n",
      "reshape input torch.Size([762, 1, 112, 112])\n",
      "CNN ouput torch.Size([762, 512])\n",
      "reshaped rnn_in torch.Size([3, 254, 512])\n",
      "RNN ouput torch.Size([3, 254, 64])\n",
      "mask ouput torch.Size([3, 254, 64])\n",
      "reshaped masked output torch.Size([3, 16256])\n",
      "fc ouput torch.Size([3, 32])\n",
      "logits torch.Size([3, 2])\n",
      "classifier ouput torch.Size([3, 2])\n",
      "-----------------Loss: 0.8252491354942322-----------------------\n",
      "------BATCH ENDING-------\n",
      "--------------------------------------------------\n",
      "[tensor([ 96,  31, 101])]\n",
      "feature shape torch.Size([3, 254, 1, 112, 112])\n",
      "reshape input torch.Size([762, 1, 112, 112])\n",
      "CNN ouput torch.Size([762, 512])\n",
      "reshaped rnn_in torch.Size([3, 254, 512])\n",
      "RNN ouput torch.Size([3, 254, 64])\n"
     ]
    },
    {
     "name": "stderr",
     "output_type": "stream",
     "text": [
      " 58%|███████████████████████████████████████████████▌                                  | 90/155 [00:29<00:09,  7.00it/s]"
     ]
    },
    {
     "name": "stdout",
     "output_type": "stream",
     "text": [
      "mask ouput torch.Size([3, 254, 64])\n",
      "reshaped masked output torch.Size([3, 16256])\n",
      "fc ouput torch.Size([3, 32])\n",
      "logits torch.Size([3, 2])\n",
      "classifier ouput torch.Size([3, 2])\n",
      "-----------------Loss: 0.868241012096405-----------------------\n",
      "------BATCH ENDING-------\n",
      "--------------------------------------------------\n",
      "[tensor([34, 33, 33])]\n",
      "feature shape torch.Size([3, 254, 1, 112, 112])\n",
      "reshape input torch.Size([762, 1, 112, 112])\n",
      "CNN ouput torch.Size([762, 512])\n",
      "reshaped rnn_in torch.Size([3, 254, 512])\n",
      "RNN ouput torch.Size([3, 254, 64])\n",
      "mask ouput torch.Size([3, 254, 64])\n",
      "reshaped masked output torch.Size([3, 16256])\n",
      "fc ouput torch.Size([3, 32])\n",
      "logits torch.Size([3, 2])\n",
      "classifier ouput torch.Size([3, 2])\n",
      "-----------------Loss: 0.7288535237312317-----------------------\n",
      "------BATCH ENDING-------\n",
      "--------------------------------------------------\n",
      "[tensor([ 33, 101,  96])]\n",
      "feature shape torch.Size([3, 254, 1, 112, 112])\n",
      "reshape input torch.Size([762, 1, 112, 112])\n",
      "CNN ouput torch.Size([762, 512])\n",
      "reshaped rnn_in torch.Size([3, 254, 512])\n",
      "RNN ouput torch.Size([3, 254, 64])\n"
     ]
    },
    {
     "name": "stderr",
     "output_type": "stream",
     "text": [
      " 59%|████████████████████████████████████████████████▋                                 | 92/155 [00:29<00:08,  7.01it/s]"
     ]
    },
    {
     "name": "stdout",
     "output_type": "stream",
     "text": [
      "mask ouput torch.Size([3, 254, 64])\n",
      "reshaped masked output torch.Size([3, 16256])\n",
      "fc ouput torch.Size([3, 32])\n",
      "logits torch.Size([3, 2])\n",
      "classifier ouput torch.Size([3, 2])\n",
      "-----------------Loss: 0.5776459574699402-----------------------\n",
      "------BATCH ENDING-------\n",
      "--------------------------------------------------\n",
      "[tensor([51, 16, 34])]\n",
      "feature shape torch.Size([3, 254, 1, 112, 112])\n",
      "reshape input torch.Size([762, 1, 112, 112])\n",
      "CNN ouput torch.Size([762, 512])\n",
      "reshaped rnn_in torch.Size([3, 254, 512])\n",
      "RNN ouput torch.Size([3, 254, 64])\n",
      "mask ouput torch.Size([3, 254, 64])\n",
      "reshaped masked output torch.Size([3, 16256])\n",
      "fc ouput torch.Size([3, 32])\n",
      "logits torch.Size([3, 2])\n",
      "classifier ouput torch.Size([3, 2])\n",
      "-----------------Loss: 0.7669856548309326-----------------------\n",
      "------BATCH ENDING-------\n",
      "--------------------------------------------------\n",
      "[tensor([105,  12, 213])]\n",
      "feature shape torch.Size([3, 254, 1, 112, 112])\n",
      "reshape input torch.Size([762, 1, 112, 112])\n",
      "CNN ouput torch.Size([762, 512])\n",
      "reshaped rnn_in torch.Size([3, 254, 512])\n",
      "RNN ouput torch.Size([3, 254, 64])\n"
     ]
    },
    {
     "name": "stderr",
     "output_type": "stream",
     "text": [
      " 61%|█████████████████████████████████████████████████▋                                | 94/155 [00:29<00:08,  7.00it/s]"
     ]
    },
    {
     "name": "stdout",
     "output_type": "stream",
     "text": [
      "mask ouput torch.Size([3, 254, 64])\n",
      "reshaped masked output torch.Size([3, 16256])\n",
      "fc ouput torch.Size([3, 32])\n",
      "logits torch.Size([3, 2])\n",
      "classifier ouput torch.Size([3, 2])\n",
      "-----------------Loss: 0.7573748230934143-----------------------\n",
      "------BATCH ENDING-------\n",
      "--------------------------------------------------\n",
      "[tensor([49, 16, 34])]\n",
      "feature shape torch.Size([3, 254, 1, 112, 112])\n",
      "reshape input torch.Size([762, 1, 112, 112])\n",
      "CNN ouput torch.Size([762, 512])\n",
      "reshaped rnn_in torch.Size([3, 254, 512])\n",
      "RNN ouput torch.Size([3, 254, 64])\n",
      "mask ouput torch.Size([3, 254, 64])\n",
      "reshaped masked output torch.Size([3, 16256])\n",
      "fc ouput torch.Size([3, 32])\n",
      "logits torch.Size([3, 2])\n",
      "classifier ouput torch.Size([3, 2])\n",
      "-----------------Loss: 0.681597888469696-----------------------\n",
      "------BATCH ENDING-------\n",
      "--------------------------------------------------\n",
      "[tensor([197,  50,  31])]\n",
      "feature shape torch.Size([3, 254, 1, 112, 112])\n",
      "reshape input torch.Size([762, 1, 112, 112])\n",
      "CNN ouput torch.Size([762, 512])\n",
      "reshaped rnn_in torch.Size([3, 254, 512])\n",
      "RNN ouput torch.Size([3, 254, 64])\n"
     ]
    },
    {
     "name": "stderr",
     "output_type": "stream",
     "text": [
      " 62%|██████████████████████████████████████████████████▊                               | 96/155 [00:29<00:08,  7.03it/s]"
     ]
    },
    {
     "name": "stdout",
     "output_type": "stream",
     "text": [
      "mask ouput torch.Size([3, 254, 64])\n",
      "reshaped masked output torch.Size([3, 16256])\n",
      "fc ouput torch.Size([3, 32])\n",
      "logits torch.Size([3, 2])\n",
      "classifier ouput torch.Size([3, 2])\n",
      "-----------------Loss: 0.6489236354827881-----------------------\n",
      "------BATCH ENDING-------\n",
      "--------------------------------------------------\n",
      "[tensor([ 18, 111,  17])]\n",
      "feature shape torch.Size([3, 254, 1, 112, 112])\n",
      "reshape input torch.Size([762, 1, 112, 112])\n",
      "CNN ouput torch.Size([762, 512])\n",
      "reshaped rnn_in torch.Size([3, 254, 512])\n",
      "RNN ouput torch.Size([3, 254, 64])\n",
      "mask ouput torch.Size([3, 254, 64])\n",
      "reshaped masked output torch.Size([3, 16256])\n",
      "fc ouput torch.Size([3, 32])\n",
      "logits torch.Size([3, 2])\n",
      "classifier ouput torch.Size([3, 2])\n",
      "-----------------Loss: 0.6954496502876282-----------------------\n",
      "------BATCH ENDING-------\n",
      "--------------------------------------------------\n",
      "[tensor([17, 35, 16])]\n",
      "feature shape torch.Size([3, 254, 1, 112, 112])\n",
      "reshape input torch.Size([762, 1, 112, 112])\n",
      "CNN ouput torch.Size([762, 512])\n",
      "reshaped rnn_in torch.Size([3, 254, 512])\n",
      "RNN ouput torch.Size([3, 254, 64])\n"
     ]
    },
    {
     "name": "stderr",
     "output_type": "stream",
     "text": [
      " 63%|███████████████████████████████████████████████████▊                              | 98/155 [00:30<00:08,  6.99it/s]"
     ]
    },
    {
     "name": "stdout",
     "output_type": "stream",
     "text": [
      "mask ouput torch.Size([3, 254, 64])\n",
      "reshaped masked output torch.Size([3, 16256])\n",
      "fc ouput torch.Size([3, 32])\n",
      "logits torch.Size([3, 2])\n",
      "classifier ouput torch.Size([3, 2])\n",
      "-----------------Loss: 0.6215264797210693-----------------------\n",
      "------BATCH ENDING-------\n",
      "--------------------------------------------------\n",
      "[tensor([ 34, 112,  36])]\n",
      "feature shape torch.Size([3, 254, 1, 112, 112])\n",
      "reshape input torch.Size([762, 1, 112, 112])\n",
      "CNN ouput torch.Size([762, 512])\n",
      "reshaped rnn_in torch.Size([3, 254, 512])\n",
      "RNN ouput torch.Size([3, 254, 64])\n",
      "mask ouput torch.Size([3, 254, 64])\n",
      "reshaped masked output torch.Size([3, 16256])\n",
      "fc ouput torch.Size([3, 32])\n",
      "logits torch.Size([3, 2])\n",
      "classifier ouput torch.Size([3, 2])\n",
      "-----------------Loss: 0.5964110493659973-----------------------\n",
      "------BATCH ENDING-------\n",
      "--------------------------------------------------\n",
      "[tensor([189,  97,  32])]\n",
      "feature shape torch.Size([3, 254, 1, 112, 112])\n",
      "reshape input torch.Size([762, 1, 112, 112])\n",
      "CNN ouput torch.Size([762, 512])\n",
      "reshaped rnn_in torch.Size([3, 254, 512])\n",
      "RNN ouput torch.Size([3, 254, 64])\n"
     ]
    },
    {
     "name": "stderr",
     "output_type": "stream",
     "text": [
      " 65%|████████████████████████████████████████████████████▎                            | 100/155 [00:30<00:07,  7.04it/s]"
     ]
    },
    {
     "name": "stdout",
     "output_type": "stream",
     "text": [
      "mask ouput torch.Size([3, 254, 64])\n",
      "reshaped masked output torch.Size([3, 16256])\n",
      "fc ouput torch.Size([3, 32])\n",
      "logits torch.Size([3, 2])\n",
      "classifier ouput torch.Size([3, 2])\n",
      "-----------------Loss: 0.6854531764984131-----------------------\n",
      "------BATCH ENDING-------\n",
      "--------------------------------------------------\n",
      "[tensor([33, 96, 50])]\n",
      "feature shape torch.Size([3, 254, 1, 112, 112])\n",
      "reshape input torch.Size([762, 1, 112, 112])\n",
      "CNN ouput torch.Size([762, 512])\n",
      "reshaped rnn_in torch.Size([3, 254, 512])\n",
      "RNN ouput torch.Size([3, 254, 64])\n",
      "mask ouput torch.Size([3, 254, 64])\n",
      "reshaped masked output torch.Size([3, 16256])\n",
      "fc ouput torch.Size([3, 32])\n",
      "logits torch.Size([3, 2])\n",
      "classifier ouput torch.Size([3, 2])\n",
      "-----------------Loss: 0.7804865837097168-----------------------\n",
      "------BATCH ENDING-------\n",
      "--------------------------------------------------\n",
      "[tensor([ 22,  99, 100])]\n",
      "feature shape torch.Size([3, 254, 1, 112, 112])\n",
      "reshape input torch.Size([762, 1, 112, 112])\n",
      "CNN ouput torch.Size([762, 512])\n",
      "reshaped rnn_in torch.Size([3, 254, 512])\n",
      "RNN ouput torch.Size([3, 254, 64])\n"
     ]
    },
    {
     "name": "stderr",
     "output_type": "stream",
     "text": [
      " 66%|█████████████████████████████████████████████████████▎                           | 102/155 [00:30<00:07,  7.03it/s]"
     ]
    },
    {
     "name": "stdout",
     "output_type": "stream",
     "text": [
      "mask ouput torch.Size([3, 254, 64])\n",
      "reshaped masked output torch.Size([3, 16256])\n",
      "fc ouput torch.Size([3, 32])\n",
      "logits torch.Size([3, 2])\n",
      "classifier ouput torch.Size([3, 2])\n",
      "-----------------Loss: 0.6262518167495728-----------------------\n",
      "------BATCH ENDING-------\n",
      "--------------------------------------------------\n",
      "[tensor([ 15,  26, 105])]\n",
      "feature shape torch.Size([3, 254, 1, 112, 112])\n",
      "reshape input torch.Size([762, 1, 112, 112])\n",
      "CNN ouput torch.Size([762, 512])\n",
      "reshaped rnn_in torch.Size([3, 254, 512])\n",
      "RNN ouput torch.Size([3, 254, 64])\n",
      "mask ouput torch.Size([3, 254, 64])\n",
      "reshaped masked output torch.Size([3, 16256])\n",
      "fc ouput torch.Size([3, 32])\n",
      "logits torch.Size([3, 2])\n",
      "classifier ouput torch.Size([3, 2])\n",
      "-----------------Loss: 0.6247251629829407-----------------------\n",
      "------BATCH ENDING-------\n",
      "--------------------------------------------------\n",
      "[tensor([34, 15, 34])]\n",
      "feature shape torch.Size([3, 254, 1, 112, 112])\n",
      "reshape input torch.Size([762, 1, 112, 112])\n",
      "CNN ouput torch.Size([762, 512])\n",
      "reshaped rnn_in torch.Size([3, 254, 512])\n",
      "RNN ouput torch.Size([3, 254, 64])\n"
     ]
    },
    {
     "name": "stderr",
     "output_type": "stream",
     "text": [
      " 67%|██████████████████████████████████████████████████████▎                          | 104/155 [00:31<00:07,  6.97it/s]"
     ]
    },
    {
     "name": "stdout",
     "output_type": "stream",
     "text": [
      "mask ouput torch.Size([3, 254, 64])\n",
      "reshaped masked output torch.Size([3, 16256])\n",
      "fc ouput torch.Size([3, 32])\n",
      "logits torch.Size([3, 2])\n",
      "classifier ouput torch.Size([3, 2])\n",
      "-----------------Loss: 0.7730118632316589-----------------------\n",
      "------BATCH ENDING-------\n",
      "--------------------------------------------------\n",
      "[tensor([ 35,  21, 106])]\n",
      "feature shape torch.Size([3, 254, 1, 112, 112])\n",
      "reshape input torch.Size([762, 1, 112, 112])\n",
      "CNN ouput torch.Size([762, 512])\n",
      "reshaped rnn_in torch.Size([3, 254, 512])\n",
      "RNN ouput torch.Size([3, 254, 64])\n",
      "mask ouput torch.Size([3, 254, 64])\n",
      "reshaped masked output torch.Size([3, 16256])\n",
      "fc ouput torch.Size([3, 32])\n",
      "logits torch.Size([3, 2])\n",
      "classifier ouput torch.Size([3, 2])\n",
      "-----------------Loss: 0.6097303032875061-----------------------\n",
      "------BATCH ENDING-------\n",
      "--------------------------------------------------\n",
      "[tensor([16, 35, 32])]\n",
      "feature shape torch.Size([3, 254, 1, 112, 112])\n",
      "reshape input torch.Size([762, 1, 112, 112])\n",
      "CNN ouput torch.Size([762, 512])\n",
      "reshaped rnn_in torch.Size([3, 254, 512])\n",
      "RNN ouput torch.Size([3, 254, 64])\n"
     ]
    },
    {
     "name": "stderr",
     "output_type": "stream",
     "text": [
      " 68%|███████████████████████████████████████████████████████▍                         | 106/155 [00:31<00:07,  6.94it/s]"
     ]
    },
    {
     "name": "stdout",
     "output_type": "stream",
     "text": [
      "mask ouput torch.Size([3, 254, 64])\n",
      "reshaped masked output torch.Size([3, 16256])\n",
      "fc ouput torch.Size([3, 32])\n",
      "logits torch.Size([3, 2])\n",
      "classifier ouput torch.Size([3, 2])\n",
      "-----------------Loss: 0.7555579543113708-----------------------\n",
      "------BATCH ENDING-------\n",
      "--------------------------------------------------\n",
      "[tensor([35, 97, 17])]\n",
      "feature shape torch.Size([3, 254, 1, 112, 112])\n",
      "reshape input torch.Size([762, 1, 112, 112])\n",
      "CNN ouput torch.Size([762, 512])\n",
      "reshaped rnn_in torch.Size([3, 254, 512])\n",
      "RNN ouput torch.Size([3, 254, 64])\n",
      "mask ouput torch.Size([3, 254, 64])\n",
      "reshaped masked output torch.Size([3, 16256])\n",
      "fc ouput torch.Size([3, 32])\n",
      "logits torch.Size([3, 2])\n",
      "classifier ouput torch.Size([3, 2])\n",
      "-----------------Loss: 0.736346423625946-----------------------\n",
      "------BATCH ENDING-------\n",
      "--------------------------------------------------\n",
      "[tensor([111,  90,  31])]\n",
      "feature shape torch.Size([3, 254, 1, 112, 112])\n",
      "reshape input torch.Size([762, 1, 112, 112])\n",
      "CNN ouput torch.Size([762, 512])\n",
      "reshaped rnn_in torch.Size([3, 254, 512])\n",
      "RNN ouput torch.Size([3, 254, 64])\n"
     ]
    },
    {
     "name": "stderr",
     "output_type": "stream",
     "text": [
      " 70%|████████████████████████████████████████████████████████▍                        | 108/155 [00:31<00:06,  6.86it/s]"
     ]
    },
    {
     "name": "stdout",
     "output_type": "stream",
     "text": [
      "mask ouput torch.Size([3, 254, 64])\n",
      "reshaped masked output torch.Size([3, 16256])\n",
      "fc ouput torch.Size([3, 32])\n",
      "logits torch.Size([3, 2])\n",
      "classifier ouput torch.Size([3, 2])\n",
      "-----------------Loss: 0.8748146891593933-----------------------\n",
      "------BATCH ENDING-------\n",
      "--------------------------------------------------\n",
      "[tensor([33, 22, 19])]\n",
      "feature shape torch.Size([3, 254, 1, 112, 112])\n",
      "reshape input torch.Size([762, 1, 112, 112])\n",
      "CNN ouput torch.Size([762, 512])\n",
      "reshaped rnn_in torch.Size([3, 254, 512])\n",
      "RNN ouput torch.Size([3, 254, 64])\n",
      "mask ouput torch.Size([3, 254, 64])\n",
      "reshaped masked output torch.Size([3, 16256])\n",
      "fc ouput torch.Size([3, 32])\n",
      "logits torch.Size([3, 2])\n",
      "classifier ouput torch.Size([3, 2])\n",
      "-----------------Loss: 0.7529404759407043-----------------------\n",
      "------BATCH ENDING-------\n",
      "--------------------------------------------------\n",
      "[tensor([110,  17, 110])]\n",
      "feature shape torch.Size([3, 254, 1, 112, 112])\n",
      "reshape input torch.Size([762, 1, 112, 112])\n",
      "CNN ouput torch.Size([762, 512])\n",
      "reshaped rnn_in torch.Size([3, 254, 512])\n",
      "RNN ouput torch.Size([3, 254, 64])\n"
     ]
    },
    {
     "name": "stderr",
     "output_type": "stream",
     "text": [
      " 71%|█████████████████████████████████████████████████████████▍                       | 110/155 [00:31<00:06,  6.92it/s]"
     ]
    },
    {
     "name": "stdout",
     "output_type": "stream",
     "text": [
      "mask ouput torch.Size([3, 254, 64])\n",
      "reshaped masked output torch.Size([3, 16256])\n",
      "fc ouput torch.Size([3, 32])\n",
      "logits torch.Size([3, 2])\n",
      "classifier ouput torch.Size([3, 2])\n",
      "-----------------Loss: 0.6103605031967163-----------------------\n",
      "------BATCH ENDING-------\n",
      "--------------------------------------------------\n",
      "[tensor([ 34, 103,  16])]\n",
      "feature shape torch.Size([3, 254, 1, 112, 112])\n",
      "reshape input torch.Size([762, 1, 112, 112])\n",
      "CNN ouput torch.Size([762, 512])\n",
      "reshaped rnn_in torch.Size([3, 254, 512])\n",
      "RNN ouput torch.Size([3, 254, 64])\n",
      "mask ouput torch.Size([3, 254, 64])\n",
      "reshaped masked output torch.Size([3, 16256])\n",
      "fc ouput torch.Size([3, 32])\n",
      "logits torch.Size([3, 2])\n",
      "classifier ouput torch.Size([3, 2])\n",
      "-----------------Loss: 0.6105806827545166-----------------------\n",
      "------BATCH ENDING-------\n",
      "--------------------------------------------------\n",
      "[tensor([102,  46,  17])]\n",
      "feature shape torch.Size([3, 254, 1, 112, 112])\n",
      "reshape input torch.Size([762, 1, 112, 112])\n",
      "CNN ouput torch.Size([762, 512])\n",
      "reshaped rnn_in torch.Size([3, 254, 512])\n",
      "RNN ouput torch.Size([3, 254, 64])\n"
     ]
    },
    {
     "name": "stderr",
     "output_type": "stream",
     "text": [
      " 72%|██████████████████████████████████████████████████████████▌                      | 112/155 [00:32<00:06,  6.87it/s]"
     ]
    },
    {
     "name": "stdout",
     "output_type": "stream",
     "text": [
      "mask ouput torch.Size([3, 254, 64])\n",
      "reshaped masked output torch.Size([3, 16256])\n",
      "fc ouput torch.Size([3, 32])\n",
      "logits torch.Size([3, 2])\n",
      "classifier ouput torch.Size([3, 2])\n",
      "-----------------Loss: 0.7095177173614502-----------------------\n",
      "------BATCH ENDING-------\n",
      "--------------------------------------------------\n",
      "[tensor([ 32, 104, 101])]\n",
      "feature shape torch.Size([3, 254, 1, 112, 112])\n",
      "reshape input torch.Size([762, 1, 112, 112])\n",
      "CNN ouput torch.Size([762, 512])\n",
      "reshaped rnn_in torch.Size([3, 254, 512])\n",
      "RNN ouput torch.Size([3, 254, 64])\n",
      "mask ouput torch.Size([3, 254, 64])\n",
      "reshaped masked output torch.Size([3, 16256])\n",
      "fc ouput torch.Size([3, 32])\n",
      "logits torch.Size([3, 2])\n",
      "classifier ouput torch.Size([3, 2])\n",
      "-----------------Loss: 0.851662814617157-----------------------\n",
      "------BATCH ENDING-------\n",
      "--------------------------------------------------\n",
      "[tensor([103,  16,  19])]\n",
      "feature shape torch.Size([3, 254, 1, 112, 112])\n",
      "reshape input torch.Size([762, 1, 112, 112])\n",
      "CNN ouput torch.Size([762, 512])\n",
      "reshaped rnn_in torch.Size([3, 254, 512])\n",
      "RNN ouput torch.Size([3, 254, 64])\n"
     ]
    },
    {
     "name": "stderr",
     "output_type": "stream",
     "text": [
      " 74%|███████████████████████████████████████████████████████████▌                     | 114/155 [00:32<00:05,  6.92it/s]"
     ]
    },
    {
     "name": "stdout",
     "output_type": "stream",
     "text": [
      "mask ouput torch.Size([3, 254, 64])\n",
      "reshaped masked output torch.Size([3, 16256])\n",
      "fc ouput torch.Size([3, 32])\n",
      "logits torch.Size([3, 2])\n",
      "classifier ouput torch.Size([3, 2])\n",
      "-----------------Loss: 0.7620689868927002-----------------------\n",
      "------BATCH ENDING-------\n",
      "--------------------------------------------------\n",
      "[tensor([ 33, 101,  34])]\n",
      "feature shape torch.Size([3, 254, 1, 112, 112])\n",
      "reshape input torch.Size([762, 1, 112, 112])\n",
      "CNN ouput torch.Size([762, 512])\n",
      "reshaped rnn_in torch.Size([3, 254, 512])\n",
      "RNN ouput torch.Size([3, 254, 64])\n",
      "mask ouput torch.Size([3, 254, 64])\n",
      "reshaped masked output torch.Size([3, 16256])\n",
      "fc ouput torch.Size([3, 32])\n",
      "logits torch.Size([3, 2])\n",
      "classifier ouput torch.Size([3, 2])\n",
      "-----------------Loss: 0.7450338006019592-----------------------\n",
      "------BATCH ENDING-------\n",
      "--------------------------------------------------\n",
      "[tensor([33, 31, 98])]\n",
      "feature shape torch.Size([3, 254, 1, 112, 112])\n",
      "reshape input torch.Size([762, 1, 112, 112])\n",
      "CNN ouput torch.Size([762, 512])\n",
      "reshaped rnn_in torch.Size([3, 254, 512])\n",
      "RNN ouput torch.Size([3, 254, 64])\n"
     ]
    },
    {
     "name": "stderr",
     "output_type": "stream",
     "text": [
      " 75%|████████████████████████████████████████████████████████████▌                    | 116/155 [00:32<00:05,  6.88it/s]"
     ]
    },
    {
     "name": "stdout",
     "output_type": "stream",
     "text": [
      "mask ouput torch.Size([3, 254, 64])\n",
      "reshaped masked output torch.Size([3, 16256])\n",
      "fc ouput torch.Size([3, 32])\n",
      "logits torch.Size([3, 2])\n",
      "classifier ouput torch.Size([3, 2])\n",
      "-----------------Loss: 0.7440049648284912-----------------------\n",
      "------BATCH ENDING-------\n",
      "--------------------------------------------------\n",
      "[tensor([32, 95, 15])]\n",
      "feature shape torch.Size([3, 254, 1, 112, 112])\n",
      "reshape input torch.Size([762, 1, 112, 112])\n",
      "CNN ouput torch.Size([762, 512])\n",
      "reshaped rnn_in torch.Size([3, 254, 512])\n",
      "RNN ouput torch.Size([3, 254, 64])\n",
      "mask ouput torch.Size([3, 254, 64])\n",
      "reshaped masked output torch.Size([3, 16256])\n",
      "fc ouput torch.Size([3, 32])\n",
      "logits torch.Size([3, 2])\n",
      "classifier ouput torch.Size([3, 2])\n",
      "-----------------Loss: 0.6535837054252625-----------------------\n",
      "------BATCH ENDING-------\n",
      "--------------------------------------------------\n",
      "[tensor([96, 35, 33])]\n",
      "feature shape torch.Size([3, 254, 1, 112, 112])\n",
      "reshape input torch.Size([762, 1, 112, 112])\n",
      "CNN ouput torch.Size([762, 512])\n",
      "reshaped rnn_in torch.Size([3, 254, 512])\n",
      "RNN ouput torch.Size([3, 254, 64])\n"
     ]
    },
    {
     "name": "stderr",
     "output_type": "stream",
     "text": [
      " 76%|█████████████████████████████████████████████████████████████▋                   | 118/155 [00:33<00:05,  6.98it/s]"
     ]
    },
    {
     "name": "stdout",
     "output_type": "stream",
     "text": [
      "mask ouput torch.Size([3, 254, 64])\n",
      "reshaped masked output torch.Size([3, 16256])\n",
      "fc ouput torch.Size([3, 32])\n",
      "logits torch.Size([3, 2])\n",
      "classifier ouput torch.Size([3, 2])\n",
      "-----------------Loss: 0.7563750743865967-----------------------\n",
      "------BATCH ENDING-------\n",
      "--------------------------------------------------\n",
      "[tensor([ 32, 194,  99])]\n",
      "feature shape torch.Size([3, 254, 1, 112, 112])\n",
      "reshape input torch.Size([762, 1, 112, 112])\n",
      "CNN ouput torch.Size([762, 512])\n",
      "reshaped rnn_in torch.Size([3, 254, 512])\n",
      "RNN ouput torch.Size([3, 254, 64])\n",
      "mask ouput torch.Size([3, 254, 64])\n",
      "reshaped masked output torch.Size([3, 16256])\n",
      "fc ouput torch.Size([3, 32])\n",
      "logits torch.Size([3, 2])\n",
      "classifier ouput torch.Size([3, 2])\n",
      "-----------------Loss: 0.6335869431495667-----------------------\n",
      "------BATCH ENDING-------\n",
      "--------------------------------------------------\n",
      "[tensor([ 96,  39, 174])]\n",
      "feature shape torch.Size([3, 254, 1, 112, 112])\n",
      "reshape input torch.Size([762, 1, 112, 112])\n",
      "CNN ouput torch.Size([762, 512])\n",
      "reshaped rnn_in torch.Size([3, 254, 512])\n",
      "RNN ouput torch.Size([3, 254, 64])\n"
     ]
    },
    {
     "name": "stderr",
     "output_type": "stream",
     "text": [
      " 77%|██████████████████████████████████████████████████████████████▋                  | 120/155 [00:33<00:05,  6.88it/s]"
     ]
    },
    {
     "name": "stdout",
     "output_type": "stream",
     "text": [
      "mask ouput torch.Size([3, 254, 64])\n",
      "reshaped masked output torch.Size([3, 16256])\n",
      "fc ouput torch.Size([3, 32])\n",
      "logits torch.Size([3, 2])\n",
      "classifier ouput torch.Size([3, 2])\n",
      "-----------------Loss: 0.6066344380378723-----------------------\n",
      "------BATCH ENDING-------\n",
      "--------------------------------------------------\n",
      "[tensor([ 97, 100,  34])]\n",
      "feature shape torch.Size([3, 254, 1, 112, 112])\n",
      "reshape input torch.Size([762, 1, 112, 112])\n",
      "CNN ouput torch.Size([762, 512])\n",
      "reshaped rnn_in torch.Size([3, 254, 512])\n",
      "RNN ouput torch.Size([3, 254, 64])\n",
      "mask ouput torch.Size([3, 254, 64])\n",
      "reshaped masked output torch.Size([3, 16256])\n",
      "fc ouput torch.Size([3, 32])\n",
      "logits torch.Size([3, 2])\n",
      "classifier ouput torch.Size([3, 2])\n",
      "-----------------Loss: 0.6639102697372437-----------------------\n",
      "------BATCH ENDING-------\n",
      "--------------------------------------------------\n",
      "[tensor([ 33, 101,  34])]\n",
      "feature shape torch.Size([3, 254, 1, 112, 112])\n",
      "reshape input torch.Size([762, 1, 112, 112])\n",
      "CNN ouput torch.Size([762, 512])\n",
      "reshaped rnn_in torch.Size([3, 254, 512])\n",
      "RNN ouput torch.Size([3, 254, 64])\n"
     ]
    },
    {
     "name": "stderr",
     "output_type": "stream",
     "text": [
      " 79%|███████████████████████████████████████████████████████████████▊                 | 122/155 [00:33<00:04,  6.95it/s]"
     ]
    },
    {
     "name": "stdout",
     "output_type": "stream",
     "text": [
      "mask ouput torch.Size([3, 254, 64])\n",
      "reshaped masked output torch.Size([3, 16256])\n",
      "fc ouput torch.Size([3, 32])\n",
      "logits torch.Size([3, 2])\n",
      "classifier ouput torch.Size([3, 2])\n",
      "-----------------Loss: 0.6629611849784851-----------------------\n",
      "------BATCH ENDING-------\n",
      "--------------------------------------------------\n",
      "[tensor([ 30,  18, 108])]\n",
      "feature shape torch.Size([3, 254, 1, 112, 112])\n",
      "reshape input torch.Size([762, 1, 112, 112])\n",
      "CNN ouput torch.Size([762, 512])\n",
      "reshaped rnn_in torch.Size([3, 254, 512])\n",
      "RNN ouput torch.Size([3, 254, 64])\n",
      "mask ouput torch.Size([3, 254, 64])\n",
      "reshaped masked output torch.Size([3, 16256])\n",
      "fc ouput torch.Size([3, 32])\n",
      "logits torch.Size([3, 2])\n",
      "classifier ouput torch.Size([3, 2])\n",
      "-----------------Loss: 0.6917039752006531-----------------------\n",
      "------BATCH ENDING-------\n",
      "--------------------------------------------------\n",
      "[tensor([34, 92, 79])]\n",
      "feature shape torch.Size([3, 254, 1, 112, 112])\n",
      "reshape input torch.Size([762, 1, 112, 112])\n",
      "CNN ouput torch.Size([762, 512])\n",
      "reshaped rnn_in torch.Size([3, 254, 512])\n",
      "RNN ouput torch.Size([3, 254, 64])\n"
     ]
    },
    {
     "name": "stderr",
     "output_type": "stream",
     "text": [
      " 80%|████████████████████████████████████████████████████████████████▊                | 124/155 [00:34<00:04,  6.99it/s]"
     ]
    },
    {
     "name": "stdout",
     "output_type": "stream",
     "text": [
      "mask ouput torch.Size([3, 254, 64])\n",
      "reshaped masked output torch.Size([3, 16256])\n",
      "fc ouput torch.Size([3, 32])\n",
      "logits torch.Size([3, 2])\n",
      "classifier ouput torch.Size([3, 2])\n",
      "-----------------Loss: 0.6663216948509216-----------------------\n",
      "------BATCH ENDING-------\n",
      "--------------------------------------------------\n",
      "[tensor([ 80, 165, 105])]\n",
      "feature shape torch.Size([3, 254, 1, 112, 112])\n",
      "reshape input torch.Size([762, 1, 112, 112])\n",
      "CNN ouput torch.Size([762, 512])\n",
      "reshaped rnn_in torch.Size([3, 254, 512])\n",
      "RNN ouput torch.Size([3, 254, 64])\n",
      "mask ouput torch.Size([3, 254, 64])\n",
      "reshaped masked output torch.Size([3, 16256])\n",
      "fc ouput torch.Size([3, 32])\n",
      "logits torch.Size([3, 2])\n",
      "classifier ouput torch.Size([3, 2])\n",
      "-----------------Loss: 0.6465142965316772-----------------------\n",
      "------BATCH ENDING-------\n",
      "--------------------------------------------------\n",
      "[tensor([ 33, 207, 105])]\n",
      "feature shape torch.Size([3, 254, 1, 112, 112])\n",
      "reshape input torch.Size([762, 1, 112, 112])\n",
      "CNN ouput torch.Size([762, 512])\n",
      "reshaped rnn_in torch.Size([3, 254, 512])\n",
      "RNN ouput torch.Size([3, 254, 64])\n"
     ]
    },
    {
     "name": "stderr",
     "output_type": "stream",
     "text": [
      " 81%|█████████████████████████████████████████████████████████████████▊               | 126/155 [00:34<00:04,  7.00it/s]"
     ]
    },
    {
     "name": "stdout",
     "output_type": "stream",
     "text": [
      "mask ouput torch.Size([3, 254, 64])\n",
      "reshaped masked output torch.Size([3, 16256])\n",
      "fc ouput torch.Size([3, 32])\n",
      "logits torch.Size([3, 2])\n",
      "classifier ouput torch.Size([3, 2])\n",
      "-----------------Loss: 0.5489739775657654-----------------------\n",
      "------BATCH ENDING-------\n",
      "--------------------------------------------------\n",
      "[tensor([48, 16, 17])]\n",
      "feature shape torch.Size([3, 254, 1, 112, 112])\n",
      "reshape input torch.Size([762, 1, 112, 112])\n",
      "CNN ouput torch.Size([762, 512])\n",
      "reshaped rnn_in torch.Size([3, 254, 512])\n",
      "RNN ouput torch.Size([3, 254, 64])\n",
      "mask ouput torch.Size([3, 254, 64])\n",
      "reshaped masked output torch.Size([3, 16256])\n",
      "fc ouput torch.Size([3, 32])\n",
      "logits torch.Size([3, 2])\n",
      "classifier ouput torch.Size([3, 2])\n",
      "-----------------Loss: 0.6906704306602478-----------------------\n",
      "------BATCH ENDING-------\n",
      "--------------------------------------------------\n",
      "[tensor([34, 34, 33])]\n",
      "feature shape torch.Size([3, 254, 1, 112, 112])\n",
      "reshape input torch.Size([762, 1, 112, 112])\n",
      "CNN ouput torch.Size([762, 512])\n",
      "reshaped rnn_in torch.Size([3, 254, 512])\n",
      "RNN ouput torch.Size([3, 254, 64])\n"
     ]
    },
    {
     "name": "stderr",
     "output_type": "stream",
     "text": [
      " 83%|██████████████████████████████████████████████████████████████████▉              | 128/155 [00:34<00:03,  7.00it/s]"
     ]
    },
    {
     "name": "stdout",
     "output_type": "stream",
     "text": [
      "mask ouput torch.Size([3, 254, 64])\n",
      "reshaped masked output torch.Size([3, 16256])\n",
      "fc ouput torch.Size([3, 32])\n",
      "logits torch.Size([3, 2])\n",
      "classifier ouput torch.Size([3, 2])\n",
      "-----------------Loss: 0.6892390251159668-----------------------\n",
      "------BATCH ENDING-------\n",
      "--------------------------------------------------\n",
      "[tensor([ 94, 100,  32])]\n",
      "feature shape torch.Size([3, 254, 1, 112, 112])\n",
      "reshape input torch.Size([762, 1, 112, 112])\n",
      "CNN ouput torch.Size([762, 512])\n",
      "reshaped rnn_in torch.Size([3, 254, 512])\n",
      "RNN ouput torch.Size([3, 254, 64])\n",
      "mask ouput torch.Size([3, 254, 64])\n",
      "reshaped masked output torch.Size([3, 16256])\n",
      "fc ouput torch.Size([3, 32])\n",
      "logits torch.Size([3, 2])\n",
      "classifier ouput torch.Size([3, 2])\n",
      "-----------------Loss: 0.6956107020378113-----------------------\n",
      "------BATCH ENDING-------\n",
      "--------------------------------------------------\n",
      "[tensor([33, 35, 33])]\n",
      "feature shape torch.Size([3, 254, 1, 112, 112])\n",
      "reshape input torch.Size([762, 1, 112, 112])\n",
      "CNN ouput torch.Size([762, 512])\n",
      "reshaped rnn_in torch.Size([3, 254, 512])\n",
      "RNN ouput torch.Size([3, 254, 64])\n"
     ]
    },
    {
     "name": "stderr",
     "output_type": "stream",
     "text": [
      " 84%|███████████████████████████████████████████████████████████████████▉             | 130/155 [00:34<00:03,  7.03it/s]"
     ]
    },
    {
     "name": "stdout",
     "output_type": "stream",
     "text": [
      "mask ouput torch.Size([3, 254, 64])\n",
      "reshaped masked output torch.Size([3, 16256])\n",
      "fc ouput torch.Size([3, 32])\n",
      "logits torch.Size([3, 2])\n",
      "classifier ouput torch.Size([3, 2])\n",
      "-----------------Loss: 0.6650065779685974-----------------------\n",
      "------BATCH ENDING-------\n",
      "--------------------------------------------------\n",
      "[tensor([33, 31, 96])]\n",
      "feature shape torch.Size([3, 254, 1, 112, 112])\n",
      "reshape input torch.Size([762, 1, 112, 112])\n",
      "CNN ouput torch.Size([762, 512])\n",
      "reshaped rnn_in torch.Size([3, 254, 512])\n",
      "RNN ouput torch.Size([3, 254, 64])\n",
      "mask ouput torch.Size([3, 254, 64])\n",
      "reshaped masked output torch.Size([3, 16256])\n",
      "fc ouput torch.Size([3, 32])\n",
      "logits torch.Size([3, 2])\n",
      "classifier ouput torch.Size([3, 2])\n",
      "-----------------Loss: 0.6480819582939148-----------------------\n",
      "------BATCH ENDING-------\n",
      "--------------------------------------------------\n",
      "[tensor([ 34, 100,  32])]\n",
      "feature shape torch.Size([3, 254, 1, 112, 112])\n",
      "reshape input torch.Size([762, 1, 112, 112])\n",
      "CNN ouput torch.Size([762, 512])\n",
      "reshaped rnn_in torch.Size([3, 254, 512])\n",
      "RNN ouput torch.Size([3, 254, 64])\n"
     ]
    },
    {
     "name": "stderr",
     "output_type": "stream",
     "text": [
      " 85%|████████████████████████████████████████████████████████████████████▉            | 132/155 [00:35<00:03,  7.01it/s]"
     ]
    },
    {
     "name": "stdout",
     "output_type": "stream",
     "text": [
      "mask ouput torch.Size([3, 254, 64])\n",
      "reshaped masked output torch.Size([3, 16256])\n",
      "fc ouput torch.Size([3, 32])\n",
      "logits torch.Size([3, 2])\n",
      "classifier ouput torch.Size([3, 2])\n",
      "-----------------Loss: 0.735062301158905-----------------------\n",
      "------BATCH ENDING-------\n",
      "--------------------------------------------------\n",
      "[tensor([16, 14, 20])]\n",
      "feature shape torch.Size([3, 254, 1, 112, 112])\n",
      "reshape input torch.Size([762, 1, 112, 112])\n",
      "CNN ouput torch.Size([762, 512])\n",
      "reshaped rnn_in torch.Size([3, 254, 512])\n",
      "RNN ouput torch.Size([3, 254, 64])\n",
      "mask ouput torch.Size([3, 254, 64])\n",
      "reshaped masked output torch.Size([3, 16256])\n",
      "fc ouput torch.Size([3, 32])\n",
      "logits torch.Size([3, 2])\n",
      "classifier ouput torch.Size([3, 2])\n",
      "-----------------Loss: 0.7594726085662842-----------------------\n",
      "------BATCH ENDING-------\n",
      "--------------------------------------------------\n",
      "[tensor([14, 97, 31])]\n",
      "feature shape torch.Size([3, 254, 1, 112, 112])\n",
      "reshape input torch.Size([762, 1, 112, 112])\n",
      "CNN ouput torch.Size([762, 512])\n",
      "reshaped rnn_in torch.Size([3, 254, 512])\n",
      "RNN ouput torch.Size([3, 254, 64])\n"
     ]
    },
    {
     "name": "stderr",
     "output_type": "stream",
     "text": [
      " 86%|██████████████████████████████████████████████████████████████████████           | 134/155 [00:35<00:02,  7.00it/s]"
     ]
    },
    {
     "name": "stdout",
     "output_type": "stream",
     "text": [
      "mask ouput torch.Size([3, 254, 64])\n",
      "reshaped masked output torch.Size([3, 16256])\n",
      "fc ouput torch.Size([3, 32])\n",
      "logits torch.Size([3, 2])\n",
      "classifier ouput torch.Size([3, 2])\n",
      "-----------------Loss: 0.6683412194252014-----------------------\n",
      "------BATCH ENDING-------\n",
      "--------------------------------------------------\n",
      "[tensor([ 33,  99, 112])]\n",
      "feature shape torch.Size([3, 254, 1, 112, 112])\n",
      "reshape input torch.Size([762, 1, 112, 112])\n",
      "CNN ouput torch.Size([762, 512])\n",
      "reshaped rnn_in torch.Size([3, 254, 512])\n",
      "RNN ouput torch.Size([3, 254, 64])\n",
      "mask ouput torch.Size([3, 254, 64])\n",
      "reshaped masked output torch.Size([3, 16256])\n",
      "fc ouput torch.Size([3, 32])\n",
      "logits torch.Size([3, 2])\n",
      "classifier ouput torch.Size([3, 2])\n",
      "-----------------Loss: 0.5704512596130371-----------------------\n",
      "------BATCH ENDING-------\n",
      "--------------------------------------------------\n",
      "[tensor([ 49, 102, 117])]\n",
      "feature shape torch.Size([3, 254, 1, 112, 112])\n",
      "reshape input torch.Size([762, 1, 112, 112])\n",
      "CNN ouput torch.Size([762, 512])\n",
      "reshaped rnn_in torch.Size([3, 254, 512])\n",
      "RNN ouput torch.Size([3, 254, 64])\n"
     ]
    },
    {
     "name": "stderr",
     "output_type": "stream",
     "text": [
      " 88%|███████████████████████████████████████████████████████████████████████          | 136/155 [00:35<00:02,  7.01it/s]"
     ]
    },
    {
     "name": "stdout",
     "output_type": "stream",
     "text": [
      "mask ouput torch.Size([3, 254, 64])\n",
      "reshaped masked output torch.Size([3, 16256])\n",
      "fc ouput torch.Size([3, 32])\n",
      "logits torch.Size([3, 2])\n",
      "classifier ouput torch.Size([3, 2])\n",
      "-----------------Loss: 0.7909431457519531-----------------------\n",
      "------BATCH ENDING-------\n",
      "--------------------------------------------------\n",
      "[tensor([109, 101,  35])]\n",
      "feature shape torch.Size([3, 254, 1, 112, 112])\n",
      "reshape input torch.Size([762, 1, 112, 112])\n",
      "CNN ouput torch.Size([762, 512])\n",
      "reshaped rnn_in torch.Size([3, 254, 512])\n",
      "RNN ouput torch.Size([3, 254, 64])\n",
      "mask ouput torch.Size([3, 254, 64])\n",
      "reshaped masked output torch.Size([3, 16256])\n",
      "fc ouput torch.Size([3, 32])\n",
      "logits torch.Size([3, 2])\n",
      "classifier ouput torch.Size([3, 2])\n",
      "-----------------Loss: 0.7132682800292969-----------------------\n",
      "------BATCH ENDING-------\n",
      "--------------------------------------------------\n",
      "[tensor([34, 34, 31])]\n",
      "feature shape torch.Size([3, 254, 1, 112, 112])\n",
      "reshape input torch.Size([762, 1, 112, 112])\n",
      "CNN ouput torch.Size([762, 512])\n",
      "reshaped rnn_in torch.Size([3, 254, 512])\n",
      "RNN ouput torch.Size([3, 254, 64])\n"
     ]
    },
    {
     "name": "stderr",
     "output_type": "stream",
     "text": [
      " 89%|████████████████████████████████████████████████████████████████████████         | 138/155 [00:36<00:02,  7.03it/s]"
     ]
    },
    {
     "name": "stdout",
     "output_type": "stream",
     "text": [
      "mask ouput torch.Size([3, 254, 64])\n",
      "reshaped masked output torch.Size([3, 16256])\n",
      "fc ouput torch.Size([3, 32])\n",
      "logits torch.Size([3, 2])\n",
      "classifier ouput torch.Size([3, 2])\n",
      "-----------------Loss: 0.7134879231452942-----------------------\n",
      "------BATCH ENDING-------\n",
      "--------------------------------------------------\n",
      "[tensor([ 34, 101, 100])]\n",
      "feature shape torch.Size([3, 254, 1, 112, 112])\n",
      "reshape input torch.Size([762, 1, 112, 112])\n",
      "CNN ouput torch.Size([762, 512])\n",
      "reshaped rnn_in torch.Size([3, 254, 512])\n",
      "RNN ouput torch.Size([3, 254, 64])\n",
      "mask ouput torch.Size([3, 254, 64])\n",
      "reshaped masked output torch.Size([3, 16256])\n",
      "fc ouput torch.Size([3, 32])\n",
      "logits torch.Size([3, 2])\n",
      "classifier ouput torch.Size([3, 2])\n",
      "-----------------Loss: 0.7392797470092773-----------------------\n",
      "------BATCH ENDING-------\n",
      "--------------------------------------------------\n",
      "[tensor([34, 35, 34])]\n",
      "feature shape torch.Size([3, 254, 1, 112, 112])\n",
      "reshape input torch.Size([762, 1, 112, 112])\n",
      "CNN ouput torch.Size([762, 512])\n",
      "reshaped rnn_in torch.Size([3, 254, 512])\n",
      "RNN ouput torch.Size([3, 254, 64])\n"
     ]
    },
    {
     "name": "stderr",
     "output_type": "stream",
     "text": [
      " 90%|█████████████████████████████████████████████████████████████████████████▏       | 140/155 [00:36<00:02,  7.00it/s]"
     ]
    },
    {
     "name": "stdout",
     "output_type": "stream",
     "text": [
      "mask ouput torch.Size([3, 254, 64])\n",
      "reshaped masked output torch.Size([3, 16256])\n",
      "fc ouput torch.Size([3, 32])\n",
      "logits torch.Size([3, 2])\n",
      "classifier ouput torch.Size([3, 2])\n",
      "-----------------Loss: 0.6379472017288208-----------------------\n",
      "------BATCH ENDING-------\n",
      "--------------------------------------------------\n",
      "[tensor([35, 91, 34])]\n",
      "feature shape torch.Size([3, 254, 1, 112, 112])\n",
      "reshape input torch.Size([762, 1, 112, 112])\n",
      "CNN ouput torch.Size([762, 512])\n",
      "reshaped rnn_in torch.Size([3, 254, 512])\n",
      "RNN ouput torch.Size([3, 254, 64])\n",
      "mask ouput torch.Size([3, 254, 64])\n",
      "reshaped masked output torch.Size([3, 16256])\n",
      "fc ouput torch.Size([3, 32])\n",
      "logits torch.Size([3, 2])\n",
      "classifier ouput torch.Size([3, 2])\n",
      "-----------------Loss: 0.6531251072883606-----------------------\n",
      "------BATCH ENDING-------\n",
      "--------------------------------------------------\n",
      "[tensor([16, 16, 35])]\n",
      "feature shape torch.Size([3, 254, 1, 112, 112])\n",
      "reshape input torch.Size([762, 1, 112, 112])\n",
      "CNN ouput torch.Size([762, 512])\n",
      "reshaped rnn_in torch.Size([3, 254, 512])\n",
      "RNN ouput torch.Size([3, 254, 64])\n"
     ]
    },
    {
     "name": "stderr",
     "output_type": "stream",
     "text": [
      " 92%|██████████████████████████████████████████████████████████████████████████▏      | 142/155 [00:36<00:01,  6.98it/s]"
     ]
    },
    {
     "name": "stdout",
     "output_type": "stream",
     "text": [
      "mask ouput torch.Size([3, 254, 64])\n",
      "reshaped masked output torch.Size([3, 16256])\n",
      "fc ouput torch.Size([3, 32])\n",
      "logits torch.Size([3, 2])\n",
      "classifier ouput torch.Size([3, 2])\n",
      "-----------------Loss: 0.7473991513252258-----------------------\n",
      "------BATCH ENDING-------\n",
      "--------------------------------------------------\n",
      "[tensor([100,  18,  13])]\n",
      "feature shape torch.Size([3, 254, 1, 112, 112])\n",
      "reshape input torch.Size([762, 1, 112, 112])\n",
      "CNN ouput torch.Size([762, 512])\n",
      "reshaped rnn_in torch.Size([3, 254, 512])\n",
      "RNN ouput torch.Size([3, 254, 64])\n",
      "mask ouput torch.Size([3, 254, 64])\n",
      "reshaped masked output torch.Size([3, 16256])\n",
      "fc ouput torch.Size([3, 32])\n",
      "logits torch.Size([3, 2])\n",
      "classifier ouput torch.Size([3, 2])\n",
      "-----------------Loss: 0.7444751262664795-----------------------\n",
      "------BATCH ENDING-------\n",
      "--------------------------------------------------\n",
      "[tensor([ 34, 106, 199])]\n",
      "feature shape torch.Size([3, 254, 1, 112, 112])\n",
      "reshape input torch.Size([762, 1, 112, 112])\n",
      "CNN ouput torch.Size([762, 512])\n",
      "reshaped rnn_in torch.Size([3, 254, 512])\n",
      "RNN ouput torch.Size([3, 254, 64])\n"
     ]
    },
    {
     "name": "stderr",
     "output_type": "stream",
     "text": [
      " 93%|███████████████████████████████████████████████████████████████████████████▎     | 144/155 [00:36<00:01,  6.99it/s]"
     ]
    },
    {
     "name": "stdout",
     "output_type": "stream",
     "text": [
      "mask ouput torch.Size([3, 254, 64])\n",
      "reshaped masked output torch.Size([3, 16256])\n",
      "fc ouput torch.Size([3, 32])\n",
      "logits torch.Size([3, 2])\n",
      "classifier ouput torch.Size([3, 2])\n",
      "-----------------Loss: 0.5820105671882629-----------------------\n",
      "------BATCH ENDING-------\n",
      "--------------------------------------------------\n",
      "[tensor([98, 32, 33])]\n",
      "feature shape torch.Size([3, 254, 1, 112, 112])\n",
      "reshape input torch.Size([762, 1, 112, 112])\n",
      "CNN ouput torch.Size([762, 512])\n",
      "reshaped rnn_in torch.Size([3, 254, 512])\n",
      "RNN ouput torch.Size([3, 254, 64])\n",
      "mask ouput torch.Size([3, 254, 64])\n",
      "reshaped masked output torch.Size([3, 16256])\n",
      "fc ouput torch.Size([3, 32])\n",
      "logits torch.Size([3, 2])\n",
      "classifier ouput torch.Size([3, 2])\n",
      "-----------------Loss: 0.7519513964653015-----------------------\n",
      "------BATCH ENDING-------\n",
      "--------------------------------------------------\n",
      "[tensor([105, 106, 209])]\n",
      "feature shape torch.Size([3, 254, 1, 112, 112])\n",
      "reshape input torch.Size([762, 1, 112, 112])\n",
      "CNN ouput torch.Size([762, 512])\n",
      "reshaped rnn_in torch.Size([3, 254, 512])\n",
      "RNN ouput torch.Size([3, 254, 64])\n"
     ]
    },
    {
     "name": "stderr",
     "output_type": "stream",
     "text": [
      " 94%|████████████████████████████████████████████████████████████████████████████▎    | 146/155 [00:37<00:01,  6.95it/s]"
     ]
    },
    {
     "name": "stdout",
     "output_type": "stream",
     "text": [
      "mask ouput torch.Size([3, 254, 64])\n",
      "reshaped masked output torch.Size([3, 16256])\n",
      "fc ouput torch.Size([3, 32])\n",
      "logits torch.Size([3, 2])\n",
      "classifier ouput torch.Size([3, 2])\n",
      "-----------------Loss: 0.49166181683540344-----------------------\n",
      "------BATCH ENDING-------\n",
      "--------------------------------------------------\n",
      "[tensor([105, 104,  36])]\n",
      "feature shape torch.Size([3, 254, 1, 112, 112])\n",
      "reshape input torch.Size([762, 1, 112, 112])\n",
      "CNN ouput torch.Size([762, 512])\n",
      "reshaped rnn_in torch.Size([3, 254, 512])\n",
      "RNN ouput torch.Size([3, 254, 64])\n",
      "mask ouput torch.Size([3, 254, 64])\n",
      "reshaped masked output torch.Size([3, 16256])\n",
      "fc ouput torch.Size([3, 32])\n",
      "logits torch.Size([3, 2])\n",
      "classifier ouput torch.Size([3, 2])\n",
      "-----------------Loss: 0.6771815419197083-----------------------\n",
      "------BATCH ENDING-------\n",
      "--------------------------------------------------\n",
      "[tensor([40, 33, 34])]\n",
      "feature shape torch.Size([3, 254, 1, 112, 112])\n",
      "reshape input torch.Size([762, 1, 112, 112])\n",
      "CNN ouput torch.Size([762, 512])\n",
      "reshaped rnn_in torch.Size([3, 254, 512])\n",
      "RNN ouput torch.Size([3, 254, 64])\n"
     ]
    },
    {
     "name": "stderr",
     "output_type": "stream",
     "text": [
      " 95%|█████████████████████████████████████████████████████████████████████████████▎   | 148/155 [00:37<00:01,  6.91it/s]"
     ]
    },
    {
     "name": "stdout",
     "output_type": "stream",
     "text": [
      "mask ouput torch.Size([3, 254, 64])\n",
      "reshaped masked output torch.Size([3, 16256])\n",
      "fc ouput torch.Size([3, 32])\n",
      "logits torch.Size([3, 2])\n",
      "classifier ouput torch.Size([3, 2])\n",
      "-----------------Loss: 0.6988343596458435-----------------------\n",
      "------BATCH ENDING-------\n",
      "--------------------------------------------------\n",
      "[tensor([33, 35, 34])]\n",
      "feature shape torch.Size([3, 254, 1, 112, 112])\n",
      "reshape input torch.Size([762, 1, 112, 112])\n",
      "CNN ouput torch.Size([762, 512])\n",
      "reshaped rnn_in torch.Size([3, 254, 512])\n",
      "RNN ouput torch.Size([3, 254, 64])\n",
      "mask ouput torch.Size([3, 254, 64])\n",
      "reshaped masked output torch.Size([3, 16256])\n",
      "fc ouput torch.Size([3, 32])\n",
      "logits torch.Size([3, 2])\n",
      "classifier ouput torch.Size([3, 2])\n",
      "-----------------Loss: 0.6406516432762146-----------------------\n",
      "------BATCH ENDING-------\n",
      "--------------------------------------------------\n",
      "[tensor([16, 33, 31])]\n",
      "feature shape torch.Size([3, 254, 1, 112, 112])\n",
      "reshape input torch.Size([762, 1, 112, 112])\n",
      "CNN ouput torch.Size([762, 512])\n",
      "reshaped rnn_in torch.Size([3, 254, 512])\n",
      "RNN ouput torch.Size([3, 254, 64])\n"
     ]
    },
    {
     "name": "stderr",
     "output_type": "stream",
     "text": [
      " 97%|██████████████████████████████████████████████████████████████████████████████▍  | 150/155 [00:37<00:00,  6.93it/s]"
     ]
    },
    {
     "name": "stdout",
     "output_type": "stream",
     "text": [
      "mask ouput torch.Size([3, 254, 64])\n",
      "reshaped masked output torch.Size([3, 16256])\n",
      "fc ouput torch.Size([3, 32])\n",
      "logits torch.Size([3, 2])\n",
      "classifier ouput torch.Size([3, 2])\n",
      "-----------------Loss: 0.7580938339233398-----------------------\n",
      "------BATCH ENDING-------\n",
      "--------------------------------------------------\n",
      "[tensor([ 34, 194,  51])]\n",
      "feature shape torch.Size([3, 254, 1, 112, 112])\n",
      "reshape input torch.Size([762, 1, 112, 112])\n",
      "CNN ouput torch.Size([762, 512])\n",
      "reshaped rnn_in torch.Size([3, 254, 512])\n",
      "RNN ouput torch.Size([3, 254, 64])\n",
      "mask ouput torch.Size([3, 254, 64])\n",
      "reshaped masked output torch.Size([3, 16256])\n",
      "fc ouput torch.Size([3, 32])\n",
      "logits torch.Size([3, 2])\n",
      "classifier ouput torch.Size([3, 2])\n",
      "-----------------Loss: 0.6239204406738281-----------------------\n",
      "------BATCH ENDING-------\n",
      "--------------------------------------------------\n",
      "[tensor([33, 20, 16])]\n",
      "feature shape torch.Size([3, 254, 1, 112, 112])\n",
      "reshape input torch.Size([762, 1, 112, 112])\n",
      "CNN ouput torch.Size([762, 512])\n",
      "reshaped rnn_in torch.Size([3, 254, 512])\n",
      "RNN ouput torch.Size([3, 254, 64])\n"
     ]
    },
    {
     "name": "stderr",
     "output_type": "stream",
     "text": [
      " 98%|███████████████████████████████████████████████████████████████████████████████▍ | 152/155 [00:38<00:00,  6.92it/s]"
     ]
    },
    {
     "name": "stdout",
     "output_type": "stream",
     "text": [
      "mask ouput torch.Size([3, 254, 64])\n",
      "reshaped masked output torch.Size([3, 16256])\n",
      "fc ouput torch.Size([3, 32])\n",
      "logits torch.Size([3, 2])\n",
      "classifier ouput torch.Size([3, 2])\n",
      "-----------------Loss: 0.6571199893951416-----------------------\n",
      "------BATCH ENDING-------\n",
      "--------------------------------------------------\n",
      "[tensor([ 33, 103, 104])]\n",
      "feature shape torch.Size([3, 254, 1, 112, 112])\n",
      "reshape input torch.Size([762, 1, 112, 112])\n",
      "CNN ouput torch.Size([762, 512])\n",
      "reshaped rnn_in torch.Size([3, 254, 512])\n",
      "RNN ouput torch.Size([3, 254, 64])\n",
      "mask ouput torch.Size([3, 254, 64])\n",
      "reshaped masked output torch.Size([3, 16256])\n",
      "fc ouput torch.Size([3, 32])\n",
      "logits torch.Size([3, 2])\n",
      "classifier ouput torch.Size([3, 2])\n",
      "-----------------Loss: 0.7280957698822021-----------------------\n",
      "------BATCH ENDING-------\n",
      "--------------------------------------------------\n",
      "[tensor([10, 32, 40])]\n",
      "feature shape torch.Size([3, 254, 1, 112, 112])\n",
      "reshape input torch.Size([762, 1, 112, 112])\n",
      "CNN ouput torch.Size([762, 512])\n",
      "reshaped rnn_in torch.Size([3, 254, 512])\n",
      "RNN ouput torch.Size([3, 254, 64])\n"
     ]
    },
    {
     "name": "stderr",
     "output_type": "stream",
     "text": [
      " 99%|████████████████████████████████████████████████████████████████████████████████▍| 154/155 [00:38<00:00,  6.99it/s]"
     ]
    },
    {
     "name": "stdout",
     "output_type": "stream",
     "text": [
      "mask ouput torch.Size([3, 254, 64])\n",
      "reshaped masked output torch.Size([3, 16256])\n",
      "fc ouput torch.Size([3, 32])\n",
      "logits torch.Size([3, 2])\n",
      "classifier ouput torch.Size([3, 2])\n",
      "-----------------Loss: 0.6707307696342468-----------------------\n",
      "------BATCH ENDING-------\n",
      "--------------------------------------------------\n",
      "[tensor([102,  90, 166])]\n",
      "feature shape torch.Size([3, 254, 1, 112, 112])\n",
      "reshape input torch.Size([762, 1, 112, 112])\n",
      "CNN ouput torch.Size([762, 512])\n",
      "reshaped rnn_in torch.Size([3, 254, 512])\n",
      "RNN ouput torch.Size([3, 254, 64])\n",
      "mask ouput torch.Size([3, 254, 64])\n",
      "reshaped masked output torch.Size([3, 16256])\n",
      "fc ouput torch.Size([3, 32])\n",
      "logits torch.Size([3, 2])\n",
      "classifier ouput torch.Size([3, 2])\n",
      "-----------------Loss: 0.8807900547981262-----------------------\n",
      "------BATCH ENDING-------\n",
      "--------------------------------------------------\n",
      "[tensor([ 10, 100, 105])]\n",
      "feature shape torch.Size([3, 254, 1, 112, 112])\n",
      "reshape input torch.Size([762, 1, 112, 112])\n",
      "CNN ouput torch.Size([762, 512])\n",
      "reshaped rnn_in torch.Size([3, 254, 512])\n",
      "RNN ouput torch.Size([3, 254, 64])\n"
     ]
    },
    {
     "name": "stderr",
     "output_type": "stream",
     "text": [
      "100%|█████████████████████████████████████████████████████████████████████████████████| 155/155 [00:38<00:00,  4.03it/s]\n"
     ]
    },
    {
     "name": "stdout",
     "output_type": "stream",
     "text": [
      "mask ouput torch.Size([3, 254, 64])\n",
      "reshaped masked output torch.Size([3, 16256])\n",
      "fc ouput torch.Size([3, 32])\n",
      "logits torch.Size([3, 2])\n",
      "classifier ouput torch.Size([3, 2])\n",
      "-----------------Loss: 0.6898717880249023-----------------------\n",
      "------BATCH ENDING-------\n",
      "Epoch: 1/5 | Loss: 0.68823 | Accuracy: 0.5484% | F1 Score: 0.4635 | AUROC: 0.5693 | Time: 38.53052520751953\n"
     ]
    },
    {
     "name": "stderr",
     "output_type": "stream",
     "text": [
      "  1%|▌                                                                                  | 1/155 [00:00<01:18,  1.96it/s]"
     ]
    },
    {
     "name": "stdout",
     "output_type": "stream",
     "text": [
      "--------------------------------------------------\n",
      "[tensor([33, 31, 12])]\n",
      "feature shape torch.Size([3, 254, 1, 112, 112])\n",
      "reshape input torch.Size([762, 1, 112, 112])\n",
      "CNN ouput torch.Size([762, 512])\n",
      "reshaped rnn_in torch.Size([3, 254, 512])\n",
      "RNN ouput torch.Size([3, 254, 64])\n",
      "mask ouput torch.Size([3, 254, 64])\n",
      "reshaped masked output torch.Size([3, 16256])\n",
      "fc ouput torch.Size([3, 32])\n",
      "logits torch.Size([3, 2])\n",
      "classifier ouput torch.Size([3, 2])\n",
      "-----------------Loss: 0.729137122631073-----------------------\n",
      "------BATCH ENDING-------\n",
      "--------------------------------------------------\n",
      "[tensor([104, 109,  34])]\n",
      "feature shape torch.Size([3, 254, 1, 112, 112])\n",
      "reshape input torch.Size([762, 1, 112, 112])\n",
      "CNN ouput torch.Size([762, 512])\n",
      "reshaped rnn_in torch.Size([3, 254, 512])\n",
      "RNN ouput torch.Size([3, 254, 64])\n"
     ]
    },
    {
     "name": "stderr",
     "output_type": "stream",
     "text": [
      "  2%|█▌                                                                                 | 3/155 [00:00<00:35,  4.24it/s]"
     ]
    },
    {
     "name": "stdout",
     "output_type": "stream",
     "text": [
      "mask ouput torch.Size([3, 254, 64])\n",
      "reshaped masked output torch.Size([3, 16256])\n",
      "fc ouput torch.Size([3, 32])\n",
      "logits torch.Size([3, 2])\n",
      "classifier ouput torch.Size([3, 2])\n",
      "-----------------Loss: 0.6546034812927246-----------------------\n",
      "------BATCH ENDING-------\n",
      "--------------------------------------------------\n",
      "[tensor([34, 34, 20])]\n",
      "feature shape torch.Size([3, 254, 1, 112, 112])\n",
      "reshape input torch.Size([762, 1, 112, 112])\n",
      "CNN ouput torch.Size([762, 512])\n",
      "reshaped rnn_in torch.Size([3, 254, 512])\n",
      "RNN ouput torch.Size([3, 254, 64])\n",
      "mask ouput torch.Size([3, 254, 64])\n",
      "reshaped masked output torch.Size([3, 16256])\n",
      "fc ouput torch.Size([3, 32])\n",
      "logits torch.Size([3, 2])\n",
      "classifier ouput torch.Size([3, 2])\n",
      "-----------------Loss: 0.6450403332710266-----------------------\n",
      "------BATCH ENDING-------\n",
      "--------------------------------------------------\n",
      "[tensor([26, 34, 49])]\n",
      "feature shape torch.Size([3, 254, 1, 112, 112])\n",
      "reshape input torch.Size([762, 1, 112, 112])\n",
      "CNN ouput torch.Size([762, 512])\n",
      "reshaped rnn_in torch.Size([3, 254, 512])\n",
      "RNN ouput torch.Size([3, 254, 64])\n"
     ]
    },
    {
     "name": "stderr",
     "output_type": "stream",
     "text": [
      "  3%|██▋                                                                                | 5/155 [00:01<00:26,  5.61it/s]"
     ]
    },
    {
     "name": "stdout",
     "output_type": "stream",
     "text": [
      "mask ouput torch.Size([3, 254, 64])\n",
      "reshaped masked output torch.Size([3, 16256])\n",
      "fc ouput torch.Size([3, 32])\n",
      "logits torch.Size([3, 2])\n",
      "classifier ouput torch.Size([3, 2])\n",
      "-----------------Loss: 0.667891263961792-----------------------\n",
      "------BATCH ENDING-------\n",
      "--------------------------------------------------\n",
      "[tensor([ 93, 106,  33])]\n",
      "feature shape torch.Size([3, 254, 1, 112, 112])\n",
      "reshape input torch.Size([762, 1, 112, 112])\n",
      "CNN ouput torch.Size([762, 512])\n",
      "reshaped rnn_in torch.Size([3, 254, 512])\n",
      "RNN ouput torch.Size([3, 254, 64])\n",
      "mask ouput torch.Size([3, 254, 64])\n",
      "reshaped masked output torch.Size([3, 16256])\n",
      "fc ouput torch.Size([3, 32])\n",
      "logits torch.Size([3, 2])\n",
      "classifier ouput torch.Size([3, 2])\n",
      "-----------------Loss: 0.667919933795929-----------------------\n",
      "------BATCH ENDING-------\n",
      "--------------------------------------------------\n",
      "[tensor([ 39,  33, 102])]\n",
      "feature shape torch.Size([3, 254, 1, 112, 112])\n",
      "reshape input torch.Size([762, 1, 112, 112])\n",
      "CNN ouput torch.Size([762, 512])\n",
      "reshaped rnn_in torch.Size([3, 254, 512])\n",
      "RNN ouput torch.Size([3, 254, 64])\n"
     ]
    },
    {
     "name": "stderr",
     "output_type": "stream",
     "text": [
      "  5%|███▋                                                                               | 7/155 [00:01<00:23,  6.28it/s]"
     ]
    },
    {
     "name": "stdout",
     "output_type": "stream",
     "text": [
      "mask ouput torch.Size([3, 254, 64])\n",
      "reshaped masked output torch.Size([3, 16256])\n",
      "fc ouput torch.Size([3, 32])\n",
      "logits torch.Size([3, 2])\n",
      "classifier ouput torch.Size([3, 2])\n",
      "-----------------Loss: 0.7137534022331238-----------------------\n",
      "------BATCH ENDING-------\n",
      "--------------------------------------------------\n",
      "[tensor([35, 90, 18])]\n",
      "feature shape torch.Size([3, 254, 1, 112, 112])\n",
      "reshape input torch.Size([762, 1, 112, 112])\n",
      "CNN ouput torch.Size([762, 512])\n",
      "reshaped rnn_in torch.Size([3, 254, 512])\n",
      "RNN ouput torch.Size([3, 254, 64])\n",
      "mask ouput torch.Size([3, 254, 64])\n",
      "reshaped masked output torch.Size([3, 16256])\n",
      "fc ouput torch.Size([3, 32])\n",
      "logits torch.Size([3, 2])\n",
      "classifier ouput torch.Size([3, 2])\n",
      "-----------------Loss: 0.6976819038391113-----------------------\n",
      "------BATCH ENDING-------\n",
      "--------------------------------------------------\n",
      "[tensor([31, 15, 16])]\n",
      "feature shape torch.Size([3, 254, 1, 112, 112])\n",
      "reshape input torch.Size([762, 1, 112, 112])\n",
      "CNN ouput torch.Size([762, 512])\n",
      "reshaped rnn_in torch.Size([3, 254, 512])\n",
      "RNN ouput torch.Size([3, 254, 64])\n"
     ]
    },
    {
     "name": "stderr",
     "output_type": "stream",
     "text": [
      "  6%|████▊                                                                              | 9/155 [00:01<00:22,  6.55it/s]"
     ]
    },
    {
     "name": "stdout",
     "output_type": "stream",
     "text": [
      "mask ouput torch.Size([3, 254, 64])\n",
      "reshaped masked output torch.Size([3, 16256])\n",
      "fc ouput torch.Size([3, 32])\n",
      "logits torch.Size([3, 2])\n",
      "classifier ouput torch.Size([3, 2])\n",
      "-----------------Loss: 0.6287316679954529-----------------------\n",
      "------BATCH ENDING-------\n",
      "--------------------------------------------------\n",
      "[tensor([97, 95, 99])]\n",
      "feature shape torch.Size([3, 254, 1, 112, 112])\n",
      "reshape input torch.Size([762, 1, 112, 112])\n",
      "CNN ouput torch.Size([762, 512])\n",
      "reshaped rnn_in torch.Size([3, 254, 512])\n",
      "RNN ouput torch.Size([3, 254, 64])\n",
      "mask ouput torch.Size([3, 254, 64])\n",
      "reshaped masked output torch.Size([3, 16256])\n",
      "fc ouput torch.Size([3, 32])\n",
      "logits torch.Size([3, 2])\n",
      "classifier ouput torch.Size([3, 2])\n",
      "-----------------Loss: 0.6620233654975891-----------------------\n",
      "------BATCH ENDING-------\n",
      "--------------------------------------------------\n",
      "[tensor([15, 14, 17])]\n",
      "feature shape torch.Size([3, 254, 1, 112, 112])\n",
      "reshape input torch.Size([762, 1, 112, 112])\n",
      "CNN ouput torch.Size([762, 512])\n",
      "reshaped rnn_in torch.Size([3, 254, 512])\n",
      "RNN ouput torch.Size([3, 254, 64])\n"
     ]
    },
    {
     "name": "stderr",
     "output_type": "stream",
     "text": [
      "  7%|█████▊                                                                            | 11/155 [00:01<00:21,  6.62it/s]"
     ]
    },
    {
     "name": "stdout",
     "output_type": "stream",
     "text": [
      "mask ouput torch.Size([3, 254, 64])\n",
      "reshaped masked output torch.Size([3, 16256])\n",
      "fc ouput torch.Size([3, 32])\n",
      "logits torch.Size([3, 2])\n",
      "classifier ouput torch.Size([3, 2])\n",
      "-----------------Loss: 0.6752235293388367-----------------------\n",
      "------BATCH ENDING-------\n",
      "--------------------------------------------------\n",
      "[tensor([ 22, 112, 102])]\n",
      "feature shape torch.Size([3, 254, 1, 112, 112])\n",
      "reshape input torch.Size([762, 1, 112, 112])\n",
      "CNN ouput torch.Size([762, 512])\n",
      "reshaped rnn_in torch.Size([3, 254, 512])\n",
      "RNN ouput torch.Size([3, 254, 64])\n",
      "mask ouput torch.Size([3, 254, 64])\n",
      "reshaped masked output torch.Size([3, 16256])\n",
      "fc ouput torch.Size([3, 32])\n",
      "logits torch.Size([3, 2])\n",
      "classifier ouput torch.Size([3, 2])\n",
      "-----------------Loss: 0.6088530421257019-----------------------\n",
      "------BATCH ENDING-------\n",
      "--------------------------------------------------\n",
      "[tensor([ 20, 165,  14])]\n",
      "feature shape torch.Size([3, 254, 1, 112, 112])\n",
      "reshape input torch.Size([762, 1, 112, 112])\n",
      "CNN ouput torch.Size([762, 512])\n",
      "reshaped rnn_in torch.Size([3, 254, 512])\n",
      "RNN ouput torch.Size([3, 254, 64])\n"
     ]
    },
    {
     "name": "stderr",
     "output_type": "stream",
     "text": [
      "  8%|██████▉                                                                           | 13/155 [00:02<00:21,  6.65it/s]"
     ]
    },
    {
     "name": "stdout",
     "output_type": "stream",
     "text": [
      "mask ouput torch.Size([3, 254, 64])\n",
      "reshaped masked output torch.Size([3, 16256])\n",
      "fc ouput torch.Size([3, 32])\n",
      "logits torch.Size([3, 2])\n",
      "classifier ouput torch.Size([3, 2])\n",
      "-----------------Loss: 0.5979824662208557-----------------------\n",
      "------BATCH ENDING-------\n",
      "--------------------------------------------------\n",
      "[tensor([34, 95, 95])]\n",
      "feature shape torch.Size([3, 254, 1, 112, 112])\n",
      "reshape input torch.Size([762, 1, 112, 112])\n",
      "CNN ouput torch.Size([762, 512])\n",
      "reshaped rnn_in torch.Size([3, 254, 512])\n",
      "RNN ouput torch.Size([3, 254, 64])\n",
      "mask ouput torch.Size([3, 254, 64])\n",
      "reshaped masked output torch.Size([3, 16256])\n",
      "fc ouput torch.Size([3, 32])\n",
      "logits torch.Size([3, 2])\n",
      "classifier ouput torch.Size([3, 2])\n",
      "-----------------Loss: 0.6324458718299866-----------------------\n",
      "------BATCH ENDING-------\n",
      "--------------------------------------------------\n",
      "[tensor([ 35, 107,  34])]\n",
      "feature shape torch.Size([3, 254, 1, 112, 112])\n",
      "reshape input torch.Size([762, 1, 112, 112])\n",
      "CNN ouput torch.Size([762, 512])\n",
      "reshaped rnn_in torch.Size([3, 254, 512])\n",
      "RNN ouput torch.Size([3, 254, 64])\n"
     ]
    },
    {
     "name": "stderr",
     "output_type": "stream",
     "text": [
      " 10%|███████▉                                                                          | 15/155 [00:02<00:20,  6.72it/s]"
     ]
    },
    {
     "name": "stdout",
     "output_type": "stream",
     "text": [
      "mask ouput torch.Size([3, 254, 64])\n",
      "reshaped masked output torch.Size([3, 16256])\n",
      "fc ouput torch.Size([3, 32])\n",
      "logits torch.Size([3, 2])\n",
      "classifier ouput torch.Size([3, 2])\n",
      "-----------------Loss: 0.7187721133232117-----------------------\n",
      "------BATCH ENDING-------\n",
      "--------------------------------------------------\n",
      "[tensor([ 18,  34, 112])]\n",
      "feature shape torch.Size([3, 254, 1, 112, 112])\n",
      "reshape input torch.Size([762, 1, 112, 112])\n",
      "CNN ouput torch.Size([762, 512])\n",
      "reshaped rnn_in torch.Size([3, 254, 512])\n",
      "RNN ouput torch.Size([3, 254, 64])\n",
      "mask ouput torch.Size([3, 254, 64])\n",
      "reshaped masked output torch.Size([3, 16256])\n",
      "fc ouput torch.Size([3, 32])\n",
      "logits torch.Size([3, 2])\n",
      "classifier ouput torch.Size([3, 2])\n",
      "-----------------Loss: 0.5950804352760315-----------------------\n",
      "------BATCH ENDING-------\n",
      "--------------------------------------------------\n",
      "[tensor([105, 219,  15])]\n",
      "feature shape torch.Size([3, 254, 1, 112, 112])\n",
      "reshape input torch.Size([762, 1, 112, 112])\n",
      "CNN ouput torch.Size([762, 512])\n",
      "reshaped rnn_in torch.Size([3, 254, 512])\n",
      "RNN ouput torch.Size([3, 254, 64])\n"
     ]
    },
    {
     "name": "stderr",
     "output_type": "stream",
     "text": [
      " 11%|████████▉                                                                         | 17/155 [00:02<00:20,  6.83it/s]"
     ]
    },
    {
     "name": "stdout",
     "output_type": "stream",
     "text": [
      "mask ouput torch.Size([3, 254, 64])\n",
      "reshaped masked output torch.Size([3, 16256])\n",
      "fc ouput torch.Size([3, 32])\n",
      "logits torch.Size([3, 2])\n",
      "classifier ouput torch.Size([3, 2])\n",
      "-----------------Loss: 0.4872685670852661-----------------------\n",
      "------BATCH ENDING-------\n",
      "--------------------------------------------------\n",
      "[tensor([106,  35,  34])]\n",
      "feature shape torch.Size([3, 254, 1, 112, 112])\n",
      "reshape input torch.Size([762, 1, 112, 112])\n",
      "CNN ouput torch.Size([762, 512])\n",
      "reshaped rnn_in torch.Size([3, 254, 512])\n",
      "RNN ouput torch.Size([3, 254, 64])\n",
      "mask ouput torch.Size([3, 254, 64])\n",
      "reshaped masked output torch.Size([3, 16256])\n",
      "fc ouput torch.Size([3, 32])\n",
      "logits torch.Size([3, 2])\n",
      "classifier ouput torch.Size([3, 2])\n",
      "-----------------Loss: 0.6716551184654236-----------------------\n",
      "------BATCH ENDING-------\n",
      "--------------------------------------------------\n",
      "[tensor([199,  16, 109])]\n",
      "feature shape torch.Size([3, 254, 1, 112, 112])\n",
      "reshape input torch.Size([762, 1, 112, 112])\n",
      "CNN ouput torch.Size([762, 512])\n",
      "reshaped rnn_in torch.Size([3, 254, 512])\n",
      "RNN ouput torch.Size([3, 254, 64])\n"
     ]
    },
    {
     "name": "stderr",
     "output_type": "stream",
     "text": [
      " 12%|██████████                                                                        | 19/155 [00:03<00:19,  6.89it/s]"
     ]
    },
    {
     "name": "stdout",
     "output_type": "stream",
     "text": [
      "mask ouput torch.Size([3, 254, 64])\n",
      "reshaped masked output torch.Size([3, 16256])\n",
      "fc ouput torch.Size([3, 32])\n",
      "logits torch.Size([3, 2])\n",
      "classifier ouput torch.Size([3, 2])\n",
      "-----------------Loss: 0.9158666729927063-----------------------\n",
      "------BATCH ENDING-------\n",
      "--------------------------------------------------\n",
      "[tensor([108,  19, 105])]\n",
      "feature shape torch.Size([3, 254, 1, 112, 112])\n",
      "reshape input torch.Size([762, 1, 112, 112])\n",
      "CNN ouput torch.Size([762, 512])\n",
      "reshaped rnn_in torch.Size([3, 254, 512])\n",
      "RNN ouput torch.Size([3, 254, 64])\n",
      "mask ouput torch.Size([3, 254, 64])\n",
      "reshaped masked output torch.Size([3, 16256])\n",
      "fc ouput torch.Size([3, 32])\n",
      "logits torch.Size([3, 2])\n",
      "classifier ouput torch.Size([3, 2])\n",
      "-----------------Loss: 0.5722129344940186-----------------------\n",
      "------BATCH ENDING-------\n",
      "--------------------------------------------------\n",
      "[tensor([106,  97,  97])]\n",
      "feature shape torch.Size([3, 254, 1, 112, 112])\n",
      "reshape input torch.Size([762, 1, 112, 112])\n",
      "CNN ouput torch.Size([762, 512])\n",
      "reshaped rnn_in torch.Size([3, 254, 512])\n",
      "RNN ouput torch.Size([3, 254, 64])\n"
     ]
    },
    {
     "name": "stderr",
     "output_type": "stream",
     "text": [
      " 14%|███████████                                                                       | 21/155 [00:03<00:19,  6.89it/s]"
     ]
    },
    {
     "name": "stdout",
     "output_type": "stream",
     "text": [
      "mask ouput torch.Size([3, 254, 64])\n",
      "reshaped masked output torch.Size([3, 16256])\n",
      "fc ouput torch.Size([3, 32])\n",
      "logits torch.Size([3, 2])\n",
      "classifier ouput torch.Size([3, 2])\n",
      "-----------------Loss: 0.6442771553993225-----------------------\n",
      "------BATCH ENDING-------\n",
      "--------------------------------------------------\n",
      "[tensor([35, 11, 32])]\n",
      "feature shape torch.Size([3, 254, 1, 112, 112])\n",
      "reshape input torch.Size([762, 1, 112, 112])\n",
      "CNN ouput torch.Size([762, 512])\n",
      "reshaped rnn_in torch.Size([3, 254, 512])\n",
      "RNN ouput torch.Size([3, 254, 64])\n",
      "mask ouput torch.Size([3, 254, 64])\n",
      "reshaped masked output torch.Size([3, 16256])\n",
      "fc ouput torch.Size([3, 32])\n",
      "logits torch.Size([3, 2])\n",
      "classifier ouput torch.Size([3, 2])\n",
      "-----------------Loss: 0.7102903723716736-----------------------\n",
      "------BATCH ENDING-------\n",
      "--------------------------------------------------\n",
      "[tensor([33, 33, 52])]\n",
      "feature shape torch.Size([3, 254, 1, 112, 112])\n",
      "reshape input torch.Size([762, 1, 112, 112])\n",
      "CNN ouput torch.Size([762, 512])\n",
      "reshaped rnn_in torch.Size([3, 254, 512])\n",
      "RNN ouput torch.Size([3, 254, 64])\n"
     ]
    },
    {
     "name": "stderr",
     "output_type": "stream",
     "text": [
      " 15%|████████████▏                                                                     | 23/155 [00:03<00:19,  6.89it/s]"
     ]
    },
    {
     "name": "stdout",
     "output_type": "stream",
     "text": [
      "mask ouput torch.Size([3, 254, 64])\n",
      "reshaped masked output torch.Size([3, 16256])\n",
      "fc ouput torch.Size([3, 32])\n",
      "logits torch.Size([3, 2])\n",
      "classifier ouput torch.Size([3, 2])\n",
      "-----------------Loss: 0.6125152707099915-----------------------\n",
      "------BATCH ENDING-------\n",
      "--------------------------------------------------\n",
      "[tensor([17, 17, 35])]\n",
      "feature shape torch.Size([3, 254, 1, 112, 112])\n",
      "reshape input torch.Size([762, 1, 112, 112])\n",
      "CNN ouput torch.Size([762, 512])\n",
      "reshaped rnn_in torch.Size([3, 254, 512])\n",
      "RNN ouput torch.Size([3, 254, 64])\n",
      "mask ouput torch.Size([3, 254, 64])\n",
      "reshaped masked output torch.Size([3, 16256])\n",
      "fc ouput torch.Size([3, 32])\n",
      "logits torch.Size([3, 2])\n",
      "classifier ouput torch.Size([3, 2])\n",
      "-----------------Loss: 0.6332015991210938-----------------------\n",
      "------BATCH ENDING-------\n",
      "--------------------------------------------------\n",
      "[tensor([ 98, 107,  34])]\n",
      "feature shape torch.Size([3, 254, 1, 112, 112])\n",
      "reshape input torch.Size([762, 1, 112, 112])\n",
      "CNN ouput torch.Size([762, 512])\n",
      "reshaped rnn_in torch.Size([3, 254, 512])\n",
      "RNN ouput torch.Size([3, 254, 64])\n"
     ]
    },
    {
     "name": "stderr",
     "output_type": "stream",
     "text": [
      " 16%|█████████████▏                                                                    | 25/155 [00:04<00:18,  6.91it/s]"
     ]
    },
    {
     "name": "stdout",
     "output_type": "stream",
     "text": [
      "mask ouput torch.Size([3, 254, 64])\n",
      "reshaped masked output torch.Size([3, 16256])\n",
      "fc ouput torch.Size([3, 32])\n",
      "logits torch.Size([3, 2])\n",
      "classifier ouput torch.Size([3, 2])\n",
      "-----------------Loss: 0.6352851986885071-----------------------\n",
      "------BATCH ENDING-------\n",
      "--------------------------------------------------\n",
      "[tensor([ 35,  34, 109])]\n",
      "feature shape torch.Size([3, 254, 1, 112, 112])\n",
      "reshape input torch.Size([762, 1, 112, 112])\n",
      "CNN ouput torch.Size([762, 512])\n",
      "reshaped rnn_in torch.Size([3, 254, 512])\n",
      "RNN ouput torch.Size([3, 254, 64])\n",
      "mask ouput torch.Size([3, 254, 64])\n",
      "reshaped masked output torch.Size([3, 16256])\n",
      "fc ouput torch.Size([3, 32])\n",
      "logits torch.Size([3, 2])\n",
      "classifier ouput torch.Size([3, 2])\n",
      "-----------------Loss: 0.6084067225456238-----------------------\n",
      "------BATCH ENDING-------\n",
      "--------------------------------------------------\n",
      "[tensor([ 34, 112, 104])]\n",
      "feature shape torch.Size([3, 254, 1, 112, 112])\n",
      "reshape input torch.Size([762, 1, 112, 112])\n",
      "CNN ouput torch.Size([762, 512])\n",
      "reshaped rnn_in torch.Size([3, 254, 512])\n",
      "RNN ouput torch.Size([3, 254, 64])\n"
     ]
    },
    {
     "name": "stderr",
     "output_type": "stream",
     "text": [
      " 17%|██████████████▎                                                                   | 27/155 [00:04<00:18,  6.83it/s]"
     ]
    },
    {
     "name": "stdout",
     "output_type": "stream",
     "text": [
      "mask ouput torch.Size([3, 254, 64])\n",
      "reshaped masked output torch.Size([3, 16256])\n",
      "fc ouput torch.Size([3, 32])\n",
      "logits torch.Size([3, 2])\n",
      "classifier ouput torch.Size([3, 2])\n",
      "-----------------Loss: 0.7493732571601868-----------------------\n",
      "------BATCH ENDING-------\n",
      "--------------------------------------------------\n",
      "[tensor([ 34, 105,  49])]\n",
      "feature shape torch.Size([3, 254, 1, 112, 112])\n",
      "reshape input torch.Size([762, 1, 112, 112])\n",
      "CNN ouput torch.Size([762, 512])\n",
      "reshaped rnn_in torch.Size([3, 254, 512])\n",
      "RNN ouput torch.Size([3, 254, 64])\n",
      "mask ouput torch.Size([3, 254, 64])\n",
      "reshaped masked output torch.Size([3, 16256])\n",
      "fc ouput torch.Size([3, 32])\n",
      "logits torch.Size([3, 2])\n",
      "classifier ouput torch.Size([3, 2])\n",
      "-----------------Loss: 0.5837813019752502-----------------------\n",
      "------BATCH ENDING-------\n",
      "--------------------------------------------------\n",
      "[tensor([ 17,  51, 106])]\n",
      "feature shape torch.Size([3, 254, 1, 112, 112])\n",
      "reshape input torch.Size([762, 1, 112, 112])\n",
      "CNN ouput torch.Size([762, 512])\n",
      "reshaped rnn_in torch.Size([3, 254, 512])\n",
      "RNN ouput torch.Size([3, 254, 64])\n"
     ]
    },
    {
     "name": "stderr",
     "output_type": "stream",
     "text": [
      " 19%|███████████████▎                                                                  | 29/155 [00:04<00:18,  6.86it/s]"
     ]
    },
    {
     "name": "stdout",
     "output_type": "stream",
     "text": [
      "mask ouput torch.Size([3, 254, 64])\n",
      "reshaped masked output torch.Size([3, 16256])\n",
      "fc ouput torch.Size([3, 32])\n",
      "logits torch.Size([3, 2])\n",
      "classifier ouput torch.Size([3, 2])\n",
      "-----------------Loss: 0.6012236475944519-----------------------\n",
      "------BATCH ENDING-------\n",
      "--------------------------------------------------\n",
      "[tensor([20, 31, 15])]\n",
      "feature shape torch.Size([3, 254, 1, 112, 112])\n",
      "reshape input torch.Size([762, 1, 112, 112])\n",
      "CNN ouput torch.Size([762, 512])\n",
      "reshaped rnn_in torch.Size([3, 254, 512])\n",
      "RNN ouput torch.Size([3, 254, 64])\n",
      "mask ouput torch.Size([3, 254, 64])\n",
      "reshaped masked output torch.Size([3, 16256])\n",
      "fc ouput torch.Size([3, 32])\n",
      "logits torch.Size([3, 2])\n",
      "classifier ouput torch.Size([3, 2])\n",
      "-----------------Loss: 0.6810953617095947-----------------------\n",
      "------BATCH ENDING-------\n",
      "--------------------------------------------------\n",
      "[tensor([101, 101,  40])]\n",
      "feature shape torch.Size([3, 254, 1, 112, 112])\n",
      "reshape input torch.Size([762, 1, 112, 112])\n",
      "CNN ouput torch.Size([762, 512])\n",
      "reshaped rnn_in torch.Size([3, 254, 512])\n",
      "RNN ouput torch.Size([3, 254, 64])\n"
     ]
    },
    {
     "name": "stderr",
     "output_type": "stream",
     "text": [
      " 20%|████████████████▍                                                                 | 31/155 [00:04<00:18,  6.86it/s]"
     ]
    },
    {
     "name": "stdout",
     "output_type": "stream",
     "text": [
      "mask ouput torch.Size([3, 254, 64])\n",
      "reshaped masked output torch.Size([3, 16256])\n",
      "fc ouput torch.Size([3, 32])\n",
      "logits torch.Size([3, 2])\n",
      "classifier ouput torch.Size([3, 2])\n",
      "-----------------Loss: 0.6433001160621643-----------------------\n",
      "------BATCH ENDING-------\n",
      "--------------------------------------------------\n",
      "[tensor([ 34, 104, 189])]\n",
      "feature shape torch.Size([3, 254, 1, 112, 112])\n",
      "reshape input torch.Size([762, 1, 112, 112])\n",
      "CNN ouput torch.Size([762, 512])\n",
      "reshaped rnn_in torch.Size([3, 254, 512])\n",
      "RNN ouput torch.Size([3, 254, 64])\n",
      "mask ouput torch.Size([3, 254, 64])\n",
      "reshaped masked output torch.Size([3, 16256])\n",
      "fc ouput torch.Size([3, 32])\n",
      "logits torch.Size([3, 2])\n",
      "classifier ouput torch.Size([3, 2])\n",
      "-----------------Loss: 0.7465284466743469-----------------------\n",
      "------BATCH ENDING-------\n",
      "--------------------------------------------------\n",
      "[tensor([96, 32, 32])]\n",
      "feature shape torch.Size([3, 254, 1, 112, 112])\n",
      "reshape input torch.Size([762, 1, 112, 112])\n",
      "CNN ouput torch.Size([762, 512])\n",
      "reshaped rnn_in torch.Size([3, 254, 512])\n",
      "RNN ouput torch.Size([3, 254, 64])\n"
     ]
    },
    {
     "name": "stderr",
     "output_type": "stream",
     "text": [
      " 21%|█████████████████▍                                                                | 33/155 [00:05<00:17,  6.87it/s]"
     ]
    },
    {
     "name": "stdout",
     "output_type": "stream",
     "text": [
      "mask ouput torch.Size([3, 254, 64])\n",
      "reshaped masked output torch.Size([3, 16256])\n",
      "fc ouput torch.Size([3, 32])\n",
      "logits torch.Size([3, 2])\n",
      "classifier ouput torch.Size([3, 2])\n",
      "-----------------Loss: 0.8625891804695129-----------------------\n",
      "------BATCH ENDING-------\n",
      "--------------------------------------------------\n",
      "[tensor([ 94,  13, 212])]\n",
      "feature shape torch.Size([3, 254, 1, 112, 112])\n",
      "reshape input torch.Size([762, 1, 112, 112])\n",
      "CNN ouput torch.Size([762, 512])\n",
      "reshaped rnn_in torch.Size([3, 254, 512])\n",
      "RNN ouput torch.Size([3, 254, 64])\n",
      "mask ouput torch.Size([3, 254, 64])\n",
      "reshaped masked output torch.Size([3, 16256])\n",
      "fc ouput torch.Size([3, 32])\n",
      "logits torch.Size([3, 2])\n",
      "classifier ouput torch.Size([3, 2])\n",
      "-----------------Loss: 0.999143123626709-----------------------\n",
      "------BATCH ENDING-------\n",
      "--------------------------------------------------\n",
      "[tensor([35, 35, 80])]\n",
      "feature shape torch.Size([3, 254, 1, 112, 112])\n",
      "reshape input torch.Size([762, 1, 112, 112])\n",
      "CNN ouput torch.Size([762, 512])\n",
      "reshaped rnn_in torch.Size([3, 254, 512])\n",
      "RNN ouput torch.Size([3, 254, 64])\n"
     ]
    },
    {
     "name": "stderr",
     "output_type": "stream",
     "text": [
      " 23%|██████████████████▌                                                               | 35/155 [00:05<00:17,  6.86it/s]"
     ]
    },
    {
     "name": "stdout",
     "output_type": "stream",
     "text": [
      "mask ouput torch.Size([3, 254, 64])\n",
      "reshaped masked output torch.Size([3, 16256])\n",
      "fc ouput torch.Size([3, 32])\n",
      "logits torch.Size([3, 2])\n",
      "classifier ouput torch.Size([3, 2])\n",
      "-----------------Loss: 0.5819947719573975-----------------------\n",
      "------BATCH ENDING-------\n",
      "--------------------------------------------------\n",
      "[tensor([33, 31, 99])]\n",
      "feature shape torch.Size([3, 254, 1, 112, 112])\n",
      "reshape input torch.Size([762, 1, 112, 112])\n",
      "CNN ouput torch.Size([762, 512])\n",
      "reshaped rnn_in torch.Size([3, 254, 512])\n",
      "RNN ouput torch.Size([3, 254, 64])\n",
      "mask ouput torch.Size([3, 254, 64])\n",
      "reshaped masked output torch.Size([3, 16256])\n",
      "fc ouput torch.Size([3, 32])\n",
      "logits torch.Size([3, 2])\n",
      "classifier ouput torch.Size([3, 2])\n",
      "-----------------Loss: 0.6231021285057068-----------------------\n",
      "------BATCH ENDING-------\n",
      "--------------------------------------------------\n",
      "[tensor([101, 101, 106])]\n",
      "feature shape torch.Size([3, 254, 1, 112, 112])\n",
      "reshape input torch.Size([762, 1, 112, 112])\n",
      "CNN ouput torch.Size([762, 512])\n",
      "reshaped rnn_in torch.Size([3, 254, 512])\n",
      "RNN ouput torch.Size([3, 254, 64])\n"
     ]
    },
    {
     "name": "stderr",
     "output_type": "stream",
     "text": [
      " 24%|███████████████████▌                                                              | 37/155 [00:05<00:17,  6.88it/s]"
     ]
    },
    {
     "name": "stdout",
     "output_type": "stream",
     "text": [
      "mask ouput torch.Size([3, 254, 64])\n",
      "reshaped masked output torch.Size([3, 16256])\n",
      "fc ouput torch.Size([3, 32])\n",
      "logits torch.Size([3, 2])\n",
      "classifier ouput torch.Size([3, 2])\n",
      "-----------------Loss: 0.6198310256004333-----------------------\n",
      "------BATCH ENDING-------\n",
      "--------------------------------------------------\n",
      "[tensor([99, 13, 95])]\n",
      "feature shape torch.Size([3, 254, 1, 112, 112])\n",
      "reshape input torch.Size([762, 1, 112, 112])\n",
      "CNN ouput torch.Size([762, 512])\n",
      "reshaped rnn_in torch.Size([3, 254, 512])\n",
      "RNN ouput torch.Size([3, 254, 64])\n",
      "mask ouput torch.Size([3, 254, 64])\n",
      "reshaped masked output torch.Size([3, 16256])\n",
      "fc ouput torch.Size([3, 32])\n",
      "logits torch.Size([3, 2])\n",
      "classifier ouput torch.Size([3, 2])\n",
      "-----------------Loss: 0.7506727576255798-----------------------\n",
      "------BATCH ENDING-------\n",
      "--------------------------------------------------\n",
      "[tensor([ 34,  19, 114])]\n",
      "feature shape torch.Size([3, 254, 1, 112, 112])\n",
      "reshape input torch.Size([762, 1, 112, 112])\n",
      "CNN ouput torch.Size([762, 512])\n",
      "reshaped rnn_in torch.Size([3, 254, 512])\n",
      "RNN ouput torch.Size([3, 254, 64])\n"
     ]
    },
    {
     "name": "stderr",
     "output_type": "stream",
     "text": [
      " 25%|████████████████████▋                                                             | 39/155 [00:06<00:16,  6.93it/s]"
     ]
    },
    {
     "name": "stdout",
     "output_type": "stream",
     "text": [
      "mask ouput torch.Size([3, 254, 64])\n",
      "reshaped masked output torch.Size([3, 16256])\n",
      "fc ouput torch.Size([3, 32])\n",
      "logits torch.Size([3, 2])\n",
      "classifier ouput torch.Size([3, 2])\n",
      "-----------------Loss: 0.5386070609092712-----------------------\n",
      "------BATCH ENDING-------\n",
      "--------------------------------------------------\n",
      "[tensor([ 17,  17, 102])]\n",
      "feature shape torch.Size([3, 254, 1, 112, 112])\n",
      "reshape input torch.Size([762, 1, 112, 112])\n",
      "CNN ouput torch.Size([762, 512])\n",
      "reshaped rnn_in torch.Size([3, 254, 512])\n",
      "RNN ouput torch.Size([3, 254, 64])\n",
      "mask ouput torch.Size([3, 254, 64])\n",
      "reshaped masked output torch.Size([3, 16256])\n",
      "fc ouput torch.Size([3, 32])\n",
      "logits torch.Size([3, 2])\n",
      "classifier ouput torch.Size([3, 2])\n",
      "-----------------Loss: 0.7750000357627869-----------------------\n",
      "------BATCH ENDING-------\n",
      "--------------------------------------------------\n",
      "[tensor([16, 47, 35])]\n",
      "feature shape torch.Size([3, 254, 1, 112, 112])\n",
      "reshape input torch.Size([762, 1, 112, 112])\n",
      "CNN ouput torch.Size([762, 512])\n",
      "reshaped rnn_in torch.Size([3, 254, 512])\n",
      "RNN ouput torch.Size([3, 254, 64])\n"
     ]
    },
    {
     "name": "stderr",
     "output_type": "stream",
     "text": [
      " 26%|█████████████████████▋                                                            | 41/155 [00:06<00:16,  6.91it/s]"
     ]
    },
    {
     "name": "stdout",
     "output_type": "stream",
     "text": [
      "mask ouput torch.Size([3, 254, 64])\n",
      "reshaped masked output torch.Size([3, 16256])\n",
      "fc ouput torch.Size([3, 32])\n",
      "logits torch.Size([3, 2])\n",
      "classifier ouput torch.Size([3, 2])\n",
      "-----------------Loss: 0.6536552906036377-----------------------\n",
      "------BATCH ENDING-------\n",
      "--------------------------------------------------\n",
      "[tensor([ 31,  49, 111])]\n",
      "feature shape torch.Size([3, 254, 1, 112, 112])\n",
      "reshape input torch.Size([762, 1, 112, 112])\n",
      "CNN ouput torch.Size([762, 512])\n",
      "reshaped rnn_in torch.Size([3, 254, 512])\n",
      "RNN ouput torch.Size([3, 254, 64])\n",
      "mask ouput torch.Size([3, 254, 64])\n",
      "reshaped masked output torch.Size([3, 16256])\n",
      "fc ouput torch.Size([3, 32])\n",
      "logits torch.Size([3, 2])\n",
      "classifier ouput torch.Size([3, 2])\n",
      "-----------------Loss: 0.5116720795631409-----------------------\n",
      "------BATCH ENDING-------\n",
      "--------------------------------------------------\n",
      "[tensor([33, 52, 35])]\n",
      "feature shape torch.Size([3, 254, 1, 112, 112])\n",
      "reshape input torch.Size([762, 1, 112, 112])\n",
      "CNN ouput torch.Size([762, 512])\n",
      "reshaped rnn_in torch.Size([3, 254, 512])\n",
      "RNN ouput torch.Size([3, 254, 64])\n"
     ]
    },
    {
     "name": "stderr",
     "output_type": "stream",
     "text": [
      " 28%|██████████████████████▋                                                           | 43/155 [00:06<00:16,  6.87it/s]"
     ]
    },
    {
     "name": "stdout",
     "output_type": "stream",
     "text": [
      "mask ouput torch.Size([3, 254, 64])\n",
      "reshaped masked output torch.Size([3, 16256])\n",
      "fc ouput torch.Size([3, 32])\n",
      "logits torch.Size([3, 2])\n",
      "classifier ouput torch.Size([3, 2])\n",
      "-----------------Loss: 0.6153475046157837-----------------------\n",
      "------BATCH ENDING-------\n",
      "--------------------------------------------------\n",
      "[tensor([197,  99,  52])]\n",
      "feature shape torch.Size([3, 254, 1, 112, 112])\n",
      "reshape input torch.Size([762, 1, 112, 112])\n",
      "CNN ouput torch.Size([762, 512])\n",
      "reshaped rnn_in torch.Size([3, 254, 512])\n",
      "RNN ouput torch.Size([3, 254, 64])\n",
      "mask ouput torch.Size([3, 254, 64])\n",
      "reshaped masked output torch.Size([3, 16256])\n",
      "fc ouput torch.Size([3, 32])\n",
      "logits torch.Size([3, 2])\n",
      "classifier ouput torch.Size([3, 2])\n",
      "-----------------Loss: 0.578114926815033-----------------------\n",
      "------BATCH ENDING-------\n",
      "--------------------------------------------------\n",
      "[tensor([ 33, 100,  35])]\n",
      "feature shape torch.Size([3, 254, 1, 112, 112])\n",
      "reshape input torch.Size([762, 1, 112, 112])\n",
      "CNN ouput torch.Size([762, 512])\n",
      "reshaped rnn_in torch.Size([3, 254, 512])\n",
      "RNN ouput torch.Size([3, 254, 64])\n"
     ]
    },
    {
     "name": "stderr",
     "output_type": "stream",
     "text": [
      " 29%|███████████████████████▊                                                          | 45/155 [00:06<00:16,  6.82it/s]"
     ]
    },
    {
     "name": "stdout",
     "output_type": "stream",
     "text": [
      "mask ouput torch.Size([3, 254, 64])\n",
      "reshaped masked output torch.Size([3, 16256])\n",
      "fc ouput torch.Size([3, 32])\n",
      "logits torch.Size([3, 2])\n",
      "classifier ouput torch.Size([3, 2])\n",
      "-----------------Loss: 0.6904420256614685-----------------------\n",
      "------BATCH ENDING-------\n",
      "--------------------------------------------------\n",
      "[tensor([20, 18, 99])]\n",
      "feature shape torch.Size([3, 254, 1, 112, 112])\n",
      "reshape input torch.Size([762, 1, 112, 112])\n",
      "CNN ouput torch.Size([762, 512])\n",
      "reshaped rnn_in torch.Size([3, 254, 512])\n",
      "RNN ouput torch.Size([3, 254, 64])\n",
      "mask ouput torch.Size([3, 254, 64])\n",
      "reshaped masked output torch.Size([3, 16256])\n",
      "fc ouput torch.Size([3, 32])\n",
      "logits torch.Size([3, 2])\n",
      "classifier ouput torch.Size([3, 2])\n",
      "-----------------Loss: 0.63649982213974-----------------------\n",
      "------BATCH ENDING-------\n",
      "--------------------------------------------------\n",
      "[tensor([ 22,  12, 102])]\n",
      "feature shape torch.Size([3, 254, 1, 112, 112])\n",
      "reshape input torch.Size([762, 1, 112, 112])\n",
      "CNN ouput torch.Size([762, 512])\n",
      "reshaped rnn_in torch.Size([3, 254, 512])\n",
      "RNN ouput torch.Size([3, 254, 64])\n"
     ]
    },
    {
     "name": "stderr",
     "output_type": "stream",
     "text": [
      " 30%|████████████████████████▊                                                         | 47/155 [00:07<00:16,  6.72it/s]"
     ]
    },
    {
     "name": "stdout",
     "output_type": "stream",
     "text": [
      "mask ouput torch.Size([3, 254, 64])\n",
      "reshaped masked output torch.Size([3, 16256])\n",
      "fc ouput torch.Size([3, 32])\n",
      "logits torch.Size([3, 2])\n",
      "classifier ouput torch.Size([3, 2])\n",
      "-----------------Loss: 0.6081243753433228-----------------------\n",
      "------BATCH ENDING-------\n",
      "--------------------------------------------------\n",
      "[tensor([22, 33, 49])]\n",
      "feature shape torch.Size([3, 254, 1, 112, 112])\n",
      "reshape input torch.Size([762, 1, 112, 112])\n",
      "CNN ouput torch.Size([762, 512])\n",
      "reshaped rnn_in torch.Size([3, 254, 512])\n",
      "RNN ouput torch.Size([3, 254, 64])\n",
      "mask ouput torch.Size([3, 254, 64])\n",
      "reshaped masked output torch.Size([3, 16256])\n",
      "fc ouput torch.Size([3, 32])\n",
      "logits torch.Size([3, 2])\n",
      "classifier ouput torch.Size([3, 2])\n",
      "-----------------Loss: 0.6225759983062744-----------------------\n",
      "------BATCH ENDING-------\n",
      "--------------------------------------------------\n",
      "[tensor([110,  33, 101])]\n",
      "feature shape torch.Size([3, 254, 1, 112, 112])\n",
      "reshape input torch.Size([762, 1, 112, 112])\n",
      "CNN ouput torch.Size([762, 512])\n",
      "reshaped rnn_in torch.Size([3, 254, 512])\n",
      "RNN ouput torch.Size([3, 254, 64])\n"
     ]
    },
    {
     "name": "stderr",
     "output_type": "stream",
     "text": [
      " 32%|█████████████████████████▉                                                        | 49/155 [00:07<00:15,  6.63it/s]"
     ]
    },
    {
     "name": "stdout",
     "output_type": "stream",
     "text": [
      "mask ouput torch.Size([3, 254, 64])\n",
      "reshaped masked output torch.Size([3, 16256])\n",
      "fc ouput torch.Size([3, 32])\n",
      "logits torch.Size([3, 2])\n",
      "classifier ouput torch.Size([3, 2])\n",
      "-----------------Loss: 0.5870681405067444-----------------------\n",
      "------BATCH ENDING-------\n",
      "--------------------------------------------------\n",
      "[tensor([16, 33, 99])]\n",
      "feature shape torch.Size([3, 254, 1, 112, 112])\n",
      "reshape input torch.Size([762, 1, 112, 112])\n",
      "CNN ouput torch.Size([762, 512])\n",
      "reshaped rnn_in torch.Size([3, 254, 512])\n",
      "RNN ouput torch.Size([3, 254, 64])\n",
      "mask ouput torch.Size([3, 254, 64])\n",
      "reshaped masked output torch.Size([3, 16256])\n",
      "fc ouput torch.Size([3, 32])\n",
      "logits torch.Size([3, 2])\n",
      "classifier ouput torch.Size([3, 2])\n",
      "-----------------Loss: 0.7147705554962158-----------------------\n",
      "------BATCH ENDING-------\n",
      "--------------------------------------------------\n",
      "[tensor([ 33,  33, 101])]\n",
      "feature shape torch.Size([3, 254, 1, 112, 112])\n",
      "reshape input torch.Size([762, 1, 112, 112])\n",
      "CNN ouput torch.Size([762, 512])\n",
      "reshaped rnn_in torch.Size([3, 254, 512])\n",
      "RNN ouput torch.Size([3, 254, 64])\n"
     ]
    },
    {
     "name": "stderr",
     "output_type": "stream",
     "text": [
      " 33%|██████████████████████████▉                                                       | 51/155 [00:07<00:15,  6.78it/s]"
     ]
    },
    {
     "name": "stdout",
     "output_type": "stream",
     "text": [
      "mask ouput torch.Size([3, 254, 64])\n",
      "reshaped masked output torch.Size([3, 16256])\n",
      "fc ouput torch.Size([3, 32])\n",
      "logits torch.Size([3, 2])\n",
      "classifier ouput torch.Size([3, 2])\n",
      "-----------------Loss: 0.7623760104179382-----------------------\n",
      "------BATCH ENDING-------\n",
      "--------------------------------------------------\n",
      "[tensor([ 34,  33, 107])]\n",
      "feature shape torch.Size([3, 254, 1, 112, 112])\n",
      "reshape input torch.Size([762, 1, 112, 112])\n",
      "CNN ouput torch.Size([762, 512])\n",
      "reshaped rnn_in torch.Size([3, 254, 512])\n",
      "RNN ouput torch.Size([3, 254, 64])\n",
      "mask ouput torch.Size([3, 254, 64])\n",
      "reshaped masked output torch.Size([3, 16256])\n",
      "fc ouput torch.Size([3, 32])\n",
      "logits torch.Size([3, 2])\n",
      "classifier ouput torch.Size([3, 2])\n",
      "-----------------Loss: 0.614102840423584-----------------------\n",
      "------BATCH ENDING-------\n",
      "--------------------------------------------------\n",
      "[tensor([33, 16, 50])]\n",
      "feature shape torch.Size([3, 254, 1, 112, 112])\n",
      "reshape input torch.Size([762, 1, 112, 112])\n",
      "CNN ouput torch.Size([762, 512])\n",
      "reshaped rnn_in torch.Size([3, 254, 512])\n",
      "RNN ouput torch.Size([3, 254, 64])\n"
     ]
    },
    {
     "name": "stderr",
     "output_type": "stream",
     "text": [
      " 34%|████████████████████████████                                                      | 53/155 [00:08<00:14,  6.86it/s]"
     ]
    },
    {
     "name": "stdout",
     "output_type": "stream",
     "text": [
      "mask ouput torch.Size([3, 254, 64])\n",
      "reshaped masked output torch.Size([3, 16256])\n",
      "fc ouput torch.Size([3, 32])\n",
      "logits torch.Size([3, 2])\n",
      "classifier ouput torch.Size([3, 2])\n",
      "-----------------Loss: 0.5571699142456055-----------------------\n",
      "------BATCH ENDING-------\n",
      "--------------------------------------------------\n",
      "[tensor([32, 33, 96])]\n",
      "feature shape torch.Size([3, 254, 1, 112, 112])\n",
      "reshape input torch.Size([762, 1, 112, 112])\n",
      "CNN ouput torch.Size([762, 512])\n",
      "reshaped rnn_in torch.Size([3, 254, 512])\n",
      "RNN ouput torch.Size([3, 254, 64])\n",
      "mask ouput torch.Size([3, 254, 64])\n",
      "reshaped masked output torch.Size([3, 16256])\n",
      "fc ouput torch.Size([3, 32])\n",
      "logits torch.Size([3, 2])\n",
      "classifier ouput torch.Size([3, 2])\n",
      "-----------------Loss: 0.5087725520133972-----------------------\n",
      "------BATCH ENDING-------\n",
      "--------------------------------------------------\n",
      "[tensor([ 34, 105,  19])]\n",
      "feature shape torch.Size([3, 254, 1, 112, 112])\n",
      "reshape input torch.Size([762, 1, 112, 112])\n",
      "CNN ouput torch.Size([762, 512])\n",
      "reshaped rnn_in torch.Size([3, 254, 512])\n",
      "RNN ouput torch.Size([3, 254, 64])\n"
     ]
    },
    {
     "name": "stderr",
     "output_type": "stream",
     "text": [
      " 35%|█████████████████████████████                                                     | 55/155 [00:08<00:14,  6.90it/s]"
     ]
    },
    {
     "name": "stdout",
     "output_type": "stream",
     "text": [
      "mask ouput torch.Size([3, 254, 64])\n",
      "reshaped masked output torch.Size([3, 16256])\n",
      "fc ouput torch.Size([3, 32])\n",
      "logits torch.Size([3, 2])\n",
      "classifier ouput torch.Size([3, 2])\n",
      "-----------------Loss: 0.7597413063049316-----------------------\n",
      "------BATCH ENDING-------\n",
      "--------------------------------------------------\n",
      "[tensor([ 97, 123,  18])]\n",
      "feature shape torch.Size([3, 254, 1, 112, 112])\n",
      "reshape input torch.Size([762, 1, 112, 112])\n",
      "CNN ouput torch.Size([762, 512])\n",
      "reshaped rnn_in torch.Size([3, 254, 512])\n",
      "RNN ouput torch.Size([3, 254, 64])\n",
      "mask ouput torch.Size([3, 254, 64])\n",
      "reshaped masked output torch.Size([3, 16256])\n",
      "fc ouput torch.Size([3, 32])\n",
      "logits torch.Size([3, 2])\n",
      "classifier ouput torch.Size([3, 2])\n",
      "-----------------Loss: 0.605313777923584-----------------------\n",
      "------BATCH ENDING-------\n",
      "--------------------------------------------------\n",
      "[tensor([105,  34,  11])]\n",
      "feature shape torch.Size([3, 254, 1, 112, 112])\n",
      "reshape input torch.Size([762, 1, 112, 112])\n",
      "CNN ouput torch.Size([762, 512])\n",
      "reshaped rnn_in torch.Size([3, 254, 512])\n",
      "RNN ouput torch.Size([3, 254, 64])\n"
     ]
    },
    {
     "name": "stderr",
     "output_type": "stream",
     "text": [
      " 37%|██████████████████████████████▏                                                   | 57/155 [00:08<00:14,  6.90it/s]"
     ]
    },
    {
     "name": "stdout",
     "output_type": "stream",
     "text": [
      "mask ouput torch.Size([3, 254, 64])\n",
      "reshaped masked output torch.Size([3, 16256])\n",
      "fc ouput torch.Size([3, 32])\n",
      "logits torch.Size([3, 2])\n",
      "classifier ouput torch.Size([3, 2])\n",
      "-----------------Loss: 0.8158815503120422-----------------------\n",
      "------BATCH ENDING-------\n",
      "--------------------------------------------------\n",
      "[tensor([35, 35, 35])]\n",
      "feature shape torch.Size([3, 254, 1, 112, 112])\n",
      "reshape input torch.Size([762, 1, 112, 112])\n",
      "CNN ouput torch.Size([762, 512])\n",
      "reshaped rnn_in torch.Size([3, 254, 512])\n",
      "RNN ouput torch.Size([3, 254, 64])\n",
      "mask ouput torch.Size([3, 254, 64])\n",
      "reshaped masked output torch.Size([3, 16256])\n",
      "fc ouput torch.Size([3, 32])\n",
      "logits torch.Size([3, 2])\n",
      "classifier ouput torch.Size([3, 2])\n",
      "-----------------Loss: 0.8084035515785217-----------------------\n",
      "------BATCH ENDING-------\n",
      "--------------------------------------------------\n",
      "[tensor([ 32, 105,  17])]\n",
      "feature shape torch.Size([3, 254, 1, 112, 112])\n",
      "reshape input torch.Size([762, 1, 112, 112])\n",
      "CNN ouput torch.Size([762, 512])\n",
      "reshaped rnn_in torch.Size([3, 254, 512])\n",
      "RNN ouput torch.Size([3, 254, 64])\n"
     ]
    },
    {
     "name": "stderr",
     "output_type": "stream",
     "text": [
      " 38%|███████████████████████████████▏                                                  | 59/155 [00:09<00:13,  6.89it/s]"
     ]
    },
    {
     "name": "stdout",
     "output_type": "stream",
     "text": [
      "mask ouput torch.Size([3, 254, 64])\n",
      "reshaped masked output torch.Size([3, 16256])\n",
      "fc ouput torch.Size([3, 32])\n",
      "logits torch.Size([3, 2])\n",
      "classifier ouput torch.Size([3, 2])\n",
      "-----------------Loss: 0.7034928202629089-----------------------\n",
      "------BATCH ENDING-------\n",
      "--------------------------------------------------\n",
      "[tensor([102, 101, 105])]\n",
      "feature shape torch.Size([3, 254, 1, 112, 112])\n",
      "reshape input torch.Size([762, 1, 112, 112])\n",
      "CNN ouput torch.Size([762, 512])\n",
      "reshaped rnn_in torch.Size([3, 254, 512])\n",
      "RNN ouput torch.Size([3, 254, 64])\n",
      "mask ouput torch.Size([3, 254, 64])\n",
      "reshaped masked output torch.Size([3, 16256])\n",
      "fc ouput torch.Size([3, 32])\n",
      "logits torch.Size([3, 2])\n",
      "classifier ouput torch.Size([3, 2])\n",
      "-----------------Loss: 0.6485233306884766-----------------------\n",
      "------BATCH ENDING-------\n",
      "--------------------------------------------------\n",
      "[tensor([ 32,  40, 109])]\n",
      "feature shape torch.Size([3, 254, 1, 112, 112])\n",
      "reshape input torch.Size([762, 1, 112, 112])\n",
      "CNN ouput torch.Size([762, 512])\n",
      "reshaped rnn_in torch.Size([3, 254, 512])\n",
      "RNN ouput torch.Size([3, 254, 64])\n"
     ]
    },
    {
     "name": "stderr",
     "output_type": "stream",
     "text": [
      " 39%|████████████████████████████████▎                                                 | 61/155 [00:09<00:13,  6.94it/s]"
     ]
    },
    {
     "name": "stdout",
     "output_type": "stream",
     "text": [
      "mask ouput torch.Size([3, 254, 64])\n",
      "reshaped masked output torch.Size([3, 16256])\n",
      "fc ouput torch.Size([3, 32])\n",
      "logits torch.Size([3, 2])\n",
      "classifier ouput torch.Size([3, 2])\n",
      "-----------------Loss: 0.8151614665985107-----------------------\n",
      "------BATCH ENDING-------\n",
      "--------------------------------------------------\n",
      "[tensor([ 50, 199,  35])]\n",
      "feature shape torch.Size([3, 254, 1, 112, 112])\n",
      "reshape input torch.Size([762, 1, 112, 112])\n",
      "CNN ouput torch.Size([762, 512])\n",
      "reshaped rnn_in torch.Size([3, 254, 512])\n",
      "RNN ouput torch.Size([3, 254, 64])\n",
      "mask ouput torch.Size([3, 254, 64])\n",
      "reshaped masked output torch.Size([3, 16256])\n",
      "fc ouput torch.Size([3, 32])\n",
      "logits torch.Size([3, 2])\n",
      "classifier ouput torch.Size([3, 2])\n",
      "-----------------Loss: 0.7265027165412903-----------------------\n",
      "------BATCH ENDING-------\n",
      "--------------------------------------------------\n",
      "[tensor([32, 34, 16])]\n",
      "feature shape torch.Size([3, 254, 1, 112, 112])\n",
      "reshape input torch.Size([762, 1, 112, 112])\n",
      "CNN ouput torch.Size([762, 512])\n",
      "reshaped rnn_in torch.Size([3, 254, 512])\n",
      "RNN ouput torch.Size([3, 254, 64])\n"
     ]
    },
    {
     "name": "stderr",
     "output_type": "stream",
     "text": [
      " 41%|█████████████████████████████████▎                                                | 63/155 [00:09<00:13,  6.99it/s]"
     ]
    },
    {
     "name": "stdout",
     "output_type": "stream",
     "text": [
      "mask ouput torch.Size([3, 254, 64])\n",
      "reshaped masked output torch.Size([3, 16256])\n",
      "fc ouput torch.Size([3, 32])\n",
      "logits torch.Size([3, 2])\n",
      "classifier ouput torch.Size([3, 2])\n",
      "-----------------Loss: 0.8401190638542175-----------------------\n",
      "------BATCH ENDING-------\n",
      "--------------------------------------------------\n",
      "[tensor([ 32, 101,  33])]\n",
      "feature shape torch.Size([3, 254, 1, 112, 112])\n",
      "reshape input torch.Size([762, 1, 112, 112])\n",
      "CNN ouput torch.Size([762, 512])\n",
      "reshaped rnn_in torch.Size([3, 254, 512])\n",
      "RNN ouput torch.Size([3, 254, 64])\n",
      "mask ouput torch.Size([3, 254, 64])\n",
      "reshaped masked output torch.Size([3, 16256])\n",
      "fc ouput torch.Size([3, 32])\n",
      "logits torch.Size([3, 2])\n",
      "classifier ouput torch.Size([3, 2])\n",
      "-----------------Loss: 0.5595456957817078-----------------------\n",
      "------BATCH ENDING-------\n",
      "--------------------------------------------------\n",
      "[tensor([ 96, 107,  32])]\n",
      "feature shape torch.Size([3, 254, 1, 112, 112])\n",
      "reshape input torch.Size([762, 1, 112, 112])\n",
      "CNN ouput torch.Size([762, 512])\n",
      "reshaped rnn_in torch.Size([3, 254, 512])\n",
      "RNN ouput torch.Size([3, 254, 64])\n"
     ]
    },
    {
     "name": "stderr",
     "output_type": "stream",
     "text": [
      " 42%|██████████████████████████████████▍                                               | 65/155 [00:09<00:13,  6.92it/s]"
     ]
    },
    {
     "name": "stdout",
     "output_type": "stream",
     "text": [
      "mask ouput torch.Size([3, 254, 64])\n",
      "reshaped masked output torch.Size([3, 16256])\n",
      "fc ouput torch.Size([3, 32])\n",
      "logits torch.Size([3, 2])\n",
      "classifier ouput torch.Size([3, 2])\n",
      "-----------------Loss: 0.6779983639717102-----------------------\n",
      "------BATCH ENDING-------\n",
      "--------------------------------------------------\n",
      "[tensor([ 32,  33, 172])]\n",
      "feature shape torch.Size([3, 254, 1, 112, 112])\n",
      "reshape input torch.Size([762, 1, 112, 112])\n",
      "CNN ouput torch.Size([762, 512])\n",
      "reshaped rnn_in torch.Size([3, 254, 512])\n",
      "RNN ouput torch.Size([3, 254, 64])\n",
      "mask ouput torch.Size([3, 254, 64])\n",
      "reshaped masked output torch.Size([3, 16256])\n",
      "fc ouput torch.Size([3, 32])\n",
      "logits torch.Size([3, 2])\n",
      "classifier ouput torch.Size([3, 2])\n",
      "-----------------Loss: 0.3884313404560089-----------------------\n",
      "------BATCH ENDING-------\n",
      "--------------------------------------------------\n",
      "[tensor([ 35, 100,  16])]\n",
      "feature shape torch.Size([3, 254, 1, 112, 112])\n",
      "reshape input torch.Size([762, 1, 112, 112])\n",
      "CNN ouput torch.Size([762, 512])\n",
      "reshaped rnn_in torch.Size([3, 254, 512])\n",
      "RNN ouput torch.Size([3, 254, 64])\n"
     ]
    },
    {
     "name": "stderr",
     "output_type": "stream",
     "text": [
      " 43%|███████████████████████████████████▍                                              | 67/155 [00:10<00:12,  6.89it/s]"
     ]
    },
    {
     "name": "stdout",
     "output_type": "stream",
     "text": [
      "mask ouput torch.Size([3, 254, 64])\n",
      "reshaped masked output torch.Size([3, 16256])\n",
      "fc ouput torch.Size([3, 32])\n",
      "logits torch.Size([3, 2])\n",
      "classifier ouput torch.Size([3, 2])\n",
      "-----------------Loss: 0.8759975433349609-----------------------\n",
      "------BATCH ENDING-------\n",
      "--------------------------------------------------\n",
      "[tensor([213, 104,  90])]\n",
      "feature shape torch.Size([3, 254, 1, 112, 112])\n",
      "reshape input torch.Size([762, 1, 112, 112])\n",
      "CNN ouput torch.Size([762, 512])\n",
      "reshaped rnn_in torch.Size([3, 254, 512])\n",
      "RNN ouput torch.Size([3, 254, 64])\n",
      "mask ouput torch.Size([3, 254, 64])\n",
      "reshaped masked output torch.Size([3, 16256])\n",
      "fc ouput torch.Size([3, 32])\n",
      "logits torch.Size([3, 2])\n",
      "classifier ouput torch.Size([3, 2])\n",
      "-----------------Loss: 0.6015605926513672-----------------------\n",
      "------BATCH ENDING-------\n",
      "--------------------------------------------------\n",
      "[tensor([124, 100,  19])]\n",
      "feature shape torch.Size([3, 254, 1, 112, 112])\n",
      "reshape input torch.Size([762, 1, 112, 112])\n",
      "CNN ouput torch.Size([762, 512])\n",
      "reshaped rnn_in torch.Size([3, 254, 512])\n",
      "RNN ouput torch.Size([3, 254, 64])\n"
     ]
    },
    {
     "name": "stderr",
     "output_type": "stream",
     "text": [
      " 45%|████████████████████████████████████▌                                             | 69/155 [00:10<00:12,  6.91it/s]"
     ]
    },
    {
     "name": "stdout",
     "output_type": "stream",
     "text": [
      "mask ouput torch.Size([3, 254, 64])\n",
      "reshaped masked output torch.Size([3, 16256])\n",
      "fc ouput torch.Size([3, 32])\n",
      "logits torch.Size([3, 2])\n",
      "classifier ouput torch.Size([3, 2])\n",
      "-----------------Loss: 0.8640748858451843-----------------------\n",
      "------BATCH ENDING-------\n",
      "--------------------------------------------------\n",
      "[tensor([ 30, 103,  16])]\n",
      "feature shape torch.Size([3, 254, 1, 112, 112])\n",
      "reshape input torch.Size([762, 1, 112, 112])\n",
      "CNN ouput torch.Size([762, 512])\n",
      "reshaped rnn_in torch.Size([3, 254, 512])\n",
      "RNN ouput torch.Size([3, 254, 64])\n",
      "mask ouput torch.Size([3, 254, 64])\n",
      "reshaped masked output torch.Size([3, 16256])\n",
      "fc ouput torch.Size([3, 32])\n",
      "logits torch.Size([3, 2])\n",
      "classifier ouput torch.Size([3, 2])\n",
      "-----------------Loss: 0.7098808288574219-----------------------\n",
      "------BATCH ENDING-------\n",
      "--------------------------------------------------\n",
      "[tensor([ 32, 100,  23])]\n",
      "feature shape torch.Size([3, 254, 1, 112, 112])\n",
      "reshape input torch.Size([762, 1, 112, 112])\n",
      "CNN ouput torch.Size([762, 512])\n",
      "reshaped rnn_in torch.Size([3, 254, 512])\n",
      "RNN ouput torch.Size([3, 254, 64])\n"
     ]
    },
    {
     "name": "stderr",
     "output_type": "stream",
     "text": [
      " 46%|█████████████████████████████████████▌                                            | 71/155 [00:10<00:12,  6.90it/s]"
     ]
    },
    {
     "name": "stdout",
     "output_type": "stream",
     "text": [
      "mask ouput torch.Size([3, 254, 64])\n",
      "reshaped masked output torch.Size([3, 16256])\n",
      "fc ouput torch.Size([3, 32])\n",
      "logits torch.Size([3, 2])\n",
      "classifier ouput torch.Size([3, 2])\n",
      "-----------------Loss: 0.6391909122467041-----------------------\n",
      "------BATCH ENDING-------\n",
      "--------------------------------------------------\n",
      "[tensor([35, 34, 17])]\n",
      "feature shape torch.Size([3, 254, 1, 112, 112])\n",
      "reshape input torch.Size([762, 1, 112, 112])\n",
      "CNN ouput torch.Size([762, 512])\n",
      "reshaped rnn_in torch.Size([3, 254, 512])\n",
      "RNN ouput torch.Size([3, 254, 64])\n",
      "mask ouput torch.Size([3, 254, 64])\n",
      "reshaped masked output torch.Size([3, 16256])\n",
      "fc ouput torch.Size([3, 32])\n",
      "logits torch.Size([3, 2])\n",
      "classifier ouput torch.Size([3, 2])\n",
      "-----------------Loss: 0.71563720703125-----------------------\n",
      "------BATCH ENDING-------\n",
      "--------------------------------------------------\n",
      "[tensor([34, 32, 37])]\n",
      "feature shape torch.Size([3, 254, 1, 112, 112])\n",
      "reshape input torch.Size([762, 1, 112, 112])\n",
      "CNN ouput torch.Size([762, 512])\n",
      "reshaped rnn_in torch.Size([3, 254, 512])\n",
      "RNN ouput torch.Size([3, 254, 64])\n"
     ]
    },
    {
     "name": "stderr",
     "output_type": "stream",
     "text": [
      " 47%|██████████████████████████████████████▌                                           | 73/155 [00:11<00:11,  6.92it/s]"
     ]
    },
    {
     "name": "stdout",
     "output_type": "stream",
     "text": [
      "mask ouput torch.Size([3, 254, 64])\n",
      "reshaped masked output torch.Size([3, 16256])\n",
      "fc ouput torch.Size([3, 32])\n",
      "logits torch.Size([3, 2])\n",
      "classifier ouput torch.Size([3, 2])\n",
      "-----------------Loss: 0.7811209559440613-----------------------\n",
      "------BATCH ENDING-------\n",
      "--------------------------------------------------\n",
      "[tensor([ 34, 106, 104])]\n",
      "feature shape torch.Size([3, 254, 1, 112, 112])\n",
      "reshape input torch.Size([762, 1, 112, 112])\n",
      "CNN ouput torch.Size([762, 512])\n",
      "reshaped rnn_in torch.Size([3, 254, 512])\n",
      "RNN ouput torch.Size([3, 254, 64])\n",
      "mask ouput torch.Size([3, 254, 64])\n",
      "reshaped masked output torch.Size([3, 16256])\n",
      "fc ouput torch.Size([3, 32])\n",
      "logits torch.Size([3, 2])\n",
      "classifier ouput torch.Size([3, 2])\n",
      "-----------------Loss: 0.619412899017334-----------------------\n",
      "------BATCH ENDING-------\n",
      "--------------------------------------------------\n",
      "[tensor([ 34, 102,  96])]\n",
      "feature shape torch.Size([3, 254, 1, 112, 112])\n",
      "reshape input torch.Size([762, 1, 112, 112])\n",
      "CNN ouput torch.Size([762, 512])\n",
      "reshaped rnn_in torch.Size([3, 254, 512])\n",
      "RNN ouput torch.Size([3, 254, 64])\n"
     ]
    },
    {
     "name": "stderr",
     "output_type": "stream",
     "text": [
      " 48%|███████████████████████████████████████▋                                          | 75/155 [00:11<00:11,  6.95it/s]"
     ]
    },
    {
     "name": "stdout",
     "output_type": "stream",
     "text": [
      "mask ouput torch.Size([3, 254, 64])\n",
      "reshaped masked output torch.Size([3, 16256])\n",
      "fc ouput torch.Size([3, 32])\n",
      "logits torch.Size([3, 2])\n",
      "classifier ouput torch.Size([3, 2])\n",
      "-----------------Loss: 0.6129398941993713-----------------------\n",
      "------BATCH ENDING-------\n",
      "--------------------------------------------------\n",
      "[tensor([34, 53, 34])]\n",
      "feature shape torch.Size([3, 254, 1, 112, 112])\n",
      "reshape input torch.Size([762, 1, 112, 112])\n",
      "CNN ouput torch.Size([762, 512])\n",
      "reshaped rnn_in torch.Size([3, 254, 512])\n",
      "RNN ouput torch.Size([3, 254, 64])\n",
      "mask ouput torch.Size([3, 254, 64])\n",
      "reshaped masked output torch.Size([3, 16256])\n",
      "fc ouput torch.Size([3, 32])\n",
      "logits torch.Size([3, 2])\n",
      "classifier ouput torch.Size([3, 2])\n",
      "-----------------Loss: 0.7128219604492188-----------------------\n",
      "------BATCH ENDING-------\n",
      "--------------------------------------------------\n",
      "[tensor([100,  34,  12])]\n",
      "feature shape torch.Size([3, 254, 1, 112, 112])\n",
      "reshape input torch.Size([762, 1, 112, 112])\n",
      "CNN ouput torch.Size([762, 512])\n",
      "reshaped rnn_in torch.Size([3, 254, 512])\n",
      "RNN ouput torch.Size([3, 254, 64])\n"
     ]
    },
    {
     "name": "stderr",
     "output_type": "stream",
     "text": [
      " 50%|████████████████████████████████████████▋                                         | 77/155 [00:11<00:11,  6.88it/s]"
     ]
    },
    {
     "name": "stdout",
     "output_type": "stream",
     "text": [
      "mask ouput torch.Size([3, 254, 64])\n",
      "reshaped masked output torch.Size([3, 16256])\n",
      "fc ouput torch.Size([3, 32])\n",
      "logits torch.Size([3, 2])\n",
      "classifier ouput torch.Size([3, 2])\n",
      "-----------------Loss: 0.6350601315498352-----------------------\n",
      "------BATCH ENDING-------\n",
      "--------------------------------------------------\n",
      "[tensor([106,  32,  33])]\n",
      "feature shape torch.Size([3, 254, 1, 112, 112])\n",
      "reshape input torch.Size([762, 1, 112, 112])\n",
      "CNN ouput torch.Size([762, 512])\n",
      "reshaped rnn_in torch.Size([3, 254, 512])\n",
      "RNN ouput torch.Size([3, 254, 64])\n",
      "mask ouput torch.Size([3, 254, 64])\n",
      "reshaped masked output torch.Size([3, 16256])\n",
      "fc ouput torch.Size([3, 32])\n",
      "logits torch.Size([3, 2])\n",
      "classifier ouput torch.Size([3, 2])\n",
      "-----------------Loss: 0.6234858632087708-----------------------\n",
      "------BATCH ENDING-------\n",
      "--------------------------------------------------\n",
      "[tensor([33, 35, 34])]\n",
      "feature shape torch.Size([3, 254, 1, 112, 112])\n",
      "reshape input torch.Size([762, 1, 112, 112])\n",
      "CNN ouput torch.Size([762, 512])\n",
      "reshaped rnn_in torch.Size([3, 254, 512])\n",
      "RNN ouput torch.Size([3, 254, 64])\n"
     ]
    },
    {
     "name": "stderr",
     "output_type": "stream",
     "text": [
      " 51%|█████████████████████████████████████████▊                                        | 79/155 [00:11<00:11,  6.87it/s]"
     ]
    },
    {
     "name": "stdout",
     "output_type": "stream",
     "text": [
      "mask ouput torch.Size([3, 254, 64])\n",
      "reshaped masked output torch.Size([3, 16256])\n",
      "fc ouput torch.Size([3, 32])\n",
      "logits torch.Size([3, 2])\n",
      "classifier ouput torch.Size([3, 2])\n",
      "-----------------Loss: 0.6537065505981445-----------------------\n",
      "------BATCH ENDING-------\n",
      "--------------------------------------------------\n",
      "[tensor([100,  10, 103])]\n",
      "feature shape torch.Size([3, 254, 1, 112, 112])\n",
      "reshape input torch.Size([762, 1, 112, 112])\n",
      "CNN ouput torch.Size([762, 512])\n",
      "reshaped rnn_in torch.Size([3, 254, 512])\n",
      "RNN ouput torch.Size([3, 254, 64])\n",
      "mask ouput torch.Size([3, 254, 64])\n",
      "reshaped masked output torch.Size([3, 16256])\n",
      "fc ouput torch.Size([3, 32])\n",
      "logits torch.Size([3, 2])\n",
      "classifier ouput torch.Size([3, 2])\n",
      "-----------------Loss: 0.7095060348510742-----------------------\n",
      "------BATCH ENDING-------\n",
      "--------------------------------------------------\n",
      "[tensor([ 15,  19, 105])]\n",
      "feature shape torch.Size([3, 254, 1, 112, 112])\n",
      "reshape input torch.Size([762, 1, 112, 112])\n",
      "CNN ouput torch.Size([762, 512])\n",
      "reshaped rnn_in torch.Size([3, 254, 512])\n",
      "RNN ouput torch.Size([3, 254, 64])\n"
     ]
    },
    {
     "name": "stderr",
     "output_type": "stream",
     "text": [
      " 52%|██████████████████████████████████████████▊                                       | 81/155 [00:12<00:10,  6.93it/s]"
     ]
    },
    {
     "name": "stdout",
     "output_type": "stream",
     "text": [
      "mask ouput torch.Size([3, 254, 64])\n",
      "reshaped masked output torch.Size([3, 16256])\n",
      "fc ouput torch.Size([3, 32])\n",
      "logits torch.Size([3, 2])\n",
      "classifier ouput torch.Size([3, 2])\n",
      "-----------------Loss: 0.663808286190033-----------------------\n",
      "------BATCH ENDING-------\n",
      "--------------------------------------------------\n",
      "[tensor([105,  34, 116])]\n",
      "feature shape torch.Size([3, 254, 1, 112, 112])\n",
      "reshape input torch.Size([762, 1, 112, 112])\n",
      "CNN ouput torch.Size([762, 512])\n",
      "reshaped rnn_in torch.Size([3, 254, 512])\n",
      "RNN ouput torch.Size([3, 254, 64])\n",
      "mask ouput torch.Size([3, 254, 64])\n",
      "reshaped masked output torch.Size([3, 16256])\n",
      "fc ouput torch.Size([3, 32])\n",
      "logits torch.Size([3, 2])\n",
      "classifier ouput torch.Size([3, 2])\n",
      "-----------------Loss: 0.7707001566886902-----------------------\n",
      "------BATCH ENDING-------\n",
      "--------------------------------------------------\n",
      "[tensor([ 91,  19, 106])]\n",
      "feature shape torch.Size([3, 254, 1, 112, 112])\n",
      "reshape input torch.Size([762, 1, 112, 112])\n",
      "CNN ouput torch.Size([762, 512])\n",
      "reshaped rnn_in torch.Size([3, 254, 512])\n",
      "RNN ouput torch.Size([3, 254, 64])\n"
     ]
    },
    {
     "name": "stderr",
     "output_type": "stream",
     "text": [
      " 54%|███████████████████████████████████████████▉                                      | 83/155 [00:12<00:10,  6.96it/s]"
     ]
    },
    {
     "name": "stdout",
     "output_type": "stream",
     "text": [
      "mask ouput torch.Size([3, 254, 64])\n",
      "reshaped masked output torch.Size([3, 16256])\n",
      "fc ouput torch.Size([3, 32])\n",
      "logits torch.Size([3, 2])\n",
      "classifier ouput torch.Size([3, 2])\n",
      "-----------------Loss: 0.6605798602104187-----------------------\n",
      "------BATCH ENDING-------\n",
      "--------------------------------------------------\n",
      "[tensor([100,  16,  35])]\n",
      "feature shape torch.Size([3, 254, 1, 112, 112])\n",
      "reshape input torch.Size([762, 1, 112, 112])\n",
      "CNN ouput torch.Size([762, 512])\n",
      "reshaped rnn_in torch.Size([3, 254, 512])\n",
      "RNN ouput torch.Size([3, 254, 64])\n",
      "mask ouput torch.Size([3, 254, 64])\n",
      "reshaped masked output torch.Size([3, 16256])\n",
      "fc ouput torch.Size([3, 32])\n",
      "logits torch.Size([3, 2])\n",
      "classifier ouput torch.Size([3, 2])\n",
      "-----------------Loss: 0.5816044211387634-----------------------\n",
      "------BATCH ENDING-------\n",
      "--------------------------------------------------\n",
      "[tensor([32, 17, 35])]\n",
      "feature shape torch.Size([3, 254, 1, 112, 112])\n",
      "reshape input torch.Size([762, 1, 112, 112])\n",
      "CNN ouput torch.Size([762, 512])\n",
      "reshaped rnn_in torch.Size([3, 254, 512])\n",
      "RNN ouput torch.Size([3, 254, 64])\n"
     ]
    },
    {
     "name": "stderr",
     "output_type": "stream",
     "text": [
      " 55%|████████████████████████████████████████████▉                                     | 85/155 [00:12<00:10,  6.87it/s]"
     ]
    },
    {
     "name": "stdout",
     "output_type": "stream",
     "text": [
      "mask ouput torch.Size([3, 254, 64])\n",
      "reshaped masked output torch.Size([3, 16256])\n",
      "fc ouput torch.Size([3, 32])\n",
      "logits torch.Size([3, 2])\n",
      "classifier ouput torch.Size([3, 2])\n",
      "-----------------Loss: 0.8155811429023743-----------------------\n",
      "------BATCH ENDING-------\n",
      "--------------------------------------------------\n",
      "[tensor([34, 33, 34])]\n",
      "feature shape torch.Size([3, 254, 1, 112, 112])\n",
      "reshape input torch.Size([762, 1, 112, 112])\n",
      "CNN ouput torch.Size([762, 512])\n",
      "reshaped rnn_in torch.Size([3, 254, 512])\n",
      "RNN ouput torch.Size([3, 254, 64])\n",
      "mask ouput torch.Size([3, 254, 64])\n",
      "reshaped masked output torch.Size([3, 16256])\n",
      "fc ouput torch.Size([3, 32])\n",
      "logits torch.Size([3, 2])\n",
      "classifier ouput torch.Size([3, 2])\n",
      "-----------------Loss: 0.7639333605766296-----------------------\n",
      "------BATCH ENDING-------\n",
      "--------------------------------------------------\n",
      "[tensor([40, 93, 35])]\n",
      "feature shape torch.Size([3, 254, 1, 112, 112])\n",
      "reshape input torch.Size([762, 1, 112, 112])\n",
      "CNN ouput torch.Size([762, 512])\n",
      "reshaped rnn_in torch.Size([3, 254, 512])\n",
      "RNN ouput torch.Size([3, 254, 64])\n"
     ]
    },
    {
     "name": "stderr",
     "output_type": "stream",
     "text": [
      " 56%|██████████████████████████████████████████████                                    | 87/155 [00:13<00:09,  6.89it/s]"
     ]
    },
    {
     "name": "stdout",
     "output_type": "stream",
     "text": [
      "mask ouput torch.Size([3, 254, 64])\n",
      "reshaped masked output torch.Size([3, 16256])\n",
      "fc ouput torch.Size([3, 32])\n",
      "logits torch.Size([3, 2])\n",
      "classifier ouput torch.Size([3, 2])\n",
      "-----------------Loss: 0.7011081576347351-----------------------\n",
      "------BATCH ENDING-------\n",
      "--------------------------------------------------\n",
      "[tensor([100,  30,  20])]\n",
      "feature shape torch.Size([3, 254, 1, 112, 112])\n",
      "reshape input torch.Size([762, 1, 112, 112])\n",
      "CNN ouput torch.Size([762, 512])\n",
      "reshaped rnn_in torch.Size([3, 254, 512])\n",
      "RNN ouput torch.Size([3, 254, 64])\n",
      "mask ouput torch.Size([3, 254, 64])\n",
      "reshaped masked output torch.Size([3, 16256])\n",
      "fc ouput torch.Size([3, 32])\n",
      "logits torch.Size([3, 2])\n",
      "classifier ouput torch.Size([3, 2])\n",
      "-----------------Loss: 0.7193238735198975-----------------------\n",
      "------BATCH ENDING-------\n",
      "--------------------------------------------------\n",
      "[tensor([ 34, 105,  94])]\n",
      "feature shape torch.Size([3, 254, 1, 112, 112])\n",
      "reshape input torch.Size([762, 1, 112, 112])\n",
      "CNN ouput torch.Size([762, 512])\n",
      "reshaped rnn_in torch.Size([3, 254, 512])\n",
      "RNN ouput torch.Size([3, 254, 64])\n"
     ]
    },
    {
     "name": "stderr",
     "output_type": "stream",
     "text": [
      " 57%|███████████████████████████████████████████████                                   | 89/155 [00:13<00:09,  6.83it/s]"
     ]
    },
    {
     "name": "stdout",
     "output_type": "stream",
     "text": [
      "mask ouput torch.Size([3, 254, 64])\n",
      "reshaped masked output torch.Size([3, 16256])\n",
      "fc ouput torch.Size([3, 32])\n",
      "logits torch.Size([3, 2])\n",
      "classifier ouput torch.Size([3, 2])\n",
      "-----------------Loss: 0.723505437374115-----------------------\n",
      "------BATCH ENDING-------\n",
      "--------------------------------------------------\n",
      "[tensor([ 33, 101,  21])]\n",
      "feature shape torch.Size([3, 254, 1, 112, 112])\n",
      "reshape input torch.Size([762, 1, 112, 112])\n",
      "CNN ouput torch.Size([762, 512])\n",
      "reshaped rnn_in torch.Size([3, 254, 512])\n",
      "RNN ouput torch.Size([3, 254, 64])\n",
      "mask ouput torch.Size([3, 254, 64])\n",
      "reshaped masked output torch.Size([3, 16256])\n",
      "fc ouput torch.Size([3, 32])\n",
      "logits torch.Size([3, 2])\n",
      "classifier ouput torch.Size([3, 2])\n",
      "-----------------Loss: 0.7713744044303894-----------------------\n",
      "------BATCH ENDING-------\n",
      "--------------------------------------------------\n",
      "[tensor([111, 195,  20])]\n",
      "feature shape torch.Size([3, 254, 1, 112, 112])\n",
      "reshape input torch.Size([762, 1, 112, 112])\n",
      "CNN ouput torch.Size([762, 512])\n",
      "reshaped rnn_in torch.Size([3, 254, 512])\n",
      "RNN ouput torch.Size([3, 254, 64])\n"
     ]
    },
    {
     "name": "stderr",
     "output_type": "stream",
     "text": [
      " 59%|████████████████████████████████████████████████▏                                 | 91/155 [00:13<00:09,  6.81it/s]"
     ]
    },
    {
     "name": "stdout",
     "output_type": "stream",
     "text": [
      "mask ouput torch.Size([3, 254, 64])\n",
      "reshaped masked output torch.Size([3, 16256])\n",
      "fc ouput torch.Size([3, 32])\n",
      "logits torch.Size([3, 2])\n",
      "classifier ouput torch.Size([3, 2])\n",
      "-----------------Loss: 0.610206127166748-----------------------\n",
      "------BATCH ENDING-------\n",
      "--------------------------------------------------\n",
      "[tensor([104,  32,  34])]\n",
      "feature shape torch.Size([3, 254, 1, 112, 112])\n",
      "reshape input torch.Size([762, 1, 112, 112])\n",
      "CNN ouput torch.Size([762, 512])\n",
      "reshaped rnn_in torch.Size([3, 254, 512])\n",
      "RNN ouput torch.Size([3, 254, 64])\n",
      "mask ouput torch.Size([3, 254, 64])\n",
      "reshaped masked output torch.Size([3, 16256])\n",
      "fc ouput torch.Size([3, 32])\n",
      "logits torch.Size([3, 2])\n",
      "classifier ouput torch.Size([3, 2])\n",
      "-----------------Loss: 0.639445424079895-----------------------\n",
      "------BATCH ENDING-------\n",
      "--------------------------------------------------\n",
      "[tensor([100,  98,  34])]\n",
      "feature shape torch.Size([3, 254, 1, 112, 112])\n",
      "reshape input torch.Size([762, 1, 112, 112])\n",
      "CNN ouput torch.Size([762, 512])\n",
      "reshaped rnn_in torch.Size([3, 254, 512])\n",
      "RNN ouput torch.Size([3, 254, 64])\n"
     ]
    },
    {
     "name": "stderr",
     "output_type": "stream",
     "text": [
      " 60%|█████████████████████████████████████████████████▏                                | 93/155 [00:13<00:09,  6.86it/s]"
     ]
    },
    {
     "name": "stdout",
     "output_type": "stream",
     "text": [
      "mask ouput torch.Size([3, 254, 64])\n",
      "reshaped masked output torch.Size([3, 16256])\n",
      "fc ouput torch.Size([3, 32])\n",
      "logits torch.Size([3, 2])\n",
      "classifier ouput torch.Size([3, 2])\n",
      "-----------------Loss: 0.7796241641044617-----------------------\n",
      "------BATCH ENDING-------\n",
      "--------------------------------------------------\n",
      "[tensor([199, 112,  79])]\n",
      "feature shape torch.Size([3, 254, 1, 112, 112])\n",
      "reshape input torch.Size([762, 1, 112, 112])\n",
      "CNN ouput torch.Size([762, 512])\n",
      "reshaped rnn_in torch.Size([3, 254, 512])\n",
      "RNN ouput torch.Size([3, 254, 64])\n",
      "mask ouput torch.Size([3, 254, 64])\n",
      "reshaped masked output torch.Size([3, 16256])\n",
      "fc ouput torch.Size([3, 32])\n",
      "logits torch.Size([3, 2])\n",
      "classifier ouput torch.Size([3, 2])\n",
      "-----------------Loss: 1.0570225715637207-----------------------\n",
      "------BATCH ENDING-------\n",
      "--------------------------------------------------\n",
      "[tensor([137,  32,  33])]\n",
      "feature shape torch.Size([3, 254, 1, 112, 112])\n",
      "reshape input torch.Size([762, 1, 112, 112])\n",
      "CNN ouput torch.Size([762, 512])\n",
      "reshaped rnn_in torch.Size([3, 254, 512])\n",
      "RNN ouput torch.Size([3, 254, 64])\n"
     ]
    },
    {
     "name": "stderr",
     "output_type": "stream",
     "text": [
      " 61%|██████████████████████████████████████████████████▎                               | 95/155 [00:14<00:08,  6.86it/s]"
     ]
    },
    {
     "name": "stdout",
     "output_type": "stream",
     "text": [
      "mask ouput torch.Size([3, 254, 64])\n",
      "reshaped masked output torch.Size([3, 16256])\n",
      "fc ouput torch.Size([3, 32])\n",
      "logits torch.Size([3, 2])\n",
      "classifier ouput torch.Size([3, 2])\n",
      "-----------------Loss: 0.8032633662223816-----------------------\n",
      "------BATCH ENDING-------\n",
      "--------------------------------------------------\n",
      "[tensor([35, 35, 17])]\n",
      "feature shape torch.Size([3, 254, 1, 112, 112])\n",
      "reshape input torch.Size([762, 1, 112, 112])\n",
      "CNN ouput torch.Size([762, 512])\n",
      "reshaped rnn_in torch.Size([3, 254, 512])\n",
      "RNN ouput torch.Size([3, 254, 64])\n",
      "mask ouput torch.Size([3, 254, 64])\n",
      "reshaped masked output torch.Size([3, 16256])\n",
      "fc ouput torch.Size([3, 32])\n",
      "logits torch.Size([3, 2])\n",
      "classifier ouput torch.Size([3, 2])\n",
      "-----------------Loss: 0.6415839791297913-----------------------\n",
      "------BATCH ENDING-------\n",
      "--------------------------------------------------\n",
      "[tensor([194,  34,  97])]\n",
      "feature shape torch.Size([3, 254, 1, 112, 112])\n",
      "reshape input torch.Size([762, 1, 112, 112])\n",
      "CNN ouput torch.Size([762, 512])\n",
      "reshaped rnn_in torch.Size([3, 254, 512])\n",
      "RNN ouput torch.Size([3, 254, 64])\n"
     ]
    },
    {
     "name": "stderr",
     "output_type": "stream",
     "text": [
      " 63%|███████████████████████████████████████████████████▎                              | 97/155 [00:14<00:08,  6.83it/s]"
     ]
    },
    {
     "name": "stdout",
     "output_type": "stream",
     "text": [
      "mask ouput torch.Size([3, 254, 64])\n",
      "reshaped masked output torch.Size([3, 16256])\n",
      "fc ouput torch.Size([3, 32])\n",
      "logits torch.Size([3, 2])\n",
      "classifier ouput torch.Size([3, 2])\n",
      "-----------------Loss: 0.5134506225585938-----------------------\n",
      "------BATCH ENDING-------\n",
      "--------------------------------------------------\n",
      "[tensor([ 34, 103, 226])]\n",
      "feature shape torch.Size([3, 254, 1, 112, 112])\n",
      "reshape input torch.Size([762, 1, 112, 112])\n",
      "CNN ouput torch.Size([762, 512])\n",
      "reshaped rnn_in torch.Size([3, 254, 512])\n",
      "RNN ouput torch.Size([3, 254, 64])\n",
      "mask ouput torch.Size([3, 254, 64])\n",
      "reshaped masked output torch.Size([3, 16256])\n",
      "fc ouput torch.Size([3, 32])\n",
      "logits torch.Size([3, 2])\n",
      "classifier ouput torch.Size([3, 2])\n",
      "-----------------Loss: 0.8896040916442871-----------------------\n",
      "------BATCH ENDING-------\n",
      "--------------------------------------------------\n",
      "[tensor([16, 33, 33])]\n",
      "feature shape torch.Size([3, 254, 1, 112, 112])\n",
      "reshape input torch.Size([762, 1, 112, 112])\n",
      "CNN ouput torch.Size([762, 512])\n",
      "reshaped rnn_in torch.Size([3, 254, 512])\n",
      "RNN ouput torch.Size([3, 254, 64])\n"
     ]
    },
    {
     "name": "stderr",
     "output_type": "stream",
     "text": [
      " 64%|████████████████████████████████████████████████████▎                             | 99/155 [00:14<00:08,  6.79it/s]"
     ]
    },
    {
     "name": "stdout",
     "output_type": "stream",
     "text": [
      "mask ouput torch.Size([3, 254, 64])\n",
      "reshaped masked output torch.Size([3, 16256])\n",
      "fc ouput torch.Size([3, 32])\n",
      "logits torch.Size([3, 2])\n",
      "classifier ouput torch.Size([3, 2])\n",
      "-----------------Loss: 0.6251087784767151-----------------------\n",
      "------BATCH ENDING-------\n",
      "--------------------------------------------------\n",
      "[tensor([34, 33, 30])]\n",
      "feature shape torch.Size([3, 254, 1, 112, 112])\n",
      "reshape input torch.Size([762, 1, 112, 112])\n",
      "CNN ouput torch.Size([762, 512])\n",
      "reshaped rnn_in torch.Size([3, 254, 512])\n",
      "RNN ouput torch.Size([3, 254, 64])\n",
      "mask ouput torch.Size([3, 254, 64])\n",
      "reshaped masked output torch.Size([3, 16256])\n",
      "fc ouput torch.Size([3, 32])\n",
      "logits torch.Size([3, 2])\n",
      "classifier ouput torch.Size([3, 2])\n",
      "-----------------Loss: 0.7292034029960632-----------------------\n",
      "------BATCH ENDING-------\n",
      "--------------------------------------------------\n",
      "[tensor([209,  31, 101])]\n",
      "feature shape torch.Size([3, 254, 1, 112, 112])\n",
      "reshape input torch.Size([762, 1, 112, 112])\n",
      "CNN ouput torch.Size([762, 512])\n",
      "reshaped rnn_in torch.Size([3, 254, 512])\n",
      "RNN ouput torch.Size([3, 254, 64])\n"
     ]
    },
    {
     "name": "stderr",
     "output_type": "stream",
     "text": [
      " 65%|████████████████████████████████████████████████████▊                            | 101/155 [00:15<00:08,  6.72it/s]"
     ]
    },
    {
     "name": "stdout",
     "output_type": "stream",
     "text": [
      "mask ouput torch.Size([3, 254, 64])\n",
      "reshaped masked output torch.Size([3, 16256])\n",
      "fc ouput torch.Size([3, 32])\n",
      "logits torch.Size([3, 2])\n",
      "classifier ouput torch.Size([3, 2])\n",
      "-----------------Loss: 0.5615053772926331-----------------------\n",
      "------BATCH ENDING-------\n",
      "--------------------------------------------------\n",
      "[tensor([169,  33, 166])]\n",
      "feature shape torch.Size([3, 254, 1, 112, 112])\n",
      "reshape input torch.Size([762, 1, 112, 112])\n",
      "CNN ouput torch.Size([762, 512])\n",
      "reshaped rnn_in torch.Size([3, 254, 512])\n",
      "RNN ouput torch.Size([3, 254, 64])\n",
      "mask ouput torch.Size([3, 254, 64])\n",
      "reshaped masked output torch.Size([3, 16256])\n",
      "fc ouput torch.Size([3, 32])\n",
      "logits torch.Size([3, 2])\n",
      "classifier ouput torch.Size([3, 2])\n",
      "-----------------Loss: 0.6253452897071838-----------------------\n",
      "------BATCH ENDING-------\n",
      "--------------------------------------------------\n",
      "[tensor([105, 106, 106])]\n",
      "feature shape torch.Size([3, 254, 1, 112, 112])\n",
      "reshape input torch.Size([762, 1, 112, 112])\n",
      "CNN ouput torch.Size([762, 512])\n",
      "reshaped rnn_in torch.Size([3, 254, 512])\n",
      "RNN ouput torch.Size([3, 254, 64])\n"
     ]
    },
    {
     "name": "stderr",
     "output_type": "stream",
     "text": [
      " 66%|█████████████████████████████████████████████████████▊                           | 103/155 [00:15<00:07,  6.81it/s]"
     ]
    },
    {
     "name": "stdout",
     "output_type": "stream",
     "text": [
      "mask ouput torch.Size([3, 254, 64])\n",
      "reshaped masked output torch.Size([3, 16256])\n",
      "fc ouput torch.Size([3, 32])\n",
      "logits torch.Size([3, 2])\n",
      "classifier ouput torch.Size([3, 2])\n",
      "-----------------Loss: 0.6125012636184692-----------------------\n",
      "------BATCH ENDING-------\n",
      "--------------------------------------------------\n",
      "[tensor([101, 104,  16])]\n",
      "feature shape torch.Size([3, 254, 1, 112, 112])\n",
      "reshape input torch.Size([762, 1, 112, 112])\n",
      "CNN ouput torch.Size([762, 512])\n",
      "reshaped rnn_in torch.Size([3, 254, 512])\n",
      "RNN ouput torch.Size([3, 254, 64])\n",
      "mask ouput torch.Size([3, 254, 64])\n",
      "reshaped masked output torch.Size([3, 16256])\n",
      "fc ouput torch.Size([3, 32])\n",
      "logits torch.Size([3, 2])\n",
      "classifier ouput torch.Size([3, 2])\n",
      "-----------------Loss: 0.6691536903381348-----------------------\n",
      "------BATCH ENDING-------\n",
      "--------------------------------------------------\n",
      "[tensor([15, 33, 50])]\n",
      "feature shape torch.Size([3, 254, 1, 112, 112])\n",
      "reshape input torch.Size([762, 1, 112, 112])\n",
      "CNN ouput torch.Size([762, 512])\n",
      "reshaped rnn_in torch.Size([3, 254, 512])\n",
      "RNN ouput torch.Size([3, 254, 64])\n"
     ]
    },
    {
     "name": "stderr",
     "output_type": "stream",
     "text": [
      " 68%|██████████████████████████████████████████████████████▊                          | 105/155 [00:15<00:07,  6.85it/s]"
     ]
    },
    {
     "name": "stdout",
     "output_type": "stream",
     "text": [
      "mask ouput torch.Size([3, 254, 64])\n",
      "reshaped masked output torch.Size([3, 16256])\n",
      "fc ouput torch.Size([3, 32])\n",
      "logits torch.Size([3, 2])\n",
      "classifier ouput torch.Size([3, 2])\n",
      "-----------------Loss: 0.7514710426330566-----------------------\n",
      "------BATCH ENDING-------\n",
      "--------------------------------------------------\n",
      "[tensor([ 78, 105, 106])]\n",
      "feature shape torch.Size([3, 254, 1, 112, 112])\n",
      "reshape input torch.Size([762, 1, 112, 112])\n",
      "CNN ouput torch.Size([762, 512])\n",
      "reshaped rnn_in torch.Size([3, 254, 512])\n",
      "RNN ouput torch.Size([3, 254, 64])\n",
      "mask ouput torch.Size([3, 254, 64])\n",
      "reshaped masked output torch.Size([3, 16256])\n",
      "fc ouput torch.Size([3, 32])\n",
      "logits torch.Size([3, 2])\n",
      "classifier ouput torch.Size([3, 2])\n",
      "-----------------Loss: 0.6423531174659729-----------------------\n",
      "------BATCH ENDING-------\n",
      "--------------------------------------------------\n",
      "[tensor([ 48, 174,  17])]\n",
      "feature shape torch.Size([3, 254, 1, 112, 112])\n",
      "reshape input torch.Size([762, 1, 112, 112])\n",
      "CNN ouput torch.Size([762, 512])\n",
      "reshaped rnn_in torch.Size([3, 254, 512])\n",
      "RNN ouput torch.Size([3, 254, 64])\n"
     ]
    },
    {
     "name": "stderr",
     "output_type": "stream",
     "text": [
      " 69%|███████████████████████████████████████████████████████▉                         | 107/155 [00:15<00:06,  6.86it/s]"
     ]
    },
    {
     "name": "stdout",
     "output_type": "stream",
     "text": [
      "mask ouput torch.Size([3, 254, 64])\n",
      "reshaped masked output torch.Size([3, 16256])\n",
      "fc ouput torch.Size([3, 32])\n",
      "logits torch.Size([3, 2])\n",
      "classifier ouput torch.Size([3, 2])\n",
      "-----------------Loss: 0.5981923937797546-----------------------\n",
      "------BATCH ENDING-------\n",
      "--------------------------------------------------\n",
      "[tensor([84, 94, 98])]\n",
      "feature shape torch.Size([3, 254, 1, 112, 112])\n",
      "reshape input torch.Size([762, 1, 112, 112])\n",
      "CNN ouput torch.Size([762, 512])\n",
      "reshaped rnn_in torch.Size([3, 254, 512])\n",
      "RNN ouput torch.Size([3, 254, 64])\n",
      "mask ouput torch.Size([3, 254, 64])\n",
      "reshaped masked output torch.Size([3, 16256])\n",
      "fc ouput torch.Size([3, 32])\n",
      "logits torch.Size([3, 2])\n",
      "classifier ouput torch.Size([3, 2])\n",
      "-----------------Loss: 0.6914026141166687-----------------------\n",
      "------BATCH ENDING-------\n",
      "--------------------------------------------------\n",
      "[tensor([109,  31,  33])]\n",
      "feature shape torch.Size([3, 254, 1, 112, 112])\n",
      "reshape input torch.Size([762, 1, 112, 112])\n",
      "CNN ouput torch.Size([762, 512])\n",
      "reshaped rnn_in torch.Size([3, 254, 512])\n",
      "RNN ouput torch.Size([3, 254, 64])\n"
     ]
    },
    {
     "name": "stderr",
     "output_type": "stream",
     "text": [
      " 70%|████████████████████████████████████████████████████████▉                        | 109/155 [00:16<00:06,  6.80it/s]"
     ]
    },
    {
     "name": "stdout",
     "output_type": "stream",
     "text": [
      "mask ouput torch.Size([3, 254, 64])\n",
      "reshaped masked output torch.Size([3, 16256])\n",
      "fc ouput torch.Size([3, 32])\n",
      "logits torch.Size([3, 2])\n",
      "classifier ouput torch.Size([3, 2])\n",
      "-----------------Loss: 0.5909183025360107-----------------------\n",
      "------BATCH ENDING-------\n",
      "--------------------------------------------------\n",
      "[tensor([ 31,  98, 202])]\n",
      "feature shape torch.Size([3, 254, 1, 112, 112])\n",
      "reshape input torch.Size([762, 1, 112, 112])\n",
      "CNN ouput torch.Size([762, 512])\n",
      "reshaped rnn_in torch.Size([3, 254, 512])\n",
      "RNN ouput torch.Size([3, 254, 64])\n",
      "mask ouput torch.Size([3, 254, 64])\n",
      "reshaped masked output torch.Size([3, 16256])\n",
      "fc ouput torch.Size([3, 32])\n",
      "logits torch.Size([3, 2])\n",
      "classifier ouput torch.Size([3, 2])\n",
      "-----------------Loss: 0.6564688682556152-----------------------\n",
      "------BATCH ENDING-------\n",
      "--------------------------------------------------\n",
      "[tensor([ 16, 100,  33])]\n",
      "feature shape torch.Size([3, 254, 1, 112, 112])\n",
      "reshape input torch.Size([762, 1, 112, 112])\n",
      "CNN ouput torch.Size([762, 512])\n",
      "reshaped rnn_in torch.Size([3, 254, 512])\n",
      "RNN ouput torch.Size([3, 254, 64])\n"
     ]
    },
    {
     "name": "stderr",
     "output_type": "stream",
     "text": [
      " 72%|██████████████████████████████████████████████████████████                       | 111/155 [00:16<00:06,  6.67it/s]"
     ]
    },
    {
     "name": "stdout",
     "output_type": "stream",
     "text": [
      "mask ouput torch.Size([3, 254, 64])\n",
      "reshaped masked output torch.Size([3, 16256])\n",
      "fc ouput torch.Size([3, 32])\n",
      "logits torch.Size([3, 2])\n",
      "classifier ouput torch.Size([3, 2])\n",
      "-----------------Loss: 0.5983474850654602-----------------------\n",
      "------BATCH ENDING-------\n",
      "--------------------------------------------------\n",
      "[tensor([207,  34, 101])]\n",
      "feature shape torch.Size([3, 254, 1, 112, 112])\n",
      "reshape input torch.Size([762, 1, 112, 112])\n",
      "CNN ouput torch.Size([762, 512])\n",
      "reshaped rnn_in torch.Size([3, 254, 512])\n",
      "RNN ouput torch.Size([3, 254, 64])\n",
      "mask ouput torch.Size([3, 254, 64])\n",
      "reshaped masked output torch.Size([3, 16256])\n",
      "fc ouput torch.Size([3, 32])\n",
      "logits torch.Size([3, 2])\n",
      "classifier ouput torch.Size([3, 2])\n",
      "-----------------Loss: 0.4773169755935669-----------------------\n",
      "------BATCH ENDING-------\n",
      "--------------------------------------------------\n",
      "[tensor([102, 102,  31])]\n",
      "feature shape torch.Size([3, 254, 1, 112, 112])\n",
      "reshape input torch.Size([762, 1, 112, 112])\n",
      "CNN ouput torch.Size([762, 512])\n",
      "reshaped rnn_in torch.Size([3, 254, 512])\n",
      "RNN ouput torch.Size([3, 254, 64])\n"
     ]
    },
    {
     "name": "stderr",
     "output_type": "stream",
     "text": [
      " 73%|███████████████████████████████████████████████████████████                      | 113/155 [00:16<00:06,  6.81it/s]"
     ]
    },
    {
     "name": "stdout",
     "output_type": "stream",
     "text": [
      "mask ouput torch.Size([3, 254, 64])\n",
      "reshaped masked output torch.Size([3, 16256])\n",
      "fc ouput torch.Size([3, 32])\n",
      "logits torch.Size([3, 2])\n",
      "classifier ouput torch.Size([3, 2])\n",
      "-----------------Loss: 0.7228066325187683-----------------------\n",
      "------BATCH ENDING-------\n",
      "--------------------------------------------------\n",
      "[tensor([32, 31, 33])]\n",
      "feature shape torch.Size([3, 254, 1, 112, 112])\n",
      "reshape input torch.Size([762, 1, 112, 112])\n",
      "CNN ouput torch.Size([762, 512])\n",
      "reshaped rnn_in torch.Size([3, 254, 512])\n",
      "RNN ouput torch.Size([3, 254, 64])\n",
      "mask ouput torch.Size([3, 254, 64])\n",
      "reshaped masked output torch.Size([3, 16256])\n",
      "fc ouput torch.Size([3, 32])\n",
      "logits torch.Size([3, 2])\n",
      "classifier ouput torch.Size([3, 2])\n",
      "-----------------Loss: 0.6614617109298706-----------------------\n",
      "------BATCH ENDING-------\n",
      "--------------------------------------------------\n",
      "[tensor([34, 90, 36])]\n",
      "feature shape torch.Size([3, 254, 1, 112, 112])\n",
      "reshape input torch.Size([762, 1, 112, 112])\n",
      "CNN ouput torch.Size([762, 512])\n",
      "reshaped rnn_in torch.Size([3, 254, 512])\n",
      "RNN ouput torch.Size([3, 254, 64])\n"
     ]
    },
    {
     "name": "stderr",
     "output_type": "stream",
     "text": [
      " 74%|████████████████████████████████████████████████████████████                     | 115/155 [00:17<00:05,  6.85it/s]"
     ]
    },
    {
     "name": "stdout",
     "output_type": "stream",
     "text": [
      "mask ouput torch.Size([3, 254, 64])\n",
      "reshaped masked output torch.Size([3, 16256])\n",
      "fc ouput torch.Size([3, 32])\n",
      "logits torch.Size([3, 2])\n",
      "classifier ouput torch.Size([3, 2])\n",
      "-----------------Loss: 0.7638691067695618-----------------------\n",
      "------BATCH ENDING-------\n",
      "--------------------------------------------------\n",
      "[tensor([11, 98, 34])]\n",
      "feature shape torch.Size([3, 254, 1, 112, 112])\n",
      "reshape input torch.Size([762, 1, 112, 112])\n",
      "CNN ouput torch.Size([762, 512])\n",
      "reshaped rnn_in torch.Size([3, 254, 512])\n",
      "RNN ouput torch.Size([3, 254, 64])\n",
      "mask ouput torch.Size([3, 254, 64])\n",
      "reshaped masked output torch.Size([3, 16256])\n",
      "fc ouput torch.Size([3, 32])\n",
      "logits torch.Size([3, 2])\n",
      "classifier ouput torch.Size([3, 2])\n",
      "-----------------Loss: 0.6859143376350403-----------------------\n",
      "------BATCH ENDING-------\n",
      "--------------------------------------------------\n",
      "[tensor([54, 19, 51])]\n",
      "feature shape torch.Size([3, 254, 1, 112, 112])\n",
      "reshape input torch.Size([762, 1, 112, 112])\n",
      "CNN ouput torch.Size([762, 512])\n",
      "reshaped rnn_in torch.Size([3, 254, 512])\n",
      "RNN ouput torch.Size([3, 254, 64])\n"
     ]
    },
    {
     "name": "stderr",
     "output_type": "stream",
     "text": [
      " 75%|█████████████████████████████████████████████████████████████▏                   | 117/155 [00:17<00:05,  6.90it/s]"
     ]
    },
    {
     "name": "stdout",
     "output_type": "stream",
     "text": [
      "mask ouput torch.Size([3, 254, 64])\n",
      "reshaped masked output torch.Size([3, 16256])\n",
      "fc ouput torch.Size([3, 32])\n",
      "logits torch.Size([3, 2])\n",
      "classifier ouput torch.Size([3, 2])\n",
      "-----------------Loss: 0.6677713394165039-----------------------\n",
      "------BATCH ENDING-------\n",
      "--------------------------------------------------\n",
      "[tensor([201,  32,  91])]\n",
      "feature shape torch.Size([3, 254, 1, 112, 112])\n",
      "reshape input torch.Size([762, 1, 112, 112])\n",
      "CNN ouput torch.Size([762, 512])\n",
      "reshaped rnn_in torch.Size([3, 254, 512])\n",
      "RNN ouput torch.Size([3, 254, 64])\n",
      "mask ouput torch.Size([3, 254, 64])\n",
      "reshaped masked output torch.Size([3, 16256])\n",
      "fc ouput torch.Size([3, 32])\n",
      "logits torch.Size([3, 2])\n",
      "classifier ouput torch.Size([3, 2])\n",
      "-----------------Loss: 0.506607711315155-----------------------\n",
      "------BATCH ENDING-------\n",
      "--------------------------------------------------\n",
      "[tensor([17, 34, 46])]\n",
      "feature shape torch.Size([3, 254, 1, 112, 112])\n",
      "reshape input torch.Size([762, 1, 112, 112])\n",
      "CNN ouput torch.Size([762, 512])\n",
      "reshaped rnn_in torch.Size([3, 254, 512])\n",
      "RNN ouput torch.Size([3, 254, 64])\n"
     ]
    },
    {
     "name": "stderr",
     "output_type": "stream",
     "text": [
      " 77%|██████████████████████████████████████████████████████████████▏                  | 119/155 [00:17<00:05,  6.86it/s]"
     ]
    },
    {
     "name": "stdout",
     "output_type": "stream",
     "text": [
      "mask ouput torch.Size([3, 254, 64])\n",
      "reshaped masked output torch.Size([3, 16256])\n",
      "fc ouput torch.Size([3, 32])\n",
      "logits torch.Size([3, 2])\n",
      "classifier ouput torch.Size([3, 2])\n",
      "-----------------Loss: 0.6995481848716736-----------------------\n",
      "------BATCH ENDING-------\n",
      "--------------------------------------------------\n",
      "[tensor([ 33,  35, 101])]\n",
      "feature shape torch.Size([3, 254, 1, 112, 112])\n",
      "reshape input torch.Size([762, 1, 112, 112])\n",
      "CNN ouput torch.Size([762, 512])\n",
      "reshaped rnn_in torch.Size([3, 254, 512])\n",
      "RNN ouput torch.Size([3, 254, 64])\n",
      "mask ouput torch.Size([3, 254, 64])\n",
      "reshaped masked output torch.Size([3, 16256])\n",
      "fc ouput torch.Size([3, 32])\n",
      "logits torch.Size([3, 2])\n",
      "classifier ouput torch.Size([3, 2])\n",
      "-----------------Loss: 0.6629459261894226-----------------------\n",
      "------BATCH ENDING-------\n",
      "--------------------------------------------------\n",
      "[tensor([ 96, 100,  34])]\n",
      "feature shape torch.Size([3, 254, 1, 112, 112])\n",
      "reshape input torch.Size([762, 1, 112, 112])\n",
      "CNN ouput torch.Size([762, 512])\n",
      "reshaped rnn_in torch.Size([3, 254, 512])\n",
      "RNN ouput torch.Size([3, 254, 64])\n"
     ]
    },
    {
     "name": "stderr",
     "output_type": "stream",
     "text": [
      " 78%|███████████████████████████████████████████████████████████████▏                 | 121/155 [00:18<00:04,  6.86it/s]"
     ]
    },
    {
     "name": "stdout",
     "output_type": "stream",
     "text": [
      "mask ouput torch.Size([3, 254, 64])\n",
      "reshaped masked output torch.Size([3, 16256])\n",
      "fc ouput torch.Size([3, 32])\n",
      "logits torch.Size([3, 2])\n",
      "classifier ouput torch.Size([3, 2])\n",
      "-----------------Loss: 0.7829375267028809-----------------------\n",
      "------BATCH ENDING-------\n",
      "--------------------------------------------------\n",
      "[tensor([ 33, 210,  49])]\n",
      "feature shape torch.Size([3, 254, 1, 112, 112])\n",
      "reshape input torch.Size([762, 1, 112, 112])\n",
      "CNN ouput torch.Size([762, 512])\n",
      "reshaped rnn_in torch.Size([3, 254, 512])\n",
      "RNN ouput torch.Size([3, 254, 64])\n",
      "mask ouput torch.Size([3, 254, 64])\n",
      "reshaped masked output torch.Size([3, 16256])\n",
      "fc ouput torch.Size([3, 32])\n",
      "logits torch.Size([3, 2])\n",
      "classifier ouput torch.Size([3, 2])\n",
      "-----------------Loss: 0.5755056738853455-----------------------\n",
      "------BATCH ENDING-------\n",
      "--------------------------------------------------\n",
      "[tensor([ 17,  34, 106])]\n",
      "feature shape torch.Size([3, 254, 1, 112, 112])\n",
      "reshape input torch.Size([762, 1, 112, 112])\n",
      "CNN ouput torch.Size([762, 512])\n",
      "reshaped rnn_in torch.Size([3, 254, 512])\n",
      "RNN ouput torch.Size([3, 254, 64])\n"
     ]
    },
    {
     "name": "stderr",
     "output_type": "stream",
     "text": [
      " 79%|████████████████████████████████████████████████████████████████▎                | 123/155 [00:18<00:04,  6.88it/s]"
     ]
    },
    {
     "name": "stdout",
     "output_type": "stream",
     "text": [
      "mask ouput torch.Size([3, 254, 64])\n",
      "reshaped masked output torch.Size([3, 16256])\n",
      "fc ouput torch.Size([3, 32])\n",
      "logits torch.Size([3, 2])\n",
      "classifier ouput torch.Size([3, 2])\n",
      "-----------------Loss: 0.6303829550743103-----------------------\n",
      "------BATCH ENDING-------\n",
      "--------------------------------------------------\n",
      "[tensor([34, 33, 35])]\n",
      "feature shape torch.Size([3, 254, 1, 112, 112])\n",
      "reshape input torch.Size([762, 1, 112, 112])\n",
      "CNN ouput torch.Size([762, 512])\n",
      "reshaped rnn_in torch.Size([3, 254, 512])\n",
      "RNN ouput torch.Size([3, 254, 64])\n",
      "mask ouput torch.Size([3, 254, 64])\n",
      "reshaped masked output torch.Size([3, 16256])\n",
      "fc ouput torch.Size([3, 32])\n",
      "logits torch.Size([3, 2])\n",
      "classifier ouput torch.Size([3, 2])\n",
      "-----------------Loss: 0.6821046471595764-----------------------\n",
      "------BATCH ENDING-------\n",
      "--------------------------------------------------\n",
      "[tensor([97, 33, 35])]\n",
      "feature shape torch.Size([3, 254, 1, 112, 112])\n",
      "reshape input torch.Size([762, 1, 112, 112])\n",
      "CNN ouput torch.Size([762, 512])\n",
      "reshaped rnn_in torch.Size([3, 254, 512])\n",
      "RNN ouput torch.Size([3, 254, 64])\n"
     ]
    },
    {
     "name": "stderr",
     "output_type": "stream",
     "text": [
      " 81%|█████████████████████████████████████████████████████████████████▎               | 125/155 [00:18<00:04,  6.80it/s]"
     ]
    },
    {
     "name": "stdout",
     "output_type": "stream",
     "text": [
      "mask ouput torch.Size([3, 254, 64])\n",
      "reshaped masked output torch.Size([3, 16256])\n",
      "fc ouput torch.Size([3, 32])\n",
      "logits torch.Size([3, 2])\n",
      "classifier ouput torch.Size([3, 2])\n",
      "-----------------Loss: 0.6480818390846252-----------------------\n",
      "------BATCH ENDING-------\n",
      "--------------------------------------------------\n",
      "[tensor([95, 18, 34])]\n",
      "feature shape torch.Size([3, 254, 1, 112, 112])\n",
      "reshape input torch.Size([762, 1, 112, 112])\n",
      "CNN ouput torch.Size([762, 512])\n",
      "reshaped rnn_in torch.Size([3, 254, 512])\n",
      "RNN ouput torch.Size([3, 254, 64])\n",
      "mask ouput torch.Size([3, 254, 64])\n",
      "reshaped masked output torch.Size([3, 16256])\n",
      "fc ouput torch.Size([3, 32])\n",
      "logits torch.Size([3, 2])\n",
      "classifier ouput torch.Size([3, 2])\n",
      "-----------------Loss: 0.6800854802131653-----------------------\n",
      "------BATCH ENDING-------\n",
      "--------------------------------------------------\n",
      "[tensor([177,  33,  10])]\n",
      "feature shape torch.Size([3, 254, 1, 112, 112])\n",
      "reshape input torch.Size([762, 1, 112, 112])\n",
      "CNN ouput torch.Size([762, 512])\n",
      "reshaped rnn_in torch.Size([3, 254, 512])\n",
      "RNN ouput torch.Size([3, 254, 64])\n"
     ]
    },
    {
     "name": "stderr",
     "output_type": "stream",
     "text": [
      " 82%|██████████████████████████████████████████████████████████████████▎              | 127/155 [00:18<00:04,  6.82it/s]"
     ]
    },
    {
     "name": "stdout",
     "output_type": "stream",
     "text": [
      "mask ouput torch.Size([3, 254, 64])\n",
      "reshaped masked output torch.Size([3, 16256])\n",
      "fc ouput torch.Size([3, 32])\n",
      "logits torch.Size([3, 2])\n",
      "classifier ouput torch.Size([3, 2])\n",
      "-----------------Loss: 0.5415425300598145-----------------------\n",
      "------BATCH ENDING-------\n",
      "--------------------------------------------------\n",
      "[tensor([29, 15, 14])]\n",
      "feature shape torch.Size([3, 254, 1, 112, 112])\n",
      "reshape input torch.Size([762, 1, 112, 112])\n",
      "CNN ouput torch.Size([762, 512])\n",
      "reshaped rnn_in torch.Size([3, 254, 512])\n",
      "RNN ouput torch.Size([3, 254, 64])\n",
      "mask ouput torch.Size([3, 254, 64])\n",
      "reshaped masked output torch.Size([3, 16256])\n",
      "fc ouput torch.Size([3, 32])\n",
      "logits torch.Size([3, 2])\n",
      "classifier ouput torch.Size([3, 2])\n",
      "-----------------Loss: 0.7105380892753601-----------------------\n",
      "------BATCH ENDING-------\n",
      "--------------------------------------------------\n",
      "[tensor([ 34,  34, 250])]\n",
      "feature shape torch.Size([3, 254, 1, 112, 112])\n",
      "reshape input torch.Size([762, 1, 112, 112])\n",
      "CNN ouput torch.Size([762, 512])\n",
      "reshaped rnn_in torch.Size([3, 254, 512])\n",
      "RNN ouput torch.Size([3, 254, 64])\n"
     ]
    },
    {
     "name": "stderr",
     "output_type": "stream",
     "text": [
      " 83%|███████████████████████████████████████████████████████████████████▍             | 129/155 [00:19<00:03,  6.85it/s]"
     ]
    },
    {
     "name": "stdout",
     "output_type": "stream",
     "text": [
      "mask ouput torch.Size([3, 254, 64])\n",
      "reshaped masked output torch.Size([3, 16256])\n",
      "fc ouput torch.Size([3, 32])\n",
      "logits torch.Size([3, 2])\n",
      "classifier ouput torch.Size([3, 2])\n",
      "-----------------Loss: 0.8516494631767273-----------------------\n",
      "------BATCH ENDING-------\n",
      "--------------------------------------------------\n",
      "[tensor([ 35, 101,  49])]\n",
      "feature shape torch.Size([3, 254, 1, 112, 112])\n",
      "reshape input torch.Size([762, 1, 112, 112])\n",
      "CNN ouput torch.Size([762, 512])\n",
      "reshaped rnn_in torch.Size([3, 254, 512])\n",
      "RNN ouput torch.Size([3, 254, 64])\n",
      "mask ouput torch.Size([3, 254, 64])\n",
      "reshaped masked output torch.Size([3, 16256])\n",
      "fc ouput torch.Size([3, 32])\n",
      "logits torch.Size([3, 2])\n",
      "classifier ouput torch.Size([3, 2])\n",
      "-----------------Loss: 0.8217391967773438-----------------------\n",
      "------BATCH ENDING-------\n",
      "--------------------------------------------------\n",
      "[tensor([34, 92, 34])]\n",
      "feature shape torch.Size([3, 254, 1, 112, 112])\n",
      "reshape input torch.Size([762, 1, 112, 112])\n",
      "CNN ouput torch.Size([762, 512])\n",
      "reshaped rnn_in torch.Size([3, 254, 512])\n",
      "RNN ouput torch.Size([3, 254, 64])\n"
     ]
    },
    {
     "name": "stderr",
     "output_type": "stream",
     "text": [
      " 85%|████████████████████████████████████████████████████████████████████▍            | 131/155 [00:19<00:03,  6.89it/s]"
     ]
    },
    {
     "name": "stdout",
     "output_type": "stream",
     "text": [
      "mask ouput torch.Size([3, 254, 64])\n",
      "reshaped masked output torch.Size([3, 16256])\n",
      "fc ouput torch.Size([3, 32])\n",
      "logits torch.Size([3, 2])\n",
      "classifier ouput torch.Size([3, 2])\n",
      "-----------------Loss: 0.6444390416145325-----------------------\n",
      "------BATCH ENDING-------\n",
      "--------------------------------------------------\n",
      "[tensor([ 34, 189,  34])]\n",
      "feature shape torch.Size([3, 254, 1, 112, 112])\n",
      "reshape input torch.Size([762, 1, 112, 112])\n",
      "CNN ouput torch.Size([762, 512])\n",
      "reshaped rnn_in torch.Size([3, 254, 512])\n",
      "RNN ouput torch.Size([3, 254, 64])\n",
      "mask ouput torch.Size([3, 254, 64])\n",
      "reshaped masked output torch.Size([3, 16256])\n",
      "fc ouput torch.Size([3, 32])\n",
      "logits torch.Size([3, 2])\n",
      "classifier ouput torch.Size([3, 2])\n",
      "-----------------Loss: 0.9634202122688293-----------------------\n",
      "------BATCH ENDING-------\n",
      "--------------------------------------------------\n",
      "[tensor([113, 201,  32])]\n",
      "feature shape torch.Size([3, 254, 1, 112, 112])\n",
      "reshape input torch.Size([762, 1, 112, 112])\n",
      "CNN ouput torch.Size([762, 512])\n",
      "reshaped rnn_in torch.Size([3, 254, 512])\n",
      "RNN ouput torch.Size([3, 254, 64])\n"
     ]
    },
    {
     "name": "stderr",
     "output_type": "stream",
     "text": [
      " 86%|█████████████████████████████████████████████████████████████████████▌           | 133/155 [00:19<00:03,  6.79it/s]"
     ]
    },
    {
     "name": "stdout",
     "output_type": "stream",
     "text": [
      "mask ouput torch.Size([3, 254, 64])\n",
      "reshaped masked output torch.Size([3, 16256])\n",
      "fc ouput torch.Size([3, 32])\n",
      "logits torch.Size([3, 2])\n",
      "classifier ouput torch.Size([3, 2])\n",
      "-----------------Loss: 0.3791522979736328-----------------------\n",
      "------BATCH ENDING-------\n",
      "--------------------------------------------------\n",
      "[tensor([ 34, 101, 105])]\n",
      "feature shape torch.Size([3, 254, 1, 112, 112])\n",
      "reshape input torch.Size([762, 1, 112, 112])\n",
      "CNN ouput torch.Size([762, 512])\n",
      "reshaped rnn_in torch.Size([3, 254, 512])\n",
      "RNN ouput torch.Size([3, 254, 64])\n",
      "mask ouput torch.Size([3, 254, 64])\n",
      "reshaped masked output torch.Size([3, 16256])\n",
      "fc ouput torch.Size([3, 32])\n",
      "logits torch.Size([3, 2])\n",
      "classifier ouput torch.Size([3, 2])\n",
      "-----------------Loss: 0.5326590538024902-----------------------\n",
      "------BATCH ENDING-------\n",
      "--------------------------------------------------\n",
      "[tensor([33, 32, 48])]\n",
      "feature shape torch.Size([3, 254, 1, 112, 112])\n",
      "reshape input torch.Size([762, 1, 112, 112])\n",
      "CNN ouput torch.Size([762, 512])\n",
      "reshaped rnn_in torch.Size([3, 254, 512])\n",
      "RNN ouput torch.Size([3, 254, 64])\n"
     ]
    },
    {
     "name": "stderr",
     "output_type": "stream",
     "text": [
      " 87%|██████████████████████████████████████████████████████████████████████▌          | 135/155 [00:20<00:02,  6.84it/s]"
     ]
    },
    {
     "name": "stdout",
     "output_type": "stream",
     "text": [
      "mask ouput torch.Size([3, 254, 64])\n",
      "reshaped masked output torch.Size([3, 16256])\n",
      "fc ouput torch.Size([3, 32])\n",
      "logits torch.Size([3, 2])\n",
      "classifier ouput torch.Size([3, 2])\n",
      "-----------------Loss: 0.7276821136474609-----------------------\n",
      "------BATCH ENDING-------\n",
      "--------------------------------------------------\n",
      "[tensor([ 99, 204,  34])]\n",
      "feature shape torch.Size([3, 254, 1, 112, 112])\n",
      "reshape input torch.Size([762, 1, 112, 112])\n",
      "CNN ouput torch.Size([762, 512])\n",
      "reshaped rnn_in torch.Size([3, 254, 512])\n",
      "RNN ouput torch.Size([3, 254, 64])\n",
      "mask ouput torch.Size([3, 254, 64])\n",
      "reshaped masked output torch.Size([3, 16256])\n",
      "fc ouput torch.Size([3, 32])\n",
      "logits torch.Size([3, 2])\n",
      "classifier ouput torch.Size([3, 2])\n",
      "-----------------Loss: 0.6303465962409973-----------------------\n",
      "------BATCH ENDING-------\n",
      "--------------------------------------------------\n",
      "[tensor([117,  35, 109])]\n",
      "feature shape torch.Size([3, 254, 1, 112, 112])\n",
      "reshape input torch.Size([762, 1, 112, 112])\n",
      "CNN ouput torch.Size([762, 512])\n",
      "reshaped rnn_in torch.Size([3, 254, 512])\n",
      "RNN ouput torch.Size([3, 254, 64])\n"
     ]
    },
    {
     "name": "stderr",
     "output_type": "stream",
     "text": [
      " 88%|███████████████████████████████████████████████████████████████████████▌         | 137/155 [00:20<00:02,  6.81it/s]"
     ]
    },
    {
     "name": "stdout",
     "output_type": "stream",
     "text": [
      "mask ouput torch.Size([3, 254, 64])\n",
      "reshaped masked output torch.Size([3, 16256])\n",
      "fc ouput torch.Size([3, 32])\n",
      "logits torch.Size([3, 2])\n",
      "classifier ouput torch.Size([3, 2])\n",
      "-----------------Loss: 0.9778931736946106-----------------------\n",
      "------BATCH ENDING-------\n",
      "--------------------------------------------------\n",
      "[tensor([36, 14, 32])]\n",
      "feature shape torch.Size([3, 254, 1, 112, 112])\n",
      "reshape input torch.Size([762, 1, 112, 112])\n",
      "CNN ouput torch.Size([762, 512])\n",
      "reshaped rnn_in torch.Size([3, 254, 512])\n",
      "RNN ouput torch.Size([3, 254, 64])\n",
      "mask ouput torch.Size([3, 254, 64])\n",
      "reshaped masked output torch.Size([3, 16256])\n",
      "fc ouput torch.Size([3, 32])\n",
      "logits torch.Size([3, 2])\n",
      "classifier ouput torch.Size([3, 2])\n",
      "-----------------Loss: 0.7261707186698914-----------------------\n",
      "------BATCH ENDING-------\n",
      "--------------------------------------------------\n",
      "[tensor([ 16, 105,  35])]\n",
      "feature shape torch.Size([3, 254, 1, 112, 112])\n",
      "reshape input torch.Size([762, 1, 112, 112])\n",
      "CNN ouput torch.Size([762, 512])\n",
      "reshaped rnn_in torch.Size([3, 254, 512])\n",
      "RNN ouput torch.Size([3, 254, 64])\n"
     ]
    },
    {
     "name": "stderr",
     "output_type": "stream",
     "text": [
      " 90%|████████████████████████████████████████████████████████████████████████▋        | 139/155 [00:20<00:02,  6.77it/s]"
     ]
    },
    {
     "name": "stdout",
     "output_type": "stream",
     "text": [
      "mask ouput torch.Size([3, 254, 64])\n",
      "reshaped masked output torch.Size([3, 16256])\n",
      "fc ouput torch.Size([3, 32])\n",
      "logits torch.Size([3, 2])\n",
      "classifier ouput torch.Size([3, 2])\n",
      "-----------------Loss: 0.8139402270317078-----------------------\n",
      "------BATCH ENDING-------\n",
      "--------------------------------------------------\n",
      "[tensor([42, 35, 32])]\n",
      "feature shape torch.Size([3, 254, 1, 112, 112])\n",
      "reshape input torch.Size([762, 1, 112, 112])\n",
      "CNN ouput torch.Size([762, 512])\n",
      "reshaped rnn_in torch.Size([3, 254, 512])\n",
      "RNN ouput torch.Size([3, 254, 64])\n",
      "mask ouput torch.Size([3, 254, 64])\n",
      "reshaped masked output torch.Size([3, 16256])\n",
      "fc ouput torch.Size([3, 32])\n",
      "logits torch.Size([3, 2])\n",
      "classifier ouput torch.Size([3, 2])\n",
      "-----------------Loss: 0.6940791606903076-----------------------\n",
      "------BATCH ENDING-------\n",
      "--------------------------------------------------\n",
      "[tensor([ 50, 102,  15])]\n",
      "feature shape torch.Size([3, 254, 1, 112, 112])\n",
      "reshape input torch.Size([762, 1, 112, 112])\n",
      "CNN ouput torch.Size([762, 512])\n",
      "reshaped rnn_in torch.Size([3, 254, 512])\n",
      "RNN ouput torch.Size([3, 254, 64])\n"
     ]
    },
    {
     "name": "stderr",
     "output_type": "stream",
     "text": [
      " 91%|█████████████████████████████████████████████████████████████████████████▋       | 141/155 [00:20<00:02,  6.86it/s]"
     ]
    },
    {
     "name": "stdout",
     "output_type": "stream",
     "text": [
      "mask ouput torch.Size([3, 254, 64])\n",
      "reshaped masked output torch.Size([3, 16256])\n",
      "fc ouput torch.Size([3, 32])\n",
      "logits torch.Size([3, 2])\n",
      "classifier ouput torch.Size([3, 2])\n",
      "-----------------Loss: 0.579972505569458-----------------------\n",
      "------BATCH ENDING-------\n",
      "--------------------------------------------------\n",
      "[tensor([103, 107,  34])]\n",
      "feature shape torch.Size([3, 254, 1, 112, 112])\n",
      "reshape input torch.Size([762, 1, 112, 112])\n",
      "CNN ouput torch.Size([762, 512])\n",
      "reshaped rnn_in torch.Size([3, 254, 512])\n",
      "RNN ouput torch.Size([3, 254, 64])\n",
      "mask ouput torch.Size([3, 254, 64])\n",
      "reshaped masked output torch.Size([3, 16256])\n",
      "fc ouput torch.Size([3, 32])\n",
      "logits torch.Size([3, 2])\n",
      "classifier ouput torch.Size([3, 2])\n",
      "-----------------Loss: 0.5035702586174011-----------------------\n",
      "------BATCH ENDING-------\n",
      "--------------------------------------------------\n",
      "[tensor([ 35,  17, 102])]\n",
      "feature shape torch.Size([3, 254, 1, 112, 112])\n",
      "reshape input torch.Size([762, 1, 112, 112])\n",
      "CNN ouput torch.Size([762, 512])\n",
      "reshaped rnn_in torch.Size([3, 254, 512])\n",
      "RNN ouput torch.Size([3, 254, 64])\n"
     ]
    },
    {
     "name": "stderr",
     "output_type": "stream",
     "text": [
      " 92%|██████████████████████████████████████████████████████████████████████████▋      | 143/155 [00:21<00:01,  6.86it/s]"
     ]
    },
    {
     "name": "stdout",
     "output_type": "stream",
     "text": [
      "mask ouput torch.Size([3, 254, 64])\n",
      "reshaped masked output torch.Size([3, 16256])\n",
      "fc ouput torch.Size([3, 32])\n",
      "logits torch.Size([3, 2])\n",
      "classifier ouput torch.Size([3, 2])\n",
      "-----------------Loss: 0.5898454189300537-----------------------\n",
      "------BATCH ENDING-------\n",
      "--------------------------------------------------\n",
      "[tensor([ 17,  14, 105])]\n",
      "feature shape torch.Size([3, 254, 1, 112, 112])\n",
      "reshape input torch.Size([762, 1, 112, 112])\n",
      "CNN ouput torch.Size([762, 512])\n",
      "reshaped rnn_in torch.Size([3, 254, 512])\n",
      "RNN ouput torch.Size([3, 254, 64])\n",
      "mask ouput torch.Size([3, 254, 64])\n",
      "reshaped masked output torch.Size([3, 16256])\n",
      "fc ouput torch.Size([3, 32])\n",
      "logits torch.Size([3, 2])\n",
      "classifier ouput torch.Size([3, 2])\n",
      "-----------------Loss: 0.5389277338981628-----------------------\n",
      "------BATCH ENDING-------\n",
      "--------------------------------------------------\n",
      "[tensor([100,  33,  33])]\n",
      "feature shape torch.Size([3, 254, 1, 112, 112])\n",
      "reshape input torch.Size([762, 1, 112, 112])\n",
      "CNN ouput torch.Size([762, 512])\n",
      "reshaped rnn_in torch.Size([3, 254, 512])\n",
      "RNN ouput torch.Size([3, 254, 64])\n"
     ]
    },
    {
     "name": "stderr",
     "output_type": "stream",
     "text": [
      " 94%|███████████████████████████████████████████████████████████████████████████▊     | 145/155 [00:21<00:01,  6.79it/s]"
     ]
    },
    {
     "name": "stdout",
     "output_type": "stream",
     "text": [
      "mask ouput torch.Size([3, 254, 64])\n",
      "reshaped masked output torch.Size([3, 16256])\n",
      "fc ouput torch.Size([3, 32])\n",
      "logits torch.Size([3, 2])\n",
      "classifier ouput torch.Size([3, 2])\n",
      "-----------------Loss: 0.5965943336486816-----------------------\n",
      "------BATCH ENDING-------\n",
      "--------------------------------------------------\n",
      "[tensor([17, 16, 31])]\n",
      "feature shape torch.Size([3, 254, 1, 112, 112])\n",
      "reshape input torch.Size([762, 1, 112, 112])\n",
      "CNN ouput torch.Size([762, 512])\n",
      "reshaped rnn_in torch.Size([3, 254, 512])\n",
      "RNN ouput torch.Size([3, 254, 64])\n",
      "mask ouput torch.Size([3, 254, 64])\n",
      "reshaped masked output torch.Size([3, 16256])\n",
      "fc ouput torch.Size([3, 32])\n",
      "logits torch.Size([3, 2])\n",
      "classifier ouput torch.Size([3, 2])\n",
      "-----------------Loss: 0.7390167117118835-----------------------\n",
      "------BATCH ENDING-------\n",
      "--------------------------------------------------\n",
      "[tensor([102,  33, 194])]\n",
      "feature shape torch.Size([3, 254, 1, 112, 112])\n",
      "reshape input torch.Size([762, 1, 112, 112])\n",
      "CNN ouput torch.Size([762, 512])\n",
      "reshaped rnn_in torch.Size([3, 254, 512])\n",
      "RNN ouput torch.Size([3, 254, 64])\n"
     ]
    },
    {
     "name": "stderr",
     "output_type": "stream",
     "text": [
      " 95%|████████████████████████████████████████████████████████████████████████████▊    | 147/155 [00:21<00:01,  6.80it/s]"
     ]
    },
    {
     "name": "stdout",
     "output_type": "stream",
     "text": [
      "mask ouput torch.Size([3, 254, 64])\n",
      "reshaped masked output torch.Size([3, 16256])\n",
      "fc ouput torch.Size([3, 32])\n",
      "logits torch.Size([3, 2])\n",
      "classifier ouput torch.Size([3, 2])\n",
      "-----------------Loss: 0.48384854197502136-----------------------\n",
      "------BATCH ENDING-------\n",
      "--------------------------------------------------\n",
      "[tensor([16, 17, 33])]\n",
      "feature shape torch.Size([3, 254, 1, 112, 112])\n",
      "reshape input torch.Size([762, 1, 112, 112])\n",
      "CNN ouput torch.Size([762, 512])\n",
      "reshaped rnn_in torch.Size([3, 254, 512])\n",
      "RNN ouput torch.Size([3, 254, 64])\n",
      "mask ouput torch.Size([3, 254, 64])\n",
      "reshaped masked output torch.Size([3, 16256])\n",
      "fc ouput torch.Size([3, 32])\n",
      "logits torch.Size([3, 2])\n",
      "classifier ouput torch.Size([3, 2])\n",
      "-----------------Loss: 0.6312935948371887-----------------------\n",
      "------BATCH ENDING-------\n",
      "--------------------------------------------------\n",
      "[tensor([34, 50, 33])]\n",
      "feature shape torch.Size([3, 254, 1, 112, 112])\n",
      "reshape input torch.Size([762, 1, 112, 112])\n",
      "CNN ouput torch.Size([762, 512])\n",
      "reshaped rnn_in torch.Size([3, 254, 512])\n",
      "RNN ouput torch.Size([3, 254, 64])\n"
     ]
    },
    {
     "name": "stderr",
     "output_type": "stream",
     "text": [
      " 96%|█████████████████████████████████████████████████████████████████████████████▊   | 149/155 [00:22<00:00,  6.82it/s]"
     ]
    },
    {
     "name": "stdout",
     "output_type": "stream",
     "text": [
      "mask ouput torch.Size([3, 254, 64])\n",
      "reshaped masked output torch.Size([3, 16256])\n",
      "fc ouput torch.Size([3, 32])\n",
      "logits torch.Size([3, 2])\n",
      "classifier ouput torch.Size([3, 2])\n",
      "-----------------Loss: 0.7124974727630615-----------------------\n",
      "------BATCH ENDING-------\n",
      "--------------------------------------------------\n",
      "[tensor([ 33,  32, 105])]\n",
      "feature shape torch.Size([3, 254, 1, 112, 112])\n",
      "reshape input torch.Size([762, 1, 112, 112])\n",
      "CNN ouput torch.Size([762, 512])\n",
      "reshaped rnn_in torch.Size([3, 254, 512])\n",
      "RNN ouput torch.Size([3, 254, 64])\n",
      "mask ouput torch.Size([3, 254, 64])\n",
      "reshaped masked output torch.Size([3, 16256])\n",
      "fc ouput torch.Size([3, 32])\n",
      "logits torch.Size([3, 2])\n",
      "classifier ouput torch.Size([3, 2])\n",
      "-----------------Loss: 0.5833430886268616-----------------------\n",
      "------BATCH ENDING-------\n",
      "--------------------------------------------------\n",
      "[tensor([24, 51, 33])]\n",
      "feature shape torch.Size([3, 254, 1, 112, 112])\n",
      "reshape input torch.Size([762, 1, 112, 112])\n",
      "CNN ouput torch.Size([762, 512])\n",
      "reshaped rnn_in torch.Size([3, 254, 512])\n",
      "RNN ouput torch.Size([3, 254, 64])\n"
     ]
    },
    {
     "name": "stderr",
     "output_type": "stream",
     "text": [
      " 97%|██████████████████████████████████████████████████████████████████████████████▉  | 151/155 [00:22<00:00,  6.67it/s]"
     ]
    },
    {
     "name": "stdout",
     "output_type": "stream",
     "text": [
      "mask ouput torch.Size([3, 254, 64])\n",
      "reshaped masked output torch.Size([3, 16256])\n",
      "fc ouput torch.Size([3, 32])\n",
      "logits torch.Size([3, 2])\n",
      "classifier ouput torch.Size([3, 2])\n",
      "-----------------Loss: 0.6374369263648987-----------------------\n",
      "------BATCH ENDING-------\n",
      "--------------------------------------------------\n",
      "[tensor([ 17, 101,  35])]\n",
      "feature shape torch.Size([3, 254, 1, 112, 112])\n",
      "reshape input torch.Size([762, 1, 112, 112])\n",
      "CNN ouput torch.Size([762, 512])\n",
      "reshaped rnn_in torch.Size([3, 254, 512])\n",
      "RNN ouput torch.Size([3, 254, 64])\n",
      "mask ouput torch.Size([3, 254, 64])\n",
      "reshaped masked output torch.Size([3, 16256])\n",
      "fc ouput torch.Size([3, 32])\n",
      "logits torch.Size([3, 2])\n",
      "classifier ouput torch.Size([3, 2])\n",
      "-----------------Loss: 0.825465977191925-----------------------\n",
      "------BATCH ENDING-------\n",
      "--------------------------------------------------\n",
      "[tensor([128,  34, 189])]\n",
      "feature shape torch.Size([3, 254, 1, 112, 112])\n",
      "reshape input torch.Size([762, 1, 112, 112])\n"
     ]
    },
    {
     "name": "stderr",
     "output_type": "stream",
     "text": [
      " 98%|███████████████████████████████████████████████████████████████████████████████▍ | 152/155 [00:22<00:00,  6.50it/s]"
     ]
    },
    {
     "name": "stdout",
     "output_type": "stream",
     "text": [
      "CNN ouput torch.Size([762, 512])\n",
      "reshaped rnn_in torch.Size([3, 254, 512])\n",
      "RNN ouput torch.Size([3, 254, 64])\n",
      "mask ouput torch.Size([3, 254, 64])\n",
      "reshaped masked output torch.Size([3, 16256])\n",
      "fc ouput torch.Size([3, 32])\n",
      "logits torch.Size([3, 2])\n",
      "classifier ouput torch.Size([3, 2])\n",
      "-----------------Loss: 0.7104427218437195-----------------------\n",
      "------BATCH ENDING-------\n",
      "--------------------------------------------------\n",
      "[tensor([110,  31, 100])]\n",
      "feature shape torch.Size([3, 254, 1, 112, 112])\n",
      "reshape input torch.Size([762, 1, 112, 112])\n",
      "CNN ouput torch.Size([762, 512])\n",
      "reshaped rnn_in torch.Size([3, 254, 512])\n",
      "RNN ouput torch.Size([3, 254, 64])\n"
     ]
    },
    {
     "name": "stderr",
     "output_type": "stream",
     "text": [
      " 99%|████████████████████████████████████████████████████████████████████████████████▍| 154/155 [00:22<00:00,  6.65it/s]"
     ]
    },
    {
     "name": "stdout",
     "output_type": "stream",
     "text": [
      "mask ouput torch.Size([3, 254, 64])\n",
      "reshaped masked output torch.Size([3, 16256])\n",
      "fc ouput torch.Size([3, 32])\n",
      "logits torch.Size([3, 2])\n",
      "classifier ouput torch.Size([3, 2])\n",
      "-----------------Loss: 0.4524165689945221-----------------------\n",
      "------BATCH ENDING-------\n",
      "--------------------------------------------------\n",
      "[tensor([ 14, 101,  17])]\n",
      "feature shape torch.Size([3, 254, 1, 112, 112])\n",
      "reshape input torch.Size([762, 1, 112, 112])\n",
      "CNN ouput torch.Size([762, 512])\n",
      "reshaped rnn_in torch.Size([3, 254, 512])\n",
      "RNN ouput torch.Size([3, 254, 64])\n",
      "mask ouput torch.Size([3, 254, 64])\n",
      "reshaped masked output torch.Size([3, 16256])\n",
      "fc ouput torch.Size([3, 32])\n",
      "logits torch.Size([3, 2])\n",
      "classifier ouput torch.Size([3, 2])\n",
      "-----------------Loss: 0.5981060862541199-----------------------\n",
      "------BATCH ENDING-------\n",
      "--------------------------------------------------\n",
      "[tensor([96, 20, 34])]\n",
      "feature shape torch.Size([3, 254, 1, 112, 112])\n",
      "reshape input torch.Size([762, 1, 112, 112])\n",
      "CNN ouput torch.Size([762, 512])\n",
      "reshaped rnn_in torch.Size([3, 254, 512])\n",
      "RNN ouput torch.Size([3, 254, 64])\n"
     ]
    },
    {
     "name": "stderr",
     "output_type": "stream",
     "text": [
      "100%|█████████████████████████████████████████████████████████████████████████████████| 155/155 [00:23<00:00,  6.71it/s]\n"
     ]
    },
    {
     "name": "stdout",
     "output_type": "stream",
     "text": [
      "mask ouput torch.Size([3, 254, 64])\n",
      "reshaped masked output torch.Size([3, 16256])\n",
      "fc ouput torch.Size([3, 32])\n",
      "logits torch.Size([3, 2])\n",
      "classifier ouput torch.Size([3, 2])\n",
      "-----------------Loss: 0.8100407719612122-----------------------\n",
      "------BATCH ENDING-------\n",
      "Epoch: 2/5 | Loss: 0.67238 | Accuracy: 0.5613% | F1 Score: 0.5606 | AUROC: 0.6000 | Time: 23.115957260131836\n"
     ]
    },
    {
     "name": "stderr",
     "output_type": "stream",
     "text": [
      "  1%|▌                                                                                  | 1/155 [00:00<01:21,  1.90it/s]"
     ]
    },
    {
     "name": "stdout",
     "output_type": "stream",
     "text": [
      "--------------------------------------------------\n",
      "[tensor([16, 34, 35])]\n",
      "feature shape torch.Size([3, 254, 1, 112, 112])\n",
      "reshape input torch.Size([762, 1, 112, 112])\n",
      "CNN ouput torch.Size([762, 512])\n",
      "reshaped rnn_in torch.Size([3, 254, 512])\n",
      "RNN ouput torch.Size([3, 254, 64])\n",
      "mask ouput torch.Size([3, 254, 64])\n",
      "reshaped masked output torch.Size([3, 16256])\n",
      "fc ouput torch.Size([3, 32])\n",
      "logits torch.Size([3, 2])\n",
      "classifier ouput torch.Size([3, 2])\n",
      "-----------------Loss: 0.6728640198707581-----------------------\n",
      "------BATCH ENDING-------\n",
      "--------------------------------------------------\n",
      "[tensor([106,  84,  34])]\n",
      "feature shape torch.Size([3, 254, 1, 112, 112])\n",
      "reshape input torch.Size([762, 1, 112, 112])\n",
      "CNN ouput torch.Size([762, 512])\n",
      "reshaped rnn_in torch.Size([3, 254, 512])\n",
      "RNN ouput torch.Size([3, 254, 64])\n"
     ]
    },
    {
     "name": "stderr",
     "output_type": "stream",
     "text": [
      "  2%|█▌                                                                                 | 3/155 [00:00<00:35,  4.31it/s]"
     ]
    },
    {
     "name": "stdout",
     "output_type": "stream",
     "text": [
      "mask ouput torch.Size([3, 254, 64])\n",
      "reshaped masked output torch.Size([3, 16256])\n",
      "fc ouput torch.Size([3, 32])\n",
      "logits torch.Size([3, 2])\n",
      "classifier ouput torch.Size([3, 2])\n",
      "-----------------Loss: 0.7386429309844971-----------------------\n",
      "------BATCH ENDING-------\n",
      "--------------------------------------------------\n",
      "[tensor([ 98, 104,  49])]\n",
      "feature shape torch.Size([3, 254, 1, 112, 112])\n",
      "reshape input torch.Size([762, 1, 112, 112])\n",
      "CNN ouput torch.Size([762, 512])\n",
      "reshaped rnn_in torch.Size([3, 254, 512])\n",
      "RNN ouput torch.Size([3, 254, 64])\n",
      "mask ouput torch.Size([3, 254, 64])\n",
      "reshaped masked output torch.Size([3, 16256])\n",
      "fc ouput torch.Size([3, 32])\n",
      "logits torch.Size([3, 2])\n",
      "classifier ouput torch.Size([3, 2])\n",
      "-----------------Loss: 0.594083845615387-----------------------\n",
      "------BATCH ENDING-------\n",
      "--------------------------------------------------\n",
      "[tensor([104,  34,  22])]\n",
      "feature shape torch.Size([3, 254, 1, 112, 112])\n",
      "reshape input torch.Size([762, 1, 112, 112])\n",
      "CNN ouput torch.Size([762, 512])\n",
      "reshaped rnn_in torch.Size([3, 254, 512])\n",
      "RNN ouput torch.Size([3, 254, 64])\n"
     ]
    },
    {
     "name": "stderr",
     "output_type": "stream",
     "text": [
      "  3%|██▋                                                                                | 5/155 [00:01<00:26,  5.59it/s]"
     ]
    },
    {
     "name": "stdout",
     "output_type": "stream",
     "text": [
      "mask ouput torch.Size([3, 254, 64])\n",
      "reshaped masked output torch.Size([3, 16256])\n",
      "fc ouput torch.Size([3, 32])\n",
      "logits torch.Size([3, 2])\n",
      "classifier ouput torch.Size([3, 2])\n",
      "-----------------Loss: 0.8164688944816589-----------------------\n",
      "------BATCH ENDING-------\n",
      "--------------------------------------------------\n",
      "[tensor([97, 35, 34])]\n",
      "feature shape torch.Size([3, 254, 1, 112, 112])\n",
      "reshape input torch.Size([762, 1, 112, 112])\n",
      "CNN ouput torch.Size([762, 512])\n",
      "reshaped rnn_in torch.Size([3, 254, 512])\n",
      "RNN ouput torch.Size([3, 254, 64])\n",
      "mask ouput torch.Size([3, 254, 64])\n",
      "reshaped masked output torch.Size([3, 16256])\n",
      "fc ouput torch.Size([3, 32])\n",
      "logits torch.Size([3, 2])\n",
      "classifier ouput torch.Size([3, 2])\n",
      "-----------------Loss: 0.6023340821266174-----------------------\n",
      "------BATCH ENDING-------\n",
      "--------------------------------------------------\n",
      "[tensor([ 34,  93, 102])]\n",
      "feature shape torch.Size([3, 254, 1, 112, 112])\n",
      "reshape input torch.Size([762, 1, 112, 112])\n",
      "CNN ouput torch.Size([762, 512])\n",
      "reshaped rnn_in torch.Size([3, 254, 512])\n",
      "RNN ouput torch.Size([3, 254, 64])\n"
     ]
    },
    {
     "name": "stderr",
     "output_type": "stream",
     "text": [
      "  5%|███▋                                                                               | 7/155 [00:01<00:23,  6.27it/s]"
     ]
    },
    {
     "name": "stdout",
     "output_type": "stream",
     "text": [
      "mask ouput torch.Size([3, 254, 64])\n",
      "reshaped masked output torch.Size([3, 16256])\n",
      "fc ouput torch.Size([3, 32])\n",
      "logits torch.Size([3, 2])\n",
      "classifier ouput torch.Size([3, 2])\n",
      "-----------------Loss: 0.6173120141029358-----------------------\n",
      "------BATCH ENDING-------\n",
      "--------------------------------------------------\n",
      "[tensor([201,  22, 106])]\n",
      "feature shape torch.Size([3, 254, 1, 112, 112])\n",
      "reshape input torch.Size([762, 1, 112, 112])\n",
      "CNN ouput torch.Size([762, 512])\n",
      "reshaped rnn_in torch.Size([3, 254, 512])\n",
      "RNN ouput torch.Size([3, 254, 64])\n",
      "mask ouput torch.Size([3, 254, 64])\n",
      "reshaped masked output torch.Size([3, 16256])\n",
      "fc ouput torch.Size([3, 32])\n",
      "logits torch.Size([3, 2])\n",
      "classifier ouput torch.Size([3, 2])\n",
      "-----------------Loss: 0.6534852385520935-----------------------\n",
      "------BATCH ENDING-------\n",
      "--------------------------------------------------\n",
      "[tensor([ 34,  35, 100])]\n",
      "feature shape torch.Size([3, 254, 1, 112, 112])\n",
      "reshape input torch.Size([762, 1, 112, 112])\n",
      "CNN ouput torch.Size([762, 512])\n",
      "reshaped rnn_in torch.Size([3, 254, 512])\n",
      "RNN ouput torch.Size([3, 254, 64])\n"
     ]
    },
    {
     "name": "stderr",
     "output_type": "stream",
     "text": [
      "  6%|████▊                                                                              | 9/155 [00:01<00:22,  6.57it/s]"
     ]
    },
    {
     "name": "stdout",
     "output_type": "stream",
     "text": [
      "mask ouput torch.Size([3, 254, 64])\n",
      "reshaped masked output torch.Size([3, 16256])\n",
      "fc ouput torch.Size([3, 32])\n",
      "logits torch.Size([3, 2])\n",
      "classifier ouput torch.Size([3, 2])\n",
      "-----------------Loss: 0.5961856842041016-----------------------\n",
      "------BATCH ENDING-------\n",
      "--------------------------------------------------\n",
      "[tensor([ 34,  90, 172])]\n",
      "feature shape torch.Size([3, 254, 1, 112, 112])\n",
      "reshape input torch.Size([762, 1, 112, 112])\n",
      "CNN ouput torch.Size([762, 512])\n",
      "reshaped rnn_in torch.Size([3, 254, 512])\n",
      "RNN ouput torch.Size([3, 254, 64])\n",
      "mask ouput torch.Size([3, 254, 64])\n",
      "reshaped masked output torch.Size([3, 16256])\n",
      "fc ouput torch.Size([3, 32])\n",
      "logits torch.Size([3, 2])\n",
      "classifier ouput torch.Size([3, 2])\n",
      "-----------------Loss: 0.6293140053749084-----------------------\n",
      "------BATCH ENDING-------\n",
      "--------------------------------------------------\n",
      "[tensor([22, 34, 34])]\n",
      "feature shape torch.Size([3, 254, 1, 112, 112])\n",
      "reshape input torch.Size([762, 1, 112, 112])\n",
      "CNN ouput torch.Size([762, 512])\n",
      "reshaped rnn_in torch.Size([3, 254, 512])\n",
      "RNN ouput torch.Size([3, 254, 64])\n"
     ]
    },
    {
     "name": "stderr",
     "output_type": "stream",
     "text": [
      "  7%|█████▊                                                                            | 11/155 [00:01<00:21,  6.80it/s]"
     ]
    },
    {
     "name": "stdout",
     "output_type": "stream",
     "text": [
      "mask ouput torch.Size([3, 254, 64])\n",
      "reshaped masked output torch.Size([3, 16256])\n",
      "fc ouput torch.Size([3, 32])\n",
      "logits torch.Size([3, 2])\n",
      "classifier ouput torch.Size([3, 2])\n",
      "-----------------Loss: 0.6988954544067383-----------------------\n",
      "------BATCH ENDING-------\n",
      "--------------------------------------------------\n",
      "[tensor([109,  16, 101])]\n",
      "feature shape torch.Size([3, 254, 1, 112, 112])\n",
      "reshape input torch.Size([762, 1, 112, 112])\n",
      "CNN ouput torch.Size([762, 512])\n",
      "reshaped rnn_in torch.Size([3, 254, 512])\n",
      "RNN ouput torch.Size([3, 254, 64])\n",
      "mask ouput torch.Size([3, 254, 64])\n",
      "reshaped masked output torch.Size([3, 16256])\n",
      "fc ouput torch.Size([3, 32])\n",
      "logits torch.Size([3, 2])\n",
      "classifier ouput torch.Size([3, 2])\n",
      "-----------------Loss: 0.5001499056816101-----------------------\n",
      "------BATCH ENDING-------\n",
      "--------------------------------------------------\n",
      "[tensor([106,  96,  35])]\n",
      "feature shape torch.Size([3, 254, 1, 112, 112])\n",
      "reshape input torch.Size([762, 1, 112, 112])\n",
      "CNN ouput torch.Size([762, 512])\n",
      "reshaped rnn_in torch.Size([3, 254, 512])\n",
      "RNN ouput torch.Size([3, 254, 64])\n"
     ]
    },
    {
     "name": "stderr",
     "output_type": "stream",
     "text": [
      "  8%|██████▉                                                                           | 13/155 [00:02<00:20,  6.83it/s]"
     ]
    },
    {
     "name": "stdout",
     "output_type": "stream",
     "text": [
      "mask ouput torch.Size([3, 254, 64])\n",
      "reshaped masked output torch.Size([3, 16256])\n",
      "fc ouput torch.Size([3, 32])\n",
      "logits torch.Size([3, 2])\n",
      "classifier ouput torch.Size([3, 2])\n",
      "-----------------Loss: 0.5292489528656006-----------------------\n",
      "------BATCH ENDING-------\n",
      "--------------------------------------------------\n",
      "[tensor([ 36, 106,  32])]\n",
      "feature shape torch.Size([3, 254, 1, 112, 112])\n",
      "reshape input torch.Size([762, 1, 112, 112])\n",
      "CNN ouput torch.Size([762, 512])\n",
      "reshaped rnn_in torch.Size([3, 254, 512])\n",
      "RNN ouput torch.Size([3, 254, 64])\n",
      "mask ouput torch.Size([3, 254, 64])\n",
      "reshaped masked output torch.Size([3, 16256])\n",
      "fc ouput torch.Size([3, 32])\n",
      "logits torch.Size([3, 2])\n",
      "classifier ouput torch.Size([3, 2])\n",
      "-----------------Loss: 0.5672762393951416-----------------------\n",
      "------BATCH ENDING-------\n",
      "--------------------------------------------------\n",
      "[tensor([17, 35, 16])]\n",
      "feature shape torch.Size([3, 254, 1, 112, 112])\n",
      "reshape input torch.Size([762, 1, 112, 112])\n",
      "CNN ouput torch.Size([762, 512])\n",
      "reshaped rnn_in torch.Size([3, 254, 512])\n",
      "RNN ouput torch.Size([3, 254, 64])\n"
     ]
    },
    {
     "name": "stderr",
     "output_type": "stream",
     "text": [
      " 10%|███████▉                                                                          | 15/155 [00:02<00:20,  6.75it/s]"
     ]
    },
    {
     "name": "stdout",
     "output_type": "stream",
     "text": [
      "mask ouput torch.Size([3, 254, 64])\n",
      "reshaped masked output torch.Size([3, 16256])\n",
      "fc ouput torch.Size([3, 32])\n",
      "logits torch.Size([3, 2])\n",
      "classifier ouput torch.Size([3, 2])\n",
      "-----------------Loss: 0.6745803952217102-----------------------\n",
      "------BATCH ENDING-------\n",
      "--------------------------------------------------\n",
      "[tensor([ 19, 199, 106])]\n",
      "feature shape torch.Size([3, 254, 1, 112, 112])\n",
      "reshape input torch.Size([762, 1, 112, 112])\n",
      "CNN ouput torch.Size([762, 512])\n",
      "reshaped rnn_in torch.Size([3, 254, 512])\n",
      "RNN ouput torch.Size([3, 254, 64])\n",
      "mask ouput torch.Size([3, 254, 64])\n",
      "reshaped masked output torch.Size([3, 16256])\n",
      "fc ouput torch.Size([3, 32])\n",
      "logits torch.Size([3, 2])\n",
      "classifier ouput torch.Size([3, 2])\n",
      "-----------------Loss: 0.7137055397033691-----------------------\n",
      "------BATCH ENDING-------\n",
      "--------------------------------------------------\n",
      "[tensor([ 33,  31, 177])]\n",
      "feature shape torch.Size([3, 254, 1, 112, 112])\n",
      "reshape input torch.Size([762, 1, 112, 112])\n",
      "CNN ouput torch.Size([762, 512])\n",
      "reshaped rnn_in torch.Size([3, 254, 512])\n",
      "RNN ouput torch.Size([3, 254, 64])\n"
     ]
    },
    {
     "name": "stderr",
     "output_type": "stream",
     "text": [
      " 11%|████████▉                                                                         | 17/155 [00:02<00:20,  6.88it/s]"
     ]
    },
    {
     "name": "stdout",
     "output_type": "stream",
     "text": [
      "mask ouput torch.Size([3, 254, 64])\n",
      "reshaped masked output torch.Size([3, 16256])\n",
      "fc ouput torch.Size([3, 32])\n",
      "logits torch.Size([3, 2])\n",
      "classifier ouput torch.Size([3, 2])\n",
      "-----------------Loss: 0.5230905413627625-----------------------\n",
      "------BATCH ENDING-------\n",
      "--------------------------------------------------\n",
      "[tensor([100, 103,  35])]\n",
      "feature shape torch.Size([3, 254, 1, 112, 112])\n",
      "reshape input torch.Size([762, 1, 112, 112])\n",
      "CNN ouput torch.Size([762, 512])\n",
      "reshaped rnn_in torch.Size([3, 254, 512])\n",
      "RNN ouput torch.Size([3, 254, 64])\n",
      "mask ouput torch.Size([3, 254, 64])\n",
      "reshaped masked output torch.Size([3, 16256])\n",
      "fc ouput torch.Size([3, 32])\n",
      "logits torch.Size([3, 2])\n",
      "classifier ouput torch.Size([3, 2])\n",
      "-----------------Loss: 0.5403081178665161-----------------------\n",
      "------BATCH ENDING-------\n",
      "--------------------------------------------------\n",
      "[tensor([18, 16, 18])]\n",
      "feature shape torch.Size([3, 254, 1, 112, 112])\n",
      "reshape input torch.Size([762, 1, 112, 112])\n",
      "CNN ouput torch.Size([762, 512])\n",
      "reshaped rnn_in torch.Size([3, 254, 512])\n",
      "RNN ouput torch.Size([3, 254, 64])\n"
     ]
    },
    {
     "name": "stderr",
     "output_type": "stream",
     "text": [
      " 12%|██████████                                                                        | 19/155 [00:03<00:19,  6.92it/s]"
     ]
    },
    {
     "name": "stdout",
     "output_type": "stream",
     "text": [
      "mask ouput torch.Size([3, 254, 64])\n",
      "reshaped masked output torch.Size([3, 16256])\n",
      "fc ouput torch.Size([3, 32])\n",
      "logits torch.Size([3, 2])\n",
      "classifier ouput torch.Size([3, 2])\n",
      "-----------------Loss: 0.7024784684181213-----------------------\n",
      "------BATCH ENDING-------\n",
      "--------------------------------------------------\n",
      "[tensor([31, 98, 52])]\n",
      "feature shape torch.Size([3, 254, 1, 112, 112])\n",
      "reshape input torch.Size([762, 1, 112, 112])\n",
      "CNN ouput torch.Size([762, 512])\n",
      "reshaped rnn_in torch.Size([3, 254, 512])\n",
      "RNN ouput torch.Size([3, 254, 64])\n",
      "mask ouput torch.Size([3, 254, 64])\n",
      "reshaped masked output torch.Size([3, 16256])\n",
      "fc ouput torch.Size([3, 32])\n",
      "logits torch.Size([3, 2])\n",
      "classifier ouput torch.Size([3, 2])\n",
      "-----------------Loss: 0.6511891484260559-----------------------\n",
      "------BATCH ENDING-------\n",
      "--------------------------------------------------\n",
      "[tensor([35, 31, 31])]\n",
      "feature shape torch.Size([3, 254, 1, 112, 112])\n",
      "reshape input torch.Size([762, 1, 112, 112])\n",
      "CNN ouput torch.Size([762, 512])\n",
      "reshaped rnn_in torch.Size([3, 254, 512])\n",
      "RNN ouput torch.Size([3, 254, 64])\n"
     ]
    },
    {
     "name": "stderr",
     "output_type": "stream",
     "text": [
      " 14%|███████████                                                                       | 21/155 [00:03<00:19,  6.94it/s]"
     ]
    },
    {
     "name": "stdout",
     "output_type": "stream",
     "text": [
      "mask ouput torch.Size([3, 254, 64])\n",
      "reshaped masked output torch.Size([3, 16256])\n",
      "fc ouput torch.Size([3, 32])\n",
      "logits torch.Size([3, 2])\n",
      "classifier ouput torch.Size([3, 2])\n",
      "-----------------Loss: 0.7193391919136047-----------------------\n",
      "------BATCH ENDING-------\n",
      "--------------------------------------------------\n",
      "[tensor([16, 92, 31])]\n",
      "feature shape torch.Size([3, 254, 1, 112, 112])\n",
      "reshape input torch.Size([762, 1, 112, 112])\n",
      "CNN ouput torch.Size([762, 512])\n",
      "reshaped rnn_in torch.Size([3, 254, 512])\n",
      "RNN ouput torch.Size([3, 254, 64])\n",
      "mask ouput torch.Size([3, 254, 64])\n",
      "reshaped masked output torch.Size([3, 16256])\n",
      "fc ouput torch.Size([3, 32])\n",
      "logits torch.Size([3, 2])\n",
      "classifier ouput torch.Size([3, 2])\n",
      "-----------------Loss: 0.6375203132629395-----------------------\n",
      "------BATCH ENDING-------\n",
      "--------------------------------------------------\n",
      "[tensor([32, 52, 13])]\n",
      "feature shape torch.Size([3, 254, 1, 112, 112])\n",
      "reshape input torch.Size([762, 1, 112, 112])\n",
      "CNN ouput torch.Size([762, 512])\n",
      "reshaped rnn_in torch.Size([3, 254, 512])\n",
      "RNN ouput torch.Size([3, 254, 64])\n"
     ]
    },
    {
     "name": "stderr",
     "output_type": "stream",
     "text": [
      " 15%|████████████▏                                                                     | 23/155 [00:03<00:19,  6.93it/s]"
     ]
    },
    {
     "name": "stdout",
     "output_type": "stream",
     "text": [
      "mask ouput torch.Size([3, 254, 64])\n",
      "reshaped masked output torch.Size([3, 16256])\n",
      "fc ouput torch.Size([3, 32])\n",
      "logits torch.Size([3, 2])\n",
      "classifier ouput torch.Size([3, 2])\n",
      "-----------------Loss: 0.6342766880989075-----------------------\n",
      "------BATCH ENDING-------\n",
      "--------------------------------------------------\n",
      "[tensor([98, 16, 40])]\n",
      "feature shape torch.Size([3, 254, 1, 112, 112])\n",
      "reshape input torch.Size([762, 1, 112, 112])\n",
      "CNN ouput torch.Size([762, 512])\n",
      "reshaped rnn_in torch.Size([3, 254, 512])\n",
      "RNN ouput torch.Size([3, 254, 64])\n",
      "mask ouput torch.Size([3, 254, 64])\n",
      "reshaped masked output torch.Size([3, 16256])\n",
      "fc ouput torch.Size([3, 32])\n",
      "logits torch.Size([3, 2])\n",
      "classifier ouput torch.Size([3, 2])\n",
      "-----------------Loss: 0.7715293765068054-----------------------\n",
      "------BATCH ENDING-------\n",
      "--------------------------------------------------\n",
      "[tensor([14, 32, 97])]\n",
      "feature shape torch.Size([3, 254, 1, 112, 112])\n",
      "reshape input torch.Size([762, 1, 112, 112])\n",
      "CNN ouput torch.Size([762, 512])\n",
      "reshaped rnn_in torch.Size([3, 254, 512])\n",
      "RNN ouput torch.Size([3, 254, 64])\n"
     ]
    },
    {
     "name": "stderr",
     "output_type": "stream",
     "text": [
      " 16%|█████████████▏                                                                    | 25/155 [00:04<00:18,  6.89it/s]"
     ]
    },
    {
     "name": "stdout",
     "output_type": "stream",
     "text": [
      "mask ouput torch.Size([3, 254, 64])\n",
      "reshaped masked output torch.Size([3, 16256])\n",
      "fc ouput torch.Size([3, 32])\n",
      "logits torch.Size([3, 2])\n",
      "classifier ouput torch.Size([3, 2])\n",
      "-----------------Loss: 0.8030145764350891-----------------------\n",
      "------BATCH ENDING-------\n",
      "--------------------------------------------------\n",
      "[tensor([96, 40, 14])]\n",
      "feature shape torch.Size([3, 254, 1, 112, 112])\n",
      "reshape input torch.Size([762, 1, 112, 112])\n",
      "CNN ouput torch.Size([762, 512])\n",
      "reshaped rnn_in torch.Size([3, 254, 512])\n",
      "RNN ouput torch.Size([3, 254, 64])\n",
      "mask ouput torch.Size([3, 254, 64])\n",
      "reshaped masked output torch.Size([3, 16256])\n",
      "fc ouput torch.Size([3, 32])\n",
      "logits torch.Size([3, 2])\n",
      "classifier ouput torch.Size([3, 2])\n",
      "-----------------Loss: 0.6160690784454346-----------------------\n",
      "------BATCH ENDING-------\n",
      "--------------------------------------------------\n",
      "[tensor([102,  33,  24])]\n",
      "feature shape torch.Size([3, 254, 1, 112, 112])\n",
      "reshape input torch.Size([762, 1, 112, 112])\n",
      "CNN ouput torch.Size([762, 512])\n",
      "reshaped rnn_in torch.Size([3, 254, 512])\n",
      "RNN ouput torch.Size([3, 254, 64])\n"
     ]
    },
    {
     "name": "stderr",
     "output_type": "stream",
     "text": [
      " 17%|██████████████▎                                                                   | 27/155 [00:04<00:19,  6.73it/s]"
     ]
    },
    {
     "name": "stdout",
     "output_type": "stream",
     "text": [
      "mask ouput torch.Size([3, 254, 64])\n",
      "reshaped masked output torch.Size([3, 16256])\n",
      "fc ouput torch.Size([3, 32])\n",
      "logits torch.Size([3, 2])\n",
      "classifier ouput torch.Size([3, 2])\n",
      "-----------------Loss: 0.8435955047607422-----------------------\n",
      "------BATCH ENDING-------\n",
      "--------------------------------------------------\n",
      "[tensor([ 32, 194,  48])]\n",
      "feature shape torch.Size([3, 254, 1, 112, 112])\n",
      "reshape input torch.Size([762, 1, 112, 112])\n",
      "CNN ouput torch.Size([762, 512])\n",
      "reshaped rnn_in torch.Size([3, 254, 512])\n",
      "RNN ouput torch.Size([3, 254, 64])\n",
      "mask ouput torch.Size([3, 254, 64])\n",
      "reshaped masked output torch.Size([3, 16256])\n",
      "fc ouput torch.Size([3, 32])\n",
      "logits torch.Size([3, 2])\n",
      "classifier ouput torch.Size([3, 2])\n",
      "-----------------Loss: 0.5901106595993042-----------------------\n",
      "------BATCH ENDING-------\n",
      "--------------------------------------------------\n",
      "[tensor([101, 105,  10])]\n",
      "feature shape torch.Size([3, 254, 1, 112, 112])\n",
      "reshape input torch.Size([762, 1, 112, 112])\n",
      "CNN ouput torch.Size([762, 512])\n",
      "reshaped rnn_in torch.Size([3, 254, 512])\n",
      "RNN ouput torch.Size([3, 254, 64])\n"
     ]
    },
    {
     "name": "stderr",
     "output_type": "stream",
     "text": [
      " 19%|███████████████▎                                                                  | 29/155 [00:04<00:18,  6.85it/s]"
     ]
    },
    {
     "name": "stdout",
     "output_type": "stream",
     "text": [
      "mask ouput torch.Size([3, 254, 64])\n",
      "reshaped masked output torch.Size([3, 16256])\n",
      "fc ouput torch.Size([3, 32])\n",
      "logits torch.Size([3, 2])\n",
      "classifier ouput torch.Size([3, 2])\n",
      "-----------------Loss: 0.7961189150810242-----------------------\n",
      "------BATCH ENDING-------\n",
      "--------------------------------------------------\n",
      "[tensor([34, 30, 35])]\n",
      "feature shape torch.Size([3, 254, 1, 112, 112])\n",
      "reshape input torch.Size([762, 1, 112, 112])\n",
      "CNN ouput torch.Size([762, 512])\n",
      "reshaped rnn_in torch.Size([3, 254, 512])\n",
      "RNN ouput torch.Size([3, 254, 64])\n",
      "mask ouput torch.Size([3, 254, 64])\n",
      "reshaped masked output torch.Size([3, 16256])\n",
      "fc ouput torch.Size([3, 32])\n",
      "logits torch.Size([3, 2])\n",
      "classifier ouput torch.Size([3, 2])\n",
      "-----------------Loss: 0.6963474154472351-----------------------\n",
      "------BATCH ENDING-------\n",
      "--------------------------------------------------\n",
      "[tensor([31, 96, 34])]\n",
      "feature shape torch.Size([3, 254, 1, 112, 112])\n",
      "reshape input torch.Size([762, 1, 112, 112])\n",
      "CNN ouput torch.Size([762, 512])\n",
      "reshaped rnn_in torch.Size([3, 254, 512])\n",
      "RNN ouput torch.Size([3, 254, 64])\n"
     ]
    },
    {
     "name": "stderr",
     "output_type": "stream",
     "text": [
      " 20%|████████████████▍                                                                 | 31/155 [00:04<00:18,  6.88it/s]"
     ]
    },
    {
     "name": "stdout",
     "output_type": "stream",
     "text": [
      "mask ouput torch.Size([3, 254, 64])\n",
      "reshaped masked output torch.Size([3, 16256])\n",
      "fc ouput torch.Size([3, 32])\n",
      "logits torch.Size([3, 2])\n",
      "classifier ouput torch.Size([3, 2])\n",
      "-----------------Loss: 0.6280315518379211-----------------------\n",
      "------BATCH ENDING-------\n",
      "--------------------------------------------------\n",
      "[tensor([97, 19, 33])]\n",
      "feature shape torch.Size([3, 254, 1, 112, 112])\n",
      "reshape input torch.Size([762, 1, 112, 112])\n",
      "CNN ouput torch.Size([762, 512])\n",
      "reshaped rnn_in torch.Size([3, 254, 512])\n",
      "RNN ouput torch.Size([3, 254, 64])\n",
      "mask ouput torch.Size([3, 254, 64])\n",
      "reshaped masked output torch.Size([3, 16256])\n",
      "fc ouput torch.Size([3, 32])\n",
      "logits torch.Size([3, 2])\n",
      "classifier ouput torch.Size([3, 2])\n",
      "-----------------Loss: 0.719076931476593-----------------------\n",
      "------BATCH ENDING-------\n",
      "--------------------------------------------------\n",
      "[tensor([36, 21, 33])]\n",
      "feature shape torch.Size([3, 254, 1, 112, 112])\n",
      "reshape input torch.Size([762, 1, 112, 112])\n",
      "CNN ouput torch.Size([762, 512])\n",
      "reshaped rnn_in torch.Size([3, 254, 512])\n",
      "RNN ouput torch.Size([3, 254, 64])\n"
     ]
    },
    {
     "name": "stderr",
     "output_type": "stream",
     "text": [
      " 21%|█████████████████▍                                                                | 33/155 [00:05<00:17,  6.91it/s]"
     ]
    },
    {
     "name": "stdout",
     "output_type": "stream",
     "text": [
      "mask ouput torch.Size([3, 254, 64])\n",
      "reshaped masked output torch.Size([3, 16256])\n",
      "fc ouput torch.Size([3, 32])\n",
      "logits torch.Size([3, 2])\n",
      "classifier ouput torch.Size([3, 2])\n",
      "-----------------Loss: 0.6706362366676331-----------------------\n",
      "------BATCH ENDING-------\n",
      "--------------------------------------------------\n",
      "[tensor([ 33,  51, 102])]\n",
      "feature shape torch.Size([3, 254, 1, 112, 112])\n",
      "reshape input torch.Size([762, 1, 112, 112])\n",
      "CNN ouput torch.Size([762, 512])\n",
      "reshaped rnn_in torch.Size([3, 254, 512])\n",
      "RNN ouput torch.Size([3, 254, 64])\n",
      "mask ouput torch.Size([3, 254, 64])\n",
      "reshaped masked output torch.Size([3, 16256])\n",
      "fc ouput torch.Size([3, 32])\n",
      "logits torch.Size([3, 2])\n",
      "classifier ouput torch.Size([3, 2])\n",
      "-----------------Loss: 0.6543201804161072-----------------------\n",
      "------BATCH ENDING-------\n",
      "--------------------------------------------------\n",
      "[tensor([35, 35, 34])]\n",
      "feature shape torch.Size([3, 254, 1, 112, 112])\n",
      "reshape input torch.Size([762, 1, 112, 112])\n",
      "CNN ouput torch.Size([762, 512])\n",
      "reshaped rnn_in torch.Size([3, 254, 512])\n",
      "RNN ouput torch.Size([3, 254, 64])\n"
     ]
    },
    {
     "name": "stderr",
     "output_type": "stream",
     "text": [
      " 23%|██████████████████▌                                                               | 35/155 [00:05<00:17,  6.86it/s]"
     ]
    },
    {
     "name": "stdout",
     "output_type": "stream",
     "text": [
      "mask ouput torch.Size([3, 254, 64])\n",
      "reshaped masked output torch.Size([3, 16256])\n",
      "fc ouput torch.Size([3, 32])\n",
      "logits torch.Size([3, 2])\n",
      "classifier ouput torch.Size([3, 2])\n",
      "-----------------Loss: 0.6864287853240967-----------------------\n",
      "------BATCH ENDING-------\n",
      "--------------------------------------------------\n",
      "[tensor([ 35, 213,  99])]\n",
      "feature shape torch.Size([3, 254, 1, 112, 112])\n",
      "reshape input torch.Size([762, 1, 112, 112])\n",
      "CNN ouput torch.Size([762, 512])\n",
      "reshaped rnn_in torch.Size([3, 254, 512])\n",
      "RNN ouput torch.Size([3, 254, 64])\n",
      "mask ouput torch.Size([3, 254, 64])\n",
      "reshaped masked output torch.Size([3, 16256])\n",
      "fc ouput torch.Size([3, 32])\n",
      "logits torch.Size([3, 2])\n",
      "classifier ouput torch.Size([3, 2])\n",
      "-----------------Loss: 0.4278916120529175-----------------------\n",
      "------BATCH ENDING-------\n",
      "--------------------------------------------------\n",
      "[tensor([54, 33, 37])]\n",
      "feature shape torch.Size([3, 254, 1, 112, 112])\n",
      "reshape input torch.Size([762, 1, 112, 112])\n",
      "CNN ouput torch.Size([762, 512])\n",
      "reshaped rnn_in torch.Size([3, 254, 512])\n",
      "RNN ouput torch.Size([3, 254, 64])\n"
     ]
    },
    {
     "name": "stderr",
     "output_type": "stream",
     "text": [
      " 24%|███████████████████▌                                                              | 37/155 [00:05<00:17,  6.91it/s]"
     ]
    },
    {
     "name": "stdout",
     "output_type": "stream",
     "text": [
      "mask ouput torch.Size([3, 254, 64])\n",
      "reshaped masked output torch.Size([3, 16256])\n",
      "fc ouput torch.Size([3, 32])\n",
      "logits torch.Size([3, 2])\n",
      "classifier ouput torch.Size([3, 2])\n",
      "-----------------Loss: 0.6407622694969177-----------------------\n",
      "------BATCH ENDING-------\n",
      "--------------------------------------------------\n",
      "[tensor([ 49, 106,  34])]\n",
      "feature shape torch.Size([3, 254, 1, 112, 112])\n",
      "reshape input torch.Size([762, 1, 112, 112])\n",
      "CNN ouput torch.Size([762, 512])\n",
      "reshaped rnn_in torch.Size([3, 254, 512])\n",
      "RNN ouput torch.Size([3, 254, 64])\n",
      "mask ouput torch.Size([3, 254, 64])\n",
      "reshaped masked output torch.Size([3, 16256])\n",
      "fc ouput torch.Size([3, 32])\n",
      "logits torch.Size([3, 2])\n",
      "classifier ouput torch.Size([3, 2])\n",
      "-----------------Loss: 0.602838933467865-----------------------\n",
      "------BATCH ENDING-------\n",
      "--------------------------------------------------\n",
      "[tensor([ 35,  33, 189])]\n",
      "feature shape torch.Size([3, 254, 1, 112, 112])\n",
      "reshape input torch.Size([762, 1, 112, 112])\n",
      "CNN ouput torch.Size([762, 512])\n",
      "reshaped rnn_in torch.Size([3, 254, 512])\n",
      "RNN ouput torch.Size([3, 254, 64])\n"
     ]
    },
    {
     "name": "stderr",
     "output_type": "stream",
     "text": [
      " 25%|████████████████████▋                                                             | 39/155 [00:06<00:16,  6.95it/s]"
     ]
    },
    {
     "name": "stdout",
     "output_type": "stream",
     "text": [
      "mask ouput torch.Size([3, 254, 64])\n",
      "reshaped masked output torch.Size([3, 16256])\n",
      "fc ouput torch.Size([3, 32])\n",
      "logits torch.Size([3, 2])\n",
      "classifier ouput torch.Size([3, 2])\n",
      "-----------------Loss: 0.7736926078796387-----------------------\n",
      "------BATCH ENDING-------\n",
      "--------------------------------------------------\n",
      "[tensor([ 51,  17, 226])]\n",
      "feature shape torch.Size([3, 254, 1, 112, 112])\n",
      "reshape input torch.Size([762, 1, 112, 112])\n",
      "CNN ouput torch.Size([762, 512])\n",
      "reshaped rnn_in torch.Size([3, 254, 512])\n",
      "RNN ouput torch.Size([3, 254, 64])\n",
      "mask ouput torch.Size([3, 254, 64])\n",
      "reshaped masked output torch.Size([3, 16256])\n",
      "fc ouput torch.Size([3, 32])\n",
      "logits torch.Size([3, 2])\n",
      "classifier ouput torch.Size([3, 2])\n",
      "-----------------Loss: 0.6863713264465332-----------------------\n",
      "------BATCH ENDING-------\n",
      "--------------------------------------------------\n",
      "[tensor([106, 111,  35])]\n",
      "feature shape torch.Size([3, 254, 1, 112, 112])\n",
      "reshape input torch.Size([762, 1, 112, 112])\n",
      "CNN ouput torch.Size([762, 512])\n",
      "reshaped rnn_in torch.Size([3, 254, 512])\n",
      "RNN ouput torch.Size([3, 254, 64])\n"
     ]
    },
    {
     "name": "stderr",
     "output_type": "stream",
     "text": [
      " 26%|█████████████████████▋                                                            | 41/155 [00:06<00:16,  6.93it/s]"
     ]
    },
    {
     "name": "stdout",
     "output_type": "stream",
     "text": [
      "mask ouput torch.Size([3, 254, 64])\n",
      "reshaped masked output torch.Size([3, 16256])\n",
      "fc ouput torch.Size([3, 32])\n",
      "logits torch.Size([3, 2])\n",
      "classifier ouput torch.Size([3, 2])\n",
      "-----------------Loss: 0.4809662401676178-----------------------\n",
      "------BATCH ENDING-------\n",
      "--------------------------------------------------\n",
      "[tensor([33, 34, 34])]\n",
      "feature shape torch.Size([3, 254, 1, 112, 112])\n",
      "reshape input torch.Size([762, 1, 112, 112])\n",
      "CNN ouput torch.Size([762, 512])\n",
      "reshaped rnn_in torch.Size([3, 254, 512])\n",
      "RNN ouput torch.Size([3, 254, 64])\n",
      "mask ouput torch.Size([3, 254, 64])\n",
      "reshaped masked output torch.Size([3, 16256])\n",
      "fc ouput torch.Size([3, 32])\n",
      "logits torch.Size([3, 2])\n",
      "classifier ouput torch.Size([3, 2])\n",
      "-----------------Loss: 0.6616430878639221-----------------------\n",
      "------BATCH ENDING-------\n",
      "--------------------------------------------------\n",
      "[tensor([ 33, 189,  33])]\n",
      "feature shape torch.Size([3, 254, 1, 112, 112])\n",
      "reshape input torch.Size([762, 1, 112, 112])\n",
      "CNN ouput torch.Size([762, 512])\n",
      "reshaped rnn_in torch.Size([3, 254, 512])\n",
      "RNN ouput torch.Size([3, 254, 64])\n"
     ]
    },
    {
     "name": "stderr",
     "output_type": "stream",
     "text": [
      " 28%|██████████████████████▋                                                           | 43/155 [00:06<00:16,  6.90it/s]"
     ]
    },
    {
     "name": "stdout",
     "output_type": "stream",
     "text": [
      "mask ouput torch.Size([3, 254, 64])\n",
      "reshaped masked output torch.Size([3, 16256])\n",
      "fc ouput torch.Size([3, 32])\n",
      "logits torch.Size([3, 2])\n",
      "classifier ouput torch.Size([3, 2])\n",
      "-----------------Loss: 0.47275543212890625-----------------------\n",
      "------BATCH ENDING-------\n",
      "--------------------------------------------------\n",
      "[tensor([34, 35, 31])]\n",
      "feature shape torch.Size([3, 254, 1, 112, 112])\n",
      "reshape input torch.Size([762, 1, 112, 112])\n",
      "CNN ouput torch.Size([762, 512])\n",
      "reshaped rnn_in torch.Size([3, 254, 512])\n",
      "RNN ouput torch.Size([3, 254, 64])\n",
      "mask ouput torch.Size([3, 254, 64])\n",
      "reshaped masked output torch.Size([3, 16256])\n",
      "fc ouput torch.Size([3, 32])\n",
      "logits torch.Size([3, 2])\n",
      "classifier ouput torch.Size([3, 2])\n",
      "-----------------Loss: 0.6703934669494629-----------------------\n",
      "------BATCH ENDING-------\n",
      "--------------------------------------------------\n",
      "[tensor([ 95, 106,  96])]\n",
      "feature shape torch.Size([3, 254, 1, 112, 112])\n",
      "reshape input torch.Size([762, 1, 112, 112])\n",
      "CNN ouput torch.Size([762, 512])\n",
      "reshaped rnn_in torch.Size([3, 254, 512])\n",
      "RNN ouput torch.Size([3, 254, 64])\n"
     ]
    },
    {
     "name": "stderr",
     "output_type": "stream",
     "text": [
      " 29%|███████████████████████▊                                                          | 45/155 [00:06<00:15,  6.90it/s]"
     ]
    },
    {
     "name": "stdout",
     "output_type": "stream",
     "text": [
      "mask ouput torch.Size([3, 254, 64])\n",
      "reshaped masked output torch.Size([3, 16256])\n",
      "fc ouput torch.Size([3, 32])\n",
      "logits torch.Size([3, 2])\n",
      "classifier ouput torch.Size([3, 2])\n",
      "-----------------Loss: 0.5592474341392517-----------------------\n",
      "------BATCH ENDING-------\n",
      "--------------------------------------------------\n",
      "[tensor([17, 31, 53])]\n",
      "feature shape torch.Size([3, 254, 1, 112, 112])\n",
      "reshape input torch.Size([762, 1, 112, 112])\n",
      "CNN ouput torch.Size([762, 512])\n",
      "reshaped rnn_in torch.Size([3, 254, 512])\n",
      "RNN ouput torch.Size([3, 254, 64])\n",
      "mask ouput torch.Size([3, 254, 64])\n",
      "reshaped masked output torch.Size([3, 16256])\n",
      "fc ouput torch.Size([3, 32])\n",
      "logits torch.Size([3, 2])\n",
      "classifier ouput torch.Size([3, 2])\n",
      "-----------------Loss: 0.6849669814109802-----------------------\n",
      "------BATCH ENDING-------\n",
      "--------------------------------------------------\n",
      "[tensor([ 17, 107,  15])]\n",
      "feature shape torch.Size([3, 254, 1, 112, 112])\n",
      "reshape input torch.Size([762, 1, 112, 112])\n",
      "CNN ouput torch.Size([762, 512])\n",
      "reshaped rnn_in torch.Size([3, 254, 512])\n",
      "RNN ouput torch.Size([3, 254, 64])\n"
     ]
    },
    {
     "name": "stderr",
     "output_type": "stream",
     "text": [
      " 30%|████████████████████████▊                                                         | 47/155 [00:07<00:15,  6.88it/s]"
     ]
    },
    {
     "name": "stdout",
     "output_type": "stream",
     "text": [
      "mask ouput torch.Size([3, 254, 64])\n",
      "reshaped masked output torch.Size([3, 16256])\n",
      "fc ouput torch.Size([3, 32])\n",
      "logits torch.Size([3, 2])\n",
      "classifier ouput torch.Size([3, 2])\n",
      "-----------------Loss: 0.5536908507347107-----------------------\n",
      "------BATCH ENDING-------\n",
      "--------------------------------------------------\n",
      "[tensor([117,  30, 105])]\n",
      "feature shape torch.Size([3, 254, 1, 112, 112])\n",
      "reshape input torch.Size([762, 1, 112, 112])\n",
      "CNN ouput torch.Size([762, 512])\n",
      "reshaped rnn_in torch.Size([3, 254, 512])\n",
      "RNN ouput torch.Size([3, 254, 64])\n",
      "mask ouput torch.Size([3, 254, 64])\n",
      "reshaped masked output torch.Size([3, 16256])\n",
      "fc ouput torch.Size([3, 32])\n",
      "logits torch.Size([3, 2])\n",
      "classifier ouput torch.Size([3, 2])\n",
      "-----------------Loss: 0.6858099102973938-----------------------\n",
      "------BATCH ENDING-------\n",
      "--------------------------------------------------\n",
      "[tensor([ 35, 114,  32])]\n",
      "feature shape torch.Size([3, 254, 1, 112, 112])\n",
      "reshape input torch.Size([762, 1, 112, 112])\n",
      "CNN ouput torch.Size([762, 512])\n",
      "reshaped rnn_in torch.Size([3, 254, 512])\n",
      "RNN ouput torch.Size([3, 254, 64])\n"
     ]
    },
    {
     "name": "stderr",
     "output_type": "stream",
     "text": [
      " 32%|█████████████████████████▉                                                        | 49/155 [00:07<00:15,  6.79it/s]"
     ]
    },
    {
     "name": "stdout",
     "output_type": "stream",
     "text": [
      "mask ouput torch.Size([3, 254, 64])\n",
      "reshaped masked output torch.Size([3, 16256])\n",
      "fc ouput torch.Size([3, 32])\n",
      "logits torch.Size([3, 2])\n",
      "classifier ouput torch.Size([3, 2])\n",
      "-----------------Loss: 0.6306584477424622-----------------------\n",
      "------BATCH ENDING-------\n",
      "--------------------------------------------------\n",
      "[tensor([ 17,  32, 109])]\n",
      "feature shape torch.Size([3, 254, 1, 112, 112])\n",
      "reshape input torch.Size([762, 1, 112, 112])\n",
      "CNN ouput torch.Size([762, 512])\n",
      "reshaped rnn_in torch.Size([3, 254, 512])\n",
      "RNN ouput torch.Size([3, 254, 64])\n",
      "mask ouput torch.Size([3, 254, 64])\n",
      "reshaped masked output torch.Size([3, 16256])\n",
      "fc ouput torch.Size([3, 32])\n",
      "logits torch.Size([3, 2])\n",
      "classifier ouput torch.Size([3, 2])\n",
      "-----------------Loss: 0.589981734752655-----------------------\n",
      "------BATCH ENDING-------\n",
      "--------------------------------------------------\n",
      "[tensor([18, 32, 19])]\n",
      "feature shape torch.Size([3, 254, 1, 112, 112])\n",
      "reshape input torch.Size([762, 1, 112, 112])\n",
      "CNN ouput torch.Size([762, 512])\n",
      "reshaped rnn_in torch.Size([3, 254, 512])\n",
      "RNN ouput torch.Size([3, 254, 64])\n"
     ]
    },
    {
     "name": "stderr",
     "output_type": "stream",
     "text": [
      " 33%|██████████████████████████▉                                                       | 51/155 [00:07<00:15,  6.83it/s]"
     ]
    },
    {
     "name": "stdout",
     "output_type": "stream",
     "text": [
      "mask ouput torch.Size([3, 254, 64])\n",
      "reshaped masked output torch.Size([3, 16256])\n",
      "fc ouput torch.Size([3, 32])\n",
      "logits torch.Size([3, 2])\n",
      "classifier ouput torch.Size([3, 2])\n",
      "-----------------Loss: 0.6470111012458801-----------------------\n",
      "------BATCH ENDING-------\n",
      "--------------------------------------------------\n",
      "[tensor([ 34,  33, 106])]\n",
      "feature shape torch.Size([3, 254, 1, 112, 112])\n",
      "reshape input torch.Size([762, 1, 112, 112])\n",
      "CNN ouput torch.Size([762, 512])\n",
      "reshaped rnn_in torch.Size([3, 254, 512])\n",
      "RNN ouput torch.Size([3, 254, 64])\n",
      "mask ouput torch.Size([3, 254, 64])\n",
      "reshaped masked output torch.Size([3, 16256])\n",
      "fc ouput torch.Size([3, 32])\n",
      "logits torch.Size([3, 2])\n",
      "classifier ouput torch.Size([3, 2])\n",
      "-----------------Loss: 0.7958614826202393-----------------------\n",
      "------BATCH ENDING-------\n",
      "--------------------------------------------------\n",
      "[tensor([ 50,  17, 102])]\n",
      "feature shape torch.Size([3, 254, 1, 112, 112])\n",
      "reshape input torch.Size([762, 1, 112, 112])\n",
      "CNN ouput torch.Size([762, 512])\n",
      "reshaped rnn_in torch.Size([3, 254, 512])\n",
      "RNN ouput torch.Size([3, 254, 64])\n"
     ]
    },
    {
     "name": "stderr",
     "output_type": "stream",
     "text": [
      " 34%|████████████████████████████                                                      | 53/155 [00:08<00:14,  6.85it/s]"
     ]
    },
    {
     "name": "stdout",
     "output_type": "stream",
     "text": [
      "mask ouput torch.Size([3, 254, 64])\n",
      "reshaped masked output torch.Size([3, 16256])\n",
      "fc ouput torch.Size([3, 32])\n",
      "logits torch.Size([3, 2])\n",
      "classifier ouput torch.Size([3, 2])\n",
      "-----------------Loss: 0.5698682069778442-----------------------\n",
      "------BATCH ENDING-------\n",
      "--------------------------------------------------\n",
      "[tensor([100,  33, 101])]\n",
      "feature shape torch.Size([3, 254, 1, 112, 112])\n",
      "reshape input torch.Size([762, 1, 112, 112])\n",
      "CNN ouput torch.Size([762, 512])\n",
      "reshaped rnn_in torch.Size([3, 254, 512])\n",
      "RNN ouput torch.Size([3, 254, 64])\n",
      "mask ouput torch.Size([3, 254, 64])\n",
      "reshaped masked output torch.Size([3, 16256])\n",
      "fc ouput torch.Size([3, 32])\n",
      "logits torch.Size([3, 2])\n",
      "classifier ouput torch.Size([3, 2])\n",
      "-----------------Loss: 0.5552944540977478-----------------------\n",
      "------BATCH ENDING-------\n",
      "--------------------------------------------------\n",
      "[tensor([33, 16, 34])]\n",
      "feature shape torch.Size([3, 254, 1, 112, 112])\n",
      "reshape input torch.Size([762, 1, 112, 112])\n",
      "CNN ouput torch.Size([762, 512])\n",
      "reshaped rnn_in torch.Size([3, 254, 512])\n",
      "RNN ouput torch.Size([3, 254, 64])\n"
     ]
    },
    {
     "name": "stderr",
     "output_type": "stream",
     "text": [
      " 35%|█████████████████████████████                                                     | 55/155 [00:08<00:14,  6.74it/s]"
     ]
    },
    {
     "name": "stdout",
     "output_type": "stream",
     "text": [
      "mask ouput torch.Size([3, 254, 64])\n",
      "reshaped masked output torch.Size([3, 16256])\n",
      "fc ouput torch.Size([3, 32])\n",
      "logits torch.Size([3, 2])\n",
      "classifier ouput torch.Size([3, 2])\n",
      "-----------------Loss: 0.6542224884033203-----------------------\n",
      "------BATCH ENDING-------\n",
      "--------------------------------------------------\n",
      "[tensor([ 33, 209, 104])]\n",
      "feature shape torch.Size([3, 254, 1, 112, 112])\n",
      "reshape input torch.Size([762, 1, 112, 112])\n",
      "CNN ouput torch.Size([762, 512])\n",
      "reshaped rnn_in torch.Size([3, 254, 512])\n",
      "RNN ouput torch.Size([3, 254, 64])\n",
      "mask ouput torch.Size([3, 254, 64])\n",
      "reshaped masked output torch.Size([3, 16256])\n",
      "fc ouput torch.Size([3, 32])\n",
      "logits torch.Size([3, 2])\n",
      "classifier ouput torch.Size([3, 2])\n",
      "-----------------Loss: 0.6642320156097412-----------------------\n",
      "------BATCH ENDING-------\n",
      "--------------------------------------------------\n",
      "[tensor([33, 47, 34])]\n",
      "feature shape torch.Size([3, 254, 1, 112, 112])\n",
      "reshape input torch.Size([762, 1, 112, 112])\n",
      "CNN ouput torch.Size([762, 512])\n",
      "reshaped rnn_in torch.Size([3, 254, 512])\n",
      "RNN ouput torch.Size([3, 254, 64])\n"
     ]
    },
    {
     "name": "stderr",
     "output_type": "stream",
     "text": [
      " 37%|██████████████████████████████▏                                                   | 57/155 [00:08<00:14,  6.83it/s]"
     ]
    },
    {
     "name": "stdout",
     "output_type": "stream",
     "text": [
      "mask ouput torch.Size([3, 254, 64])\n",
      "reshaped masked output torch.Size([3, 16256])\n",
      "fc ouput torch.Size([3, 32])\n",
      "logits torch.Size([3, 2])\n",
      "classifier ouput torch.Size([3, 2])\n",
      "-----------------Loss: 0.6537765860557556-----------------------\n",
      "------BATCH ENDING-------\n",
      "--------------------------------------------------\n",
      "[tensor([35, 50, 49])]\n",
      "feature shape torch.Size([3, 254, 1, 112, 112])\n",
      "reshape input torch.Size([762, 1, 112, 112])\n",
      "CNN ouput torch.Size([762, 512])\n",
      "reshaped rnn_in torch.Size([3, 254, 512])\n",
      "RNN ouput torch.Size([3, 254, 64])\n",
      "mask ouput torch.Size([3, 254, 64])\n",
      "reshaped masked output torch.Size([3, 16256])\n",
      "fc ouput torch.Size([3, 32])\n",
      "logits torch.Size([3, 2])\n",
      "classifier ouput torch.Size([3, 2])\n",
      "-----------------Loss: 0.6148557066917419-----------------------\n",
      "------BATCH ENDING-------\n",
      "--------------------------------------------------\n",
      "[tensor([100,  95,  34])]\n",
      "feature shape torch.Size([3, 254, 1, 112, 112])\n",
      "reshape input torch.Size([762, 1, 112, 112])\n",
      "CNN ouput torch.Size([762, 512])\n",
      "reshaped rnn_in torch.Size([3, 254, 512])\n",
      "RNN ouput torch.Size([3, 254, 64])\n"
     ]
    },
    {
     "name": "stderr",
     "output_type": "stream",
     "text": [
      " 38%|███████████████████████████████▏                                                  | 59/155 [00:08<00:13,  6.89it/s]"
     ]
    },
    {
     "name": "stdout",
     "output_type": "stream",
     "text": [
      "mask ouput torch.Size([3, 254, 64])\n",
      "reshaped masked output torch.Size([3, 16256])\n",
      "fc ouput torch.Size([3, 32])\n",
      "logits torch.Size([3, 2])\n",
      "classifier ouput torch.Size([3, 2])\n",
      "-----------------Loss: 0.6750181317329407-----------------------\n",
      "------BATCH ENDING-------\n",
      "--------------------------------------------------\n",
      "[tensor([32, 40, 34])]\n",
      "feature shape torch.Size([3, 254, 1, 112, 112])\n",
      "reshape input torch.Size([762, 1, 112, 112])\n",
      "CNN ouput torch.Size([762, 512])\n",
      "reshaped rnn_in torch.Size([3, 254, 512])\n",
      "RNN ouput torch.Size([3, 254, 64])\n",
      "mask ouput torch.Size([3, 254, 64])\n",
      "reshaped masked output torch.Size([3, 16256])\n",
      "fc ouput torch.Size([3, 32])\n",
      "logits torch.Size([3, 2])\n",
      "classifier ouput torch.Size([3, 2])\n",
      "-----------------Loss: 0.7308303713798523-----------------------\n",
      "------BATCH ENDING-------\n",
      "--------------------------------------------------\n",
      "[tensor([20, 33, 34])]\n",
      "feature shape torch.Size([3, 254, 1, 112, 112])\n",
      "reshape input torch.Size([762, 1, 112, 112])\n",
      "CNN ouput torch.Size([762, 512])\n",
      "reshaped rnn_in torch.Size([3, 254, 512])\n",
      "RNN ouput torch.Size([3, 254, 64])\n"
     ]
    },
    {
     "name": "stderr",
     "output_type": "stream",
     "text": [
      " 39%|████████████████████████████████▎                                                 | 61/155 [00:09<00:13,  6.86it/s]"
     ]
    },
    {
     "name": "stdout",
     "output_type": "stream",
     "text": [
      "mask ouput torch.Size([3, 254, 64])\n",
      "reshaped masked output torch.Size([3, 16256])\n",
      "fc ouput torch.Size([3, 32])\n",
      "logits torch.Size([3, 2])\n",
      "classifier ouput torch.Size([3, 2])\n",
      "-----------------Loss: 0.6387565732002258-----------------------\n",
      "------BATCH ENDING-------\n",
      "--------------------------------------------------\n",
      "[tensor([105,  33,  32])]\n",
      "feature shape torch.Size([3, 254, 1, 112, 112])\n",
      "reshape input torch.Size([762, 1, 112, 112])\n",
      "CNN ouput torch.Size([762, 512])\n",
      "reshaped rnn_in torch.Size([3, 254, 512])\n",
      "RNN ouput torch.Size([3, 254, 64])\n",
      "mask ouput torch.Size([3, 254, 64])\n",
      "reshaped masked output torch.Size([3, 16256])\n",
      "fc ouput torch.Size([3, 32])\n",
      "logits torch.Size([3, 2])\n",
      "classifier ouput torch.Size([3, 2])\n",
      "-----------------Loss: 0.4880538880825043-----------------------\n",
      "------BATCH ENDING-------\n",
      "--------------------------------------------------\n",
      "[tensor([ 15, 102, 101])]\n",
      "feature shape torch.Size([3, 254, 1, 112, 112])\n",
      "reshape input torch.Size([762, 1, 112, 112])\n",
      "CNN ouput torch.Size([762, 512])\n",
      "reshaped rnn_in torch.Size([3, 254, 512])\n",
      "RNN ouput torch.Size([3, 254, 64])\n"
     ]
    },
    {
     "name": "stderr",
     "output_type": "stream",
     "text": [
      " 41%|█████████████████████████████████▎                                                | 63/155 [00:09<00:13,  6.86it/s]"
     ]
    },
    {
     "name": "stdout",
     "output_type": "stream",
     "text": [
      "mask ouput torch.Size([3, 254, 64])\n",
      "reshaped masked output torch.Size([3, 16256])\n",
      "fc ouput torch.Size([3, 32])\n",
      "logits torch.Size([3, 2])\n",
      "classifier ouput torch.Size([3, 2])\n",
      "-----------------Loss: 0.8697865009307861-----------------------\n",
      "------BATCH ENDING-------\n",
      "--------------------------------------------------\n",
      "[tensor([102, 105,  32])]\n",
      "feature shape torch.Size([3, 254, 1, 112, 112])\n",
      "reshape input torch.Size([762, 1, 112, 112])\n",
      "CNN ouput torch.Size([762, 512])\n",
      "reshaped rnn_in torch.Size([3, 254, 512])\n",
      "RNN ouput torch.Size([3, 254, 64])\n",
      "mask ouput torch.Size([3, 254, 64])\n",
      "reshaped masked output torch.Size([3, 16256])\n",
      "fc ouput torch.Size([3, 32])\n",
      "logits torch.Size([3, 2])\n",
      "classifier ouput torch.Size([3, 2])\n",
      "-----------------Loss: 0.6784401535987854-----------------------\n",
      "------BATCH ENDING-------\n",
      "--------------------------------------------------\n",
      "[tensor([100,  17, 104])]\n",
      "feature shape torch.Size([3, 254, 1, 112, 112])\n",
      "reshape input torch.Size([762, 1, 112, 112])\n",
      "CNN ouput torch.Size([762, 512])\n",
      "reshaped rnn_in torch.Size([3, 254, 512])\n",
      "RNN ouput torch.Size([3, 254, 64])\n"
     ]
    },
    {
     "name": "stderr",
     "output_type": "stream",
     "text": [
      " 42%|██████████████████████████████████▍                                               | 65/155 [00:09<00:13,  6.86it/s]"
     ]
    },
    {
     "name": "stdout",
     "output_type": "stream",
     "text": [
      "mask ouput torch.Size([3, 254, 64])\n",
      "reshaped masked output torch.Size([3, 16256])\n",
      "fc ouput torch.Size([3, 32])\n",
      "logits torch.Size([3, 2])\n",
      "classifier ouput torch.Size([3, 2])\n",
      "-----------------Loss: 0.734168291091919-----------------------\n",
      "------BATCH ENDING-------\n",
      "--------------------------------------------------\n",
      "[tensor([ 13, 101, 105])]\n",
      "feature shape torch.Size([3, 254, 1, 112, 112])\n",
      "reshape input torch.Size([762, 1, 112, 112])\n",
      "CNN ouput torch.Size([762, 512])\n",
      "reshaped rnn_in torch.Size([3, 254, 512])\n",
      "RNN ouput torch.Size([3, 254, 64])\n",
      "mask ouput torch.Size([3, 254, 64])\n",
      "reshaped masked output torch.Size([3, 16256])\n",
      "fc ouput torch.Size([3, 32])\n",
      "logits torch.Size([3, 2])\n",
      "classifier ouput torch.Size([3, 2])\n",
      "-----------------Loss: 0.677668035030365-----------------------\n",
      "------BATCH ENDING-------\n",
      "--------------------------------------------------\n",
      "[tensor([207,  99,  97])]\n",
      "feature shape torch.Size([3, 254, 1, 112, 112])\n",
      "reshape input torch.Size([762, 1, 112, 112])\n",
      "CNN ouput torch.Size([762, 512])\n",
      "reshaped rnn_in torch.Size([3, 254, 512])\n",
      "RNN ouput torch.Size([3, 254, 64])\n"
     ]
    },
    {
     "name": "stderr",
     "output_type": "stream",
     "text": [
      " 43%|███████████████████████████████████▍                                              | 67/155 [00:10<00:12,  6.81it/s]"
     ]
    },
    {
     "name": "stdout",
     "output_type": "stream",
     "text": [
      "mask ouput torch.Size([3, 254, 64])\n",
      "reshaped masked output torch.Size([3, 16256])\n",
      "fc ouput torch.Size([3, 32])\n",
      "logits torch.Size([3, 2])\n",
      "classifier ouput torch.Size([3, 2])\n",
      "-----------------Loss: 0.5485683083534241-----------------------\n",
      "------BATCH ENDING-------\n",
      "--------------------------------------------------\n",
      "[tensor([17, 34, 34])]\n",
      "feature shape torch.Size([3, 254, 1, 112, 112])\n",
      "reshape input torch.Size([762, 1, 112, 112])\n",
      "CNN ouput torch.Size([762, 512])\n",
      "reshaped rnn_in torch.Size([3, 254, 512])\n",
      "RNN ouput torch.Size([3, 254, 64])\n",
      "mask ouput torch.Size([3, 254, 64])\n",
      "reshaped masked output torch.Size([3, 16256])\n",
      "fc ouput torch.Size([3, 32])\n",
      "logits torch.Size([3, 2])\n",
      "classifier ouput torch.Size([3, 2])\n",
      "-----------------Loss: 0.6807453036308289-----------------------\n",
      "------BATCH ENDING-------\n",
      "--------------------------------------------------\n",
      "[tensor([ 35, 101,  17])]\n",
      "feature shape torch.Size([3, 254, 1, 112, 112])\n",
      "reshape input torch.Size([762, 1, 112, 112])\n",
      "CNN ouput torch.Size([762, 512])\n",
      "reshaped rnn_in torch.Size([3, 254, 512])\n",
      "RNN ouput torch.Size([3, 254, 64])\n"
     ]
    },
    {
     "name": "stderr",
     "output_type": "stream",
     "text": [
      " 45%|████████████████████████████████████▌                                             | 69/155 [00:10<00:12,  6.86it/s]"
     ]
    },
    {
     "name": "stdout",
     "output_type": "stream",
     "text": [
      "mask ouput torch.Size([3, 254, 64])\n",
      "reshaped masked output torch.Size([3, 16256])\n",
      "fc ouput torch.Size([3, 32])\n",
      "logits torch.Size([3, 2])\n",
      "classifier ouput torch.Size([3, 2])\n",
      "-----------------Loss: 0.7469522356987-----------------------\n",
      "------BATCH ENDING-------\n",
      "--------------------------------------------------\n",
      "[tensor([ 16,  42, 104])]\n",
      "feature shape torch.Size([3, 254, 1, 112, 112])\n",
      "reshape input torch.Size([762, 1, 112, 112])\n",
      "CNN ouput torch.Size([762, 512])\n",
      "reshaped rnn_in torch.Size([3, 254, 512])\n",
      "RNN ouput torch.Size([3, 254, 64])\n",
      "mask ouput torch.Size([3, 254, 64])\n",
      "reshaped masked output torch.Size([3, 16256])\n",
      "fc ouput torch.Size([3, 32])\n",
      "logits torch.Size([3, 2])\n",
      "classifier ouput torch.Size([3, 2])\n",
      "-----------------Loss: 0.5680437088012695-----------------------\n",
      "------BATCH ENDING-------\n",
      "--------------------------------------------------\n",
      "[tensor([100,  16,  33])]\n",
      "feature shape torch.Size([3, 254, 1, 112, 112])\n",
      "reshape input torch.Size([762, 1, 112, 112])\n",
      "CNN ouput torch.Size([762, 512])\n",
      "reshaped rnn_in torch.Size([3, 254, 512])\n",
      "RNN ouput torch.Size([3, 254, 64])\n"
     ]
    },
    {
     "name": "stderr",
     "output_type": "stream",
     "text": [
      " 46%|█████████████████████████████████████▌                                            | 71/155 [00:10<00:12,  6.88it/s]"
     ]
    },
    {
     "name": "stdout",
     "output_type": "stream",
     "text": [
      "mask ouput torch.Size([3, 254, 64])\n",
      "reshaped masked output torch.Size([3, 16256])\n",
      "fc ouput torch.Size([3, 32])\n",
      "logits torch.Size([3, 2])\n",
      "classifier ouput torch.Size([3, 2])\n",
      "-----------------Loss: 0.6626540422439575-----------------------\n",
      "------BATCH ENDING-------\n",
      "--------------------------------------------------\n",
      "[tensor([103, 103,  31])]\n",
      "feature shape torch.Size([3, 254, 1, 112, 112])\n",
      "reshape input torch.Size([762, 1, 112, 112])\n",
      "CNN ouput torch.Size([762, 512])\n",
      "reshaped rnn_in torch.Size([3, 254, 512])\n",
      "RNN ouput torch.Size([3, 254, 64])\n",
      "mask ouput torch.Size([3, 254, 64])\n",
      "reshaped masked output torch.Size([3, 16256])\n",
      "fc ouput torch.Size([3, 32])\n",
      "logits torch.Size([3, 2])\n",
      "classifier ouput torch.Size([3, 2])\n",
      "-----------------Loss: 0.7687830924987793-----------------------\n",
      "------BATCH ENDING-------\n",
      "--------------------------------------------------\n",
      "[tensor([194,  94,  20])]\n",
      "feature shape torch.Size([3, 254, 1, 112, 112])\n",
      "reshape input torch.Size([762, 1, 112, 112])\n",
      "CNN ouput torch.Size([762, 512])\n",
      "reshaped rnn_in torch.Size([3, 254, 512])\n",
      "RNN ouput torch.Size([3, 254, 64])\n"
     ]
    },
    {
     "name": "stderr",
     "output_type": "stream",
     "text": [
      " 47%|██████████████████████████████████████▌                                           | 73/155 [00:11<00:11,  6.95it/s]"
     ]
    },
    {
     "name": "stdout",
     "output_type": "stream",
     "text": [
      "mask ouput torch.Size([3, 254, 64])\n",
      "reshaped masked output torch.Size([3, 16256])\n",
      "fc ouput torch.Size([3, 32])\n",
      "logits torch.Size([3, 2])\n",
      "classifier ouput torch.Size([3, 2])\n",
      "-----------------Loss: 0.5304003357887268-----------------------\n",
      "------BATCH ENDING-------\n",
      "--------------------------------------------------\n",
      "[tensor([29, 17, 34])]\n",
      "feature shape torch.Size([3, 254, 1, 112, 112])\n",
      "reshape input torch.Size([762, 1, 112, 112])\n",
      "CNN ouput torch.Size([762, 512])\n",
      "reshaped rnn_in torch.Size([3, 254, 512])\n",
      "RNN ouput torch.Size([3, 254, 64])\n",
      "mask ouput torch.Size([3, 254, 64])\n",
      "reshaped masked output torch.Size([3, 16256])\n",
      "fc ouput torch.Size([3, 32])\n",
      "logits torch.Size([3, 2])\n",
      "classifier ouput torch.Size([3, 2])\n",
      "-----------------Loss: 0.6619872450828552-----------------------\n",
      "------BATCH ENDING-------\n",
      "--------------------------------------------------\n",
      "[tensor([48, 10, 95])]\n",
      "feature shape torch.Size([3, 254, 1, 112, 112])\n",
      "reshape input torch.Size([762, 1, 112, 112])\n",
      "CNN ouput torch.Size([762, 512])\n",
      "reshaped rnn_in torch.Size([3, 254, 512])\n",
      "RNN ouput torch.Size([3, 254, 64])\n"
     ]
    },
    {
     "name": "stderr",
     "output_type": "stream",
     "text": [
      " 48%|███████████████████████████████████████▋                                          | 75/155 [00:11<00:11,  6.88it/s]"
     ]
    },
    {
     "name": "stdout",
     "output_type": "stream",
     "text": [
      "mask ouput torch.Size([3, 254, 64])\n",
      "reshaped masked output torch.Size([3, 16256])\n",
      "fc ouput torch.Size([3, 32])\n",
      "logits torch.Size([3, 2])\n",
      "classifier ouput torch.Size([3, 2])\n",
      "-----------------Loss: 0.6749797463417053-----------------------\n",
      "------BATCH ENDING-------\n",
      "--------------------------------------------------\n",
      "[tensor([97, 16, 34])]\n",
      "feature shape torch.Size([3, 254, 1, 112, 112])\n",
      "reshape input torch.Size([762, 1, 112, 112])\n",
      "CNN ouput torch.Size([762, 512])\n",
      "reshaped rnn_in torch.Size([3, 254, 512])\n",
      "RNN ouput torch.Size([3, 254, 64])\n",
      "mask ouput torch.Size([3, 254, 64])\n",
      "reshaped masked output torch.Size([3, 16256])\n",
      "fc ouput torch.Size([3, 32])\n",
      "logits torch.Size([3, 2])\n",
      "classifier ouput torch.Size([3, 2])\n",
      "-----------------Loss: 0.711571455001831-----------------------\n",
      "------BATCH ENDING-------\n",
      "--------------------------------------------------\n",
      "[tensor([33, 14, 32])]\n",
      "feature shape torch.Size([3, 254, 1, 112, 112])\n",
      "reshape input torch.Size([762, 1, 112, 112])\n",
      "CNN ouput torch.Size([762, 512])\n",
      "reshaped rnn_in torch.Size([3, 254, 512])\n",
      "RNN ouput torch.Size([3, 254, 64])\n"
     ]
    },
    {
     "name": "stderr",
     "output_type": "stream",
     "text": [
      " 50%|████████████████████████████████████████▋                                         | 77/155 [00:11<00:11,  6.85it/s]"
     ]
    },
    {
     "name": "stdout",
     "output_type": "stream",
     "text": [
      "mask ouput torch.Size([3, 254, 64])\n",
      "reshaped masked output torch.Size([3, 16256])\n",
      "fc ouput torch.Size([3, 32])\n",
      "logits torch.Size([3, 2])\n",
      "classifier ouput torch.Size([3, 2])\n",
      "-----------------Loss: 0.6163257956504822-----------------------\n",
      "------BATCH ENDING-------\n",
      "--------------------------------------------------\n",
      "[tensor([112,  11,  35])]\n",
      "feature shape torch.Size([3, 254, 1, 112, 112])\n",
      "reshape input torch.Size([762, 1, 112, 112])\n",
      "CNN ouput torch.Size([762, 512])\n",
      "reshaped rnn_in torch.Size([3, 254, 512])\n",
      "RNN ouput torch.Size([3, 254, 64])\n",
      "mask ouput torch.Size([3, 254, 64])\n",
      "reshaped masked output torch.Size([3, 16256])\n",
      "fc ouput torch.Size([3, 32])\n",
      "logits torch.Size([3, 2])\n",
      "classifier ouput torch.Size([3, 2])\n",
      "-----------------Loss: 0.6210128664970398-----------------------\n",
      "------BATCH ENDING-------\n",
      "--------------------------------------------------\n",
      "[tensor([110, 101,  17])]\n",
      "feature shape torch.Size([3, 254, 1, 112, 112])\n",
      "reshape input torch.Size([762, 1, 112, 112])\n",
      "CNN ouput torch.Size([762, 512])\n",
      "reshaped rnn_in torch.Size([3, 254, 512])\n",
      "RNN ouput torch.Size([3, 254, 64])\n"
     ]
    },
    {
     "name": "stderr",
     "output_type": "stream",
     "text": [
      " 51%|█████████████████████████████████████████▊                                        | 79/155 [00:11<00:11,  6.87it/s]"
     ]
    },
    {
     "name": "stdout",
     "output_type": "stream",
     "text": [
      "mask ouput torch.Size([3, 254, 64])\n",
      "reshaped masked output torch.Size([3, 16256])\n",
      "fc ouput torch.Size([3, 32])\n",
      "logits torch.Size([3, 2])\n",
      "classifier ouput torch.Size([3, 2])\n",
      "-----------------Loss: 0.6285675168037415-----------------------\n",
      "------BATCH ENDING-------\n",
      "--------------------------------------------------\n",
      "[tensor([ 17,  34, 105])]\n",
      "feature shape torch.Size([3, 254, 1, 112, 112])\n",
      "reshape input torch.Size([762, 1, 112, 112])\n",
      "CNN ouput torch.Size([762, 512])\n",
      "reshaped rnn_in torch.Size([3, 254, 512])\n",
      "RNN ouput torch.Size([3, 254, 64])\n",
      "mask ouput torch.Size([3, 254, 64])\n",
      "reshaped masked output torch.Size([3, 16256])\n",
      "fc ouput torch.Size([3, 32])\n",
      "logits torch.Size([3, 2])\n",
      "classifier ouput torch.Size([3, 2])\n",
      "-----------------Loss: 0.6447440981864929-----------------------\n",
      "------BATCH ENDING-------\n",
      "--------------------------------------------------\n",
      "[tensor([ 34, 105,  98])]\n",
      "feature shape torch.Size([3, 254, 1, 112, 112])\n",
      "reshape input torch.Size([762, 1, 112, 112])\n",
      "CNN ouput torch.Size([762, 512])\n",
      "reshaped rnn_in torch.Size([3, 254, 512])\n",
      "RNN ouput torch.Size([3, 254, 64])\n"
     ]
    },
    {
     "name": "stderr",
     "output_type": "stream",
     "text": [
      " 52%|██████████████████████████████████████████▊                                       | 81/155 [00:12<00:10,  6.85it/s]"
     ]
    },
    {
     "name": "stdout",
     "output_type": "stream",
     "text": [
      "mask ouput torch.Size([3, 254, 64])\n",
      "reshaped masked output torch.Size([3, 16256])\n",
      "fc ouput torch.Size([3, 32])\n",
      "logits torch.Size([3, 2])\n",
      "classifier ouput torch.Size([3, 2])\n",
      "-----------------Loss: 0.5613610148429871-----------------------\n",
      "------BATCH ENDING-------\n",
      "--------------------------------------------------\n",
      "[tensor([195, 109,  34])]\n",
      "feature shape torch.Size([3, 254, 1, 112, 112])\n",
      "reshape input torch.Size([762, 1, 112, 112])\n",
      "CNN ouput torch.Size([762, 512])\n",
      "reshaped rnn_in torch.Size([3, 254, 512])\n",
      "RNN ouput torch.Size([3, 254, 64])\n",
      "mask ouput torch.Size([3, 254, 64])\n",
      "reshaped masked output torch.Size([3, 16256])\n",
      "fc ouput torch.Size([3, 32])\n",
      "logits torch.Size([3, 2])\n",
      "classifier ouput torch.Size([3, 2])\n",
      "-----------------Loss: 0.4185642898082733-----------------------\n",
      "------BATCH ENDING-------\n",
      "--------------------------------------------------\n",
      "[tensor([34, 35, 50])]\n",
      "feature shape torch.Size([3, 254, 1, 112, 112])\n",
      "reshape input torch.Size([762, 1, 112, 112])\n",
      "CNN ouput torch.Size([762, 512])\n",
      "reshaped rnn_in torch.Size([3, 254, 512])\n",
      "RNN ouput torch.Size([3, 254, 64])\n"
     ]
    },
    {
     "name": "stderr",
     "output_type": "stream",
     "text": [
      " 54%|███████████████████████████████████████████▉                                      | 83/155 [00:12<00:10,  6.88it/s]"
     ]
    },
    {
     "name": "stdout",
     "output_type": "stream",
     "text": [
      "mask ouput torch.Size([3, 254, 64])\n",
      "reshaped masked output torch.Size([3, 16256])\n",
      "fc ouput torch.Size([3, 32])\n",
      "logits torch.Size([3, 2])\n",
      "classifier ouput torch.Size([3, 2])\n",
      "-----------------Loss: 0.8148326873779297-----------------------\n",
      "------BATCH ENDING-------\n",
      "--------------------------------------------------\n",
      "[tensor([101, 116,  17])]\n",
      "feature shape torch.Size([3, 254, 1, 112, 112])\n",
      "reshape input torch.Size([762, 1, 112, 112])\n",
      "CNN ouput torch.Size([762, 512])\n",
      "reshaped rnn_in torch.Size([3, 254, 512])\n",
      "RNN ouput torch.Size([3, 254, 64])\n",
      "mask ouput torch.Size([3, 254, 64])\n",
      "reshaped masked output torch.Size([3, 16256])\n",
      "fc ouput torch.Size([3, 32])\n",
      "logits torch.Size([3, 2])\n",
      "classifier ouput torch.Size([3, 2])\n",
      "-----------------Loss: 0.603306233882904-----------------------\n",
      "------BATCH ENDING-------\n",
      "--------------------------------------------------\n",
      "[tensor([17, 35, 31])]\n",
      "feature shape torch.Size([3, 254, 1, 112, 112])\n",
      "reshape input torch.Size([762, 1, 112, 112])\n",
      "CNN ouput torch.Size([762, 512])\n",
      "reshaped rnn_in torch.Size([3, 254, 512])\n",
      "RNN ouput torch.Size([3, 254, 64])\n"
     ]
    },
    {
     "name": "stderr",
     "output_type": "stream",
     "text": [
      " 55%|████████████████████████████████████████████▉                                     | 85/155 [00:12<00:10,  6.94it/s]"
     ]
    },
    {
     "name": "stdout",
     "output_type": "stream",
     "text": [
      "mask ouput torch.Size([3, 254, 64])\n",
      "reshaped masked output torch.Size([3, 16256])\n",
      "fc ouput torch.Size([3, 32])\n",
      "logits torch.Size([3, 2])\n",
      "classifier ouput torch.Size([3, 2])\n",
      "-----------------Loss: 0.7292866110801697-----------------------\n",
      "------BATCH ENDING-------\n",
      "--------------------------------------------------\n",
      "[tensor([33, 33, 96])]\n",
      "feature shape torch.Size([3, 254, 1, 112, 112])\n",
      "reshape input torch.Size([762, 1, 112, 112])\n",
      "CNN ouput torch.Size([762, 512])\n",
      "reshaped rnn_in torch.Size([3, 254, 512])\n",
      "RNN ouput torch.Size([3, 254, 64])\n",
      "mask ouput torch.Size([3, 254, 64])\n",
      "reshaped masked output torch.Size([3, 16256])\n",
      "fc ouput torch.Size([3, 32])\n",
      "logits torch.Size([3, 2])\n",
      "classifier ouput torch.Size([3, 2])\n",
      "-----------------Loss: 0.7233738303184509-----------------------\n",
      "------BATCH ENDING-------\n",
      "--------------------------------------------------\n",
      "[tensor([101,  34,  33])]\n",
      "feature shape torch.Size([3, 254, 1, 112, 112])\n",
      "reshape input torch.Size([762, 1, 112, 112])\n",
      "CNN ouput torch.Size([762, 512])\n",
      "reshaped rnn_in torch.Size([3, 254, 512])\n",
      "RNN ouput torch.Size([3, 254, 64])\n"
     ]
    },
    {
     "name": "stderr",
     "output_type": "stream",
     "text": [
      " 56%|██████████████████████████████████████████████                                    | 87/155 [00:13<00:09,  6.87it/s]"
     ]
    },
    {
     "name": "stdout",
     "output_type": "stream",
     "text": [
      "mask ouput torch.Size([3, 254, 64])\n",
      "reshaped masked output torch.Size([3, 16256])\n",
      "fc ouput torch.Size([3, 32])\n",
      "logits torch.Size([3, 2])\n",
      "classifier ouput torch.Size([3, 2])\n",
      "-----------------Loss: 0.5311264991760254-----------------------\n",
      "------BATCH ENDING-------\n",
      "--------------------------------------------------\n",
      "[tensor([46, 34, 35])]\n",
      "feature shape torch.Size([3, 254, 1, 112, 112])\n",
      "reshape input torch.Size([762, 1, 112, 112])\n",
      "CNN ouput torch.Size([762, 512])\n",
      "reshaped rnn_in torch.Size([3, 254, 512])\n",
      "RNN ouput torch.Size([3, 254, 64])\n",
      "mask ouput torch.Size([3, 254, 64])\n",
      "reshaped masked output torch.Size([3, 16256])\n",
      "fc ouput torch.Size([3, 32])\n",
      "logits torch.Size([3, 2])\n",
      "classifier ouput torch.Size([3, 2])\n",
      "-----------------Loss: 0.5862881541252136-----------------------\n",
      "------BATCH ENDING-------\n",
      "--------------------------------------------------\n",
      "[tensor([101,  33,  35])]\n",
      "feature shape torch.Size([3, 254, 1, 112, 112])\n",
      "reshape input torch.Size([762, 1, 112, 112])\n",
      "CNN ouput torch.Size([762, 512])\n",
      "reshaped rnn_in torch.Size([3, 254, 512])\n",
      "RNN ouput torch.Size([3, 254, 64])\n"
     ]
    },
    {
     "name": "stderr",
     "output_type": "stream",
     "text": [
      " 57%|███████████████████████████████████████████████                                   | 89/155 [00:13<00:09,  6.87it/s]"
     ]
    },
    {
     "name": "stdout",
     "output_type": "stream",
     "text": [
      "mask ouput torch.Size([3, 254, 64])\n",
      "reshaped masked output torch.Size([3, 16256])\n",
      "fc ouput torch.Size([3, 32])\n",
      "logits torch.Size([3, 2])\n",
      "classifier ouput torch.Size([3, 2])\n",
      "-----------------Loss: 0.6240997910499573-----------------------\n",
      "------BATCH ENDING-------\n",
      "--------------------------------------------------\n",
      "[tensor([ 15, 106,  35])]\n",
      "feature shape torch.Size([3, 254, 1, 112, 112])\n",
      "reshape input torch.Size([762, 1, 112, 112])\n",
      "CNN ouput torch.Size([762, 512])\n",
      "reshaped rnn_in torch.Size([3, 254, 512])\n",
      "RNN ouput torch.Size([3, 254, 64])\n",
      "mask ouput torch.Size([3, 254, 64])\n",
      "reshaped masked output torch.Size([3, 16256])\n",
      "fc ouput torch.Size([3, 32])\n",
      "logits torch.Size([3, 2])\n",
      "classifier ouput torch.Size([3, 2])\n",
      "-----------------Loss: 0.5534524917602539-----------------------\n",
      "------BATCH ENDING-------\n",
      "--------------------------------------------------\n",
      "[tensor([ 33, 105,  17])]\n",
      "feature shape torch.Size([3, 254, 1, 112, 112])\n",
      "reshape input torch.Size([762, 1, 112, 112])\n",
      "CNN ouput torch.Size([762, 512])\n",
      "reshaped rnn_in torch.Size([3, 254, 512])\n",
      "RNN ouput torch.Size([3, 254, 64])\n"
     ]
    },
    {
     "name": "stderr",
     "output_type": "stream",
     "text": [
      " 59%|████████████████████████████████████████████████▏                                 | 91/155 [00:13<00:09,  6.87it/s]"
     ]
    },
    {
     "name": "stdout",
     "output_type": "stream",
     "text": [
      "mask ouput torch.Size([3, 254, 64])\n",
      "reshaped masked output torch.Size([3, 16256])\n",
      "fc ouput torch.Size([3, 32])\n",
      "logits torch.Size([3, 2])\n",
      "classifier ouput torch.Size([3, 2])\n",
      "-----------------Loss: 0.5208441019058228-----------------------\n",
      "------BATCH ENDING-------\n",
      "--------------------------------------------------\n",
      "[tensor([ 99, 201,  15])]\n",
      "feature shape torch.Size([3, 254, 1, 112, 112])\n",
      "reshape input torch.Size([762, 1, 112, 112])\n",
      "CNN ouput torch.Size([762, 512])\n",
      "reshaped rnn_in torch.Size([3, 254, 512])\n",
      "RNN ouput torch.Size([3, 254, 64])\n",
      "mask ouput torch.Size([3, 254, 64])\n",
      "reshaped masked output torch.Size([3, 16256])\n",
      "fc ouput torch.Size([3, 32])\n",
      "logits torch.Size([3, 2])\n",
      "classifier ouput torch.Size([3, 2])\n",
      "-----------------Loss: 0.5725193023681641-----------------------\n",
      "------BATCH ENDING-------\n",
      "--------------------------------------------------\n",
      "[tensor([52, 34, 34])]\n",
      "feature shape torch.Size([3, 254, 1, 112, 112])\n",
      "reshape input torch.Size([762, 1, 112, 112])\n",
      "CNN ouput torch.Size([762, 512])\n",
      "reshaped rnn_in torch.Size([3, 254, 512])\n",
      "RNN ouput torch.Size([3, 254, 64])\n"
     ]
    },
    {
     "name": "stderr",
     "output_type": "stream",
     "text": [
      " 60%|█████████████████████████████████████████████████▏                                | 93/155 [00:13<00:09,  6.87it/s]"
     ]
    },
    {
     "name": "stdout",
     "output_type": "stream",
     "text": [
      "mask ouput torch.Size([3, 254, 64])\n",
      "reshaped masked output torch.Size([3, 16256])\n",
      "fc ouput torch.Size([3, 32])\n",
      "logits torch.Size([3, 2])\n",
      "classifier ouput torch.Size([3, 2])\n",
      "-----------------Loss: 0.5927248001098633-----------------------\n",
      "------BATCH ENDING-------\n",
      "--------------------------------------------------\n",
      "[tensor([ 32, 105, 101])]\n",
      "feature shape torch.Size([3, 254, 1, 112, 112])\n",
      "reshape input torch.Size([762, 1, 112, 112])\n",
      "CNN ouput torch.Size([762, 512])\n",
      "reshaped rnn_in torch.Size([3, 254, 512])\n",
      "RNN ouput torch.Size([3, 254, 64])\n",
      "mask ouput torch.Size([3, 254, 64])\n",
      "reshaped masked output torch.Size([3, 16256])\n",
      "fc ouput torch.Size([3, 32])\n",
      "logits torch.Size([3, 2])\n",
      "classifier ouput torch.Size([3, 2])\n",
      "-----------------Loss: 0.7564167976379395-----------------------\n",
      "------BATCH ENDING-------\n",
      "--------------------------------------------------\n",
      "[tensor([101, 128,  34])]\n",
      "feature shape torch.Size([3, 254, 1, 112, 112])\n",
      "reshape input torch.Size([762, 1, 112, 112])\n",
      "CNN ouput torch.Size([762, 512])\n",
      "reshaped rnn_in torch.Size([3, 254, 512])\n",
      "RNN ouput torch.Size([3, 254, 64])\n"
     ]
    },
    {
     "name": "stderr",
     "output_type": "stream",
     "text": [
      " 61%|██████████████████████████████████████████████████▎                               | 95/155 [00:14<00:08,  6.80it/s]"
     ]
    },
    {
     "name": "stdout",
     "output_type": "stream",
     "text": [
      "mask ouput torch.Size([3, 254, 64])\n",
      "reshaped masked output torch.Size([3, 16256])\n",
      "fc ouput torch.Size([3, 32])\n",
      "logits torch.Size([3, 2])\n",
      "classifier ouput torch.Size([3, 2])\n",
      "-----------------Loss: 1.0662455558776855-----------------------\n",
      "------BATCH ENDING-------\n",
      "--------------------------------------------------\n",
      "[tensor([ 26,  35, 105])]\n",
      "feature shape torch.Size([3, 254, 1, 112, 112])\n",
      "reshape input torch.Size([762, 1, 112, 112])\n",
      "CNN ouput torch.Size([762, 512])\n",
      "reshaped rnn_in torch.Size([3, 254, 512])\n",
      "RNN ouput torch.Size([3, 254, 64])\n",
      "mask ouput torch.Size([3, 254, 64])\n",
      "reshaped masked output torch.Size([3, 16256])\n",
      "fc ouput torch.Size([3, 32])\n",
      "logits torch.Size([3, 2])\n",
      "classifier ouput torch.Size([3, 2])\n",
      "-----------------Loss: 0.9469969272613525-----------------------\n",
      "------BATCH ENDING-------\n",
      "--------------------------------------------------\n",
      "[tensor([ 34, 210,  20])]\n",
      "feature shape torch.Size([3, 254, 1, 112, 112])\n",
      "reshape input torch.Size([762, 1, 112, 112])\n",
      "CNN ouput torch.Size([762, 512])\n",
      "reshaped rnn_in torch.Size([3, 254, 512])\n",
      "RNN ouput torch.Size([3, 254, 64])\n"
     ]
    },
    {
     "name": "stderr",
     "output_type": "stream",
     "text": [
      " 63%|███████████████████████████████████████████████████▎                              | 97/155 [00:14<00:08,  6.81it/s]"
     ]
    },
    {
     "name": "stdout",
     "output_type": "stream",
     "text": [
      "mask ouput torch.Size([3, 254, 64])\n",
      "reshaped masked output torch.Size([3, 16256])\n",
      "fc ouput torch.Size([3, 32])\n",
      "logits torch.Size([3, 2])\n",
      "classifier ouput torch.Size([3, 2])\n",
      "-----------------Loss: 0.4372464120388031-----------------------\n",
      "------BATCH ENDING-------\n",
      "--------------------------------------------------\n",
      "[tensor([104,  34,  80])]\n",
      "feature shape torch.Size([3, 254, 1, 112, 112])\n",
      "reshape input torch.Size([762, 1, 112, 112])\n",
      "CNN ouput torch.Size([762, 512])\n",
      "reshaped rnn_in torch.Size([3, 254, 512])\n",
      "RNN ouput torch.Size([3, 254, 64])\n",
      "mask ouput torch.Size([3, 254, 64])\n",
      "reshaped masked output torch.Size([3, 16256])\n",
      "fc ouput torch.Size([3, 32])\n",
      "logits torch.Size([3, 2])\n",
      "classifier ouput torch.Size([3, 2])\n",
      "-----------------Loss: 0.737011730670929-----------------------\n",
      "------BATCH ENDING-------\n",
      "--------------------------------------------------\n",
      "[tensor([ 33,  14, 199])]\n",
      "feature shape torch.Size([3, 254, 1, 112, 112])\n",
      "reshape input torch.Size([762, 1, 112, 112])\n",
      "CNN ouput torch.Size([762, 512])\n",
      "reshaped rnn_in torch.Size([3, 254, 512])\n",
      "RNN ouput torch.Size([3, 254, 64])\n"
     ]
    },
    {
     "name": "stderr",
     "output_type": "stream",
     "text": [
      " 64%|████████████████████████████████████████████████████▎                             | 99/155 [00:14<00:08,  6.51it/s]"
     ]
    },
    {
     "name": "stdout",
     "output_type": "stream",
     "text": [
      "mask ouput torch.Size([3, 254, 64])\n",
      "reshaped masked output torch.Size([3, 16256])\n",
      "fc ouput torch.Size([3, 32])\n",
      "logits torch.Size([3, 2])\n",
      "classifier ouput torch.Size([3, 2])\n",
      "-----------------Loss: 1.2858906984329224-----------------------\n",
      "------BATCH ENDING-------\n",
      "--------------------------------------------------\n",
      "[tensor([101, 105,  11])]\n",
      "feature shape torch.Size([3, 254, 1, 112, 112])\n",
      "reshape input torch.Size([762, 1, 112, 112])\n",
      "CNN ouput torch.Size([762, 512])\n",
      "reshaped rnn_in torch.Size([3, 254, 512])\n",
      "RNN ouput torch.Size([3, 254, 64])\n",
      "mask ouput torch.Size([3, 254, 64])\n",
      "reshaped masked output torch.Size([3, 16256])\n",
      "fc ouput torch.Size([3, 32])\n",
      "logits torch.Size([3, 2])\n",
      "classifier ouput torch.Size([3, 2])\n",
      "-----------------Loss: 0.6181929707527161-----------------------\n",
      "------BATCH ENDING-------\n",
      "--------------------------------------------------\n",
      "[tensor([ 33,  32, 212])]\n",
      "feature shape torch.Size([3, 254, 1, 112, 112])\n",
      "reshape input torch.Size([762, 1, 112, 112])\n",
      "CNN ouput torch.Size([762, 512])\n",
      "reshaped rnn_in torch.Size([3, 254, 512])\n",
      "RNN ouput torch.Size([3, 254, 64])\n"
     ]
    },
    {
     "name": "stderr",
     "output_type": "stream",
     "text": [
      " 65%|████████████████████████████████████████████████████▊                            | 101/155 [00:15<00:08,  6.49it/s]"
     ]
    },
    {
     "name": "stdout",
     "output_type": "stream",
     "text": [
      "mask ouput torch.Size([3, 254, 64])\n",
      "reshaped masked output torch.Size([3, 16256])\n",
      "fc ouput torch.Size([3, 32])\n",
      "logits torch.Size([3, 2])\n",
      "classifier ouput torch.Size([3, 2])\n",
      "-----------------Loss: 0.919856071472168-----------------------\n",
      "------BATCH ENDING-------\n",
      "--------------------------------------------------\n",
      "[tensor([33, 19, 99])]\n",
      "feature shape torch.Size([3, 254, 1, 112, 112])\n",
      "reshape input torch.Size([762, 1, 112, 112])\n",
      "CNN ouput torch.Size([762, 512])\n",
      "reshaped rnn_in torch.Size([3, 254, 512])\n",
      "RNN ouput torch.Size([3, 254, 64])\n",
      "mask ouput torch.Size([3, 254, 64])\n",
      "reshaped masked output torch.Size([3, 16256])\n",
      "fc ouput torch.Size([3, 32])\n",
      "logits torch.Size([3, 2])\n",
      "classifier ouput torch.Size([3, 2])\n",
      "-----------------Loss: 0.5594684481620789-----------------------\n",
      "------BATCH ENDING-------\n",
      "--------------------------------------------------\n",
      "[tensor([ 33, 100, 169])]\n",
      "feature shape torch.Size([3, 254, 1, 112, 112])\n",
      "reshape input torch.Size([762, 1, 112, 112])\n",
      "CNN ouput torch.Size([762, 512])\n",
      "reshaped rnn_in torch.Size([3, 254, 512])\n",
      "RNN ouput torch.Size([3, 254, 64])\n"
     ]
    },
    {
     "name": "stderr",
     "output_type": "stream",
     "text": [
      " 66%|█████████████████████████████████████████████████████▊                           | 103/155 [00:15<00:07,  6.69it/s]"
     ]
    },
    {
     "name": "stdout",
     "output_type": "stream",
     "text": [
      "mask ouput torch.Size([3, 254, 64])\n",
      "reshaped masked output torch.Size([3, 16256])\n",
      "fc ouput torch.Size([3, 32])\n",
      "logits torch.Size([3, 2])\n",
      "classifier ouput torch.Size([3, 2])\n",
      "-----------------Loss: 0.6289440989494324-----------------------\n",
      "------BATCH ENDING-------\n",
      "--------------------------------------------------\n",
      "[tensor([ 33,  32, 106])]\n",
      "feature shape torch.Size([3, 254, 1, 112, 112])\n",
      "reshape input torch.Size([762, 1, 112, 112])\n",
      "CNN ouput torch.Size([762, 512])\n",
      "reshaped rnn_in torch.Size([3, 254, 512])\n",
      "RNN ouput torch.Size([3, 254, 64])\n",
      "mask ouput torch.Size([3, 254, 64])\n",
      "reshaped masked output torch.Size([3, 16256])\n",
      "fc ouput torch.Size([3, 32])\n",
      "logits torch.Size([3, 2])\n",
      "classifier ouput torch.Size([3, 2])\n",
      "-----------------Loss: 0.735422670841217-----------------------\n",
      "------BATCH ENDING-------\n",
      "--------------------------------------------------\n",
      "[tensor([165,  78, 102])]\n",
      "feature shape torch.Size([3, 254, 1, 112, 112])\n",
      "reshape input torch.Size([762, 1, 112, 112])\n",
      "CNN ouput torch.Size([762, 512])\n",
      "reshaped rnn_in torch.Size([3, 254, 512])\n",
      "RNN ouput torch.Size([3, 254, 64])\n"
     ]
    },
    {
     "name": "stderr",
     "output_type": "stream",
     "text": [
      " 68%|██████████████████████████████████████████████████████▊                          | 105/155 [00:15<00:07,  6.72it/s]"
     ]
    },
    {
     "name": "stdout",
     "output_type": "stream",
     "text": [
      "mask ouput torch.Size([3, 254, 64])\n",
      "reshaped masked output torch.Size([3, 16256])\n",
      "fc ouput torch.Size([3, 32])\n",
      "logits torch.Size([3, 2])\n",
      "classifier ouput torch.Size([3, 2])\n",
      "-----------------Loss: 0.5837462544441223-----------------------\n",
      "------BATCH ENDING-------\n",
      "--------------------------------------------------\n",
      "[tensor([ 35, 137, 166])]\n",
      "feature shape torch.Size([3, 254, 1, 112, 112])\n",
      "reshape input torch.Size([762, 1, 112, 112])\n",
      "CNN ouput torch.Size([762, 512])\n",
      "reshaped rnn_in torch.Size([3, 254, 512])\n",
      "RNN ouput torch.Size([3, 254, 64])\n",
      "mask ouput torch.Size([3, 254, 64])\n",
      "reshaped masked output torch.Size([3, 16256])\n",
      "fc ouput torch.Size([3, 32])\n",
      "logits torch.Size([3, 2])\n",
      "classifier ouput torch.Size([3, 2])\n",
      "-----------------Loss: 0.6857478022575378-----------------------\n",
      "------BATCH ENDING-------\n",
      "--------------------------------------------------\n",
      "[tensor([101,  16,  34])]\n",
      "feature shape torch.Size([3, 254, 1, 112, 112])\n",
      "reshape input torch.Size([762, 1, 112, 112])\n",
      "CNN ouput torch.Size([762, 512])\n",
      "reshaped rnn_in torch.Size([3, 254, 512])\n",
      "RNN ouput torch.Size([3, 254, 64])\n"
     ]
    },
    {
     "name": "stderr",
     "output_type": "stream",
     "text": [
      " 69%|███████████████████████████████████████████████████████▉                         | 107/155 [00:16<00:06,  6.87it/s]"
     ]
    },
    {
     "name": "stdout",
     "output_type": "stream",
     "text": [
      "mask ouput torch.Size([3, 254, 64])\n",
      "reshaped masked output torch.Size([3, 16256])\n",
      "fc ouput torch.Size([3, 32])\n",
      "logits torch.Size([3, 2])\n",
      "classifier ouput torch.Size([3, 2])\n",
      "-----------------Loss: 0.6755749583244324-----------------------\n",
      "------BATCH ENDING-------\n",
      "--------------------------------------------------\n",
      "[tensor([19, 34, 94])]\n",
      "feature shape torch.Size([3, 254, 1, 112, 112])\n",
      "reshape input torch.Size([762, 1, 112, 112])\n",
      "CNN ouput torch.Size([762, 512])\n",
      "reshaped rnn_in torch.Size([3, 254, 512])\n",
      "RNN ouput torch.Size([3, 254, 64])\n",
      "mask ouput torch.Size([3, 254, 64])\n",
      "reshaped masked output torch.Size([3, 16256])\n",
      "fc ouput torch.Size([3, 32])\n",
      "logits torch.Size([3, 2])\n",
      "classifier ouput torch.Size([3, 2])\n",
      "-----------------Loss: 0.6096499562263489-----------------------\n",
      "------BATCH ENDING-------\n",
      "--------------------------------------------------\n",
      "[tensor([20, 32, 34])]\n",
      "feature shape torch.Size([3, 254, 1, 112, 112])\n",
      "reshape input torch.Size([762, 1, 112, 112])\n",
      "CNN ouput torch.Size([762, 512])\n",
      "reshaped rnn_in torch.Size([3, 254, 512])\n",
      "RNN ouput torch.Size([3, 254, 64])\n"
     ]
    },
    {
     "name": "stderr",
     "output_type": "stream",
     "text": [
      " 70%|████████████████████████████████████████████████████████▉                        | 109/155 [00:16<00:07,  6.57it/s]"
     ]
    },
    {
     "name": "stdout",
     "output_type": "stream",
     "text": [
      "mask ouput torch.Size([3, 254, 64])\n",
      "reshaped masked output torch.Size([3, 16256])\n",
      "fc ouput torch.Size([3, 32])\n",
      "logits torch.Size([3, 2])\n",
      "classifier ouput torch.Size([3, 2])\n",
      "-----------------Loss: 0.826983630657196-----------------------\n",
      "------BATCH ENDING-------\n",
      "--------------------------------------------------\n",
      "[tensor([250,  15,  50])]\n",
      "feature shape torch.Size([3, 254, 1, 112, 112])\n",
      "reshape input torch.Size([762, 1, 112, 112])\n",
      "CNN ouput torch.Size([762, 512])\n",
      "reshaped rnn_in torch.Size([3, 254, 512])\n",
      "RNN ouput torch.Size([3, 254, 64])\n",
      "mask ouput torch.Size([3, 254, 64])\n",
      "reshaped masked output torch.Size([3, 16256])\n",
      "fc ouput torch.Size([3, 32])\n",
      "logits torch.Size([3, 2])\n",
      "classifier ouput torch.Size([3, 2])\n",
      "-----------------Loss: 0.6676517128944397-----------------------\n",
      "------BATCH ENDING-------\n",
      "--------------------------------------------------\n",
      "[tensor([100,  33,  34])]\n",
      "feature shape torch.Size([3, 254, 1, 112, 112])\n",
      "reshape input torch.Size([762, 1, 112, 112])\n",
      "CNN ouput torch.Size([762, 512])\n",
      "reshaped rnn_in torch.Size([3, 254, 512])\n",
      "RNN ouput torch.Size([3, 254, 64])\n"
     ]
    },
    {
     "name": "stderr",
     "output_type": "stream",
     "text": [
      " 72%|██████████████████████████████████████████████████████████                       | 111/155 [00:16<00:06,  6.53it/s]"
     ]
    },
    {
     "name": "stdout",
     "output_type": "stream",
     "text": [
      "mask ouput torch.Size([3, 254, 64])\n",
      "reshaped masked output torch.Size([3, 16256])\n",
      "fc ouput torch.Size([3, 32])\n",
      "logits torch.Size([3, 2])\n",
      "classifier ouput torch.Size([3, 2])\n",
      "-----------------Loss: 0.8872076869010925-----------------------\n",
      "------BATCH ENDING-------\n",
      "--------------------------------------------------\n",
      "[tensor([105, 111,  32])]\n",
      "feature shape torch.Size([3, 254, 1, 112, 112])\n",
      "reshape input torch.Size([762, 1, 112, 112])\n",
      "CNN ouput torch.Size([762, 512])\n",
      "reshaped rnn_in torch.Size([3, 254, 512])\n",
      "RNN ouput torch.Size([3, 254, 64])\n",
      "mask ouput torch.Size([3, 254, 64])\n",
      "reshaped masked output torch.Size([3, 16256])\n",
      "fc ouput torch.Size([3, 32])\n",
      "logits torch.Size([3, 2])\n",
      "classifier ouput torch.Size([3, 2])\n",
      "-----------------Loss: 0.7375223636627197-----------------------\n",
      "------BATCH ENDING-------\n",
      "--------------------------------------------------\n",
      "[tensor([ 33,  34, 112])]\n",
      "feature shape torch.Size([3, 254, 1, 112, 112])\n",
      "reshape input torch.Size([762, 1, 112, 112])\n",
      "CNN ouput torch.Size([762, 512])\n",
      "reshaped rnn_in torch.Size([3, 254, 512])\n",
      "RNN ouput torch.Size([3, 254, 64])\n"
     ]
    },
    {
     "name": "stderr",
     "output_type": "stream",
     "text": [
      " 73%|███████████████████████████████████████████████████████████                      | 113/155 [00:16<00:06,  6.59it/s]"
     ]
    },
    {
     "name": "stdout",
     "output_type": "stream",
     "text": [
      "mask ouput torch.Size([3, 254, 64])\n",
      "reshaped masked output torch.Size([3, 16256])\n",
      "fc ouput torch.Size([3, 32])\n",
      "logits torch.Size([3, 2])\n",
      "classifier ouput torch.Size([3, 2])\n",
      "-----------------Loss: 0.5095513463020325-----------------------\n",
      "------BATCH ENDING-------\n",
      "--------------------------------------------------\n",
      "[tensor([ 33,  14, 219])]\n",
      "feature shape torch.Size([3, 254, 1, 112, 112])\n",
      "reshape input torch.Size([762, 1, 112, 112])\n",
      "CNN ouput torch.Size([762, 512])\n",
      "reshaped rnn_in torch.Size([3, 254, 512])\n",
      "RNN ouput torch.Size([3, 254, 64])\n",
      "mask ouput torch.Size([3, 254, 64])\n",
      "reshaped masked output torch.Size([3, 16256])\n",
      "fc ouput torch.Size([3, 32])\n",
      "logits torch.Size([3, 2])\n",
      "classifier ouput torch.Size([3, 2])\n",
      "-----------------Loss: 0.6648737788200378-----------------------\n",
      "------BATCH ENDING-------\n",
      "--------------------------------------------------\n",
      "[tensor([34, 33, 19])]\n",
      "feature shape torch.Size([3, 254, 1, 112, 112])\n",
      "reshape input torch.Size([762, 1, 112, 112])\n",
      "CNN ouput torch.Size([762, 512])\n",
      "reshaped rnn_in torch.Size([3, 254, 512])\n",
      "RNN ouput torch.Size([3, 254, 64])\n"
     ]
    },
    {
     "name": "stderr",
     "output_type": "stream",
     "text": [
      " 74%|████████████████████████████████████████████████████████████                     | 115/155 [00:17<00:06,  6.64it/s]"
     ]
    },
    {
     "name": "stdout",
     "output_type": "stream",
     "text": [
      "mask ouput torch.Size([3, 254, 64])\n",
      "reshaped masked output torch.Size([3, 16256])\n",
      "fc ouput torch.Size([3, 32])\n",
      "logits torch.Size([3, 2])\n",
      "classifier ouput torch.Size([3, 2])\n",
      "-----------------Loss: 0.6992667317390442-----------------------\n",
      "------BATCH ENDING-------\n",
      "--------------------------------------------------\n",
      "[tensor([109,  33,  33])]\n",
      "feature shape torch.Size([3, 254, 1, 112, 112])\n",
      "reshape input torch.Size([762, 1, 112, 112])\n",
      "CNN ouput torch.Size([762, 512])\n",
      "reshaped rnn_in torch.Size([3, 254, 512])\n",
      "RNN ouput torch.Size([3, 254, 64])\n",
      "mask ouput torch.Size([3, 254, 64])\n",
      "reshaped masked output torch.Size([3, 16256])\n",
      "fc ouput torch.Size([3, 32])\n",
      "logits torch.Size([3, 2])\n",
      "classifier ouput torch.Size([3, 2])\n",
      "-----------------Loss: 0.6058582663536072-----------------------\n",
      "------BATCH ENDING-------\n",
      "--------------------------------------------------\n",
      "[tensor([100,  33,  34])]\n",
      "feature shape torch.Size([3, 254, 1, 112, 112])\n",
      "reshape input torch.Size([762, 1, 112, 112])\n",
      "CNN ouput torch.Size([762, 512])\n",
      "reshaped rnn_in torch.Size([3, 254, 512])\n",
      "RNN ouput torch.Size([3, 254, 64])\n"
     ]
    },
    {
     "name": "stderr",
     "output_type": "stream",
     "text": [
      " 75%|█████████████████████████████████████████████████████████████▏                   | 117/155 [00:17<00:05,  6.54it/s]"
     ]
    },
    {
     "name": "stdout",
     "output_type": "stream",
     "text": [
      "mask ouput torch.Size([3, 254, 64])\n",
      "reshaped masked output torch.Size([3, 16256])\n",
      "fc ouput torch.Size([3, 32])\n",
      "logits torch.Size([3, 2])\n",
      "classifier ouput torch.Size([3, 2])\n",
      "-----------------Loss: 0.6009088754653931-----------------------\n",
      "------BATCH ENDING-------\n",
      "--------------------------------------------------\n",
      "[tensor([17, 34, 50])]\n",
      "feature shape torch.Size([3, 254, 1, 112, 112])\n",
      "reshape input torch.Size([762, 1, 112, 112])\n",
      "CNN ouput torch.Size([762, 512])\n",
      "reshaped rnn_in torch.Size([3, 254, 512])\n",
      "RNN ouput torch.Size([3, 254, 64])\n",
      "mask ouput torch.Size([3, 254, 64])\n",
      "reshaped masked output torch.Size([3, 16256])\n",
      "fc ouput torch.Size([3, 32])\n",
      "logits torch.Size([3, 2])\n",
      "classifier ouput torch.Size([3, 2])\n",
      "-----------------Loss: 0.7273289561271667-----------------------\n",
      "------BATCH ENDING-------\n",
      "--------------------------------------------------\n",
      "[tensor([102, 105,  34])]\n",
      "feature shape torch.Size([3, 254, 1, 112, 112])\n",
      "reshape input torch.Size([762, 1, 112, 112])\n",
      "CNN ouput torch.Size([762, 512])\n",
      "reshaped rnn_in torch.Size([3, 254, 512])\n",
      "RNN ouput torch.Size([3, 254, 64])\n"
     ]
    },
    {
     "name": "stderr",
     "output_type": "stream",
     "text": [
      " 77%|██████████████████████████████████████████████████████████████▏                  | 119/155 [00:17<00:05,  6.47it/s]"
     ]
    },
    {
     "name": "stdout",
     "output_type": "stream",
     "text": [
      "mask ouput torch.Size([3, 254, 64])\n",
      "reshaped masked output torch.Size([3, 16256])\n",
      "fc ouput torch.Size([3, 32])\n",
      "logits torch.Size([3, 2])\n",
      "classifier ouput torch.Size([3, 2])\n",
      "-----------------Loss: 0.5821849703788757-----------------------\n",
      "------BATCH ENDING-------\n",
      "--------------------------------------------------\n",
      "[tensor([107,  34, 102])]\n",
      "feature shape torch.Size([3, 254, 1, 112, 112])\n",
      "reshape input torch.Size([762, 1, 112, 112])\n",
      "CNN ouput torch.Size([762, 512])\n",
      "reshaped rnn_in torch.Size([3, 254, 512])\n",
      "RNN ouput torch.Size([3, 254, 64])\n",
      "mask ouput torch.Size([3, 254, 64])\n",
      "reshaped masked output torch.Size([3, 16256])\n",
      "fc ouput torch.Size([3, 32])\n",
      "logits torch.Size([3, 2])\n",
      "classifier ouput torch.Size([3, 2])\n",
      "-----------------Loss: 0.7302854061126709-----------------------\n",
      "------BATCH ENDING-------\n",
      "--------------------------------------------------\n",
      "[tensor([51, 11, 17])]\n",
      "feature shape torch.Size([3, 254, 1, 112, 112])\n",
      "reshape input torch.Size([762, 1, 112, 112])\n",
      "CNN ouput torch.Size([762, 512])\n",
      "reshaped rnn_in torch.Size([3, 254, 512])\n",
      "RNN ouput torch.Size([3, 254, 64])\n"
     ]
    },
    {
     "name": "stderr",
     "output_type": "stream",
     "text": [
      " 78%|███████████████████████████████████████████████████████████████▏                 | 121/155 [00:18<00:05,  6.50it/s]"
     ]
    },
    {
     "name": "stdout",
     "output_type": "stream",
     "text": [
      "mask ouput torch.Size([3, 254, 64])\n",
      "reshaped masked output torch.Size([3, 16256])\n",
      "fc ouput torch.Size([3, 32])\n",
      "logits torch.Size([3, 2])\n",
      "classifier ouput torch.Size([3, 2])\n",
      "-----------------Loss: 0.6571739315986633-----------------------\n",
      "------BATCH ENDING-------\n",
      "--------------------------------------------------\n",
      "[tensor([ 31, 107,  14])]\n",
      "feature shape torch.Size([3, 254, 1, 112, 112])\n",
      "reshape input torch.Size([762, 1, 112, 112])\n",
      "CNN ouput torch.Size([762, 512])\n",
      "reshaped rnn_in torch.Size([3, 254, 512])\n",
      "RNN ouput torch.Size([3, 254, 64])\n",
      "mask ouput torch.Size([3, 254, 64])\n",
      "reshaped masked output torch.Size([3, 16256])\n",
      "fc ouput torch.Size([3, 32])\n",
      "logits torch.Size([3, 2])\n",
      "classifier ouput torch.Size([3, 2])\n",
      "-----------------Loss: 0.7093991637229919-----------------------\n",
      "------BATCH ENDING-------\n",
      "--------------------------------------------------\n",
      "[tensor([102,  99,  33])]\n",
      "feature shape torch.Size([3, 254, 1, 112, 112])\n",
      "reshape input torch.Size([762, 1, 112, 112])\n",
      "CNN ouput torch.Size([762, 512])\n",
      "reshaped rnn_in torch.Size([3, 254, 512])\n",
      "RNN ouput torch.Size([3, 254, 64])\n"
     ]
    },
    {
     "name": "stderr",
     "output_type": "stream",
     "text": [
      " 79%|████████████████████████████████████████████████████████████████▎                | 123/155 [00:18<00:04,  6.61it/s]"
     ]
    },
    {
     "name": "stdout",
     "output_type": "stream",
     "text": [
      "mask ouput torch.Size([3, 254, 64])\n",
      "reshaped masked output torch.Size([3, 16256])\n",
      "fc ouput torch.Size([3, 32])\n",
      "logits torch.Size([3, 2])\n",
      "classifier ouput torch.Size([3, 2])\n",
      "-----------------Loss: 0.7009901404380798-----------------------\n",
      "------BATCH ENDING-------\n",
      "--------------------------------------------------\n",
      "[tensor([33, 33, 35])]\n",
      "feature shape torch.Size([3, 254, 1, 112, 112])\n",
      "reshape input torch.Size([762, 1, 112, 112])\n",
      "CNN ouput torch.Size([762, 512])\n",
      "reshaped rnn_in torch.Size([3, 254, 512])\n",
      "RNN ouput torch.Size([3, 254, 64])\n",
      "mask ouput torch.Size([3, 254, 64])\n",
      "reshaped masked output torch.Size([3, 16256])\n",
      "fc ouput torch.Size([3, 32])\n",
      "logits torch.Size([3, 2])\n",
      "classifier ouput torch.Size([3, 2])\n",
      "-----------------Loss: 0.7435417175292969-----------------------\n",
      "------BATCH ENDING-------\n",
      "--------------------------------------------------\n",
      "[tensor([34, 32, 99])]\n",
      "feature shape torch.Size([3, 254, 1, 112, 112])\n",
      "reshape input torch.Size([762, 1, 112, 112])\n",
      "CNN ouput torch.Size([762, 512])\n",
      "reshaped rnn_in torch.Size([3, 254, 512])\n",
      "RNN ouput torch.Size([3, 254, 64])\n"
     ]
    },
    {
     "name": "stderr",
     "output_type": "stream",
     "text": [
      " 81%|█████████████████████████████████████████████████████████████████▎               | 125/155 [00:18<00:04,  6.70it/s]"
     ]
    },
    {
     "name": "stdout",
     "output_type": "stream",
     "text": [
      "mask ouput torch.Size([3, 254, 64])\n",
      "reshaped masked output torch.Size([3, 16256])\n",
      "fc ouput torch.Size([3, 32])\n",
      "logits torch.Size([3, 2])\n",
      "classifier ouput torch.Size([3, 2])\n",
      "-----------------Loss: 0.6131210327148438-----------------------\n",
      "------BATCH ENDING-------\n",
      "--------------------------------------------------\n",
      "[tensor([ 20, 110,  33])]\n",
      "feature shape torch.Size([3, 254, 1, 112, 112])\n",
      "reshape input torch.Size([762, 1, 112, 112])\n",
      "CNN ouput torch.Size([762, 512])\n",
      "reshaped rnn_in torch.Size([3, 254, 512])\n",
      "RNN ouput torch.Size([3, 254, 64])\n",
      "mask ouput torch.Size([3, 254, 64])\n",
      "reshaped masked output torch.Size([3, 16256])\n",
      "fc ouput torch.Size([3, 32])\n",
      "logits torch.Size([3, 2])\n",
      "classifier ouput torch.Size([3, 2])\n",
      "-----------------Loss: 0.640277624130249-----------------------\n",
      "------BATCH ENDING-------\n",
      "--------------------------------------------------\n",
      "[tensor([ 15, 197,  94])]\n",
      "feature shape torch.Size([3, 254, 1, 112, 112])\n",
      "reshape input torch.Size([762, 1, 112, 112])\n",
      "CNN ouput torch.Size([762, 512])\n",
      "reshaped rnn_in torch.Size([3, 254, 512])\n",
      "RNN ouput torch.Size([3, 254, 64])\n"
     ]
    },
    {
     "name": "stderr",
     "output_type": "stream",
     "text": [
      " 82%|██████████████████████████████████████████████████████████████████▎              | 127/155 [00:19<00:04,  6.74it/s]"
     ]
    },
    {
     "name": "stdout",
     "output_type": "stream",
     "text": [
      "mask ouput torch.Size([3, 254, 64])\n",
      "reshaped masked output torch.Size([3, 16256])\n",
      "fc ouput torch.Size([3, 32])\n",
      "logits torch.Size([3, 2])\n",
      "classifier ouput torch.Size([3, 2])\n",
      "-----------------Loss: 0.5687313079833984-----------------------\n",
      "------BATCH ENDING-------\n",
      "--------------------------------------------------\n",
      "[tensor([100, 105,  15])]\n",
      "feature shape torch.Size([3, 254, 1, 112, 112])\n",
      "reshape input torch.Size([762, 1, 112, 112])\n",
      "CNN ouput torch.Size([762, 512])\n",
      "reshaped rnn_in torch.Size([3, 254, 512])\n",
      "RNN ouput torch.Size([3, 254, 64])\n",
      "mask ouput torch.Size([3, 254, 64])\n",
      "reshaped masked output torch.Size([3, 16256])\n",
      "fc ouput torch.Size([3, 32])\n",
      "logits torch.Size([3, 2])\n",
      "classifier ouput torch.Size([3, 2])\n",
      "-----------------Loss: 0.6532735824584961-----------------------\n",
      "------BATCH ENDING-------\n",
      "--------------------------------------------------\n",
      "[tensor([ 33,  31, 100])]\n",
      "feature shape torch.Size([3, 254, 1, 112, 112])\n",
      "reshape input torch.Size([762, 1, 112, 112])\n",
      "CNN ouput torch.Size([762, 512])\n",
      "reshaped rnn_in torch.Size([3, 254, 512])\n",
      "RNN ouput torch.Size([3, 254, 64])\n"
     ]
    },
    {
     "name": "stderr",
     "output_type": "stream",
     "text": [
      " 83%|███████████████████████████████████████████████████████████████████▍             | 129/155 [00:19<00:03,  6.69it/s]"
     ]
    },
    {
     "name": "stdout",
     "output_type": "stream",
     "text": [
      "mask ouput torch.Size([3, 254, 64])\n",
      "reshaped masked output torch.Size([3, 16256])\n",
      "fc ouput torch.Size([3, 32])\n",
      "logits torch.Size([3, 2])\n",
      "classifier ouput torch.Size([3, 2])\n",
      "-----------------Loss: 0.702540397644043-----------------------\n",
      "------BATCH ENDING-------\n",
      "--------------------------------------------------\n",
      "[tensor([109, 202,  15])]\n",
      "feature shape torch.Size([3, 254, 1, 112, 112])\n",
      "reshape input torch.Size([762, 1, 112, 112])\n",
      "CNN ouput torch.Size([762, 512])\n",
      "reshaped rnn_in torch.Size([3, 254, 512])\n",
      "RNN ouput torch.Size([3, 254, 64])\n",
      "mask ouput torch.Size([3, 254, 64])\n",
      "reshaped masked output torch.Size([3, 16256])\n",
      "fc ouput torch.Size([3, 32])\n",
      "logits torch.Size([3, 2])\n",
      "classifier ouput torch.Size([3, 2])\n",
      "-----------------Loss: 0.678219735622406-----------------------\n",
      "------BATCH ENDING-------\n",
      "--------------------------------------------------\n",
      "[tensor([ 23,  35, 112])]\n",
      "feature shape torch.Size([3, 254, 1, 112, 112])\n",
      "reshape input torch.Size([762, 1, 112, 112])\n",
      "CNN ouput torch.Size([762, 512])\n",
      "reshaped rnn_in torch.Size([3, 254, 512])\n",
      "RNN ouput torch.Size([3, 254, 64])\n"
     ]
    },
    {
     "name": "stderr",
     "output_type": "stream",
     "text": [
      " 85%|████████████████████████████████████████████████████████████████████▍            | 131/155 [00:19<00:03,  6.68it/s]"
     ]
    },
    {
     "name": "stdout",
     "output_type": "stream",
     "text": [
      "mask ouput torch.Size([3, 254, 64])\n",
      "reshaped masked output torch.Size([3, 16256])\n",
      "fc ouput torch.Size([3, 32])\n",
      "logits torch.Size([3, 2])\n",
      "classifier ouput torch.Size([3, 2])\n",
      "-----------------Loss: 0.7768176198005676-----------------------\n",
      "------BATCH ENDING-------\n",
      "--------------------------------------------------\n",
      "[tensor([ 16, 199,  12])]\n",
      "feature shape torch.Size([3, 254, 1, 112, 112])\n",
      "reshape input torch.Size([762, 1, 112, 112])\n",
      "CNN ouput torch.Size([762, 512])\n",
      "reshaped rnn_in torch.Size([3, 254, 512])\n",
      "RNN ouput torch.Size([3, 254, 64])\n",
      "mask ouput torch.Size([3, 254, 64])\n",
      "reshaped masked output torch.Size([3, 16256])\n",
      "fc ouput torch.Size([3, 32])\n",
      "logits torch.Size([3, 2])\n",
      "classifier ouput torch.Size([3, 2])\n",
      "-----------------Loss: 0.5703430771827698-----------------------\n",
      "------BATCH ENDING-------\n",
      "--------------------------------------------------\n",
      "[tensor([ 32, 100,  49])]\n",
      "feature shape torch.Size([3, 254, 1, 112, 112])\n",
      "reshape input torch.Size([762, 1, 112, 112])\n",
      "CNN ouput torch.Size([762, 512])\n",
      "reshaped rnn_in torch.Size([3, 254, 512])\n",
      "RNN ouput torch.Size([3, 254, 64])\n"
     ]
    },
    {
     "name": "stderr",
     "output_type": "stream",
     "text": [
      " 86%|█████████████████████████████████████████████████████████████████████▌           | 133/155 [00:19<00:03,  6.79it/s]"
     ]
    },
    {
     "name": "stdout",
     "output_type": "stream",
     "text": [
      "mask ouput torch.Size([3, 254, 64])\n",
      "reshaped masked output torch.Size([3, 16256])\n",
      "fc ouput torch.Size([3, 32])\n",
      "logits torch.Size([3, 2])\n",
      "classifier ouput torch.Size([3, 2])\n",
      "-----------------Loss: 0.5911768078804016-----------------------\n",
      "------BATCH ENDING-------\n",
      "--------------------------------------------------\n",
      "[tensor([ 91,  32, 104])]\n",
      "feature shape torch.Size([3, 254, 1, 112, 112])\n",
      "reshape input torch.Size([762, 1, 112, 112])\n",
      "CNN ouput torch.Size([762, 512])\n",
      "reshaped rnn_in torch.Size([3, 254, 512])\n",
      "RNN ouput torch.Size([3, 254, 64])\n",
      "mask ouput torch.Size([3, 254, 64])\n",
      "reshaped masked output torch.Size([3, 16256])\n",
      "fc ouput torch.Size([3, 32])\n",
      "logits torch.Size([3, 2])\n",
      "classifier ouput torch.Size([3, 2])\n",
      "-----------------Loss: 0.7438542246818542-----------------------\n",
      "------BATCH ENDING-------\n",
      "--------------------------------------------------\n",
      "[tensor([ 39,  35, 113])]\n",
      "feature shape torch.Size([3, 254, 1, 112, 112])\n",
      "reshape input torch.Size([762, 1, 112, 112])\n",
      "CNN ouput torch.Size([762, 512])\n",
      "reshaped rnn_in torch.Size([3, 254, 512])\n",
      "RNN ouput torch.Size([3, 254, 64])\n"
     ]
    },
    {
     "name": "stderr",
     "output_type": "stream",
     "text": [
      " 87%|██████████████████████████████████████████████████████████████████████▌          | 135/155 [00:20<00:02,  6.71it/s]"
     ]
    },
    {
     "name": "stdout",
     "output_type": "stream",
     "text": [
      "mask ouput torch.Size([3, 254, 64])\n",
      "reshaped masked output torch.Size([3, 16256])\n",
      "fc ouput torch.Size([3, 32])\n",
      "logits torch.Size([3, 2])\n",
      "classifier ouput torch.Size([3, 2])\n",
      "-----------------Loss: 0.583999752998352-----------------------\n",
      "------BATCH ENDING-------\n",
      "--------------------------------------------------\n",
      "[tensor([35, 34, 16])]\n",
      "feature shape torch.Size([3, 254, 1, 112, 112])\n",
      "reshape input torch.Size([762, 1, 112, 112])\n",
      "CNN ouput torch.Size([762, 512])\n",
      "reshaped rnn_in torch.Size([3, 254, 512])\n",
      "RNN ouput torch.Size([3, 254, 64])\n",
      "mask ouput torch.Size([3, 254, 64])\n",
      "reshaped masked output torch.Size([3, 16256])\n",
      "fc ouput torch.Size([3, 32])\n",
      "logits torch.Size([3, 2])\n",
      "classifier ouput torch.Size([3, 2])\n",
      "-----------------Loss: 0.675445556640625-----------------------\n",
      "------BATCH ENDING-------\n",
      "--------------------------------------------------\n",
      "[tensor([12, 18, 34])]\n",
      "feature shape torch.Size([3, 254, 1, 112, 112])\n",
      "reshape input torch.Size([762, 1, 112, 112])\n",
      "CNN ouput torch.Size([762, 512])\n",
      "reshaped rnn_in torch.Size([3, 254, 512])\n",
      "RNN ouput torch.Size([3, 254, 64])\n"
     ]
    },
    {
     "name": "stderr",
     "output_type": "stream",
     "text": [
      " 88%|███████████████████████████████████████████████████████████████████████▌         | 137/155 [00:20<00:02,  6.54it/s]"
     ]
    },
    {
     "name": "stdout",
     "output_type": "stream",
     "text": [
      "mask ouput torch.Size([3, 254, 64])\n",
      "reshaped masked output torch.Size([3, 16256])\n",
      "fc ouput torch.Size([3, 32])\n",
      "logits torch.Size([3, 2])\n",
      "classifier ouput torch.Size([3, 2])\n",
      "-----------------Loss: 0.7329690456390381-----------------------\n",
      "------BATCH ENDING-------\n",
      "--------------------------------------------------\n",
      "[tensor([ 90, 204, 107])]\n",
      "feature shape torch.Size([3, 254, 1, 112, 112])\n",
      "reshape input torch.Size([762, 1, 112, 112])\n",
      "CNN ouput torch.Size([762, 512])\n",
      "reshaped rnn_in torch.Size([3, 254, 512])\n",
      "RNN ouput torch.Size([3, 254, 64])\n",
      "mask ouput torch.Size([3, 254, 64])\n",
      "reshaped masked output torch.Size([3, 16256])\n",
      "fc ouput torch.Size([3, 32])\n",
      "logits torch.Size([3, 2])\n",
      "classifier ouput torch.Size([3, 2])\n",
      "-----------------Loss: 0.5152718424797058-----------------------\n",
      "------BATCH ENDING-------\n",
      "--------------------------------------------------\n",
      "[tensor([34, 33, 30])]\n",
      "feature shape torch.Size([3, 254, 1, 112, 112])\n",
      "reshape input torch.Size([762, 1, 112, 112])\n",
      "CNN ouput torch.Size([762, 512])\n",
      "reshaped rnn_in torch.Size([3, 254, 512])\n",
      "RNN ouput torch.Size([3, 254, 64])\n"
     ]
    },
    {
     "name": "stderr",
     "output_type": "stream",
     "text": [
      " 90%|████████████████████████████████████████████████████████████████████████▋        | 139/155 [00:20<00:02,  6.55it/s]"
     ]
    },
    {
     "name": "stdout",
     "output_type": "stream",
     "text": [
      "mask ouput torch.Size([3, 254, 64])\n",
      "reshaped masked output torch.Size([3, 16256])\n",
      "fc ouput torch.Size([3, 32])\n",
      "logits torch.Size([3, 2])\n",
      "classifier ouput torch.Size([3, 2])\n",
      "-----------------Loss: 0.6611140370368958-----------------------\n",
      "------BATCH ENDING-------\n",
      "--------------------------------------------------\n",
      "[tensor([174, 112,  33])]\n",
      "feature shape torch.Size([3, 254, 1, 112, 112])\n",
      "reshape input torch.Size([762, 1, 112, 112])\n",
      "CNN ouput torch.Size([762, 512])\n",
      "reshaped rnn_in torch.Size([3, 254, 512])\n",
      "RNN ouput torch.Size([3, 254, 64])\n",
      "mask ouput torch.Size([3, 254, 64])\n",
      "reshaped masked output torch.Size([3, 16256])\n",
      "fc ouput torch.Size([3, 32])\n",
      "logits torch.Size([3, 2])\n",
      "classifier ouput torch.Size([3, 2])\n",
      "-----------------Loss: 0.41304197907447815-----------------------\n",
      "------BATCH ENDING-------\n",
      "--------------------------------------------------\n",
      "[tensor([ 97,  18, 101])]\n",
      "feature shape torch.Size([3, 254, 1, 112, 112])\n",
      "reshape input torch.Size([762, 1, 112, 112])\n",
      "CNN ouput torch.Size([762, 512])\n",
      "reshaped rnn_in torch.Size([3, 254, 512])\n",
      "RNN ouput torch.Size([3, 254, 64])\n"
     ]
    },
    {
     "name": "stderr",
     "output_type": "stream",
     "text": [
      " 91%|█████████████████████████████████████████████████████████████████████████▋       | 141/155 [00:21<00:02,  6.41it/s]"
     ]
    },
    {
     "name": "stdout",
     "output_type": "stream",
     "text": [
      "mask ouput torch.Size([3, 254, 64])\n",
      "reshaped masked output torch.Size([3, 16256])\n",
      "fc ouput torch.Size([3, 32])\n",
      "logits torch.Size([3, 2])\n",
      "classifier ouput torch.Size([3, 2])\n",
      "-----------------Loss: 0.7753901481628418-----------------------\n",
      "------BATCH ENDING-------\n",
      "--------------------------------------------------\n",
      "[tensor([ 90, 107,  12])]\n",
      "feature shape torch.Size([3, 254, 1, 112, 112])\n",
      "reshape input torch.Size([762, 1, 112, 112])\n",
      "CNN ouput torch.Size([762, 512])\n",
      "reshaped rnn_in torch.Size([3, 254, 512])\n",
      "RNN ouput torch.Size([3, 254, 64])\n",
      "mask ouput torch.Size([3, 254, 64])\n",
      "reshaped masked output torch.Size([3, 16256])\n",
      "fc ouput torch.Size([3, 32])\n",
      "logits torch.Size([3, 2])\n",
      "classifier ouput torch.Size([3, 2])\n",
      "-----------------Loss: 0.533160388469696-----------------------\n",
      "------BATCH ENDING-------\n",
      "--------------------------------------------------\n",
      "[tensor([98, 32, 17])]\n",
      "feature shape torch.Size([3, 254, 1, 112, 112])\n",
      "reshape input torch.Size([762, 1, 112, 112])\n",
      "CNN ouput torch.Size([762, 512])\n",
      "reshaped rnn_in torch.Size([3, 254, 512])\n",
      "RNN ouput torch.Size([3, 254, 64])\n"
     ]
    },
    {
     "name": "stderr",
     "output_type": "stream",
     "text": [
      " 92%|██████████████████████████████████████████████████████████████████████████▋      | 143/155 [00:21<00:01,  6.31it/s]"
     ]
    },
    {
     "name": "stdout",
     "output_type": "stream",
     "text": [
      "mask ouput torch.Size([3, 254, 64])\n",
      "reshaped masked output torch.Size([3, 16256])\n",
      "fc ouput torch.Size([3, 32])\n",
      "logits torch.Size([3, 2])\n",
      "classifier ouput torch.Size([3, 2])\n",
      "-----------------Loss: 0.7386457920074463-----------------------\n",
      "------BATCH ENDING-------\n",
      "--------------------------------------------------\n",
      "[tensor([102,  49,  20])]\n",
      "feature shape torch.Size([3, 254, 1, 112, 112])\n",
      "reshape input torch.Size([762, 1, 112, 112])\n",
      "CNN ouput torch.Size([762, 512])\n",
      "reshaped rnn_in torch.Size([3, 254, 512])\n",
      "RNN ouput torch.Size([3, 254, 64])\n",
      "mask ouput torch.Size([3, 254, 64])\n",
      "reshaped masked output torch.Size([3, 16256])\n",
      "fc ouput torch.Size([3, 32])\n",
      "logits torch.Size([3, 2])\n",
      "classifier ouput torch.Size([3, 2])\n",
      "-----------------Loss: 0.7151114344596863-----------------------\n",
      "------BATCH ENDING-------\n",
      "--------------------------------------------------\n",
      "[tensor([ 32,  35, 105])]\n",
      "feature shape torch.Size([3, 254, 1, 112, 112])\n",
      "reshape input torch.Size([762, 1, 112, 112])\n",
      "CNN ouput torch.Size([762, 512])\n",
      "reshaped rnn_in torch.Size([3, 254, 512])\n",
      "RNN ouput torch.Size([3, 254, 64])\n"
     ]
    },
    {
     "name": "stderr",
     "output_type": "stream",
     "text": [
      " 94%|███████████████████████████████████████████████████████████████████████████▊     | 145/155 [00:21<00:01,  6.46it/s]"
     ]
    },
    {
     "name": "stdout",
     "output_type": "stream",
     "text": [
      "mask ouput torch.Size([3, 254, 64])\n",
      "reshaped masked output torch.Size([3, 16256])\n",
      "fc ouput torch.Size([3, 32])\n",
      "logits torch.Size([3, 2])\n",
      "classifier ouput torch.Size([3, 2])\n",
      "-----------------Loss: 0.6373076438903809-----------------------\n",
      "------BATCH ENDING-------\n",
      "--------------------------------------------------\n",
      "[tensor([95, 19, 79])]\n",
      "feature shape torch.Size([3, 254, 1, 112, 112])\n",
      "reshape input torch.Size([762, 1, 112, 112])\n",
      "CNN ouput torch.Size([762, 512])\n",
      "reshaped rnn_in torch.Size([3, 254, 512])\n",
      "RNN ouput torch.Size([3, 254, 64])\n",
      "mask ouput torch.Size([3, 254, 64])\n",
      "reshaped masked output torch.Size([3, 16256])\n",
      "fc ouput torch.Size([3, 32])\n",
      "logits torch.Size([3, 2])\n",
      "classifier ouput torch.Size([3, 2])\n",
      "-----------------Loss: 0.6670687198638916-----------------------\n",
      "------BATCH ENDING-------\n",
      "--------------------------------------------------\n",
      "[tensor([93, 16, 32])]\n",
      "feature shape torch.Size([3, 254, 1, 112, 112])\n",
      "reshape input torch.Size([762, 1, 112, 112])\n",
      "CNN ouput torch.Size([762, 512])\n",
      "reshaped rnn_in torch.Size([3, 254, 512])\n",
      "RNN ouput torch.Size([3, 254, 64])\n"
     ]
    },
    {
     "name": "stderr",
     "output_type": "stream",
     "text": [
      " 95%|████████████████████████████████████████████████████████████████████████████▊    | 147/155 [00:22<00:01,  6.28it/s]"
     ]
    },
    {
     "name": "stdout",
     "output_type": "stream",
     "text": [
      "mask ouput torch.Size([3, 254, 64])\n",
      "reshaped masked output torch.Size([3, 16256])\n",
      "fc ouput torch.Size([3, 32])\n",
      "logits torch.Size([3, 2])\n",
      "classifier ouput torch.Size([3, 2])\n",
      "-----------------Loss: 0.6487833857536316-----------------------\n",
      "------BATCH ENDING-------\n",
      "--------------------------------------------------\n",
      "[tensor([ 34,  49, 124])]\n",
      "feature shape torch.Size([3, 254, 1, 112, 112])\n",
      "reshape input torch.Size([762, 1, 112, 112])\n",
      "CNN ouput torch.Size([762, 512])\n",
      "reshaped rnn_in torch.Size([3, 254, 512])\n",
      "RNN ouput torch.Size([3, 254, 64])\n",
      "mask ouput torch.Size([3, 254, 64])\n",
      "reshaped masked output torch.Size([3, 16256])\n",
      "fc ouput torch.Size([3, 32])\n",
      "logits torch.Size([3, 2])\n",
      "classifier ouput torch.Size([3, 2])\n",
      "-----------------Loss: 0.7384738326072693-----------------------\n",
      "------BATCH ENDING-------\n",
      "--------------------------------------------------\n",
      "[tensor([ 34, 103,  20])]\n",
      "feature shape torch.Size([3, 254, 1, 112, 112])\n",
      "reshape input torch.Size([762, 1, 112, 112])\n",
      "CNN ouput torch.Size([762, 512])\n",
      "reshaped rnn_in torch.Size([3, 254, 512])\n",
      "RNN ouput torch.Size([3, 254, 64])\n"
     ]
    },
    {
     "name": "stderr",
     "output_type": "stream",
     "text": [
      " 96%|█████████████████████████████████████████████████████████████████████████████▊   | 149/155 [00:22<00:00,  6.23it/s]"
     ]
    },
    {
     "name": "stdout",
     "output_type": "stream",
     "text": [
      "mask ouput torch.Size([3, 254, 64])\n",
      "reshaped masked output torch.Size([3, 16256])\n",
      "fc ouput torch.Size([3, 32])\n",
      "logits torch.Size([3, 2])\n",
      "classifier ouput torch.Size([3, 2])\n",
      "-----------------Loss: 0.7360284924507141-----------------------\n",
      "------BATCH ENDING-------\n",
      "--------------------------------------------------\n",
      "[tensor([ 96, 101, 189])]\n",
      "feature shape torch.Size([3, 254, 1, 112, 112])\n",
      "reshape input torch.Size([762, 1, 112, 112])\n",
      "CNN ouput torch.Size([762, 512])\n",
      "reshaped rnn_in torch.Size([3, 254, 512])\n",
      "RNN ouput torch.Size([3, 254, 64])\n",
      "mask ouput torch.Size([3, 254, 64])\n",
      "reshaped masked output torch.Size([3, 16256])\n",
      "fc ouput torch.Size([3, 32])\n",
      "logits torch.Size([3, 2])\n",
      "classifier ouput torch.Size([3, 2])\n",
      "-----------------Loss: 0.6029748320579529-----------------------\n",
      "------BATCH ENDING-------\n",
      "--------------------------------------------------\n",
      "[tensor([106,  33, 100])]\n",
      "feature shape torch.Size([3, 254, 1, 112, 112])\n",
      "reshape input torch.Size([762, 1, 112, 112])\n",
      "CNN ouput torch.Size([762, 512])\n",
      "reshaped rnn_in torch.Size([3, 254, 512])\n",
      "RNN ouput torch.Size([3, 254, 64])\n"
     ]
    },
    {
     "name": "stderr",
     "output_type": "stream",
     "text": [
      " 97%|██████████████████████████████████████████████████████████████████████████████▉  | 151/155 [00:22<00:00,  6.02it/s]"
     ]
    },
    {
     "name": "stdout",
     "output_type": "stream",
     "text": [
      "mask ouput torch.Size([3, 254, 64])\n",
      "reshaped masked output torch.Size([3, 16256])\n",
      "fc ouput torch.Size([3, 32])\n",
      "logits torch.Size([3, 2])\n",
      "classifier ouput torch.Size([3, 2])\n",
      "-----------------Loss: 0.5572187304496765-----------------------\n",
      "------BATCH ENDING-------\n",
      "--------------------------------------------------\n",
      "[tensor([108,  95,  35])]\n",
      "feature shape torch.Size([3, 254, 1, 112, 112])\n",
      "reshape input torch.Size([762, 1, 112, 112])\n",
      "CNN ouput torch.Size([762, 512])\n",
      "reshaped rnn_in torch.Size([3, 254, 512])\n",
      "RNN ouput torch.Size([3, 254, 64])\n",
      "mask ouput torch.Size([3, 254, 64])\n",
      "reshaped masked output torch.Size([3, 16256])\n",
      "fc ouput torch.Size([3, 32])\n",
      "logits torch.Size([3, 2])\n",
      "classifier ouput torch.Size([3, 2])\n",
      "-----------------Loss: 0.5064930319786072-----------------------\n",
      "------BATCH ENDING-------\n",
      "--------------------------------------------------\n",
      "[tensor([ 16,  91, 105])]\n",
      "feature shape torch.Size([3, 254, 1, 112, 112])\n",
      "reshape input torch.Size([762, 1, 112, 112])\n"
     ]
    },
    {
     "name": "stderr",
     "output_type": "stream",
     "text": [
      " 98%|███████████████████████████████████████████████████████████████████████████████▍ | 152/155 [00:22<00:00,  6.07it/s]"
     ]
    },
    {
     "name": "stdout",
     "output_type": "stream",
     "text": [
      "CNN ouput torch.Size([762, 512])\n",
      "reshaped rnn_in torch.Size([3, 254, 512])\n",
      "RNN ouput torch.Size([3, 254, 64])\n",
      "mask ouput torch.Size([3, 254, 64])\n",
      "reshaped masked output torch.Size([3, 16256])\n",
      "fc ouput torch.Size([3, 32])\n",
      "logits torch.Size([3, 2])\n",
      "classifier ouput torch.Size([3, 2])\n",
      "-----------------Loss: 0.5575631260871887-----------------------\n",
      "------BATCH ENDING-------\n",
      "--------------------------------------------------\n",
      "[tensor([34, 99, 17])]\n",
      "feature shape torch.Size([3, 254, 1, 112, 112])\n",
      "reshape input torch.Size([762, 1, 112, 112])\n",
      "CNN ouput torch.Size([762, 512])\n",
      "reshaped rnn_in torch.Size([3, 254, 512])\n",
      "RNN ouput torch.Size([3, 254, 64])\n"
     ]
    },
    {
     "name": "stderr",
     "output_type": "stream",
     "text": [
      " 99%|████████████████████████████████████████████████████████████████████████████████▍| 154/155 [00:23<00:00,  6.31it/s]"
     ]
    },
    {
     "name": "stdout",
     "output_type": "stream",
     "text": [
      "mask ouput torch.Size([3, 254, 64])\n",
      "reshaped masked output torch.Size([3, 16256])\n",
      "fc ouput torch.Size([3, 32])\n",
      "logits torch.Size([3, 2])\n",
      "classifier ouput torch.Size([3, 2])\n",
      "-----------------Loss: 0.8540689945220947-----------------------\n",
      "------BATCH ENDING-------\n",
      "--------------------------------------------------\n",
      "[tensor([101,  32,  35])]\n",
      "feature shape torch.Size([3, 254, 1, 112, 112])\n",
      "reshape input torch.Size([762, 1, 112, 112])\n",
      "CNN ouput torch.Size([762, 512])\n",
      "reshaped rnn_in torch.Size([3, 254, 512])\n",
      "RNN ouput torch.Size([3, 254, 64])\n",
      "mask ouput torch.Size([3, 254, 64])\n",
      "reshaped masked output torch.Size([3, 16256])\n",
      "fc ouput torch.Size([3, 32])\n",
      "logits torch.Size([3, 2])\n",
      "classifier ouput torch.Size([3, 2])\n",
      "-----------------Loss: 0.8266582489013672-----------------------\n",
      "------BATCH ENDING-------\n",
      "--------------------------------------------------\n",
      "[tensor([109,  34, 123])]\n",
      "feature shape torch.Size([3, 254, 1, 112, 112])\n",
      "reshape input torch.Size([762, 1, 112, 112])\n",
      "CNN ouput torch.Size([762, 512])\n",
      "reshaped rnn_in torch.Size([3, 254, 512])\n",
      "RNN ouput torch.Size([3, 254, 64])\n"
     ]
    },
    {
     "name": "stderr",
     "output_type": "stream",
     "text": [
      "100%|█████████████████████████████████████████████████████████████████████████████████| 155/155 [00:23<00:00,  6.61it/s]\n"
     ]
    },
    {
     "name": "stdout",
     "output_type": "stream",
     "text": [
      "mask ouput torch.Size([3, 254, 64])\n",
      "reshaped masked output torch.Size([3, 16256])\n",
      "fc ouput torch.Size([3, 32])\n",
      "logits torch.Size([3, 2])\n",
      "classifier ouput torch.Size([3, 2])\n",
      "-----------------Loss: 0.5209019780158997-----------------------\n",
      "------BATCH ENDING-------\n",
      "Epoch: 3/5 | Loss: 0.65928 | Accuracy: 0.5892% | F1 Score: 0.5818 | AUROC: 0.6403 | Time: 23.459688425064087\n"
     ]
    },
    {
     "name": "stderr",
     "output_type": "stream",
     "text": [
      "  1%|▌                                                                                  | 1/155 [00:00<01:39,  1.54it/s]"
     ]
    },
    {
     "name": "stdout",
     "output_type": "stream",
     "text": [
      "--------------------------------------------------\n",
      "[tensor([ 34,  35, 174])]\n",
      "feature shape torch.Size([3, 254, 1, 112, 112])\n",
      "reshape input torch.Size([762, 1, 112, 112])\n",
      "CNN ouput torch.Size([762, 512])\n",
      "reshaped rnn_in torch.Size([3, 254, 512])\n",
      "RNN ouput torch.Size([3, 254, 64])\n",
      "mask ouput torch.Size([3, 254, 64])\n",
      "reshaped masked output torch.Size([3, 16256])\n",
      "fc ouput torch.Size([3, 32])\n",
      "logits torch.Size([3, 2])\n",
      "classifier ouput torch.Size([3, 2])\n",
      "-----------------Loss: 0.49893438816070557-----------------------\n",
      "------BATCH ENDING-------\n",
      "--------------------------------------------------\n",
      "[tensor([195, 109,  20])]\n",
      "feature shape torch.Size([3, 254, 1, 112, 112])\n",
      "reshape input torch.Size([762, 1, 112, 112])\n",
      "CNN ouput torch.Size([762, 512])\n",
      "reshaped rnn_in torch.Size([3, 254, 512])\n",
      "RNN ouput torch.Size([3, 254, 64])\n"
     ]
    },
    {
     "name": "stderr",
     "output_type": "stream",
     "text": [
      "  2%|█▌                                                                                 | 3/155 [00:00<00:39,  3.84it/s]"
     ]
    },
    {
     "name": "stdout",
     "output_type": "stream",
     "text": [
      "mask ouput torch.Size([3, 254, 64])\n",
      "reshaped masked output torch.Size([3, 16256])\n",
      "fc ouput torch.Size([3, 32])\n",
      "logits torch.Size([3, 2])\n",
      "classifier ouput torch.Size([3, 2])\n",
      "-----------------Loss: 0.41789332032203674-----------------------\n",
      "------BATCH ENDING-------\n",
      "--------------------------------------------------\n",
      "[tensor([34, 96, 34])]\n",
      "feature shape torch.Size([3, 254, 1, 112, 112])\n",
      "reshape input torch.Size([762, 1, 112, 112])\n",
      "CNN ouput torch.Size([762, 512])\n",
      "reshaped rnn_in torch.Size([3, 254, 512])\n",
      "RNN ouput torch.Size([3, 254, 64])\n",
      "mask ouput torch.Size([3, 254, 64])\n",
      "reshaped masked output torch.Size([3, 16256])\n",
      "fc ouput torch.Size([3, 32])\n",
      "logits torch.Size([3, 2])\n",
      "classifier ouput torch.Size([3, 2])\n",
      "-----------------Loss: 0.7661249041557312-----------------------\n",
      "------BATCH ENDING-------\n",
      "--------------------------------------------------\n",
      "[tensor([84, 16, 79])]\n",
      "feature shape torch.Size([3, 254, 1, 112, 112])\n",
      "reshape input torch.Size([762, 1, 112, 112])\n",
      "CNN ouput torch.Size([762, 512])\n",
      "reshaped rnn_in torch.Size([3, 254, 512])\n",
      "RNN ouput torch.Size([3, 254, 64])\n"
     ]
    },
    {
     "name": "stderr",
     "output_type": "stream",
     "text": [
      "  3%|██▋                                                                                | 5/155 [00:01<00:28,  5.24it/s]"
     ]
    },
    {
     "name": "stdout",
     "output_type": "stream",
     "text": [
      "mask ouput torch.Size([3, 254, 64])\n",
      "reshaped masked output torch.Size([3, 16256])\n",
      "fc ouput torch.Size([3, 32])\n",
      "logits torch.Size([3, 2])\n",
      "classifier ouput torch.Size([3, 2])\n",
      "-----------------Loss: 0.6494558453559875-----------------------\n",
      "------BATCH ENDING-------\n",
      "--------------------------------------------------\n",
      "[tensor([32, 32, 35])]\n",
      "feature shape torch.Size([3, 254, 1, 112, 112])\n",
      "reshape input torch.Size([762, 1, 112, 112])\n",
      "CNN ouput torch.Size([762, 512])\n",
      "reshaped rnn_in torch.Size([3, 254, 512])\n",
      "RNN ouput torch.Size([3, 254, 64])\n",
      "mask ouput torch.Size([3, 254, 64])\n",
      "reshaped masked output torch.Size([3, 16256])\n",
      "fc ouput torch.Size([3, 32])\n",
      "logits torch.Size([3, 2])\n",
      "classifier ouput torch.Size([3, 2])\n",
      "-----------------Loss: 0.6996577382087708-----------------------\n",
      "------BATCH ENDING-------\n",
      "--------------------------------------------------\n",
      "[tensor([112, 105,  34])]\n",
      "feature shape torch.Size([3, 254, 1, 112, 112])\n",
      "reshape input torch.Size([762, 1, 112, 112])\n",
      "CNN ouput torch.Size([762, 512])\n",
      "reshaped rnn_in torch.Size([3, 254, 512])\n",
      "RNN ouput torch.Size([3, 254, 64])\n"
     ]
    },
    {
     "name": "stderr",
     "output_type": "stream",
     "text": [
      "  5%|███▋                                                                               | 7/155 [00:01<00:25,  5.83it/s]"
     ]
    },
    {
     "name": "stdout",
     "output_type": "stream",
     "text": [
      "mask ouput torch.Size([3, 254, 64])\n",
      "reshaped masked output torch.Size([3, 16256])\n",
      "fc ouput torch.Size([3, 32])\n",
      "logits torch.Size([3, 2])\n",
      "classifier ouput torch.Size([3, 2])\n",
      "-----------------Loss: 0.43752217292785645-----------------------\n",
      "------BATCH ENDING-------\n",
      "--------------------------------------------------\n",
      "[tensor([137,  20, 103])]\n",
      "feature shape torch.Size([3, 254, 1, 112, 112])\n",
      "reshape input torch.Size([762, 1, 112, 112])\n",
      "CNN ouput torch.Size([762, 512])\n",
      "reshaped rnn_in torch.Size([3, 254, 512])\n",
      "RNN ouput torch.Size([3, 254, 64])\n",
      "mask ouput torch.Size([3, 254, 64])\n",
      "reshaped masked output torch.Size([3, 16256])\n",
      "fc ouput torch.Size([3, 32])\n",
      "logits torch.Size([3, 2])\n",
      "classifier ouput torch.Size([3, 2])\n",
      "-----------------Loss: 0.8477485775947571-----------------------\n",
      "------BATCH ENDING-------\n",
      "--------------------------------------------------\n",
      "[tensor([ 33,  34, 103])]\n",
      "feature shape torch.Size([3, 254, 1, 112, 112])\n",
      "reshape input torch.Size([762, 1, 112, 112])\n",
      "CNN ouput torch.Size([762, 512])\n",
      "reshaped rnn_in torch.Size([3, 254, 512])\n",
      "RNN ouput torch.Size([3, 254, 64])\n"
     ]
    },
    {
     "name": "stderr",
     "output_type": "stream",
     "text": [
      "  6%|████▊                                                                              | 9/155 [00:01<00:23,  6.30it/s]"
     ]
    },
    {
     "name": "stdout",
     "output_type": "stream",
     "text": [
      "mask ouput torch.Size([3, 254, 64])\n",
      "reshaped masked output torch.Size([3, 16256])\n",
      "fc ouput torch.Size([3, 32])\n",
      "logits torch.Size([3, 2])\n",
      "classifier ouput torch.Size([3, 2])\n",
      "-----------------Loss: 0.578137218952179-----------------------\n",
      "------BATCH ENDING-------\n",
      "--------------------------------------------------\n",
      "[tensor([34, 34, 34])]\n",
      "feature shape torch.Size([3, 254, 1, 112, 112])\n",
      "reshape input torch.Size([762, 1, 112, 112])\n",
      "CNN ouput torch.Size([762, 512])\n",
      "reshaped rnn_in torch.Size([3, 254, 512])\n",
      "RNN ouput torch.Size([3, 254, 64])\n",
      "mask ouput torch.Size([3, 254, 64])\n",
      "reshaped masked output torch.Size([3, 16256])\n",
      "fc ouput torch.Size([3, 32])\n",
      "logits torch.Size([3, 2])\n",
      "classifier ouput torch.Size([3, 2])\n",
      "-----------------Loss: 0.6438028216362-----------------------\n",
      "------BATCH ENDING-------\n",
      "--------------------------------------------------\n",
      "[tensor([34, 34, 31])]\n",
      "feature shape torch.Size([3, 254, 1, 112, 112])\n",
      "reshape input torch.Size([762, 1, 112, 112])\n",
      "CNN ouput torch.Size([762, 512])\n",
      "reshaped rnn_in torch.Size([3, 254, 512])\n",
      "RNN ouput torch.Size([3, 254, 64])\n"
     ]
    },
    {
     "name": "stderr",
     "output_type": "stream",
     "text": [
      "  7%|█████▊                                                                            | 11/155 [00:02<00:22,  6.46it/s]"
     ]
    },
    {
     "name": "stdout",
     "output_type": "stream",
     "text": [
      "mask ouput torch.Size([3, 254, 64])\n",
      "reshaped masked output torch.Size([3, 16256])\n",
      "fc ouput torch.Size([3, 32])\n",
      "logits torch.Size([3, 2])\n",
      "classifier ouput torch.Size([3, 2])\n",
      "-----------------Loss: 0.6724559664726257-----------------------\n",
      "------BATCH ENDING-------\n",
      "--------------------------------------------------\n",
      "[tensor([ 32, 100, 101])]\n",
      "feature shape torch.Size([3, 254, 1, 112, 112])\n",
      "reshape input torch.Size([762, 1, 112, 112])\n",
      "CNN ouput torch.Size([762, 512])\n",
      "reshaped rnn_in torch.Size([3, 254, 512])\n",
      "RNN ouput torch.Size([3, 254, 64])\n",
      "mask ouput torch.Size([3, 254, 64])\n",
      "reshaped masked output torch.Size([3, 16256])\n",
      "fc ouput torch.Size([3, 32])\n",
      "logits torch.Size([3, 2])\n",
      "classifier ouput torch.Size([3, 2])\n",
      "-----------------Loss: 0.4782281816005707-----------------------\n",
      "------BATCH ENDING-------\n",
      "--------------------------------------------------\n",
      "[tensor([34, 22, 33])]\n",
      "feature shape torch.Size([3, 254, 1, 112, 112])\n",
      "reshape input torch.Size([762, 1, 112, 112])\n",
      "CNN ouput torch.Size([762, 512])\n",
      "reshaped rnn_in torch.Size([3, 254, 512])\n",
      "RNN ouput torch.Size([3, 254, 64])\n"
     ]
    },
    {
     "name": "stderr",
     "output_type": "stream",
     "text": [
      "  8%|██████▉                                                                           | 13/155 [00:02<00:21,  6.60it/s]"
     ]
    },
    {
     "name": "stdout",
     "output_type": "stream",
     "text": [
      "mask ouput torch.Size([3, 254, 64])\n",
      "reshaped masked output torch.Size([3, 16256])\n",
      "fc ouput torch.Size([3, 32])\n",
      "logits torch.Size([3, 2])\n",
      "classifier ouput torch.Size([3, 2])\n",
      "-----------------Loss: 0.7353103756904602-----------------------\n",
      "------BATCH ENDING-------\n",
      "--------------------------------------------------\n",
      "[tensor([110,  19,  17])]\n",
      "feature shape torch.Size([3, 254, 1, 112, 112])\n",
      "reshape input torch.Size([762, 1, 112, 112])\n",
      "CNN ouput torch.Size([762, 512])\n",
      "reshaped rnn_in torch.Size([3, 254, 512])\n",
      "RNN ouput torch.Size([3, 254, 64])\n",
      "mask ouput torch.Size([3, 254, 64])\n",
      "reshaped masked output torch.Size([3, 16256])\n",
      "fc ouput torch.Size([3, 32])\n",
      "logits torch.Size([3, 2])\n",
      "classifier ouput torch.Size([3, 2])\n",
      "-----------------Loss: 0.533977210521698-----------------------\n",
      "------BATCH ENDING-------\n",
      "--------------------------------------------------\n",
      "[tensor([105,  34,  34])]\n",
      "feature shape torch.Size([3, 254, 1, 112, 112])\n",
      "reshape input torch.Size([762, 1, 112, 112])\n",
      "CNN ouput torch.Size([762, 512])\n",
      "reshaped rnn_in torch.Size([3, 254, 512])\n",
      "RNN ouput torch.Size([3, 254, 64])\n"
     ]
    },
    {
     "name": "stderr",
     "output_type": "stream",
     "text": [
      "  9%|███████▍                                                                          | 14/155 [00:02<00:21,  6.54it/s]"
     ]
    },
    {
     "name": "stdout",
     "output_type": "stream",
     "text": [
      "mask ouput torch.Size([3, 254, 64])\n",
      "reshaped masked output torch.Size([3, 16256])\n",
      "fc ouput torch.Size([3, 32])\n",
      "logits torch.Size([3, 2])\n",
      "classifier ouput torch.Size([3, 2])\n",
      "-----------------Loss: 0.6173732876777649-----------------------\n",
      "------BATCH ENDING-------\n",
      "--------------------------------------------------\n",
      "[tensor([ 16, 102, 106])]\n",
      "feature shape torch.Size([3, 254, 1, 112, 112])\n",
      "reshape input torch.Size([762, 1, 112, 112])\n",
      "CNN ouput torch.Size([762, 512])\n",
      "reshaped rnn_in torch.Size([3, 254, 512])\n",
      "RNN ouput torch.Size([3, 254, 64])\n"
     ]
    },
    {
     "name": "stderr",
     "output_type": "stream",
     "text": [
      " 10%|███████▉                                                                          | 15/155 [00:02<00:21,  6.49it/s]"
     ]
    },
    {
     "name": "stdout",
     "output_type": "stream",
     "text": [
      "mask ouput torch.Size([3, 254, 64])\n",
      "reshaped masked output torch.Size([3, 16256])\n",
      "fc ouput torch.Size([3, 32])\n",
      "logits torch.Size([3, 2])\n",
      "classifier ouput torch.Size([3, 2])\n",
      "-----------------Loss: 0.6662980914115906-----------------------\n",
      "------BATCH ENDING-------\n",
      "--------------------------------------------------\n",
      "[tensor([ 33, 102,  12])]\n",
      "feature shape torch.Size([3, 254, 1, 112, 112])\n",
      "reshape input torch.Size([762, 1, 112, 112])\n",
      "CNN ouput torch.Size([762, 512])\n",
      "reshaped rnn_in torch.Size([3, 254, 512])\n",
      "RNN ouput torch.Size([3, 254, 64])\n"
     ]
    },
    {
     "name": "stderr",
     "output_type": "stream",
     "text": [
      " 10%|████████▍                                                                         | 16/155 [00:02<00:21,  6.49it/s]"
     ]
    },
    {
     "name": "stdout",
     "output_type": "stream",
     "text": [
      "mask ouput torch.Size([3, 254, 64])\n",
      "reshaped masked output torch.Size([3, 16256])\n",
      "fc ouput torch.Size([3, 32])\n",
      "logits torch.Size([3, 2])\n",
      "classifier ouput torch.Size([3, 2])\n",
      "-----------------Loss: 0.7394854426383972-----------------------\n",
      "------BATCH ENDING-------\n",
      "--------------------------------------------------\n",
      "[tensor([ 32,  16, 105])]\n",
      "feature shape torch.Size([3, 254, 1, 112, 112])\n",
      "reshape input torch.Size([762, 1, 112, 112])\n",
      "CNN ouput torch.Size([762, 512])\n",
      "reshaped rnn_in torch.Size([3, 254, 512])\n",
      "RNN ouput torch.Size([3, 254, 64])\n"
     ]
    },
    {
     "name": "stderr",
     "output_type": "stream",
     "text": [
      " 11%|████████▉                                                                         | 17/155 [00:03<00:21,  6.54it/s]"
     ]
    },
    {
     "name": "stdout",
     "output_type": "stream",
     "text": [
      "mask ouput torch.Size([3, 254, 64])\n",
      "reshaped masked output torch.Size([3, 16256])\n",
      "fc ouput torch.Size([3, 32])\n",
      "logits torch.Size([3, 2])\n",
      "classifier ouput torch.Size([3, 2])\n",
      "-----------------Loss: 0.5500040054321289-----------------------\n",
      "------BATCH ENDING-------\n",
      "--------------------------------------------------\n",
      "[tensor([199,  12,  31])]\n",
      "feature shape torch.Size([3, 254, 1, 112, 112])\n",
      "reshape input torch.Size([762, 1, 112, 112])\n",
      "CNN ouput torch.Size([762, 512])\n",
      "reshaped rnn_in torch.Size([3, 254, 512])\n",
      "RNN ouput torch.Size([3, 254, 64])\n"
     ]
    },
    {
     "name": "stderr",
     "output_type": "stream",
     "text": [
      " 12%|█████████▌                                                                        | 18/155 [00:03<00:21,  6.51it/s]"
     ]
    },
    {
     "name": "stdout",
     "output_type": "stream",
     "text": [
      "mask ouput torch.Size([3, 254, 64])\n",
      "reshaped masked output torch.Size([3, 16256])\n",
      "fc ouput torch.Size([3, 32])\n",
      "logits torch.Size([3, 2])\n",
      "classifier ouput torch.Size([3, 2])\n",
      "-----------------Loss: 0.8873961567878723-----------------------\n",
      "------BATCH ENDING-------\n",
      "--------------------------------------------------\n",
      "[tensor([ 33, 106,  31])]\n",
      "feature shape torch.Size([3, 254, 1, 112, 112])\n",
      "reshape input torch.Size([762, 1, 112, 112])\n",
      "CNN ouput torch.Size([762, 512])\n",
      "reshaped rnn_in torch.Size([3, 254, 512])\n",
      "RNN ouput torch.Size([3, 254, 64])\n"
     ]
    },
    {
     "name": "stderr",
     "output_type": "stream",
     "text": [
      " 12%|██████████                                                                        | 19/155 [00:03<00:20,  6.54it/s]"
     ]
    },
    {
     "name": "stdout",
     "output_type": "stream",
     "text": [
      "mask ouput torch.Size([3, 254, 64])\n",
      "reshaped masked output torch.Size([3, 16256])\n",
      "fc ouput torch.Size([3, 32])\n",
      "logits torch.Size([3, 2])\n",
      "classifier ouput torch.Size([3, 2])\n",
      "-----------------Loss: 0.5617619156837463-----------------------\n",
      "------BATCH ENDING-------\n",
      "--------------------------------------------------\n",
      "[tensor([ 17, 106, 106])]\n",
      "feature shape torch.Size([3, 254, 1, 112, 112])\n",
      "reshape input torch.Size([762, 1, 112, 112])\n",
      "CNN ouput torch.Size([762, 512])\n",
      "reshaped rnn_in torch.Size([3, 254, 512])\n",
      "RNN ouput torch.Size([3, 254, 64])\n"
     ]
    },
    {
     "name": "stderr",
     "output_type": "stream",
     "text": [
      " 13%|██████████▌                                                                       | 20/155 [00:03<00:20,  6.58it/s]"
     ]
    },
    {
     "name": "stdout",
     "output_type": "stream",
     "text": [
      "mask ouput torch.Size([3, 254, 64])\n",
      "reshaped masked output torch.Size([3, 16256])\n",
      "fc ouput torch.Size([3, 32])\n",
      "logits torch.Size([3, 2])\n",
      "classifier ouput torch.Size([3, 2])\n",
      "-----------------Loss: 0.7402175068855286-----------------------\n",
      "------BATCH ENDING-------\n",
      "--------------------------------------------------\n",
      "[tensor([100, 100, 101])]\n",
      "feature shape torch.Size([3, 254, 1, 112, 112])\n",
      "reshape input torch.Size([762, 1, 112, 112])\n",
      "CNN ouput torch.Size([762, 512])\n",
      "reshaped rnn_in torch.Size([3, 254, 512])\n",
      "RNN ouput torch.Size([3, 254, 64])\n"
     ]
    },
    {
     "name": "stderr",
     "output_type": "stream",
     "text": [
      " 14%|███████████                                                                       | 21/155 [00:03<00:20,  6.56it/s]"
     ]
    },
    {
     "name": "stdout",
     "output_type": "stream",
     "text": [
      "mask ouput torch.Size([3, 254, 64])\n",
      "reshaped masked output torch.Size([3, 16256])\n",
      "fc ouput torch.Size([3, 32])\n",
      "logits torch.Size([3, 2])\n",
      "classifier ouput torch.Size([3, 2])\n",
      "-----------------Loss: 0.7649877071380615-----------------------\n",
      "------BATCH ENDING-------\n",
      "--------------------------------------------------\n",
      "[tensor([207,  54,  98])]\n",
      "feature shape torch.Size([3, 254, 1, 112, 112])\n",
      "reshape input torch.Size([762, 1, 112, 112])\n",
      "CNN ouput torch.Size([762, 512])\n",
      "reshaped rnn_in torch.Size([3, 254, 512])\n",
      "RNN ouput torch.Size([3, 254, 64])\n"
     ]
    },
    {
     "name": "stderr",
     "output_type": "stream",
     "text": [
      " 14%|███████████▋                                                                      | 22/155 [00:03<00:20,  6.59it/s]"
     ]
    },
    {
     "name": "stdout",
     "output_type": "stream",
     "text": [
      "mask ouput torch.Size([3, 254, 64])\n",
      "reshaped masked output torch.Size([3, 16256])\n",
      "fc ouput torch.Size([3, 32])\n",
      "logits torch.Size([3, 2])\n",
      "classifier ouput torch.Size([3, 2])\n",
      "-----------------Loss: 0.49124595522880554-----------------------\n",
      "------BATCH ENDING-------\n",
      "--------------------------------------------------\n",
      "[tensor([22, 96, 15])]\n",
      "feature shape torch.Size([3, 254, 1, 112, 112])\n",
      "reshape input torch.Size([762, 1, 112, 112])\n",
      "CNN ouput torch.Size([762, 512])\n",
      "reshaped rnn_in torch.Size([3, 254, 512])\n",
      "RNN ouput torch.Size([3, 254, 64])\n"
     ]
    },
    {
     "name": "stderr",
     "output_type": "stream",
     "text": [
      " 15%|████████████▏                                                                     | 23/155 [00:03<00:19,  6.64it/s]"
     ]
    },
    {
     "name": "stdout",
     "output_type": "stream",
     "text": [
      "mask ouput torch.Size([3, 254, 64])\n",
      "reshaped masked output torch.Size([3, 16256])\n",
      "fc ouput torch.Size([3, 32])\n",
      "logits torch.Size([3, 2])\n",
      "classifier ouput torch.Size([3, 2])\n",
      "-----------------Loss: 0.7446513175964355-----------------------\n",
      "------BATCH ENDING-------\n",
      "--------------------------------------------------\n",
      "[tensor([169,  50,  14])]\n",
      "feature shape torch.Size([3, 254, 1, 112, 112])\n",
      "reshape input torch.Size([762, 1, 112, 112])\n",
      "CNN ouput torch.Size([762, 512])\n",
      "reshaped rnn_in torch.Size([3, 254, 512])\n",
      "RNN ouput torch.Size([3, 254, 64])\n"
     ]
    },
    {
     "name": "stderr",
     "output_type": "stream",
     "text": [
      " 15%|████████████▋                                                                     | 24/155 [00:04<00:19,  6.66it/s]"
     ]
    },
    {
     "name": "stdout",
     "output_type": "stream",
     "text": [
      "mask ouput torch.Size([3, 254, 64])\n",
      "reshaped masked output torch.Size([3, 16256])\n",
      "fc ouput torch.Size([3, 32])\n",
      "logits torch.Size([3, 2])\n",
      "classifier ouput torch.Size([3, 2])\n",
      "-----------------Loss: 0.5489455461502075-----------------------\n",
      "------BATCH ENDING-------\n",
      "--------------------------------------------------\n",
      "[tensor([ 33,  16, 112])]\n",
      "feature shape torch.Size([3, 254, 1, 112, 112])\n",
      "reshape input torch.Size([762, 1, 112, 112])\n",
      "CNN ouput torch.Size([762, 512])\n",
      "reshaped rnn_in torch.Size([3, 254, 512])\n",
      "RNN ouput torch.Size([3, 254, 64])\n"
     ]
    },
    {
     "name": "stderr",
     "output_type": "stream",
     "text": [
      " 16%|█████████████▏                                                                    | 25/155 [00:04<00:19,  6.66it/s]"
     ]
    },
    {
     "name": "stdout",
     "output_type": "stream",
     "text": [
      "mask ouput torch.Size([3, 254, 64])\n",
      "reshaped masked output torch.Size([3, 16256])\n",
      "fc ouput torch.Size([3, 32])\n",
      "logits torch.Size([3, 2])\n",
      "classifier ouput torch.Size([3, 2])\n",
      "-----------------Loss: 0.5854855179786682-----------------------\n",
      "------BATCH ENDING-------\n",
      "--------------------------------------------------\n",
      "[tensor([ 34,  17, 107])]\n",
      "feature shape torch.Size([3, 254, 1, 112, 112])\n",
      "reshape input torch.Size([762, 1, 112, 112])\n",
      "CNN ouput torch.Size([762, 512])\n",
      "reshaped rnn_in torch.Size([3, 254, 512])\n",
      "RNN ouput torch.Size([3, 254, 64])\n"
     ]
    },
    {
     "name": "stderr",
     "output_type": "stream",
     "text": [
      " 17%|█████████████▊                                                                    | 26/155 [00:04<00:19,  6.60it/s]"
     ]
    },
    {
     "name": "stdout",
     "output_type": "stream",
     "text": [
      "mask ouput torch.Size([3, 254, 64])\n",
      "reshaped masked output torch.Size([3, 16256])\n",
      "fc ouput torch.Size([3, 32])\n",
      "logits torch.Size([3, 2])\n",
      "classifier ouput torch.Size([3, 2])\n",
      "-----------------Loss: 0.6213673949241638-----------------------\n",
      "------BATCH ENDING-------\n",
      "--------------------------------------------------\n",
      "[tensor([31, 16, 20])]\n",
      "feature shape torch.Size([3, 254, 1, 112, 112])\n",
      "reshape input torch.Size([762, 1, 112, 112])\n",
      "CNN ouput torch.Size([762, 512])\n",
      "reshaped rnn_in torch.Size([3, 254, 512])\n",
      "RNN ouput torch.Size([3, 254, 64])\n"
     ]
    },
    {
     "name": "stderr",
     "output_type": "stream",
     "text": [
      " 17%|██████████████▎                                                                   | 27/155 [00:04<00:19,  6.65it/s]"
     ]
    },
    {
     "name": "stdout",
     "output_type": "stream",
     "text": [
      "mask ouput torch.Size([3, 254, 64])\n",
      "reshaped masked output torch.Size([3, 16256])\n",
      "fc ouput torch.Size([3, 32])\n",
      "logits torch.Size([3, 2])\n",
      "classifier ouput torch.Size([3, 2])\n",
      "-----------------Loss: 0.6862558722496033-----------------------\n",
      "------BATCH ENDING-------\n",
      "--------------------------------------------------\n",
      "[tensor([32, 42, 99])]\n",
      "feature shape torch.Size([3, 254, 1, 112, 112])\n",
      "reshape input torch.Size([762, 1, 112, 112])\n",
      "CNN ouput torch.Size([762, 512])\n",
      "reshaped rnn_in torch.Size([3, 254, 512])\n",
      "RNN ouput torch.Size([3, 254, 64])\n"
     ]
    },
    {
     "name": "stderr",
     "output_type": "stream",
     "text": [
      " 18%|██████████████▊                                                                   | 28/155 [00:04<00:19,  6.56it/s]"
     ]
    },
    {
     "name": "stdout",
     "output_type": "stream",
     "text": [
      "mask ouput torch.Size([3, 254, 64])\n",
      "reshaped masked output torch.Size([3, 16256])\n",
      "fc ouput torch.Size([3, 32])\n",
      "logits torch.Size([3, 2])\n",
      "classifier ouput torch.Size([3, 2])\n",
      "-----------------Loss: 0.700394868850708-----------------------\n",
      "------BATCH ENDING-------\n",
      "--------------------------------------------------\n",
      "[tensor([50, 95, 31])]\n",
      "feature shape torch.Size([3, 254, 1, 112, 112])\n",
      "reshape input torch.Size([762, 1, 112, 112])\n",
      "CNN ouput torch.Size([762, 512])\n",
      "reshaped rnn_in torch.Size([3, 254, 512])\n",
      "RNN ouput torch.Size([3, 254, 64])\n"
     ]
    },
    {
     "name": "stderr",
     "output_type": "stream",
     "text": [
      " 19%|███████████████▎                                                                  | 29/155 [00:04<00:19,  6.54it/s]"
     ]
    },
    {
     "name": "stdout",
     "output_type": "stream",
     "text": [
      "mask ouput torch.Size([3, 254, 64])\n",
      "reshaped masked output torch.Size([3, 16256])\n",
      "fc ouput torch.Size([3, 32])\n",
      "logits torch.Size([3, 2])\n",
      "classifier ouput torch.Size([3, 2])\n",
      "-----------------Loss: 0.610541582107544-----------------------\n",
      "------BATCH ENDING-------\n",
      "--------------------------------------------------\n",
      "[tensor([219, 165,  32])]\n",
      "feature shape torch.Size([3, 254, 1, 112, 112])\n",
      "reshape input torch.Size([762, 1, 112, 112])\n",
      "CNN ouput torch.Size([762, 512])\n",
      "reshaped rnn_in torch.Size([3, 254, 512])\n",
      "RNN ouput torch.Size([3, 254, 64])\n"
     ]
    },
    {
     "name": "stderr",
     "output_type": "stream",
     "text": [
      " 19%|███████████████▊                                                                  | 30/155 [00:05<00:18,  6.60it/s]"
     ]
    },
    {
     "name": "stdout",
     "output_type": "stream",
     "text": [
      "mask ouput torch.Size([3, 254, 64])\n",
      "reshaped masked output torch.Size([3, 16256])\n",
      "fc ouput torch.Size([3, 32])\n",
      "logits torch.Size([3, 2])\n",
      "classifier ouput torch.Size([3, 2])\n",
      "-----------------Loss: 0.3913327753543854-----------------------\n",
      "------BATCH ENDING-------\n",
      "--------------------------------------------------\n",
      "[tensor([109,  17,  34])]\n",
      "feature shape torch.Size([3, 254, 1, 112, 112])\n",
      "reshape input torch.Size([762, 1, 112, 112])\n",
      "CNN ouput torch.Size([762, 512])\n",
      "reshaped rnn_in torch.Size([3, 254, 512])\n",
      "RNN ouput torch.Size([3, 254, 64])\n"
     ]
    },
    {
     "name": "stderr",
     "output_type": "stream",
     "text": [
      " 20%|████████████████▍                                                                 | 31/155 [00:05<00:19,  6.44it/s]"
     ]
    },
    {
     "name": "stdout",
     "output_type": "stream",
     "text": [
      "mask ouput torch.Size([3, 254, 64])\n",
      "reshaped masked output torch.Size([3, 16256])\n",
      "fc ouput torch.Size([3, 32])\n",
      "logits torch.Size([3, 2])\n",
      "classifier ouput torch.Size([3, 2])\n",
      "-----------------Loss: 0.6578014492988586-----------------------\n",
      "------BATCH ENDING-------\n",
      "--------------------------------------------------\n",
      "[tensor([35, 11, 16])]\n",
      "feature shape torch.Size([3, 254, 1, 112, 112])\n",
      "reshape input torch.Size([762, 1, 112, 112])\n",
      "CNN ouput torch.Size([762, 512])\n",
      "reshaped rnn_in torch.Size([3, 254, 512])\n",
      "RNN ouput torch.Size([3, 254, 64])\n"
     ]
    },
    {
     "name": "stderr",
     "output_type": "stream",
     "text": [
      " 21%|████████████████▉                                                                 | 32/155 [00:05<00:19,  6.35it/s]"
     ]
    },
    {
     "name": "stdout",
     "output_type": "stream",
     "text": [
      "mask ouput torch.Size([3, 254, 64])\n",
      "reshaped masked output torch.Size([3, 16256])\n",
      "fc ouput torch.Size([3, 32])\n",
      "logits torch.Size([3, 2])\n",
      "classifier ouput torch.Size([3, 2])\n",
      "-----------------Loss: 0.6828553676605225-----------------------\n",
      "------BATCH ENDING-------\n",
      "--------------------------------------------------\n",
      "[tensor([16, 94, 33])]\n",
      "feature shape torch.Size([3, 254, 1, 112, 112])\n",
      "reshape input torch.Size([762, 1, 112, 112])\n",
      "CNN ouput torch.Size([762, 512])\n",
      "reshaped rnn_in torch.Size([3, 254, 512])\n",
      "RNN ouput torch.Size([3, 254, 64])\n"
     ]
    },
    {
     "name": "stderr",
     "output_type": "stream",
     "text": [
      " 21%|█████████████████▍                                                                | 33/155 [00:05<00:19,  6.41it/s]"
     ]
    },
    {
     "name": "stdout",
     "output_type": "stream",
     "text": [
      "mask ouput torch.Size([3, 254, 64])\n",
      "reshaped masked output torch.Size([3, 16256])\n",
      "fc ouput torch.Size([3, 32])\n",
      "logits torch.Size([3, 2])\n",
      "classifier ouput torch.Size([3, 2])\n",
      "-----------------Loss: 0.622011661529541-----------------------\n",
      "------BATCH ENDING-------\n",
      "--------------------------------------------------\n",
      "[tensor([116,  35, 199])]\n",
      "feature shape torch.Size([3, 254, 1, 112, 112])\n",
      "reshape input torch.Size([762, 1, 112, 112])\n",
      "CNN ouput torch.Size([762, 512])\n",
      "reshaped rnn_in torch.Size([3, 254, 512])\n",
      "RNN ouput torch.Size([3, 254, 64])\n"
     ]
    },
    {
     "name": "stderr",
     "output_type": "stream",
     "text": [
      " 22%|█████████████████▉                                                                | 34/155 [00:05<00:18,  6.52it/s]"
     ]
    },
    {
     "name": "stdout",
     "output_type": "stream",
     "text": [
      "mask ouput torch.Size([3, 254, 64])\n",
      "reshaped masked output torch.Size([3, 16256])\n",
      "fc ouput torch.Size([3, 32])\n",
      "logits torch.Size([3, 2])\n",
      "classifier ouput torch.Size([3, 2])\n",
      "-----------------Loss: 0.6179737448692322-----------------------\n",
      "------BATCH ENDING-------\n",
      "--------------------------------------------------\n",
      "[tensor([92, 35, 96])]\n",
      "feature shape torch.Size([3, 254, 1, 112, 112])\n",
      "reshape input torch.Size([762, 1, 112, 112])\n",
      "CNN ouput torch.Size([762, 512])\n",
      "reshaped rnn_in torch.Size([3, 254, 512])\n",
      "RNN ouput torch.Size([3, 254, 64])\n"
     ]
    },
    {
     "name": "stderr",
     "output_type": "stream",
     "text": [
      " 23%|██████████████████▌                                                               | 35/155 [00:05<00:18,  6.56it/s]"
     ]
    },
    {
     "name": "stdout",
     "output_type": "stream",
     "text": [
      "mask ouput torch.Size([3, 254, 64])\n",
      "reshaped masked output torch.Size([3, 16256])\n",
      "fc ouput torch.Size([3, 32])\n",
      "logits torch.Size([3, 2])\n",
      "classifier ouput torch.Size([3, 2])\n",
      "-----------------Loss: 0.6860318183898926-----------------------\n",
      "------BATCH ENDING-------\n",
      "--------------------------------------------------\n",
      "[tensor([ 34,  52, 212])]\n",
      "feature shape torch.Size([3, 254, 1, 112, 112])\n",
      "reshape input torch.Size([762, 1, 112, 112])\n",
      "CNN ouput torch.Size([762, 512])\n",
      "reshaped rnn_in torch.Size([3, 254, 512])\n",
      "RNN ouput torch.Size([3, 254, 64])\n"
     ]
    },
    {
     "name": "stderr",
     "output_type": "stream",
     "text": [
      " 23%|███████████████████                                                               | 36/155 [00:05<00:18,  6.60it/s]"
     ]
    },
    {
     "name": "stdout",
     "output_type": "stream",
     "text": [
      "mask ouput torch.Size([3, 254, 64])\n",
      "reshaped masked output torch.Size([3, 16256])\n",
      "fc ouput torch.Size([3, 32])\n",
      "logits torch.Size([3, 2])\n",
      "classifier ouput torch.Size([3, 2])\n",
      "-----------------Loss: 0.7869291305541992-----------------------\n",
      "------BATCH ENDING-------\n",
      "--------------------------------------------------\n",
      "[tensor([102,  33,  31])]\n",
      "feature shape torch.Size([3, 254, 1, 112, 112])\n",
      "reshape input torch.Size([762, 1, 112, 112])\n",
      "CNN ouput torch.Size([762, 512])\n",
      "reshaped rnn_in torch.Size([3, 254, 512])\n",
      "RNN ouput torch.Size([3, 254, 64])\n"
     ]
    },
    {
     "name": "stderr",
     "output_type": "stream",
     "text": [
      " 24%|███████████████████▌                                                              | 37/155 [00:06<00:18,  6.55it/s]"
     ]
    },
    {
     "name": "stdout",
     "output_type": "stream",
     "text": [
      "mask ouput torch.Size([3, 254, 64])\n",
      "reshaped masked output torch.Size([3, 16256])\n",
      "fc ouput torch.Size([3, 32])\n",
      "logits torch.Size([3, 2])\n",
      "classifier ouput torch.Size([3, 2])\n",
      "-----------------Loss: 0.5757401585578918-----------------------\n",
      "------BATCH ENDING-------\n",
      "--------------------------------------------------\n",
      "[tensor([105,  33, 109])]\n",
      "feature shape torch.Size([3, 254, 1, 112, 112])\n",
      "reshape input torch.Size([762, 1, 112, 112])\n",
      "CNN ouput torch.Size([762, 512])\n",
      "reshaped rnn_in torch.Size([3, 254, 512])\n",
      "RNN ouput torch.Size([3, 254, 64])\n"
     ]
    },
    {
     "name": "stderr",
     "output_type": "stream",
     "text": [
      " 25%|████████████████████                                                              | 38/155 [00:06<00:17,  6.55it/s]"
     ]
    },
    {
     "name": "stdout",
     "output_type": "stream",
     "text": [
      "mask ouput torch.Size([3, 254, 64])\n",
      "reshaped masked output torch.Size([3, 16256])\n",
      "fc ouput torch.Size([3, 32])\n",
      "logits torch.Size([3, 2])\n",
      "classifier ouput torch.Size([3, 2])\n",
      "-----------------Loss: 0.45085838437080383-----------------------\n",
      "------BATCH ENDING-------\n",
      "--------------------------------------------------\n",
      "[tensor([34, 98, 19])]\n",
      "feature shape torch.Size([3, 254, 1, 112, 112])\n",
      "reshape input torch.Size([762, 1, 112, 112])\n",
      "CNN ouput torch.Size([762, 512])\n",
      "reshaped rnn_in torch.Size([3, 254, 512])\n",
      "RNN ouput torch.Size([3, 254, 64])\n"
     ]
    },
    {
     "name": "stderr",
     "output_type": "stream",
     "text": [
      " 25%|████████████████████▋                                                             | 39/155 [00:06<00:17,  6.65it/s]"
     ]
    },
    {
     "name": "stdout",
     "output_type": "stream",
     "text": [
      "mask ouput torch.Size([3, 254, 64])\n",
      "reshaped masked output torch.Size([3, 16256])\n",
      "fc ouput torch.Size([3, 32])\n",
      "logits torch.Size([3, 2])\n",
      "classifier ouput torch.Size([3, 2])\n",
      "-----------------Loss: 0.6044613718986511-----------------------\n",
      "------BATCH ENDING-------\n",
      "--------------------------------------------------\n",
      "[tensor([34, 49, 34])]\n",
      "feature shape torch.Size([3, 254, 1, 112, 112])\n",
      "reshape input torch.Size([762, 1, 112, 112])\n",
      "CNN ouput torch.Size([762, 512])\n",
      "reshaped rnn_in torch.Size([3, 254, 512])\n",
      "RNN ouput torch.Size([3, 254, 64])\n"
     ]
    },
    {
     "name": "stderr",
     "output_type": "stream",
     "text": [
      " 26%|█████████████████████▏                                                            | 40/155 [00:06<00:17,  6.68it/s]"
     ]
    },
    {
     "name": "stdout",
     "output_type": "stream",
     "text": [
      "mask ouput torch.Size([3, 254, 64])\n",
      "reshaped masked output torch.Size([3, 16256])\n",
      "fc ouput torch.Size([3, 32])\n",
      "logits torch.Size([3, 2])\n",
      "classifier ouput torch.Size([3, 2])\n",
      "-----------------Loss: 0.7081258893013-----------------------\n",
      "------BATCH ENDING-------\n",
      "--------------------------------------------------\n",
      "[tensor([52, 33, 33])]\n",
      "feature shape torch.Size([3, 254, 1, 112, 112])\n",
      "reshape input torch.Size([762, 1, 112, 112])\n",
      "CNN ouput torch.Size([762, 512])\n",
      "reshaped rnn_in torch.Size([3, 254, 512])\n",
      "RNN ouput torch.Size([3, 254, 64])\n"
     ]
    },
    {
     "name": "stderr",
     "output_type": "stream",
     "text": [
      " 26%|█████████████████████▋                                                            | 41/155 [00:06<00:16,  6.71it/s]"
     ]
    },
    {
     "name": "stdout",
     "output_type": "stream",
     "text": [
      "mask ouput torch.Size([3, 254, 64])\n",
      "reshaped masked output torch.Size([3, 16256])\n",
      "fc ouput torch.Size([3, 32])\n",
      "logits torch.Size([3, 2])\n",
      "classifier ouput torch.Size([3, 2])\n",
      "-----------------Loss: 0.5807899832725525-----------------------\n",
      "------BATCH ENDING-------\n",
      "--------------------------------------------------\n",
      "[tensor([ 35,  33, 104])]\n",
      "feature shape torch.Size([3, 254, 1, 112, 112])\n",
      "reshape input torch.Size([762, 1, 112, 112])\n",
      "CNN ouput torch.Size([762, 512])\n",
      "reshaped rnn_in torch.Size([3, 254, 512])\n",
      "RNN ouput torch.Size([3, 254, 64])\n"
     ]
    },
    {
     "name": "stderr",
     "output_type": "stream",
     "text": [
      " 27%|██████████████████████▏                                                           | 42/155 [00:06<00:16,  6.70it/s]"
     ]
    },
    {
     "name": "stdout",
     "output_type": "stream",
     "text": [
      "mask ouput torch.Size([3, 254, 64])\n",
      "reshaped masked output torch.Size([3, 16256])\n",
      "fc ouput torch.Size([3, 32])\n",
      "logits torch.Size([3, 2])\n",
      "classifier ouput torch.Size([3, 2])\n",
      "-----------------Loss: 0.6559877991676331-----------------------\n",
      "------BATCH ENDING-------\n",
      "--------------------------------------------------\n",
      "[tensor([19, 16, 33])]\n",
      "feature shape torch.Size([3, 254, 1, 112, 112])\n",
      "reshape input torch.Size([762, 1, 112, 112])\n",
      "CNN ouput torch.Size([762, 512])\n",
      "reshaped rnn_in torch.Size([3, 254, 512])\n",
      "RNN ouput torch.Size([3, 254, 64])\n"
     ]
    },
    {
     "name": "stderr",
     "output_type": "stream",
     "text": [
      " 28%|██████████████████████▋                                                           | 43/155 [00:07<00:16,  6.62it/s]"
     ]
    },
    {
     "name": "stdout",
     "output_type": "stream",
     "text": [
      "mask ouput torch.Size([3, 254, 64])\n",
      "reshaped masked output torch.Size([3, 16256])\n",
      "fc ouput torch.Size([3, 32])\n",
      "logits torch.Size([3, 2])\n",
      "classifier ouput torch.Size([3, 2])\n",
      "-----------------Loss: 0.6616210341453552-----------------------\n",
      "------BATCH ENDING-------\n",
      "--------------------------------------------------\n",
      "[tensor([104,  35,  95])]\n",
      "feature shape torch.Size([3, 254, 1, 112, 112])\n",
      "reshape input torch.Size([762, 1, 112, 112])\n",
      "CNN ouput torch.Size([762, 512])\n",
      "reshaped rnn_in torch.Size([3, 254, 512])\n",
      "RNN ouput torch.Size([3, 254, 64])\n"
     ]
    },
    {
     "name": "stderr",
     "output_type": "stream",
     "text": [
      " 28%|███████████████████████▎                                                          | 44/155 [00:07<00:16,  6.59it/s]"
     ]
    },
    {
     "name": "stdout",
     "output_type": "stream",
     "text": [
      "mask ouput torch.Size([3, 254, 64])\n",
      "reshaped masked output torch.Size([3, 16256])\n",
      "fc ouput torch.Size([3, 32])\n",
      "logits torch.Size([3, 2])\n",
      "classifier ouput torch.Size([3, 2])\n",
      "-----------------Loss: 0.5665969252586365-----------------------\n",
      "------BATCH ENDING-------\n",
      "--------------------------------------------------\n",
      "[tensor([ 51, 104,  20])]\n",
      "feature shape torch.Size([3, 254, 1, 112, 112])\n",
      "reshape input torch.Size([762, 1, 112, 112])\n",
      "CNN ouput torch.Size([762, 512])\n",
      "reshaped rnn_in torch.Size([3, 254, 512])\n",
      "RNN ouput torch.Size([3, 254, 64])\n"
     ]
    },
    {
     "name": "stderr",
     "output_type": "stream",
     "text": [
      " 29%|███████████████████████▊                                                          | 45/155 [00:07<00:16,  6.54it/s]"
     ]
    },
    {
     "name": "stdout",
     "output_type": "stream",
     "text": [
      "mask ouput torch.Size([3, 254, 64])\n",
      "reshaped masked output torch.Size([3, 16256])\n",
      "fc ouput torch.Size([3, 32])\n",
      "logits torch.Size([3, 2])\n",
      "classifier ouput torch.Size([3, 2])\n",
      "-----------------Loss: 0.7559911608695984-----------------------\n",
      "------BATCH ENDING-------\n",
      "--------------------------------------------------\n",
      "[tensor([ 17, 100, 105])]\n",
      "feature shape torch.Size([3, 254, 1, 112, 112])\n",
      "reshape input torch.Size([762, 1, 112, 112])\n",
      "CNN ouput torch.Size([762, 512])\n",
      "reshaped rnn_in torch.Size([3, 254, 512])\n",
      "RNN ouput torch.Size([3, 254, 64])\n"
     ]
    },
    {
     "name": "stderr",
     "output_type": "stream",
     "text": [
      " 30%|████████████████████████▎                                                         | 46/155 [00:07<00:16,  6.55it/s]"
     ]
    },
    {
     "name": "stdout",
     "output_type": "stream",
     "text": [
      "mask ouput torch.Size([3, 254, 64])\n",
      "reshaped masked output torch.Size([3, 16256])\n",
      "fc ouput torch.Size([3, 32])\n",
      "logits torch.Size([3, 2])\n",
      "classifier ouput torch.Size([3, 2])\n",
      "-----------------Loss: 0.6158427596092224-----------------------\n",
      "------BATCH ENDING-------\n",
      "--------------------------------------------------\n",
      "[tensor([ 31, 106,  33])]\n",
      "feature shape torch.Size([3, 254, 1, 112, 112])\n",
      "reshape input torch.Size([762, 1, 112, 112])\n",
      "CNN ouput torch.Size([762, 512])\n",
      "reshaped rnn_in torch.Size([3, 254, 512])\n",
      "RNN ouput torch.Size([3, 254, 64])\n"
     ]
    },
    {
     "name": "stderr",
     "output_type": "stream",
     "text": [
      " 30%|████████████████████████▊                                                         | 47/155 [00:07<00:16,  6.58it/s]"
     ]
    },
    {
     "name": "stdout",
     "output_type": "stream",
     "text": [
      "mask ouput torch.Size([3, 254, 64])\n",
      "reshaped masked output torch.Size([3, 16256])\n",
      "fc ouput torch.Size([3, 32])\n",
      "logits torch.Size([3, 2])\n",
      "classifier ouput torch.Size([3, 2])\n",
      "-----------------Loss: 0.5561395287513733-----------------------\n",
      "------BATCH ENDING-------\n",
      "--------------------------------------------------\n",
      "[tensor([33, 49, 16])]\n",
      "feature shape torch.Size([3, 254, 1, 112, 112])\n",
      "reshape input torch.Size([762, 1, 112, 112])\n",
      "CNN ouput torch.Size([762, 512])\n",
      "reshaped rnn_in torch.Size([3, 254, 512])\n",
      "RNN ouput torch.Size([3, 254, 64])\n"
     ]
    },
    {
     "name": "stderr",
     "output_type": "stream",
     "text": [
      " 31%|█████████████████████████▍                                                        | 48/155 [00:07<00:16,  6.54it/s]"
     ]
    },
    {
     "name": "stdout",
     "output_type": "stream",
     "text": [
      "mask ouput torch.Size([3, 254, 64])\n",
      "reshaped masked output torch.Size([3, 16256])\n",
      "fc ouput torch.Size([3, 32])\n",
      "logits torch.Size([3, 2])\n",
      "classifier ouput torch.Size([3, 2])\n",
      "-----------------Loss: 0.7752301096916199-----------------------\n",
      "------BATCH ENDING-------\n",
      "--------------------------------------------------\n",
      "[tensor([109, 107, 201])]\n",
      "feature shape torch.Size([3, 254, 1, 112, 112])\n",
      "reshape input torch.Size([762, 1, 112, 112])\n",
      "CNN ouput torch.Size([762, 512])\n",
      "reshaped rnn_in torch.Size([3, 254, 512])\n",
      "RNN ouput torch.Size([3, 254, 64])\n"
     ]
    },
    {
     "name": "stderr",
     "output_type": "stream",
     "text": [
      " 32%|█████████████████████████▉                                                        | 49/155 [00:07<00:16,  6.47it/s]"
     ]
    },
    {
     "name": "stdout",
     "output_type": "stream",
     "text": [
      "mask ouput torch.Size([3, 254, 64])\n",
      "reshaped masked output torch.Size([3, 16256])\n",
      "fc ouput torch.Size([3, 32])\n",
      "logits torch.Size([3, 2])\n",
      "classifier ouput torch.Size([3, 2])\n",
      "-----------------Loss: 0.26019784808158875-----------------------\n",
      "------BATCH ENDING-------\n",
      "--------------------------------------------------\n",
      "[tensor([20, 15, 34])]\n",
      "feature shape torch.Size([3, 254, 1, 112, 112])\n",
      "reshape input torch.Size([762, 1, 112, 112])\n",
      "CNN ouput torch.Size([762, 512])\n",
      "reshaped rnn_in torch.Size([3, 254, 512])\n",
      "RNN ouput torch.Size([3, 254, 64])\n"
     ]
    },
    {
     "name": "stderr",
     "output_type": "stream",
     "text": [
      " 32%|██████████████████████████▍                                                       | 50/155 [00:08<00:16,  6.52it/s]"
     ]
    },
    {
     "name": "stdout",
     "output_type": "stream",
     "text": [
      "mask ouput torch.Size([3, 254, 64])\n",
      "reshaped masked output torch.Size([3, 16256])\n",
      "fc ouput torch.Size([3, 32])\n",
      "logits torch.Size([3, 2])\n",
      "classifier ouput torch.Size([3, 2])\n",
      "-----------------Loss: 0.6825105547904968-----------------------\n",
      "------BATCH ENDING-------\n",
      "--------------------------------------------------\n",
      "[tensor([99, 26, 17])]\n",
      "feature shape torch.Size([3, 254, 1, 112, 112])\n",
      "reshape input torch.Size([762, 1, 112, 112])\n",
      "CNN ouput torch.Size([762, 512])\n",
      "reshaped rnn_in torch.Size([3, 254, 512])\n",
      "RNN ouput torch.Size([3, 254, 64])\n"
     ]
    },
    {
     "name": "stderr",
     "output_type": "stream",
     "text": [
      " 33%|██████████████████████████▉                                                       | 51/155 [00:08<00:15,  6.57it/s]"
     ]
    },
    {
     "name": "stdout",
     "output_type": "stream",
     "text": [
      "mask ouput torch.Size([3, 254, 64])\n",
      "reshaped masked output torch.Size([3, 16256])\n",
      "fc ouput torch.Size([3, 32])\n",
      "logits torch.Size([3, 2])\n",
      "classifier ouput torch.Size([3, 2])\n",
      "-----------------Loss: 0.8135301470756531-----------------------\n",
      "------BATCH ENDING-------\n",
      "--------------------------------------------------\n",
      "[tensor([ 40, 100,  18])]\n",
      "feature shape torch.Size([3, 254, 1, 112, 112])\n",
      "reshape input torch.Size([762, 1, 112, 112])\n",
      "CNN ouput torch.Size([762, 512])\n",
      "reshaped rnn_in torch.Size([3, 254, 512])\n",
      "RNN ouput torch.Size([3, 254, 64])\n"
     ]
    },
    {
     "name": "stderr",
     "output_type": "stream",
     "text": [
      " 34%|███████████████████████████▌                                                      | 52/155 [00:08<00:15,  6.58it/s]"
     ]
    },
    {
     "name": "stdout",
     "output_type": "stream",
     "text": [
      "mask ouput torch.Size([3, 254, 64])\n",
      "reshaped masked output torch.Size([3, 16256])\n",
      "fc ouput torch.Size([3, 32])\n",
      "logits torch.Size([3, 2])\n",
      "classifier ouput torch.Size([3, 2])\n",
      "-----------------Loss: 0.7152641415596008-----------------------\n",
      "------BATCH ENDING-------\n",
      "--------------------------------------------------\n",
      "[tensor([124,  49,  35])]\n",
      "feature shape torch.Size([3, 254, 1, 112, 112])\n",
      "reshape input torch.Size([762, 1, 112, 112])\n",
      "CNN ouput torch.Size([762, 512])\n",
      "reshaped rnn_in torch.Size([3, 254, 512])\n",
      "RNN ouput torch.Size([3, 254, 64])\n"
     ]
    },
    {
     "name": "stderr",
     "output_type": "stream",
     "text": [
      " 34%|████████████████████████████                                                      | 53/155 [00:08<00:15,  6.62it/s]"
     ]
    },
    {
     "name": "stdout",
     "output_type": "stream",
     "text": [
      "mask ouput torch.Size([3, 254, 64])\n",
      "reshaped masked output torch.Size([3, 16256])\n",
      "fc ouput torch.Size([3, 32])\n",
      "logits torch.Size([3, 2])\n",
      "classifier ouput torch.Size([3, 2])\n",
      "-----------------Loss: 0.7586402893066406-----------------------\n",
      "------BATCH ENDING-------\n",
      "--------------------------------------------------\n",
      "[tensor([100,  98,  14])]\n",
      "feature shape torch.Size([3, 254, 1, 112, 112])\n",
      "reshape input torch.Size([762, 1, 112, 112])\n",
      "CNN ouput torch.Size([762, 512])\n",
      "reshaped rnn_in torch.Size([3, 254, 512])\n",
      "RNN ouput torch.Size([3, 254, 64])\n"
     ]
    },
    {
     "name": "stderr",
     "output_type": "stream",
     "text": [
      " 35%|████████████████████████████▌                                                     | 54/155 [00:08<00:15,  6.58it/s]"
     ]
    },
    {
     "name": "stdout",
     "output_type": "stream",
     "text": [
      "mask ouput torch.Size([3, 254, 64])\n",
      "reshaped masked output torch.Size([3, 16256])\n",
      "fc ouput torch.Size([3, 32])\n",
      "logits torch.Size([3, 2])\n",
      "classifier ouput torch.Size([3, 2])\n",
      "-----------------Loss: 0.6509059071540833-----------------------\n",
      "------BATCH ENDING-------\n",
      "--------------------------------------------------\n",
      "[tensor([49, 34, 16])]\n",
      "feature shape torch.Size([3, 254, 1, 112, 112])\n",
      "reshape input torch.Size([762, 1, 112, 112])\n",
      "CNN ouput torch.Size([762, 512])\n",
      "reshaped rnn_in torch.Size([3, 254, 512])\n",
      "RNN ouput torch.Size([3, 254, 64])\n"
     ]
    },
    {
     "name": "stderr",
     "output_type": "stream",
     "text": [
      " 35%|█████████████████████████████                                                     | 55/155 [00:08<00:15,  6.61it/s]"
     ]
    },
    {
     "name": "stdout",
     "output_type": "stream",
     "text": [
      "mask ouput torch.Size([3, 254, 64])\n",
      "reshaped masked output torch.Size([3, 16256])\n",
      "fc ouput torch.Size([3, 32])\n",
      "logits torch.Size([3, 2])\n",
      "classifier ouput torch.Size([3, 2])\n",
      "-----------------Loss: 0.7521728873252869-----------------------\n",
      "------BATCH ENDING-------\n",
      "--------------------------------------------------\n",
      "[tensor([108,  34, 103])]\n",
      "feature shape torch.Size([3, 254, 1, 112, 112])\n",
      "reshape input torch.Size([762, 1, 112, 112])\n",
      "CNN ouput torch.Size([762, 512])\n",
      "reshaped rnn_in torch.Size([3, 254, 512])\n",
      "RNN ouput torch.Size([3, 254, 64])\n"
     ]
    },
    {
     "name": "stderr",
     "output_type": "stream",
     "text": [
      " 36%|█████████████████████████████▋                                                    | 56/155 [00:08<00:14,  6.64it/s]"
     ]
    },
    {
     "name": "stdout",
     "output_type": "stream",
     "text": [
      "mask ouput torch.Size([3, 254, 64])\n",
      "reshaped masked output torch.Size([3, 16256])\n",
      "fc ouput torch.Size([3, 32])\n",
      "logits torch.Size([3, 2])\n",
      "classifier ouput torch.Size([3, 2])\n",
      "-----------------Loss: 0.559995174407959-----------------------\n",
      "------BATCH ENDING-------\n",
      "--------------------------------------------------\n",
      "[tensor([21, 35, 32])]\n",
      "feature shape torch.Size([3, 254, 1, 112, 112])\n",
      "reshape input torch.Size([762, 1, 112, 112])\n",
      "CNN ouput torch.Size([762, 512])\n",
      "reshaped rnn_in torch.Size([3, 254, 512])\n",
      "RNN ouput torch.Size([3, 254, 64])\n"
     ]
    },
    {
     "name": "stderr",
     "output_type": "stream",
     "text": [
      " 37%|██████████████████████████████▏                                                   | 57/155 [00:09<00:14,  6.68it/s]"
     ]
    },
    {
     "name": "stdout",
     "output_type": "stream",
     "text": [
      "mask ouput torch.Size([3, 254, 64])\n",
      "reshaped masked output torch.Size([3, 16256])\n",
      "fc ouput torch.Size([3, 32])\n",
      "logits torch.Size([3, 2])\n",
      "classifier ouput torch.Size([3, 2])\n",
      "-----------------Loss: 0.688342273235321-----------------------\n",
      "------BATCH ENDING-------\n",
      "--------------------------------------------------\n",
      "[tensor([111,  32,  33])]\n",
      "feature shape torch.Size([3, 254, 1, 112, 112])\n",
      "reshape input torch.Size([762, 1, 112, 112])\n",
      "CNN ouput torch.Size([762, 512])\n",
      "reshaped rnn_in torch.Size([3, 254, 512])\n",
      "RNN ouput torch.Size([3, 254, 64])\n"
     ]
    },
    {
     "name": "stderr",
     "output_type": "stream",
     "text": [
      " 37%|██████████████████████████████▋                                                   | 58/155 [00:09<00:14,  6.71it/s]"
     ]
    },
    {
     "name": "stdout",
     "output_type": "stream",
     "text": [
      "mask ouput torch.Size([3, 254, 64])\n",
      "reshaped masked output torch.Size([3, 16256])\n",
      "fc ouput torch.Size([3, 32])\n",
      "logits torch.Size([3, 2])\n",
      "classifier ouput torch.Size([3, 2])\n",
      "-----------------Loss: 0.7594991326332092-----------------------\n",
      "------BATCH ENDING-------\n",
      "--------------------------------------------------\n",
      "[tensor([ 32,  90, 100])]\n",
      "feature shape torch.Size([3, 254, 1, 112, 112])\n",
      "reshape input torch.Size([762, 1, 112, 112])\n",
      "CNN ouput torch.Size([762, 512])\n",
      "reshaped rnn_in torch.Size([3, 254, 512])\n",
      "RNN ouput torch.Size([3, 254, 64])\n"
     ]
    },
    {
     "name": "stderr",
     "output_type": "stream",
     "text": [
      " 38%|███████████████████████████████▏                                                  | 59/155 [00:09<00:14,  6.72it/s]"
     ]
    },
    {
     "name": "stdout",
     "output_type": "stream",
     "text": [
      "mask ouput torch.Size([3, 254, 64])\n",
      "reshaped masked output torch.Size([3, 16256])\n",
      "fc ouput torch.Size([3, 32])\n",
      "logits torch.Size([3, 2])\n",
      "classifier ouput torch.Size([3, 2])\n",
      "-----------------Loss: 0.6882758736610413-----------------------\n",
      "------BATCH ENDING-------\n",
      "--------------------------------------------------\n",
      "[tensor([35, 34, 35])]\n",
      "feature shape torch.Size([3, 254, 1, 112, 112])\n",
      "reshape input torch.Size([762, 1, 112, 112])\n",
      "CNN ouput torch.Size([762, 512])\n",
      "reshaped rnn_in torch.Size([3, 254, 512])\n",
      "RNN ouput torch.Size([3, 254, 64])\n"
     ]
    },
    {
     "name": "stderr",
     "output_type": "stream",
     "text": [
      " 39%|███████████████████████████████▋                                                  | 60/155 [00:09<00:14,  6.74it/s]"
     ]
    },
    {
     "name": "stdout",
     "output_type": "stream",
     "text": [
      "mask ouput torch.Size([3, 254, 64])\n",
      "reshaped masked output torch.Size([3, 16256])\n",
      "fc ouput torch.Size([3, 32])\n",
      "logits torch.Size([3, 2])\n",
      "classifier ouput torch.Size([3, 2])\n",
      "-----------------Loss: 0.6755205988883972-----------------------\n",
      "------BATCH ENDING-------\n",
      "--------------------------------------------------\n",
      "[tensor([34, 99, 50])]\n",
      "feature shape torch.Size([3, 254, 1, 112, 112])\n",
      "reshape input torch.Size([762, 1, 112, 112])\n",
      "CNN ouput torch.Size([762, 512])\n",
      "reshaped rnn_in torch.Size([3, 254, 512])\n",
      "RNN ouput torch.Size([3, 254, 64])\n"
     ]
    },
    {
     "name": "stderr",
     "output_type": "stream",
     "text": [
      " 39%|████████████████████████████████▎                                                 | 61/155 [00:09<00:13,  6.72it/s]"
     ]
    },
    {
     "name": "stdout",
     "output_type": "stream",
     "text": [
      "mask ouput torch.Size([3, 254, 64])\n",
      "reshaped masked output torch.Size([3, 16256])\n",
      "fc ouput torch.Size([3, 32])\n",
      "logits torch.Size([3, 2])\n",
      "classifier ouput torch.Size([3, 2])\n",
      "-----------------Loss: 0.6937276721000671-----------------------\n",
      "------BATCH ENDING-------\n",
      "--------------------------------------------------\n",
      "[tensor([ 35, 106, 109])]\n",
      "feature shape torch.Size([3, 254, 1, 112, 112])\n",
      "reshape input torch.Size([762, 1, 112, 112])\n",
      "CNN ouput torch.Size([762, 512])\n",
      "reshaped rnn_in torch.Size([3, 254, 512])\n",
      "RNN ouput torch.Size([3, 254, 64])\n"
     ]
    },
    {
     "name": "stderr",
     "output_type": "stream",
     "text": [
      " 40%|████████████████████████████████▊                                                 | 62/155 [00:09<00:13,  6.73it/s]"
     ]
    },
    {
     "name": "stdout",
     "output_type": "stream",
     "text": [
      "mask ouput torch.Size([3, 254, 64])\n",
      "reshaped masked output torch.Size([3, 16256])\n",
      "fc ouput torch.Size([3, 32])\n",
      "logits torch.Size([3, 2])\n",
      "classifier ouput torch.Size([3, 2])\n",
      "-----------------Loss: 0.6427924633026123-----------------------\n",
      "------BATCH ENDING-------\n",
      "--------------------------------------------------\n",
      "[tensor([189,  33, 105])]\n",
      "feature shape torch.Size([3, 254, 1, 112, 112])\n",
      "reshape input torch.Size([762, 1, 112, 112])\n",
      "CNN ouput torch.Size([762, 512])\n",
      "reshaped rnn_in torch.Size([3, 254, 512])\n",
      "RNN ouput torch.Size([3, 254, 64])\n"
     ]
    },
    {
     "name": "stderr",
     "output_type": "stream",
     "text": [
      " 41%|█████████████████████████████████▎                                                | 63/155 [00:10<00:13,  6.67it/s]"
     ]
    },
    {
     "name": "stdout",
     "output_type": "stream",
     "text": [
      "mask ouput torch.Size([3, 254, 64])\n",
      "reshaped masked output torch.Size([3, 16256])\n",
      "fc ouput torch.Size([3, 32])\n",
      "logits torch.Size([3, 2])\n",
      "classifier ouput torch.Size([3, 2])\n",
      "-----------------Loss: 0.5026064515113831-----------------------\n",
      "------BATCH ENDING-------\n",
      "--------------------------------------------------\n",
      "[tensor([104, 189,  33])]\n",
      "feature shape torch.Size([3, 254, 1, 112, 112])\n",
      "reshape input torch.Size([762, 1, 112, 112])\n",
      "CNN ouput torch.Size([762, 512])\n",
      "reshaped rnn_in torch.Size([3, 254, 512])\n",
      "RNN ouput torch.Size([3, 254, 64])\n"
     ]
    },
    {
     "name": "stderr",
     "output_type": "stream",
     "text": [
      " 41%|█████████████████████████████████▊                                                | 64/155 [00:10<00:13,  6.64it/s]"
     ]
    },
    {
     "name": "stdout",
     "output_type": "stream",
     "text": [
      "mask ouput torch.Size([3, 254, 64])\n",
      "reshaped masked output torch.Size([3, 16256])\n",
      "fc ouput torch.Size([3, 32])\n",
      "logits torch.Size([3, 2])\n",
      "classifier ouput torch.Size([3, 2])\n",
      "-----------------Loss: 0.7261645197868347-----------------------\n",
      "------BATCH ENDING-------\n",
      "--------------------------------------------------\n",
      "[tensor([35, 34, 29])]\n",
      "feature shape torch.Size([3, 254, 1, 112, 112])\n",
      "reshape input torch.Size([762, 1, 112, 112])\n",
      "CNN ouput torch.Size([762, 512])\n",
      "reshaped rnn_in torch.Size([3, 254, 512])\n",
      "RNN ouput torch.Size([3, 254, 64])\n"
     ]
    },
    {
     "name": "stderr",
     "output_type": "stream",
     "text": [
      " 42%|██████████████████████████████████▍                                               | 65/155 [00:10<00:13,  6.72it/s]"
     ]
    },
    {
     "name": "stdout",
     "output_type": "stream",
     "text": [
      "mask ouput torch.Size([3, 254, 64])\n",
      "reshaped masked output torch.Size([3, 16256])\n",
      "fc ouput torch.Size([3, 32])\n",
      "logits torch.Size([3, 2])\n",
      "classifier ouput torch.Size([3, 2])\n",
      "-----------------Loss: 0.6503267884254456-----------------------\n",
      "------BATCH ENDING-------\n",
      "--------------------------------------------------\n",
      "[tensor([ 34, 101,  91])]\n",
      "feature shape torch.Size([3, 254, 1, 112, 112])\n",
      "reshape input torch.Size([762, 1, 112, 112])\n",
      "CNN ouput torch.Size([762, 512])\n",
      "reshaped rnn_in torch.Size([3, 254, 512])\n",
      "RNN ouput torch.Size([3, 254, 64])\n"
     ]
    },
    {
     "name": "stderr",
     "output_type": "stream",
     "text": [
      " 43%|██████████████████████████████████▉                                               | 66/155 [00:10<00:13,  6.70it/s]"
     ]
    },
    {
     "name": "stdout",
     "output_type": "stream",
     "text": [
      "mask ouput torch.Size([3, 254, 64])\n",
      "reshaped masked output torch.Size([3, 16256])\n",
      "fc ouput torch.Size([3, 32])\n",
      "logits torch.Size([3, 2])\n",
      "classifier ouput torch.Size([3, 2])\n",
      "-----------------Loss: 0.6043775677680969-----------------------\n",
      "------BATCH ENDING-------\n",
      "--------------------------------------------------\n",
      "[tensor([ 34,  97, 104])]\n",
      "feature shape torch.Size([3, 254, 1, 112, 112])\n",
      "reshape input torch.Size([762, 1, 112, 112])\n",
      "CNN ouput torch.Size([762, 512])\n",
      "reshaped rnn_in torch.Size([3, 254, 512])\n",
      "RNN ouput torch.Size([3, 254, 64])\n"
     ]
    },
    {
     "name": "stderr",
     "output_type": "stream",
     "text": [
      " 43%|███████████████████████████████████▍                                              | 67/155 [00:10<00:13,  6.72it/s]"
     ]
    },
    {
     "name": "stdout",
     "output_type": "stream",
     "text": [
      "mask ouput torch.Size([3, 254, 64])\n",
      "reshaped masked output torch.Size([3, 16256])\n",
      "fc ouput torch.Size([3, 32])\n",
      "logits torch.Size([3, 2])\n",
      "classifier ouput torch.Size([3, 2])\n",
      "-----------------Loss: 0.6427024006843567-----------------------\n",
      "------BATCH ENDING-------\n",
      "--------------------------------------------------\n",
      "[tensor([14, 33, 17])]\n",
      "feature shape torch.Size([3, 254, 1, 112, 112])\n",
      "reshape input torch.Size([762, 1, 112, 112])\n",
      "CNN ouput torch.Size([762, 512])\n",
      "reshaped rnn_in torch.Size([3, 254, 512])\n",
      "RNN ouput torch.Size([3, 254, 64])\n"
     ]
    },
    {
     "name": "stderr",
     "output_type": "stream",
     "text": [
      " 44%|███████████████████████████████████▉                                              | 68/155 [00:10<00:12,  6.70it/s]"
     ]
    },
    {
     "name": "stdout",
     "output_type": "stream",
     "text": [
      "mask ouput torch.Size([3, 254, 64])\n",
      "reshaped masked output torch.Size([3, 16256])\n",
      "fc ouput torch.Size([3, 32])\n",
      "logits torch.Size([3, 2])\n",
      "classifier ouput torch.Size([3, 2])\n",
      "-----------------Loss: 0.7021934390068054-----------------------\n",
      "------BATCH ENDING-------\n",
      "--------------------------------------------------\n",
      "[tensor([ 31, 100,  33])]\n",
      "feature shape torch.Size([3, 254, 1, 112, 112])\n",
      "reshape input torch.Size([762, 1, 112, 112])\n",
      "CNN ouput torch.Size([762, 512])\n",
      "reshaped rnn_in torch.Size([3, 254, 512])\n",
      "RNN ouput torch.Size([3, 254, 64])\n"
     ]
    },
    {
     "name": "stderr",
     "output_type": "stream",
     "text": [
      " 45%|████████████████████████████████████▌                                             | 69/155 [00:10<00:12,  6.70it/s]"
     ]
    },
    {
     "name": "stdout",
     "output_type": "stream",
     "text": [
      "mask ouput torch.Size([3, 254, 64])\n",
      "reshaped masked output torch.Size([3, 16256])\n",
      "fc ouput torch.Size([3, 32])\n",
      "logits torch.Size([3, 2])\n",
      "classifier ouput torch.Size([3, 2])\n",
      "-----------------Loss: 0.6110044121742249-----------------------\n",
      "------BATCH ENDING-------\n",
      "--------------------------------------------------\n",
      "[tensor([33, 19, 17])]\n",
      "feature shape torch.Size([3, 254, 1, 112, 112])\n",
      "reshape input torch.Size([762, 1, 112, 112])\n",
      "CNN ouput torch.Size([762, 512])\n",
      "reshaped rnn_in torch.Size([3, 254, 512])\n",
      "RNN ouput torch.Size([3, 254, 64])\n"
     ]
    },
    {
     "name": "stderr",
     "output_type": "stream",
     "text": [
      " 45%|█████████████████████████████████████                                             | 70/155 [00:11<00:12,  6.66it/s]"
     ]
    },
    {
     "name": "stdout",
     "output_type": "stream",
     "text": [
      "mask ouput torch.Size([3, 254, 64])\n",
      "reshaped masked output torch.Size([3, 16256])\n",
      "fc ouput torch.Size([3, 32])\n",
      "logits torch.Size([3, 2])\n",
      "classifier ouput torch.Size([3, 2])\n",
      "-----------------Loss: 0.6889851689338684-----------------------\n",
      "------BATCH ENDING-------\n",
      "--------------------------------------------------\n",
      "[tensor([ 34, 102, 177])]\n",
      "feature shape torch.Size([3, 254, 1, 112, 112])\n",
      "reshape input torch.Size([762, 1, 112, 112])\n",
      "CNN ouput torch.Size([762, 512])\n",
      "reshaped rnn_in torch.Size([3, 254, 512])\n",
      "RNN ouput torch.Size([3, 254, 64])\n"
     ]
    },
    {
     "name": "stderr",
     "output_type": "stream",
     "text": [
      " 46%|█████████████████████████████████████▌                                            | 71/155 [00:11<00:12,  6.60it/s]"
     ]
    },
    {
     "name": "stdout",
     "output_type": "stream",
     "text": [
      "mask ouput torch.Size([3, 254, 64])\n",
      "reshaped masked output torch.Size([3, 16256])\n",
      "fc ouput torch.Size([3, 32])\n",
      "logits torch.Size([3, 2])\n",
      "classifier ouput torch.Size([3, 2])\n",
      "-----------------Loss: 0.5839715600013733-----------------------\n",
      "------BATCH ENDING-------\n",
      "--------------------------------------------------\n",
      "[tensor([35, 33, 40])]\n",
      "feature shape torch.Size([3, 254, 1, 112, 112])\n",
      "reshape input torch.Size([762, 1, 112, 112])\n",
      "CNN ouput torch.Size([762, 512])\n",
      "reshaped rnn_in torch.Size([3, 254, 512])\n",
      "RNN ouput torch.Size([3, 254, 64])\n"
     ]
    },
    {
     "name": "stderr",
     "output_type": "stream",
     "text": [
      " 46%|██████████████████████████████████████                                            | 72/155 [00:11<00:12,  6.64it/s]"
     ]
    },
    {
     "name": "stdout",
     "output_type": "stream",
     "text": [
      "mask ouput torch.Size([3, 254, 64])\n",
      "reshaped masked output torch.Size([3, 16256])\n",
      "fc ouput torch.Size([3, 32])\n",
      "logits torch.Size([3, 2])\n",
      "classifier ouput torch.Size([3, 2])\n",
      "-----------------Loss: 0.5462641716003418-----------------------\n",
      "------BATCH ENDING-------\n",
      "--------------------------------------------------\n",
      "[tensor([ 97,  15, 106])]\n",
      "feature shape torch.Size([3, 254, 1, 112, 112])\n",
      "reshape input torch.Size([762, 1, 112, 112])\n",
      "CNN ouput torch.Size([762, 512])\n",
      "reshaped rnn_in torch.Size([3, 254, 512])\n",
      "RNN ouput torch.Size([3, 254, 64])\n"
     ]
    },
    {
     "name": "stderr",
     "output_type": "stream",
     "text": [
      " 47%|██████████████████████████████████████▌                                           | 73/155 [00:11<00:12,  6.66it/s]"
     ]
    },
    {
     "name": "stdout",
     "output_type": "stream",
     "text": [
      "mask ouput torch.Size([3, 254, 64])\n",
      "reshaped masked output torch.Size([3, 16256])\n",
      "fc ouput torch.Size([3, 32])\n",
      "logits torch.Size([3, 2])\n",
      "classifier ouput torch.Size([3, 2])\n",
      "-----------------Loss: 0.5856121182441711-----------------------\n",
      "------BATCH ENDING-------\n",
      "--------------------------------------------------\n",
      "[tensor([ 12, 102,  16])]\n",
      "feature shape torch.Size([3, 254, 1, 112, 112])\n",
      "reshape input torch.Size([762, 1, 112, 112])\n",
      "CNN ouput torch.Size([762, 512])\n",
      "reshaped rnn_in torch.Size([3, 254, 512])\n",
      "RNN ouput torch.Size([3, 254, 64])\n"
     ]
    },
    {
     "name": "stderr",
     "output_type": "stream",
     "text": [
      " 48%|███████████████████████████████████████▏                                          | 74/155 [00:11<00:12,  6.62it/s]"
     ]
    },
    {
     "name": "stdout",
     "output_type": "stream",
     "text": [
      "mask ouput torch.Size([3, 254, 64])\n",
      "reshaped masked output torch.Size([3, 16256])\n",
      "fc ouput torch.Size([3, 32])\n",
      "logits torch.Size([3, 2])\n",
      "classifier ouput torch.Size([3, 2])\n",
      "-----------------Loss: 0.7079504132270813-----------------------\n",
      "------BATCH ENDING-------\n",
      "--------------------------------------------------\n",
      "[tensor([13, 35, 34])]\n",
      "feature shape torch.Size([3, 254, 1, 112, 112])\n",
      "reshape input torch.Size([762, 1, 112, 112])\n",
      "CNN ouput torch.Size([762, 512])\n",
      "reshaped rnn_in torch.Size([3, 254, 512])\n",
      "RNN ouput torch.Size([3, 254, 64])\n"
     ]
    },
    {
     "name": "stderr",
     "output_type": "stream",
     "text": [
      " 48%|███████████████████████████████████████▋                                          | 75/155 [00:11<00:12,  6.56it/s]"
     ]
    },
    {
     "name": "stdout",
     "output_type": "stream",
     "text": [
      "mask ouput torch.Size([3, 254, 64])\n",
      "reshaped masked output torch.Size([3, 16256])\n",
      "fc ouput torch.Size([3, 32])\n",
      "logits torch.Size([3, 2])\n",
      "classifier ouput torch.Size([3, 2])\n",
      "-----------------Loss: 0.7519850730895996-----------------------\n",
      "------BATCH ENDING-------\n",
      "--------------------------------------------------\n",
      "[tensor([32, 31, 34])]\n",
      "feature shape torch.Size([3, 254, 1, 112, 112])\n",
      "reshape input torch.Size([762, 1, 112, 112])\n",
      "CNN ouput torch.Size([762, 512])\n",
      "reshaped rnn_in torch.Size([3, 254, 512])\n",
      "RNN ouput torch.Size([3, 254, 64])\n"
     ]
    },
    {
     "name": "stderr",
     "output_type": "stream",
     "text": [
      " 49%|████████████████████████████████████████▏                                         | 76/155 [00:11<00:12,  6.52it/s]"
     ]
    },
    {
     "name": "stdout",
     "output_type": "stream",
     "text": [
      "mask ouput torch.Size([3, 254, 64])\n",
      "reshaped masked output torch.Size([3, 16256])\n",
      "fc ouput torch.Size([3, 32])\n",
      "logits torch.Size([3, 2])\n",
      "classifier ouput torch.Size([3, 2])\n",
      "-----------------Loss: 0.637848436832428-----------------------\n",
      "------BATCH ENDING-------\n",
      "--------------------------------------------------\n",
      "[tensor([102,  91, 250])]\n",
      "feature shape torch.Size([3, 254, 1, 112, 112])\n",
      "reshape input torch.Size([762, 1, 112, 112])\n",
      "CNN ouput torch.Size([762, 512])\n",
      "reshaped rnn_in torch.Size([3, 254, 512])\n",
      "RNN ouput torch.Size([3, 254, 64])\n"
     ]
    },
    {
     "name": "stderr",
     "output_type": "stream",
     "text": [
      " 50%|████████████████████████████████████████▋                                         | 77/155 [00:12<00:12,  6.48it/s]"
     ]
    },
    {
     "name": "stdout",
     "output_type": "stream",
     "text": [
      "mask ouput torch.Size([3, 254, 64])\n",
      "reshaped masked output torch.Size([3, 16256])\n",
      "fc ouput torch.Size([3, 32])\n",
      "logits torch.Size([3, 2])\n",
      "classifier ouput torch.Size([3, 2])\n",
      "-----------------Loss: 0.5778113007545471-----------------------\n",
      "------BATCH ENDING-------\n",
      "--------------------------------------------------\n",
      "[tensor([16, 35, 35])]\n",
      "feature shape torch.Size([3, 254, 1, 112, 112])\n",
      "reshape input torch.Size([762, 1, 112, 112])\n",
      "CNN ouput torch.Size([762, 512])\n",
      "reshaped rnn_in torch.Size([3, 254, 512])\n",
      "RNN ouput torch.Size([3, 254, 64])\n"
     ]
    },
    {
     "name": "stderr",
     "output_type": "stream",
     "text": [
      " 50%|█████████████████████████████████████████▎                                        | 78/155 [00:12<00:11,  6.51it/s]"
     ]
    },
    {
     "name": "stdout",
     "output_type": "stream",
     "text": [
      "mask ouput torch.Size([3, 254, 64])\n",
      "reshaped masked output torch.Size([3, 16256])\n",
      "fc ouput torch.Size([3, 32])\n",
      "logits torch.Size([3, 2])\n",
      "classifier ouput torch.Size([3, 2])\n",
      "-----------------Loss: 0.6946045756340027-----------------------\n",
      "------BATCH ENDING-------\n",
      "--------------------------------------------------\n",
      "[tensor([166,  34, 105])]\n",
      "feature shape torch.Size([3, 254, 1, 112, 112])\n",
      "reshape input torch.Size([762, 1, 112, 112])\n",
      "CNN ouput torch.Size([762, 512])\n",
      "reshaped rnn_in torch.Size([3, 254, 512])\n",
      "RNN ouput torch.Size([3, 254, 64])\n"
     ]
    },
    {
     "name": "stderr",
     "output_type": "stream",
     "text": [
      " 51%|█████████████████████████████████████████▊                                        | 79/155 [00:12<00:11,  6.51it/s]"
     ]
    },
    {
     "name": "stdout",
     "output_type": "stream",
     "text": [
      "mask ouput torch.Size([3, 254, 64])\n",
      "reshaped masked output torch.Size([3, 16256])\n",
      "fc ouput torch.Size([3, 32])\n",
      "logits torch.Size([3, 2])\n",
      "classifier ouput torch.Size([3, 2])\n",
      "-----------------Loss: 0.5667076110839844-----------------------\n",
      "------BATCH ENDING-------\n",
      "--------------------------------------------------\n",
      "[tensor([201,  18, 112])]\n",
      "feature shape torch.Size([3, 254, 1, 112, 112])\n",
      "reshape input torch.Size([762, 1, 112, 112])\n",
      "CNN ouput torch.Size([762, 512])\n",
      "reshaped rnn_in torch.Size([3, 254, 512])\n",
      "RNN ouput torch.Size([3, 254, 64])\n"
     ]
    },
    {
     "name": "stderr",
     "output_type": "stream",
     "text": [
      " 52%|██████████████████████████████████████████▎                                       | 80/155 [00:12<00:11,  6.57it/s]"
     ]
    },
    {
     "name": "stdout",
     "output_type": "stream",
     "text": [
      "mask ouput torch.Size([3, 254, 64])\n",
      "reshaped masked output torch.Size([3, 16256])\n",
      "fc ouput torch.Size([3, 32])\n",
      "logits torch.Size([3, 2])\n",
      "classifier ouput torch.Size([3, 2])\n",
      "-----------------Loss: 0.5757312178611755-----------------------\n",
      "------BATCH ENDING-------\n",
      "--------------------------------------------------\n",
      "[tensor([51, 32, 33])]\n",
      "feature shape torch.Size([3, 254, 1, 112, 112])\n",
      "reshape input torch.Size([762, 1, 112, 112])\n",
      "CNN ouput torch.Size([762, 512])\n",
      "reshaped rnn_in torch.Size([3, 254, 512])\n",
      "RNN ouput torch.Size([3, 254, 64])\n"
     ]
    },
    {
     "name": "stderr",
     "output_type": "stream",
     "text": [
      " 52%|██████████████████████████████████████████▊                                       | 81/155 [00:12<00:11,  6.66it/s]"
     ]
    },
    {
     "name": "stdout",
     "output_type": "stream",
     "text": [
      "mask ouput torch.Size([3, 254, 64])\n",
      "reshaped masked output torch.Size([3, 16256])\n",
      "fc ouput torch.Size([3, 32])\n",
      "logits torch.Size([3, 2])\n",
      "classifier ouput torch.Size([3, 2])\n",
      "-----------------Loss: 0.5921990275382996-----------------------\n",
      "------BATCH ENDING-------\n",
      "--------------------------------------------------\n",
      "[tensor([97, 33, 30])]\n",
      "feature shape torch.Size([3, 254, 1, 112, 112])\n",
      "reshape input torch.Size([762, 1, 112, 112])\n",
      "CNN ouput torch.Size([762, 512])\n",
      "reshaped rnn_in torch.Size([3, 254, 512])\n",
      "RNN ouput torch.Size([3, 254, 64])\n"
     ]
    },
    {
     "name": "stderr",
     "output_type": "stream",
     "text": [
      " 53%|███████████████████████████████████████████▍                                      | 82/155 [00:12<00:10,  6.66it/s]"
     ]
    },
    {
     "name": "stdout",
     "output_type": "stream",
     "text": [
      "mask ouput torch.Size([3, 254, 64])\n",
      "reshaped masked output torch.Size([3, 16256])\n",
      "fc ouput torch.Size([3, 32])\n",
      "logits torch.Size([3, 2])\n",
      "classifier ouput torch.Size([3, 2])\n",
      "-----------------Loss: 0.6716092228889465-----------------------\n",
      "------BATCH ENDING-------\n",
      "--------------------------------------------------\n",
      "[tensor([33, 18, 31])]\n",
      "feature shape torch.Size([3, 254, 1, 112, 112])\n",
      "reshape input torch.Size([762, 1, 112, 112])\n",
      "CNN ouput torch.Size([762, 512])\n",
      "reshaped rnn_in torch.Size([3, 254, 512])\n",
      "RNN ouput torch.Size([3, 254, 64])\n"
     ]
    },
    {
     "name": "stderr",
     "output_type": "stream",
     "text": [
      " 54%|███████████████████████████████████████████▉                                      | 83/155 [00:13<00:10,  6.65it/s]"
     ]
    },
    {
     "name": "stdout",
     "output_type": "stream",
     "text": [
      "mask ouput torch.Size([3, 254, 64])\n",
      "reshaped masked output torch.Size([3, 16256])\n",
      "fc ouput torch.Size([3, 32])\n",
      "logits torch.Size([3, 2])\n",
      "classifier ouput torch.Size([3, 2])\n",
      "-----------------Loss: 0.6496868133544922-----------------------\n",
      "------BATCH ENDING-------\n",
      "--------------------------------------------------\n",
      "[tensor([ 35, 102,  32])]\n",
      "feature shape torch.Size([3, 254, 1, 112, 112])\n",
      "reshape input torch.Size([762, 1, 112, 112])\n",
      "CNN ouput torch.Size([762, 512])\n",
      "reshaped rnn_in torch.Size([3, 254, 512])\n",
      "RNN ouput torch.Size([3, 254, 64])\n"
     ]
    },
    {
     "name": "stderr",
     "output_type": "stream",
     "text": [
      " 54%|████████████████████████████████████████████▍                                     | 84/155 [00:13<00:10,  6.68it/s]"
     ]
    },
    {
     "name": "stdout",
     "output_type": "stream",
     "text": [
      "mask ouput torch.Size([3, 254, 64])\n",
      "reshaped masked output torch.Size([3, 16256])\n",
      "fc ouput torch.Size([3, 32])\n",
      "logits torch.Size([3, 2])\n",
      "classifier ouput torch.Size([3, 2])\n",
      "-----------------Loss: 0.7406775951385498-----------------------\n",
      "------BATCH ENDING-------\n",
      "--------------------------------------------------\n",
      "[tensor([ 17,  33, 100])]\n",
      "feature shape torch.Size([3, 254, 1, 112, 112])\n",
      "reshape input torch.Size([762, 1, 112, 112])\n",
      "CNN ouput torch.Size([762, 512])\n",
      "reshaped rnn_in torch.Size([3, 254, 512])\n",
      "RNN ouput torch.Size([3, 254, 64])\n"
     ]
    },
    {
     "name": "stderr",
     "output_type": "stream",
     "text": [
      " 55%|████████████████████████████████████████████▉                                     | 85/155 [00:13<00:10,  6.70it/s]"
     ]
    },
    {
     "name": "stdout",
     "output_type": "stream",
     "text": [
      "mask ouput torch.Size([3, 254, 64])\n",
      "reshaped masked output torch.Size([3, 16256])\n",
      "fc ouput torch.Size([3, 32])\n",
      "logits torch.Size([3, 2])\n",
      "classifier ouput torch.Size([3, 2])\n",
      "-----------------Loss: 0.60224848985672-----------------------\n",
      "------BATCH ENDING-------\n",
      "--------------------------------------------------\n",
      "[tensor([100,  98, 105])]\n",
      "feature shape torch.Size([3, 254, 1, 112, 112])\n",
      "reshape input torch.Size([762, 1, 112, 112])\n",
      "CNN ouput torch.Size([762, 512])\n",
      "reshaped rnn_in torch.Size([3, 254, 512])\n",
      "RNN ouput torch.Size([3, 254, 64])\n"
     ]
    },
    {
     "name": "stderr",
     "output_type": "stream",
     "text": [
      " 55%|█████████████████████████████████████████████▍                                    | 86/155 [00:13<00:10,  6.65it/s]"
     ]
    },
    {
     "name": "stdout",
     "output_type": "stream",
     "text": [
      "mask ouput torch.Size([3, 254, 64])\n",
      "reshaped masked output torch.Size([3, 16256])\n",
      "fc ouput torch.Size([3, 32])\n",
      "logits torch.Size([3, 2])\n",
      "classifier ouput torch.Size([3, 2])\n",
      "-----------------Loss: 0.5523048043251038-----------------------\n",
      "------BATCH ENDING-------\n",
      "--------------------------------------------------\n",
      "[tensor([34, 34, 15])]\n",
      "feature shape torch.Size([3, 254, 1, 112, 112])\n",
      "reshape input torch.Size([762, 1, 112, 112])\n",
      "CNN ouput torch.Size([762, 512])\n",
      "reshaped rnn_in torch.Size([3, 254, 512])\n",
      "RNN ouput torch.Size([3, 254, 64])\n"
     ]
    },
    {
     "name": "stderr",
     "output_type": "stream",
     "text": [
      " 56%|██████████████████████████████████████████████                                    | 87/155 [00:13<00:10,  6.58it/s]"
     ]
    },
    {
     "name": "stdout",
     "output_type": "stream",
     "text": [
      "mask ouput torch.Size([3, 254, 64])\n",
      "reshaped masked output torch.Size([3, 16256])\n",
      "fc ouput torch.Size([3, 32])\n",
      "logits torch.Size([3, 2])\n",
      "classifier ouput torch.Size([3, 2])\n",
      "-----------------Loss: 0.6005821228027344-----------------------\n",
      "------BATCH ENDING-------\n",
      "--------------------------------------------------\n",
      "[tensor([ 95, 105, 106])]\n",
      "feature shape torch.Size([3, 254, 1, 112, 112])\n",
      "reshape input torch.Size([762, 1, 112, 112])\n",
      "CNN ouput torch.Size([762, 512])\n",
      "reshaped rnn_in torch.Size([3, 254, 512])\n",
      "RNN ouput torch.Size([3, 254, 64])\n"
     ]
    },
    {
     "name": "stderr",
     "output_type": "stream",
     "text": [
      " 57%|██████████████████████████████████████████████▌                                   | 88/155 [00:13<00:10,  6.52it/s]"
     ]
    },
    {
     "name": "stdout",
     "output_type": "stream",
     "text": [
      "mask ouput torch.Size([3, 254, 64])\n",
      "reshaped masked output torch.Size([3, 16256])\n",
      "fc ouput torch.Size([3, 32])\n",
      "logits torch.Size([3, 2])\n",
      "classifier ouput torch.Size([3, 2])\n",
      "-----------------Loss: 0.6440240740776062-----------------------\n",
      "------BATCH ENDING-------\n",
      "--------------------------------------------------\n",
      "[tensor([ 53, 105,  99])]\n",
      "feature shape torch.Size([3, 254, 1, 112, 112])\n",
      "reshape input torch.Size([762, 1, 112, 112])\n",
      "CNN ouput torch.Size([762, 512])\n",
      "reshaped rnn_in torch.Size([3, 254, 512])\n",
      "RNN ouput torch.Size([3, 254, 64])\n"
     ]
    },
    {
     "name": "stderr",
     "output_type": "stream",
     "text": [
      " 57%|███████████████████████████████████████████████                                   | 89/155 [00:13<00:10,  6.48it/s]"
     ]
    },
    {
     "name": "stdout",
     "output_type": "stream",
     "text": [
      "mask ouput torch.Size([3, 254, 64])\n",
      "reshaped masked output torch.Size([3, 16256])\n",
      "fc ouput torch.Size([3, 32])\n",
      "logits torch.Size([3, 2])\n",
      "classifier ouput torch.Size([3, 2])\n",
      "-----------------Loss: 0.6697022318840027-----------------------\n",
      "------BATCH ENDING-------\n",
      "--------------------------------------------------\n",
      "[tensor([226,  17,  50])]\n",
      "feature shape torch.Size([3, 254, 1, 112, 112])\n",
      "reshape input torch.Size([762, 1, 112, 112])\n",
      "CNN ouput torch.Size([762, 512])\n",
      "reshaped rnn_in torch.Size([3, 254, 512])\n",
      "RNN ouput torch.Size([3, 254, 64])\n"
     ]
    },
    {
     "name": "stderr",
     "output_type": "stream",
     "text": [
      " 58%|███████████████████████████████████████████████▌                                  | 90/155 [00:14<00:10,  6.47it/s]"
     ]
    },
    {
     "name": "stdout",
     "output_type": "stream",
     "text": [
      "mask ouput torch.Size([3, 254, 64])\n",
      "reshaped masked output torch.Size([3, 16256])\n",
      "fc ouput torch.Size([3, 32])\n",
      "logits torch.Size([3, 2])\n",
      "classifier ouput torch.Size([3, 2])\n",
      "-----------------Loss: 0.6242929100990295-----------------------\n",
      "------BATCH ENDING-------\n",
      "--------------------------------------------------\n",
      "[tensor([ 10, 107,  17])]\n",
      "feature shape torch.Size([3, 254, 1, 112, 112])\n",
      "reshape input torch.Size([762, 1, 112, 112])\n",
      "CNN ouput torch.Size([762, 512])\n",
      "reshaped rnn_in torch.Size([3, 254, 512])\n",
      "RNN ouput torch.Size([3, 254, 64])\n"
     ]
    },
    {
     "name": "stderr",
     "output_type": "stream",
     "text": [
      " 59%|████████████████████████████████████████████████▏                                 | 91/155 [00:14<00:09,  6.48it/s]"
     ]
    },
    {
     "name": "stdout",
     "output_type": "stream",
     "text": [
      "mask ouput torch.Size([3, 254, 64])\n",
      "reshaped masked output torch.Size([3, 16256])\n",
      "fc ouput torch.Size([3, 32])\n",
      "logits torch.Size([3, 2])\n",
      "classifier ouput torch.Size([3, 2])\n",
      "-----------------Loss: 0.6287286877632141-----------------------\n",
      "------BATCH ENDING-------\n",
      "--------------------------------------------------\n",
      "[tensor([34, 93, 95])]\n",
      "feature shape torch.Size([3, 254, 1, 112, 112])\n",
      "reshape input torch.Size([762, 1, 112, 112])\n",
      "CNN ouput torch.Size([762, 512])\n",
      "reshaped rnn_in torch.Size([3, 254, 512])\n",
      "RNN ouput torch.Size([3, 254, 64])\n"
     ]
    },
    {
     "name": "stderr",
     "output_type": "stream",
     "text": [
      " 59%|████████████████████████████████████████████████▋                                 | 92/155 [00:14<00:09,  6.50it/s]"
     ]
    },
    {
     "name": "stdout",
     "output_type": "stream",
     "text": [
      "mask ouput torch.Size([3, 254, 64])\n",
      "reshaped masked output torch.Size([3, 16256])\n",
      "fc ouput torch.Size([3, 32])\n",
      "logits torch.Size([3, 2])\n",
      "classifier ouput torch.Size([3, 2])\n",
      "-----------------Loss: 0.6800384521484375-----------------------\n",
      "------BATCH ENDING-------\n",
      "--------------------------------------------------\n",
      "[tensor([ 33, 103, 105])]\n",
      "feature shape torch.Size([3, 254, 1, 112, 112])\n",
      "reshape input torch.Size([762, 1, 112, 112])\n",
      "CNN ouput torch.Size([762, 512])\n",
      "reshaped rnn_in torch.Size([3, 254, 512])\n",
      "RNN ouput torch.Size([3, 254, 64])\n"
     ]
    },
    {
     "name": "stderr",
     "output_type": "stream",
     "text": [
      " 60%|█████████████████████████████████████████████████▏                                | 93/155 [00:14<00:09,  6.52it/s]"
     ]
    },
    {
     "name": "stdout",
     "output_type": "stream",
     "text": [
      "mask ouput torch.Size([3, 254, 64])\n",
      "reshaped masked output torch.Size([3, 16256])\n",
      "fc ouput torch.Size([3, 32])\n",
      "logits torch.Size([3, 2])\n",
      "classifier ouput torch.Size([3, 2])\n",
      "-----------------Loss: 0.4898073971271515-----------------------\n",
      "------BATCH ENDING-------\n",
      "--------------------------------------------------\n",
      "[tensor([ 50, 106,  34])]\n",
      "feature shape torch.Size([3, 254, 1, 112, 112])\n",
      "reshape input torch.Size([762, 1, 112, 112])\n",
      "CNN ouput torch.Size([762, 512])\n",
      "reshaped rnn_in torch.Size([3, 254, 512])\n",
      "RNN ouput torch.Size([3, 254, 64])\n"
     ]
    },
    {
     "name": "stderr",
     "output_type": "stream",
     "text": [
      " 61%|█████████████████████████████████████████████████▋                                | 94/155 [00:14<00:09,  6.56it/s]"
     ]
    },
    {
     "name": "stdout",
     "output_type": "stream",
     "text": [
      "mask ouput torch.Size([3, 254, 64])\n",
      "reshaped masked output torch.Size([3, 16256])\n",
      "fc ouput torch.Size([3, 32])\n",
      "logits torch.Size([3, 2])\n",
      "classifier ouput torch.Size([3, 2])\n",
      "-----------------Loss: 0.49161776900291443-----------------------\n",
      "------BATCH ENDING-------\n",
      "--------------------------------------------------\n",
      "[tensor([ 34, 112,  90])]\n",
      "feature shape torch.Size([3, 254, 1, 112, 112])\n",
      "reshape input torch.Size([762, 1, 112, 112])\n",
      "CNN ouput torch.Size([762, 512])\n",
      "reshaped rnn_in torch.Size([3, 254, 512])\n",
      "RNN ouput torch.Size([3, 254, 64])\n"
     ]
    },
    {
     "name": "stderr",
     "output_type": "stream",
     "text": [
      " 61%|██████████████████████████████████████████████████▎                               | 95/155 [00:14<00:09,  6.59it/s]"
     ]
    },
    {
     "name": "stdout",
     "output_type": "stream",
     "text": [
      "mask ouput torch.Size([3, 254, 64])\n",
      "reshaped masked output torch.Size([3, 16256])\n",
      "fc ouput torch.Size([3, 32])\n",
      "logits torch.Size([3, 2])\n",
      "classifier ouput torch.Size([3, 2])\n",
      "-----------------Loss: 0.4933815896511078-----------------------\n",
      "------BATCH ENDING-------\n",
      "--------------------------------------------------\n",
      "[tensor([24, 22, 34])]\n",
      "feature shape torch.Size([3, 254, 1, 112, 112])\n",
      "reshape input torch.Size([762, 1, 112, 112])\n",
      "CNN ouput torch.Size([762, 512])\n",
      "reshaped rnn_in torch.Size([3, 254, 512])\n",
      "RNN ouput torch.Size([3, 254, 64])\n"
     ]
    },
    {
     "name": "stderr",
     "output_type": "stream",
     "text": [
      " 62%|██████████████████████████████████████████████████▊                               | 96/155 [00:15<00:08,  6.57it/s]"
     ]
    },
    {
     "name": "stdout",
     "output_type": "stream",
     "text": [
      "mask ouput torch.Size([3, 254, 64])\n",
      "reshaped masked output torch.Size([3, 16256])\n",
      "fc ouput torch.Size([3, 32])\n",
      "logits torch.Size([3, 2])\n",
      "classifier ouput torch.Size([3, 2])\n",
      "-----------------Loss: 0.7240350246429443-----------------------\n",
      "------BATCH ENDING-------\n",
      "--------------------------------------------------\n",
      "[tensor([101,  33,  11])]\n",
      "feature shape torch.Size([3, 254, 1, 112, 112])\n",
      "reshape input torch.Size([762, 1, 112, 112])\n",
      "CNN ouput torch.Size([762, 512])\n",
      "reshaped rnn_in torch.Size([3, 254, 512])\n",
      "RNN ouput torch.Size([3, 254, 64])\n"
     ]
    },
    {
     "name": "stderr",
     "output_type": "stream",
     "text": [
      " 63%|███████████████████████████████████████████████████▎                              | 97/155 [00:15<00:08,  6.57it/s]"
     ]
    },
    {
     "name": "stdout",
     "output_type": "stream",
     "text": [
      "mask ouput torch.Size([3, 254, 64])\n",
      "reshaped masked output torch.Size([3, 16256])\n",
      "fc ouput torch.Size([3, 32])\n",
      "logits torch.Size([3, 2])\n",
      "classifier ouput torch.Size([3, 2])\n",
      "-----------------Loss: 0.7043327689170837-----------------------\n",
      "------BATCH ENDING-------\n",
      "--------------------------------------------------\n",
      "[tensor([ 32, 194,  35])]\n",
      "feature shape torch.Size([3, 254, 1, 112, 112])\n",
      "reshape input torch.Size([762, 1, 112, 112])\n",
      "CNN ouput torch.Size([762, 512])\n",
      "reshaped rnn_in torch.Size([3, 254, 512])\n",
      "RNN ouput torch.Size([3, 254, 64])\n"
     ]
    },
    {
     "name": "stderr",
     "output_type": "stream",
     "text": [
      " 63%|███████████████████████████████████████████████████▊                              | 98/155 [00:15<00:08,  6.48it/s]"
     ]
    },
    {
     "name": "stdout",
     "output_type": "stream",
     "text": [
      "mask ouput torch.Size([3, 254, 64])\n",
      "reshaped masked output torch.Size([3, 16256])\n",
      "fc ouput torch.Size([3, 32])\n",
      "logits torch.Size([3, 2])\n",
      "classifier ouput torch.Size([3, 2])\n",
      "-----------------Loss: 0.6301858425140381-----------------------\n",
      "------BATCH ENDING-------\n",
      "--------------------------------------------------\n",
      "[tensor([46, 34, 30])]\n",
      "feature shape torch.Size([3, 254, 1, 112, 112])\n",
      "reshape input torch.Size([762, 1, 112, 112])\n",
      "CNN ouput torch.Size([762, 512])\n",
      "reshaped rnn_in torch.Size([3, 254, 512])\n",
      "RNN ouput torch.Size([3, 254, 64])\n"
     ]
    },
    {
     "name": "stderr",
     "output_type": "stream",
     "text": [
      " 64%|████████████████████████████████████████████████████▎                             | 99/155 [00:15<00:08,  6.47it/s]"
     ]
    },
    {
     "name": "stdout",
     "output_type": "stream",
     "text": [
      "mask ouput torch.Size([3, 254, 64])\n",
      "reshaped masked output torch.Size([3, 16256])\n",
      "fc ouput torch.Size([3, 32])\n",
      "logits torch.Size([3, 2])\n",
      "classifier ouput torch.Size([3, 2])\n",
      "-----------------Loss: 0.7799755930900574-----------------------\n",
      "------BATCH ENDING-------\n",
      "--------------------------------------------------\n",
      "[tensor([35, 17, 90])]\n",
      "feature shape torch.Size([3, 254, 1, 112, 112])\n",
      "reshape input torch.Size([762, 1, 112, 112])\n",
      "CNN ouput torch.Size([762, 512])\n",
      "reshaped rnn_in torch.Size([3, 254, 512])\n",
      "RNN ouput torch.Size([3, 254, 64])\n"
     ]
    },
    {
     "name": "stderr",
     "output_type": "stream",
     "text": [
      " 65%|████████████████████████████████████████████████████▎                            | 100/155 [00:15<00:08,  6.41it/s]"
     ]
    },
    {
     "name": "stdout",
     "output_type": "stream",
     "text": [
      "mask ouput torch.Size([3, 254, 64])\n",
      "reshaped masked output torch.Size([3, 16256])\n",
      "fc ouput torch.Size([3, 32])\n",
      "logits torch.Size([3, 2])\n",
      "classifier ouput torch.Size([3, 2])\n",
      "-----------------Loss: 0.5735694766044617-----------------------\n",
      "------BATCH ENDING-------\n",
      "--------------------------------------------------\n",
      "[tensor([33, 36, 97])]\n",
      "feature shape torch.Size([3, 254, 1, 112, 112])\n",
      "reshape input torch.Size([762, 1, 112, 112])\n",
      "CNN ouput torch.Size([762, 512])\n",
      "reshaped rnn_in torch.Size([3, 254, 512])\n",
      "RNN ouput torch.Size([3, 254, 64])\n"
     ]
    },
    {
     "name": "stderr",
     "output_type": "stream",
     "text": [
      " 65%|████████████████████████████████████████████████████▊                            | 101/155 [00:15<00:08,  6.44it/s]"
     ]
    },
    {
     "name": "stdout",
     "output_type": "stream",
     "text": [
      "mask ouput torch.Size([3, 254, 64])\n",
      "reshaped masked output torch.Size([3, 16256])\n",
      "fc ouput torch.Size([3, 32])\n",
      "logits torch.Size([3, 2])\n",
      "classifier ouput torch.Size([3, 2])\n",
      "-----------------Loss: 0.6502975821495056-----------------------\n",
      "------BATCH ENDING-------\n",
      "--------------------------------------------------\n",
      "[tensor([197, 101,  35])]\n",
      "feature shape torch.Size([3, 254, 1, 112, 112])\n",
      "reshape input torch.Size([762, 1, 112, 112])\n",
      "CNN ouput torch.Size([762, 512])\n",
      "reshaped rnn_in torch.Size([3, 254, 512])\n",
      "RNN ouput torch.Size([3, 254, 64])\n"
     ]
    },
    {
     "name": "stderr",
     "output_type": "stream",
     "text": [
      " 66%|█████████████████████████████████████████████████████▎                           | 102/155 [00:15<00:08,  6.42it/s]"
     ]
    },
    {
     "name": "stdout",
     "output_type": "stream",
     "text": [
      "mask ouput torch.Size([3, 254, 64])\n",
      "reshaped masked output torch.Size([3, 16256])\n",
      "fc ouput torch.Size([3, 32])\n",
      "logits torch.Size([3, 2])\n",
      "classifier ouput torch.Size([3, 2])\n",
      "-----------------Loss: 0.4469904899597168-----------------------\n",
      "------BATCH ENDING-------\n",
      "--------------------------------------------------\n",
      "[tensor([199,  34,  17])]\n",
      "feature shape torch.Size([3, 254, 1, 112, 112])\n",
      "reshape input torch.Size([762, 1, 112, 112])\n",
      "CNN ouput torch.Size([762, 512])\n",
      "reshaped rnn_in torch.Size([3, 254, 512])\n",
      "RNN ouput torch.Size([3, 254, 64])\n"
     ]
    },
    {
     "name": "stderr",
     "output_type": "stream",
     "text": [
      " 66%|█████████████████████████████████████████████████████▊                           | 103/155 [00:16<00:07,  6.51it/s]"
     ]
    },
    {
     "name": "stdout",
     "output_type": "stream",
     "text": [
      "mask ouput torch.Size([3, 254, 64])\n",
      "reshaped masked output torch.Size([3, 16256])\n",
      "fc ouput torch.Size([3, 32])\n",
      "logits torch.Size([3, 2])\n",
      "classifier ouput torch.Size([3, 2])\n",
      "-----------------Loss: 0.4892403781414032-----------------------\n",
      "------BATCH ENDING-------\n",
      "--------------------------------------------------\n",
      "[tensor([97, 33, 34])]\n",
      "feature shape torch.Size([3, 254, 1, 112, 112])\n",
      "reshape input torch.Size([762, 1, 112, 112])\n",
      "CNN ouput torch.Size([762, 512])\n",
      "reshaped rnn_in torch.Size([3, 254, 512])\n",
      "RNN ouput torch.Size([3, 254, 64])\n"
     ]
    },
    {
     "name": "stderr",
     "output_type": "stream",
     "text": [
      " 67%|██████████████████████████████████████████████████████▎                          | 104/155 [00:16<00:07,  6.50it/s]"
     ]
    },
    {
     "name": "stdout",
     "output_type": "stream",
     "text": [
      "mask ouput torch.Size([3, 254, 64])\n",
      "reshaped masked output torch.Size([3, 16256])\n",
      "fc ouput torch.Size([3, 32])\n",
      "logits torch.Size([3, 2])\n",
      "classifier ouput torch.Size([3, 2])\n",
      "-----------------Loss: 0.6621080040931702-----------------------\n",
      "------BATCH ENDING-------\n",
      "--------------------------------------------------\n",
      "[tensor([ 33,  16, 107])]\n",
      "feature shape torch.Size([3, 254, 1, 112, 112])\n",
      "reshape input torch.Size([762, 1, 112, 112])\n",
      "CNN ouput torch.Size([762, 512])\n",
      "reshaped rnn_in torch.Size([3, 254, 512])\n",
      "RNN ouput torch.Size([3, 254, 64])\n"
     ]
    },
    {
     "name": "stderr",
     "output_type": "stream",
     "text": [
      " 68%|██████████████████████████████████████████████████████▊                          | 105/155 [00:16<00:07,  6.46it/s]"
     ]
    },
    {
     "name": "stdout",
     "output_type": "stream",
     "text": [
      "mask ouput torch.Size([3, 254, 64])\n",
      "reshaped masked output torch.Size([3, 16256])\n",
      "fc ouput torch.Size([3, 32])\n",
      "logits torch.Size([3, 2])\n",
      "classifier ouput torch.Size([3, 2])\n",
      "-----------------Loss: 0.5171912908554077-----------------------\n",
      "------BATCH ENDING-------\n",
      "--------------------------------------------------\n",
      "[tensor([109,  32,  11])]\n",
      "feature shape torch.Size([3, 254, 1, 112, 112])\n",
      "reshape input torch.Size([762, 1, 112, 112])\n",
      "CNN ouput torch.Size([762, 512])\n",
      "reshaped rnn_in torch.Size([3, 254, 512])\n",
      "RNN ouput torch.Size([3, 254, 64])\n"
     ]
    },
    {
     "name": "stderr",
     "output_type": "stream",
     "text": [
      " 68%|███████████████████████████████████████████████████████▍                         | 106/155 [00:16<00:07,  6.36it/s]"
     ]
    },
    {
     "name": "stdout",
     "output_type": "stream",
     "text": [
      "mask ouput torch.Size([3, 254, 64])\n",
      "reshaped masked output torch.Size([3, 16256])\n",
      "fc ouput torch.Size([3, 32])\n",
      "logits torch.Size([3, 2])\n",
      "classifier ouput torch.Size([3, 2])\n",
      "-----------------Loss: 0.5406598448753357-----------------------\n",
      "------BATCH ENDING-------\n",
      "--------------------------------------------------\n",
      "[tensor([ 33, 100,  15])]\n",
      "feature shape torch.Size([3, 254, 1, 112, 112])\n",
      "reshape input torch.Size([762, 1, 112, 112])\n",
      "CNN ouput torch.Size([762, 512])\n",
      "reshaped rnn_in torch.Size([3, 254, 512])\n",
      "RNN ouput torch.Size([3, 254, 64])\n"
     ]
    },
    {
     "name": "stderr",
     "output_type": "stream",
     "text": [
      " 69%|███████████████████████████████████████████████████████▉                         | 107/155 [00:16<00:07,  6.31it/s]"
     ]
    },
    {
     "name": "stdout",
     "output_type": "stream",
     "text": [
      "mask ouput torch.Size([3, 254, 64])\n",
      "reshaped masked output torch.Size([3, 16256])\n",
      "fc ouput torch.Size([3, 32])\n",
      "logits torch.Size([3, 2])\n",
      "classifier ouput torch.Size([3, 2])\n",
      "-----------------Loss: 0.8696656227111816-----------------------\n",
      "------BATCH ENDING-------\n",
      "--------------------------------------------------\n",
      "[tensor([32, 17, 51])]\n",
      "feature shape torch.Size([3, 254, 1, 112, 112])\n",
      "reshape input torch.Size([762, 1, 112, 112])\n",
      "CNN ouput torch.Size([762, 512])\n",
      "reshaped rnn_in torch.Size([3, 254, 512])\n",
      "RNN ouput torch.Size([3, 254, 64])\n"
     ]
    },
    {
     "name": "stderr",
     "output_type": "stream",
     "text": [
      " 70%|████████████████████████████████████████████████████████▍                        | 108/155 [00:16<00:07,  6.39it/s]"
     ]
    },
    {
     "name": "stdout",
     "output_type": "stream",
     "text": [
      "mask ouput torch.Size([3, 254, 64])\n",
      "reshaped masked output torch.Size([3, 16256])\n",
      "fc ouput torch.Size([3, 32])\n",
      "logits torch.Size([3, 2])\n",
      "classifier ouput torch.Size([3, 2])\n",
      "-----------------Loss: 0.625678300857544-----------------------\n",
      "------BATCH ENDING-------\n",
      "--------------------------------------------------\n",
      "[tensor([ 49, 101,  35])]\n",
      "feature shape torch.Size([3, 254, 1, 112, 112])\n",
      "reshape input torch.Size([762, 1, 112, 112])\n",
      "CNN ouput torch.Size([762, 512])\n",
      "reshaped rnn_in torch.Size([3, 254, 512])\n",
      "RNN ouput torch.Size([3, 254, 64])\n"
     ]
    },
    {
     "name": "stderr",
     "output_type": "stream",
     "text": [
      " 70%|████████████████████████████████████████████████████████▉                        | 109/155 [00:17<00:07,  6.46it/s]"
     ]
    },
    {
     "name": "stdout",
     "output_type": "stream",
     "text": [
      "mask ouput torch.Size([3, 254, 64])\n",
      "reshaped masked output torch.Size([3, 16256])\n",
      "fc ouput torch.Size([3, 32])\n",
      "logits torch.Size([3, 2])\n",
      "classifier ouput torch.Size([3, 2])\n",
      "-----------------Loss: 0.5477995276451111-----------------------\n",
      "------BATCH ENDING-------\n",
      "--------------------------------------------------\n",
      "[tensor([ 34, 106, 101])]\n",
      "feature shape torch.Size([3, 254, 1, 112, 112])\n",
      "reshape input torch.Size([762, 1, 112, 112])\n",
      "CNN ouput torch.Size([762, 512])\n",
      "reshaped rnn_in torch.Size([3, 254, 512])\n",
      "RNN ouput torch.Size([3, 254, 64])\n"
     ]
    },
    {
     "name": "stderr",
     "output_type": "stream",
     "text": [
      " 71%|█████████████████████████████████████████████████████████▍                       | 110/155 [00:17<00:06,  6.49it/s]"
     ]
    },
    {
     "name": "stdout",
     "output_type": "stream",
     "text": [
      "mask ouput torch.Size([3, 254, 64])\n",
      "reshaped masked output torch.Size([3, 16256])\n",
      "fc ouput torch.Size([3, 32])\n",
      "logits torch.Size([3, 2])\n",
      "classifier ouput torch.Size([3, 2])\n",
      "-----------------Loss: 0.7626760005950928-----------------------\n",
      "------BATCH ENDING-------\n",
      "--------------------------------------------------\n",
      "[tensor([13, 15, 36])]\n",
      "feature shape torch.Size([3, 254, 1, 112, 112])\n",
      "reshape input torch.Size([762, 1, 112, 112])\n",
      "CNN ouput torch.Size([762, 512])\n",
      "reshaped rnn_in torch.Size([3, 254, 512])\n",
      "RNN ouput torch.Size([3, 254, 64])\n"
     ]
    },
    {
     "name": "stderr",
     "output_type": "stream",
     "text": [
      " 72%|██████████████████████████████████████████████████████████                       | 111/155 [00:17<00:06,  6.50it/s]"
     ]
    },
    {
     "name": "stdout",
     "output_type": "stream",
     "text": [
      "mask ouput torch.Size([3, 254, 64])\n",
      "reshaped masked output torch.Size([3, 16256])\n",
      "fc ouput torch.Size([3, 32])\n",
      "logits torch.Size([3, 2])\n",
      "classifier ouput torch.Size([3, 2])\n",
      "-----------------Loss: 0.6554886698722839-----------------------\n",
      "------BATCH ENDING-------\n",
      "--------------------------------------------------\n",
      "[tensor([33, 19, 31])]\n",
      "feature shape torch.Size([3, 254, 1, 112, 112])\n",
      "reshape input torch.Size([762, 1, 112, 112])\n",
      "CNN ouput torch.Size([762, 512])\n",
      "reshaped rnn_in torch.Size([3, 254, 512])\n",
      "RNN ouput torch.Size([3, 254, 64])\n"
     ]
    },
    {
     "name": "stderr",
     "output_type": "stream",
     "text": [
      " 72%|██████████████████████████████████████████████████████████▌                      | 112/155 [00:17<00:06,  6.55it/s]"
     ]
    },
    {
     "name": "stdout",
     "output_type": "stream",
     "text": [
      "mask ouput torch.Size([3, 254, 64])\n",
      "reshaped masked output torch.Size([3, 16256])\n",
      "fc ouput torch.Size([3, 32])\n",
      "logits torch.Size([3, 2])\n",
      "classifier ouput torch.Size([3, 2])\n",
      "-----------------Loss: 0.619358241558075-----------------------\n",
      "------BATCH ENDING-------\n",
      "--------------------------------------------------\n",
      "[tensor([ 34, 102,  96])]\n",
      "feature shape torch.Size([3, 254, 1, 112, 112])\n",
      "reshape input torch.Size([762, 1, 112, 112])\n",
      "CNN ouput torch.Size([762, 512])\n",
      "reshaped rnn_in torch.Size([3, 254, 512])\n",
      "RNN ouput torch.Size([3, 254, 64])\n"
     ]
    },
    {
     "name": "stderr",
     "output_type": "stream",
     "text": [
      " 73%|███████████████████████████████████████████████████████████                      | 113/155 [00:17<00:06,  6.54it/s]"
     ]
    },
    {
     "name": "stdout",
     "output_type": "stream",
     "text": [
      "mask ouput torch.Size([3, 254, 64])\n",
      "reshaped masked output torch.Size([3, 16256])\n",
      "fc ouput torch.Size([3, 32])\n",
      "logits torch.Size([3, 2])\n",
      "classifier ouput torch.Size([3, 2])\n",
      "-----------------Loss: 0.5890753269195557-----------------------\n",
      "------BATCH ENDING-------\n",
      "--------------------------------------------------\n",
      "[tensor([ 14, 101,  48])]\n",
      "feature shape torch.Size([3, 254, 1, 112, 112])\n",
      "reshape input torch.Size([762, 1, 112, 112])\n",
      "CNN ouput torch.Size([762, 512])\n",
      "reshaped rnn_in torch.Size([3, 254, 512])\n",
      "RNN ouput torch.Size([3, 254, 64])\n"
     ]
    },
    {
     "name": "stderr",
     "output_type": "stream",
     "text": [
      " 74%|███████████████████████████████████████████████████████████▌                     | 114/155 [00:17<00:06,  6.51it/s]"
     ]
    },
    {
     "name": "stdout",
     "output_type": "stream",
     "text": [
      "mask ouput torch.Size([3, 254, 64])\n",
      "reshaped masked output torch.Size([3, 16256])\n",
      "fc ouput torch.Size([3, 32])\n",
      "logits torch.Size([3, 2])\n",
      "classifier ouput torch.Size([3, 2])\n",
      "-----------------Loss: 0.8360567092895508-----------------------\n",
      "------BATCH ENDING-------\n",
      "--------------------------------------------------\n",
      "[tensor([ 33, 104,  33])]\n",
      "feature shape torch.Size([3, 254, 1, 112, 112])\n",
      "reshape input torch.Size([762, 1, 112, 112])\n",
      "CNN ouput torch.Size([762, 512])\n",
      "reshaped rnn_in torch.Size([3, 254, 512])\n",
      "RNN ouput torch.Size([3, 254, 64])\n"
     ]
    },
    {
     "name": "stderr",
     "output_type": "stream",
     "text": [
      " 74%|████████████████████████████████████████████████████████████                     | 115/155 [00:17<00:06,  6.47it/s]"
     ]
    },
    {
     "name": "stdout",
     "output_type": "stream",
     "text": [
      "mask ouput torch.Size([3, 254, 64])\n",
      "reshaped masked output torch.Size([3, 16256])\n",
      "fc ouput torch.Size([3, 32])\n",
      "logits torch.Size([3, 2])\n",
      "classifier ouput torch.Size([3, 2])\n",
      "-----------------Loss: 0.8120372891426086-----------------------\n",
      "------BATCH ENDING-------\n",
      "--------------------------------------------------\n",
      "[tensor([202,  33,  33])]\n",
      "feature shape torch.Size([3, 254, 1, 112, 112])\n",
      "reshape input torch.Size([762, 1, 112, 112])\n",
      "CNN ouput torch.Size([762, 512])\n",
      "reshaped rnn_in torch.Size([3, 254, 512])\n",
      "RNN ouput torch.Size([3, 254, 64])\n"
     ]
    },
    {
     "name": "stderr",
     "output_type": "stream",
     "text": [
      " 75%|████████████████████████████████████████████████████████████▌                    | 116/155 [00:18<00:05,  6.51it/s]"
     ]
    },
    {
     "name": "stdout",
     "output_type": "stream",
     "text": [
      "mask ouput torch.Size([3, 254, 64])\n",
      "reshaped masked output torch.Size([3, 16256])\n",
      "fc ouput torch.Size([3, 32])\n",
      "logits torch.Size([3, 2])\n",
      "classifier ouput torch.Size([3, 2])\n",
      "-----------------Loss: 0.5678730010986328-----------------------\n",
      "------BATCH ENDING-------\n",
      "--------------------------------------------------\n",
      "[tensor([94, 33, 34])]\n",
      "feature shape torch.Size([3, 254, 1, 112, 112])\n",
      "reshape input torch.Size([762, 1, 112, 112])\n",
      "CNN ouput torch.Size([762, 512])\n",
      "reshaped rnn_in torch.Size([3, 254, 512])\n",
      "RNN ouput torch.Size([3, 254, 64])\n"
     ]
    },
    {
     "name": "stderr",
     "output_type": "stream",
     "text": [
      " 75%|█████████████████████████████████████████████████████████████▏                   | 117/155 [00:18<00:05,  6.52it/s]"
     ]
    },
    {
     "name": "stdout",
     "output_type": "stream",
     "text": [
      "mask ouput torch.Size([3, 254, 64])\n",
      "reshaped masked output torch.Size([3, 16256])\n",
      "fc ouput torch.Size([3, 32])\n",
      "logits torch.Size([3, 2])\n",
      "classifier ouput torch.Size([3, 2])\n",
      "-----------------Loss: 0.7484526634216309-----------------------\n",
      "------BATCH ENDING-------\n",
      "--------------------------------------------------\n",
      "[tensor([114,  35,  34])]\n",
      "feature shape torch.Size([3, 254, 1, 112, 112])\n",
      "reshape input torch.Size([762, 1, 112, 112])\n",
      "CNN ouput torch.Size([762, 512])\n",
      "reshaped rnn_in torch.Size([3, 254, 512])\n",
      "RNN ouput torch.Size([3, 254, 64])\n"
     ]
    },
    {
     "name": "stderr",
     "output_type": "stream",
     "text": [
      " 76%|█████████████████████████████████████████████████████████████▋                   | 118/155 [00:18<00:05,  6.55it/s]"
     ]
    },
    {
     "name": "stdout",
     "output_type": "stream",
     "text": [
      "mask ouput torch.Size([3, 254, 64])\n",
      "reshaped masked output torch.Size([3, 16256])\n",
      "fc ouput torch.Size([3, 32])\n",
      "logits torch.Size([3, 2])\n",
      "classifier ouput torch.Size([3, 2])\n",
      "-----------------Loss: 0.5923976898193359-----------------------\n",
      "------BATCH ENDING-------\n",
      "--------------------------------------------------\n",
      "[tensor([35, 33, 17])]\n",
      "feature shape torch.Size([3, 254, 1, 112, 112])\n",
      "reshape input torch.Size([762, 1, 112, 112])\n",
      "CNN ouput torch.Size([762, 512])\n",
      "reshaped rnn_in torch.Size([3, 254, 512])\n",
      "RNN ouput torch.Size([3, 254, 64])\n"
     ]
    },
    {
     "name": "stderr",
     "output_type": "stream",
     "text": [
      " 77%|██████████████████████████████████████████████████████████████▏                  | 119/155 [00:18<00:05,  6.59it/s]"
     ]
    },
    {
     "name": "stdout",
     "output_type": "stream",
     "text": [
      "mask ouput torch.Size([3, 254, 64])\n",
      "reshaped masked output torch.Size([3, 16256])\n",
      "fc ouput torch.Size([3, 32])\n",
      "logits torch.Size([3, 2])\n",
      "classifier ouput torch.Size([3, 2])\n",
      "-----------------Loss: 0.7435488104820251-----------------------\n",
      "------BATCH ENDING-------\n",
      "--------------------------------------------------\n",
      "[tensor([ 33,  37, 102])]\n",
      "feature shape torch.Size([3, 254, 1, 112, 112])\n",
      "reshape input torch.Size([762, 1, 112, 112])\n",
      "CNN ouput torch.Size([762, 512])\n",
      "reshaped rnn_in torch.Size([3, 254, 512])\n",
      "RNN ouput torch.Size([3, 254, 64])\n"
     ]
    },
    {
     "name": "stderr",
     "output_type": "stream",
     "text": [
      " 77%|██████████████████████████████████████████████████████████████▋                  | 120/155 [00:18<00:05,  6.64it/s]"
     ]
    },
    {
     "name": "stdout",
     "output_type": "stream",
     "text": [
      "mask ouput torch.Size([3, 254, 64])\n",
      "reshaped masked output torch.Size([3, 16256])\n",
      "fc ouput torch.Size([3, 32])\n",
      "logits torch.Size([3, 2])\n",
      "classifier ouput torch.Size([3, 2])\n",
      "-----------------Loss: 0.6732559204101562-----------------------\n",
      "------BATCH ENDING-------\n",
      "--------------------------------------------------\n",
      "[tensor([105,  35,  96])]\n",
      "feature shape torch.Size([3, 254, 1, 112, 112])\n",
      "reshape input torch.Size([762, 1, 112, 112])\n",
      "CNN ouput torch.Size([762, 512])\n",
      "reshaped rnn_in torch.Size([3, 254, 512])\n",
      "RNN ouput torch.Size([3, 254, 64])\n"
     ]
    },
    {
     "name": "stderr",
     "output_type": "stream",
     "text": [
      " 78%|███████████████████████████████████████████████████████████████▏                 | 121/155 [00:18<00:05,  6.58it/s]"
     ]
    },
    {
     "name": "stdout",
     "output_type": "stream",
     "text": [
      "mask ouput torch.Size([3, 254, 64])\n",
      "reshaped masked output torch.Size([3, 16256])\n",
      "fc ouput torch.Size([3, 32])\n",
      "logits torch.Size([3, 2])\n",
      "classifier ouput torch.Size([3, 2])\n",
      "-----------------Loss: 0.5715541243553162-----------------------\n",
      "------BATCH ENDING-------\n",
      "--------------------------------------------------\n",
      "[tensor([ 19, 113, 101])]\n",
      "feature shape torch.Size([3, 254, 1, 112, 112])\n",
      "reshape input torch.Size([762, 1, 112, 112])\n",
      "CNN ouput torch.Size([762, 512])\n",
      "reshaped rnn_in torch.Size([3, 254, 512])\n",
      "RNN ouput torch.Size([3, 254, 64])\n"
     ]
    },
    {
     "name": "stderr",
     "output_type": "stream",
     "text": [
      " 79%|███████████████████████████████████████████████████████████████▊                 | 122/155 [00:19<00:05,  6.44it/s]"
     ]
    },
    {
     "name": "stdout",
     "output_type": "stream",
     "text": [
      "mask ouput torch.Size([3, 254, 64])\n",
      "reshaped masked output torch.Size([3, 16256])\n",
      "fc ouput torch.Size([3, 32])\n",
      "logits torch.Size([3, 2])\n",
      "classifier ouput torch.Size([3, 2])\n",
      "-----------------Loss: 0.5282313227653503-----------------------\n",
      "------BATCH ENDING-------\n",
      "--------------------------------------------------\n",
      "[tensor([33, 40, 33])]\n",
      "feature shape torch.Size([3, 254, 1, 112, 112])\n",
      "reshape input torch.Size([762, 1, 112, 112])\n",
      "CNN ouput torch.Size([762, 512])\n",
      "reshaped rnn_in torch.Size([3, 254, 512])\n",
      "RNN ouput torch.Size([3, 254, 64])\n"
     ]
    },
    {
     "name": "stderr",
     "output_type": "stream",
     "text": [
      " 79%|████████████████████████████████████████████████████████████████▎                | 123/155 [00:19<00:05,  6.30it/s]"
     ]
    },
    {
     "name": "stdout",
     "output_type": "stream",
     "text": [
      "mask ouput torch.Size([3, 254, 64])\n",
      "reshaped masked output torch.Size([3, 16256])\n",
      "fc ouput torch.Size([3, 32])\n",
      "logits torch.Size([3, 2])\n",
      "classifier ouput torch.Size([3, 2])\n",
      "-----------------Loss: 0.776857316493988-----------------------\n",
      "------BATCH ENDING-------\n",
      "--------------------------------------------------\n",
      "[tensor([194,  34, 107])]\n",
      "feature shape torch.Size([3, 254, 1, 112, 112])\n",
      "reshape input torch.Size([762, 1, 112, 112])\n",
      "CNN ouput torch.Size([762, 512])\n",
      "reshaped rnn_in torch.Size([3, 254, 512])\n",
      "RNN ouput torch.Size([3, 254, 64])\n"
     ]
    },
    {
     "name": "stderr",
     "output_type": "stream",
     "text": [
      " 80%|████████████████████████████████████████████████████████████████▊                | 124/155 [00:19<00:04,  6.34it/s]"
     ]
    },
    {
     "name": "stdout",
     "output_type": "stream",
     "text": [
      "mask ouput torch.Size([3, 254, 64])\n",
      "reshaped masked output torch.Size([3, 16256])\n",
      "fc ouput torch.Size([3, 32])\n",
      "logits torch.Size([3, 2])\n",
      "classifier ouput torch.Size([3, 2])\n",
      "-----------------Loss: 0.33751699328422546-----------------------\n",
      "------BATCH ENDING-------\n",
      "--------------------------------------------------\n",
      "[tensor([ 14, 189, 101])]\n",
      "feature shape torch.Size([3, 254, 1, 112, 112])\n",
      "reshape input torch.Size([762, 1, 112, 112])\n",
      "CNN ouput torch.Size([762, 512])\n",
      "reshaped rnn_in torch.Size([3, 254, 512])\n",
      "RNN ouput torch.Size([3, 254, 64])\n"
     ]
    },
    {
     "name": "stderr",
     "output_type": "stream",
     "text": [
      " 81%|█████████████████████████████████████████████████████████████████▎               | 125/155 [00:19<00:04,  6.35it/s]"
     ]
    },
    {
     "name": "stdout",
     "output_type": "stream",
     "text": [
      "mask ouput torch.Size([3, 254, 64])\n",
      "reshaped masked output torch.Size([3, 16256])\n",
      "fc ouput torch.Size([3, 32])\n",
      "logits torch.Size([3, 2])\n",
      "classifier ouput torch.Size([3, 2])\n",
      "-----------------Loss: 1.0417391061782837-----------------------\n",
      "------BATCH ENDING-------\n",
      "--------------------------------------------------\n",
      "[tensor([49, 15, 18])]\n",
      "feature shape torch.Size([3, 254, 1, 112, 112])\n",
      "reshape input torch.Size([762, 1, 112, 112])\n",
      "CNN ouput torch.Size([762, 512])\n",
      "reshaped rnn_in torch.Size([3, 254, 512])\n",
      "RNN ouput torch.Size([3, 254, 64])\n"
     ]
    },
    {
     "name": "stderr",
     "output_type": "stream",
     "text": [
      " 81%|█████████████████████████████████████████████████████████████████▊               | 126/155 [00:19<00:04,  6.41it/s]"
     ]
    },
    {
     "name": "stdout",
     "output_type": "stream",
     "text": [
      "mask ouput torch.Size([3, 254, 64])\n",
      "reshaped masked output torch.Size([3, 16256])\n",
      "fc ouput torch.Size([3, 32])\n",
      "logits torch.Size([3, 2])\n",
      "classifier ouput torch.Size([3, 2])\n",
      "-----------------Loss: 0.666828453540802-----------------------\n",
      "------BATCH ENDING-------\n",
      "--------------------------------------------------\n",
      "[tensor([ 48, 105,  35])]\n",
      "feature shape torch.Size([3, 254, 1, 112, 112])\n",
      "reshape input torch.Size([762, 1, 112, 112])\n",
      "CNN ouput torch.Size([762, 512])\n",
      "reshaped rnn_in torch.Size([3, 254, 512])\n",
      "RNN ouput torch.Size([3, 254, 64])\n"
     ]
    },
    {
     "name": "stderr",
     "output_type": "stream",
     "text": [
      " 82%|██████████████████████████████████████████████████████████████████▎              | 127/155 [00:19<00:04,  6.45it/s]"
     ]
    },
    {
     "name": "stdout",
     "output_type": "stream",
     "text": [
      "mask ouput torch.Size([3, 254, 64])\n",
      "reshaped masked output torch.Size([3, 16256])\n",
      "fc ouput torch.Size([3, 32])\n",
      "logits torch.Size([3, 2])\n",
      "classifier ouput torch.Size([3, 2])\n",
      "-----------------Loss: 0.49128615856170654-----------------------\n",
      "------BATCH ENDING-------\n",
      "--------------------------------------------------\n",
      "[tensor([34, 10, 52])]\n",
      "feature shape torch.Size([3, 254, 1, 112, 112])\n",
      "reshape input torch.Size([762, 1, 112, 112])\n",
      "CNN ouput torch.Size([762, 512])\n",
      "reshaped rnn_in torch.Size([3, 254, 512])\n",
      "RNN ouput torch.Size([3, 254, 64])\n"
     ]
    },
    {
     "name": "stderr",
     "output_type": "stream",
     "text": [
      " 83%|██████████████████████████████████████████████████████████████████▉              | 128/155 [00:19<00:04,  6.45it/s]"
     ]
    },
    {
     "name": "stdout",
     "output_type": "stream",
     "text": [
      "mask ouput torch.Size([3, 254, 64])\n",
      "reshaped masked output torch.Size([3, 16256])\n",
      "fc ouput torch.Size([3, 32])\n",
      "logits torch.Size([3, 2])\n",
      "classifier ouput torch.Size([3, 2])\n",
      "-----------------Loss: 0.7666783332824707-----------------------\n",
      "------BATCH ENDING-------\n",
      "--------------------------------------------------\n",
      "[tensor([101,  17,  34])]\n",
      "feature shape torch.Size([3, 254, 1, 112, 112])\n",
      "reshape input torch.Size([762, 1, 112, 112])\n",
      "CNN ouput torch.Size([762, 512])\n",
      "reshaped rnn_in torch.Size([3, 254, 512])\n",
      "RNN ouput torch.Size([3, 254, 64])\n"
     ]
    },
    {
     "name": "stderr",
     "output_type": "stream",
     "text": [
      " 83%|███████████████████████████████████████████████████████████████████▍             | 129/155 [00:20<00:03,  6.52it/s]"
     ]
    },
    {
     "name": "stdout",
     "output_type": "stream",
     "text": [
      "mask ouput torch.Size([3, 254, 64])\n",
      "reshaped masked output torch.Size([3, 16256])\n",
      "fc ouput torch.Size([3, 32])\n",
      "logits torch.Size([3, 2])\n",
      "classifier ouput torch.Size([3, 2])\n",
      "-----------------Loss: 0.6220068335533142-----------------------\n",
      "------BATCH ENDING-------\n",
      "--------------------------------------------------\n",
      "[tensor([101,  35,  99])]\n",
      "feature shape torch.Size([3, 254, 1, 112, 112])\n",
      "reshape input torch.Size([762, 1, 112, 112])\n",
      "CNN ouput torch.Size([762, 512])\n",
      "reshaped rnn_in torch.Size([3, 254, 512])\n",
      "RNN ouput torch.Size([3, 254, 64])\n"
     ]
    },
    {
     "name": "stderr",
     "output_type": "stream",
     "text": [
      " 84%|███████████████████████████████████████████████████████████████████▉             | 130/155 [00:20<00:03,  6.58it/s]"
     ]
    },
    {
     "name": "stdout",
     "output_type": "stream",
     "text": [
      "mask ouput torch.Size([3, 254, 64])\n",
      "reshaped masked output torch.Size([3, 16256])\n",
      "fc ouput torch.Size([3, 32])\n",
      "logits torch.Size([3, 2])\n",
      "classifier ouput torch.Size([3, 2])\n",
      "-----------------Loss: 0.43029502034187317-----------------------\n",
      "------BATCH ENDING-------\n",
      "--------------------------------------------------\n",
      "[tensor([102,  93, 213])]\n",
      "feature shape torch.Size([3, 254, 1, 112, 112])\n",
      "reshape input torch.Size([762, 1, 112, 112])\n",
      "CNN ouput torch.Size([762, 512])\n",
      "reshaped rnn_in torch.Size([3, 254, 512])\n",
      "RNN ouput torch.Size([3, 254, 64])\n"
     ]
    },
    {
     "name": "stderr",
     "output_type": "stream",
     "text": [
      " 85%|████████████████████████████████████████████████████████████████████▍            | 131/155 [00:20<00:03,  6.55it/s]"
     ]
    },
    {
     "name": "stdout",
     "output_type": "stream",
     "text": [
      "mask ouput torch.Size([3, 254, 64])\n",
      "reshaped masked output torch.Size([3, 16256])\n",
      "fc ouput torch.Size([3, 32])\n",
      "logits torch.Size([3, 2])\n",
      "classifier ouput torch.Size([3, 2])\n",
      "-----------------Loss: 0.5619223713874817-----------------------\n",
      "------BATCH ENDING-------\n",
      "--------------------------------------------------\n",
      "[tensor([128, 209,  35])]\n",
      "feature shape torch.Size([3, 254, 1, 112, 112])\n",
      "reshape input torch.Size([762, 1, 112, 112])\n",
      "CNN ouput torch.Size([762, 512])\n",
      "reshaped rnn_in torch.Size([3, 254, 512])\n",
      "RNN ouput torch.Size([3, 254, 64])\n"
     ]
    },
    {
     "name": "stderr",
     "output_type": "stream",
     "text": [
      " 85%|████████████████████████████████████████████████████████████████████▉            | 132/155 [00:20<00:03,  6.55it/s]"
     ]
    },
    {
     "name": "stdout",
     "output_type": "stream",
     "text": [
      "mask ouput torch.Size([3, 254, 64])\n",
      "reshaped masked output torch.Size([3, 16256])\n",
      "fc ouput torch.Size([3, 32])\n",
      "logits torch.Size([3, 2])\n",
      "classifier ouput torch.Size([3, 2])\n",
      "-----------------Loss: 0.4353761672973633-----------------------\n",
      "------BATCH ENDING-------\n",
      "--------------------------------------------------\n",
      "[tensor([106,  32,  32])]\n",
      "feature shape torch.Size([3, 254, 1, 112, 112])\n",
      "reshape input torch.Size([762, 1, 112, 112])\n",
      "CNN ouput torch.Size([762, 512])\n",
      "reshaped rnn_in torch.Size([3, 254, 512])\n",
      "RNN ouput torch.Size([3, 254, 64])\n"
     ]
    },
    {
     "name": "stderr",
     "output_type": "stream",
     "text": [
      " 86%|█████████████████████████████████████████████████████████████████████▌           | 133/155 [00:20<00:03,  6.55it/s]"
     ]
    },
    {
     "name": "stdout",
     "output_type": "stream",
     "text": [
      "mask ouput torch.Size([3, 254, 64])\n",
      "reshaped masked output torch.Size([3, 16256])\n",
      "fc ouput torch.Size([3, 32])\n",
      "logits torch.Size([3, 2])\n",
      "classifier ouput torch.Size([3, 2])\n",
      "-----------------Loss: 0.5884196162223816-----------------------\n",
      "------BATCH ENDING-------\n",
      "--------------------------------------------------\n",
      "[tensor([210,  20, 100])]\n",
      "feature shape torch.Size([3, 254, 1, 112, 112])\n",
      "reshape input torch.Size([762, 1, 112, 112])\n",
      "CNN ouput torch.Size([762, 512])\n",
      "reshaped rnn_in torch.Size([3, 254, 512])\n",
      "RNN ouput torch.Size([3, 254, 64])\n"
     ]
    },
    {
     "name": "stderr",
     "output_type": "stream",
     "text": [
      " 86%|██████████████████████████████████████████████████████████████████████           | 134/155 [00:20<00:03,  6.55it/s]"
     ]
    },
    {
     "name": "stdout",
     "output_type": "stream",
     "text": [
      "mask ouput torch.Size([3, 254, 64])\n",
      "reshaped masked output torch.Size([3, 16256])\n",
      "fc ouput torch.Size([3, 32])\n",
      "logits torch.Size([3, 2])\n",
      "classifier ouput torch.Size([3, 2])\n",
      "-----------------Loss: 0.49879351258277893-----------------------\n",
      "------BATCH ENDING-------\n",
      "--------------------------------------------------\n",
      "[tensor([78, 35, 32])]\n",
      "feature shape torch.Size([3, 254, 1, 112, 112])\n",
      "reshape input torch.Size([762, 1, 112, 112])\n",
      "CNN ouput torch.Size([762, 512])\n",
      "reshaped rnn_in torch.Size([3, 254, 512])\n",
      "RNN ouput torch.Size([3, 254, 64])\n"
     ]
    },
    {
     "name": "stderr",
     "output_type": "stream",
     "text": [
      " 87%|██████████████████████████████████████████████████████████████████████▌          | 135/155 [00:21<00:03,  6.56it/s]"
     ]
    },
    {
     "name": "stdout",
     "output_type": "stream",
     "text": [
      "mask ouput torch.Size([3, 254, 64])\n",
      "reshaped masked output torch.Size([3, 16256])\n",
      "fc ouput torch.Size([3, 32])\n",
      "logits torch.Size([3, 2])\n",
      "classifier ouput torch.Size([3, 2])\n",
      "-----------------Loss: 0.741547167301178-----------------------\n",
      "------BATCH ENDING-------\n",
      "--------------------------------------------------\n",
      "[tensor([101,  16,  99])]\n",
      "feature shape torch.Size([3, 254, 1, 112, 112])\n",
      "reshape input torch.Size([762, 1, 112, 112])\n",
      "CNN ouput torch.Size([762, 512])\n",
      "reshaped rnn_in torch.Size([3, 254, 512])\n",
      "RNN ouput torch.Size([3, 254, 64])\n"
     ]
    },
    {
     "name": "stderr",
     "output_type": "stream",
     "text": [
      " 88%|███████████████████████████████████████████████████████████████████████          | 136/155 [00:21<00:02,  6.57it/s]"
     ]
    },
    {
     "name": "stdout",
     "output_type": "stream",
     "text": [
      "mask ouput torch.Size([3, 254, 64])\n",
      "reshaped masked output torch.Size([3, 16256])\n",
      "fc ouput torch.Size([3, 32])\n",
      "logits torch.Size([3, 2])\n",
      "classifier ouput torch.Size([3, 2])\n",
      "-----------------Loss: 0.7757602334022522-----------------------\n",
      "------BATCH ENDING-------\n",
      "--------------------------------------------------\n",
      "[tensor([ 32, 172, 111])]\n",
      "feature shape torch.Size([3, 254, 1, 112, 112])\n",
      "reshape input torch.Size([762, 1, 112, 112])\n",
      "CNN ouput torch.Size([762, 512])\n",
      "reshaped rnn_in torch.Size([3, 254, 512])\n",
      "RNN ouput torch.Size([3, 254, 64])\n"
     ]
    },
    {
     "name": "stderr",
     "output_type": "stream",
     "text": [
      " 88%|███████████████████████████████████████████████████████████████████████▌         | 137/155 [00:21<00:02,  6.55it/s]"
     ]
    },
    {
     "name": "stdout",
     "output_type": "stream",
     "text": [
      "mask ouput torch.Size([3, 254, 64])\n",
      "reshaped masked output torch.Size([3, 16256])\n",
      "fc ouput torch.Size([3, 32])\n",
      "logits torch.Size([3, 2])\n",
      "classifier ouput torch.Size([3, 2])\n",
      "-----------------Loss: 0.4082239866256714-----------------------\n",
      "------BATCH ENDING-------\n",
      "--------------------------------------------------\n",
      "[tensor([31, 33, 35])]\n",
      "feature shape torch.Size([3, 254, 1, 112, 112])\n",
      "reshape input torch.Size([762, 1, 112, 112])\n",
      "CNN ouput torch.Size([762, 512])\n",
      "reshaped rnn_in torch.Size([3, 254, 512])\n",
      "RNN ouput torch.Size([3, 254, 64])\n"
     ]
    },
    {
     "name": "stderr",
     "output_type": "stream",
     "text": [
      " 89%|████████████████████████████████████████████████████████████████████████         | 138/155 [00:21<00:02,  6.57it/s]"
     ]
    },
    {
     "name": "stdout",
     "output_type": "stream",
     "text": [
      "mask ouput torch.Size([3, 254, 64])\n",
      "reshaped masked output torch.Size([3, 16256])\n",
      "fc ouput torch.Size([3, 32])\n",
      "logits torch.Size([3, 2])\n",
      "classifier ouput torch.Size([3, 2])\n",
      "-----------------Loss: 0.6783540844917297-----------------------\n",
      "------BATCH ENDING-------\n",
      "--------------------------------------------------\n",
      "[tensor([34, 34, 16])]\n",
      "feature shape torch.Size([3, 254, 1, 112, 112])\n",
      "reshape input torch.Size([762, 1, 112, 112])\n",
      "CNN ouput torch.Size([762, 512])\n",
      "reshaped rnn_in torch.Size([3, 254, 512])\n",
      "RNN ouput torch.Size([3, 254, 64])\n"
     ]
    },
    {
     "name": "stderr",
     "output_type": "stream",
     "text": [
      " 90%|████████████████████████████████████████████████████████████████████████▋        | 139/155 [00:21<00:02,  6.55it/s]"
     ]
    },
    {
     "name": "stdout",
     "output_type": "stream",
     "text": [
      "mask ouput torch.Size([3, 254, 64])\n",
      "reshaped masked output torch.Size([3, 16256])\n",
      "fc ouput torch.Size([3, 32])\n",
      "logits torch.Size([3, 2])\n",
      "classifier ouput torch.Size([3, 2])\n",
      "-----------------Loss: 0.6505854725837708-----------------------\n",
      "------BATCH ENDING-------\n",
      "--------------------------------------------------\n",
      "[tensor([32, 34, 95])]\n",
      "feature shape torch.Size([3, 254, 1, 112, 112])\n",
      "reshape input torch.Size([762, 1, 112, 112])\n",
      "CNN ouput torch.Size([762, 512])\n",
      "reshaped rnn_in torch.Size([3, 254, 512])\n",
      "RNN ouput torch.Size([3, 254, 64])\n"
     ]
    },
    {
     "name": "stderr",
     "output_type": "stream",
     "text": [
      " 90%|█████████████████████████████████████████████████████████████████████████▏       | 140/155 [00:21<00:02,  6.59it/s]"
     ]
    },
    {
     "name": "stdout",
     "output_type": "stream",
     "text": [
      "mask ouput torch.Size([3, 254, 64])\n",
      "reshaped masked output torch.Size([3, 16256])\n",
      "fc ouput torch.Size([3, 32])\n",
      "logits torch.Size([3, 2])\n",
      "classifier ouput torch.Size([3, 2])\n",
      "-----------------Loss: 0.6589019894599915-----------------------\n",
      "------BATCH ENDING-------\n",
      "--------------------------------------------------\n",
      "[tensor([ 20,  80, 101])]\n",
      "feature shape torch.Size([3, 254, 1, 112, 112])\n",
      "reshape input torch.Size([762, 1, 112, 112])\n",
      "CNN ouput torch.Size([762, 512])\n",
      "reshaped rnn_in torch.Size([3, 254, 512])\n",
      "RNN ouput torch.Size([3, 254, 64])\n"
     ]
    },
    {
     "name": "stderr",
     "output_type": "stream",
     "text": [
      " 91%|█████████████████████████████████████████████████████████████████████████▋       | 141/155 [00:21<00:02,  6.55it/s]"
     ]
    },
    {
     "name": "stdout",
     "output_type": "stream",
     "text": [
      "mask ouput torch.Size([3, 254, 64])\n",
      "reshaped masked output torch.Size([3, 16256])\n",
      "fc ouput torch.Size([3, 32])\n",
      "logits torch.Size([3, 2])\n",
      "classifier ouput torch.Size([3, 2])\n",
      "-----------------Loss: 0.6492916941642761-----------------------\n",
      "------BATCH ENDING-------\n",
      "--------------------------------------------------\n",
      "[tensor([123, 105, 204])]\n",
      "feature shape torch.Size([3, 254, 1, 112, 112])\n",
      "reshape input torch.Size([762, 1, 112, 112])\n",
      "CNN ouput torch.Size([762, 512])\n",
      "reshaped rnn_in torch.Size([3, 254, 512])\n",
      "RNN ouput torch.Size([3, 254, 64])\n"
     ]
    },
    {
     "name": "stderr",
     "output_type": "stream",
     "text": [
      " 92%|██████████████████████████████████████████████████████████████████████████▏      | 142/155 [00:22<00:01,  6.51it/s]"
     ]
    },
    {
     "name": "stdout",
     "output_type": "stream",
     "text": [
      "mask ouput torch.Size([3, 254, 64])\n",
      "reshaped masked output torch.Size([3, 16256])\n",
      "fc ouput torch.Size([3, 32])\n",
      "logits torch.Size([3, 2])\n",
      "classifier ouput torch.Size([3, 2])\n",
      "-----------------Loss: 0.29603567719459534-----------------------\n",
      "------BATCH ENDING-------\n",
      "--------------------------------------------------\n",
      "[tensor([100,  34,  33])]\n",
      "feature shape torch.Size([3, 254, 1, 112, 112])\n",
      "reshape input torch.Size([762, 1, 112, 112])\n",
      "CNN ouput torch.Size([762, 512])\n",
      "reshaped rnn_in torch.Size([3, 254, 512])\n",
      "RNN ouput torch.Size([3, 254, 64])\n"
     ]
    },
    {
     "name": "stderr",
     "output_type": "stream",
     "text": [
      " 92%|██████████████████████████████████████████████████████████████████████████▋      | 143/155 [00:22<00:01,  6.43it/s]"
     ]
    },
    {
     "name": "stdout",
     "output_type": "stream",
     "text": [
      "mask ouput torch.Size([3, 254, 64])\n",
      "reshaped masked output torch.Size([3, 16256])\n",
      "fc ouput torch.Size([3, 32])\n",
      "logits torch.Size([3, 2])\n",
      "classifier ouput torch.Size([3, 2])\n",
      "-----------------Loss: 0.580038845539093-----------------------\n",
      "------BATCH ENDING-------\n",
      "--------------------------------------------------\n",
      "[tensor([105,  35, 105])]\n",
      "feature shape torch.Size([3, 254, 1, 112, 112])\n",
      "reshape input torch.Size([762, 1, 112, 112])\n",
      "CNN ouput torch.Size([762, 512])\n",
      "reshaped rnn_in torch.Size([3, 254, 512])\n",
      "RNN ouput torch.Size([3, 254, 64])\n"
     ]
    },
    {
     "name": "stderr",
     "output_type": "stream",
     "text": [
      " 93%|███████████████████████████████████████████████████████████████████████████▎     | 144/155 [00:22<00:01,  6.50it/s]"
     ]
    },
    {
     "name": "stdout",
     "output_type": "stream",
     "text": [
      "mask ouput torch.Size([3, 254, 64])\n",
      "reshaped masked output torch.Size([3, 16256])\n",
      "fc ouput torch.Size([3, 32])\n",
      "logits torch.Size([3, 2])\n",
      "classifier ouput torch.Size([3, 2])\n",
      "-----------------Loss: 0.678955078125-----------------------\n",
      "------BATCH ENDING-------\n",
      "--------------------------------------------------\n",
      "[tensor([ 32,  15, 101])]\n",
      "feature shape torch.Size([3, 254, 1, 112, 112])\n",
      "reshape input torch.Size([762, 1, 112, 112])\n",
      "CNN ouput torch.Size([762, 512])\n",
      "reshaped rnn_in torch.Size([3, 254, 512])\n",
      "RNN ouput torch.Size([3, 254, 64])\n"
     ]
    },
    {
     "name": "stderr",
     "output_type": "stream",
     "text": [
      " 94%|███████████████████████████████████████████████████████████████████████████▊     | 145/155 [00:22<00:01,  6.56it/s]"
     ]
    },
    {
     "name": "stdout",
     "output_type": "stream",
     "text": [
      "mask ouput torch.Size([3, 254, 64])\n",
      "reshaped masked output torch.Size([3, 16256])\n",
      "fc ouput torch.Size([3, 32])\n",
      "logits torch.Size([3, 2])\n",
      "classifier ouput torch.Size([3, 2])\n",
      "-----------------Loss: 0.576235294342041-----------------------\n",
      "------BATCH ENDING-------\n",
      "--------------------------------------------------\n",
      "[tensor([ 47, 117, 104])]\n",
      "feature shape torch.Size([3, 254, 1, 112, 112])\n",
      "reshape input torch.Size([762, 1, 112, 112])\n",
      "CNN ouput torch.Size([762, 512])\n",
      "reshaped rnn_in torch.Size([3, 254, 512])\n",
      "RNN ouput torch.Size([3, 254, 64])\n"
     ]
    },
    {
     "name": "stderr",
     "output_type": "stream",
     "text": [
      " 94%|████████████████████████████████████████████████████████████████████████████▎    | 146/155 [00:22<00:01,  6.59it/s]"
     ]
    },
    {
     "name": "stdout",
     "output_type": "stream",
     "text": [
      "mask ouput torch.Size([3, 254, 64])\n",
      "reshaped masked output torch.Size([3, 16256])\n",
      "fc ouput torch.Size([3, 32])\n",
      "logits torch.Size([3, 2])\n",
      "classifier ouput torch.Size([3, 2])\n",
      "-----------------Loss: 0.82843416929245-----------------------\n",
      "------BATCH ENDING-------\n",
      "--------------------------------------------------\n",
      "[tensor([35, 32, 17])]\n",
      "feature shape torch.Size([3, 254, 1, 112, 112])\n",
      "reshape input torch.Size([762, 1, 112, 112])\n",
      "CNN ouput torch.Size([762, 512])\n",
      "reshaped rnn_in torch.Size([3, 254, 512])\n",
      "RNN ouput torch.Size([3, 254, 64])\n"
     ]
    },
    {
     "name": "stderr",
     "output_type": "stream",
     "text": [
      " 95%|████████████████████████████████████████████████████████████████████████████▊    | 147/155 [00:22<00:01,  6.60it/s]"
     ]
    },
    {
     "name": "stdout",
     "output_type": "stream",
     "text": [
      "mask ouput torch.Size([3, 254, 64])\n",
      "reshaped masked output torch.Size([3, 16256])\n",
      "fc ouput torch.Size([3, 32])\n",
      "logits torch.Size([3, 2])\n",
      "classifier ouput torch.Size([3, 2])\n",
      "-----------------Loss: 0.7178214192390442-----------------------\n",
      "------BATCH ENDING-------\n",
      "--------------------------------------------------\n",
      "[tensor([33, 17, 34])]\n",
      "feature shape torch.Size([3, 254, 1, 112, 112])\n",
      "reshape input torch.Size([762, 1, 112, 112])\n",
      "CNN ouput torch.Size([762, 512])\n",
      "reshaped rnn_in torch.Size([3, 254, 512])\n",
      "RNN ouput torch.Size([3, 254, 64])\n"
     ]
    },
    {
     "name": "stderr",
     "output_type": "stream",
     "text": [
      " 95%|█████████████████████████████████████████████████████████████████████████████▎   | 148/155 [00:23<00:01,  6.61it/s]"
     ]
    },
    {
     "name": "stdout",
     "output_type": "stream",
     "text": [
      "mask ouput torch.Size([3, 254, 64])\n",
      "reshaped masked output torch.Size([3, 16256])\n",
      "fc ouput torch.Size([3, 32])\n",
      "logits torch.Size([3, 2])\n",
      "classifier ouput torch.Size([3, 2])\n",
      "-----------------Loss: 0.670447051525116-----------------------\n",
      "------BATCH ENDING-------\n",
      "--------------------------------------------------\n",
      "[tensor([94, 32, 17])]\n",
      "feature shape torch.Size([3, 254, 1, 112, 112])\n",
      "reshape input torch.Size([762, 1, 112, 112])\n",
      "CNN ouput torch.Size([762, 512])\n",
      "reshaped rnn_in torch.Size([3, 254, 512])\n",
      "RNN ouput torch.Size([3, 254, 64])\n"
     ]
    },
    {
     "name": "stderr",
     "output_type": "stream",
     "text": [
      " 96%|█████████████████████████████████████████████████████████████████████████████▊   | 149/155 [00:23<00:00,  6.61it/s]"
     ]
    },
    {
     "name": "stdout",
     "output_type": "stream",
     "text": [
      "mask ouput torch.Size([3, 254, 64])\n",
      "reshaped masked output torch.Size([3, 16256])\n",
      "fc ouput torch.Size([3, 32])\n",
      "logits torch.Size([3, 2])\n",
      "classifier ouput torch.Size([3, 2])\n",
      "-----------------Loss: 0.6251723170280457-----------------------\n",
      "------BATCH ENDING-------\n",
      "--------------------------------------------------\n",
      "[tensor([ 18,  34, 101])]\n",
      "feature shape torch.Size([3, 254, 1, 112, 112])\n",
      "reshape input torch.Size([762, 1, 112, 112])\n",
      "CNN ouput torch.Size([762, 512])\n",
      "reshaped rnn_in torch.Size([3, 254, 512])\n",
      "RNN ouput torch.Size([3, 254, 64])\n"
     ]
    },
    {
     "name": "stderr",
     "output_type": "stream",
     "text": [
      " 97%|██████████████████████████████████████████████████████████████████████████████▍  | 150/155 [00:23<00:00,  6.47it/s]"
     ]
    },
    {
     "name": "stdout",
     "output_type": "stream",
     "text": [
      "mask ouput torch.Size([3, 254, 64])\n",
      "reshaped masked output torch.Size([3, 16256])\n",
      "fc ouput torch.Size([3, 32])\n",
      "logits torch.Size([3, 2])\n",
      "classifier ouput torch.Size([3, 2])\n",
      "-----------------Loss: 0.5607456564903259-----------------------\n",
      "------BATCH ENDING-------\n",
      "--------------------------------------------------\n",
      "[tensor([98, 23, 96])]\n",
      "feature shape torch.Size([3, 254, 1, 112, 112])\n",
      "reshape input torch.Size([762, 1, 112, 112])\n",
      "CNN ouput torch.Size([762, 512])\n",
      "reshaped rnn_in torch.Size([3, 254, 512])\n",
      "RNN ouput torch.Size([3, 254, 64])\n"
     ]
    },
    {
     "name": "stderr",
     "output_type": "stream",
     "text": [
      " 97%|██████████████████████████████████████████████████████████████████████████████▉  | 151/155 [00:23<00:00,  6.33it/s]"
     ]
    },
    {
     "name": "stdout",
     "output_type": "stream",
     "text": [
      "mask ouput torch.Size([3, 254, 64])\n",
      "reshaped masked output torch.Size([3, 16256])\n",
      "fc ouput torch.Size([3, 32])\n",
      "logits torch.Size([3, 2])\n",
      "classifier ouput torch.Size([3, 2])\n",
      "-----------------Loss: 0.7481178641319275-----------------------\n",
      "------BATCH ENDING-------\n",
      "--------------------------------------------------\n",
      "[tensor([97, 99, 39])]\n",
      "feature shape torch.Size([3, 254, 1, 112, 112])\n",
      "reshape input torch.Size([762, 1, 112, 112])\n",
      "CNN ouput torch.Size([762, 512])\n",
      "reshaped rnn_in torch.Size([3, 254, 512])\n",
      "RNN ouput torch.Size([3, 254, 64])\n"
     ]
    },
    {
     "name": "stderr",
     "output_type": "stream",
     "text": [
      " 98%|███████████████████████████████████████████████████████████████████████████████▍ | 152/155 [00:23<00:00,  6.38it/s]"
     ]
    },
    {
     "name": "stdout",
     "output_type": "stream",
     "text": [
      "mask ouput torch.Size([3, 254, 64])\n",
      "reshaped masked output torch.Size([3, 16256])\n",
      "fc ouput torch.Size([3, 32])\n",
      "logits torch.Size([3, 2])\n",
      "classifier ouput torch.Size([3, 2])\n",
      "-----------------Loss: 0.6307602524757385-----------------------\n",
      "------BATCH ENDING-------\n",
      "--------------------------------------------------\n",
      "[tensor([34, 19, 34])]\n",
      "feature shape torch.Size([3, 254, 1, 112, 112])\n",
      "reshape input torch.Size([762, 1, 112, 112])\n",
      "CNN ouput torch.Size([762, 512])\n",
      "reshaped rnn_in torch.Size([3, 254, 512])\n",
      "RNN ouput torch.Size([3, 254, 64])\n"
     ]
    },
    {
     "name": "stderr",
     "output_type": "stream",
     "text": [
      " 99%|███████████████████████████████████████████████████████████████████████████████▉ | 153/155 [00:23<00:00,  6.47it/s]"
     ]
    },
    {
     "name": "stdout",
     "output_type": "stream",
     "text": [
      "mask ouput torch.Size([3, 254, 64])\n",
      "reshaped masked output torch.Size([3, 16256])\n",
      "fc ouput torch.Size([3, 32])\n",
      "logits torch.Size([3, 2])\n",
      "classifier ouput torch.Size([3, 2])\n",
      "-----------------Loss: 0.6610041260719299-----------------------\n",
      "------BATCH ENDING-------\n",
      "--------------------------------------------------\n",
      "[tensor([102,  14, 101])]\n",
      "feature shape torch.Size([3, 254, 1, 112, 112])\n",
      "reshape input torch.Size([762, 1, 112, 112])\n",
      "CNN ouput torch.Size([762, 512])\n",
      "reshaped rnn_in torch.Size([3, 254, 512])\n",
      "RNN ouput torch.Size([3, 254, 64])\n"
     ]
    },
    {
     "name": "stderr",
     "output_type": "stream",
     "text": [
      " 99%|████████████████████████████████████████████████████████████████████████████████▍| 154/155 [00:23<00:00,  6.50it/s]"
     ]
    },
    {
     "name": "stdout",
     "output_type": "stream",
     "text": [
      "mask ouput torch.Size([3, 254, 64])\n",
      "reshaped masked output torch.Size([3, 16256])\n",
      "fc ouput torch.Size([3, 32])\n",
      "logits torch.Size([3, 2])\n",
      "classifier ouput torch.Size([3, 2])\n",
      "-----------------Loss: 0.7376835942268372-----------------------\n",
      "------BATCH ENDING-------\n",
      "--------------------------------------------------\n",
      "[tensor([110,  30, 106])]\n",
      "feature shape torch.Size([3, 254, 1, 112, 112])\n",
      "reshape input torch.Size([762, 1, 112, 112])\n",
      "CNN ouput torch.Size([762, 512])\n",
      "reshaped rnn_in torch.Size([3, 254, 512])\n",
      "RNN ouput torch.Size([3, 254, 64])\n"
     ]
    },
    {
     "name": "stderr",
     "output_type": "stream",
     "text": [
      "100%|█████████████████████████████████████████████████████████████████████████████████| 155/155 [00:24<00:00,  6.53it/s]"
     ]
    },
    {
     "name": "stdout",
     "output_type": "stream",
     "text": [
      "mask ouput torch.Size([3, 254, 64])\n",
      "reshaped masked output torch.Size([3, 16256])\n",
      "fc ouput torch.Size([3, 32])\n",
      "logits torch.Size([3, 2])\n",
      "classifier ouput torch.Size([3, 2])\n",
      "-----------------Loss: 0.5631897449493408-----------------------\n",
      "------BATCH ENDING-------\n"
     ]
    },
    {
     "name": "stderr",
     "output_type": "stream",
     "text": [
      "100%|█████████████████████████████████████████████████████████████████████████████████| 155/155 [00:24<00:00,  6.41it/s]\n"
     ]
    },
    {
     "name": "stdout",
     "output_type": "stream",
     "text": [
      "Epoch: 4/5 | Loss: 0.63467 | Accuracy: 0.6258% | F1 Score: 0.6239 | AUROC: 0.6880 | Time: 24.18064856529236\n"
     ]
    },
    {
     "name": "stderr",
     "output_type": "stream",
     "text": [
      "  1%|▌                                                                                  | 1/155 [00:00<01:34,  1.63it/s]"
     ]
    },
    {
     "name": "stdout",
     "output_type": "stream",
     "text": [
      "--------------------------------------------------\n",
      "[tensor([ 14, 116,  34])]\n",
      "feature shape torch.Size([3, 254, 1, 112, 112])\n",
      "reshape input torch.Size([762, 1, 112, 112])\n",
      "CNN ouput torch.Size([762, 512])\n",
      "reshaped rnn_in torch.Size([3, 254, 512])\n",
      "RNN ouput torch.Size([3, 254, 64])\n",
      "mask ouput torch.Size([3, 254, 64])\n",
      "reshaped masked output torch.Size([3, 16256])\n",
      "fc ouput torch.Size([3, 32])\n",
      "logits torch.Size([3, 2])\n",
      "classifier ouput torch.Size([3, 2])\n",
      "-----------------Loss: 0.6091222167015076-----------------------\n",
      "------BATCH ENDING-------\n",
      "--------------------------------------------------\n",
      "[tensor([ 33, 112, 106])]\n",
      "feature shape torch.Size([3, 254, 1, 112, 112])\n",
      "reshape input torch.Size([762, 1, 112, 112])\n",
      "CNN ouput torch.Size([762, 512])\n",
      "reshaped rnn_in torch.Size([3, 254, 512])\n",
      "RNN ouput torch.Size([3, 254, 64])\n"
     ]
    },
    {
     "name": "stderr",
     "output_type": "stream",
     "text": [
      "  2%|█▌                                                                                 | 3/155 [00:00<00:38,  4.00it/s]"
     ]
    },
    {
     "name": "stdout",
     "output_type": "stream",
     "text": [
      "mask ouput torch.Size([3, 254, 64])\n",
      "reshaped masked output torch.Size([3, 16256])\n",
      "fc ouput torch.Size([3, 32])\n",
      "logits torch.Size([3, 2])\n",
      "classifier ouput torch.Size([3, 2])\n",
      "-----------------Loss: 0.3949030637741089-----------------------\n",
      "------BATCH ENDING-------\n",
      "--------------------------------------------------\n",
      "[tensor([ 34,  15, 105])]\n",
      "feature shape torch.Size([3, 254, 1, 112, 112])\n",
      "reshape input torch.Size([762, 1, 112, 112])\n",
      "CNN ouput torch.Size([762, 512])\n",
      "reshaped rnn_in torch.Size([3, 254, 512])\n",
      "RNN ouput torch.Size([3, 254, 64])\n",
      "mask ouput torch.Size([3, 254, 64])\n",
      "reshaped masked output torch.Size([3, 16256])\n",
      "fc ouput torch.Size([3, 32])\n",
      "logits torch.Size([3, 2])\n",
      "classifier ouput torch.Size([3, 2])\n",
      "-----------------Loss: 0.5886180996894836-----------------------\n",
      "------BATCH ENDING-------\n",
      "--------------------------------------------------\n",
      "[tensor([33, 34, 33])]\n",
      "feature shape torch.Size([3, 254, 1, 112, 112])\n",
      "reshape input torch.Size([762, 1, 112, 112])\n",
      "CNN ouput torch.Size([762, 512])\n",
      "reshaped rnn_in torch.Size([3, 254, 512])\n",
      "RNN ouput torch.Size([3, 254, 64])\n"
     ]
    },
    {
     "name": "stderr",
     "output_type": "stream",
     "text": [
      "  3%|██▋                                                                                | 5/155 [00:01<00:28,  5.18it/s]"
     ]
    },
    {
     "name": "stdout",
     "output_type": "stream",
     "text": [
      "mask ouput torch.Size([3, 254, 64])\n",
      "reshaped masked output torch.Size([3, 16256])\n",
      "fc ouput torch.Size([3, 32])\n",
      "logits torch.Size([3, 2])\n",
      "classifier ouput torch.Size([3, 2])\n",
      "-----------------Loss: 0.582341730594635-----------------------\n",
      "------BATCH ENDING-------\n",
      "--------------------------------------------------\n",
      "[tensor([ 34, 105,  98])]\n",
      "feature shape torch.Size([3, 254, 1, 112, 112])\n",
      "reshape input torch.Size([762, 1, 112, 112])\n",
      "CNN ouput torch.Size([762, 512])\n",
      "reshaped rnn_in torch.Size([3, 254, 512])\n",
      "RNN ouput torch.Size([3, 254, 64])\n",
      "mask ouput torch.Size([3, 254, 64])\n",
      "reshaped masked output torch.Size([3, 16256])\n",
      "fc ouput torch.Size([3, 32])\n",
      "logits torch.Size([3, 2])\n",
      "classifier ouput torch.Size([3, 2])\n",
      "-----------------Loss: 0.5164526104927063-----------------------\n",
      "------BATCH ENDING-------\n",
      "--------------------------------------------------\n",
      "[tensor([33, 50, 33])]\n",
      "feature shape torch.Size([3, 254, 1, 112, 112])\n",
      "reshape input torch.Size([762, 1, 112, 112])\n",
      "CNN ouput torch.Size([762, 512])\n",
      "reshaped rnn_in torch.Size([3, 254, 512])\n",
      "RNN ouput torch.Size([3, 254, 64])\n"
     ]
    },
    {
     "name": "stderr",
     "output_type": "stream",
     "text": [
      "  5%|███▋                                                                               | 7/155 [00:01<00:25,  5.82it/s]"
     ]
    },
    {
     "name": "stdout",
     "output_type": "stream",
     "text": [
      "mask ouput torch.Size([3, 254, 64])\n",
      "reshaped masked output torch.Size([3, 16256])\n",
      "fc ouput torch.Size([3, 32])\n",
      "logits torch.Size([3, 2])\n",
      "classifier ouput torch.Size([3, 2])\n",
      "-----------------Loss: 0.6649081707000732-----------------------\n",
      "------BATCH ENDING-------\n",
      "--------------------------------------------------\n",
      "[tensor([34, 16, 16])]\n",
      "feature shape torch.Size([3, 254, 1, 112, 112])\n",
      "reshape input torch.Size([762, 1, 112, 112])\n",
      "CNN ouput torch.Size([762, 512])\n",
      "reshaped rnn_in torch.Size([3, 254, 512])\n",
      "RNN ouput torch.Size([3, 254, 64])\n",
      "mask ouput torch.Size([3, 254, 64])\n",
      "reshaped masked output torch.Size([3, 16256])\n",
      "fc ouput torch.Size([3, 32])\n",
      "logits torch.Size([3, 2])\n",
      "classifier ouput torch.Size([3, 2])\n",
      "-----------------Loss: 0.6427521109580994-----------------------\n",
      "------BATCH ENDING-------\n",
      "--------------------------------------------------\n",
      "[tensor([17, 19, 34])]\n",
      "feature shape torch.Size([3, 254, 1, 112, 112])\n",
      "reshape input torch.Size([762, 1, 112, 112])\n",
      "CNN ouput torch.Size([762, 512])\n",
      "reshaped rnn_in torch.Size([3, 254, 512])\n",
      "RNN ouput torch.Size([3, 254, 64])\n"
     ]
    },
    {
     "name": "stderr",
     "output_type": "stream",
     "text": [
      "  6%|████▊                                                                              | 9/155 [00:01<00:23,  6.25it/s]"
     ]
    },
    {
     "name": "stdout",
     "output_type": "stream",
     "text": [
      "mask ouput torch.Size([3, 254, 64])\n",
      "reshaped masked output torch.Size([3, 16256])\n",
      "fc ouput torch.Size([3, 32])\n",
      "logits torch.Size([3, 2])\n",
      "classifier ouput torch.Size([3, 2])\n",
      "-----------------Loss: 0.6298858523368835-----------------------\n",
      "------BATCH ENDING-------\n",
      "--------------------------------------------------\n",
      "[tensor([ 94,  32, 106])]\n",
      "feature shape torch.Size([3, 254, 1, 112, 112])\n",
      "reshape input torch.Size([762, 1, 112, 112])\n",
      "CNN ouput torch.Size([762, 512])\n",
      "reshaped rnn_in torch.Size([3, 254, 512])\n",
      "RNN ouput torch.Size([3, 254, 64])\n",
      "mask ouput torch.Size([3, 254, 64])\n",
      "reshaped masked output torch.Size([3, 16256])\n",
      "fc ouput torch.Size([3, 32])\n",
      "logits torch.Size([3, 2])\n",
      "classifier ouput torch.Size([3, 2])\n",
      "-----------------Loss: 0.6099634170532227-----------------------\n",
      "------BATCH ENDING-------\n",
      "--------------------------------------------------\n",
      "[tensor([ 35, 201, 112])]\n",
      "feature shape torch.Size([3, 254, 1, 112, 112])\n",
      "reshape input torch.Size([762, 1, 112, 112])\n",
      "CNN ouput torch.Size([762, 512])\n",
      "reshaped rnn_in torch.Size([3, 254, 512])\n",
      "RNN ouput torch.Size([3, 254, 64])\n"
     ]
    },
    {
     "name": "stderr",
     "output_type": "stream",
     "text": [
      "  7%|█████▊                                                                            | 11/155 [00:02<00:22,  6.38it/s]"
     ]
    },
    {
     "name": "stdout",
     "output_type": "stream",
     "text": [
      "mask ouput torch.Size([3, 254, 64])\n",
      "reshaped masked output torch.Size([3, 16256])\n",
      "fc ouput torch.Size([3, 32])\n",
      "logits torch.Size([3, 2])\n",
      "classifier ouput torch.Size([3, 2])\n",
      "-----------------Loss: 0.5161281228065491-----------------------\n",
      "------BATCH ENDING-------\n",
      "--------------------------------------------------\n",
      "[tensor([34, 35, 35])]\n",
      "feature shape torch.Size([3, 254, 1, 112, 112])\n",
      "reshape input torch.Size([762, 1, 112, 112])\n",
      "CNN ouput torch.Size([762, 512])\n",
      "reshaped rnn_in torch.Size([3, 254, 512])\n",
      "RNN ouput torch.Size([3, 254, 64])\n",
      "mask ouput torch.Size([3, 254, 64])\n",
      "reshaped masked output torch.Size([3, 16256])\n",
      "fc ouput torch.Size([3, 32])\n",
      "logits torch.Size([3, 2])\n",
      "classifier ouput torch.Size([3, 2])\n",
      "-----------------Loss: 0.6816911101341248-----------------------\n",
      "------BATCH ENDING-------\n",
      "--------------------------------------------------\n",
      "[tensor([15, 32, 14])]\n",
      "feature shape torch.Size([3, 254, 1, 112, 112])\n",
      "reshape input torch.Size([762, 1, 112, 112])\n",
      "CNN ouput torch.Size([762, 512])\n",
      "reshaped rnn_in torch.Size([3, 254, 512])\n",
      "RNN ouput torch.Size([3, 254, 64])\n"
     ]
    },
    {
     "name": "stderr",
     "output_type": "stream",
     "text": [
      "  8%|██████▉                                                                           | 13/155 [00:02<00:22,  6.37it/s]"
     ]
    },
    {
     "name": "stdout",
     "output_type": "stream",
     "text": [
      "mask ouput torch.Size([3, 254, 64])\n",
      "reshaped masked output torch.Size([3, 16256])\n",
      "fc ouput torch.Size([3, 32])\n",
      "logits torch.Size([3, 2])\n",
      "classifier ouput torch.Size([3, 2])\n",
      "-----------------Loss: 0.7298008799552917-----------------------\n",
      "------BATCH ENDING-------\n",
      "--------------------------------------------------\n",
      "[tensor([32, 31, 33])]\n",
      "feature shape torch.Size([3, 254, 1, 112, 112])\n",
      "reshape input torch.Size([762, 1, 112, 112])\n",
      "CNN ouput torch.Size([762, 512])\n",
      "reshaped rnn_in torch.Size([3, 254, 512])\n",
      "RNN ouput torch.Size([3, 254, 64])\n",
      "mask ouput torch.Size([3, 254, 64])\n",
      "reshaped masked output torch.Size([3, 16256])\n",
      "fc ouput torch.Size([3, 32])\n",
      "logits torch.Size([3, 2])\n",
      "classifier ouput torch.Size([3, 2])\n",
      "-----------------Loss: 0.6762174963951111-----------------------\n",
      "------BATCH ENDING-------\n",
      "--------------------------------------------------\n",
      "[tensor([100, 106,  18])]\n",
      "feature shape torch.Size([3, 254, 1, 112, 112])\n",
      "reshape input torch.Size([762, 1, 112, 112])\n",
      "CNN ouput torch.Size([762, 512])\n",
      "reshaped rnn_in torch.Size([3, 254, 512])\n",
      "RNN ouput torch.Size([3, 254, 64])\n"
     ]
    },
    {
     "name": "stderr",
     "output_type": "stream",
     "text": [
      " 10%|███████▉                                                                          | 15/155 [00:02<00:21,  6.42it/s]"
     ]
    },
    {
     "name": "stdout",
     "output_type": "stream",
     "text": [
      "mask ouput torch.Size([3, 254, 64])\n",
      "reshaped masked output torch.Size([3, 16256])\n",
      "fc ouput torch.Size([3, 32])\n",
      "logits torch.Size([3, 2])\n",
      "classifier ouput torch.Size([3, 2])\n",
      "-----------------Loss: 0.5041470527648926-----------------------\n",
      "------BATCH ENDING-------\n",
      "--------------------------------------------------\n",
      "[tensor([97, 33, 79])]\n",
      "feature shape torch.Size([3, 254, 1, 112, 112])\n",
      "reshape input torch.Size([762, 1, 112, 112])\n",
      "CNN ouput torch.Size([762, 512])\n",
      "reshaped rnn_in torch.Size([3, 254, 512])\n",
      "RNN ouput torch.Size([3, 254, 64])\n",
      "mask ouput torch.Size([3, 254, 64])\n",
      "reshaped masked output torch.Size([3, 16256])\n",
      "fc ouput torch.Size([3, 32])\n",
      "logits torch.Size([3, 2])\n",
      "classifier ouput torch.Size([3, 2])\n",
      "-----------------Loss: 0.59356689453125-----------------------\n",
      "------BATCH ENDING-------\n",
      "--------------------------------------------------\n",
      "[tensor([34, 32, 15])]\n",
      "feature shape torch.Size([3, 254, 1, 112, 112])\n",
      "reshape input torch.Size([762, 1, 112, 112])\n",
      "CNN ouput torch.Size([762, 512])\n",
      "reshaped rnn_in torch.Size([3, 254, 512])\n",
      "RNN ouput torch.Size([3, 254, 64])\n"
     ]
    },
    {
     "name": "stderr",
     "output_type": "stream",
     "text": [
      " 11%|████████▉                                                                         | 17/155 [00:03<00:21,  6.41it/s]"
     ]
    },
    {
     "name": "stdout",
     "output_type": "stream",
     "text": [
      "mask ouput torch.Size([3, 254, 64])\n",
      "reshaped masked output torch.Size([3, 16256])\n",
      "fc ouput torch.Size([3, 32])\n",
      "logits torch.Size([3, 2])\n",
      "classifier ouput torch.Size([3, 2])\n",
      "-----------------Loss: 0.6988628506660461-----------------------\n",
      "------BATCH ENDING-------\n",
      "--------------------------------------------------\n",
      "[tensor([51, 33, 32])]\n",
      "feature shape torch.Size([3, 254, 1, 112, 112])\n",
      "reshape input torch.Size([762, 1, 112, 112])\n",
      "CNN ouput torch.Size([762, 512])\n",
      "reshaped rnn_in torch.Size([3, 254, 512])\n",
      "RNN ouput torch.Size([3, 254, 64])\n",
      "mask ouput torch.Size([3, 254, 64])\n",
      "reshaped masked output torch.Size([3, 16256])\n",
      "fc ouput torch.Size([3, 32])\n",
      "logits torch.Size([3, 2])\n",
      "classifier ouput torch.Size([3, 2])\n",
      "-----------------Loss: 0.7621524930000305-----------------------\n",
      "------BATCH ENDING-------\n",
      "--------------------------------------------------\n",
      "[tensor([101,  17,  20])]\n",
      "feature shape torch.Size([3, 254, 1, 112, 112])\n",
      "reshape input torch.Size([762, 1, 112, 112])\n",
      "CNN ouput torch.Size([762, 512])\n",
      "reshaped rnn_in torch.Size([3, 254, 512])\n",
      "RNN ouput torch.Size([3, 254, 64])\n"
     ]
    },
    {
     "name": "stderr",
     "output_type": "stream",
     "text": [
      " 12%|██████████                                                                        | 19/155 [00:03<00:21,  6.45it/s]"
     ]
    },
    {
     "name": "stdout",
     "output_type": "stream",
     "text": [
      "mask ouput torch.Size([3, 254, 64])\n",
      "reshaped masked output torch.Size([3, 16256])\n",
      "fc ouput torch.Size([3, 32])\n",
      "logits torch.Size([3, 2])\n",
      "classifier ouput torch.Size([3, 2])\n",
      "-----------------Loss: 0.6260141730308533-----------------------\n",
      "------BATCH ENDING-------\n",
      "--------------------------------------------------\n",
      "[tensor([32, 34, 16])]\n",
      "feature shape torch.Size([3, 254, 1, 112, 112])\n",
      "reshape input torch.Size([762, 1, 112, 112])\n",
      "CNN ouput torch.Size([762, 512])\n",
      "reshaped rnn_in torch.Size([3, 254, 512])\n",
      "RNN ouput torch.Size([3, 254, 64])\n",
      "mask ouput torch.Size([3, 254, 64])\n",
      "reshaped masked output torch.Size([3, 16256])\n",
      "fc ouput torch.Size([3, 32])\n",
      "logits torch.Size([3, 2])\n",
      "classifier ouput torch.Size([3, 2])\n",
      "-----------------Loss: 0.6323025822639465-----------------------\n",
      "------BATCH ENDING-------\n",
      "--------------------------------------------------\n",
      "[tensor([90, 34, 49])]\n",
      "feature shape torch.Size([3, 254, 1, 112, 112])\n",
      "reshape input torch.Size([762, 1, 112, 112])\n",
      "CNN ouput torch.Size([762, 512])\n",
      "reshaped rnn_in torch.Size([3, 254, 512])\n",
      "RNN ouput torch.Size([3, 254, 64])\n"
     ]
    },
    {
     "name": "stderr",
     "output_type": "stream",
     "text": [
      " 14%|███████████                                                                       | 21/155 [00:03<00:20,  6.43it/s]"
     ]
    },
    {
     "name": "stdout",
     "output_type": "stream",
     "text": [
      "mask ouput torch.Size([3, 254, 64])\n",
      "reshaped masked output torch.Size([3, 16256])\n",
      "fc ouput torch.Size([3, 32])\n",
      "logits torch.Size([3, 2])\n",
      "classifier ouput torch.Size([3, 2])\n",
      "-----------------Loss: 0.7579085230827332-----------------------\n",
      "------BATCH ENDING-------\n",
      "--------------------------------------------------\n",
      "[tensor([106, 100,  34])]\n",
      "feature shape torch.Size([3, 254, 1, 112, 112])\n",
      "reshape input torch.Size([762, 1, 112, 112])\n",
      "CNN ouput torch.Size([762, 512])\n",
      "reshaped rnn_in torch.Size([3, 254, 512])\n",
      "RNN ouput torch.Size([3, 254, 64])\n",
      "mask ouput torch.Size([3, 254, 64])\n",
      "reshaped masked output torch.Size([3, 16256])\n",
      "fc ouput torch.Size([3, 32])\n",
      "logits torch.Size([3, 2])\n",
      "classifier ouput torch.Size([3, 2])\n",
      "-----------------Loss: 0.8399074673652649-----------------------\n",
      "------BATCH ENDING-------\n",
      "--------------------------------------------------\n",
      "[tensor([ 34, 111, 107])]\n",
      "feature shape torch.Size([3, 254, 1, 112, 112])\n",
      "reshape input torch.Size([762, 1, 112, 112])\n",
      "CNN ouput torch.Size([762, 512])\n",
      "reshaped rnn_in torch.Size([3, 254, 512])\n",
      "RNN ouput torch.Size([3, 254, 64])\n"
     ]
    },
    {
     "name": "stderr",
     "output_type": "stream",
     "text": [
      " 15%|████████████▏                                                                     | 23/155 [00:04<00:20,  6.45it/s]"
     ]
    },
    {
     "name": "stdout",
     "output_type": "stream",
     "text": [
      "mask ouput torch.Size([3, 254, 64])\n",
      "reshaped masked output torch.Size([3, 16256])\n",
      "fc ouput torch.Size([3, 32])\n",
      "logits torch.Size([3, 2])\n",
      "classifier ouput torch.Size([3, 2])\n",
      "-----------------Loss: 0.5736358165740967-----------------------\n",
      "------BATCH ENDING-------\n",
      "--------------------------------------------------\n",
      "[tensor([52, 33, 34])]\n",
      "feature shape torch.Size([3, 254, 1, 112, 112])\n",
      "reshape input torch.Size([762, 1, 112, 112])\n",
      "CNN ouput torch.Size([762, 512])\n",
      "reshaped rnn_in torch.Size([3, 254, 512])\n",
      "RNN ouput torch.Size([3, 254, 64])\n",
      "mask ouput torch.Size([3, 254, 64])\n",
      "reshaped masked output torch.Size([3, 16256])\n",
      "fc ouput torch.Size([3, 32])\n",
      "logits torch.Size([3, 2])\n",
      "classifier ouput torch.Size([3, 2])\n",
      "-----------------Loss: 0.6361703276634216-----------------------\n",
      "------BATCH ENDING-------\n",
      "--------------------------------------------------\n",
      "[tensor([ 32, 219,  14])]\n",
      "feature shape torch.Size([3, 254, 1, 112, 112])\n",
      "reshape input torch.Size([762, 1, 112, 112])\n",
      "CNN ouput torch.Size([762, 512])\n",
      "reshaped rnn_in torch.Size([3, 254, 512])\n",
      "RNN ouput torch.Size([3, 254, 64])\n"
     ]
    },
    {
     "name": "stderr",
     "output_type": "stream",
     "text": [
      " 16%|█████████████▏                                                                    | 25/155 [00:04<00:19,  6.58it/s]"
     ]
    },
    {
     "name": "stdout",
     "output_type": "stream",
     "text": [
      "mask ouput torch.Size([3, 254, 64])\n",
      "reshaped masked output torch.Size([3, 16256])\n",
      "fc ouput torch.Size([3, 32])\n",
      "logits torch.Size([3, 2])\n",
      "classifier ouput torch.Size([3, 2])\n",
      "-----------------Loss: 0.5194916129112244-----------------------\n",
      "------BATCH ENDING-------\n",
      "--------------------------------------------------\n",
      "[tensor([106,  49,  98])]\n",
      "feature shape torch.Size([3, 254, 1, 112, 112])\n",
      "reshape input torch.Size([762, 1, 112, 112])\n",
      "CNN ouput torch.Size([762, 512])\n",
      "reshaped rnn_in torch.Size([3, 254, 512])\n",
      "RNN ouput torch.Size([3, 254, 64])\n",
      "mask ouput torch.Size([3, 254, 64])\n",
      "reshaped masked output torch.Size([3, 16256])\n",
      "fc ouput torch.Size([3, 32])\n",
      "logits torch.Size([3, 2])\n",
      "classifier ouput torch.Size([3, 2])\n",
      "-----------------Loss: 0.5784462094306946-----------------------\n",
      "------BATCH ENDING-------\n",
      "--------------------------------------------------\n",
      "[tensor([ 34, 102,  97])]\n",
      "feature shape torch.Size([3, 254, 1, 112, 112])\n",
      "reshape input torch.Size([762, 1, 112, 112])\n",
      "CNN ouput torch.Size([762, 512])\n",
      "reshaped rnn_in torch.Size([3, 254, 512])\n",
      "RNN ouput torch.Size([3, 254, 64])\n"
     ]
    },
    {
     "name": "stderr",
     "output_type": "stream",
     "text": [
      " 17%|██████████████▎                                                                   | 27/155 [00:04<00:19,  6.48it/s]"
     ]
    },
    {
     "name": "stdout",
     "output_type": "stream",
     "text": [
      "mask ouput torch.Size([3, 254, 64])\n",
      "reshaped masked output torch.Size([3, 16256])\n",
      "fc ouput torch.Size([3, 32])\n",
      "logits torch.Size([3, 2])\n",
      "classifier ouput torch.Size([3, 2])\n",
      "-----------------Loss: 0.6594502329826355-----------------------\n",
      "------BATCH ENDING-------\n",
      "--------------------------------------------------\n",
      "[tensor([32, 99, 33])]\n",
      "feature shape torch.Size([3, 254, 1, 112, 112])\n",
      "reshape input torch.Size([762, 1, 112, 112])\n",
      "CNN ouput torch.Size([762, 512])\n",
      "reshaped rnn_in torch.Size([3, 254, 512])\n",
      "RNN ouput torch.Size([3, 254, 64])\n",
      "mask ouput torch.Size([3, 254, 64])\n",
      "reshaped masked output torch.Size([3, 16256])\n",
      "fc ouput torch.Size([3, 32])\n",
      "logits torch.Size([3, 2])\n",
      "classifier ouput torch.Size([3, 2])\n",
      "-----------------Loss: 0.6433970332145691-----------------------\n",
      "------BATCH ENDING-------\n",
      "--------------------------------------------------\n",
      "[tensor([110,  50,  34])]\n",
      "feature shape torch.Size([3, 254, 1, 112, 112])\n",
      "reshape input torch.Size([762, 1, 112, 112])\n",
      "CNN ouput torch.Size([762, 512])\n",
      "reshaped rnn_in torch.Size([3, 254, 512])\n",
      "RNN ouput torch.Size([3, 254, 64])\n"
     ]
    },
    {
     "name": "stderr",
     "output_type": "stream",
     "text": [
      " 19%|███████████████▎                                                                  | 29/155 [00:04<00:19,  6.43it/s]"
     ]
    },
    {
     "name": "stdout",
     "output_type": "stream",
     "text": [
      "mask ouput torch.Size([3, 254, 64])\n",
      "reshaped masked output torch.Size([3, 16256])\n",
      "fc ouput torch.Size([3, 32])\n",
      "logits torch.Size([3, 2])\n",
      "classifier ouput torch.Size([3, 2])\n",
      "-----------------Loss: 0.53911954164505-----------------------\n",
      "------BATCH ENDING-------\n",
      "--------------------------------------------------\n",
      "[tensor([102,  32,  17])]\n",
      "feature shape torch.Size([3, 254, 1, 112, 112])\n",
      "reshape input torch.Size([762, 1, 112, 112])\n",
      "CNN ouput torch.Size([762, 512])\n",
      "reshaped rnn_in torch.Size([3, 254, 512])\n",
      "RNN ouput torch.Size([3, 254, 64])\n",
      "mask ouput torch.Size([3, 254, 64])\n",
      "reshaped masked output torch.Size([3, 16256])\n",
      "fc ouput torch.Size([3, 32])\n",
      "logits torch.Size([3, 2])\n",
      "classifier ouput torch.Size([3, 2])\n",
      "-----------------Loss: 0.6834772229194641-----------------------\n",
      "------BATCH ENDING-------\n",
      "--------------------------------------------------\n",
      "[tensor([104,  34,  40])]\n",
      "feature shape torch.Size([3, 254, 1, 112, 112])\n",
      "reshape input torch.Size([762, 1, 112, 112])\n",
      "CNN ouput torch.Size([762, 512])\n",
      "reshaped rnn_in torch.Size([3, 254, 512])\n",
      "RNN ouput torch.Size([3, 254, 64])\n"
     ]
    },
    {
     "name": "stderr",
     "output_type": "stream",
     "text": [
      " 20%|████████████████▍                                                                 | 31/155 [00:05<00:19,  6.52it/s]"
     ]
    },
    {
     "name": "stdout",
     "output_type": "stream",
     "text": [
      "mask ouput torch.Size([3, 254, 64])\n",
      "reshaped masked output torch.Size([3, 16256])\n",
      "fc ouput torch.Size([3, 32])\n",
      "logits torch.Size([3, 2])\n",
      "classifier ouput torch.Size([3, 2])\n",
      "-----------------Loss: 0.6475411057472229-----------------------\n",
      "------BATCH ENDING-------\n",
      "--------------------------------------------------\n",
      "[tensor([35, 99, 33])]\n",
      "feature shape torch.Size([3, 254, 1, 112, 112])\n",
      "reshape input torch.Size([762, 1, 112, 112])\n",
      "CNN ouput torch.Size([762, 512])\n",
      "reshaped rnn_in torch.Size([3, 254, 512])\n",
      "RNN ouput torch.Size([3, 254, 64])\n",
      "mask ouput torch.Size([3, 254, 64])\n",
      "reshaped masked output torch.Size([3, 16256])\n",
      "fc ouput torch.Size([3, 32])\n",
      "logits torch.Size([3, 2])\n",
      "classifier ouput torch.Size([3, 2])\n",
      "-----------------Loss: 0.5313030481338501-----------------------\n",
      "------BATCH ENDING-------\n",
      "--------------------------------------------------\n",
      "[tensor([ 50,  34, 195])]\n",
      "feature shape torch.Size([3, 254, 1, 112, 112])\n",
      "reshape input torch.Size([762, 1, 112, 112])\n",
      "CNN ouput torch.Size([762, 512])\n",
      "reshaped rnn_in torch.Size([3, 254, 512])\n",
      "RNN ouput torch.Size([3, 254, 64])\n"
     ]
    },
    {
     "name": "stderr",
     "output_type": "stream",
     "text": [
      " 21%|█████████████████▍                                                                | 33/155 [00:05<00:18,  6.63it/s]"
     ]
    },
    {
     "name": "stdout",
     "output_type": "stream",
     "text": [
      "mask ouput torch.Size([3, 254, 64])\n",
      "reshaped masked output torch.Size([3, 16256])\n",
      "fc ouput torch.Size([3, 32])\n",
      "logits torch.Size([3, 2])\n",
      "classifier ouput torch.Size([3, 2])\n",
      "-----------------Loss: 0.5364516377449036-----------------------\n",
      "------BATCH ENDING-------\n",
      "--------------------------------------------------\n",
      "[tensor([ 19,  33, 102])]\n",
      "feature shape torch.Size([3, 254, 1, 112, 112])\n",
      "reshape input torch.Size([762, 1, 112, 112])\n",
      "CNN ouput torch.Size([762, 512])\n",
      "reshaped rnn_in torch.Size([3, 254, 512])\n",
      "RNN ouput torch.Size([3, 254, 64])\n",
      "mask ouput torch.Size([3, 254, 64])\n",
      "reshaped masked output torch.Size([3, 16256])\n",
      "fc ouput torch.Size([3, 32])\n",
      "logits torch.Size([3, 2])\n",
      "classifier ouput torch.Size([3, 2])\n",
      "-----------------Loss: 0.5923828482627869-----------------------\n",
      "------BATCH ENDING-------\n",
      "--------------------------------------------------\n",
      "[tensor([94, 12, 17])]\n",
      "feature shape torch.Size([3, 254, 1, 112, 112])\n",
      "reshape input torch.Size([762, 1, 112, 112])\n",
      "CNN ouput torch.Size([762, 512])\n",
      "reshaped rnn_in torch.Size([3, 254, 512])\n",
      "RNN ouput torch.Size([3, 254, 64])\n"
     ]
    },
    {
     "name": "stderr",
     "output_type": "stream",
     "text": [
      " 23%|██████████████████▌                                                               | 35/155 [00:05<00:18,  6.48it/s]"
     ]
    },
    {
     "name": "stdout",
     "output_type": "stream",
     "text": [
      "mask ouput torch.Size([3, 254, 64])\n",
      "reshaped masked output torch.Size([3, 16256])\n",
      "fc ouput torch.Size([3, 32])\n",
      "logits torch.Size([3, 2])\n",
      "classifier ouput torch.Size([3, 2])\n",
      "-----------------Loss: 0.6435893177986145-----------------------\n",
      "------BATCH ENDING-------\n",
      "--------------------------------------------------\n",
      "[tensor([ 16, 105,  35])]\n",
      "feature shape torch.Size([3, 254, 1, 112, 112])\n",
      "reshape input torch.Size([762, 1, 112, 112])\n",
      "CNN ouput torch.Size([762, 512])\n",
      "reshaped rnn_in torch.Size([3, 254, 512])\n",
      "RNN ouput torch.Size([3, 254, 64])\n",
      "mask ouput torch.Size([3, 254, 64])\n",
      "reshaped masked output torch.Size([3, 16256])\n",
      "fc ouput torch.Size([3, 32])\n",
      "logits torch.Size([3, 2])\n",
      "classifier ouput torch.Size([3, 2])\n",
      "-----------------Loss: 0.5449476838111877-----------------------\n",
      "------BATCH ENDING-------\n",
      "--------------------------------------------------\n",
      "[tensor([ 35, 100,  15])]\n",
      "feature shape torch.Size([3, 254, 1, 112, 112])\n",
      "reshape input torch.Size([762, 1, 112, 112])\n",
      "CNN ouput torch.Size([762, 512])\n",
      "reshaped rnn_in torch.Size([3, 254, 512])\n",
      "RNN ouput torch.Size([3, 254, 64])\n"
     ]
    },
    {
     "name": "stderr",
     "output_type": "stream",
     "text": [
      " 24%|███████████████████▌                                                              | 37/155 [00:06<00:18,  6.44it/s]"
     ]
    },
    {
     "name": "stdout",
     "output_type": "stream",
     "text": [
      "mask ouput torch.Size([3, 254, 64])\n",
      "reshaped masked output torch.Size([3, 16256])\n",
      "fc ouput torch.Size([3, 32])\n",
      "logits torch.Size([3, 2])\n",
      "classifier ouput torch.Size([3, 2])\n",
      "-----------------Loss: 0.6343998312950134-----------------------\n",
      "------BATCH ENDING-------\n",
      "--------------------------------------------------\n",
      "[tensor([ 17, 199,  36])]\n",
      "feature shape torch.Size([3, 254, 1, 112, 112])\n",
      "reshape input torch.Size([762, 1, 112, 112])\n",
      "CNN ouput torch.Size([762, 512])\n",
      "reshaped rnn_in torch.Size([3, 254, 512])\n",
      "RNN ouput torch.Size([3, 254, 64])\n",
      "mask ouput torch.Size([3, 254, 64])\n",
      "reshaped masked output torch.Size([3, 16256])\n",
      "fc ouput torch.Size([3, 32])\n",
      "logits torch.Size([3, 2])\n",
      "classifier ouput torch.Size([3, 2])\n",
      "-----------------Loss: 0.42636099457740784-----------------------\n",
      "------BATCH ENDING-------\n",
      "--------------------------------------------------\n",
      "[tensor([101,  31, 105])]\n",
      "feature shape torch.Size([3, 254, 1, 112, 112])\n",
      "reshape input torch.Size([762, 1, 112, 112])\n",
      "CNN ouput torch.Size([762, 512])\n",
      "reshaped rnn_in torch.Size([3, 254, 512])\n",
      "RNN ouput torch.Size([3, 254, 64])\n"
     ]
    },
    {
     "name": "stderr",
     "output_type": "stream",
     "text": [
      " 25%|████████████████████▋                                                             | 39/155 [00:06<00:17,  6.48it/s]"
     ]
    },
    {
     "name": "stdout",
     "output_type": "stream",
     "text": [
      "mask ouput torch.Size([3, 254, 64])\n",
      "reshaped masked output torch.Size([3, 16256])\n",
      "fc ouput torch.Size([3, 32])\n",
      "logits torch.Size([3, 2])\n",
      "classifier ouput torch.Size([3, 2])\n",
      "-----------------Loss: 0.5997171998023987-----------------------\n",
      "------BATCH ENDING-------\n",
      "--------------------------------------------------\n",
      "[tensor([ 32,  35, 105])]\n",
      "feature shape torch.Size([3, 254, 1, 112, 112])\n",
      "reshape input torch.Size([762, 1, 112, 112])\n",
      "CNN ouput torch.Size([762, 512])\n",
      "reshaped rnn_in torch.Size([3, 254, 512])\n",
      "RNN ouput torch.Size([3, 254, 64])\n",
      "mask ouput torch.Size([3, 254, 64])\n",
      "reshaped masked output torch.Size([3, 16256])\n",
      "fc ouput torch.Size([3, 32])\n",
      "logits torch.Size([3, 2])\n",
      "classifier ouput torch.Size([3, 2])\n",
      "-----------------Loss: 0.8566718101501465-----------------------\n",
      "------BATCH ENDING-------\n",
      "--------------------------------------------------\n",
      "[tensor([96, 35, 18])]\n",
      "feature shape torch.Size([3, 254, 1, 112, 112])\n",
      "reshape input torch.Size([762, 1, 112, 112])\n",
      "CNN ouput torch.Size([762, 512])\n",
      "reshaped rnn_in torch.Size([3, 254, 512])\n",
      "RNN ouput torch.Size([3, 254, 64])\n"
     ]
    },
    {
     "name": "stderr",
     "output_type": "stream",
     "text": [
      " 26%|█████████████████████▋                                                            | 41/155 [00:06<00:17,  6.59it/s]"
     ]
    },
    {
     "name": "stdout",
     "output_type": "stream",
     "text": [
      "mask ouput torch.Size([3, 254, 64])\n",
      "reshaped masked output torch.Size([3, 16256])\n",
      "fc ouput torch.Size([3, 32])\n",
      "logits torch.Size([3, 2])\n",
      "classifier ouput torch.Size([3, 2])\n",
      "-----------------Loss: 0.7233985066413879-----------------------\n",
      "------BATCH ENDING-------\n",
      "--------------------------------------------------\n",
      "[tensor([106,  20, 109])]\n",
      "feature shape torch.Size([3, 254, 1, 112, 112])\n",
      "reshape input torch.Size([762, 1, 112, 112])\n",
      "CNN ouput torch.Size([762, 512])\n",
      "reshaped rnn_in torch.Size([3, 254, 512])\n",
      "RNN ouput torch.Size([3, 254, 64])\n",
      "mask ouput torch.Size([3, 254, 64])\n",
      "reshaped masked output torch.Size([3, 16256])\n",
      "fc ouput torch.Size([3, 32])\n",
      "logits torch.Size([3, 2])\n",
      "classifier ouput torch.Size([3, 2])\n",
      "-----------------Loss: 0.6651239991188049-----------------------\n",
      "------BATCH ENDING-------\n",
      "--------------------------------------------------\n",
      "[tensor([ 96, 107,  49])]\n",
      "feature shape torch.Size([3, 254, 1, 112, 112])\n",
      "reshape input torch.Size([762, 1, 112, 112])\n",
      "CNN ouput torch.Size([762, 512])\n",
      "reshaped rnn_in torch.Size([3, 254, 512])\n",
      "RNN ouput torch.Size([3, 254, 64])\n"
     ]
    },
    {
     "name": "stderr",
     "output_type": "stream",
     "text": [
      " 28%|██████████████████████▋                                                           | 43/155 [00:07<00:17,  6.44it/s]"
     ]
    },
    {
     "name": "stdout",
     "output_type": "stream",
     "text": [
      "mask ouput torch.Size([3, 254, 64])\n",
      "reshaped masked output torch.Size([3, 16256])\n",
      "fc ouput torch.Size([3, 32])\n",
      "logits torch.Size([3, 2])\n",
      "classifier ouput torch.Size([3, 2])\n",
      "-----------------Loss: 0.46082010865211487-----------------------\n",
      "------BATCH ENDING-------\n",
      "--------------------------------------------------\n",
      "[tensor([99, 30, 31])]\n",
      "feature shape torch.Size([3, 254, 1, 112, 112])\n",
      "reshape input torch.Size([762, 1, 112, 112])\n",
      "CNN ouput torch.Size([762, 512])\n",
      "reshaped rnn_in torch.Size([3, 254, 512])\n",
      "RNN ouput torch.Size([3, 254, 64])\n",
      "mask ouput torch.Size([3, 254, 64])\n",
      "reshaped masked output torch.Size([3, 16256])\n",
      "fc ouput torch.Size([3, 32])\n",
      "logits torch.Size([3, 2])\n",
      "classifier ouput torch.Size([3, 2])\n",
      "-----------------Loss: 0.5906943082809448-----------------------\n",
      "------BATCH ENDING-------\n",
      "--------------------------------------------------\n",
      "[tensor([104,  35,  33])]\n",
      "feature shape torch.Size([3, 254, 1, 112, 112])\n",
      "reshape input torch.Size([762, 1, 112, 112])\n",
      "CNN ouput torch.Size([762, 512])\n",
      "reshaped rnn_in torch.Size([3, 254, 512])\n",
      "RNN ouput torch.Size([3, 254, 64])\n"
     ]
    },
    {
     "name": "stderr",
     "output_type": "stream",
     "text": [
      " 29%|███████████████████████▊                                                          | 45/155 [00:07<00:17,  6.34it/s]"
     ]
    },
    {
     "name": "stdout",
     "output_type": "stream",
     "text": [
      "mask ouput torch.Size([3, 254, 64])\n",
      "reshaped masked output torch.Size([3, 16256])\n",
      "fc ouput torch.Size([3, 32])\n",
      "logits torch.Size([3, 2])\n",
      "classifier ouput torch.Size([3, 2])\n",
      "-----------------Loss: 0.8499119877815247-----------------------\n",
      "------BATCH ENDING-------\n",
      "--------------------------------------------------\n",
      "[tensor([100,  93,  18])]\n",
      "feature shape torch.Size([3, 254, 1, 112, 112])\n",
      "reshape input torch.Size([762, 1, 112, 112])\n",
      "CNN ouput torch.Size([762, 512])\n",
      "reshaped rnn_in torch.Size([3, 254, 512])\n",
      "RNN ouput torch.Size([3, 254, 64])\n",
      "mask ouput torch.Size([3, 254, 64])\n",
      "reshaped masked output torch.Size([3, 16256])\n",
      "fc ouput torch.Size([3, 32])\n",
      "logits torch.Size([3, 2])\n",
      "classifier ouput torch.Size([3, 2])\n",
      "-----------------Loss: 0.5374826788902283-----------------------\n",
      "------BATCH ENDING-------\n",
      "--------------------------------------------------\n",
      "[tensor([17, 31, 95])]\n",
      "feature shape torch.Size([3, 254, 1, 112, 112])\n",
      "reshape input torch.Size([762, 1, 112, 112])\n",
      "CNN ouput torch.Size([762, 512])\n",
      "reshaped rnn_in torch.Size([3, 254, 512])\n",
      "RNN ouput torch.Size([3, 254, 64])\n"
     ]
    },
    {
     "name": "stderr",
     "output_type": "stream",
     "text": [
      " 30%|████████████████████████▊                                                         | 47/155 [00:07<00:16,  6.41it/s]"
     ]
    },
    {
     "name": "stdout",
     "output_type": "stream",
     "text": [
      "mask ouput torch.Size([3, 254, 64])\n",
      "reshaped masked output torch.Size([3, 16256])\n",
      "fc ouput torch.Size([3, 32])\n",
      "logits torch.Size([3, 2])\n",
      "classifier ouput torch.Size([3, 2])\n",
      "-----------------Loss: 0.5961161255836487-----------------------\n",
      "------BATCH ENDING-------\n",
      "--------------------------------------------------\n",
      "[tensor([104,  32,  34])]\n",
      "feature shape torch.Size([3, 254, 1, 112, 112])\n",
      "reshape input torch.Size([762, 1, 112, 112])\n",
      "CNN ouput torch.Size([762, 512])\n",
      "reshaped rnn_in torch.Size([3, 254, 512])\n",
      "RNN ouput torch.Size([3, 254, 64])\n",
      "mask ouput torch.Size([3, 254, 64])\n",
      "reshaped masked output torch.Size([3, 16256])\n",
      "fc ouput torch.Size([3, 32])\n",
      "logits torch.Size([3, 2])\n",
      "classifier ouput torch.Size([3, 2])\n",
      "-----------------Loss: 0.7076263427734375-----------------------\n",
      "------BATCH ENDING-------\n",
      "--------------------------------------------------\n",
      "[tensor([109,  53,  98])]\n",
      "feature shape torch.Size([3, 254, 1, 112, 112])\n",
      "reshape input torch.Size([762, 1, 112, 112])\n",
      "CNN ouput torch.Size([762, 512])\n",
      "reshaped rnn_in torch.Size([3, 254, 512])\n",
      "RNN ouput torch.Size([3, 254, 64])\n"
     ]
    },
    {
     "name": "stderr",
     "output_type": "stream",
     "text": [
      " 32%|█████████████████████████▉                                                        | 49/155 [00:08<00:16,  6.62it/s]"
     ]
    },
    {
     "name": "stdout",
     "output_type": "stream",
     "text": [
      "mask ouput torch.Size([3, 254, 64])\n",
      "reshaped masked output torch.Size([3, 16256])\n",
      "fc ouput torch.Size([3, 32])\n",
      "logits torch.Size([3, 2])\n",
      "classifier ouput torch.Size([3, 2])\n",
      "-----------------Loss: 0.5665416121482849-----------------------\n",
      "------BATCH ENDING-------\n",
      "--------------------------------------------------\n",
      "[tensor([ 34, 105,  32])]\n",
      "feature shape torch.Size([3, 254, 1, 112, 112])\n",
      "reshape input torch.Size([762, 1, 112, 112])\n",
      "CNN ouput torch.Size([762, 512])\n",
      "reshaped rnn_in torch.Size([3, 254, 512])\n",
      "RNN ouput torch.Size([3, 254, 64])\n",
      "mask ouput torch.Size([3, 254, 64])\n",
      "reshaped masked output torch.Size([3, 16256])\n",
      "fc ouput torch.Size([3, 32])\n",
      "logits torch.Size([3, 2])\n",
      "classifier ouput torch.Size([3, 2])\n",
      "-----------------Loss: 0.5222523212432861-----------------------\n",
      "------BATCH ENDING-------\n",
      "--------------------------------------------------\n",
      "[tensor([11, 17, 16])]\n",
      "feature shape torch.Size([3, 254, 1, 112, 112])\n",
      "reshape input torch.Size([762, 1, 112, 112])\n",
      "CNN ouput torch.Size([762, 512])\n",
      "reshaped rnn_in torch.Size([3, 254, 512])\n",
      "RNN ouput torch.Size([3, 254, 64])\n"
     ]
    },
    {
     "name": "stderr",
     "output_type": "stream",
     "text": [
      " 33%|██████████████████████████▉                                                       | 51/155 [00:08<00:15,  6.63it/s]"
     ]
    },
    {
     "name": "stdout",
     "output_type": "stream",
     "text": [
      "mask ouput torch.Size([3, 254, 64])\n",
      "reshaped masked output torch.Size([3, 16256])\n",
      "fc ouput torch.Size([3, 32])\n",
      "logits torch.Size([3, 2])\n",
      "classifier ouput torch.Size([3, 2])\n",
      "-----------------Loss: 0.689636766910553-----------------------\n",
      "------BATCH ENDING-------\n",
      "--------------------------------------------------\n",
      "[tensor([101, 109,  16])]\n",
      "feature shape torch.Size([3, 254, 1, 112, 112])\n",
      "reshape input torch.Size([762, 1, 112, 112])\n",
      "CNN ouput torch.Size([762, 512])\n",
      "reshaped rnn_in torch.Size([3, 254, 512])\n",
      "RNN ouput torch.Size([3, 254, 64])\n",
      "mask ouput torch.Size([3, 254, 64])\n",
      "reshaped masked output torch.Size([3, 16256])\n",
      "fc ouput torch.Size([3, 32])\n",
      "logits torch.Size([3, 2])\n",
      "classifier ouput torch.Size([3, 2])\n",
      "-----------------Loss: 0.6164113283157349-----------------------\n",
      "------BATCH ENDING-------\n",
      "--------------------------------------------------\n",
      "[tensor([ 31,  19, 105])]\n",
      "feature shape torch.Size([3, 254, 1, 112, 112])\n",
      "reshape input torch.Size([762, 1, 112, 112])\n",
      "CNN ouput torch.Size([762, 512])\n",
      "reshaped rnn_in torch.Size([3, 254, 512])\n",
      "RNN ouput torch.Size([3, 254, 64])\n"
     ]
    },
    {
     "name": "stderr",
     "output_type": "stream",
     "text": [
      " 34%|████████████████████████████                                                      | 53/155 [00:08<00:15,  6.60it/s]"
     ]
    },
    {
     "name": "stdout",
     "output_type": "stream",
     "text": [
      "mask ouput torch.Size([3, 254, 64])\n",
      "reshaped masked output torch.Size([3, 16256])\n",
      "fc ouput torch.Size([3, 32])\n",
      "logits torch.Size([3, 2])\n",
      "classifier ouput torch.Size([3, 2])\n",
      "-----------------Loss: 0.6177820563316345-----------------------\n",
      "------BATCH ENDING-------\n",
      "--------------------------------------------------\n",
      "[tensor([ 19,  40, 105])]\n",
      "feature shape torch.Size([3, 254, 1, 112, 112])\n",
      "reshape input torch.Size([762, 1, 112, 112])\n",
      "CNN ouput torch.Size([762, 512])\n",
      "reshaped rnn_in torch.Size([3, 254, 512])\n",
      "RNN ouput torch.Size([3, 254, 64])\n",
      "mask ouput torch.Size([3, 254, 64])\n",
      "reshaped masked output torch.Size([3, 16256])\n",
      "fc ouput torch.Size([3, 32])\n",
      "logits torch.Size([3, 2])\n",
      "classifier ouput torch.Size([3, 2])\n",
      "-----------------Loss: 0.5652422308921814-----------------------\n",
      "------BATCH ENDING-------\n",
      "--------------------------------------------------\n",
      "[tensor([ 33, 101,  34])]\n",
      "feature shape torch.Size([3, 254, 1, 112, 112])\n",
      "reshape input torch.Size([762, 1, 112, 112])\n",
      "CNN ouput torch.Size([762, 512])\n",
      "reshaped rnn_in torch.Size([3, 254, 512])\n",
      "RNN ouput torch.Size([3, 254, 64])\n"
     ]
    },
    {
     "name": "stderr",
     "output_type": "stream",
     "text": [
      " 35%|█████████████████████████████                                                     | 55/155 [00:08<00:15,  6.42it/s]"
     ]
    },
    {
     "name": "stdout",
     "output_type": "stream",
     "text": [
      "mask ouput torch.Size([3, 254, 64])\n",
      "reshaped masked output torch.Size([3, 16256])\n",
      "fc ouput torch.Size([3, 32])\n",
      "logits torch.Size([3, 2])\n",
      "classifier ouput torch.Size([3, 2])\n",
      "-----------------Loss: 0.577446460723877-----------------------\n",
      "------BATCH ENDING-------\n",
      "--------------------------------------------------\n",
      "[tensor([199,  35,  34])]\n",
      "feature shape torch.Size([3, 254, 1, 112, 112])\n",
      "reshape input torch.Size([762, 1, 112, 112])\n",
      "CNN ouput torch.Size([762, 512])\n",
      "reshaped rnn_in torch.Size([3, 254, 512])\n",
      "RNN ouput torch.Size([3, 254, 64])\n",
      "mask ouput torch.Size([3, 254, 64])\n",
      "reshaped masked output torch.Size([3, 16256])\n",
      "fc ouput torch.Size([3, 32])\n",
      "logits torch.Size([3, 2])\n",
      "classifier ouput torch.Size([3, 2])\n",
      "-----------------Loss: 0.7627386450767517-----------------------\n",
      "------BATCH ENDING-------\n",
      "--------------------------------------------------\n",
      "[tensor([35, 14, 17])]\n",
      "feature shape torch.Size([3, 254, 1, 112, 112])\n",
      "reshape input torch.Size([762, 1, 112, 112])\n",
      "CNN ouput torch.Size([762, 512])\n",
      "reshaped rnn_in torch.Size([3, 254, 512])\n",
      "RNN ouput torch.Size([3, 254, 64])\n"
     ]
    },
    {
     "name": "stderr",
     "output_type": "stream",
     "text": [
      " 37%|██████████████████████████████▏                                                   | 57/155 [00:09<00:15,  6.47it/s]"
     ]
    },
    {
     "name": "stdout",
     "output_type": "stream",
     "text": [
      "mask ouput torch.Size([3, 254, 64])\n",
      "reshaped masked output torch.Size([3, 16256])\n",
      "fc ouput torch.Size([3, 32])\n",
      "logits torch.Size([3, 2])\n",
      "classifier ouput torch.Size([3, 2])\n",
      "-----------------Loss: 0.6773197054862976-----------------------\n",
      "------BATCH ENDING-------\n",
      "--------------------------------------------------\n",
      "[tensor([35, 33, 34])]\n",
      "feature shape torch.Size([3, 254, 1, 112, 112])\n",
      "reshape input torch.Size([762, 1, 112, 112])\n",
      "CNN ouput torch.Size([762, 512])\n",
      "reshaped rnn_in torch.Size([3, 254, 512])\n",
      "RNN ouput torch.Size([3, 254, 64])\n",
      "mask ouput torch.Size([3, 254, 64])\n",
      "reshaped masked output torch.Size([3, 16256])\n",
      "fc ouput torch.Size([3, 32])\n",
      "logits torch.Size([3, 2])\n",
      "classifier ouput torch.Size([3, 2])\n",
      "-----------------Loss: 0.6936202049255371-----------------------\n",
      "------BATCH ENDING-------\n",
      "--------------------------------------------------\n",
      "[tensor([ 97, 111,  14])]\n",
      "feature shape torch.Size([3, 254, 1, 112, 112])\n",
      "reshape input torch.Size([762, 1, 112, 112])\n",
      "CNN ouput torch.Size([762, 512])\n",
      "reshaped rnn_in torch.Size([3, 254, 512])\n",
      "RNN ouput torch.Size([3, 254, 64])\n"
     ]
    },
    {
     "name": "stderr",
     "output_type": "stream",
     "text": [
      " 38%|███████████████████████████████▏                                                  | 59/155 [00:09<00:14,  6.50it/s]"
     ]
    },
    {
     "name": "stdout",
     "output_type": "stream",
     "text": [
      "mask ouput torch.Size([3, 254, 64])\n",
      "reshaped masked output torch.Size([3, 16256])\n",
      "fc ouput torch.Size([3, 32])\n",
      "logits torch.Size([3, 2])\n",
      "classifier ouput torch.Size([3, 2])\n",
      "-----------------Loss: 0.5945777297019958-----------------------\n",
      "------BATCH ENDING-------\n",
      "--------------------------------------------------\n",
      "[tensor([33, 32, 33])]\n",
      "feature shape torch.Size([3, 254, 1, 112, 112])\n",
      "reshape input torch.Size([762, 1, 112, 112])\n",
      "CNN ouput torch.Size([762, 512])\n",
      "reshaped rnn_in torch.Size([3, 254, 512])\n",
      "RNN ouput torch.Size([3, 254, 64])\n",
      "mask ouput torch.Size([3, 254, 64])\n",
      "reshaped masked output torch.Size([3, 16256])\n",
      "fc ouput torch.Size([3, 32])\n",
      "logits torch.Size([3, 2])\n",
      "classifier ouput torch.Size([3, 2])\n",
      "-----------------Loss: 0.6253088116645813-----------------------\n",
      "------BATCH ENDING-------\n",
      "--------------------------------------------------\n",
      "[tensor([ 34, 104,  35])]\n",
      "feature shape torch.Size([3, 254, 1, 112, 112])\n",
      "reshape input torch.Size([762, 1, 112, 112])\n",
      "CNN ouput torch.Size([762, 512])\n",
      "reshaped rnn_in torch.Size([3, 254, 512])\n",
      "RNN ouput torch.Size([3, 254, 64])\n"
     ]
    },
    {
     "name": "stderr",
     "output_type": "stream",
     "text": [
      " 39%|████████████████████████████████▎                                                 | 61/155 [00:09<00:14,  6.45it/s]"
     ]
    },
    {
     "name": "stdout",
     "output_type": "stream",
     "text": [
      "mask ouput torch.Size([3, 254, 64])\n",
      "reshaped masked output torch.Size([3, 16256])\n",
      "fc ouput torch.Size([3, 32])\n",
      "logits torch.Size([3, 2])\n",
      "classifier ouput torch.Size([3, 2])\n",
      "-----------------Loss: 0.751520574092865-----------------------\n",
      "------BATCH ENDING-------\n",
      "--------------------------------------------------\n",
      "[tensor([199,  35,  23])]\n",
      "feature shape torch.Size([3, 254, 1, 112, 112])\n",
      "reshape input torch.Size([762, 1, 112, 112])\n",
      "CNN ouput torch.Size([762, 512])\n",
      "reshaped rnn_in torch.Size([3, 254, 512])\n",
      "RNN ouput torch.Size([3, 254, 64])\n",
      "mask ouput torch.Size([3, 254, 64])\n",
      "reshaped masked output torch.Size([3, 16256])\n",
      "fc ouput torch.Size([3, 32])\n",
      "logits torch.Size([3, 2])\n",
      "classifier ouput torch.Size([3, 2])\n",
      "-----------------Loss: 0.6304650902748108-----------------------\n",
      "------BATCH ENDING-------\n",
      "--------------------------------------------------\n",
      "[tensor([90, 34, 50])]\n",
      "feature shape torch.Size([3, 254, 1, 112, 112])\n",
      "reshape input torch.Size([762, 1, 112, 112])\n",
      "CNN ouput torch.Size([762, 512])\n",
      "reshaped rnn_in torch.Size([3, 254, 512])\n",
      "RNN ouput torch.Size([3, 254, 64])\n"
     ]
    },
    {
     "name": "stderr",
     "output_type": "stream",
     "text": [
      " 41%|█████████████████████████████████▎                                                | 63/155 [00:10<00:14,  6.22it/s]"
     ]
    },
    {
     "name": "stdout",
     "output_type": "stream",
     "text": [
      "mask ouput torch.Size([3, 254, 64])\n",
      "reshaped masked output torch.Size([3, 16256])\n",
      "fc ouput torch.Size([3, 32])\n",
      "logits torch.Size([3, 2])\n",
      "classifier ouput torch.Size([3, 2])\n",
      "-----------------Loss: 0.5012555718421936-----------------------\n",
      "------BATCH ENDING-------\n",
      "--------------------------------------------------\n",
      "[tensor([16, 20, 35])]\n",
      "feature shape torch.Size([3, 254, 1, 112, 112])\n",
      "reshape input torch.Size([762, 1, 112, 112])\n",
      "CNN ouput torch.Size([762, 512])\n",
      "reshaped rnn_in torch.Size([3, 254, 512])\n",
      "RNN ouput torch.Size([3, 254, 64])\n",
      "mask ouput torch.Size([3, 254, 64])\n",
      "reshaped masked output torch.Size([3, 16256])\n",
      "fc ouput torch.Size([3, 32])\n",
      "logits torch.Size([3, 2])\n",
      "classifier ouput torch.Size([3, 2])\n",
      "-----------------Loss: 0.6555657982826233-----------------------\n",
      "------BATCH ENDING-------\n",
      "--------------------------------------------------\n",
      "[tensor([102,  34, 106])]\n",
      "feature shape torch.Size([3, 254, 1, 112, 112])\n",
      "reshape input torch.Size([762, 1, 112, 112])\n",
      "CNN ouput torch.Size([762, 512])\n",
      "reshaped rnn_in torch.Size([3, 254, 512])\n",
      "RNN ouput torch.Size([3, 254, 64])\n"
     ]
    },
    {
     "name": "stderr",
     "output_type": "stream",
     "text": [
      " 42%|██████████████████████████████████▍                                               | 65/155 [00:10<00:14,  6.24it/s]"
     ]
    },
    {
     "name": "stdout",
     "output_type": "stream",
     "text": [
      "mask ouput torch.Size([3, 254, 64])\n",
      "reshaped masked output torch.Size([3, 16256])\n",
      "fc ouput torch.Size([3, 32])\n",
      "logits torch.Size([3, 2])\n",
      "classifier ouput torch.Size([3, 2])\n",
      "-----------------Loss: 0.6022411584854126-----------------------\n",
      "------BATCH ENDING-------\n",
      "--------------------------------------------------\n",
      "[tensor([ 33, 213,  22])]\n",
      "feature shape torch.Size([3, 254, 1, 112, 112])\n",
      "reshape input torch.Size([762, 1, 112, 112])\n",
      "CNN ouput torch.Size([762, 512])\n",
      "reshaped rnn_in torch.Size([3, 254, 512])\n",
      "RNN ouput torch.Size([3, 254, 64])\n",
      "mask ouput torch.Size([3, 254, 64])\n",
      "reshaped masked output torch.Size([3, 16256])\n",
      "fc ouput torch.Size([3, 32])\n",
      "logits torch.Size([3, 2])\n",
      "classifier ouput torch.Size([3, 2])\n",
      "-----------------Loss: 0.5855053067207336-----------------------\n",
      "------BATCH ENDING-------\n",
      "--------------------------------------------------\n",
      "[tensor([ 84, 100,  17])]\n",
      "feature shape torch.Size([3, 254, 1, 112, 112])\n",
      "reshape input torch.Size([762, 1, 112, 112])\n",
      "CNN ouput torch.Size([762, 512])\n",
      "reshaped rnn_in torch.Size([3, 254, 512])\n",
      "RNN ouput torch.Size([3, 254, 64])\n"
     ]
    },
    {
     "name": "stderr",
     "output_type": "stream",
     "text": [
      " 43%|███████████████████████████████████▍                                              | 67/155 [00:10<00:14,  6.07it/s]"
     ]
    },
    {
     "name": "stdout",
     "output_type": "stream",
     "text": [
      "mask ouput torch.Size([3, 254, 64])\n",
      "reshaped masked output torch.Size([3, 16256])\n",
      "fc ouput torch.Size([3, 32])\n",
      "logits torch.Size([3, 2])\n",
      "classifier ouput torch.Size([3, 2])\n",
      "-----------------Loss: 0.6848781704902649-----------------------\n",
      "------BATCH ENDING-------\n",
      "--------------------------------------------------\n",
      "[tensor([101,  33,  16])]\n",
      "feature shape torch.Size([3, 254, 1, 112, 112])\n",
      "reshape input torch.Size([762, 1, 112, 112])\n",
      "CNN ouput torch.Size([762, 512])\n",
      "reshaped rnn_in torch.Size([3, 254, 512])\n",
      "RNN ouput torch.Size([3, 254, 64])\n",
      "mask ouput torch.Size([3, 254, 64])\n",
      "reshaped masked output torch.Size([3, 16256])\n",
      "fc ouput torch.Size([3, 32])\n",
      "logits torch.Size([3, 2])\n",
      "classifier ouput torch.Size([3, 2])\n",
      "-----------------Loss: 0.7708253264427185-----------------------\n",
      "------BATCH ENDING-------\n",
      "--------------------------------------------------\n",
      "[tensor([100, 100,  17])]\n",
      "feature shape torch.Size([3, 254, 1, 112, 112])\n",
      "reshape input torch.Size([762, 1, 112, 112])\n",
      "CNN ouput torch.Size([762, 512])\n",
      "reshaped rnn_in torch.Size([3, 254, 512])\n",
      "RNN ouput torch.Size([3, 254, 64])\n"
     ]
    },
    {
     "name": "stderr",
     "output_type": "stream",
     "text": [
      " 45%|████████████████████████████████████▌                                             | 69/155 [00:11<00:13,  6.19it/s]"
     ]
    },
    {
     "name": "stdout",
     "output_type": "stream",
     "text": [
      "mask ouput torch.Size([3, 254, 64])\n",
      "reshaped masked output torch.Size([3, 16256])\n",
      "fc ouput torch.Size([3, 32])\n",
      "logits torch.Size([3, 2])\n",
      "classifier ouput torch.Size([3, 2])\n",
      "-----------------Loss: 0.6453397274017334-----------------------\n",
      "------BATCH ENDING-------\n",
      "--------------------------------------------------\n",
      "[tensor([ 33, 101,  99])]\n",
      "feature shape torch.Size([3, 254, 1, 112, 112])\n",
      "reshape input torch.Size([762, 1, 112, 112])\n",
      "CNN ouput torch.Size([762, 512])\n",
      "reshaped rnn_in torch.Size([3, 254, 512])\n",
      "RNN ouput torch.Size([3, 254, 64])\n",
      "mask ouput torch.Size([3, 254, 64])\n",
      "reshaped masked output torch.Size([3, 16256])\n",
      "fc ouput torch.Size([3, 32])\n",
      "logits torch.Size([3, 2])\n",
      "classifier ouput torch.Size([3, 2])\n",
      "-----------------Loss: 0.5625709295272827-----------------------\n",
      "------BATCH ENDING-------\n",
      "--------------------------------------------------\n",
      "[tensor([128,  33, 100])]\n",
      "feature shape torch.Size([3, 254, 1, 112, 112])\n",
      "reshape input torch.Size([762, 1, 112, 112])\n",
      "CNN ouput torch.Size([762, 512])\n",
      "reshaped rnn_in torch.Size([3, 254, 512])\n",
      "RNN ouput torch.Size([3, 254, 64])\n"
     ]
    },
    {
     "name": "stderr",
     "output_type": "stream",
     "text": [
      " 46%|█████████████████████████████████████▌                                            | 71/155 [00:11<00:13,  6.37it/s]"
     ]
    },
    {
     "name": "stdout",
     "output_type": "stream",
     "text": [
      "mask ouput torch.Size([3, 254, 64])\n",
      "reshaped masked output torch.Size([3, 16256])\n",
      "fc ouput torch.Size([3, 32])\n",
      "logits torch.Size([3, 2])\n",
      "classifier ouput torch.Size([3, 2])\n",
      "-----------------Loss: 0.46465635299682617-----------------------\n",
      "------BATCH ENDING-------\n",
      "--------------------------------------------------\n",
      "[tensor([ 33, 101,  96])]\n",
      "feature shape torch.Size([3, 254, 1, 112, 112])\n",
      "reshape input torch.Size([762, 1, 112, 112])\n",
      "CNN ouput torch.Size([762, 512])\n",
      "reshaped rnn_in torch.Size([3, 254, 512])\n",
      "RNN ouput torch.Size([3, 254, 64])\n",
      "mask ouput torch.Size([3, 254, 64])\n",
      "reshaped masked output torch.Size([3, 16256])\n",
      "fc ouput torch.Size([3, 32])\n",
      "logits torch.Size([3, 2])\n",
      "classifier ouput torch.Size([3, 2])\n",
      "-----------------Loss: 0.4968918561935425-----------------------\n",
      "------BATCH ENDING-------\n",
      "--------------------------------------------------\n",
      "[tensor([35, 10, 95])]\n",
      "feature shape torch.Size([3, 254, 1, 112, 112])\n",
      "reshape input torch.Size([762, 1, 112, 112])\n",
      "CNN ouput torch.Size([762, 512])\n",
      "reshaped rnn_in torch.Size([3, 254, 512])\n",
      "RNN ouput torch.Size([3, 254, 64])\n"
     ]
    },
    {
     "name": "stderr",
     "output_type": "stream",
     "text": [
      " 47%|██████████████████████████████████████▌                                           | 73/155 [00:11<00:12,  6.45it/s]"
     ]
    },
    {
     "name": "stdout",
     "output_type": "stream",
     "text": [
      "mask ouput torch.Size([3, 254, 64])\n",
      "reshaped masked output torch.Size([3, 16256])\n",
      "fc ouput torch.Size([3, 32])\n",
      "logits torch.Size([3, 2])\n",
      "classifier ouput torch.Size([3, 2])\n",
      "-----------------Loss: 0.7037269473075867-----------------------\n",
      "------BATCH ENDING-------\n",
      "--------------------------------------------------\n",
      "[tensor([ 32, 194,  33])]\n",
      "feature shape torch.Size([3, 254, 1, 112, 112])\n",
      "reshape input torch.Size([762, 1, 112, 112])\n",
      "CNN ouput torch.Size([762, 512])\n",
      "reshaped rnn_in torch.Size([3, 254, 512])\n",
      "RNN ouput torch.Size([3, 254, 64])\n",
      "mask ouput torch.Size([3, 254, 64])\n",
      "reshaped masked output torch.Size([3, 16256])\n",
      "fc ouput torch.Size([3, 32])\n",
      "logits torch.Size([3, 2])\n",
      "classifier ouput torch.Size([3, 2])\n",
      "-----------------Loss: 0.5570136904716492-----------------------\n",
      "------BATCH ENDING-------\n",
      "--------------------------------------------------\n",
      "[tensor([34, 31, 48])]\n",
      "feature shape torch.Size([3, 254, 1, 112, 112])\n",
      "reshape input torch.Size([762, 1, 112, 112])\n",
      "CNN ouput torch.Size([762, 512])\n",
      "reshaped rnn_in torch.Size([3, 254, 512])\n",
      "RNN ouput torch.Size([3, 254, 64])\n"
     ]
    },
    {
     "name": "stderr",
     "output_type": "stream",
     "text": [
      " 48%|███████████████████████████████████████▋                                          | 75/155 [00:12<00:12,  6.46it/s]"
     ]
    },
    {
     "name": "stdout",
     "output_type": "stream",
     "text": [
      "mask ouput torch.Size([3, 254, 64])\n",
      "reshaped masked output torch.Size([3, 16256])\n",
      "fc ouput torch.Size([3, 32])\n",
      "logits torch.Size([3, 2])\n",
      "classifier ouput torch.Size([3, 2])\n",
      "-----------------Loss: 0.6316553950309753-----------------------\n",
      "------BATCH ENDING-------\n",
      "--------------------------------------------------\n",
      "[tensor([ 22,  32, 110])]\n",
      "feature shape torch.Size([3, 254, 1, 112, 112])\n",
      "reshape input torch.Size([762, 1, 112, 112])\n",
      "CNN ouput torch.Size([762, 512])\n",
      "reshaped rnn_in torch.Size([3, 254, 512])\n",
      "RNN ouput torch.Size([3, 254, 64])\n",
      "mask ouput torch.Size([3, 254, 64])\n",
      "reshaped masked output torch.Size([3, 16256])\n",
      "fc ouput torch.Size([3, 32])\n",
      "logits torch.Size([3, 2])\n",
      "classifier ouput torch.Size([3, 2])\n",
      "-----------------Loss: 0.44516506791114807-----------------------\n",
      "------BATCH ENDING-------\n",
      "--------------------------------------------------\n",
      "[tensor([105,  34,  18])]\n",
      "feature shape torch.Size([3, 254, 1, 112, 112])\n",
      "reshape input torch.Size([762, 1, 112, 112])\n",
      "CNN ouput torch.Size([762, 512])\n",
      "reshaped rnn_in torch.Size([3, 254, 512])\n",
      "RNN ouput torch.Size([3, 254, 64])\n"
     ]
    },
    {
     "name": "stderr",
     "output_type": "stream",
     "text": [
      " 50%|████████████████████████████████████████▋                                         | 77/155 [00:12<00:11,  6.53it/s]"
     ]
    },
    {
     "name": "stdout",
     "output_type": "stream",
     "text": [
      "mask ouput torch.Size([3, 254, 64])\n",
      "reshaped masked output torch.Size([3, 16256])\n",
      "fc ouput torch.Size([3, 32])\n",
      "logits torch.Size([3, 2])\n",
      "classifier ouput torch.Size([3, 2])\n",
      "-----------------Loss: 0.5357205867767334-----------------------\n",
      "------BATCH ENDING-------\n",
      "--------------------------------------------------\n",
      "[tensor([ 17,  36, 105])]\n",
      "feature shape torch.Size([3, 254, 1, 112, 112])\n",
      "reshape input torch.Size([762, 1, 112, 112])\n",
      "CNN ouput torch.Size([762, 512])\n",
      "reshaped rnn_in torch.Size([3, 254, 512])\n",
      "RNN ouput torch.Size([3, 254, 64])\n",
      "mask ouput torch.Size([3, 254, 64])\n",
      "reshaped masked output torch.Size([3, 16256])\n",
      "fc ouput torch.Size([3, 32])\n",
      "logits torch.Size([3, 2])\n",
      "classifier ouput torch.Size([3, 2])\n",
      "-----------------Loss: 0.5551565885543823-----------------------\n",
      "------BATCH ENDING-------\n",
      "--------------------------------------------------\n",
      "[tensor([101,  34,  12])]\n",
      "feature shape torch.Size([3, 254, 1, 112, 112])\n",
      "reshape input torch.Size([762, 1, 112, 112])\n",
      "CNN ouput torch.Size([762, 512])\n",
      "reshaped rnn_in torch.Size([3, 254, 512])\n",
      "RNN ouput torch.Size([3, 254, 64])\n"
     ]
    },
    {
     "name": "stderr",
     "output_type": "stream",
     "text": [
      " 50%|█████████████████████████████████████████▎                                        | 78/155 [00:12<00:12,  6.15it/s]"
     ]
    },
    {
     "name": "stdout",
     "output_type": "stream",
     "text": [
      "mask ouput torch.Size([3, 254, 64])\n",
      "reshaped masked output torch.Size([3, 16256])\n",
      "fc ouput torch.Size([3, 32])\n",
      "logits torch.Size([3, 2])\n",
      "classifier ouput torch.Size([3, 2])\n",
      "-----------------Loss: 0.5479266047477722-----------------------\n",
      "------BATCH ENDING-------\n",
      "--------------------------------------------------\n",
      "[tensor([49, 20, 10])]\n",
      "feature shape torch.Size([3, 254, 1, 112, 112])\n",
      "reshape input torch.Size([762, 1, 112, 112])\n",
      "CNN ouput torch.Size([762, 512])\n",
      "reshaped rnn_in torch.Size([3, 254, 512])\n",
      "RNN ouput torch.Size([3, 254, 64])\n",
      "mask ouput torch.Size([3, 254, 64])\n",
      "reshaped masked output torch.Size([3, 16256])\n",
      "fc ouput torch.Size([3, 32])\n",
      "logits torch.Size([3, 2])\n",
      "classifier ouput torch.Size([3, 2])\n"
     ]
    },
    {
     "name": "stderr",
     "output_type": "stream",
     "text": [
      " 52%|██████████████████████████████████████████▎                                       | 80/155 [00:12<00:12,  5.78it/s]"
     ]
    },
    {
     "name": "stdout",
     "output_type": "stream",
     "text": [
      "-----------------Loss: 0.67160964012146-----------------------\n",
      "------BATCH ENDING-------\n",
      "--------------------------------------------------\n",
      "[tensor([11, 48, 34])]\n",
      "feature shape torch.Size([3, 254, 1, 112, 112])\n",
      "reshape input torch.Size([762, 1, 112, 112])\n",
      "CNN ouput torch.Size([762, 512])\n",
      "reshaped rnn_in torch.Size([3, 254, 512])\n",
      "RNN ouput torch.Size([3, 254, 64])\n",
      "mask ouput torch.Size([3, 254, 64])\n",
      "reshaped masked output torch.Size([3, 16256])\n",
      "fc ouput torch.Size([3, 32])\n",
      "logits torch.Size([3, 2])\n",
      "classifier ouput torch.Size([3, 2])\n",
      "-----------------Loss: 0.7136790156364441-----------------------\n",
      "------BATCH ENDING-------\n",
      "--------------------------------------------------\n",
      "[tensor([ 20,  96, 100])]\n",
      "feature shape torch.Size([3, 254, 1, 112, 112])\n",
      "reshape input torch.Size([762, 1, 112, 112])\n",
      "CNN ouput torch.Size([762, 512])\n",
      "reshaped rnn_in torch.Size([3, 254, 512])\n",
      "RNN ouput torch.Size([3, 254, 64])\n"
     ]
    },
    {
     "name": "stderr",
     "output_type": "stream",
     "text": [
      " 53%|███████████████████████████████████████████▍                                      | 82/155 [00:13<00:12,  5.97it/s]"
     ]
    },
    {
     "name": "stdout",
     "output_type": "stream",
     "text": [
      "mask ouput torch.Size([3, 254, 64])\n",
      "reshaped masked output torch.Size([3, 16256])\n",
      "fc ouput torch.Size([3, 32])\n",
      "logits torch.Size([3, 2])\n",
      "classifier ouput torch.Size([3, 2])\n",
      "-----------------Loss: 0.6224851608276367-----------------------\n",
      "------BATCH ENDING-------\n",
      "--------------------------------------------------\n",
      "[tensor([ 22,  32, 194])]\n",
      "feature shape torch.Size([3, 254, 1, 112, 112])\n",
      "reshape input torch.Size([762, 1, 112, 112])\n",
      "CNN ouput torch.Size([762, 512])\n",
      "reshaped rnn_in torch.Size([3, 254, 512])\n",
      "RNN ouput torch.Size([3, 254, 64])\n",
      "mask ouput torch.Size([3, 254, 64])\n",
      "reshaped masked output torch.Size([3, 16256])\n",
      "fc ouput torch.Size([3, 32])\n",
      "logits torch.Size([3, 2])\n",
      "classifier ouput torch.Size([3, 2])\n",
      "-----------------Loss: 0.47608235478401184-----------------------\n",
      "------BATCH ENDING-------\n",
      "--------------------------------------------------\n",
      "[tensor([19, 47, 19])]\n",
      "feature shape torch.Size([3, 254, 1, 112, 112])\n",
      "reshape input torch.Size([762, 1, 112, 112])\n",
      "CNN ouput torch.Size([762, 512])\n",
      "reshaped rnn_in torch.Size([3, 254, 512])\n",
      "RNN ouput torch.Size([3, 254, 64])\n"
     ]
    },
    {
     "name": "stderr",
     "output_type": "stream",
     "text": [
      " 54%|████████████████████████████████████████████▍                                     | 84/155 [00:13<00:11,  6.12it/s]"
     ]
    },
    {
     "name": "stdout",
     "output_type": "stream",
     "text": [
      "mask ouput torch.Size([3, 254, 64])\n",
      "reshaped masked output torch.Size([3, 16256])\n",
      "fc ouput torch.Size([3, 32])\n",
      "logits torch.Size([3, 2])\n",
      "classifier ouput torch.Size([3, 2])\n",
      "-----------------Loss: 0.6710476875305176-----------------------\n",
      "------BATCH ENDING-------\n",
      "--------------------------------------------------\n",
      "[tensor([ 35,  12, 100])]\n",
      "feature shape torch.Size([3, 254, 1, 112, 112])\n",
      "reshape input torch.Size([762, 1, 112, 112])\n",
      "CNN ouput torch.Size([762, 512])\n",
      "reshaped rnn_in torch.Size([3, 254, 512])\n",
      "RNN ouput torch.Size([3, 254, 64])\n",
      "mask ouput torch.Size([3, 254, 64])\n",
      "reshaped masked output torch.Size([3, 16256])\n",
      "fc ouput torch.Size([3, 32])\n",
      "logits torch.Size([3, 2])\n",
      "classifier ouput torch.Size([3, 2])\n",
      "-----------------Loss: 0.6087127327919006-----------------------\n",
      "------BATCH ENDING-------\n",
      "--------------------------------------------------\n",
      "[tensor([34, 34, 99])]\n",
      "feature shape torch.Size([3, 254, 1, 112, 112])\n",
      "reshape input torch.Size([762, 1, 112, 112])\n",
      "CNN ouput torch.Size([762, 512])\n",
      "reshaped rnn_in torch.Size([3, 254, 512])\n",
      "RNN ouput torch.Size([3, 254, 64])\n"
     ]
    },
    {
     "name": "stderr",
     "output_type": "stream",
     "text": [
      " 55%|█████████████████████████████████████████████▍                                    | 86/155 [00:13<00:11,  6.15it/s]"
     ]
    },
    {
     "name": "stdout",
     "output_type": "stream",
     "text": [
      "mask ouput torch.Size([3, 254, 64])\n",
      "reshaped masked output torch.Size([3, 16256])\n",
      "fc ouput torch.Size([3, 32])\n",
      "logits torch.Size([3, 2])\n",
      "classifier ouput torch.Size([3, 2])\n",
      "-----------------Loss: 0.7119681239128113-----------------------\n",
      "------BATCH ENDING-------\n",
      "--------------------------------------------------\n",
      "[tensor([ 29, 165,  33])]\n",
      "feature shape torch.Size([3, 254, 1, 112, 112])\n",
      "reshape input torch.Size([762, 1, 112, 112])\n",
      "CNN ouput torch.Size([762, 512])\n",
      "reshaped rnn_in torch.Size([3, 254, 512])\n",
      "RNN ouput torch.Size([3, 254, 64])\n",
      "mask ouput torch.Size([3, 254, 64])\n",
      "reshaped masked output torch.Size([3, 16256])\n",
      "fc ouput torch.Size([3, 32])\n",
      "logits torch.Size([3, 2])\n",
      "classifier ouput torch.Size([3, 2])\n",
      "-----------------Loss: 0.3794836699962616-----------------------\n",
      "------BATCH ENDING-------\n",
      "--------------------------------------------------\n",
      "[tensor([31, 95, 34])]\n",
      "feature shape torch.Size([3, 254, 1, 112, 112])\n",
      "reshape input torch.Size([762, 1, 112, 112])\n",
      "CNN ouput torch.Size([762, 512])\n",
      "reshaped rnn_in torch.Size([3, 254, 512])\n",
      "RNN ouput torch.Size([3, 254, 64])\n"
     ]
    },
    {
     "name": "stderr",
     "output_type": "stream",
     "text": [
      " 57%|██████████████████████████████████████████████▌                                   | 88/155 [00:14<00:10,  6.10it/s]"
     ]
    },
    {
     "name": "stdout",
     "output_type": "stream",
     "text": [
      "mask ouput torch.Size([3, 254, 64])\n",
      "reshaped masked output torch.Size([3, 16256])\n",
      "fc ouput torch.Size([3, 32])\n",
      "logits torch.Size([3, 2])\n",
      "classifier ouput torch.Size([3, 2])\n",
      "-----------------Loss: 0.5432819724082947-----------------------\n",
      "------BATCH ENDING-------\n",
      "--------------------------------------------------\n",
      "[tensor([91, 33, 32])]\n",
      "feature shape torch.Size([3, 254, 1, 112, 112])\n",
      "reshape input torch.Size([762, 1, 112, 112])\n",
      "CNN ouput torch.Size([762, 512])\n",
      "reshaped rnn_in torch.Size([3, 254, 512])\n",
      "RNN ouput torch.Size([3, 254, 64])\n",
      "mask ouput torch.Size([3, 254, 64])\n",
      "reshaped masked output torch.Size([3, 16256])\n",
      "fc ouput torch.Size([3, 32])\n",
      "logits torch.Size([3, 2])\n",
      "classifier ouput torch.Size([3, 2])\n",
      "-----------------Loss: 0.6266378164291382-----------------------\n",
      "------BATCH ENDING-------\n",
      "--------------------------------------------------\n",
      "[tensor([169,  98, 166])]\n",
      "feature shape torch.Size([3, 254, 1, 112, 112])\n",
      "reshape input torch.Size([762, 1, 112, 112])\n",
      "CNN ouput torch.Size([762, 512])\n",
      "reshaped rnn_in torch.Size([3, 254, 512])\n",
      "RNN ouput torch.Size([3, 254, 64])\n"
     ]
    },
    {
     "name": "stderr",
     "output_type": "stream",
     "text": [
      " 58%|███████████████████████████████████████████████▌                                  | 90/155 [00:14<00:10,  6.18it/s]"
     ]
    },
    {
     "name": "stdout",
     "output_type": "stream",
     "text": [
      "mask ouput torch.Size([3, 254, 64])\n",
      "reshaped masked output torch.Size([3, 16256])\n",
      "fc ouput torch.Size([3, 32])\n",
      "logits torch.Size([3, 2])\n",
      "classifier ouput torch.Size([3, 2])\n",
      "-----------------Loss: 0.6573278307914734-----------------------\n",
      "------BATCH ENDING-------\n",
      "--------------------------------------------------\n",
      "[tensor([34, 39, 54])]\n",
      "feature shape torch.Size([3, 254, 1, 112, 112])\n",
      "reshape input torch.Size([762, 1, 112, 112])\n",
      "CNN ouput torch.Size([762, 512])\n",
      "reshaped rnn_in torch.Size([3, 254, 512])\n",
      "RNN ouput torch.Size([3, 254, 64])\n",
      "mask ouput torch.Size([3, 254, 64])\n",
      "reshaped masked output torch.Size([3, 16256])\n",
      "fc ouput torch.Size([3, 32])\n",
      "logits torch.Size([3, 2])\n",
      "classifier ouput torch.Size([3, 2])\n",
      "-----------------Loss: 0.6353052258491516-----------------------\n",
      "------BATCH ENDING-------\n",
      "--------------------------------------------------\n",
      "[tensor([ 17, 108, 107])]\n",
      "feature shape torch.Size([3, 254, 1, 112, 112])\n",
      "reshape input torch.Size([762, 1, 112, 112])\n",
      "CNN ouput torch.Size([762, 512])\n",
      "reshaped rnn_in torch.Size([3, 254, 512])\n",
      "RNN ouput torch.Size([3, 254, 64])\n"
     ]
    },
    {
     "name": "stderr",
     "output_type": "stream",
     "text": [
      " 59%|████████████████████████████████████████████████▋                                 | 92/155 [00:14<00:10,  6.20it/s]"
     ]
    },
    {
     "name": "stdout",
     "output_type": "stream",
     "text": [
      "mask ouput torch.Size([3, 254, 64])\n",
      "reshaped masked output torch.Size([3, 16256])\n",
      "fc ouput torch.Size([3, 32])\n",
      "logits torch.Size([3, 2])\n",
      "classifier ouput torch.Size([3, 2])\n",
      "-----------------Loss: 0.35181891918182373-----------------------\n",
      "------BATCH ENDING-------\n",
      "--------------------------------------------------\n",
      "[tensor([ 33,  34, 105])]\n",
      "feature shape torch.Size([3, 254, 1, 112, 112])\n",
      "reshape input torch.Size([762, 1, 112, 112])\n",
      "CNN ouput torch.Size([762, 512])\n",
      "reshaped rnn_in torch.Size([3, 254, 512])\n",
      "RNN ouput torch.Size([3, 254, 64])\n",
      "mask ouput torch.Size([3, 254, 64])\n",
      "reshaped masked output torch.Size([3, 16256])\n",
      "fc ouput torch.Size([3, 32])\n",
      "logits torch.Size([3, 2])\n",
      "classifier ouput torch.Size([3, 2])\n",
      "-----------------Loss: 0.6167730689048767-----------------------\n",
      "------BATCH ENDING-------\n",
      "--------------------------------------------------\n",
      "[tensor([ 98,  17, 113])]\n",
      "feature shape torch.Size([3, 254, 1, 112, 112])\n",
      "reshape input torch.Size([762, 1, 112, 112])\n",
      "CNN ouput torch.Size([762, 512])\n",
      "reshaped rnn_in torch.Size([3, 254, 512])\n",
      "RNN ouput torch.Size([3, 254, 64])\n"
     ]
    },
    {
     "name": "stderr",
     "output_type": "stream",
     "text": [
      " 61%|█████████████████████████████████████████████████▋                                | 94/155 [00:15<00:09,  6.30it/s]"
     ]
    },
    {
     "name": "stdout",
     "output_type": "stream",
     "text": [
      "mask ouput torch.Size([3, 254, 64])\n",
      "reshaped masked output torch.Size([3, 16256])\n",
      "fc ouput torch.Size([3, 32])\n",
      "logits torch.Size([3, 2])\n",
      "classifier ouput torch.Size([3, 2])\n",
      "-----------------Loss: 0.5788847804069519-----------------------\n",
      "------BATCH ENDING-------\n",
      "--------------------------------------------------\n",
      "[tensor([35, 21, 33])]\n",
      "feature shape torch.Size([3, 254, 1, 112, 112])\n",
      "reshape input torch.Size([762, 1, 112, 112])\n",
      "CNN ouput torch.Size([762, 512])\n",
      "reshaped rnn_in torch.Size([3, 254, 512])\n",
      "RNN ouput torch.Size([3, 254, 64])\n",
      "mask ouput torch.Size([3, 254, 64])\n",
      "reshaped masked output torch.Size([3, 16256])\n",
      "fc ouput torch.Size([3, 32])\n",
      "logits torch.Size([3, 2])\n",
      "classifier ouput torch.Size([3, 2])\n",
      "-----------------Loss: 0.8529583811759949-----------------------\n",
      "------BATCH ENDING-------\n",
      "--------------------------------------------------\n",
      "[tensor([100,  33,  97])]\n",
      "feature shape torch.Size([3, 254, 1, 112, 112])\n",
      "reshape input torch.Size([762, 1, 112, 112])\n",
      "CNN ouput torch.Size([762, 512])\n",
      "reshaped rnn_in torch.Size([3, 254, 512])\n",
      "RNN ouput torch.Size([3, 254, 64])\n"
     ]
    },
    {
     "name": "stderr",
     "output_type": "stream",
     "text": [
      " 62%|██████████████████████████████████████████████████▊                               | 96/155 [00:15<00:09,  6.13it/s]"
     ]
    },
    {
     "name": "stdout",
     "output_type": "stream",
     "text": [
      "mask ouput torch.Size([3, 254, 64])\n",
      "reshaped masked output torch.Size([3, 16256])\n",
      "fc ouput torch.Size([3, 32])\n",
      "logits torch.Size([3, 2])\n",
      "classifier ouput torch.Size([3, 2])\n",
      "-----------------Loss: 0.3899436891078949-----------------------\n",
      "------BATCH ENDING-------\n",
      "--------------------------------------------------\n",
      "[tensor([ 26,  34, 109])]\n",
      "feature shape torch.Size([3, 254, 1, 112, 112])\n",
      "reshape input torch.Size([762, 1, 112, 112])\n",
      "CNN ouput torch.Size([762, 512])\n",
      "reshaped rnn_in torch.Size([3, 254, 512])\n",
      "RNN ouput torch.Size([3, 254, 64])\n",
      "mask ouput torch.Size([3, 254, 64])\n",
      "reshaped masked output torch.Size([3, 16256])\n",
      "fc ouput torch.Size([3, 32])\n",
      "logits torch.Size([3, 2])\n",
      "classifier ouput torch.Size([3, 2])\n",
      "-----------------Loss: 0.5277315974235535-----------------------\n",
      "------BATCH ENDING-------\n",
      "--------------------------------------------------\n",
      "[tensor([ 95, 103,  34])]\n",
      "feature shape torch.Size([3, 254, 1, 112, 112])\n",
      "reshape input torch.Size([762, 1, 112, 112])\n"
     ]
    },
    {
     "name": "stderr",
     "output_type": "stream",
     "text": [
      " 63%|███████████████████████████████████████████████████▎                              | 97/155 [00:15<00:09,  6.03it/s]"
     ]
    },
    {
     "name": "stdout",
     "output_type": "stream",
     "text": [
      "CNN ouput torch.Size([762, 512])\n",
      "reshaped rnn_in torch.Size([3, 254, 512])\n",
      "RNN ouput torch.Size([3, 254, 64])\n",
      "mask ouput torch.Size([3, 254, 64])\n",
      "reshaped masked output torch.Size([3, 16256])\n",
      "fc ouput torch.Size([3, 32])\n",
      "logits torch.Size([3, 2])\n",
      "classifier ouput torch.Size([3, 2])\n",
      "-----------------Loss: 0.646711528301239-----------------------\n",
      "------BATCH ENDING-------\n",
      "--------------------------------------------------\n",
      "[tensor([35, 35, 30])]\n",
      "feature shape torch.Size([3, 254, 1, 112, 112])\n",
      "reshape input torch.Size([762, 1, 112, 112])\n",
      "CNN ouput torch.Size([762, 512])\n",
      "reshaped rnn_in torch.Size([3, 254, 512])\n",
      "RNN ouput torch.Size([3, 254, 64])\n"
     ]
    },
    {
     "name": "stderr",
     "output_type": "stream",
     "text": [
      " 64%|████████████████████████████████████████████████████▎                             | 99/155 [00:16<00:09,  5.95it/s]"
     ]
    },
    {
     "name": "stdout",
     "output_type": "stream",
     "text": [
      "mask ouput torch.Size([3, 254, 64])\n",
      "reshaped masked output torch.Size([3, 16256])\n",
      "fc ouput torch.Size([3, 32])\n",
      "logits torch.Size([3, 2])\n",
      "classifier ouput torch.Size([3, 2])\n",
      "-----------------Loss: 0.8974799513816833-----------------------\n",
      "------BATCH ENDING-------\n",
      "--------------------------------------------------\n",
      "[tensor([189,  32, 106])]\n",
      "feature shape torch.Size([3, 254, 1, 112, 112])\n",
      "reshape input torch.Size([762, 1, 112, 112])\n",
      "CNN ouput torch.Size([762, 512])\n",
      "reshaped rnn_in torch.Size([3, 254, 512])\n",
      "RNN ouput torch.Size([3, 254, 64])\n",
      "mask ouput torch.Size([3, 254, 64])\n",
      "reshaped masked output torch.Size([3, 16256])\n",
      "fc ouput torch.Size([3, 32])\n",
      "logits torch.Size([3, 2])\n",
      "classifier ouput torch.Size([3, 2])\n",
      "-----------------Loss: 0.371442586183548-----------------------\n",
      "------BATCH ENDING-------\n",
      "--------------------------------------------------\n",
      "[tensor([189,  15,  33])]\n",
      "feature shape torch.Size([3, 254, 1, 112, 112])\n",
      "reshape input torch.Size([762, 1, 112, 112])\n",
      "CNN ouput torch.Size([762, 512])\n",
      "reshaped rnn_in torch.Size([3, 254, 512])\n",
      "RNN ouput torch.Size([3, 254, 64])\n"
     ]
    },
    {
     "name": "stderr",
     "output_type": "stream",
     "text": [
      " 65%|████████████████████████████████████████████████████▊                            | 101/155 [00:16<00:09,  5.82it/s]"
     ]
    },
    {
     "name": "stdout",
     "output_type": "stream",
     "text": [
      "mask ouput torch.Size([3, 254, 64])\n",
      "reshaped masked output torch.Size([3, 16256])\n",
      "fc ouput torch.Size([3, 32])\n",
      "logits torch.Size([3, 2])\n",
      "classifier ouput torch.Size([3, 2])\n",
      "-----------------Loss: 0.3951761722564697-----------------------\n",
      "------BATCH ENDING-------\n",
      "--------------------------------------------------\n",
      "[tensor([ 34, 103,  32])]\n",
      "feature shape torch.Size([3, 254, 1, 112, 112])\n",
      "reshape input torch.Size([762, 1, 112, 112])\n",
      "CNN ouput torch.Size([762, 512])\n",
      "reshaped rnn_in torch.Size([3, 254, 512])\n",
      "RNN ouput torch.Size([3, 254, 64])\n",
      "mask ouput torch.Size([3, 254, 64])\n",
      "reshaped masked output torch.Size([3, 16256])\n",
      "fc ouput torch.Size([3, 32])\n",
      "logits torch.Size([3, 2])\n",
      "classifier ouput torch.Size([3, 2])\n",
      "-----------------Loss: 0.5821964740753174-----------------------\n",
      "------BATCH ENDING-------\n",
      "--------------------------------------------------\n"
     ]
    },
    {
     "name": "stderr",
     "output_type": "stream",
     "text": [
      " 66%|█████████████████████████████████████████████████████▎                           | 102/155 [00:16<00:09,  5.64it/s]"
     ]
    },
    {
     "name": "stdout",
     "output_type": "stream",
     "text": [
      "[tensor([33, 97, 34])]\n",
      "feature shape torch.Size([3, 254, 1, 112, 112])\n",
      "reshape input torch.Size([762, 1, 112, 112])\n",
      "CNN ouput torch.Size([762, 512])\n",
      "reshaped rnn_in torch.Size([3, 254, 512])\n",
      "RNN ouput torch.Size([3, 254, 64])\n",
      "mask ouput torch.Size([3, 254, 64])\n",
      "reshaped masked output torch.Size([3, 16256])\n",
      "fc ouput torch.Size([3, 32])\n",
      "logits torch.Size([3, 2])\n",
      "classifier ouput torch.Size([3, 2])\n",
      "-----------------Loss: 0.46939539909362793-----------------------\n",
      "------BATCH ENDING-------\n",
      "--------------------------------------------------\n",
      "[tensor([31, 16, 34])]\n",
      "feature shape torch.Size([3, 254, 1, 112, 112])\n",
      "reshape input torch.Size([762, 1, 112, 112])\n",
      "CNN ouput torch.Size([762, 512])\n",
      "reshaped rnn_in torch.Size([3, 254, 512])\n",
      "RNN ouput torch.Size([3, 254, 64])\n"
     ]
    },
    {
     "name": "stderr",
     "output_type": "stream",
     "text": [
      " 67%|██████████████████████████████████████████████████████▎                          | 104/155 [00:16<00:09,  5.51it/s]"
     ]
    },
    {
     "name": "stdout",
     "output_type": "stream",
     "text": [
      "mask ouput torch.Size([3, 254, 64])\n",
      "reshaped masked output torch.Size([3, 16256])\n",
      "fc ouput torch.Size([3, 32])\n",
      "logits torch.Size([3, 2])\n",
      "classifier ouput torch.Size([3, 2])\n",
      "-----------------Loss: 0.5741252899169922-----------------------\n",
      "------BATCH ENDING-------\n",
      "--------------------------------------------------\n",
      "[tensor([ 15, 124,  97])]\n",
      "feature shape torch.Size([3, 254, 1, 112, 112])\n",
      "reshape input torch.Size([762, 1, 112, 112])\n",
      "CNN ouput torch.Size([762, 512])\n",
      "reshaped rnn_in torch.Size([3, 254, 512])\n",
      "RNN ouput torch.Size([3, 254, 64])\n",
      "mask ouput torch.Size([3, 254, 64])\n",
      "reshaped masked output torch.Size([3, 16256])\n",
      "fc ouput torch.Size([3, 32])\n",
      "logits torch.Size([3, 2])\n",
      "classifier ouput torch.Size([3, 2])\n",
      "-----------------Loss: 0.8488504886627197-----------------------\n",
      "------BATCH ENDING-------\n",
      "--------------------------------------------------\n"
     ]
    },
    {
     "name": "stderr",
     "output_type": "stream",
     "text": [
      " 68%|██████████████████████████████████████████████████████▊                          | 105/155 [00:17<00:08,  5.77it/s]"
     ]
    },
    {
     "name": "stdout",
     "output_type": "stream",
     "text": [
      "[tensor([33, 42, 33])]\n",
      "feature shape torch.Size([3, 254, 1, 112, 112])\n",
      "reshape input torch.Size([762, 1, 112, 112])\n",
      "CNN ouput torch.Size([762, 512])\n",
      "reshaped rnn_in torch.Size([3, 254, 512])\n",
      "RNN ouput torch.Size([3, 254, 64])\n",
      "mask ouput torch.Size([3, 254, 64])\n",
      "reshaped masked output torch.Size([3, 16256])\n",
      "fc ouput torch.Size([3, 32])\n",
      "logits torch.Size([3, 2])\n",
      "classifier ouput torch.Size([3, 2])\n",
      "-----------------Loss: 0.70656818151474-----------------------\n",
      "------BATCH ENDING-------\n",
      "--------------------------------------------------\n",
      "[tensor([ 35,  99, 107])]\n",
      "feature shape torch.Size([3, 254, 1, 112, 112])\n",
      "reshape input torch.Size([762, 1, 112, 112])\n",
      "CNN ouput torch.Size([762, 512])\n",
      "reshaped rnn_in torch.Size([3, 254, 512])\n",
      "RNN ouput torch.Size([3, 254, 64])\n"
     ]
    },
    {
     "name": "stderr",
     "output_type": "stream",
     "text": [
      " 69%|███████████████████████████████████████████████████████▉                         | 107/155 [00:17<00:07,  6.15it/s]"
     ]
    },
    {
     "name": "stdout",
     "output_type": "stream",
     "text": [
      "mask ouput torch.Size([3, 254, 64])\n",
      "reshaped masked output torch.Size([3, 16256])\n",
      "fc ouput torch.Size([3, 32])\n",
      "logits torch.Size([3, 2])\n",
      "classifier ouput torch.Size([3, 2])\n",
      "-----------------Loss: 0.6719784736633301-----------------------\n",
      "------BATCH ENDING-------\n",
      "--------------------------------------------------\n",
      "[tensor([16, 94, 17])]\n",
      "feature shape torch.Size([3, 254, 1, 112, 112])\n",
      "reshape input torch.Size([762, 1, 112, 112])\n",
      "CNN ouput torch.Size([762, 512])\n",
      "reshaped rnn_in torch.Size([3, 254, 512])\n",
      "RNN ouput torch.Size([3, 254, 64])\n",
      "mask ouput torch.Size([3, 254, 64])\n",
      "reshaped masked output torch.Size([3, 16256])\n",
      "fc ouput torch.Size([3, 32])\n",
      "logits torch.Size([3, 2])\n",
      "classifier ouput torch.Size([3, 2])\n",
      "-----------------Loss: 0.600663423538208-----------------------\n",
      "------BATCH ENDING-------\n",
      "--------------------------------------------------\n",
      "[tensor([34, 33, 34])]\n",
      "feature shape torch.Size([3, 254, 1, 112, 112])\n",
      "reshape input torch.Size([762, 1, 112, 112])\n",
      "CNN ouput torch.Size([762, 512])\n",
      "reshaped rnn_in torch.Size([3, 254, 512])\n",
      "RNN ouput torch.Size([3, 254, 64])\n"
     ]
    },
    {
     "name": "stderr",
     "output_type": "stream",
     "text": [
      " 70%|████████████████████████████████████████████████████████▉                        | 109/155 [00:17<00:07,  6.07it/s]"
     ]
    },
    {
     "name": "stdout",
     "output_type": "stream",
     "text": [
      "mask ouput torch.Size([3, 254, 64])\n",
      "reshaped masked output torch.Size([3, 16256])\n",
      "fc ouput torch.Size([3, 32])\n",
      "logits torch.Size([3, 2])\n",
      "classifier ouput torch.Size([3, 2])\n",
      "-----------------Loss: 0.6782829165458679-----------------------\n",
      "------BATCH ENDING-------\n",
      "--------------------------------------------------\n",
      "[tensor([ 34,  35, 212])]\n",
      "feature shape torch.Size([3, 254, 1, 112, 112])\n",
      "reshape input torch.Size([762, 1, 112, 112])\n",
      "CNN ouput torch.Size([762, 512])\n",
      "reshaped rnn_in torch.Size([3, 254, 512])\n",
      "RNN ouput torch.Size([3, 254, 64])\n",
      "mask ouput torch.Size([3, 254, 64])\n",
      "reshaped masked output torch.Size([3, 16256])\n",
      "fc ouput torch.Size([3, 32])\n",
      "logits torch.Size([3, 2])\n",
      "classifier ouput torch.Size([3, 2])\n",
      "-----------------Loss: 0.7992469668388367-----------------------\n",
      "------BATCH ENDING-------\n",
      "--------------------------------------------------\n",
      "[tensor([101, 207,  31])]\n",
      "feature shape torch.Size([3, 254, 1, 112, 112])\n",
      "reshape input torch.Size([762, 1, 112, 112])\n",
      "CNN ouput torch.Size([762, 512])\n",
      "reshaped rnn_in torch.Size([3, 254, 512])\n",
      "RNN ouput torch.Size([3, 254, 64])\n"
     ]
    },
    {
     "name": "stderr",
     "output_type": "stream",
     "text": [
      " 72%|██████████████████████████████████████████████████████████                       | 111/155 [00:18<00:07,  6.10it/s]"
     ]
    },
    {
     "name": "stdout",
     "output_type": "stream",
     "text": [
      "mask ouput torch.Size([3, 254, 64])\n",
      "reshaped masked output torch.Size([3, 16256])\n",
      "fc ouput torch.Size([3, 32])\n",
      "logits torch.Size([3, 2])\n",
      "classifier ouput torch.Size([3, 2])\n",
      "-----------------Loss: 0.3881012499332428-----------------------\n",
      "------BATCH ENDING-------\n",
      "--------------------------------------------------\n",
      "[tensor([ 33, 105,  14])]\n",
      "feature shape torch.Size([3, 254, 1, 112, 112])\n",
      "reshape input torch.Size([762, 1, 112, 112])\n",
      "CNN ouput torch.Size([762, 512])\n",
      "reshaped rnn_in torch.Size([3, 254, 512])\n",
      "RNN ouput torch.Size([3, 254, 64])\n",
      "mask ouput torch.Size([3, 254, 64])\n",
      "reshaped masked output torch.Size([3, 16256])\n",
      "fc ouput torch.Size([3, 32])\n",
      "logits torch.Size([3, 2])\n",
      "classifier ouput torch.Size([3, 2])\n",
      "-----------------Loss: 0.4967712163925171-----------------------\n",
      "------BATCH ENDING-------\n",
      "--------------------------------------------------\n",
      "[tensor([16, 11, 16])]\n",
      "feature shape torch.Size([3, 254, 1, 112, 112])\n",
      "reshape input torch.Size([762, 1, 112, 112])\n",
      "CNN ouput torch.Size([762, 512])\n",
      "reshaped rnn_in torch.Size([3, 254, 512])\n",
      "RNN ouput torch.Size([3, 254, 64])\n"
     ]
    },
    {
     "name": "stderr",
     "output_type": "stream",
     "text": [
      " 73%|███████████████████████████████████████████████████████████                      | 113/155 [00:18<00:06,  6.23it/s]"
     ]
    },
    {
     "name": "stdout",
     "output_type": "stream",
     "text": [
      "mask ouput torch.Size([3, 254, 64])\n",
      "reshaped masked output torch.Size([3, 16256])\n",
      "fc ouput torch.Size([3, 32])\n",
      "logits torch.Size([3, 2])\n",
      "classifier ouput torch.Size([3, 2])\n",
      "-----------------Loss: 0.6662538051605225-----------------------\n",
      "------BATCH ENDING-------\n",
      "--------------------------------------------------\n",
      "[tensor([102, 105,  33])]\n",
      "feature shape torch.Size([3, 254, 1, 112, 112])\n",
      "reshape input torch.Size([762, 1, 112, 112])\n",
      "CNN ouput torch.Size([762, 512])\n",
      "reshaped rnn_in torch.Size([3, 254, 512])\n",
      "RNN ouput torch.Size([3, 254, 64])\n",
      "mask ouput torch.Size([3, 254, 64])\n",
      "reshaped masked output torch.Size([3, 16256])\n",
      "fc ouput torch.Size([3, 32])\n",
      "logits torch.Size([3, 2])\n",
      "classifier ouput torch.Size([3, 2])\n",
      "-----------------Loss: 0.2950900197029114-----------------------\n",
      "------BATCH ENDING-------\n",
      "--------------------------------------------------\n",
      "[tensor([177,  78,  15])]\n",
      "feature shape torch.Size([3, 254, 1, 112, 112])\n",
      "reshape input torch.Size([762, 1, 112, 112])\n",
      "CNN ouput torch.Size([762, 512])\n",
      "reshaped rnn_in torch.Size([3, 254, 512])\n",
      "RNN ouput torch.Size([3, 254, 64])\n"
     ]
    },
    {
     "name": "stderr",
     "output_type": "stream",
     "text": [
      " 74%|████████████████████████████████████████████████████████████                     | 115/155 [00:18<00:06,  6.29it/s]"
     ]
    },
    {
     "name": "stdout",
     "output_type": "stream",
     "text": [
      "mask ouput torch.Size([3, 254, 64])\n",
      "reshaped masked output torch.Size([3, 16256])\n",
      "fc ouput torch.Size([3, 32])\n",
      "logits torch.Size([3, 2])\n",
      "classifier ouput torch.Size([3, 2])\n",
      "-----------------Loss: 0.44853973388671875-----------------------\n",
      "------BATCH ENDING-------\n",
      "--------------------------------------------------\n",
      "[tensor([17, 34, 99])]\n",
      "feature shape torch.Size([3, 254, 1, 112, 112])\n",
      "reshape input torch.Size([762, 1, 112, 112])\n",
      "CNN ouput torch.Size([762, 512])\n",
      "reshaped rnn_in torch.Size([3, 254, 512])\n",
      "RNN ouput torch.Size([3, 254, 64])\n",
      "mask ouput torch.Size([3, 254, 64])\n",
      "reshaped masked output torch.Size([3, 16256])\n",
      "fc ouput torch.Size([3, 32])\n",
      "logits torch.Size([3, 2])\n",
      "classifier ouput torch.Size([3, 2])\n",
      "-----------------Loss: 0.5844981670379639-----------------------\n",
      "------BATCH ENDING-------\n",
      "--------------------------------------------------\n",
      "[tensor([101, 101,  93])]\n",
      "feature shape torch.Size([3, 254, 1, 112, 112])\n",
      "reshape input torch.Size([762, 1, 112, 112])\n",
      "CNN ouput torch.Size([762, 512])\n",
      "reshaped rnn_in torch.Size([3, 254, 512])\n",
      "RNN ouput torch.Size([3, 254, 64])\n"
     ]
    },
    {
     "name": "stderr",
     "output_type": "stream",
     "text": [
      " 75%|█████████████████████████████████████████████████████████████▏                   | 117/155 [00:19<00:06,  6.24it/s]"
     ]
    },
    {
     "name": "stdout",
     "output_type": "stream",
     "text": [
      "mask ouput torch.Size([3, 254, 64])\n",
      "reshaped masked output torch.Size([3, 16256])\n",
      "fc ouput torch.Size([3, 32])\n",
      "logits torch.Size([3, 2])\n",
      "classifier ouput torch.Size([3, 2])\n",
      "-----------------Loss: 0.6942794322967529-----------------------\n",
      "------BATCH ENDING-------\n",
      "--------------------------------------------------\n",
      "[tensor([19, 16, 35])]\n",
      "feature shape torch.Size([3, 254, 1, 112, 112])\n",
      "reshape input torch.Size([762, 1, 112, 112])\n",
      "CNN ouput torch.Size([762, 512])\n",
      "reshaped rnn_in torch.Size([3, 254, 512])\n",
      "RNN ouput torch.Size([3, 254, 64])\n",
      "mask ouput torch.Size([3, 254, 64])\n",
      "reshaped masked output torch.Size([3, 16256])\n",
      "fc ouput torch.Size([3, 32])\n",
      "logits torch.Size([3, 2])\n",
      "classifier ouput torch.Size([3, 2])\n",
      "-----------------Loss: 0.7293643951416016-----------------------\n",
      "------BATCH ENDING-------\n",
      "--------------------------------------------------\n",
      "[tensor([101, 189,  17])]\n",
      "feature shape torch.Size([3, 254, 1, 112, 112])\n",
      "reshape input torch.Size([762, 1, 112, 112])\n",
      "CNN ouput torch.Size([762, 512])\n",
      "reshaped rnn_in torch.Size([3, 254, 512])\n",
      "RNN ouput torch.Size([3, 254, 64])\n"
     ]
    },
    {
     "name": "stderr",
     "output_type": "stream",
     "text": [
      " 77%|██████████████████████████████████████████████████████████████▏                  | 119/155 [00:19<00:05,  6.08it/s]"
     ]
    },
    {
     "name": "stdout",
     "output_type": "stream",
     "text": [
      "mask ouput torch.Size([3, 254, 64])\n",
      "reshaped masked output torch.Size([3, 16256])\n",
      "fc ouput torch.Size([3, 32])\n",
      "logits torch.Size([3, 2])\n",
      "classifier ouput torch.Size([3, 2])\n",
      "-----------------Loss: 0.746941864490509-----------------------\n",
      "------BATCH ENDING-------\n",
      "--------------------------------------------------\n",
      "[tensor([ 51, 100, 101])]\n",
      "feature shape torch.Size([3, 254, 1, 112, 112])\n",
      "reshape input torch.Size([762, 1, 112, 112])\n",
      "CNN ouput torch.Size([762, 512])\n",
      "reshaped rnn_in torch.Size([3, 254, 512])\n",
      "RNN ouput torch.Size([3, 254, 64])\n",
      "mask ouput torch.Size([3, 254, 64])\n",
      "reshaped masked output torch.Size([3, 16256])\n",
      "fc ouput torch.Size([3, 32])\n",
      "logits torch.Size([3, 2])\n",
      "classifier ouput torch.Size([3, 2])\n",
      "-----------------Loss: 0.606636643409729-----------------------\n",
      "------BATCH ENDING-------\n",
      "--------------------------------------------------\n",
      "[tensor([104,  33, 117])]\n",
      "feature shape torch.Size([3, 254, 1, 112, 112])\n",
      "reshape input torch.Size([762, 1, 112, 112])\n",
      "CNN ouput torch.Size([762, 512])\n",
      "reshaped rnn_in torch.Size([3, 254, 512])\n",
      "RNN ouput torch.Size([3, 254, 64])\n"
     ]
    },
    {
     "name": "stderr",
     "output_type": "stream",
     "text": [
      " 78%|███████████████████████████████████████████████████████████████▏                 | 121/155 [00:19<00:05,  6.33it/s]"
     ]
    },
    {
     "name": "stdout",
     "output_type": "stream",
     "text": [
      "mask ouput torch.Size([3, 254, 64])\n",
      "reshaped masked output torch.Size([3, 16256])\n",
      "fc ouput torch.Size([3, 32])\n",
      "logits torch.Size([3, 2])\n",
      "classifier ouput torch.Size([3, 2])\n",
      "-----------------Loss: 0.5613921284675598-----------------------\n",
      "------BATCH ENDING-------\n",
      "--------------------------------------------------\n",
      "[tensor([ 52,  32, 104])]\n",
      "feature shape torch.Size([3, 254, 1, 112, 112])\n",
      "reshape input torch.Size([762, 1, 112, 112])\n",
      "CNN ouput torch.Size([762, 512])\n",
      "reshaped rnn_in torch.Size([3, 254, 512])\n",
      "RNN ouput torch.Size([3, 254, 64])\n",
      "mask ouput torch.Size([3, 254, 64])\n",
      "reshaped masked output torch.Size([3, 16256])\n",
      "fc ouput torch.Size([3, 32])\n",
      "logits torch.Size([3, 2])\n",
      "classifier ouput torch.Size([3, 2])\n",
      "-----------------Loss: 0.6890830993652344-----------------------\n",
      "------BATCH ENDING-------\n",
      "--------------------------------------------------\n",
      "[tensor([ 31, 103, 112])]\n",
      "feature shape torch.Size([3, 254, 1, 112, 112])\n",
      "reshape input torch.Size([762, 1, 112, 112])\n",
      "CNN ouput torch.Size([762, 512])\n",
      "reshaped rnn_in torch.Size([3, 254, 512])\n",
      "RNN ouput torch.Size([3, 254, 64])\n"
     ]
    },
    {
     "name": "stderr",
     "output_type": "stream",
     "text": [
      " 79%|████████████████████████████████████████████████████████████████▎                | 123/155 [00:19<00:05,  6.31it/s]"
     ]
    },
    {
     "name": "stdout",
     "output_type": "stream",
     "text": [
      "mask ouput torch.Size([3, 254, 64])\n",
      "reshaped masked output torch.Size([3, 16256])\n",
      "fc ouput torch.Size([3, 32])\n",
      "logits torch.Size([3, 2])\n",
      "classifier ouput torch.Size([3, 2])\n",
      "-----------------Loss: 0.681075394153595-----------------------\n",
      "------BATCH ENDING-------\n",
      "--------------------------------------------------\n",
      "[tensor([ 34, 112,  13])]\n",
      "feature shape torch.Size([3, 254, 1, 112, 112])\n",
      "reshape input torch.Size([762, 1, 112, 112])\n",
      "CNN ouput torch.Size([762, 512])\n",
      "reshaped rnn_in torch.Size([3, 254, 512])\n",
      "RNN ouput torch.Size([3, 254, 64])\n",
      "mask ouput torch.Size([3, 254, 64])\n",
      "reshaped masked output torch.Size([3, 16256])\n",
      "fc ouput torch.Size([3, 32])\n",
      "logits torch.Size([3, 2])\n",
      "classifier ouput torch.Size([3, 2])\n",
      "-----------------Loss: 0.6191854476928711-----------------------\n",
      "------BATCH ENDING-------\n",
      "--------------------------------------------------\n",
      "[tensor([ 34,  34, 106])]\n",
      "feature shape torch.Size([3, 254, 1, 112, 112])\n",
      "reshape input torch.Size([762, 1, 112, 112])\n",
      "CNN ouput torch.Size([762, 512])\n",
      "reshaped rnn_in torch.Size([3, 254, 512])\n",
      "RNN ouput torch.Size([3, 254, 64])\n"
     ]
    },
    {
     "name": "stderr",
     "output_type": "stream",
     "text": [
      " 81%|█████████████████████████████████████████████████████████████████▎               | 125/155 [00:20<00:04,  6.27it/s]"
     ]
    },
    {
     "name": "stdout",
     "output_type": "stream",
     "text": [
      "mask ouput torch.Size([3, 254, 64])\n",
      "reshaped masked output torch.Size([3, 16256])\n",
      "fc ouput torch.Size([3, 32])\n",
      "logits torch.Size([3, 2])\n",
      "classifier ouput torch.Size([3, 2])\n",
      "-----------------Loss: 0.593458354473114-----------------------\n",
      "------BATCH ENDING-------\n",
      "--------------------------------------------------\n",
      "[tensor([ 31, 204, 103])]\n",
      "feature shape torch.Size([3, 254, 1, 112, 112])\n",
      "reshape input torch.Size([762, 1, 112, 112])\n",
      "CNN ouput torch.Size([762, 512])\n",
      "reshaped rnn_in torch.Size([3, 254, 512])\n",
      "RNN ouput torch.Size([3, 254, 64])\n",
      "mask ouput torch.Size([3, 254, 64])\n",
      "reshaped masked output torch.Size([3, 16256])\n",
      "fc ouput torch.Size([3, 32])\n",
      "logits torch.Size([3, 2])\n",
      "classifier ouput torch.Size([3, 2])\n",
      "-----------------Loss: 0.5280638933181763-----------------------\n",
      "------BATCH ENDING-------\n",
      "--------------------------------------------------\n",
      "[tensor([35, 52, 37])]\n",
      "feature shape torch.Size([3, 254, 1, 112, 112])\n",
      "reshape input torch.Size([762, 1, 112, 112])\n",
      "CNN ouput torch.Size([762, 512])\n",
      "reshaped rnn_in torch.Size([3, 254, 512])\n",
      "RNN ouput torch.Size([3, 254, 64])\n"
     ]
    },
    {
     "name": "stderr",
     "output_type": "stream",
     "text": [
      " 82%|██████████████████████████████████████████████████████████████████▎              | 127/155 [00:20<00:04,  6.03it/s]"
     ]
    },
    {
     "name": "stdout",
     "output_type": "stream",
     "text": [
      "mask ouput torch.Size([3, 254, 64])\n",
      "reshaped masked output torch.Size([3, 16256])\n",
      "fc ouput torch.Size([3, 32])\n",
      "logits torch.Size([3, 2])\n",
      "classifier ouput torch.Size([3, 2])\n",
      "-----------------Loss: 0.6945023536682129-----------------------\n",
      "------BATCH ENDING-------\n",
      "--------------------------------------------------\n",
      "[tensor([ 16,  51, 114])]\n",
      "feature shape torch.Size([3, 254, 1, 112, 112])\n",
      "reshape input torch.Size([762, 1, 112, 112])\n",
      "CNN ouput torch.Size([762, 512])\n",
      "reshaped rnn_in torch.Size([3, 254, 512])\n",
      "RNN ouput torch.Size([3, 254, 64])\n",
      "mask ouput torch.Size([3, 254, 64])\n",
      "reshaped masked output torch.Size([3, 16256])\n",
      "fc ouput torch.Size([3, 32])\n",
      "logits torch.Size([3, 2])\n",
      "classifier ouput torch.Size([3, 2])\n",
      "-----------------Loss: 0.5155914425849915-----------------------\n",
      "------BATCH ENDING-------\n",
      "--------------------------------------------------\n",
      "[tensor([35, 20, 50])]\n",
      "feature shape torch.Size([3, 254, 1, 112, 112])\n",
      "reshape input torch.Size([762, 1, 112, 112])\n",
      "CNN ouput torch.Size([762, 512])\n",
      "reshaped rnn_in torch.Size([3, 254, 512])\n",
      "RNN ouput torch.Size([3, 254, 64])\n"
     ]
    },
    {
     "name": "stderr",
     "output_type": "stream",
     "text": [
      " 83%|███████████████████████████████████████████████████████████████████▍             | 129/155 [00:20<00:04,  6.13it/s]"
     ]
    },
    {
     "name": "stdout",
     "output_type": "stream",
     "text": [
      "mask ouput torch.Size([3, 254, 64])\n",
      "reshaped masked output torch.Size([3, 16256])\n",
      "fc ouput torch.Size([3, 32])\n",
      "logits torch.Size([3, 2])\n",
      "classifier ouput torch.Size([3, 2])\n",
      "-----------------Loss: 0.7207479476928711-----------------------\n",
      "------BATCH ENDING-------\n",
      "--------------------------------------------------\n",
      "[tensor([210, 104,  80])]\n",
      "feature shape torch.Size([3, 254, 1, 112, 112])\n",
      "reshape input torch.Size([762, 1, 112, 112])\n",
      "CNN ouput torch.Size([762, 512])\n",
      "reshaped rnn_in torch.Size([3, 254, 512])\n",
      "RNN ouput torch.Size([3, 254, 64])\n",
      "mask ouput torch.Size([3, 254, 64])\n",
      "reshaped masked output torch.Size([3, 16256])\n",
      "fc ouput torch.Size([3, 32])\n",
      "logits torch.Size([3, 2])\n",
      "classifier ouput torch.Size([3, 2])\n",
      "-----------------Loss: 0.43605461716651917-----------------------\n",
      "------BATCH ENDING-------\n",
      "--------------------------------------------------\n",
      "[tensor([ 34,  33, 101])]\n",
      "feature shape torch.Size([3, 254, 1, 112, 112])\n",
      "reshape input torch.Size([762, 1, 112, 112])\n",
      "CNN ouput torch.Size([762, 512])\n",
      "reshaped rnn_in torch.Size([3, 254, 512])\n",
      "RNN ouput torch.Size([3, 254, 64])\n"
     ]
    },
    {
     "name": "stderr",
     "output_type": "stream",
     "text": [
      " 85%|████████████████████████████████████████████████████████████████████▍            | 131/155 [00:21<00:03,  6.29it/s]"
     ]
    },
    {
     "name": "stdout",
     "output_type": "stream",
     "text": [
      "mask ouput torch.Size([3, 254, 64])\n",
      "reshaped masked output torch.Size([3, 16256])\n",
      "fc ouput torch.Size([3, 32])\n",
      "logits torch.Size([3, 2])\n",
      "classifier ouput torch.Size([3, 2])\n",
      "-----------------Loss: 0.7819617390632629-----------------------\n",
      "------BATCH ENDING-------\n",
      "--------------------------------------------------\n",
      "[tensor([107,  31,  35])]\n",
      "feature shape torch.Size([3, 254, 1, 112, 112])\n",
      "reshape input torch.Size([762, 1, 112, 112])\n",
      "CNN ouput torch.Size([762, 512])\n",
      "reshaped rnn_in torch.Size([3, 254, 512])\n",
      "RNN ouput torch.Size([3, 254, 64])\n",
      "mask ouput torch.Size([3, 254, 64])\n",
      "reshaped masked output torch.Size([3, 16256])\n",
      "fc ouput torch.Size([3, 32])\n",
      "logits torch.Size([3, 2])\n",
      "classifier ouput torch.Size([3, 2])\n",
      "-----------------Loss: 0.4516390860080719-----------------------\n",
      "------BATCH ENDING-------\n",
      "--------------------------------------------------\n",
      "[tensor([174,  17,  91])]\n",
      "feature shape torch.Size([3, 254, 1, 112, 112])\n",
      "reshape input torch.Size([762, 1, 112, 112])\n",
      "CNN ouput torch.Size([762, 512])\n",
      "reshaped rnn_in torch.Size([3, 254, 512])\n",
      "RNN ouput torch.Size([3, 254, 64])\n"
     ]
    },
    {
     "name": "stderr",
     "output_type": "stream",
     "text": [
      " 86%|█████████████████████████████████████████████████████████████████████▌           | 133/155 [00:21<00:03,  6.44it/s]"
     ]
    },
    {
     "name": "stdout",
     "output_type": "stream",
     "text": [
      "mask ouput torch.Size([3, 254, 64])\n",
      "reshaped masked output torch.Size([3, 16256])\n",
      "fc ouput torch.Size([3, 32])\n",
      "logits torch.Size([3, 2])\n",
      "classifier ouput torch.Size([3, 2])\n",
      "-----------------Loss: 0.45351818203926086-----------------------\n",
      "------BATCH ENDING-------\n",
      "--------------------------------------------------\n",
      "[tensor([250,  40, 102])]\n",
      "feature shape torch.Size([3, 254, 1, 112, 112])\n",
      "reshape input torch.Size([762, 1, 112, 112])\n",
      "CNN ouput torch.Size([762, 512])\n",
      "reshaped rnn_in torch.Size([3, 254, 512])\n",
      "RNN ouput torch.Size([3, 254, 64])\n",
      "mask ouput torch.Size([3, 254, 64])\n",
      "reshaped masked output torch.Size([3, 16256])\n",
      "fc ouput torch.Size([3, 32])\n",
      "logits torch.Size([3, 2])\n",
      "classifier ouput torch.Size([3, 2])\n",
      "-----------------Loss: 0.4893814027309418-----------------------\n",
      "------BATCH ENDING-------\n",
      "--------------------------------------------------\n",
      "[tensor([102, 102,  33])]\n",
      "feature shape torch.Size([3, 254, 1, 112, 112])\n",
      "reshape input torch.Size([762, 1, 112, 112])\n",
      "CNN ouput torch.Size([762, 512])\n",
      "reshaped rnn_in torch.Size([3, 254, 512])\n",
      "RNN ouput torch.Size([3, 254, 64])\n"
     ]
    },
    {
     "name": "stderr",
     "output_type": "stream",
     "text": [
      " 87%|██████████████████████████████████████████████████████████████████████▌          | 135/155 [00:21<00:03,  6.38it/s]"
     ]
    },
    {
     "name": "stdout",
     "output_type": "stream",
     "text": [
      "mask ouput torch.Size([3, 254, 64])\n",
      "reshaped masked output torch.Size([3, 16256])\n",
      "fc ouput torch.Size([3, 32])\n",
      "logits torch.Size([3, 2])\n",
      "classifier ouput torch.Size([3, 2])\n",
      "-----------------Loss: 0.5353878140449524-----------------------\n",
      "------BATCH ENDING-------\n",
      "--------------------------------------------------\n",
      "[tensor([ 34, 100, 105])]\n",
      "feature shape torch.Size([3, 254, 1, 112, 112])\n",
      "reshape input torch.Size([762, 1, 112, 112])\n",
      "CNN ouput torch.Size([762, 512])\n",
      "reshaped rnn_in torch.Size([3, 254, 512])\n",
      "RNN ouput torch.Size([3, 254, 64])\n",
      "mask ouput torch.Size([3, 254, 64])\n",
      "reshaped masked output torch.Size([3, 16256])\n",
      "fc ouput torch.Size([3, 32])\n",
      "logits torch.Size([3, 2])\n",
      "classifier ouput torch.Size([3, 2])\n",
      "-----------------Loss: 0.36655333638191223-----------------------\n",
      "------BATCH ENDING-------\n",
      "--------------------------------------------------\n",
      "[tensor([ 32, 105,  32])]\n",
      "feature shape torch.Size([3, 254, 1, 112, 112])\n",
      "reshape input torch.Size([762, 1, 112, 112])\n",
      "CNN ouput torch.Size([762, 512])\n",
      "reshaped rnn_in torch.Size([3, 254, 512])\n",
      "RNN ouput torch.Size([3, 254, 64])\n"
     ]
    },
    {
     "name": "stderr",
     "output_type": "stream",
     "text": [
      " 88%|███████████████████████████████████████████████████████████████████████▌         | 137/155 [00:22<00:02,  6.24it/s]"
     ]
    },
    {
     "name": "stdout",
     "output_type": "stream",
     "text": [
      "mask ouput torch.Size([3, 254, 64])\n",
      "reshaped masked output torch.Size([3, 16256])\n",
      "fc ouput torch.Size([3, 32])\n",
      "logits torch.Size([3, 2])\n",
      "classifier ouput torch.Size([3, 2])\n",
      "-----------------Loss: 0.9201979637145996-----------------------\n",
      "------BATCH ENDING-------\n",
      "--------------------------------------------------\n",
      "[tensor([49, 35, 35])]\n",
      "feature shape torch.Size([3, 254, 1, 112, 112])\n",
      "reshape input torch.Size([762, 1, 112, 112])\n",
      "CNN ouput torch.Size([762, 512])\n",
      "reshaped rnn_in torch.Size([3, 254, 512])\n",
      "RNN ouput torch.Size([3, 254, 64])\n",
      "mask ouput torch.Size([3, 254, 64])\n",
      "reshaped masked output torch.Size([3, 16256])\n",
      "fc ouput torch.Size([3, 32])\n",
      "logits torch.Size([3, 2])\n",
      "classifier ouput torch.Size([3, 2])\n",
      "-----------------Loss: 0.5898292064666748-----------------------\n",
      "------BATCH ENDING-------\n",
      "--------------------------------------------------\n",
      "[tensor([ 33,  95, 106])]\n",
      "feature shape torch.Size([3, 254, 1, 112, 112])\n",
      "reshape input torch.Size([762, 1, 112, 112])\n",
      "CNN ouput torch.Size([762, 512])\n",
      "reshaped rnn_in torch.Size([3, 254, 512])\n",
      "RNN ouput torch.Size([3, 254, 64])\n"
     ]
    },
    {
     "name": "stderr",
     "output_type": "stream",
     "text": [
      " 90%|████████████████████████████████████████████████████████████████████████▋        | 139/155 [00:22<00:02,  6.13it/s]"
     ]
    },
    {
     "name": "stdout",
     "output_type": "stream",
     "text": [
      "mask ouput torch.Size([3, 254, 64])\n",
      "reshaped masked output torch.Size([3, 16256])\n",
      "fc ouput torch.Size([3, 32])\n",
      "logits torch.Size([3, 2])\n",
      "classifier ouput torch.Size([3, 2])\n",
      "-----------------Loss: 0.34999433159828186-----------------------\n",
      "------BATCH ENDING-------\n",
      "--------------------------------------------------\n",
      "[tensor([209,  96,  32])]\n",
      "feature shape torch.Size([3, 254, 1, 112, 112])\n",
      "reshape input torch.Size([762, 1, 112, 112])\n",
      "CNN ouput torch.Size([762, 512])\n",
      "reshaped rnn_in torch.Size([3, 254, 512])\n",
      "RNN ouput torch.Size([3, 254, 64])\n",
      "mask ouput torch.Size([3, 254, 64])\n",
      "reshaped masked output torch.Size([3, 16256])\n",
      "fc ouput torch.Size([3, 32])\n",
      "logits torch.Size([3, 2])\n",
      "classifier ouput torch.Size([3, 2])\n",
      "-----------------Loss: 0.3995154798030853-----------------------\n",
      "------BATCH ENDING-------\n",
      "--------------------------------------------------\n",
      "[tensor([35, 92, 30])]\n",
      "feature shape torch.Size([3, 254, 1, 112, 112])\n",
      "reshape input torch.Size([762, 1, 112, 112])\n",
      "CNN ouput torch.Size([762, 512])\n",
      "reshaped rnn_in torch.Size([3, 254, 512])\n",
      "RNN ouput torch.Size([3, 254, 64])\n"
     ]
    },
    {
     "name": "stderr",
     "output_type": "stream",
     "text": [
      " 91%|█████████████████████████████████████████████████████████████████████████▋       | 141/155 [00:22<00:02,  6.09it/s]"
     ]
    },
    {
     "name": "stdout",
     "output_type": "stream",
     "text": [
      "mask ouput torch.Size([3, 254, 64])\n",
      "reshaped masked output torch.Size([3, 16256])\n",
      "fc ouput torch.Size([3, 32])\n",
      "logits torch.Size([3, 2])\n",
      "classifier ouput torch.Size([3, 2])\n",
      "-----------------Loss: 0.6162834167480469-----------------------\n",
      "------BATCH ENDING-------\n",
      "--------------------------------------------------\n",
      "[tensor([ 16, 106,  24])]\n",
      "feature shape torch.Size([3, 254, 1, 112, 112])\n",
      "reshape input torch.Size([762, 1, 112, 112])\n",
      "CNN ouput torch.Size([762, 512])\n",
      "reshaped rnn_in torch.Size([3, 254, 512])\n",
      "RNN ouput torch.Size([3, 254, 64])\n",
      "mask ouput torch.Size([3, 254, 64])\n",
      "reshaped masked output torch.Size([3, 16256])\n",
      "fc ouput torch.Size([3, 32])\n",
      "logits torch.Size([3, 2])\n",
      "classifier ouput torch.Size([3, 2])\n",
      "-----------------Loss: 0.7333044409751892-----------------------\n",
      "------BATCH ENDING-------\n",
      "--------------------------------------------------\n",
      "[tensor([ 35, 202,  15])]\n",
      "feature shape torch.Size([3, 254, 1, 112, 112])\n",
      "reshape input torch.Size([762, 1, 112, 112])\n",
      "CNN ouput torch.Size([762, 512])\n",
      "reshaped rnn_in torch.Size([3, 254, 512])\n",
      "RNN ouput torch.Size([3, 254, 64])\n"
     ]
    },
    {
     "name": "stderr",
     "output_type": "stream",
     "text": [
      " 92%|██████████████████████████████████████████████████████████████████████████▋      | 143/155 [00:23<00:01,  6.29it/s]"
     ]
    },
    {
     "name": "stdout",
     "output_type": "stream",
     "text": [
      "mask ouput torch.Size([3, 254, 64])\n",
      "reshaped masked output torch.Size([3, 16256])\n",
      "fc ouput torch.Size([3, 32])\n",
      "logits torch.Size([3, 2])\n",
      "classifier ouput torch.Size([3, 2])\n",
      "-----------------Loss: 0.46354326605796814-----------------------\n",
      "------BATCH ENDING-------\n",
      "--------------------------------------------------\n",
      "[tensor([ 33,  34, 226])]\n",
      "feature shape torch.Size([3, 254, 1, 112, 112])\n",
      "reshape input torch.Size([762, 1, 112, 112])\n",
      "CNN ouput torch.Size([762, 512])\n",
      "reshaped rnn_in torch.Size([3, 254, 512])\n",
      "RNN ouput torch.Size([3, 254, 64])\n",
      "mask ouput torch.Size([3, 254, 64])\n",
      "reshaped masked output torch.Size([3, 16256])\n",
      "fc ouput torch.Size([3, 32])\n",
      "logits torch.Size([3, 2])\n",
      "classifier ouput torch.Size([3, 2])\n",
      "-----------------Loss: 0.5494210124015808-----------------------\n",
      "------BATCH ENDING-------\n",
      "--------------------------------------------------\n",
      "[tensor([ 34, 102, 201])]\n",
      "feature shape torch.Size([3, 254, 1, 112, 112])\n",
      "reshape input torch.Size([762, 1, 112, 112])\n",
      "CNN ouput torch.Size([762, 512])\n",
      "reshaped rnn_in torch.Size([3, 254, 512])\n",
      "RNN ouput torch.Size([3, 254, 64])\n"
     ]
    },
    {
     "name": "stderr",
     "output_type": "stream",
     "text": [
      " 94%|███████████████████████████████████████████████████████████████████████████▊     | 145/155 [00:23<00:01,  6.39it/s]"
     ]
    },
    {
     "name": "stdout",
     "output_type": "stream",
     "text": [
      "mask ouput torch.Size([3, 254, 64])\n",
      "reshaped masked output torch.Size([3, 16256])\n",
      "fc ouput torch.Size([3, 32])\n",
      "logits torch.Size([3, 2])\n",
      "classifier ouput torch.Size([3, 2])\n",
      "-----------------Loss: 0.5688727498054504-----------------------\n",
      "------BATCH ENDING-------\n",
      "--------------------------------------------------\n",
      "[tensor([109, 102,  34])]\n",
      "feature shape torch.Size([3, 254, 1, 112, 112])\n",
      "reshape input torch.Size([762, 1, 112, 112])\n",
      "CNN ouput torch.Size([762, 512])\n",
      "reshaped rnn_in torch.Size([3, 254, 512])\n",
      "RNN ouput torch.Size([3, 254, 64])\n",
      "mask ouput torch.Size([3, 254, 64])\n",
      "reshaped masked output torch.Size([3, 16256])\n",
      "fc ouput torch.Size([3, 32])\n",
      "logits torch.Size([3, 2])\n",
      "classifier ouput torch.Size([3, 2])\n",
      "-----------------Loss: 0.5431707501411438-----------------------\n",
      "------BATCH ENDING-------\n",
      "--------------------------------------------------\n",
      "[tensor([101,  33,  13])]\n",
      "feature shape torch.Size([3, 254, 1, 112, 112])\n",
      "reshape input torch.Size([762, 1, 112, 112])\n",
      "CNN ouput torch.Size([762, 512])\n",
      "reshaped rnn_in torch.Size([3, 254, 512])\n",
      "RNN ouput torch.Size([3, 254, 64])\n"
     ]
    },
    {
     "name": "stderr",
     "output_type": "stream",
     "text": [
      " 95%|████████████████████████████████████████████████████████████████████████████▊    | 147/155 [00:23<00:01,  6.47it/s]"
     ]
    },
    {
     "name": "stdout",
     "output_type": "stream",
     "text": [
      "mask ouput torch.Size([3, 254, 64])\n",
      "reshaped masked output torch.Size([3, 16256])\n",
      "fc ouput torch.Size([3, 32])\n",
      "logits torch.Size([3, 2])\n",
      "classifier ouput torch.Size([3, 2])\n",
      "-----------------Loss: 0.5282243490219116-----------------------\n",
      "------BATCH ENDING-------\n",
      "--------------------------------------------------\n",
      "[tensor([ 17, 101, 109])]\n",
      "feature shape torch.Size([3, 254, 1, 112, 112])\n",
      "reshape input torch.Size([762, 1, 112, 112])\n",
      "CNN ouput torch.Size([762, 512])\n",
      "reshaped rnn_in torch.Size([3, 254, 512])\n",
      "RNN ouput torch.Size([3, 254, 64])\n",
      "mask ouput torch.Size([3, 254, 64])\n",
      "reshaped masked output torch.Size([3, 16256])\n",
      "fc ouput torch.Size([3, 32])\n",
      "logits torch.Size([3, 2])\n",
      "classifier ouput torch.Size([3, 2])\n",
      "-----------------Loss: 0.4041775166988373-----------------------\n",
      "------BATCH ENDING-------\n",
      "--------------------------------------------------\n",
      "[tensor([106,  18,  33])]\n",
      "feature shape torch.Size([3, 254, 1, 112, 112])\n",
      "reshape input torch.Size([762, 1, 112, 112])\n",
      "CNN ouput torch.Size([762, 512])\n",
      "reshaped rnn_in torch.Size([3, 254, 512])\n",
      "RNN ouput torch.Size([3, 254, 64])\n"
     ]
    },
    {
     "name": "stderr",
     "output_type": "stream",
     "text": [
      " 96%|█████████████████████████████████████████████████████████████████████████████▊   | 149/155 [00:24<00:00,  6.45it/s]"
     ]
    },
    {
     "name": "stdout",
     "output_type": "stream",
     "text": [
      "mask ouput torch.Size([3, 254, 64])\n",
      "reshaped masked output torch.Size([3, 16256])\n",
      "fc ouput torch.Size([3, 32])\n",
      "logits torch.Size([3, 2])\n",
      "classifier ouput torch.Size([3, 2])\n",
      "-----------------Loss: 0.5252766013145447-----------------------\n",
      "------BATCH ENDING-------\n",
      "--------------------------------------------------\n",
      "[tensor([105,  34, 137])]\n",
      "feature shape torch.Size([3, 254, 1, 112, 112])\n",
      "reshape input torch.Size([762, 1, 112, 112])\n",
      "CNN ouput torch.Size([762, 512])\n",
      "reshaped rnn_in torch.Size([3, 254, 512])\n",
      "RNN ouput torch.Size([3, 254, 64])\n",
      "mask ouput torch.Size([3, 254, 64])\n",
      "reshaped masked output torch.Size([3, 16256])\n",
      "fc ouput torch.Size([3, 32])\n",
      "logits torch.Size([3, 2])\n",
      "classifier ouput torch.Size([3, 2])\n",
      "-----------------Loss: 0.6607081294059753-----------------------\n",
      "------BATCH ENDING-------\n",
      "--------------------------------------------------\n",
      "[tensor([ 34, 197,  34])]\n",
      "feature shape torch.Size([3, 254, 1, 112, 112])\n",
      "reshape input torch.Size([762, 1, 112, 112])\n",
      "CNN ouput torch.Size([762, 512])\n",
      "reshaped rnn_in torch.Size([3, 254, 512])\n",
      "RNN ouput torch.Size([3, 254, 64])\n"
     ]
    },
    {
     "name": "stderr",
     "output_type": "stream",
     "text": [
      " 97%|██████████████████████████████████████████████████████████████████████████████▉  | 151/155 [00:24<00:00,  6.47it/s]"
     ]
    },
    {
     "name": "stdout",
     "output_type": "stream",
     "text": [
      "mask ouput torch.Size([3, 254, 64])\n",
      "reshaped masked output torch.Size([3, 16256])\n",
      "fc ouput torch.Size([3, 32])\n",
      "logits torch.Size([3, 2])\n",
      "classifier ouput torch.Size([3, 2])\n",
      "-----------------Loss: 0.5380341410636902-----------------------\n",
      "------BATCH ENDING-------\n",
      "--------------------------------------------------\n",
      "[tensor([ 33,  20, 123])]\n",
      "feature shape torch.Size([3, 254, 1, 112, 112])\n",
      "reshape input torch.Size([762, 1, 112, 112])\n",
      "CNN ouput torch.Size([762, 512])\n",
      "reshaped rnn_in torch.Size([3, 254, 512])\n",
      "RNN ouput torch.Size([3, 254, 64])\n",
      "mask ouput torch.Size([3, 254, 64])\n",
      "reshaped masked output torch.Size([3, 16256])\n",
      "fc ouput torch.Size([3, 32])\n",
      "logits torch.Size([3, 2])\n",
      "classifier ouput torch.Size([3, 2])\n",
      "-----------------Loss: 0.6447934508323669-----------------------\n",
      "------BATCH ENDING-------\n",
      "--------------------------------------------------\n",
      "[tensor([49, 96, 90])]\n",
      "feature shape torch.Size([3, 254, 1, 112, 112])\n",
      "reshape input torch.Size([762, 1, 112, 112])\n",
      "CNN ouput torch.Size([762, 512])\n",
      "reshaped rnn_in torch.Size([3, 254, 512])\n",
      "RNN ouput torch.Size([3, 254, 64])\n"
     ]
    },
    {
     "name": "stderr",
     "output_type": "stream",
     "text": [
      " 99%|███████████████████████████████████████████████████████████████████████████████▉ | 153/155 [00:24<00:00,  6.42it/s]"
     ]
    },
    {
     "name": "stdout",
     "output_type": "stream",
     "text": [
      "mask ouput torch.Size([3, 254, 64])\n",
      "reshaped masked output torch.Size([3, 16256])\n",
      "fc ouput torch.Size([3, 32])\n",
      "logits torch.Size([3, 2])\n",
      "classifier ouput torch.Size([3, 2])\n",
      "-----------------Loss: 0.6964501738548279-----------------------\n",
      "------BATCH ENDING-------\n",
      "--------------------------------------------------\n",
      "[tensor([ 35,  33, 101])]\n",
      "feature shape torch.Size([3, 254, 1, 112, 112])\n",
      "reshape input torch.Size([762, 1, 112, 112])\n",
      "CNN ouput torch.Size([762, 512])\n",
      "reshaped rnn_in torch.Size([3, 254, 512])\n",
      "RNN ouput torch.Size([3, 254, 64])\n",
      "mask ouput torch.Size([3, 254, 64])\n",
      "reshaped masked output torch.Size([3, 16256])\n",
      "fc ouput torch.Size([3, 32])\n",
      "logits torch.Size([3, 2])\n",
      "classifier ouput torch.Size([3, 2])\n",
      "-----------------Loss: 0.4813872277736664-----------------------\n",
      "------BATCH ENDING-------\n",
      "--------------------------------------------------\n",
      "[tensor([ 46, 172,  17])]\n",
      "feature shape torch.Size([3, 254, 1, 112, 112])\n",
      "reshape input torch.Size([762, 1, 112, 112])\n",
      "CNN ouput torch.Size([762, 512])\n",
      "reshaped rnn_in torch.Size([3, 254, 512])\n",
      "RNN ouput torch.Size([3, 254, 64])\n"
     ]
    },
    {
     "name": "stderr",
     "output_type": "stream",
     "text": [
      "100%|█████████████████████████████████████████████████████████████████████████████████| 155/155 [00:25<00:00,  6.32it/s]"
     ]
    },
    {
     "name": "stdout",
     "output_type": "stream",
     "text": [
      "mask ouput torch.Size([3, 254, 64])\n",
      "reshaped masked output torch.Size([3, 16256])\n",
      "fc ouput torch.Size([3, 32])\n",
      "logits torch.Size([3, 2])\n",
      "classifier ouput torch.Size([3, 2])\n",
      "-----------------Loss: 0.44914767146110535-----------------------\n",
      "------BATCH ENDING-------\n",
      "--------------------------------------------------\n",
      "[tensor([102,  34,  35])]\n",
      "feature shape torch.Size([3, 254, 1, 112, 112])\n",
      "reshape input torch.Size([762, 1, 112, 112])\n",
      "CNN ouput torch.Size([762, 512])\n",
      "reshaped rnn_in torch.Size([3, 254, 512])\n",
      "RNN ouput torch.Size([3, 254, 64])\n",
      "mask ouput torch.Size([3, 254, 64])\n",
      "reshaped masked output torch.Size([3, 16256])\n",
      "fc ouput torch.Size([3, 32])\n",
      "logits torch.Size([3, 2])\n",
      "classifier ouput torch.Size([3, 2])\n",
      "-----------------Loss: 0.6879110932350159-----------------------\n",
      "------BATCH ENDING-------\n"
     ]
    },
    {
     "name": "stderr",
     "output_type": "stream",
     "text": [
      "100%|█████████████████████████████████████████████████████████████████████████████████| 155/155 [00:25<00:00,  6.17it/s]"
     ]
    },
    {
     "name": "stdout",
     "output_type": "stream",
     "text": [
      "Epoch: 5/5 | Loss: 0.60048 | Accuracy: 0.6667% | F1 Score: 0.6663 | AUROC: 0.7524 | Time: 25.130343675613403\n",
      "Epoch Training Time: 2.240338619550069 min | Avg Loss: 0.65101 | Avg Accuracy: 0.5983% | Avg F1 Score: 0.5792 | Avg AUROC:0.6500\n"
     ]
    },
    {
     "name": "stderr",
     "output_type": "stream",
     "text": [
      "\n"
     ]
    },
    {
     "name": "stdout",
     "output_type": "stream",
     "text": [
      "[tensor([ 35, 101,  20])]\n",
      "reshape input torch.Size([762, 1, 112, 112])\n",
      "CNN ouput torch.Size([762, 512])\n",
      "reshaped rnn_in torch.Size([3, 254, 512])\n",
      "RNN ouput torch.Size([3, 254, 64])\n",
      "mask ouput torch.Size([3, 254, 64])\n",
      "reshaped masked output torch.Size([3, 16256])\n",
      "fc ouput torch.Size([3, 32])\n",
      "logits torch.Size([3, 2])\n",
      "classifier ouput torch.Size([3, 2])\n",
      "------BATCH ENDING-------\n"
     ]
    },
    {
     "ename": "KeyError",
     "evalue": "'test_loss'",
     "output_type": "error",
     "traceback": [
      "\u001b[0;31m---------------------------------------------------------------------------\u001b[0m",
      "\u001b[0;31mKeyError\u001b[0m                                  Traceback (most recent call last)",
      "Cell \u001b[0;32mIn[4], line 1\u001b[0m\n\u001b[0;32m----> 1\u001b[0m \u001b[43mtrain\u001b[49m\u001b[43m(\u001b[49m\u001b[43mMODEL\u001b[49m\u001b[43m,\u001b[49m\u001b[43m \u001b[49m\u001b[43mLEARNING_RATE\u001b[49m\u001b[43m,\u001b[49m\u001b[43m \u001b[49m\u001b[43mNUM_CLASSES\u001b[49m\u001b[43m,\u001b[49m\u001b[43m \u001b[49m\u001b[43mPATH\u001b[49m\u001b[43m,\u001b[49m\u001b[43m \u001b[49m\u001b[43mNUM_EPOCHS\u001b[49m\u001b[43m,\u001b[49m\u001b[43m \u001b[49m\u001b[43mKFOLD\u001b[49m\u001b[43m,\u001b[49m\u001b[43m \u001b[49m\u001b[43mBATCH_SIZE\u001b[49m\u001b[43m,\u001b[49m\u001b[43m \u001b[49m\u001b[43mNUM_WORKERS\u001b[49m\u001b[43m,\u001b[49m\u001b[43m \u001b[49m\u001b[43mDEVICE\u001b[49m\u001b[43m)\u001b[49m\n",
      "File \u001b[0;32m~/karanjot/thesis/RSNA/4 Task custom architecture/train.py:101\u001b[0m, in \u001b[0;36mtrain\u001b[0;34m(MODEL, lr, num_classes, path, epochs, n_fold, batch_size, num_workers, device)\u001b[0m\n\u001b[1;32m     90\u001b[0m trainer\u001b[38;5;241m.\u001b[39mfit(epochs,\n\u001b[1;32m     91\u001b[0m             train_loader,\n\u001b[1;32m     92\u001b[0m             save_path \u001b[38;5;241m=\u001b[39m \u001b[38;5;124m'\u001b[39m\u001b[38;5;124m./checkpoints/f\u001b[39m\u001b[38;5;124m\"\u001b[39m\u001b[38;5;124mRACNet_model-\u001b[39m\u001b[38;5;132;01m{fold}\u001b[39;00m\u001b[38;5;124m.pth\u001b[39m\u001b[38;5;124m'\u001b[39m,\n\u001b[1;32m     93\u001b[0m             patience \u001b[38;5;241m=\u001b[39m \u001b[38;5;241m5\u001b[39m\n\u001b[1;32m     94\u001b[0m            )\n\u001b[1;32m     96\u001b[0m \u001b[38;5;66;03m#trainer.plot_loss()\u001b[39;00m\n\u001b[1;32m     97\u001b[0m \u001b[38;5;66;03m#trainer.plot_score()\u001b[39;00m\n\u001b[1;32m     98\u001b[0m \u001b[38;5;66;03m#trainer.plot_fscore()\u001b[39;00m\n\u001b[1;32m     99\u001b[0m         \n\u001b[1;32m    100\u001b[0m \u001b[38;5;66;03m#testing loop\u001b[39;00m\n\u001b[0;32m--> 101\u001b[0m loss, test_acc, test_f1, test_auroc \u001b[38;5;241m=\u001b[39m \u001b[43mtrainer\u001b[49m\u001b[38;5;241;43m.\u001b[39;49m\u001b[43mtest\u001b[49m\u001b[43m(\u001b[49m\u001b[43mtest_loader\u001b[49m\u001b[43m)\u001b[49m\n\u001b[1;32m    102\u001b[0m fold_loss\u001b[38;5;241m.\u001b[39mappend(loss)\n\u001b[1;32m    103\u001b[0m fold_acc\u001b[38;5;241m.\u001b[39mappend(test_acc)\n",
      "File \u001b[0;32m~/karanjot/thesis/RSNA/4 Task custom architecture/trainer.py:149\u001b[0m, in \u001b[0;36mTrainer.test\u001b[0;34m(self, test_loader)\u001b[0m\n\u001b[1;32m    146\u001b[0m test_f1\u001b[38;5;241m.\u001b[39mreset()\n\u001b[1;32m    147\u001b[0m test_auroc\u001b[38;5;241m.\u001b[39mreset()\n\u001b[0;32m--> 149\u001b[0m \u001b[38;5;28;43mself\u001b[39;49m\u001b[38;5;241;43m.\u001b[39;49m\u001b[43mhist\u001b[49m\u001b[43m[\u001b[49m\u001b[38;5;124;43m'\u001b[39;49m\u001b[38;5;124;43mtest_loss\u001b[39;49m\u001b[38;5;124;43m'\u001b[39;49m\u001b[43m]\u001b[49m\u001b[38;5;241m.\u001b[39mappend(_loss)\n\u001b[1;32m    150\u001b[0m \u001b[38;5;28mself\u001b[39m\u001b[38;5;241m.\u001b[39mhist[\u001b[38;5;124m'\u001b[39m\u001b[38;5;124mtest_acc\u001b[39m\u001b[38;5;124m'\u001b[39m]\u001b[38;5;241m.\u001b[39mappend(_acc)\n\u001b[1;32m    151\u001b[0m \u001b[38;5;28mself\u001b[39m\u001b[38;5;241m.\u001b[39mhist[\u001b[38;5;124m'\u001b[39m\u001b[38;5;124mtest_f1\u001b[39m\u001b[38;5;124m'\u001b[39m]\u001b[38;5;241m.\u001b[39mappend(_f1)\n",
      "\u001b[0;31mKeyError\u001b[0m: 'test_loss'"
     ]
    }
   ],
   "source": [
    "train(MODEL, LEARNING_RATE, NUM_CLASSES, PATH, NUM_EPOCHS, KFOLD, BATCH_SIZE, NUM_WORKERS, DEVICE)"
   ]
  },
  {
   "cell_type": "code",
   "execution_count": null,
   "metadata": {},
   "outputs": [],
   "source": []
  },
  {
   "cell_type": "code",
   "execution_count": null,
   "metadata": {},
   "outputs": [],
   "source": []
  },
  {
   "cell_type": "code",
   "execution_count": null,
   "metadata": {},
   "outputs": [],
   "source": []
  },
  {
   "cell_type": "code",
   "execution_count": null,
   "metadata": {},
   "outputs": [],
   "source": []
  },
  {
   "cell_type": "code",
   "execution_count": null,
   "metadata": {},
   "outputs": [],
   "source": []
  },
  {
   "cell_type": "markdown",
   "metadata": {},
   "source": [
    "# Evaluating the model"
   ]
  },
  {
   "cell_type": "code",
   "execution_count": null,
   "metadata": {},
   "outputs": [],
   "source": [
    "#visualising cofusion matrix\n",
    "from torchmetrics import ConfusionMatrix\n",
    "import matplotlib\n",
    "from mlxtend.plotting import plot_confusion_matrix\n",
    "\n",
    "cmat = ConfusionMatrix(task='multiclass', num_classes=NUM_CLASSES)\n",
    "\n",
    "for x, y in dm.test_dataloader():\n",
    "\n",
    "    with torch.no_grad():\n",
    "        pred = lightning_model(x)\n",
    "    cmat(pred, y)\n",
    "\n",
    "cmat_tensor = cmat.compute()\n",
    "cmat = cmat_tensor.numpy()\n",
    "\n",
    "fig, ax = plot_confusion_matrix(\n",
    "    conf_mat=cmat,\n",
    "    class_names=class_dict.values(),\n",
    "    norm_colormap=matplotlib.colors.LogNorm()  \n",
    "    # normed colormaps highlight the off-diagonals \n",
    "    # for high-accuracy models better\n",
    ")\n",
    "\n",
    "plt.show()"
   ]
  },
  {
   "cell_type": "code",
   "execution_count": 26,
   "metadata": {},
   "outputs": [],
   "source": [
    "import cv2"
   ]
  },
  {
   "cell_type": "code",
   "execution_count": 27,
   "metadata": {
    "editable": true,
    "slideshow": {
     "slide_type": ""
    },
    "tags": []
   },
   "outputs": [],
   "source": [
    "def load_image(path, size=(112,112)):\n",
    "    image = cv2.imread(path, 0)\n",
    "    if image is None:\n",
    "        return np.zeros()\n",
    "    \n",
    "    image = cv2.resize(image, size) / 255\n",
    "    return image.astype('f')"
   ]
  },
  {
   "cell_type": "code",
   "execution_count": 28,
   "metadata": {},
   "outputs": [],
   "source": [
    "paths =[]\n",
    "images=[load_image(path) for path in paths]\n",
    "org_size = len(images)"
   ]
  },
  {
   "cell_type": "code",
   "execution_count": 31,
   "metadata": {
    "editable": true,
    "slideshow": {
     "slide_type": ""
    },
    "tags": []
   },
   "outputs": [
    {
     "name": "stdout",
     "output_type": "stream",
     "text": [
      "dup tensor([[[0., 0., 0.,  ..., 0., 0., 0.],\n",
      "         [0., 0., 0.,  ..., 0., 0., 0.],\n",
      "         [0., 0., 0.,  ..., 0., 0., 0.],\n",
      "         ...,\n",
      "         [0., 0., 0.,  ..., 0., 0., 0.],\n",
      "         [0., 0., 0.,  ..., 0., 0., 0.],\n",
      "         [0., 0., 0.,  ..., 0., 0., 0.]]])\n"
     ]
    },
    {
     "name": "stderr",
     "output_type": "stream",
     "text": [
      "/tmp/ipykernel_3239/2694937284.py:10: UserWarning: To copy construct from a tensor, it is recommended to use sourceTensor.clone().detach() or sourceTensor.clone().detach().requires_grad_(True), rather than torch.tensor(sourceTensor).\n",
      "  images = [torch.tensor(image, dtype=torch.float32) for image in images]\n"
     ]
    }
   ],
   "source": [
    "dup_len = 254 - len(images)\n",
    "if org_size == 0:\n",
    "    dup = torch.zeros(1, 112, 112)\n",
    "    print('dup', dup)\n",
    "else:\n",
    "    dup = images[-1]\n",
    "for i in range(dup_len):\n",
    "    images.append(dup)\n",
    "\n",
    "images = [torch.tensor(image, dtype=torch.float32) for image in images]\n",
    "images = torch.stack(images)\n",
    "\n"
   ]
  },
  {
   "cell_type": "code",
   "execution_count": 32,
   "metadata": {},
   "outputs": [
    {
     "data": {
      "text/plain": [
       "torch.Size([254, 1, 112, 112])"
      ]
     },
     "execution_count": 32,
     "metadata": {},
     "output_type": "execute_result"
    }
   ],
   "source": [
    "images.shape"
   ]
  },
  {
   "cell_type": "code",
   "execution_count": 16,
   "metadata": {
    "editable": true,
    "slideshow": {
     "slide_type": ""
    },
    "tags": []
   },
   "outputs": [],
   "source": [
    "img = load_image('data/reduced_dataset/00002/FLAIR/Image-437.png')"
   ]
  },
  {
   "cell_type": "code",
   "execution_count": 17,
   "metadata": {},
   "outputs": [
    {
     "data": {
      "text/plain": [
       "(112, 112)"
      ]
     },
     "execution_count": 17,
     "metadata": {},
     "output_type": "execute_result"
    }
   ],
   "source": [
    "img.shape"
   ]
  },
  {
   "cell_type": "code",
   "execution_count": 19,
   "metadata": {},
   "outputs": [],
   "source": [
    "from PIL import Image"
   ]
  },
  {
   "cell_type": "code",
   "execution_count": 23,
   "metadata": {},
   "outputs": [],
   "source": [
    "ig = plt.imread('data/reduced_dataset/00002/FLAIR/Image-437.png')"
   ]
  },
  {
   "cell_type": "code",
   "execution_count": 25,
   "metadata": {},
   "outputs": [
    {
     "data": {
      "text/plain": [
       "array([[0., 0., 0., ..., 0., 0., 0.],\n",
       "       [0., 0., 0., ..., 0., 0., 0.],\n",
       "       [0., 0., 0., ..., 0., 0., 0.],\n",
       "       ...,\n",
       "       [0., 0., 0., ..., 0., 0., 0.],\n",
       "       [0., 0., 0., ..., 0., 0., 0.],\n",
       "       [0., 0., 0., ..., 0., 0., 0.]], dtype=float32)"
      ]
     },
     "execution_count": 25,
     "metadata": {},
     "output_type": "execute_result"
    }
   ],
   "source": [
    "ig"
   ]
  },
  {
   "cell_type": "code",
   "execution_count": 18,
   "metadata": {},
   "outputs": [
    {
     "data": {
      "text/plain": [
       "[array([[0., 0., 0., ..., 0., 0., 0.],\n",
       "        [0., 0., 0., ..., 0., 0., 0.],\n",
       "        [0., 0., 0., ..., 0., 0., 0.],\n",
       "        ...,\n",
       "        [0., 0., 0., ..., 0., 0., 0.],\n",
       "        [0., 0., 0., ..., 0., 0., 0.],\n",
       "        [0., 0., 0., ..., 0., 0., 0.]], dtype=float32)]"
      ]
     },
     "execution_count": 18,
     "metadata": {},
     "output_type": "execute_result"
    }
   ],
   "source": [
    "image = []\n",
    "image.append(img)\n",
    "image"
   ]
  },
  {
   "cell_type": "code",
   "execution_count": 19,
   "metadata": {},
   "outputs": [
    {
     "data": {
      "text/plain": [
       "array([[0., 0., 0., ..., 0., 0., 0.],\n",
       "       [0., 0., 0., ..., 0., 0., 0.],\n",
       "       [0., 0., 0., ..., 0., 0., 0.],\n",
       "       ...,\n",
       "       [0., 0., 0., ..., 0., 0., 0.],\n",
       "       [0., 0., 0., ..., 0., 0., 0.],\n",
       "       [0., 0., 0., ..., 0., 0., 0.]], dtype=float32)"
      ]
     },
     "execution_count": 19,
     "metadata": {},
     "output_type": "execute_result"
    }
   ],
   "source": [
    "dup = image[-1]\n",
    "dup\n"
   ]
  },
  {
   "cell_type": "code",
   "execution_count": 20,
   "metadata": {},
   "outputs": [
    {
     "data": {
      "text/plain": [
       "[array([[0., 0., 0., ..., 0., 0., 0.],\n",
       "        [0., 0., 0., ..., 0., 0., 0.],\n",
       "        [0., 0., 0., ..., 0., 0., 0.],\n",
       "        ...,\n",
       "        [0., 0., 0., ..., 0., 0., 0.],\n",
       "        [0., 0., 0., ..., 0., 0., 0.],\n",
       "        [0., 0., 0., ..., 0., 0., 0.]], dtype=float32),\n",
       " array([[0., 0., 0., ..., 0., 0., 0.],\n",
       "        [0., 0., 0., ..., 0., 0., 0.],\n",
       "        [0., 0., 0., ..., 0., 0., 0.],\n",
       "        ...,\n",
       "        [0., 0., 0., ..., 0., 0., 0.],\n",
       "        [0., 0., 0., ..., 0., 0., 0.],\n",
       "        [0., 0., 0., ..., 0., 0., 0.]], dtype=float32),\n",
       " array([[0., 0., 0., ..., 0., 0., 0.],\n",
       "        [0., 0., 0., ..., 0., 0., 0.],\n",
       "        [0., 0., 0., ..., 0., 0., 0.],\n",
       "        ...,\n",
       "        [0., 0., 0., ..., 0., 0., 0.],\n",
       "        [0., 0., 0., ..., 0., 0., 0.],\n",
       "        [0., 0., 0., ..., 0., 0., 0.]], dtype=float32),\n",
       " array([[0., 0., 0., ..., 0., 0., 0.],\n",
       "        [0., 0., 0., ..., 0., 0., 0.],\n",
       "        [0., 0., 0., ..., 0., 0., 0.],\n",
       "        ...,\n",
       "        [0., 0., 0., ..., 0., 0., 0.],\n",
       "        [0., 0., 0., ..., 0., 0., 0.],\n",
       "        [0., 0., 0., ..., 0., 0., 0.]], dtype=float32),\n",
       " array([[0., 0., 0., ..., 0., 0., 0.],\n",
       "        [0., 0., 0., ..., 0., 0., 0.],\n",
       "        [0., 0., 0., ..., 0., 0., 0.],\n",
       "        ...,\n",
       "        [0., 0., 0., ..., 0., 0., 0.],\n",
       "        [0., 0., 0., ..., 0., 0., 0.],\n",
       "        [0., 0., 0., ..., 0., 0., 0.]], dtype=float32)]"
      ]
     },
     "execution_count": 20,
     "metadata": {},
     "output_type": "execute_result"
    }
   ],
   "source": [
    "for i in range(4):\n",
    "    image.append(dup)\n",
    "\n",
    "image"
   ]
  },
  {
   "cell_type": "code",
   "execution_count": 25,
   "metadata": {},
   "outputs": [],
   "source": [
    "image = [torch.tensor(image, dtype=torch.float32) for image in image]\n"
   ]
  },
  {
   "cell_type": "code",
   "execution_count": 26,
   "metadata": {},
   "outputs": [
    {
     "data": {
      "text/plain": [
       "[tensor([[0., 0., 0.,  ..., 0., 0., 0.],\n",
       "         [0., 0., 0.,  ..., 0., 0., 0.],\n",
       "         [0., 0., 0.,  ..., 0., 0., 0.],\n",
       "         ...,\n",
       "         [0., 0., 0.,  ..., 0., 0., 0.],\n",
       "         [0., 0., 0.,  ..., 0., 0., 0.],\n",
       "         [0., 0., 0.,  ..., 0., 0., 0.]]),\n",
       " tensor([[0., 0., 0.,  ..., 0., 0., 0.],\n",
       "         [0., 0., 0.,  ..., 0., 0., 0.],\n",
       "         [0., 0., 0.,  ..., 0., 0., 0.],\n",
       "         ...,\n",
       "         [0., 0., 0.,  ..., 0., 0., 0.],\n",
       "         [0., 0., 0.,  ..., 0., 0., 0.],\n",
       "         [0., 0., 0.,  ..., 0., 0., 0.]]),\n",
       " tensor([[0., 0., 0.,  ..., 0., 0., 0.],\n",
       "         [0., 0., 0.,  ..., 0., 0., 0.],\n",
       "         [0., 0., 0.,  ..., 0., 0., 0.],\n",
       "         ...,\n",
       "         [0., 0., 0.,  ..., 0., 0., 0.],\n",
       "         [0., 0., 0.,  ..., 0., 0., 0.],\n",
       "         [0., 0., 0.,  ..., 0., 0., 0.]]),\n",
       " tensor([[0., 0., 0.,  ..., 0., 0., 0.],\n",
       "         [0., 0., 0.,  ..., 0., 0., 0.],\n",
       "         [0., 0., 0.,  ..., 0., 0., 0.],\n",
       "         ...,\n",
       "         [0., 0., 0.,  ..., 0., 0., 0.],\n",
       "         [0., 0., 0.,  ..., 0., 0., 0.],\n",
       "         [0., 0., 0.,  ..., 0., 0., 0.]]),\n",
       " tensor([[0., 0., 0.,  ..., 0., 0., 0.],\n",
       "         [0., 0., 0.,  ..., 0., 0., 0.],\n",
       "         [0., 0., 0.,  ..., 0., 0., 0.],\n",
       "         ...,\n",
       "         [0., 0., 0.,  ..., 0., 0., 0.],\n",
       "         [0., 0., 0.,  ..., 0., 0., 0.],\n",
       "         [0., 0., 0.,  ..., 0., 0., 0.]])]"
      ]
     },
     "execution_count": 26,
     "metadata": {},
     "output_type": "execute_result"
    }
   ],
   "source": [
    "image"
   ]
  },
  {
   "cell_type": "code",
   "execution_count": 27,
   "metadata": {},
   "outputs": [
    {
     "data": {
      "text/plain": [
       "tensor([[0., 0., 0.,  ..., 0., 0., 0.],\n",
       "        [0., 0., 0.,  ..., 0., 0., 0.],\n",
       "        [0., 0., 0.,  ..., 0., 0., 0.],\n",
       "        ...,\n",
       "        [0., 0., 0.,  ..., 0., 0., 0.],\n",
       "        [0., 0., 0.,  ..., 0., 0., 0.],\n",
       "        [0., 0., 0.,  ..., 0., 0., 0.]])"
      ]
     },
     "execution_count": 27,
     "metadata": {},
     "output_type": "execute_result"
    }
   ],
   "source": [
    "image[0]"
   ]
  },
  {
   "cell_type": "code",
   "execution_count": 29,
   "metadata": {},
   "outputs": [
    {
     "data": {
      "text/plain": [
       "torch.Size([112, 112])"
      ]
     },
     "execution_count": 29,
     "metadata": {},
     "output_type": "execute_result"
    }
   ],
   "source": [
    "image[0].shape\n"
   ]
  },
  {
   "cell_type": "code",
   "execution_count": 30,
   "metadata": {},
   "outputs": [],
   "source": [
    "image = torch.stack(image)"
   ]
  },
  {
   "cell_type": "code",
   "execution_count": 31,
   "metadata": {},
   "outputs": [
    {
     "data": {
      "text/plain": [
       "torch.Size([5, 112, 112])"
      ]
     },
     "execution_count": 31,
     "metadata": {},
     "output_type": "execute_result"
    }
   ],
   "source": [
    "image.shape"
   ]
  },
  {
   "cell_type": "code",
   "execution_count": 32,
   "metadata": {},
   "outputs": [
    {
     "data": {
      "text/plain": [
       "tensor([[0., 0., 0.,  ..., 0., 0., 0.],\n",
       "        [0., 0., 0.,  ..., 0., 0., 0.],\n",
       "        [0., 0., 0.,  ..., 0., 0., 0.],\n",
       "        ...,\n",
       "        [0., 0., 0.,  ..., 0., 0., 0.],\n",
       "        [0., 0., 0.,  ..., 0., 0., 0.],\n",
       "        [0., 0., 0.,  ..., 0., 0., 0.]])"
      ]
     },
     "execution_count": 32,
     "metadata": {},
     "output_type": "execute_result"
    }
   ],
   "source": []
  },
  {
   "cell_type": "code",
   "execution_count": 35,
   "metadata": {},
   "outputs": [],
   "source": [
    "images = []\n",
    "img = load_image('data/reduced_dataset/00002/FLAIR/Image-437.png')\n",
    "images.append(img)\n",
    "\n",
    "dup = images[-1]\n",
    "\n",
    "for i in range(4):\n",
    "    images.append(dup)\n",
    "\n",
    "images = [torch.tensor(image, dtype=torch.float32) for image in images]\n",
    "images = torch.vstack(images)"
   ]
  },
  {
   "cell_type": "code",
   "execution_count": 37,
   "metadata": {},
   "outputs": [
    {
     "data": {
      "text/plain": [
       "tensor([[0., 0., 0.,  ..., 0., 0., 0.],\n",
       "        [0., 0., 0.,  ..., 0., 0., 0.],\n",
       "        [0., 0., 0.,  ..., 0., 0., 0.],\n",
       "        ...,\n",
       "        [0., 0., 0.,  ..., 0., 0., 0.],\n",
       "        [0., 0., 0.,  ..., 0., 0., 0.],\n",
       "        [0., 0., 0.,  ..., 0., 0., 0.]])"
      ]
     },
     "execution_count": 37,
     "metadata": {},
     "output_type": "execute_result"
    }
   ],
   "source": [
    "images"
   ]
  },
  {
   "cell_type": "code",
   "execution_count": 4,
   "metadata": {},
   "outputs": [
    {
     "data": {
      "text/plain": [
       "torch.Size([254, 64])"
      ]
     },
     "execution_count": 4,
     "metadata": {},
     "output_type": "execute_result"
    }
   ],
   "source": [
    "org = [0]\n",
    "masks= []\n",
    "for i in org:\n",
    "    #print(i)\n",
    "    dup = 254 - i\n",
    "    mask_1 = torch.ones(i, 64) # .to(device='cuda')\n",
    "    mask_0 = torch.zeros(dup, 64) #.to(device='cuda')\n",
    "    mask = torch.cat((mask_1, mask_0), 0)\n",
    "    masks.append(mask)\n",
    "\n",
    "masks = torch.stack(masks)\n",
    "mask.shape"
   ]
  },
  {
   "cell_type": "code",
   "execution_count": 3,
   "metadata": {},
   "outputs": [],
   "source": [
    "n = np.zeros((1,112,112))"
   ]
  },
  {
   "cell_type": "code",
   "execution_count": 2,
   "metadata": {},
   "outputs": [],
   "source": [
    "images = []\n",
    "org_size = 150\n",
    "dup_len = 254 - org_size\n",
    "dup = np.zeros((1,112,112))\n",
    "for i in range(150):\n",
    "    images.append(dup)\n",
    "\n",
    "dup = images[-1]\n",
    "for i in range(dup_len):\n",
    "    images.append(dup)\n",
    "\n",
    "images = [torch.tensor(image, dtype=torch.float32) for image in images]\n",
    "images = torch.stack(images)"
   ]
  },
  {
   "cell_type": "code",
   "execution_count": 3,
   "metadata": {},
   "outputs": [
    {
     "data": {
      "text/plain": [
       "torch.Size([254, 1, 112, 112])"
      ]
     },
     "execution_count": 3,
     "metadata": {},
     "output_type": "execute_result"
    }
   ],
   "source": [
    "images.shape"
   ]
  },
  {
   "cell_type": "code",
   "execution_count": 4,
   "metadata": {},
   "outputs": [],
   "source": [
    "images = []\n",
    "dup = np.zeros((1,112,112))  #torch.zeros(1, 112, 112).numpy()\n",
    "\n",
    "for i in range(254):\n",
    "    images.append(dup)"
   ]
  },
  {
   "cell_type": "code",
   "execution_count": 11,
   "metadata": {},
   "outputs": [
    {
     "data": {
      "text/plain": [
       "254"
      ]
     },
     "execution_count": 11,
     "metadata": {},
     "output_type": "execute_result"
    }
   ],
   "source": [
    "len(images)\n",
    "\n",
    "#[tensor([0])]\n",
    "#feature shape torch.Size([1, 254, 1, 1, 112, 112])"
   ]
  },
  {
   "cell_type": "code",
   "execution_count": 5,
   "metadata": {},
   "outputs": [
    {
     "data": {
      "text/plain": [
       "torch.Size([254, 1, 112, 112])"
      ]
     },
     "execution_count": 5,
     "metadata": {},
     "output_type": "execute_result"
    }
   ],
   "source": [
    "images = [torch.tensor(image, dtype=torch.float32) for image in images]\n",
    "images = torch.stack(images)\n",
    "images.shape"
   ]
  },
  {
   "cell_type": "code",
   "execution_count": 4,
   "metadata": {
    "editable": true,
    "slideshow": {
     "slide_type": ""
    },
    "tags": []
   },
   "outputs": [
    {
     "data": {
      "text/plain": [
       "torch.Size([1, 254, 1, 112, 112])"
      ]
     },
     "execution_count": 4,
     "metadata": {},
     "output_type": "execute_result"
    }
   ],
   "source": [
    "data =[]\n",
    "data.append(images)\n",
    "data = torch.stack(data)\n",
    "data.shape"
   ]
  },
  {
   "cell_type": "code",
   "execution_count": 9,
   "metadata": {},
   "outputs": [
    {
     "data": {
      "text/plain": [
       "torch.Size([254, 1, 1, 112, 112])"
      ]
     },
     "execution_count": 9,
     "metadata": {},
     "output_type": "execute_result"
    }
   ],
   "source": [
    "data.transpose(1,0).shape"
   ]
  },
  {
   "cell_type": "code",
   "execution_count": 10,
   "metadata": {
    "editable": true,
    "slideshow": {
     "slide_type": ""
    },
    "tags": []
   },
   "outputs": [
    {
     "data": {
      "text/plain": [
       "torch.Size([1, 254, 1, 112, 112])"
      ]
     },
     "execution_count": 10,
     "metadata": {},
     "output_type": "execute_result"
    }
   ],
   "source": [
    "d =[]\n",
    "d.append(images)\n",
    "d = torch.stack(d)\n",
    "d.shape"
   ]
  },
  {
   "cell_type": "code",
   "execution_count": 11,
   "metadata": {},
   "outputs": [
    {
     "data": {
      "text/plain": [
       "torch.Size([254, 1, 1, 112, 112])"
      ]
     },
     "execution_count": 11,
     "metadata": {},
     "output_type": "execute_result"
    }
   ],
   "source": [
    "d.transpose(1,0).shape"
   ]
  },
  {
   "cell_type": "code",
   "execution_count": null,
   "metadata": {},
   "outputs": [],
   "source": []
  }
 ],
 "metadata": {
  "kernelspec": {
   "display_name": "Python 3 (ipykernel)",
   "language": "python",
   "name": "python3"
  },
  "language_info": {
   "codemirror_mode": {
    "name": "ipython",
    "version": 3
   },
   "file_extension": ".py",
   "mimetype": "text/x-python",
   "name": "python",
   "nbconvert_exporter": "python",
   "pygments_lexer": "ipython3",
   "version": "3.11.4"
  }
 },
 "nbformat": 4,
 "nbformat_minor": 4
}
